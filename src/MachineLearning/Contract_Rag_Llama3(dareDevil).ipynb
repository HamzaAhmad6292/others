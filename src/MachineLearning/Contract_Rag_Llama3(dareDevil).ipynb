{
  "cells": [
    {
      "cell_type": "code",
      "source": [
        "!pip install langchain\n",
        "!pip install accelerate\n",
        "!pip install langchain_core\n",
        "!pip install langchain_community\n",
        "!pip install pypdfium2\n",
        "!pip langchain-chroma"
      ],
      "metadata": {
        "id": "3RQAU4vPrZr_"
      },
      "execution_count": null,
      "outputs": []
    },
    {
      "cell_type": "code",
      "source": [
        "!CMAKE_ARGS=\"-DLLAMA_CUBLAS=on\" FORCE_CMAKE=1 pip install --upgrade --force-reinstall llama-cpp-python --no-cache-dir"
      ],
      "metadata": {
        "id": "DGy7aIWVmzCw",
        "colab": {
          "base_uri": "https://localhost:8080/"
        },
        "outputId": "f80f237f-f371-49e4-885b-db8666deea7b"
      },
      "execution_count": 10,
      "outputs": [
        {
          "output_type": "stream",
          "name": "stdout",
          "text": [
            "Collecting llama-cpp-python\n",
            "  Downloading llama_cpp_python-0.2.77.tar.gz (50.2 MB)\n",
            "\u001b[2K     \u001b[90m━━━━━━━━━━━━━━━━━━━━━━━━━━━━━━━━━━━━━━━━\u001b[0m \u001b[32m50.2/50.2 MB\u001b[0m \u001b[31m54.9 MB/s\u001b[0m eta \u001b[36m0:00:00\u001b[0m\n",
            "\u001b[?25h  Installing build dependencies ... \u001b[?25l\u001b[?25hdone\n",
            "  Getting requirements to build wheel ... \u001b[?25l\u001b[?25hdone\n",
            "  Installing backend dependencies ... \u001b[?25l\u001b[?25hdone\n",
            "  Preparing metadata (pyproject.toml) ... \u001b[?25l\u001b[?25hdone\n",
            "Collecting typing-extensions>=4.5.0 (from llama-cpp-python)\n",
            "  Downloading typing_extensions-4.12.2-py3-none-any.whl (37 kB)\n",
            "Collecting numpy>=1.20.0 (from llama-cpp-python)\n",
            "  Downloading numpy-1.26.4-cp310-cp310-manylinux_2_17_x86_64.manylinux2014_x86_64.whl (18.2 MB)\n",
            "\u001b[2K     \u001b[90m━━━━━━━━━━━━━━━━━━━━━━━━━━━━━━━━━━━━━━━━\u001b[0m \u001b[32m18.2/18.2 MB\u001b[0m \u001b[31m69.9 MB/s\u001b[0m eta \u001b[36m0:00:00\u001b[0m\n",
            "\u001b[?25hCollecting diskcache>=5.6.1 (from llama-cpp-python)\n",
            "  Downloading diskcache-5.6.3-py3-none-any.whl (45 kB)\n",
            "\u001b[2K     \u001b[90m━━━━━━━━━━━━━━━━━━━━━━━━━━━━━━━━━━━━━━━━\u001b[0m \u001b[32m45.5/45.5 kB\u001b[0m \u001b[31m128.2 MB/s\u001b[0m eta \u001b[36m0:00:00\u001b[0m\n",
            "\u001b[?25hCollecting jinja2>=2.11.3 (from llama-cpp-python)\n",
            "  Downloading jinja2-3.1.4-py3-none-any.whl (133 kB)\n",
            "\u001b[2K     \u001b[90m━━━━━━━━━━━━━━━━━━━━━━━━━━━━━━━━━━━━━━━━\u001b[0m \u001b[32m133.3/133.3 kB\u001b[0m \u001b[31m177.8 MB/s\u001b[0m eta \u001b[36m0:00:00\u001b[0m\n",
            "\u001b[?25hCollecting MarkupSafe>=2.0 (from jinja2>=2.11.3->llama-cpp-python)\n",
            "  Downloading MarkupSafe-2.1.5-cp310-cp310-manylinux_2_17_x86_64.manylinux2014_x86_64.whl (25 kB)\n",
            "Building wheels for collected packages: llama-cpp-python\n",
            "  Building wheel for llama-cpp-python (pyproject.toml) ... \u001b[?25l\u001b[?25hdone\n",
            "  Created wheel for llama-cpp-python: filename=llama_cpp_python-0.2.77-cp310-cp310-linux_x86_64.whl size=132172423 sha256=f711376a472c7df814751db8686a8faeb4cf70bb381761dd4322c772de6eaed9\n",
            "  Stored in directory: /tmp/pip-ephem-wheel-cache-2o0e5ukw/wheels/ed/55/a1/6d6c2ef6fed3ef054b4170d8bcd05a09e6dc971db7fad955ff\n",
            "Successfully built llama-cpp-python\n",
            "Installing collected packages: typing-extensions, numpy, MarkupSafe, diskcache, jinja2, llama-cpp-python\n",
            "  Attempting uninstall: typing-extensions\n",
            "    Found existing installation: typing_extensions 4.12.1\n",
            "    Uninstalling typing_extensions-4.12.1:\n",
            "      Successfully uninstalled typing_extensions-4.12.1\n",
            "  Attempting uninstall: numpy\n",
            "    Found existing installation: numpy 1.25.2\n",
            "    Uninstalling numpy-1.25.2:\n",
            "      Successfully uninstalled numpy-1.25.2\n",
            "  Attempting uninstall: MarkupSafe\n",
            "    Found existing installation: MarkupSafe 2.1.5\n",
            "    Uninstalling MarkupSafe-2.1.5:\n",
            "      Successfully uninstalled MarkupSafe-2.1.5\n",
            "  Attempting uninstall: jinja2\n",
            "    Found existing installation: Jinja2 3.1.4\n",
            "    Uninstalling Jinja2-3.1.4:\n",
            "      Successfully uninstalled Jinja2-3.1.4\n",
            "\u001b[31mERROR: pip's dependency resolver does not currently take into account all the packages that are installed. This behaviour is the source of the following dependency conflicts.\n",
            "spacy 3.7.4 requires typer<0.10.0,>=0.3.0, but you have typer 0.12.3 which is incompatible.\n",
            "weasel 0.3.4 requires typer<0.10.0,>=0.3.0, but you have typer 0.12.3 which is incompatible.\u001b[0m\u001b[31m\n",
            "\u001b[0mSuccessfully installed MarkupSafe-2.1.5 diskcache-5.6.3 jinja2-3.1.4 llama-cpp-python-0.2.77 numpy-1.26.4 typing-extensions-4.12.2\n"
          ]
        }
      ]
    },
    {
      "cell_type": "code",
      "source": [
        "! wget https://huggingface.co/QuantFactory/NeuralDaredevil-8B-abliterated-GGUF/resolve/main/NeuralDaredevil-8B-abliterated.Q8_0.gguf"
      ],
      "metadata": {
        "id": "4wtb0VporsJr",
        "colab": {
          "base_uri": "https://localhost:8080/"
        },
        "outputId": "0d5ea80d-4c38-450b-ced4-8b0cdbec2656"
      },
      "execution_count": 11,
      "outputs": [
        {
          "output_type": "stream",
          "name": "stdout",
          "text": [
            "--2024-06-10 14:31:23--  https://huggingface.co/QuantFactory/NeuralDaredevil-8B-abliterated-GGUF/resolve/main/NeuralDaredevil-8B-abliterated.Q8_0.gguf\n",
            "Resolving huggingface.co (huggingface.co)... 18.172.134.4, 18.172.134.24, 18.172.134.124, ...\n",
            "Connecting to huggingface.co (huggingface.co)|18.172.134.4|:443... connected.\n",
            "HTTP request sent, awaiting response... 302 Found\n",
            "Location: https://cdn-lfs-us-1.huggingface.co/repos/c2/48/c2486009cfa8837c276afdb3869be52923da1fb895409e3fc992544cac1b46e3/bfd63d210c889e48775341ba9fdb0a5ee02c1d1e7a0828697b9b4e1846c5b19f?response-content-disposition=inline%3B+filename*%3DUTF-8%27%27NeuralDaredevil-8B-abliterated.Q8_0.gguf%3B+filename%3D%22NeuralDaredevil-8B-abliterated.Q8_0.gguf%22%3B&Expires=1718289083&Policy=eyJTdGF0ZW1lbnQiOlt7IkNvbmRpdGlvbiI6eyJEYXRlTGVzc1RoYW4iOnsiQVdTOkVwb2NoVGltZSI6MTcxODI4OTA4M319LCJSZXNvdXJjZSI6Imh0dHBzOi8vY2RuLWxmcy11cy0xLmh1Z2dpbmdmYWNlLmNvL3JlcG9zL2MyLzQ4L2MyNDg2MDA5Y2ZhODgzN2MyNzZhZmRiMzg2OWJlNTI5MjNkYTFmYjg5NTQwOWUzZmM5OTI1NDRjYWMxYjQ2ZTMvYmZkNjNkMjEwYzg4OWU0ODc3NTM0MWJhOWZkYjBhNWVlMDJjMWQxZTdhMDgyODY5N2I5YjRlMTg0NmM1YjE5Zj9yZXNwb25zZS1jb250ZW50LWRpc3Bvc2l0aW9uPSoifV19&Signature=B1nkcktJjvI9oj%7EruhCDa%7EIEYDGJZJqKac6gMMTPwU1XJKbrc40k%7EkiuifDpQ6OU7NZbWXqsKIuuKgUmkmLjhD50JO5a3myUCHYrxgUycsSO2sbA8y48QCgXjGKNEmQhAPEkk5D47HMAI156NKIjVj4QCNRQwkVU744tKb97IvWXswSbAsp3dbGaT6IUjY3OP389%7EWHq2QI0v18eR4lqYHKYtnKdBJSvrsigg1EWpoc2e3E3K4S3ORm0vAuZaS%7E5WBnfdIT47uCY66vPZSSvK9eDD6Kae0ZcHT4UO-IPVn-DepMlDlR1NXUYOmEIFkUH0mk3FLhNU9gPvGdUwltyTQ__&Key-Pair-Id=KCD77M1F0VK2B [following]\n",
            "--2024-06-10 14:31:23--  https://cdn-lfs-us-1.huggingface.co/repos/c2/48/c2486009cfa8837c276afdb3869be52923da1fb895409e3fc992544cac1b46e3/bfd63d210c889e48775341ba9fdb0a5ee02c1d1e7a0828697b9b4e1846c5b19f?response-content-disposition=inline%3B+filename*%3DUTF-8%27%27NeuralDaredevil-8B-abliterated.Q8_0.gguf%3B+filename%3D%22NeuralDaredevil-8B-abliterated.Q8_0.gguf%22%3B&Expires=1718289083&Policy=eyJTdGF0ZW1lbnQiOlt7IkNvbmRpdGlvbiI6eyJEYXRlTGVzc1RoYW4iOnsiQVdTOkVwb2NoVGltZSI6MTcxODI4OTA4M319LCJSZXNvdXJjZSI6Imh0dHBzOi8vY2RuLWxmcy11cy0xLmh1Z2dpbmdmYWNlLmNvL3JlcG9zL2MyLzQ4L2MyNDg2MDA5Y2ZhODgzN2MyNzZhZmRiMzg2OWJlNTI5MjNkYTFmYjg5NTQwOWUzZmM5OTI1NDRjYWMxYjQ2ZTMvYmZkNjNkMjEwYzg4OWU0ODc3NTM0MWJhOWZkYjBhNWVlMDJjMWQxZTdhMDgyODY5N2I5YjRlMTg0NmM1YjE5Zj9yZXNwb25zZS1jb250ZW50LWRpc3Bvc2l0aW9uPSoifV19&Signature=B1nkcktJjvI9oj%7EruhCDa%7EIEYDGJZJqKac6gMMTPwU1XJKbrc40k%7EkiuifDpQ6OU7NZbWXqsKIuuKgUmkmLjhD50JO5a3myUCHYrxgUycsSO2sbA8y48QCgXjGKNEmQhAPEkk5D47HMAI156NKIjVj4QCNRQwkVU744tKb97IvWXswSbAsp3dbGaT6IUjY3OP389%7EWHq2QI0v18eR4lqYHKYtnKdBJSvrsigg1EWpoc2e3E3K4S3ORm0vAuZaS%7E5WBnfdIT47uCY66vPZSSvK9eDD6Kae0ZcHT4UO-IPVn-DepMlDlR1NXUYOmEIFkUH0mk3FLhNU9gPvGdUwltyTQ__&Key-Pair-Id=KCD77M1F0VK2B\n",
            "Resolving cdn-lfs-us-1.huggingface.co (cdn-lfs-us-1.huggingface.co)... 108.156.107.80, 108.156.107.44, 108.156.107.49, ...\n",
            "Connecting to cdn-lfs-us-1.huggingface.co (cdn-lfs-us-1.huggingface.co)|108.156.107.80|:443... connected.\n",
            "HTTP request sent, awaiting response... 200 OK\n",
            "Length: 8540770144 (8.0G) [binary/octet-stream]\n",
            "Saving to: ‘NeuralDaredevil-8B-abliterated.Q8_0.gguf’\n",
            "\n",
            "NeuralDaredevil-8B- 100%[===================>]   7.95G  33.8MB/s    in 2m 8s   \n",
            "\n",
            "2024-06-10 14:33:31 (63.5 MB/s) - ‘NeuralDaredevil-8B-abliterated.Q8_0.gguf’ saved [8540770144/8540770144]\n",
            "\n"
          ]
        }
      ]
    },
    {
      "cell_type": "code",
      "source": [
        "    !pip install sentence-transformers"
      ],
      "metadata": {
        "id": "DXyIp82MPh9d"
      },
      "execution_count": null,
      "outputs": []
    },
    {
      "cell_type": "code",
      "source": [
        "from langchain_community.document_loaders.pdf import PyPDFium2Loader as pdf\n",
        "\n",
        "loader = pdf(\"book2.pdf\")\n",
        "pages = loader.load()\n",
        "print(pages)\n",
        "\n",
        "\n",
        "text=\" \"\n",
        "for i in range(0,len(pages)):\n",
        "  text=text+pages[i].page_content"
      ],
      "metadata": {
        "id": "J1H5ts-HJc1Y"
      },
      "execution_count": 12,
      "outputs": []
    },
    {
      "cell_type": "code",
      "source": [
        "!pip install python-docx\n"
      ],
      "metadata": {
        "colab": {
          "base_uri": "https://localhost:8080/"
        },
        "id": "a2gPT5pdYH6l",
        "outputId": "a232d2d8-3e2d-43e8-f981-6a54f3e06e67"
      },
      "execution_count": 4,
      "outputs": [
        {
          "output_type": "stream",
          "name": "stdout",
          "text": [
            "Installing collected packages: python-docx\n",
            "Successfully installed python-docx-1.1.2\n"
          ]
        }
      ]
    },
    {
      "cell_type": "code",
      "source": [
        "from docx import Document\n",
        "\n",
        "def read_docx(file_path):\n",
        "    doc = Document(file_path)\n",
        "    full_text = []\n",
        "    for para in doc.paragraphs:\n",
        "        full_text.append(para.text)\n",
        "    return '\\n'.join(full_text)\n",
        "\n",
        "file_path = 'output.docx'\n",
        "text = read_docx(file_path)\n",
        "\n",
        "print(text)\n"
      ],
      "metadata": {
        "id": "1c4w67NzYIkM"
      },
      "execution_count": null,
      "outputs": []
    },
    {
      "cell_type": "code",
      "source": [
        "!pip install langchain-chroma"
      ],
      "metadata": {
        "id": "MhnLYFuxZBys"
      },
      "execution_count": null,
      "outputs": []
    },
    {
      "cell_type": "code",
      "source": [
        "#Text Splitter and Embeddings\n",
        "from langchain_chroma import Chroma\n",
        "from langchain_community.document_loaders import TextLoader\n",
        "from langchain_community.embeddings.sentence_transformer import (\n",
        "    SentenceTransformerEmbeddings,\n",
        ")\n",
        "from langchain_community.document_loaders.csv_loader import CSVLoader\n",
        "from langchain_text_splitters import CharacterTextSplitter\n",
        "import re\n",
        "import langchain\n",
        "from langchain.chains import ConversationChain\n",
        "from langchain.chains.conversation.memory import ConversationBufferMemory\n",
        "from langchain_text_splitters import SpacyTextSplitter\n",
        "\n",
        "\n",
        "def text_splitter_And_Similarity_Search(documents):\n",
        "\n",
        "\n",
        "\n",
        "    model_name=\"BAAI/bge-large-en-v1.5\"\n",
        "    model_kwargs = {\"device\": \"cpu\",\"trust_remote_code\":True}\n",
        "    encode_kwargs = {\"normalize_embeddings\": True}\n",
        "\n",
        "\n",
        "\n",
        "    # text_splitter = RecursiveCharacterTextSplitter(chunk_size=250,\n",
        "    #                                                    chunk_overlap=50)\n",
        "\n",
        "\n",
        "\n",
        "\n",
        "    embedding_function = SentenceTransformerEmbeddings(\n",
        "    model_name=model_name,\n",
        "    model_kwargs=model_kwargs,\n",
        "    encode_kwargs=encode_kwargs,\n",
        "    )\n",
        "\n",
        "    db = Chroma.from_documents(documents, embedding_function,persist_directory=\"./embeddings\" )\n",
        "\n",
        "\n",
        "    # embedding_function = SentenceTransformerEmbeddings(model_name=\"thenlper/gte-base\")\n",
        "    # db = Chroma.from_documents(documents, embedding_function )\n",
        "\n",
        "    return db,\n",
        "\n",
        "\n",
        "\n",
        "\n",
        "\n"
      ],
      "metadata": {
        "id": "KA7JQyTtJtE7"
      },
      "execution_count": 13,
      "outputs": []
    },
    {
      "cell_type": "code",
      "source": [
        "model_name=\"BAAI/bge-large-en-v1.5\"\n",
        "model_kwargs = {\"device\": \"cpu\",\"trust_remote_code\":True}\n",
        "encode_kwargs = {\"normalize_embeddings\": True}\n",
        "\n",
        "\n",
        "\n",
        "    # text_splitter = RecursiveCharacterTextSplitter(chunk_size=250,\n",
        "    #                                                    chunk_overlap=50)\n",
        "\n",
        "\n",
        "\n",
        "\n",
        "embedding_function = SentenceTransformerEmbeddings(\n",
        "model_name=model_name,\n",
        "model_kwargs=model_kwargs,\n",
        "encode_kwargs=encode_kwargs,\n",
        ")"
      ],
      "metadata": {
        "id": "5hnTTT9JVXo2"
      },
      "execution_count": 12,
      "outputs": []
    },
    {
      "cell_type": "code",
      "source": [
        "from langchain.text_splitter import RecursiveCharacterTextSplitter\n",
        "from langchain.docstore.document import Document\n",
        "\n",
        "def getDocs(text):\n",
        "  docs=Document(page_content=text,metadata={\"source\":\"book\"})\n",
        "  doc=[]\n",
        "  doc.append(docs)\n",
        "  text_splitter = RecursiveCharacterTextSplitter(chunk_size=1000,\n",
        "                                                       chunk_overlap=0)\n",
        "  documents = text_splitter.split_documents(doc)\n",
        "  return documents"
      ],
      "metadata": {
        "id": "kVmNAi-YJwRj"
      },
      "execution_count": 11,
      "outputs": []
    },
    {
      "cell_type": "code",
      "source": [
        "t=getDocs(text)"
      ],
      "metadata": {
        "id": "w8vlw8Ad5kM8"
      },
      "execution_count": 16,
      "outputs": []
    },
    {
      "cell_type": "code",
      "source": [
        "db=text_splitter_And_Similarity_Search(getDocs(text))"
      ],
      "metadata": {
        "id": "beEKlLbUJzGi"
      },
      "execution_count": 15,
      "outputs": []
    },
    {
      "cell_type": "code",
      "source": [
        "from transformers import AutoTokenizer, AutoModelForCausalLM\n",
        "\n",
        "def check_token_limit(new_documents):\n",
        "  tokenizer = AutoTokenizer.from_pretrained(\"mlabonne/NeuralDaredevil-8B-abliterated\")\n",
        "  tokens=tokenizer(new_documents)\n",
        "  n_tokens=len(tokens.input_ids)\n",
        "  return n_tokens"
      ],
      "metadata": {
        "id": "9UFKACtBK1vZ"
      },
      "execution_count": 8,
      "outputs": []
    },
    {
      "cell_type": "code",
      "source": [
        "vectordb = Chroma(persist_directory=\"embeddings\",embedding_function=embedding_function)\n",
        "vectordb"
      ],
      "metadata": {
        "colab": {
          "base_uri": "https://localhost:8080/"
        },
        "id": "LvIZTI-QUbKT",
        "outputId": "0793669a-ad52-4340-a197-bcd4a0bbb807"
      },
      "execution_count": 17,
      "outputs": [
        {
          "output_type": "execute_result",
          "data": {
            "text/plain": [
              "<langchain_chroma.vectorstores.Chroma at 0x7e46a8571cc0>"
            ]
          },
          "metadata": {},
          "execution_count": 17
        }
      ]
    },
    {
      "cell_type": "code",
      "source": [],
      "metadata": {
        "id": "AAcf2sID3aQk"
      },
      "execution_count": null,
      "outputs": []
    },
    {
      "cell_type": "code",
      "source": [
        "vectordb._collection.delete(ids=[ids[-1]])"
      ],
      "metadata": {
        "colab": {
          "base_uri": "https://localhost:8080/",
          "height": 141
        },
        "id": "RoQmS73sWcsk",
        "outputId": "194db89c-b65e-4683-9d98-2474579ebadd"
      },
      "execution_count": 14,
      "outputs": [
        {
          "output_type": "error",
          "ename": "NameError",
          "evalue": "name 'vectordb' is not defined",
          "traceback": [
            "\u001b[0;31m---------------------------------------------------------------------------\u001b[0m",
            "\u001b[0;31mNameError\u001b[0m                                 Traceback (most recent call last)",
            "\u001b[0;32m<ipython-input-14-5779f9a07551>\u001b[0m in \u001b[0;36m<cell line: 1>\u001b[0;34m()\u001b[0m\n\u001b[0;32m----> 1\u001b[0;31m \u001b[0mvectordb\u001b[0m\u001b[0;34m.\u001b[0m\u001b[0m_collection\u001b[0m\u001b[0;34m.\u001b[0m\u001b[0mdelete\u001b[0m\u001b[0;34m(\u001b[0m\u001b[0mids\u001b[0m\u001b[0;34m=\u001b[0m\u001b[0;34m[\u001b[0m\u001b[0mids\u001b[0m\u001b[0;34m[\u001b[0m\u001b[0;34m-\u001b[0m\u001b[0;36m1\u001b[0m\u001b[0;34m]\u001b[0m\u001b[0;34m]\u001b[0m\u001b[0;34m)\u001b[0m\u001b[0;34m\u001b[0m\u001b[0;34m\u001b[0m\u001b[0m\n\u001b[0m",
            "\u001b[0;31mNameError\u001b[0m: name 'vectordb' is not defined"
          ]
        }
      ]
    },
    {
      "cell_type": "code",
      "source": [
        "db"
      ],
      "metadata": {
        "colab": {
          "base_uri": "https://localhost:8080/"
        },
        "id": "TJQhDXobWcpx",
        "outputId": "1324a258-481f-4820-d621-993df6a525d1"
      },
      "execution_count": null,
      "outputs": [
        {
          "output_type": "execute_result",
          "data": {
            "text/plain": [
              "(<langchain_chroma.vectorstores.Chroma at 0x78dd27c573a0>,)"
            ]
          },
          "metadata": {},
          "execution_count": 27
        }
      ]
    },
    {
      "cell_type": "code",
      "source": [
        "k=100\n",
        "def search(prompt):\n",
        "  docs = vectordb.similarity_search_with_score(query=prompt,k=k)\n",
        "  print(\"Documents:\")\n",
        "  print(len(docs))\n",
        "  print(\"::Documents\")\n",
        "  new_documents=\" \"\n",
        "  for i in range(0,len(docs)):\n",
        "    temp_doc=docs[i][0].page_content\n",
        "    print(\"Chunk : : \\n : \"+ temp_doc)\n",
        "    check_doc=new_documents+temp_doc\n",
        "    tokens=check_token_limit(check_doc)\n",
        "    if tokens>650:\n",
        "      doc=temp_doc\n",
        "      for x in range(0,5):\n",
        "        doc= doc[:len(doc) // 2]\n",
        "        temp_tokens=check_token_limit(doc+new_documents)\n",
        "        if temp_tokens<=600:\n",
        "          new_documents =new_documents+doc + \"\\n\\n\\n\"\n",
        "          break\n",
        "\n",
        "\n",
        "      print(tokens)\n",
        "      return new_documents\n",
        "    else:\n",
        "      new_documents=check_doc + \"\\n\\n\\n\"\n",
        "\n",
        "  print(tokens)\n",
        "  return new_documents"
      ],
      "metadata": {
        "id": "iNX7jwjkJ25X"
      },
      "execution_count": 44,
      "outputs": []
    },
    {
      "cell_type": "code",
      "source": [],
      "metadata": {
        "id": "1e7KDz-vKAXR"
      },
      "execution_count": null,
      "outputs": []
    },
    {
      "cell_type": "code",
      "source": [
        "from langchain_community.llms import LlamaCpp\n",
        "from langchain_core.callbacks import CallbackManager, StreamingStdOutCallbackHandler\n",
        "from langchain_core.prompts import PromptTemplate\n",
        "\n",
        "\n",
        "callback_manager = CallbackManager([StreamingStdOutCallbackHandler()])"
      ],
      "metadata": {
        "id": "OPVKuM-5l9WY"
      },
      "execution_count": 19,
      "outputs": []
    },
    {
      "cell_type": "code",
      "source": [
        "n_gpu_layers = -1\n",
        "n_batch = 4096  # Adjust the batch size to a smaller value\n",
        "\n",
        "llm = LlamaCpp(\n",
        "    model_path=\"/content/NeuralDaredevil-8B-abliterated.Q8_0.gguf\",\n",
        "    n_gpu_layers=n_gpu_layers,\n",
        "    n_batch=n_batch,\n",
        "    callback_manager=callback_manager,\n",
        "    verbose=True,\n",
        "    n_ctx=4096,\n",
        "    # n_tokens=3000,\n",
        "    # n_ubatch=3000,\n",
        ")\n"
      ],
      "metadata": {
        "colab": {
          "base_uri": "https://localhost:8080/"
        },
        "id": "xyKYf9lEP372",
        "outputId": "6456da2c-5207-4027-cf30-1a45d26b7bd8"
      },
      "execution_count": 20,
      "outputs": [
        {
          "output_type": "stream",
          "name": "stderr",
          "text": [
            "llama_model_loader: loaded meta data with 21 key-value pairs and 291 tensors from /content/NeuralDaredevil-8B-abliterated.Q8_0.gguf (version GGUF V3 (latest))\n",
            "llama_model_loader: Dumping metadata keys/values. Note: KV overrides do not apply in this output.\n",
            "llama_model_loader: - kv   0:                       general.architecture str              = llama\n",
            "llama_model_loader: - kv   1:                               general.name str              = models\n",
            "llama_model_loader: - kv   2:                          llama.block_count u32              = 32\n",
            "llama_model_loader: - kv   3:                       llama.context_length u32              = 8192\n",
            "llama_model_loader: - kv   4:                     llama.embedding_length u32              = 4096\n",
            "llama_model_loader: - kv   5:                  llama.feed_forward_length u32              = 14336\n",
            "llama_model_loader: - kv   6:                 llama.attention.head_count u32              = 32\n",
            "llama_model_loader: - kv   7:              llama.attention.head_count_kv u32              = 8\n",
            "llama_model_loader: - kv   8:                       llama.rope.freq_base f32              = 500000.000000\n",
            "llama_model_loader: - kv   9:     llama.attention.layer_norm_rms_epsilon f32              = 0.000010\n",
            "llama_model_loader: - kv  10:                          general.file_type u32              = 7\n",
            "llama_model_loader: - kv  11:                           llama.vocab_size u32              = 128256\n",
            "llama_model_loader: - kv  12:                 llama.rope.dimension_count u32              = 128\n",
            "llama_model_loader: - kv  13:                       tokenizer.ggml.model str              = gpt2\n",
            "llama_model_loader: - kv  14:                         tokenizer.ggml.pre str              = llama-bpe\n",
            "llama_model_loader: - kv  15:                      tokenizer.ggml.tokens arr[str,128256]  = [\"!\", \"\\\"\", \"#\", \"$\", \"%\", \"&\", \"'\", ...\n",
            "llama_model_loader: - kv  16:                  tokenizer.ggml.token_type arr[i32,128256]  = [1, 1, 1, 1, 1, 1, 1, 1, 1, 1, 1, 1, ...\n",
            "llama_model_loader: - kv  17:                      tokenizer.ggml.merges arr[str,280147]  = [\"Ġ Ġ\", \"Ġ ĠĠĠ\", \"ĠĠ ĠĠ\", \"...\n",
            "llama_model_loader: - kv  18:                tokenizer.ggml.bos_token_id u32              = 128000\n",
            "llama_model_loader: - kv  19:                tokenizer.ggml.eos_token_id u32              = 128001\n",
            "llama_model_loader: - kv  20:               general.quantization_version u32              = 2\n",
            "llama_model_loader: - type  f32:   65 tensors\n",
            "llama_model_loader: - type q8_0:  226 tensors\n",
            "llm_load_vocab: special tokens cache size = 256\n",
            "llm_load_vocab: token to piece cache size = 0.8000 MB\n",
            "llm_load_print_meta: format           = GGUF V3 (latest)\n",
            "llm_load_print_meta: arch             = llama\n",
            "llm_load_print_meta: vocab type       = BPE\n",
            "llm_load_print_meta: n_vocab          = 128256\n",
            "llm_load_print_meta: n_merges         = 280147\n",
            "llm_load_print_meta: n_ctx_train      = 8192\n",
            "llm_load_print_meta: n_embd           = 4096\n",
            "llm_load_print_meta: n_head           = 32\n",
            "llm_load_print_meta: n_head_kv        = 8\n",
            "llm_load_print_meta: n_layer          = 32\n",
            "llm_load_print_meta: n_rot            = 128\n",
            "llm_load_print_meta: n_embd_head_k    = 128\n",
            "llm_load_print_meta: n_embd_head_v    = 128\n",
            "llm_load_print_meta: n_gqa            = 4\n",
            "llm_load_print_meta: n_embd_k_gqa     = 1024\n",
            "llm_load_print_meta: n_embd_v_gqa     = 1024\n",
            "llm_load_print_meta: f_norm_eps       = 0.0e+00\n",
            "llm_load_print_meta: f_norm_rms_eps   = 1.0e-05\n",
            "llm_load_print_meta: f_clamp_kqv      = 0.0e+00\n",
            "llm_load_print_meta: f_max_alibi_bias = 0.0e+00\n",
            "llm_load_print_meta: f_logit_scale    = 0.0e+00\n",
            "llm_load_print_meta: n_ff             = 14336\n",
            "llm_load_print_meta: n_expert         = 0\n",
            "llm_load_print_meta: n_expert_used    = 0\n",
            "llm_load_print_meta: causal attn      = 1\n",
            "llm_load_print_meta: pooling type     = 0\n",
            "llm_load_print_meta: rope type        = 0\n",
            "llm_load_print_meta: rope scaling     = linear\n",
            "llm_load_print_meta: freq_base_train  = 500000.0\n",
            "llm_load_print_meta: freq_scale_train = 1\n",
            "llm_load_print_meta: n_yarn_orig_ctx  = 8192\n",
            "llm_load_print_meta: rope_finetuned   = unknown\n",
            "llm_load_print_meta: ssm_d_conv       = 0\n",
            "llm_load_print_meta: ssm_d_inner      = 0\n",
            "llm_load_print_meta: ssm_d_state      = 0\n",
            "llm_load_print_meta: ssm_dt_rank      = 0\n",
            "llm_load_print_meta: model type       = 8B\n",
            "llm_load_print_meta: model ftype      = Q8_0\n",
            "llm_load_print_meta: model params     = 8.03 B\n",
            "llm_load_print_meta: model size       = 7.95 GiB (8.50 BPW) \n",
            "llm_load_print_meta: general.name     = models\n",
            "llm_load_print_meta: BOS token        = 128000 '<|begin_of_text|>'\n",
            "llm_load_print_meta: EOS token        = 128001 '<|end_of_text|>'\n",
            "llm_load_print_meta: LF token         = 128 'Ä'\n",
            "llm_load_print_meta: EOT token        = 128009 '<|eot_id|>'\n",
            "ggml_cuda_init: GGML_CUDA_FORCE_MMQ:   no\n",
            "ggml_cuda_init: CUDA_USE_TENSOR_CORES: yes\n",
            "ggml_cuda_init: found 1 CUDA devices:\n",
            "  Device 0: Tesla T4, compute capability 7.5, VMM: yes\n",
            "llm_load_tensors: ggml ctx size =    0.30 MiB\n",
            "llm_load_tensors: offloading 32 repeating layers to GPU\n",
            "llm_load_tensors: offloading non-repeating layers to GPU\n",
            "llm_load_tensors: offloaded 33/33 layers to GPU\n",
            "llm_load_tensors:        CPU buffer size =   532.31 MiB\n",
            "llm_load_tensors:      CUDA0 buffer size =  7605.33 MiB\n",
            ".........................................................................................\n",
            "llama_new_context_with_model: n_ctx      = 4096\n",
            "llama_new_context_with_model: n_batch    = 4096\n",
            "llama_new_context_with_model: n_ubatch   = 512\n",
            "llama_new_context_with_model: flash_attn = 0\n",
            "llama_new_context_with_model: freq_base  = 10000.0\n",
            "llama_new_context_with_model: freq_scale = 1\n",
            "llama_kv_cache_init:      CUDA0 KV buffer size =   512.00 MiB\n",
            "llama_new_context_with_model: KV self size  =  512.00 MiB, K (f16):  256.00 MiB, V (f16):  256.00 MiB\n",
            "llama_new_context_with_model:  CUDA_Host  output buffer size =     0.49 MiB\n",
            "llama_new_context_with_model:      CUDA0 compute buffer size =   296.00 MiB\n",
            "llama_new_context_with_model:  CUDA_Host compute buffer size =    16.01 MiB\n",
            "llama_new_context_with_model: graph nodes  = 1030\n",
            "llama_new_context_with_model: graph splits = 2\n",
            "AVX = 1 | AVX_VNNI = 0 | AVX2 = 1 | AVX512 = 0 | AVX512_VBMI = 0 | AVX512_VNNI = 0 | AVX512_BF16 = 0 | FMA = 1 | NEON = 0 | SVE = 0 | ARM_FMA = 0 | F16C = 1 | FP16_VA = 0 | WASM_SIMD = 0 | BLAS = 1 | SSE3 = 1 | SSSE3 = 1 | VSX = 0 | MATMUL_INT8 = 0 | LLAMAFILE = 1 | \n",
            "Model metadata: {'tokenizer.ggml.eos_token_id': '128001', 'general.quantization_version': '2', 'tokenizer.ggml.model': 'gpt2', 'general.architecture': 'llama', 'llama.rope.freq_base': '500000.000000', 'tokenizer.ggml.pre': 'llama-bpe', 'llama.context_length': '8192', 'general.name': 'models', 'llama.embedding_length': '4096', 'llama.feed_forward_length': '14336', 'llama.attention.layer_norm_rms_epsilon': '0.000010', 'tokenizer.ggml.bos_token_id': '128000', 'llama.attention.head_count': '32', 'llama.block_count': '32', 'llama.attention.head_count_kv': '8', 'general.file_type': '7', 'llama.vocab_size': '128256', 'llama.rope.dimension_count': '128'}\n",
            "Using fallback chat format: llama-2\n"
          ]
        }
      ]
    },
    {
      "cell_type": "markdown",
      "source": [],
      "metadata": {
        "id": "qNX6WrnBEnQr"
      }
    },
    {
      "cell_type": "code",
      "source": [
        "# # llm_chain = prompt | llm\n",
        "# question = \"Who is the prime minister of Pakistan?\"\n",
        "# llm_chain.invoke({\"question\": question})"
      ],
      "metadata": {
        "id": "286c4yyJreZY"
      },
      "execution_count": null,
      "outputs": []
    },
    {
      "cell_type": "code",
      "source": [],
      "metadata": {
        "id": "CHiNraJg8NLI"
      },
      "execution_count": null,
      "outputs": []
    },
    {
      "cell_type": "code",
      "source": [
        "\n",
        "# check_doc= check_doc[:len(check_doc) // 2]\n",
        "# # print(len(new_documents))\n",
        "# new_documents = new_documents[:len(new_documents) // 2]\n"
      ],
      "metadata": {
        "colab": {
          "base_uri": "https://localhost:8080/"
        },
        "id": "q7yWkt1Hx2Q0",
        "outputId": "013cc4bd-c72b-4bd5-8f1c-5cce50b9157a"
      },
      "execution_count": null,
      "outputs": [
        {
          "output_type": "stream",
          "name": "stdout",
          "text": [
            "directly or indirectly CONTROLS the CONTRACTOR (including any intermediate or ultimate parent \\ncompany) . \\n Without prejudice to the CONTRACTOR ’s other rights or remedies, the CONTRACTOR may terminate \\nthe AGREEMENT in the circumstances described in Articles  23.7(a)(ii)(B) .    \\nADNOC -CICV -505A(v 6) 84 insert the reference numbe r \\n ADNOC Classification: Need -To-Know  \\n The AGREEMENT may not be terminated or otherwise ended by either PARTY on any ground, or for \\nany reason, except as set forth in the AGREEMENT.  The PARTIES hereby expressly exclude, to the \\nfullest extent permitted by LAW, the application of Articles  267 through 275 of the CIVIL CODE as \\nwell as Articles  877, 886 and 892 through 896 of the CIVIL CODE.  For the avoidance of doubt, except \\nas set forth in the AGREEMENT, the PARTIES hereby expressly exclude any requirements of notice, \\nproportionality, or of the need to have recourse to a court or tribunal that may be provided for in the \\nCIVIL CODE.CODE. In the event of suspension of the whole or part of the AGREEMENT, the PARTIES shall not be \\nrelieved of any continuing obligations or liabilities under the provisions of the AGREEMENT.  \\n35. TERMINATION  \\n The COMPANY may terminate the AGREEMENT for convenience upon providing the \\nCONTRACTOR with not less than thirty (30) DAYS ’ written notice. Unless otherwise instructed by the \\nCOMPANY on or after issuing the termination notice, the CONTRACTOR shall not commence any new \\nactivities related to the execution of the WORKS, such as undertaking new work or placing new orders, \\nto ensure prompt and effi cient compliance with the requirements set out in Article  36 upon termination.  \\nThe COMPANY may thereafter, at its absolute discretion, complete the uncompleted part of the WORKS \\nitself or by engaging one or more THIRD PARTIES.  \\n Either PARTY may terminate the AGREEMENT with immediate effect by written notice to the otherREADY FOR START -UP within twelve (12) months of the applicable \\nREADY FOR START -UP DATE; or  \\n PROVISIONAL ACCEPTANCE within twelve (12) months of the \\nPROVISIONAL ACCEPTANCE DATE,  \\nother than where such failure is due to the suspension of the WORKS by the \\nCOMPANY pursuant to Article  34.1; or \\n(iv) the CONTRACTOR ’s breach of a material obligation under the AGREEMENT other \\nthan the breaches listed in Articles  35.3(a)  and 35.3(b)(i)  to 35.3(b)(iii) . \\n The COMPANY may terminate the AGREEMENT with immediate effect by written notice to the \\nCONTRACTOR in the circumstances described in Article  33.2(e)(iii)  and 40.7(b) . \\n The COMPANY shall be entitled to terminate the AGREEMENT with immediate effect by written notice \\nto the CONTRACTOR if , without the COMPANY’s prior written consent having been given,  there is a \\nchange of CONTROL of the CONTRACTOR and/or the change of CONTROL of any PERSON thatCONTRACTOR receives payment of the outstanding undisputed amount due \\nto the CONTRACTOR or such other amount that may be agreed be tween the \\nPARTIES.  The CONTRACTOR ’s suspension of the WORKS in accordance \\nwith this Article  23.7(a)(i)  shall not prejudice its entitlement to terminate the \\nAGREEMENT pursuant to Article  23.7(a)(ii) ; and  \\n(ii) within one hundred and twenty (120) DAYS of the expiry of the time period specified \\nin Articles  23.2(b) , 23.3(c)  or 23.3(d) , the CONTRACTOR may:  \\n notify the COMPANY in writing of its intention to terminate the \\nAGREEMENT if such payment is not made within fourteen (14) DAYS from \\nthe date of receipt of the notice by the COMPANY; and  \\n following expiry of the fourteen (14) DAY period specified in \\nArticle  23.7(a)(ii)(A) , the CONTRACTOR may terminate the \\nAGREEMENT by written notice to the COMPANY, provided that the \\nmajority of the outstanding undisputed amount (or such other amount agreedCIVIL CODE.  \\n36. EFFECTS, RIGHTS AND OBLIGATIONS ON EXPIRY OR TERMINATION  \\n With effect from the expiry or termination of the AGREEMENT, the CONTRACTOR shall, subject to \\nArticle  36.5: \\n immediately discontinue the performance of the WORKS and vacate the SITE, and ensure that \\nits CONTRACTOR PERSONNEL, SUBCONTRACTORS and/or VENDORS vacate the \\nSITE;  \\n cause to be delivered to the COMPANY:  \\n(i) all materials provided to the CONTRACTOR by the COMPANY which relate to the \\nWORKS; and  \\n(ii) the WORKS DOCUMENTATION (whether in the course of preparation or \\ncompleted) and any COMPANY CONSTRUCTION EQUIPMENT in the \\nCONTRACTOR ’s guardianship or control  in the same condition as when the \\nCONTRACTOR received them (fair wear and tear excepted) ; \\n destroy or have destroyed any copies and reproductions of materials and WORKS \\nDOCUMENTATION referred to in Article  36.1(b) ; \\n perform (or procure the performance of) all further acts and things necessary to ensure that thePARTY if an INSOLVENCY EVENT occurs in relation to the other PARTY or any PERSON who \\nCONTROLS such PARTY (or, if the CONTRACTOR constitutes a JOINT VENTURE, in re lation to a \\nCONTRACTOR MEMBER or any PERSON who CONTROLS such CONTRACTOR MEMBER).   \\nADNOC -CICV -505A(v 6) 83 insert the reference numbe r \\n ADNOC Classification: Need -To-Know  \\n Without prejudice to Article  35.1 and the COMPANY ’s other rights or remedies under the \\nAGREEMENT, the COMPANY shall be entitled to terminate all or a part of the AGREEMENT by \\nwritten notice to the CONTRACTOR:  \\n with immediate effect, if:  \\n(i) the CONTRACTOR has assigned, transferred, charged or otherwise encumbered any \\nof its rights, obligations, interests or benefits arising under the AGREEMENT (or \\npurports to do any of the foregoing) otherwise than in accordance with the \\nAGREEMENT;  \\n(ii) the CONTRACTOR fails to achieve any of the PERFORMANCE GUARANTEES \\nduring the PERFORMANCE TESTS on three (3) occasions and Article  16.3(d)ADNOC Classification: Need -To-Know  \\nCOMPANY, of all contracts and orders not vested or required to be vested in the COMPANY \\npursuant to Article  36.1(f) ; and  \\n make every reasonable effort to minimise and mitigate costs incurred as a result of the \\ntermination.  \\n If all or a part of the AGREEMENT is terminated by the COMPANY pursuant to Articles  35.2 or 35.3, \\nthe COMPANY:  \\n shall pay the CONTRACTOR for the portion of the WORKS performed and completed prior to \\nthe date of termination, provided that the COMPANY shall not be liable to make any payments \\nto the CONTRACTOR after termination until all costs, losses and damages of th e kind referred \\nto in Article  36.2(b)  have been ascertained; and  \\n may recover from the CONTRACTOR any losses and damages incurred by the COMPANY \\narising out of or in connection with the termination, including the COST TO COMPLETE, \\nprovided that:  \\n(i) the COMPANY shall not be required to obtain competitive tenders for the COST TOthe change of CONTROL of any PERSON that directly or indirectly CONTROLS the CONTRACTOR \\n(including any intermediate or ultimate parent company) to any PERSON promptly upon t he \\nCONTRACTOR becoming aware of such change in CONTROL.  \\n Where the COMPANY has not given its prior written consent to such change of CONTROL, any  change \\nof CONTROL of the CONTRACTOR and/or the change of CONTROL of any PERSON that directly or \\nindirectly CONTROLS the CONTRACTOR  shall entitle the  COMPANY to terminate  the \\nAGREEMENT in accordance with Article  35.5. \\n45. SURVIVABILITY  \\nThe accrued obligations and liabilities of the PARTIES shall survive the expiry or termination of the \\nAGREEMENT and the provisions of Articles  1, 2.3, 4.3(e) , 4.4(h) , 18, 20.6, 23, 26, 27, 28, 30, 31, 32, \\n36, 37, 38, 41.6, 41.16(d) , 42, 43, 45 and 46 shall survive any expiry or termination of the \\nAGREEMENT.  The provisions of Article  42 shall survive for five (5) years from the date of expiry orGUARANTEE to the COMPANY, and the COMPANY, has the right at any time, without any \\nliability whatsoever, to suspend the perfo rmance of the WORKS without prior notification or \\nto terminate the  AGREEMENT pursuant to Article  35.3(b)(iv) .    \\nADNOC -CICV -505A(v 6) 76 insert the reference numbe r \\n ADNOC Classification: Need -To-Know  \\n If, at any time during the term of the AGREEMENT, it is determined by the COMPANY that \\nthe PARENT COMPANY GUARANTEE is not enforceable or if its effectiveness has been \\nsubstantially altered in any way, the COMPANY is entitled to suspend any payments to the \\nCONTRACTOR until the CONTRACTOR has provided the COMPANY with a new and valid \\nand enforceable PARENT COMPANY GUARANTEE in the terms and form set out in \\nANNEXURE  8 and issued and maintained by any of the CONTRACTOR ’s AFFILIATES with \\nsufficient financial  standing and operational capacity (material means and personnel) to fulfilsubject to Article  36.4, the CONTRACTOR ’s proven costs incurred in relation to any of the \\nfollowing, provided that such costs were not already recovered by the CONTRACTOR prior to \\ntermination:  \\n(i) demobilisation of the CONTRACTOR PERSONNEL, MATERIALS and \\nCONSTRUCTION EQUIPMENT;  \\n(ii) works and services already commenced by the CONTRACTOR, \\nSUBCONTRACTORS or VENDORS, for which cancellation cannot be made or can \\nbe made upon payment of cancellation fees, against documented proof; and  \\n(iii) cancellation fees for cancellation of subcontracts with SUBCONTRACTORS and \\nVENDORS (excluding, in each case, AFFILIATES of the CONTRACTOR),  \\nhowever, the CONTRACTOR shall not be entitled to reimbursement of any loss or alleged loss \\nof overheads, profit, business or opportunity or to further financial recovery as a result of the \\ntermination . \\n If the AGREEMENT is terminated by the COMPANY pursuant to Article s 35.4 or 35.5, the COMPANYIf the COMPANY does not so require the CONTRACTOR to rectify any loss or damage to the \\nWORKS by way of written notification, the COMPANY shall:  \\n(i) issue a COMPANY VARIATION REQUEST in accordance with Article  24.2 \\nomitting the performance of that part of the WORKS thereby lost, destroyed or \\ndamaged;  \\n(ii) where the loss or damage affects a substantial part of the WORKS, terminate the \\nCONTRACTOR ’s engagement pursuant to Article  35.1; or \\n(iii) if applicable, terminate the AGREEMENT pursuant to Article  35.4. \\n34. SUSPENSION  \\n COMPANY ’S RIGHT TO SUSPEND FOR CONVENIENCE  \\nThe COMPANY shall have the right at any time, at its sole discretion and without cause, to suit the \\nconvenience of the COMPANY to suspend the performance of all or any part of the WORKS with \\nimmediate effect by providing notice in writing to the CONTRACTOR .  \\n SUSPENSION FOR CONTRACTOR ’S MATERIAL BREACH  \\nWithout prejudice to Article  34.1, if the CONTRACTOR commits a material breach of any of itsADNOC Classification: Need -To-Know  \\n If any FORCE MAJEURE EVENT prevents or delays the performance of obligations under the \\nAGREEMENT for a continuous period in excess of sixty (60) consecutive DAYS or for one hundred \\nand eighty (180) DAYS in aggregate, the COMPANY shall either:  \\n suspend all or any part of the performance of the WORKS in accordance with Article  34.3; \\nand/or  \\n without prejudice to Article  40.7(a) , terminate the AGREEMENT in accordance with \\nArticle  35.4. \\n At any time during a suspension in accordance with Article  40.7(a) , the COMPANY shall have the right \\nto terminate the AGREEMENT in accordance with Article  40.7(b) . \\n41. INSURANCE  \\n In the event any CONTRACTOR PERSONNEL are performing WORKS in the UAE, without limitation \\nto its obligations and responsibilities, the CONTRACTOR shall obtain and maintain Workmen ’s \\nCompensation Insurance (Employer ’s Liability) with a limit of liability of not less than USD 1,000,000 \\nper occurrence.if the WORKS are suspended in accordance with Article  34.4, the COMPANY shall not be \\nliable for any costs arising from or in relation to such suspension period . \\nIn accordance with Articles  34.6(a) , 34.6(c)  and 34.6(d) , any payments due to the CONTRACTOR shall \\nbe made only after submission to the COMPANY by the CONTRACTOR of detailed INVOICES in \\naccordance with Article  23.2. \\n PERIOD OF SUSPENSION  \\n Any suspension in accordance with this Article  34 shall remain in place until the earlier of the \\nfollowing occurrences:  \\n(i) the COMPANY ends such suspension by providing written notice to the \\nCONTRACTOR in accordance with Article  34.7(b)  requiring it to resume \\nperformance of all or part of the suspended WORKS; or  \\n(ii) the COMPANY makes payment of any properly invoiced and overdue undisputed \\namount , the delay in payment for which the CONTRACTOR became entitled to \\nsuspend the WORKS; or  \\n(iii) the COMPANY terminates the AGREEMENT in accordance with Article  35.all of the CONTRACTOR ’s obligations and liabilities under the AGREEMENT.  \\n The CONTRACTOR shall ensure that:  \\n(i) the PARENT COMPANY GUARANTEE remains valid and in force until such time \\nas the CONTRACTOR has satisfied in full all of its obligations under and in \\nconnection with the AGREEMENT, notwithstanding the expiry or termination of the \\nAGREEMENT; and  \\n(ii) if the PARENT COMPANY GUARANTEE is or becomes invalid or unenforceable \\nfor any reason, the CONTRACTOR shall immediately deliver to the COMPANY a \\nvalid and enforceable replacement PARENT COMPANY GUARANTEE in favour of \\nthe COMPANY or such other security as t he COMPANY may, in its sole discretion, \\ndetermine.  \\n31. INTELLECTUAL PROPERTY RIGHTS & WORKS DOCUMENTATION  \\n Each PARTY shall retain ownership of their PRE -EXISTING INTELLECTUAL PROPERTY and:  \\n the COMPANY shall, at the CONTRACTOR ’s request and subject to any THIRD PARTY \\nrights and restrictions, grant the CONTRACTOR a limited, royalty free, revocable, non -CONTRACTOR under this Article  47 is prejudicial to the COMPANY ’s interest, the COMPANY shall \\ninstruct the CONTRACTOR in writing to take steps to terminate such BUSINESS VENTURE, and the \\nCONTRACTOR shall comply with the COMPANY ’s instruction.  \\n48. ENTIRE AGREEMENT  \\nThe AGREEMENT constitutes the entire agreement between the PARTIES concerning the subject \\nmatter of the AGREEMENT and supersedes and, subject to Article  3.2, replaces any previous \\nagreements between the PARTIES or any representation made by one PARTY to the other PARTY \\n(whether oral or written) concerning the subject matter of the AGREEMENT.  To the extent permitted \\nby LAW, the PARTIES shall not be bound by o r be liable for any statement, representation, promise, \\ninducement or understanding of any kind or nature not set forth herein, provided that nothing in this \\nArticle  48 shall limit a PARTY ’s liability for fraud.   \\n49. REPRESENTATIONS AS TO NO PAYMENTS, GIFTS AND LOANSrights or remedies provided by LAW.  \\n The right of a PARTY to terminate, rescind or agree to any VARIATION or waiver or settlement under \\nthe AGREEMENT is not subject to the consent of any THIRD PARTY.  \\n Any provision in the AGREEMENT which is illegal, void or unenforceable will be ineffective to the \\nextent only of such illegality, voidness or unenforceability and such illegality, voidness or \\nunenforceability will not invalidate any other provision of the AGREEMENT. If one PARTY gives \\nnotice to the other PARTY of the possibility that any provision or part -provision of the AGREEMENT \\nis illegal, invalid or unenforceable, the PARTIES shall within fourteen  (14) DAYS negotiate in good \\nfaith to amend such provisi on so that, as amended, it is legal, valid and enforceable, and, to the greatest \\nextent possible, achieves the intended commercial result of the original provision.  \\n The AGREEMENT may be executed in any number of counterparts, each of which, when executed, shallthe term of their employment on or in connection with the WORKS, pay due regard to all \\nrecognised festivals, official holidays and religious or other holidays or customs in t he UAE.  \\n The CONTRACTOR, upon written request by the COMPANY and at the CONTRACTOR ’s \\nown cost, shall promptly remove from the SITE and/or from the performance of the WORKS, \\nany of the CONTRACTOR PERSONNEL:  \\n(i) who, in the COMPANY ’s opinion:  \\n are uncooperative, negligent or careless;  \\n are unsuitable or unable to perform their obligations under the \\nAGREEMENT;  \\n have committed a serious and unsafe wilful act, an act of misconduct, an \\nunethical act or an act which would be subject to disciplinary action; or  \\n have failed to comply with the LAW or any provision of the AGREEMENT, \\nor \\n(ii) for any other reasonable cause not listed in Article  19.1(e)(i) . \\n Any CONTRACTOR PERSONNEL removed from the performance of the WORKS inallow the COMPANY or its nominee full right of access to the SITE to remove and/or take over \\nthe WORKS or such part thereof to which the termination relates, together with all \\nMATERIALS, supplies, facilities and CONSTRUCTION EQUIPMENT.  Thereafter, the \\nCOMPANY or any other retained THIRD PARTY may complete the WORKS or the relevant \\npart of the WORKS using such MATERIALS, supplies, facilities, and CONSTRUCTION \\nEQUIPMENT;  \\n assist the COMPANY in making an inventory of all MATERIALS and CONSTRUCTION \\nEQUIPMENT in storage or manufacture at the SITE or en route to the SITE or away from the \\nSITE (including at any CONTRACTOR SITE), as well as those which have been ordered from \\nSUBC ONTRACTORS or VENDORS;  \\n hand over control and custody of the SITE to the COMPANY or its nominee;  \\n promptly make every reasonable effort to obtain cancellation, upon terms satisfactory to the  \\nADNOC -CICV -505A(v 6) 85 insert the reference numbe r \\n ADNOC Classification: Need -To-Knowarising out of, or in connection with, the elimination of the part of the WORKS or the \\nexercise by the COMPANY of its rights pursuant to Article  24.6(c)(i)  or the \\ncorresponding adjustment(s) to the AGREEMENT PRICE, the WORK PROGRAM or \\nKEY MILESTONE DATES.  \\n Where an INSTRUCTION TO PROCEED or VARIATION ORDER eliminates a portion of the \\nWORKS and the AGREEMENT PRICE is to be reduced in proportion to the reduction in the \\nWORKS, the CONTRACTOR shall be entitled to be paid:  \\n(i) any verified termination costs that have been incurred by the CONTRACTOR in \\nterminating any subcontracts or cancelling any LLI SUPPLY AGREEMENTS; and  \\n(ii) where the WORKS are reduced by more than twenty percent (20%) of the original \\nWORKS, its demobilisation costs, at the rate(s) specified in ANNEXURE  5, and if no \\nrates are specified in ANNEXURE  5, at rates to be agreed between the PARTIES.  \\n NO ENTITLEMENT  \\n The CONTRACTOR shall not be entitled to any adjustments to the AGREEMENT PRICEeliminate the insurance obligations or vice versa.   \\n43. ASSIGNMENT  \\n The CONTRACTOR shall not assign, novate or otherwise transfer any of its rights, obligations or \\ninterests under and in connection with the AGREEMENT without the prior written consent of the \\nCOMPANY.  Any purported assignment, novation, or transfer without the prior written consent of the \\nCOMPANY  shall be expressly deemed absolutely null and void against the COMPANY  and shall not \\ntransfer any rights in th e AGREEMENT to the purported assignee and, in such event, the COMPANY  \\nshall have no obligation whatsoever to the purported assignee. Any purported assignment, novation, or \\ntransfer without the prior wri tten consent of the COMPANY shall entitle the  COMPANY  to terminate \\nthe AGREEMENT  with immediate effect in accordance with Article 35.3(a)(i) . \\n The COMPANY may assign, novate or otherwise transfer any of its rights, obligations or interests under\n",
            "\n"
          ]
        }
      ]
    },
    {
      "cell_type": "code",
      "source": [
        "questions = [\n",
        "    \"Describe the contractor liabilities.\",\n",
        "    \"Which clauses cover claims from Contractor?\",\n",
        "    \"Under which clauses Contractor can claim extension of time?\",\n",
        "    \"Under which clauses Contractor can claim extension in call off completion date?\",\n",
        "    \"Under which clauses Contractor can claim adjustment of Fees?\",\n",
        "    \"What events constitute a variation?\",\n",
        "    \"Which clauses consider Contractor's claims to Company?\",\n",
        "    \"Which clauses describe Company's claims and back charge to Contractor?\",\n",
        "    \"Which clauses cover claims from Company?\"\n",
        "]\n"
      ],
      "metadata": {
        "id": "9Q8bQgxekaLq"
      },
      "execution_count": null,
      "outputs": []
    },
    {
      "cell_type": "code",
      "source": [
        "for prompt in questions:\n",
        "  new_documents=search(prompt)\n",
        "  question=\"You have been given a legal document , answer the question form that document\"+\" legal document \"+new_documents+  \" question  \"+prompt\n",
        "\n",
        "  llm.invoke(question)\n"
      ],
      "metadata": {
        "id": "DtjLFw6Ax_CW",
        "colab": {
          "base_uri": "https://localhost:8080/",
          "height": 228
        },
        "outputId": "0de634e6-f348-479e-ce9e-6039757e3c0e"
      },
      "execution_count": 22,
      "outputs": [
        {
          "output_type": "error",
          "ename": "NameError",
          "evalue": "name 'questions' is not defined",
          "traceback": [
            "\u001b[0;31m---------------------------------------------------------------------------\u001b[0m",
            "\u001b[0;31mNameError\u001b[0m                                 Traceback (most recent call last)",
            "\u001b[0;32m<ipython-input-22-441c1b72617b>\u001b[0m in \u001b[0;36m<cell line: 1>\u001b[0;34m()\u001b[0m\n\u001b[0;32m----> 1\u001b[0;31m \u001b[0;32mfor\u001b[0m \u001b[0mprompt\u001b[0m \u001b[0;32min\u001b[0m \u001b[0mquestions\u001b[0m\u001b[0;34m:\u001b[0m\u001b[0;34m\u001b[0m\u001b[0;34m\u001b[0m\u001b[0m\n\u001b[0m\u001b[1;32m      2\u001b[0m   \u001b[0mnew_documents\u001b[0m\u001b[0;34m=\u001b[0m\u001b[0msearch\u001b[0m\u001b[0;34m(\u001b[0m\u001b[0mprompt\u001b[0m\u001b[0;34m)\u001b[0m\u001b[0;34m\u001b[0m\u001b[0;34m\u001b[0m\u001b[0m\n\u001b[1;32m      3\u001b[0m   \u001b[0mquestion\u001b[0m\u001b[0;34m=\u001b[0m\u001b[0;34m\"You have been given a legal document , answer the question form that document\"\u001b[0m\u001b[0;34m+\u001b[0m\u001b[0;34m\" legal document \"\u001b[0m\u001b[0;34m+\u001b[0m\u001b[0mnew_documents\u001b[0m\u001b[0;34m+\u001b[0m  \u001b[0;34m\" question  \"\u001b[0m\u001b[0;34m+\u001b[0m\u001b[0mprompt\u001b[0m\u001b[0;34m\u001b[0m\u001b[0;34m\u001b[0m\u001b[0m\n\u001b[1;32m      4\u001b[0m \u001b[0;34m\u001b[0m\u001b[0m\n\u001b[1;32m      5\u001b[0m   \u001b[0mllm\u001b[0m\u001b[0;34m.\u001b[0m\u001b[0minvoke\u001b[0m\u001b[0;34m(\u001b[0m\u001b[0mquestion\u001b[0m\u001b[0;34m)\u001b[0m\u001b[0;34m\u001b[0m\u001b[0;34m\u001b[0m\u001b[0m\n",
            "\u001b[0;31mNameError\u001b[0m: name 'questions' is not defined"
          ]
        }
      ]
    },
    {
      "cell_type": "code",
      "source": [],
      "metadata": {
        "id": "vWxmV90GBp38"
      },
      "execution_count": null,
      "outputs": []
    },
    {
      "cell_type": "code",
      "source": [
        "new_documents=search(\"Can CONTRACTOR claim additional cost on account of force majeure?\")"
      ],
      "metadata": {
        "colab": {
          "base_uri": "https://localhost:8080/"
        },
        "id": "wAif7FpoBfm1",
        "outputId": "15b62fc4-0e7b-466c-9406-0dcc162fe4e9"
      },
      "execution_count": 45,
      "outputs": [
        {
          "output_type": "stream",
          "name": "stdout",
          "text": [
            "Documents:\n",
            "100\n",
            "::Documents\n",
            "Chunk : : \n",
            " : 40.2 A PARTY affected by a FORCE MAJEURE EVENT shall take all reasonable measures available (at its own cost) to overcome and mitigate the effects of such FORCE MAJEURE EVENT, including cooperating with the other PARTY to develop and implement a plan of remedial action and reasonable alternative measures to remedy the effects of such FORCE MAJEURE EVENT.\n",
            "40.3 During any period of the FORCE MAJEURE EVENT, the CONTRACTOR shall use its best efforts to \n",
            "safeguard and protect the WORKS and utilise the CONTRACTOR PERSONNEL in such a manner as \n",
            "to minimise the costs associated with the FORCE MAJEURE EVENT.\n"
          ]
        },
        {
          "output_type": "stream",
          "name": "stderr",
          "text": [
            "Special tokens have been added in the vocabulary, make sure the associated word embeddings are fine-tuned or trained.\n"
          ]
        },
        {
          "output_type": "stream",
          "name": "stdout",
          "text": [
            "Chunk : : \n",
            " : (iv) trade or labour dispute, strike, lockout, industrial disturbance, except where limited to \n",
            "the CONTRACTOR PERSONNEL, \n",
            "other than, in each case, to the extent caused by the PARTY seeking to rely on Article 38.1, or \n",
            "its AFFILIATES, SUBCONTRACTORS or PERSONNEL, and provided, in each case, that the \n",
            "event or circumstance in question satisfies the requirements of paragraphs (a) and (b) above. \n",
            "The following events or circumstances shall not be or be deemed to be a FORCE MAJEURE EVENT \n",
            "even where they satisfy the requirements of paragraphs (a) and (b) above: \n",
            "(A) \n",
            "the unavailability of funds or non-payment of a sum of money by a PARTY \n",
            "or a THIRD PARTY; \n",
            "(B) \n",
            "financial hardship or the inability of the affected PARTY to make a profit or \n",
            "achieve a satisfactory rate of return in relation to or in connection with any \n",
            "activities undertaken pursuant to the AGREEMENT or otherwise; \n",
            "(C) \n",
            "SITE conditions, including extraordinary GROUND CONDITIONS;  \n",
            "(D)\n"
          ]
        },
        {
          "output_type": "stream",
          "name": "stderr",
          "text": [
            "Special tokens have been added in the vocabulary, make sure the associated word embeddings are fine-tuned or trained.\n"
          ]
        },
        {
          "output_type": "stream",
          "name": "stdout",
          "text": [
            "Chunk : : \n",
            " : 34.1, the COMPANY shall not be liable for any costs arising from or in relation to such suspension period. Suspension for the CONTRACTOR’s Material Breach If the WORKS are suspended in accordance with Article\n",
            " 34.2, the COMPANY shall not be liable for any costs arising from or in relation to such suspension period. \n",
            " \n",
            "Suspension for a FORCE MAJEURE EVENT  If the WORKS are suspended in accordance with Article 34.3, the COMPANY shall not be \n",
            "liable to the CONTRACTOR for any costs arising from or in relation to such suspension period, \n",
            "except to the extent that such costs are: \n",
            "(i)  expressly provided for in ANNEXURE 5;  \n",
            "(ii)  incurred by the CONTRACTOR as a result of the suspension by reason of a FORCE \n",
            "MAJEURE EVENT; and \n",
            "(iii)  in all cases, incurred after a continuous period in excess of sixty (60) consecutive  DAYS or one hundred and eighty (180) DAYS in aggregate.\n"
          ]
        },
        {
          "output_type": "stream",
          "name": "stderr",
          "text": [
            "Special tokens have been added in the vocabulary, make sure the associated word embeddings are fine-tuned or trained.\n"
          ]
        },
        {
          "output_type": "stream",
          "name": "stdout",
          "text": [
            "Chunk : : \n",
            " : (b) subject to Article 36.4, the CONTRACTOR’s proven costs incurred in relation to any of the following, provided that such costs were not already recovered by the CONTRACTOR prior to termination: \n",
            "(i) demobilisation of the CONTRACTOR PERSONNELMATERIALS and CONSTRUCTIONEQUIPMENT; \n",
            "(ii) works and services already commenced by the CONTRACTOR,SUBCONTRACTORS or VENDORS, for which cancellation cannot be made or can be made upon payment of cancellation fees, against documented proof; and \n",
            "(iii) cancellation fees for cancellation of subcontracts with SUBCONTRACTORS and VENDORS (excluding, in each case, AFFILIATES of the CONTRACTOR), however, the CONTRACTOR shall not be entitled to reimbursement of any loss or alleged loss Notwithstanding Article 36.1 and subject to Article 37, the CONTRACTOR may retain copies andof overheads, profit, business or opportunity or to further financial recovery as a result of the termination.\n"
          ]
        },
        {
          "output_type": "stream",
          "name": "stderr",
          "text": [
            "Special tokens have been added in the vocabulary, make sure the associated word embeddings are fine-tuned or trained.\n",
            "Special tokens have been added in the vocabulary, make sure the associated word embeddings are fine-tuned or trained.\n",
            "Special tokens have been added in the vocabulary, make sure the associated word embeddings are fine-tuned or trained.\n",
            "Special tokens have been added in the vocabulary, make sure the associated word embeddings are fine-tuned or trained.\n"
          ]
        },
        {
          "output_type": "stream",
          "name": "stdout",
          "text": [
            "755\n"
          ]
        }
      ]
    },
    {
      "cell_type": "code",
      "source": [
        "new_documents=search(\"Can CONTRACTOR claim extension of time on account of force majeure?\")"
      ],
      "metadata": {
        "colab": {
          "base_uri": "https://localhost:8080/"
        },
        "id": "pKczOs2kGqhm",
        "outputId": "6b638a95-e74f-4fd7-f5c5-ce39a31eaaf0"
      },
      "execution_count": 60,
      "outputs": [
        {
          "output_type": "stream",
          "name": "stdout",
          "text": [
            "Documents:\n",
            "100\n",
            "::Documents\n",
            "Chunk : : \n",
            " : (iv) trade or labour dispute, strike, lockout, industrial disturbance, except where limited to \n",
            "the CONTRACTOR PERSONNEL, \n",
            "other than, in each case, to the extent caused by the PARTY seeking to rely on Article 38.1, or \n",
            "its AFFILIATES, SUBCONTRACTORS or PERSONNEL, and provided, in each case, that the \n",
            "event or circumstance in question satisfies the requirements of paragraphs (a) and (b) above. \n",
            "The following events or circumstances shall not be or be deemed to be a FORCE MAJEURE EVENT \n",
            "even where they satisfy the requirements of paragraphs (a) and (b) above: \n",
            "(A) \n",
            "the unavailability of funds or non-payment of a sum of money by a PARTY \n",
            "or a THIRD PARTY; \n",
            "(B) \n",
            "financial hardship or the inability of the affected PARTY to make a profit or \n",
            "achieve a satisfactory rate of return in relation to or in connection with any \n",
            "activities undertaken pursuant to the AGREEMENT or otherwise; \n",
            "(C) \n",
            "SITE conditions, including extraordinary GROUND CONDITIONS;  \n",
            "(D)\n"
          ]
        },
        {
          "output_type": "stream",
          "name": "stderr",
          "text": [
            "Special tokens have been added in the vocabulary, make sure the associated word embeddings are fine-tuned or trained.\n"
          ]
        },
        {
          "output_type": "stream",
          "name": "stdout",
          "text": [
            "Chunk : : \n",
            " : 34.3 SUSPENSION FOR A FORCE MAJEURE EVENT \n",
            "If either PARTY is prevented or delayed in the performance of its obligations under the AGREEMENT by reason of a FORCE MAJEURE EVENT, provided that the relevant PARTY has satisfied the conditions of Article 38.1, and the COMPANY elects not to exercise its termination right pursuant to Article 40.7(b), the COMPANY, shall have the right at any time, at its sole discretion to suspend the performance of all or any part of the WORKS by providing notice in writing to the CONTRACTOR.\n",
            "34.4 SUSPENSION FOR DELAYED PAYMENT \n",
            "Where the circumstances set out in Article 23.7(a)(i) occur, the CONTRACTOR shall be entitled to suspend the whole of the WORKS in accordance with Article 23.7(a)(i) and this Article 34.\n",
            "34.5 SUSPENSION MEASURES \n",
            "With effect from any suspension of the WORKS pursuant to Articles 34.1, 34.2, 34.3 or 34.4 and upon receipt of any such notice, the CONTRACTOR shall, unless instructed otherwise:\n"
          ]
        },
        {
          "output_type": "stream",
          "name": "stderr",
          "text": [
            "Special tokens have been added in the vocabulary, make sure the associated word embeddings are fine-tuned or trained.\n"
          ]
        },
        {
          "output_type": "stream",
          "name": "stdout",
          "text": [
            "Chunk : : \n",
            " : 34.1, the COMPANY shall not be liable for any costs arising from or in relation to such suspension period. Suspension for the CONTRACTOR’s Material Breach If the WORKS are suspended in accordance with Article\n",
            " 34.2, the COMPANY shall not be liable for any costs arising from or in relation to such suspension period. \n",
            " \n",
            "Suspension for a FORCE MAJEURE EVENT  If the WORKS are suspended in accordance with Article 34.3, the COMPANY shall not be \n",
            "liable to the CONTRACTOR for any costs arising from or in relation to such suspension period, \n",
            "except to the extent that such costs are: \n",
            "(i)  expressly provided for in ANNEXURE 5;  \n",
            "(ii)  incurred by the CONTRACTOR as a result of the suspension by reason of a FORCE \n",
            "MAJEURE EVENT; and \n",
            "(iii)  in all cases, incurred after a continuous period in excess of sixty (60) consecutive  DAYS or one hundred and eighty (180) DAYS in aggregate.\n"
          ]
        },
        {
          "output_type": "stream",
          "name": "stderr",
          "text": [
            "Special tokens have been added in the vocabulary, make sure the associated word embeddings are fine-tuned or trained.\n",
            "Special tokens have been added in the vocabulary, make sure the associated word embeddings are fine-tuned or trained.\n"
          ]
        },
        {
          "output_type": "stream",
          "name": "stdout",
          "text": [
            "661\n"
          ]
        }
      ]
    },
    {
      "cell_type": "code",
      "source": [
        "prompt=\"Can CONTRACTOR claim extension of time and additional cost on account of force majeure?\"\n",
        "new_documents=search(prompt)\n",
        "question=f\"Thoroughly review the attached legal document and provide a precise and accurate answer to the question below from the provided Legal Document. Legal Document: {new_documents} Question: {prompt}\"\n",
        "\n",
        "llm.invoke(question)\n"
      ],
      "metadata": {
        "id": "-j3demTzbDpO",
        "colab": {
          "base_uri": "https://localhost:8080/",
          "height": 1000
        },
        "outputId": "031c798e-55c1-44f4-9b84-e1b72a7ac784"
      },
      "execution_count": 24,
      "outputs": [
        {
          "output_type": "stream",
          "name": "stdout",
          "text": [
            "Documents:\n",
            "100\n",
            "::Documents\n",
            "Chunk : : \n",
            " : (iv) trade or labour dispute, strike, lockout, industrial disturbance, except where limited to \n",
            "the CONTRACTOR PERSONNEL, \n",
            "other than, in each case, to the extent caused by the PARTY seeking to rely on Article 38.1, or \n",
            "its AFFILIATES, SUBCONTRACTORS or PERSONNEL, and provided, in each case, that the \n",
            "event or circumstance in question satisfies the requirements of paragraphs (a) and (b) above. \n",
            "The following events or circumstances shall not be or be deemed to be a FORCE MAJEURE EVENT \n",
            "even where they satisfy the requirements of paragraphs (a) and (b) above: \n",
            "(A) \n",
            "the unavailability of funds or non-payment of a sum of money by a PARTY \n",
            "or a THIRD PARTY; \n",
            "(B) \n",
            "financial hardship or the inability of the affected PARTY to make a profit or \n",
            "achieve a satisfactory rate of return in relation to or in connection with any \n",
            "activities undertaken pursuant to the AGREEMENT or otherwise; \n",
            "(C) \n",
            "SITE conditions, including extraordinary GROUND CONDITIONS;  \n",
            "(D)\n"
          ]
        },
        {
          "output_type": "stream",
          "name": "stderr",
          "text": [
            "Special tokens have been added in the vocabulary, make sure the associated word embeddings are fine-tuned or trained.\n"
          ]
        },
        {
          "output_type": "stream",
          "name": "stdout",
          "text": [
            "Chunk : : \n",
            " : 34.1, the COMPANY shall not be liable for any costs arising from or in relation to such suspension period. Suspension for the CONTRACTOR’s Material Breach If the WORKS are suspended in accordance with Article\n",
            " 34.2, the COMPANY shall not be liable for any costs arising from or in relation to such suspension period. \n",
            " \n",
            "Suspension for a FORCE MAJEURE EVENT  If the WORKS are suspended in accordance with Article 34.3, the COMPANY shall not be \n",
            "liable to the CONTRACTOR for any costs arising from or in relation to such suspension period, \n",
            "except to the extent that such costs are: \n",
            "(i)  expressly provided for in ANNEXURE 5;  \n",
            "(ii)  incurred by the CONTRACTOR as a result of the suspension by reason of a FORCE \n",
            "MAJEURE EVENT; and \n",
            "(iii)  in all cases, incurred after a continuous period in excess of sixty (60) consecutive  DAYS or one hundred and eighty (180) DAYS in aggregate.\n"
          ]
        },
        {
          "output_type": "stream",
          "name": "stderr",
          "text": [
            "Special tokens have been added in the vocabulary, make sure the associated word embeddings are fine-tuned or trained.\n"
          ]
        },
        {
          "output_type": "stream",
          "name": "stdout",
          "text": [
            "Chunk : : \n",
            " : 40.2 A PARTY affected by a FORCE MAJEURE EVENT shall take all reasonable measures available (at its own cost) to overcome and mitigate the effects of such FORCE MAJEURE EVENT, including cooperating with the other PARTY to develop and implement a plan of remedial action and reasonable alternative measures to remedy the effects of such FORCE MAJEURE EVENT.\n",
            "40.3 During any period of the FORCE MAJEURE EVENT, the CONTRACTOR shall use its best efforts to \n",
            "safeguard and protect the WORKS and utilise the CONTRACTOR PERSONNEL in such a manner as \n",
            "to minimise the costs associated with the FORCE MAJEURE EVENT.\n"
          ]
        },
        {
          "output_type": "stream",
          "name": "stderr",
          "text": [
            "Special tokens have been added in the vocabulary, make sure the associated word embeddings are fine-tuned or trained.\n"
          ]
        },
        {
          "output_type": "stream",
          "name": "stdout",
          "text": [
            "Chunk : : \n",
            " : he implementation of works constituting a VARIATION pursuant to Article 24; a FORCE MAJEURE EVENT pursuant to Article 38.1; or the occurrence of risks set out in Article 33.2(c). \n",
            " \n",
            "25.2 The CONTRACTOR shall have no entitlement to any adjustment to the WORK PROGRAM and KEY \n",
            "MILESTONE DATES for any event or circumstance that is not a DELAY EVENT.Where the CONTRACTOR issues a CONTRACTOR VARIATION REQUEST pursuant to Article 24.425.3\n"
          ]
        },
        {
          "output_type": "stream",
          "name": "stderr",
          "text": [
            "Special tokens have been added in the vocabulary, make sure the associated word embeddings are fine-tuned or trained.\n",
            "Special tokens have been added in the vocabulary, make sure the associated word embeddings are fine-tuned or trained.\n",
            "Special tokens have been added in the vocabulary, make sure the associated word embeddings are fine-tuned or trained.\n",
            "Llama.generate: prefix-match hit\n"
          ]
        },
        {
          "output_type": "stream",
          "name": "stdout",
          "text": [
            "658\n",
            " Answer: Yes, if the event satisfies the conditions in Article 40.1 (a) or (b), then the CONTRACTOR may claim an extension of time and additional cost under Article 40.3. The CONTRACTOR should refer to Articles 40.2 and 40.4 for other requirements that apply when claiming an extension of time and additional cost due to a force majeure event. A FORCE MAJEURE EVENT shall not be considered as a VARIATION, unless otherwise agreed by the PARTIES in writing. \n",
            "The CONTRACTOR shall promptly notify the COMPANY in writing of any claim for extension of time and/or additional payment arising from a FORCE MAJEURE EVENT, specifying the nature and extent of such event, its likely duration, the effect on the progress of the WORKS, and any other relevant circumstances.\n",
            "40.5 Within [ ] calendar days after receiving a notice under Article 40.4 or as otherwise agreed by the PARTIES in writing, the COMPANY shall review and consider each claim for extension of time and/or additional payment arising from a FORCE MAJEURE EVENT and respond to the CONTRACTOR in writing within [ ] calendar days after receipt of such response from the COMPANY; and (c) provide a detailed description of the applicable law."
          ]
        },
        {
          "output_type": "stream",
          "name": "stderr",
          "text": [
            "\n",
            "llama_print_timings:        load time =    1694.18 ms\n",
            "llama_print_timings:      sample time =     609.14 ms /   256 runs   (    2.38 ms per token,   420.26 tokens per second)\n",
            "llama_print_timings: prompt eval time =     772.08 ms /   607 tokens (    1.27 ms per token,   786.19 tokens per second)\n",
            "llama_print_timings:        eval time =    9657.55 ms /   255 runs   (   37.87 ms per token,    26.40 tokens per second)\n",
            "llama_print_timings:       total time =   11858.95 ms /   862 tokens\n"
          ]
        },
        {
          "output_type": "execute_result",
          "data": {
            "text/plain": [
              "' Answer: Yes, if the event satisfies the conditions in Article 40.1 (a) or (b), then the CONTRACTOR may claim an extension of time and additional cost under Article 40.3. The CONTRACTOR should refer to Articles 40.2 and 40.4 for other requirements that apply when claiming an extension of time and additional cost due to a force majeure event. A FORCE MAJEURE EVENT shall not be considered as a VARIATION, unless otherwise agreed by the PARTIES in writing. \\nThe CONTRACTOR shall promptly notify the COMPANY in writing of any claim for extension of time and/or additional payment arising from a FORCE MAJEURE EVENT, specifying the nature and extent of such event, its likely duration, the effect on the progress of the WORKS, and any other relevant circumstances.\\n40.5 Within [ ] calendar days after receiving a notice under Article 40.4 or as otherwise agreed by the PARTIES in writing, the COMPANY shall review and consider each claim for extension of time and/or additional payment arising from a FORCE MAJEURE EVENT and respond to the CONTRACTOR in writing within [ ] calendar days after receipt of such response from the COMPANY; and (c) provide a detailed description of the applicable law.'"
            ],
            "application/vnd.google.colaboratory.intrinsic+json": {
              "type": "string"
            }
          },
          "metadata": {},
          "execution_count": 24
        }
      ]
    },
    {
      "cell_type": "code",
      "source": [
        "promt1 = \"Carefully read this text to answer below question : \" + new_documents + \"    \\n\\n ------------------- Can CONTRACTOR claim  claim extension of time on account of force majeure?\""
      ],
      "metadata": {
        "id": "WFW-RGAD_Gob"
      },
      "execution_count": 54,
      "outputs": []
    },
    {
      "cell_type": "code",
      "source": [
        "promt1"
      ],
      "metadata": {
        "colab": {
          "base_uri": "https://localhost:8080/",
          "height": 192
        },
        "id": "CrawdwbTAVOb",
        "outputId": "81d6f8d2-5648-4b37-c712-5eb17c0c8e91"
      },
      "execution_count": 55,
      "outputs": [
        {
          "output_type": "execute_result",
          "data": {
            "text/plain": [
              "'Carefully read this text to answer below question :  (iv) trade or labour dispute, strike, lockout, industrial disturbance, except where limited to \\nthe CONTRACTOR PERSONNEL, \\nother than, in each case, to the extent caused by the PARTY seeking to rely on Article 38.1, or \\nits AFFILIATES, SUBCONTRACTORS or PERSONNEL, and provided, in each case, that the \\nevent or circumstance in question satisfies the requirements of paragraphs (a) and (b) above. \\nThe following events or circumstances shall not be or be deemed to be a FORCE MAJEURE EVENT \\neven where they satisfy the requirements of paragraphs (a) and (b) above: \\n(A) \\nthe unavailability of funds or non-payment of a sum of money by a PARTY \\nor a THIRD PARTY; \\n(B) \\nfinancial hardship or the inability of the affected PARTY to make a profit or \\nachieve a satisfactory rate of return in relation to or in connection with any \\nactivities undertaken pursuant to the AGREEMENT or otherwise; \\n(C) \\nSITE conditions, including extraordinary GROUND CONDITIONS;  \\n(D)\\n\\n\\n34.1, the COMPANY shall not be liable for any costs arising from or in relation to such suspension period. Suspension for the CONTRACTOR’s Material Breach If the WORKS are suspended in accordance with Article\\n 34.2, the COMPANY shall not be liable for any costs arising from or in relation to such suspension period. \\n \\nSuspension for a FORCE MAJEURE EVENT  If the WORKS are suspended in accordance with Article 34.3, the COMPANY shall not be \\nliable to the CONTRACTOR for any costs arising from or in relation to such suspension period, \\nexcept to the extent that such costs are: \\n(i)  expressly provided for in ANNEXURE 5;  \\n(ii)  incurred by the CONTRACTOR as a result of the suspension by reason of a FORCE \\nMAJEURE EVENT; and \\n(iii)  in all cases, incurred after a continuous period in excess of sixty (60) consecutive  DAYS or one hundred and eighty (180) DAYS in aggregate.\\n\\n\\n34.3 SUSPENSION FOR A FORCE MAJEURE EVENT \\nIf either PARTY is prevented or delayed in the performance of its obligations under the AGREEMENT by reason of a FORCE MAJEURE EVENT, provided that the relevant PARTY has satisfied the conditions of Article 38.1, and the COMPANY elects not to exercise its termination right pursuant to Article 40.7(b), the COMPANY, shall have the right at any time, at its sole discretion to suspend the performance of all or any part of the WORKS b\\n\\n\\n    \\n\\n ------------------- Can CONTRACTOR claim  claim extension of time on account of force majeure?'"
            ],
            "application/vnd.google.colaboratory.intrinsic+json": {
              "type": "string"
            }
          },
          "metadata": {},
          "execution_count": 55
        }
      ]
    },
    {
      "cell_type": "code",
      "source": [
        "llm.invoke(promt1)"
      ],
      "metadata": {
        "colab": {
          "base_uri": "https://localhost:8080/",
          "height": 802
        },
        "id": "wKtJUQJq_exg",
        "outputId": "0969d5e5-7a0d-484a-99d8-d3e8d1b745b0"
      },
      "execution_count": 56,
      "outputs": [
        {
          "output_type": "stream",
          "name": "stderr",
          "text": [
            "Llama.generate: prefix-match hit\n"
          ]
        },
        {
          "output_type": "stream",
          "name": "stdout",
          "text": [
            " \n",
            "\n",
            "Force Majeure is an event that prevents a party from fulfilling its obligations under a contract. However, the contract must provide for Force Majeure as a valid excuse for non-performance.\n",
            "\n",
            "In this case, the contract does provide for Force Majeure in Article 34.3 and Article 38.1. Therefore, if FORCE MAJEURE EVENT occurs, the CONTRACTOR may claim an extension of time on account of force majeure.\n",
            "\n",
            "\n",
            " \n",
            "\n",
            "**Contractor’s rights to relief under the Contract**\n",
            "\n",
            "As per the Contract, the Contractor has the following rights to relief:\n",
            "\n",
            "* Suspension of Work (Article 34.3 and Article 38.1);\n",
            "* Claim for Extension of Time (Article 34.3 and Article 38.1);\n",
            "* Claim for payment in respect of work done or materials supplied under the Contract (Article 36.2).\n",
            "\n",
            "These rights to relief are available to the Contractor if a Force Majeure Event occurs, or if there is a default by the Employer, as specified in the Contract.\n",
            "\n",
            "\n",
            " \n",
            "\n",
            "**Rights of the Contractor**\n",
            "\n",
            "Under the terms of the Contract, the Contractor has the following rights:\n",
            "\n",
            "* Suspension of Work (Article 34.3 and Article 38.1);\n",
            "* Claim for Extension of Time (Article"
          ]
        },
        {
          "output_type": "stream",
          "name": "stderr",
          "text": [
            "\n",
            "llama_print_timings:        load time =    1694.18 ms\n",
            "llama_print_timings:      sample time =     592.25 ms /   256 runs   (    2.31 ms per token,   432.25 tokens per second)\n",
            "llama_print_timings: prompt eval time =     332.48 ms /    13 tokens (   25.58 ms per token,    39.10 tokens per second)\n",
            "llama_print_timings:        eval time =    9698.29 ms /   255 runs   (   38.03 ms per token,    26.29 tokens per second)\n",
            "llama_print_timings:       total time =   11499.79 ms /   268 tokens\n"
          ]
        },
        {
          "output_type": "execute_result",
          "data": {
            "text/plain": [
              "' \\n\\nForce Majeure is an event that prevents a party from fulfilling its obligations under a contract. However, the contract must provide for Force Majeure as a valid excuse for non-performance.\\n\\nIn this case, the contract does provide for Force Majeure in Article 34.3 and Article 38.1. Therefore, if FORCE MAJEURE EVENT occurs, the CONTRACTOR may claim an extension of time on account of force majeure.\\n\\n\\n \\n\\n**Contractor’s rights to relief under the Contract**\\n\\nAs per the Contract, the Contractor has the following rights to relief:\\n\\n* Suspension of Work (Article 34.3 and Article 38.1);\\n* Claim for Extension of Time (Article 34.3 and Article 38.1);\\n* Claim for payment in respect of work done or materials supplied under the Contract (Article 36.2).\\n\\nThese rights to relief are available to the Contractor if a Force Majeure Event occurs, or if there is a default by the Employer, as specified in the Contract.\\n\\n\\n \\n\\n**Rights of the Contractor**\\n\\nUnder the terms of the Contract, the Contractor has the following rights:\\n\\n* Suspension of Work (Article 34.3 and Article 38.1);\\n* Claim for Extension of Time (Article'"
            ],
            "application/vnd.google.colaboratory.intrinsic+json": {
              "type": "string"
            }
          },
          "metadata": {},
          "execution_count": 56
        }
      ]
    },
    {
      "cell_type": "code",
      "source": [
        "new_documents"
      ],
      "metadata": {
        "colab": {
          "base_uri": "https://localhost:8080/",
          "height": 417
        },
        "id": "aAZRstcYH6BX",
        "outputId": "14b5de51-39c9-4339-d719-f7bbfc9fa8d2"
      },
      "execution_count": 61,
      "outputs": [
        {
          "output_type": "execute_result",
          "data": {
            "text/plain": [
              "' (iv) trade or labour dispute, strike, lockout, industrial disturbance, except where limited to \\nthe CONTRACTOR PERSONNEL, \\nother than, in each case, to the extent caused by the PARTY seeking to rely on Article 38.1, or \\nits AFFILIATES, SUBCONTRACTORS or PERSONNEL, and provided, in each case, that the \\nevent or circumstance in question satisfies the requirements of paragraphs (a) and (b) above. \\nThe following events or circumstances shall not be or be deemed to be a FORCE MAJEURE EVENT \\neven where they satisfy the requirements of paragraphs (a) and (b) above: \\n(A) \\nthe unavailability of funds or non-payment of a sum of money by a PARTY \\nor a THIRD PARTY; \\n(B) \\nfinancial hardship or the inability of the affected PARTY to make a profit or \\nachieve a satisfactory rate of return in relation to or in connection with any \\nactivities undertaken pursuant to the AGREEMENT or otherwise; \\n(C) \\nSITE conditions, including extraordinary GROUND CONDITIONS;  \\n(D)\\n\\n\\n34.3 SUSPENSION FOR A FORCE MAJEURE EVENT \\nIf either PARTY is prevented or delayed in the performance of its obligations under the AGREEMENT by reason of a FORCE MAJEURE EVENT, provided that the relevant PARTY has satisfied the conditions of Article 38.1, and the COMPANY elects not to exercise its termination right pursuant to Article 40.7(b), the COMPANY, shall have the right at any time, at its sole discretion to suspend the performance of all or any part of the WORKS by providing notice in writing to the CONTRACTOR.\\n34.4 SUSPENSION FOR DELAYED PAYMENT \\nWhere the circumstances set out in Article 23.7(a)(i) occur, the CONTRACTOR shall be entitled to suspend the whole of the WORKS in accordance with Article 23.7(a)(i) and this Article 34.\\n34.5 SUSPENSION MEASURES \\nWith effect from any suspension of the WORKS pursuant to Articles 34.1, 34.2, 34.3 or 34.4 and upon receipt of any such notice, the CONTRACTOR shall, unless instructed otherwise:\\n\\n\\n34.1, the COMPANY shall not be liable for any costs arising from or in relation to such suspension period. Suspension for the CONTRACTOR’s Material Breach If the WORKS are suspended in accordance with Article\\n 34.2, the COMPANY shall not be liable for any costs arising from or in relation to such suspension period. \\n \\nSuspension for a FORCE MAJEURE EVENT  If the WORKS are suspended in accordance with Article 34.3, the COMPANY shall not \\n\\n\\n'"
            ],
            "application/vnd.google.colaboratory.intrinsic+json": {
              "type": "string"
            }
          },
          "metadata": {},
          "execution_count": 61
        }
      ]
    },
    {
      "cell_type": "code",
      "source": [
        "# # new_documents=new_documents.replace(\"\"\" \\'content\\': \"\\\\n[TASK]\\\\\"\"\",\"\")\n",
        "# new_documents=new_documents.replace(\"\\\\n\",\" \")\n",
        "# new_documents"
      ],
      "metadata": {
        "id": "gUhmrYPy1YOQ"
      },
      "execution_count": null,
      "outputs": []
    },
    {
      "cell_type": "code",
      "source": [
        "new_documents=\"\"\"  The COMPANY may terminate the AGREEMENT for convenience upon providing the \\nCONTRACTOR with not less than thirty (30) DAYS ’ written notice. Unless otherwise instructed by the \\nCOMPANY on or after issuing the termination notice, the CONTRACTOR shall not commence any new \\nactivities related to the execution of the WORKS, such as undertaking new work or placing new orders, \\nto ensure prompt and effi cient compliance with the requirements set out in Article  36 upon termination. The COMPANY may terminate the AGREEMENT with immediate effect by written notice to the \\nCONTRACTOR in the circumstances described in Article  33.2(e)(iii)  and 40.7(b) . \\n The COMPANY shall be entitled to terminate the AGREEMENT with immediate effect by written notice. If all or a part of the AGREEMENT is terminated by the COMPANY pursuant to Articles  35.2 or 35.3, \\nthe COMPANY:  \\n shall pay the CONTRACTOR for the portion of the WORKS performed and completed prior to \\nthe date of termination.Any purported assignment, novation, or \\ntransfer without the prior wri tten consent of the COMPANY shall entitle the  COMPANY  to terminate \\nthe AGREEMENT  with immediate effect in accordance with Article 35.3(a)(i) . \\n The COMPANY may assign, novate or otherwise transfer any of its rights, obligations or interests under.The right of a PARTY to terminate, rescind or agree to any VARIATION or waiver or settlement under \\nthe AGREEMENT is not subject to the consent of any THIRD PARTY.  \\n Any provision in the AGREEMENT which is illegal, void or unenforceable will be ineffective to the \\nextent only of such illegality, voidness or unenforceability and such illegality, voidness or \\nunenforceability will not invalidate any other provision of the AGREEMENT .  any verified termination costs that have been incurred by the CONTRACTOR in \\nterminating any subcontracts or cancelling any LLI SUPPLY AGREEMENTS; and  \\n(ii) where the WORKS are reduced by more than twenty percent (20%) of the original \\nWORKS, its demobilisation costs, at the rate(s) specified in ANNEXURE  5, and if no \\nrates are specified in ANNEXURE  5, at rates to be agreed between the PARTIES.  \\n NO ENTITLEMENT  \\n The CONTRACTOR shal.The COMPANY may thereafter, at its absolute discretion, complete the uncompleted part of the WORKS \\nitself or by engaging one or more THIRD PARTIES. If all or a part of the AGREEMENT is terminated by the COMPANY pursuant to Articles  35.2 or 35.3, \\nthe COMPANY:  \\n shall pay the CONTRACTOR for the portion of the WORKS performed and completed prior to \\nthe date of termination, provided that the COMPANY shall not be liable to make any payments \\nto the CONTRACTOR after termination until all costs, losses and damages of th e kind referred \\nto in Article  36.2(b)  have been ascertained.the PARTIES hereby expressly exclude any requirements of notice, \\nproportionality, or of the need to have recourse to a court or tribunal that may be provided for in the \\nCIVIL CODE.CODE.\"\"\""
      ],
      "metadata": {
        "id": "peRHBPve4443"
      },
      "execution_count": null,
      "outputs": []
    },
    {
      "cell_type": "code",
      "source": [
        "check_token_limit(new_documents)"
      ],
      "metadata": {
        "colab": {
          "base_uri": "https://localhost:8080/"
        },
        "id": "ds0lUcrKfNF1",
        "outputId": "39da1a85-e3f2-441f-92ae-87135ff9a9d5"
      },
      "execution_count": null,
      "outputs": [
        {
          "output_type": "stream",
          "name": "stderr",
          "text": [
            "Special tokens have been added in the vocabulary, make sure the associated word embeddings are fine-tuned or trained.\n"
          ]
        },
        {
          "output_type": "execute_result",
          "data": {
            "text/plain": [
              "630"
            ]
          },
          "metadata": {},
          "execution_count": 80
        }
      ]
    },
    {
      "cell_type": "code",
      "source": [
        "new_documents"
      ],
      "metadata": {
        "colab": {
          "base_uri": "https://localhost:8080/",
          "height": 452
        },
        "id": "xkyDqBXh697j",
        "outputId": "a506d11f-dbbf-4259-faa9-38c3c3fddb0d"
      },
      "execution_count": 46,
      "outputs": [
        {
          "output_type": "execute_result",
          "data": {
            "text/plain": [
              "' 40.2 A PARTY affected by a FORCE MAJEURE EVENT shall take all reasonable measures available (at its own cost) to overcome and mitigate the effects of such FORCE MAJEURE EVENT, including cooperating with the other PARTY to develop and implement a plan of remedial action and reasonable alternative measures to remedy the effects of such FORCE MAJEURE EVENT.\\n40.3 During any period of the FORCE MAJEURE EVENT, the CONTRACTOR shall use its best efforts to \\nsafeguard and protect the WORKS and utilise the CONTRACTOR PERSONNEL in such a manner as \\nto minimise the costs associated with the FORCE MAJEURE EVENT.\\n\\n\\n(iv) trade or labour dispute, strike, lockout, industrial disturbance, except where limited to \\nthe CONTRACTOR PERSONNEL, \\nother than, in each case, to the extent caused by the PARTY seeking to rely on Article 38.1, or \\nits AFFILIATES, SUBCONTRACTORS or PERSONNEL, and provided, in each case, that the \\nevent or circumstance in question satisfies the requirements of paragraphs (a) and (b) above. \\nThe following events or circumstances shall not be or be deemed to be a FORCE MAJEURE EVENT \\neven where they satisfy the requirements of paragraphs (a) and (b) above: \\n(A) \\nthe unavailability of funds or non-payment of a sum of money by a PARTY \\nor a THIRD PARTY; \\n(B) \\nfinancial hardship or the inability of the affected PARTY to make a profit or \\nachieve a satisfactory rate of return in relation to or in connection with any \\nactivities undertaken pursuant to the AGREEMENT or otherwise; \\n(C) \\nSITE conditions, including extraordinary GROUND CONDITIONS;  \\n(D)\\n\\n\\n34.1, the COMPANY shall not be liable for any costs arising from or in relation to such suspension period. Suspension for the CONTRACTOR’s Material Breach If the WORKS are suspended in accordance with Article\\n 34.2, the COMPANY shall not be liable for any costs arising from or in relation to such suspension period. \\n \\nSuspension for a FORCE MAJEURE EVENT  If the WORKS are suspended in accordance with Article 34.3, the COMPANY shall not be \\nliable to the CONTRACTOR for any costs arising from or in relation to such suspension period, \\nexcept to the extent that such costs are: \\n(i)  expressly provided for in ANNEXURE 5;  \\n(ii)  incurred by the CONTRACTOR as a result of the suspension by reason of a FORCE \\nMAJEURE EVENT; and \\n(iii)  in all cases, incurred after a continuous period in excess of sixty (60) consecutive  DAYS or one hundred and eighty (180) DAYS in aggregate.\\n\\n\\n(b) subject to Article 36.4, the CONTRACTOR’s proven costs incurred in relation to any of the following, provided t\\n\\n\\n'"
            ],
            "application/vnd.google.colaboratory.intrinsic+json": {
              "type": "string"
            }
          },
          "metadata": {},
          "execution_count": 46
        }
      ]
    }
  ],
  "metadata": {
    "accelerator": "GPU",
    "colab": {
      "gpuType": "T4",
      "provenance": []
    },
    "kernelspec": {
      "display_name": "Python 3",
      "name": "python3"
    },
    "language_info": {
      "codemirror_mode": {
        "name": "ipython",
        "version": 3
      },
      "file_extension": ".py",
      "mimetype": "text/x-python",
      "name": "python",
      "nbconvert_exporter": "python",
      "pygments_lexer": "ipython3",
      "version": "3.10.12"
    }
  },
  "nbformat": 4,
  "nbformat_minor": 0
}