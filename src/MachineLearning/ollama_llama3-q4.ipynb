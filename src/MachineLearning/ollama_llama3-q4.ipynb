{
 "cells": [
  {
   "cell_type": "code",
   "execution_count": 8,
   "id": "612b8189",
   "metadata": {},
   "outputs": [
    {
     "name": "stderr",
     "output_type": "stream",
     "text": [
      "/home/hp/.local/lib/python3.10/site-packages/huggingface_hub/file_download.py:1132: FutureWarning: `resume_download` is deprecated and will be removed in version 1.0.0. Downloads always resume when possible. If you want to force a new download, use `force_download=True`.\n",
      "  warnings.warn(\n"
     ]
    }
   ],
   "source": [
    "from langchain_chroma import Chroma\n",
    "from langchain_community.document_loaders import TextLoader\n",
    "from langchain_community.embeddings.sentence_transformer import (\n",
    "    SentenceTransformerEmbeddings,\n",
    ")\n",
    "\n",
    "model_name=\"BAAI/bge-large-en-v1.5\"\n",
    "model_kwargs = {\"device\": \"cpu\",\"trust_remote_code\":True}\n",
    "encode_kwargs = {\"normalize_embeddings\": True}\n",
    "\n",
    "\n",
    "# text_splitter = RecursiveCharacterTextSplitter(chunk_size=250,\n",
    "    #                                                    chunk_overlap=50)\n",
    "\n",
    "\n",
    "\n",
    "\n",
    "embedding_function = SentenceTransformerEmbeddings(\n",
    "model_name=model_name,\n",
    "model_kwargs=model_kwargs,\n",
    "encode_kwargs=encode_kwargs,\n",
    ")\n",
    "\n"
   ]
  },
  {
   "cell_type": "code",
   "execution_count": 9,
   "id": "fbbb6e7b",
   "metadata": {},
   "outputs": [
    {
     "data": {
      "text/plain": [
       "<langchain_chroma.vectorstores.Chroma at 0x7f8d02702200>"
      ]
     },
     "execution_count": 9,
     "metadata": {},
     "output_type": "execute_result"
    }
   ],
   "source": [
    "vectordb = Chroma(persist_directory=\"embed\",embedding_function=embedding_function)\n",
    "vectordb"
   ]
  },
  {
   "cell_type": "code",
   "execution_count": 3,
   "id": "027ac9dd",
   "metadata": {},
   "outputs": [],
   "source": [
    "from transformers import AutoTokenizer, AutoModelForCausalLM\n",
    "\n",
    "def check_token_limit(new_documents):\n",
    "  tokenizer = AutoTokenizer.from_pretrained(\"meta-llama/Meta-Llama-3-8B\")\n",
    "  tokens=tokenizer(new_documents)\n",
    "  n_tokens=len(tokens.input_ids)\n",
    "  return n_tokens"
   ]
  },
  {
   "cell_type": "code",
   "execution_count": 11,
   "id": "624bbe85",
   "metadata": {},
   "outputs": [],
   "source": [
    "k=100\n",
    "def search(prompt):\n",
    "  print(\"-----------\")\n",
    "  print(prompt)\n",
    "  docs = vectordb.similarity_search_with_score(query=prompt,k=k)\n",
    "  # print(\"Documents:\")\n",
    "  # print(len(docs))\n",
    "  # print(\"::Documents\")\n",
    "  new_documents=\" \"\n",
    "  for i in range(0,len(docs)):\n",
    "    temp_doc=docs[i][0].page_content\n",
    "    # print(\"Chunk : : \\n : \"+ temp_doc)\n",
    "    check_doc=new_documents+temp_doc\n",
    "    tokens=check_token_limit(check_doc)\n",
    "    if tokens>4000:\n",
    "      doc=temp_doc\n",
    "      for x in range(0,5):\n",
    "        doc= doc[:len(doc) // 2]\n",
    "        temp_tokens=check_token_limit(doc+new_documents)\n",
    "        if temp_tokens<=3950:\n",
    "          new_documents =new_documents+doc + \"\\n\\n--------------------\\n\\n\"\n",
    "          break\n",
    "\n",
    "\n",
    "      return new_documents\n",
    "    else:\n",
    "      new_documents=check_doc + \"\\n\\n-----------------\\n\\n\"\n",
    "\n",
    "  return new_documents"
   ]
  },
  {
   "cell_type": "code",
   "execution_count": 5,
   "id": "8f0fbcb6",
   "metadata": {},
   "outputs": [],
   "source": [
    "system_prompt=\"\"\"You are a knowledgeable and professional assistant tasked with providing detailed information about construction contract. Your responses should be concise, informative, and strictly adhere to the terms and conditions outlined in the provided contract details.\"\"\""
   ]
  },
  {
   "cell_type": "code",
   "execution_count": 6,
   "id": "93f59dcb-c588-41b8-a792-55d88ade739c",
   "metadata": {},
   "outputs": [],
   "source": [
    "from langchain_community.llms import Ollama\n",
    "from langchain_community.chat_models import ChatOllama\n",
    "from langchain_core.messages import SystemMessage, HumanMessage\n",
    "\n",
    "\n",
    "# llm = Ollama(model=\"llama3:8b-text-q4_K_M\")\n",
    " \n",
    "llm = ChatOllama(\n",
    "    model=\"llama3:8b-instruct-q4_K_M\",\n",
    "    n_ctx=8000,\n",
    "    temperature=0.0,\n",
    "    top_p=0.7,\n",
    "    \n",
    "    system_message=SystemMessage(content=system_prompt)\n",
    ")\n"
   ]
  },
  {
   "cell_type": "code",
   "execution_count": null,
   "id": "c2ebc1cd",
   "metadata": {},
   "outputs": [],
   "source": [
    "llm.invoke(\"hello\")"
   ]
  },
  {
   "cell_type": "code",
   "execution_count": null,
   "id": "60a4ae04",
   "metadata": {},
   "outputs": [],
   "source": []
  },
  {
   "cell_type": "code",
   "execution_count": 13,
   "id": "1b413c58",
   "metadata": {},
   "outputs": [],
   "source": [
    "prompts = [\n",
    "    \"What is CONTRACTOR limit of liability and the liability cap?\",\n",
    "    \"Under what condition COMPANY can terminate the contract?\",\n",
    "    \"Can CONTRACTOR terminate the contract?\",\n",
    "    \"Can CONTRACTOR claim extension of time and additional cost on account of force majeure?\",\n",
    "    \"Is increase in quantity a COMPANY risk event or CONTRACTOR risk event?\",\n",
    "]\n"
   ]
  },
  {
   "cell_type": "markdown",
   "metadata": {},
   "source": []
  },
  {
   "cell_type": "code",
   "execution_count": 28,
   "id": "ca29078b",
   "metadata": {},
   "outputs": [
    {
     "name": "stderr",
     "output_type": "stream",
     "text": [
      "Special tokens have been added in the vocabulary, make sure the associated word embeddings are fine-tuned or trained.\n"
     ]
    },
    {
     "data": {
      "text/plain": [
       "4447"
      ]
     },
     "execution_count": 28,
     "metadata": {},
     "output_type": "execute_result"
    }
   ],
   "source": [
    "check_token_limit(new_documents)"
   ]
  },
  {
   "cell_type": "code",
   "execution_count": 11,
   "metadata": {},
   "outputs": [],
   "source": [
    "import time \n",
    "\n",
    "time.sleep(2000)"
   ]
  },
  {
   "cell_type": "code",
   "execution_count": 16,
   "id": "0d968b2b",
   "metadata": {},
   "outputs": [
    {
     "ename": "NameError",
     "evalue": "name 'sleep' is not defined",
     "output_type": "error",
     "traceback": [
      "\u001b[0;31m---------------------------------------------------------------------------\u001b[0m",
      "\u001b[0;31mNameError\u001b[0m                                 Traceback (most recent call last)",
      "Cell \u001b[0;32mIn[16], line 1\u001b[0m\n\u001b[0;32m----> 1\u001b[0m \u001b[43msleep\u001b[49m(\u001b[38;5;241m1000\u001b[39m)\n",
      "\u001b[0;31mNameError\u001b[0m: name 'sleep' is not defined"
     ]
    }
   ],
   "source": []
  },
  {
   "cell_type": "code",
   "execution_count": 12,
   "id": "4a9f3027",
   "metadata": {},
   "outputs": [
    {
     "name": "stdout",
     "output_type": "stream",
     "text": [
      "-----------\n",
      "What is CONTRACTOR limit of liability and the liability cap?\n"
     ]
    },
    {
     "name": "stderr",
     "output_type": "stream",
     "text": [
      "Special tokens have been added in the vocabulary, make sure the associated word embeddings are fine-tuned or trained.\n",
      "Special tokens have been added in the vocabulary, make sure the associated word embeddings are fine-tuned or trained.\n",
      "Special tokens have been added in the vocabulary, make sure the associated word embeddings are fine-tuned or trained.\n",
      "Special tokens have been added in the vocabulary, make sure the associated word embeddings are fine-tuned or trained.\n",
      "Special tokens have been added in the vocabulary, make sure the associated word embeddings are fine-tuned or trained.\n",
      "Special tokens have been added in the vocabulary, make sure the associated word embeddings are fine-tuned or trained.\n",
      "Special tokens have been added in the vocabulary, make sure the associated word embeddings are fine-tuned or trained.\n",
      "Special tokens have been added in the vocabulary, make sure the associated word embeddings are fine-tuned or trained.\n",
      "Special tokens have been added in the vocabulary, make sure the associated word embeddings are fine-tuned or trained.\n",
      "Special tokens have been added in the vocabulary, make sure the associated word embeddings are fine-tuned or trained.\n",
      "Special tokens have been added in the vocabulary, make sure the associated word embeddings are fine-tuned or trained.\n",
      "Special tokens have been added in the vocabulary, make sure the associated word embeddings are fine-tuned or trained.\n",
      "Special tokens have been added in the vocabulary, make sure the associated word embeddings are fine-tuned or trained.\n",
      "Special tokens have been added in the vocabulary, make sure the associated word embeddings are fine-tuned or trained.\n",
      "Special tokens have been added in the vocabulary, make sure the associated word embeddings are fine-tuned or trained.\n",
      "Special tokens have been added in the vocabulary, make sure the associated word embeddings are fine-tuned or trained.\n",
      "Special tokens have been added in the vocabulary, make sure the associated word embeddings are fine-tuned or trained.\n",
      "Special tokens have been added in the vocabulary, make sure the associated word embeddings are fine-tuned or trained.\n",
      "Special tokens have been added in the vocabulary, make sure the associated word embeddings are fine-tuned or trained.\n",
      "Special tokens have been added in the vocabulary, make sure the associated word embeddings are fine-tuned or trained.\n",
      "Special tokens have been added in the vocabulary, make sure the associated word embeddings are fine-tuned or trained.\n",
      "Special tokens have been added in the vocabulary, make sure the associated word embeddings are fine-tuned or trained.\n",
      "Special tokens have been added in the vocabulary, make sure the associated word embeddings are fine-tuned or trained.\n",
      "Special tokens have been added in the vocabulary, make sure the associated word embeddings are fine-tuned or trained.\n",
      "Special tokens have been added in the vocabulary, make sure the associated word embeddings are fine-tuned or trained.\n",
      "Special tokens have been added in the vocabulary, make sure the associated word embeddings are fine-tuned or trained.\n"
     ]
    },
    {
     "name": "stdout",
     "output_type": "stream",
     "text": [
      " <Data>: \n",
      " 41.1 In the event any CONTRACTOR PERSONNEL are performing WORKS in the UAE, without limitation to its obligations and responsibilities, the CONTRACTOR shall obtain and maintain Workmen’s Compensation Insurance (Employer’s Liability) with a limit of liability of not less than USD 1,000,000 per occurrence.\n",
      "41.2 In the event any CONTRACTOR PERSONNEL are performing WORKS outside the UAE, without limitation to its obligations and responsibilities, the CONTRACTOR shall obtain and maintain Workmen’s Compensation Insurance (Employer’s Liability) or insurance coverage of a comparable \n",
      "nature in accordance with the applicable LAW and/or the contracts of employment of the CONTRACTOR PERSONNEL.\n",
      "\n",
      "-----------------\n",
      "\n",
      "41.5 The CONTRACTOR shall obtain and maintain: Third Party Liability Insurance with a limit of not less than USD 10,000,000 per occurrence; and Pollution Liability Insurance to cover the risk arising from the performance of WORKS and any pollution emanating/originating from the CONTRACTOR CONSTRUCTION EQUIPMENT with a limit of not less than USD 10,000,000 per occurrence, noting that the two insurance coverage requirements named in Articles 41.5(a) and 41.5(b) may be addressed in one insurance policy.\n",
      "41.6 The CONTRACTOR shall ensure that all insurance policies provided by the CONTRACTOR shall: be obtained on an additional insured basis in the names of the PARTIES with the exception of the insurances required under Articles 41.1 and 41.2; and contain a waiver of subrogation against its contractual principals which shall include the COMPANY INDEMNIFIED PARTIES, to the extent of the liabilities assumed by the CONTRACTOR under the AGREEMENT.\n",
      "\n",
      "-----------------\n",
      "\n",
      "41.3 In the event the CONTRACTOR uses motor vehicles in the performance of the WORKS in the UAE, the CONTRACTOR shall obtain and maintain Motor Vehicle Third Party and Passenger Liability Insurance which shall be: as per the applicable LAWS of the UAE for death or injury to any THIRD PARTY; and for damage to PROPERTY of a THIRD PARTY with a limit of not less than USD 1,000,000 per occurrence.\n",
      "41.4 Without limitation to its obligations and responsibilities, the CONTRACTOR shall obtain and maintain All Risk Insurance on CONTRACTOR CONSTRUCTION EQUIPMENT covering the full value thereof.\n",
      "\n",
      "-----------------\n",
      "\n",
      "For the avoidance of doubt, the governing law and dispute resolution provisions of Article 46 of ANNEXURE 2 \n",
      " \n",
      "PERFORMANCE BANK \n",
      "GUARANTEE amount: \n",
      "10% of the INITIAL AGREEMENT PRICE.] \n",
      " \n",
      "PARENT COMPANY \n",
      "GUARANTEE: \n",
      "As Applicable \n",
      " \n",
      "Additional CONTRACTOR \n",
      "insurance requirements (in \n",
      "addition to those stated in \n",
      "Articles 41.1 to 41.15): \n",
      "NO  \n",
      "  \n",
      " \n",
      " \n",
      "Total liability cap: \n",
      "100% of the AGREEMENT PRICE. \n",
      " \n",
      "REPRESENTATIVES: \n",
      "COMPANY REPRESENTATIVE, as defined in Article 2.1(b), \n",
      "shall mean:  \n",
      "Name:  \n",
      "Title:  \n",
      "Tel.: +971 \n",
      "Email:  \n",
      "Fax: [●]  \n",
      " \n",
      "CONTRACTOR REPRESENTATIVE, as defined in \n",
      "Article 2.1(a), shall mean: \n",
      "Name: [●] \n",
      "Title: [●] \n",
      "Tel.: [●] \n",
      "Email: [●] \n",
      "Fax: [●]  \n",
      " \n",
      "Notice details: \n",
      "Notices to the COMPANY: \n",
      "Attention:   \n",
      "Address:  \n",
      "Tel:  +971  \n",
      "Email:   \n",
      "Fax:  [insert] \n",
      " \n",
      "Notices to the CONTRACTOR: \n",
      "Attention: [insert name of CONTRACTOR REPRESENTATIVE] \n",
      "Address: [insert] \n",
      "Tel:  [insert] \n",
      "Email: [insert] \n",
      "Fax:  [insert]\n",
      "\n",
      "-----------------\n",
      "\n",
      "Articles 42.1(b), 42.2(b), 42.3(c) and 42.4(b).Notwithstanding Articles 42.9(a) and 42.9(b) above, no PARTY shall be deemed to have waived any claims against the other PARTY or its related INDEMNIFIED PARTIES in respect of events arising out of or in connection with the GROSS NEGLIGENCE / WILFUL MISCONDUCT of that other PARTY or its related INDEMNIFIED PARTIES. The COMPANY INDEMNIFIED PARTIES and the CONTRACTOR INDEMNIFIED PARTIES shall remain liable in respect of events arising out of or in connection with their GROSS NEGLIGENCE / WILFUL MISCONDUCT.\n",
      "42.10 LIMITATIONS OF LIABILITY \n",
      "The total liability of either PARTY to the other PARTY arising under or in connection with the AGREEMENT shall be limited to the total liability cap set out in the FORM OF AGREEMENT. Article 42.10(a) shall not apply in relation to, or otherwise limit or affect:\n",
      "\n",
      "-----------------\n",
      "\n",
      "42. LIABILITY AND INDEMNITY\n",
      "42.1LIABILITY FOR PERSONNEL \n",
      "The CONTRACTOR shall indemnify and hold harmless the COMPANY INDEMNIFIED PARTIES from and against all losses, liabilities, damages and costs (including legal costs) arising out of or in connection with any claim by any PERSON against the COMPANY INDEMNIFIED PARTIES in respect of death, illness of or injury to the CONTRACTOR PERSONNEL that arises out of or in connection with the performance or non-performance of the AGREEMENT by the COMPANY INDEMNIFIED PARTIES and/or the CONTRACTOR INDEMNIFIED PARTIES, except to the extent arising out of or in connection with the GROSS NEGLIGENCE / WILFUL MISCONDUCT of the COMPANY INDEMNIFIED PARTIES.\n",
      "\n",
      "-----------------\n",
      "\n",
      "Where Article 16.3(d)(v) applies, the CONTRACTOR shall be required to reimburse such \n",
      "portion of the AGREEMENT PRICE as the COMPANY deems sufficient to compensate it for \n",
      "any losses, costs or expenses that it has suffered or may suffer as a consequence of, or in \n",
      "connection with, the FACILITIES not achieving the PERFORMANCE GUARANTEES, up to \n",
      "the amount of the CONTRACTOR’s total liability cap as set out in the FORM OF \n",
      "AGREEMENT.\n",
      "16.4 SUPPLY OF FUEL / HYDROCARBONS / UTILITIES AND/OR FEEDSTOCK To the extent that the COMPANY is responsible pursuant to ANNEXURE 6 for supply of fuel / hydrocarbons / utilities and/or FEEDSTOCK:\n",
      "\n",
      "-----------------\n",
      "\n",
      "47.2\n",
      "If the COMPANY deems (at its absolute discretion) that any BUSINESS VENTURE by the \n",
      "CONTRACTOR under this Article 47 is prejudicial to the COMPANY’s interest, the COMPANY shall \n",
      "instruct the CONTRACTOR in writing to take steps to terminate such BUSINESS VENTURE, and the \n",
      "CONTRACTOR shall comply with the COMPANY’s instruction. \n",
      "48. \n",
      "ENTIRE AGREEMENT \n",
      "The AGREEMENT constitutes the entire agreement between the PARTIES concerning the subject \n",
      "matter of the AGREEMENT and supersedes and, subject to Article 3.2, replaces any previous \n",
      "agreements between the PARTIES or any representation made by one PARTY to the other PARTY \n",
      "(whether oral or written) concerning the subject matter of the AGREEMENT.  To the extent permitted \n",
      "by LAW, the PARTIES shall not be bound by or be liable for any statement, representation, promise, \n",
      "inducement or understanding of any kind or nature not set forth herein, provided that nothing in this \n",
      "Article 48 shall limit a PARTY’s liability for fraud.\n",
      "\n",
      "-----------------\n",
      "\n",
      "42.2  LIABILITY FOR PROPERTY \n",
      " \n",
      "The CONTRACTOR shall indemnify and hold harmless the COMPANY INDEMNIFIED PARTIES from and against all losses, liabilities, damages and costs (including legal costs) arising out of or in connection with any claim by any PERSON against the COMPANY INDEMNIFIED PARTIES in respect of:\n",
      "(i) loss of or damage to the PROPERTY of the CONTRACTOR INDEMNIFIED  PARTIES, including the loss of use thereof, that arises out of or in connection with the performance or non-performance of the AGREEMENT by the COMPANY INDEMNIFIED PARTIES and/or the CONTRACTOR INDEMNIFIED PARTIES; and\n",
      "\n",
      "-----------------\n",
      "\n",
      "(i) either PARTY’s liability in respect of: its GROSS NEGLIGENCE / WILFUL MISCONDUCT or fraud;  a breach of Article 37;  THIRD PARTIES; or an indemnity obligation to the other PARTY under Articles 4.3(e), 20.6, 22.3, 41.12, 41.16(d) and 42.1 to 42.5 (as applicable); \n",
      "(ii) the CONTRACTOR’s liability: in respect of its warranty of title pursuant to Article 33; or to make payments, to the extent corresponding payments: \n",
      "(1) are received or receivable by the CONTRACTOR, or adjusted or \n",
      "declined by insurers, pursuant to the insurance policies required by \n",
      "Article 41, or \n",
      "(2) would have been received pursuant to such policies (including via \n",
      "reimbursement from the COMPANY) had the CONTRACTOR \n",
      "complied with its obligations under the AGREEMENT to effect and \n",
      "maintain insurance; or \n",
      "(iii) the COMPANY’s liability as a result of the payment of any part of the AGREEMENT PRICE made in consideration of the CONTRACTOR’s performance of its obligations under the AGREEMENT.\n",
      "\n",
      "-----------------\n",
      "\n",
      "Article 42. The CONTRACTOR shall save, indemnify, defend, release and hold harmless the COMPANY INDEMNIFIED PARTIES from and against all losses, liabilities, damages and costs (including legal costs) arising out of or in connection with any claim by any PERSON against the \n",
      "COMPANY INDEMNIFIED PARTIES in respect of any shortfall in insurance cover it is obliged to obtain under the AGREEMENT or any failure to effect or maintain such insurances specified by the AGREEMENT or out of any act or omission, which invalidates the said insurances or in the event that \n",
      "liability for any loss or damage be denied by any underwriter, in all or in part, because of breach of said insurance requirements by the CONTRACTOR, to the extent of the liabilities assumed by the \n",
      "CONTRACTOR under the AGREEMENT.\n",
      "\n",
      "-----------------\n",
      "\n",
      "Subject to the CONTRACTOR’s liability to pay DELAY LIQUIDATED DAMAGES pursuant to Article 18.4, the COMPANY INDEMNIFIED PARTIES shall have no liability to the CONTRACTOR INDEMNIFIED PARTIES and the CONTRACTOR INDEMNIFIED PARTIES shall have no liability to the COMPANY INDEMNIFIED PARTIES, whether in contract, tort (including negligence), breach of statutory duty, or otherwise, for any of the other’s indirect or consequential loss or any loss of profit or revenue, loss of production or downtime costs, loss of opportunity, loss of contract or loss of goodwill or other pure economic loss arising under or in connection with the AGREEMENT (“CONSEQUENTIAL LOSS”). Article 42.11(a) shall not apply in relation to, or otherwise limit or affect the liability of the INDEMNIFYING PARTY towards the INDEMNIFIED PARTY under Articles 4.3(e), 20.6, 22.3, 41.12, 41.16(d) or Articles 42.1 to 42.5, to the extent such liability arises out of a claim against the INDEMNIFIED PARTY by a THIRD PARTY. \n",
      "42.12\n",
      "\n",
      "-----------------\n",
      "\n",
      "42.3 LIABILITY FOR THIRD PARTIES \n",
      "Subject to Article 42.4(b), the CONTRACTOR shall indemnify and hold harmless the COMPANY INDEMNIFIED PARTIES from and against all losses, liabilities, damages and costs (including legal costs) arising out of or in connection with any claim by any PERSON against the COMPANY INDEMNIFIED PARTIES in respect of any of the following: \n",
      "(i) death, illness of or injury to any THIRD PARTY; or \n",
      "(ii) loss of or damage to the PROPERTY of any THIRD PARTY, \n",
      "which, in the case of each event, arises out of or in connection with any negligent act or omission \n",
      "by the CONTRACTOR INDEMNIFIED PARTIES. \n",
      " \n",
      "Not used. \n",
      " \n",
      "Subject to Article 42.4(b), the COMPANY shall indemnify and hold harmless the \n",
      "CONTRACTOR INDEMNIFIED PARTIES from and against all losses, liabilities, damages \n",
      "and costs (including legal costs) arising out of or in connection with any claim by any PERSON \n",
      "against the CONTRACTOR INDEMNIFIED PARTIES in respect of any of the following: \n",
      "(i)\n",
      "\n",
      "-----------------\n",
      "\n",
      "(ii) loss of or damage to the PROPERTY of the COMPANY INDEMNIFIED PARTIES, including the loss of use thereof, that arises out of or in connection with the performance or non-performance of the AGREEMENT by the CONTRACTOR INDEMNIFIED PARTIES up to a maximum of USD 1,000,000 per occurrence, in the case of each event, except to the extent arising out of or in connection with the GROSS NEGLIGENCE / WILFUL MISCONDUCT of the COMPANY INDEMNIFIED PARTIES.  Subject to Article 42.4(b), the COMPANY shall indemnify and hold harmless the \n",
      "CONTRACTOR INDEMNIFIED PARTIES from and against all losses, liabilities, damages and costs (including legal costs) arising out of or in connection with any claim by any PERSON against the CONTRACTOR INDEMNIFIED PARTIES in respect of any loss of (including the\n",
      "\n",
      "-----------------\n",
      "\n",
      "legal expenses) arising from or in connection with any pollution emanating from the reservoir \n",
      "or from any PROPERTY of the COMPANY INDEMNIFIED PARTIES.\n",
      "42.5\n",
      "LIABILITY FOR INTELLECTUAL PROPERTY RIGHTS INFRINGEMENT \n",
      "The CONTRACTOR shall indemnify and hold harmless the COMPANY INDEMNIFIED PARTIES \n",
      "from and against all losses, liabilities, damages and costs (including legal costs) arising out of or in \n",
      "connection with any claim by any PERSON against the COMPANY INDEMNIFIED PARTIES in \n",
      "respect of any infringement by the WORKS or the WORKS DOCUMENTATION (or any part thereof) \n",
      "of the INTELLECTUAL PROPERTY RIGHTS of a THIRD PARTY or of the CONTRACTOR \n",
      "INDEMNIFIED PARTIES, except to the extent such infringement is based solely on: \n",
      " \n",
      "any information or materials provided by the COMPANY to the CONTRACTOR; or \n",
      " \n",
      "the COMPANY’s use of the WORKS and WORKS DOCUMENTATION for purposes not \n",
      "contemplated by the AGREEMENT; or\n",
      "\n",
      "-----------------\n",
      "\n",
      "33.2 RISK OF LOSS \n",
      "(a) The CONTRACTOR shall take full responsibility for the care of the WORKS from the EFFECTIVE DATE until issuance of the PROVISIONAL ACCEPTANCE CERTIFICATE, following which responsibility for the care of the WORKS shall pass to the COMPANY (subject to Article 33.2(b)).  In case of any loss or damage to the WORKS prior to issuance of the PROVISIONAL ACCEPTANCE CERTIFICATE as a consequence of any cause not listed in Article 33.2(c), the CONTRACTOR shall rectify such loss or damage at its sole cost and expense. \n",
      " \n",
      "(b) Without prejudice to Article 33.2(a), the CONTRACTOR shall remain liable for any loss or \n",
      "damage caused to all or a part of the WORKS or the COMPANY by any acts or omissions of \n",
      "the CONTRACTOR or by another PERSON acting on behalf of the CONTRACTOR: \n",
      "(i) \n",
      "after issuance of the PROVISIONAL ACCEPTANCE CERTIFICATE (including in connection with the CONTRACTOR’s performance of its remedial obligations during the WARRANTY PERIOD); or\n",
      "\n",
      "-----------------\n",
      "\n",
      "PARTIES.  The CONTRACTOR’s suspension of the WORKS in accordance with this Article 23.7(a)(i) shall not prejudice its entitlement to terminate the AGREEMENT pursuant to Article 23.7(a)(ii); and \n",
      "(ii) within one hundred and twenty (120) DAYS of the expiry of the time period specified in Articles 23.2(b), 23.3(c) or 23.3(d), the CONTRACTOR may: \n",
      "(A) notify the COMPANY in writing of its intention to terminate the \n",
      "AGREEMENT if such payment is not made within fourteen (14) DAYS from \n",
      "the date of receipt of the notice by the COMPANY; and \n",
      "(B) following expiry of the fourteen (14) DAY period specified in Article 23.7(a)(ii)(A),  the  CONTRACTOR  may  terminate  the  AGREEMENT by written notice to the COMPANY, provided that the  majority of thef outstanding undisputed amount (or such other amount agreed \n",
      "between the PARTIES) has not been paid at the time of delivery of such \n",
      "notice.\n",
      "\n",
      "-----------------\n",
      "\n",
      "obligations or interests under the agreement with the CONTRACTOR without the prior \n",
      "written consent of the CONTRACTOR (which shall only be given if and when the \n",
      "CONTRACTOR obtains the COMPANY’s prior written consent to such assignment, \n",
      "novation, transfer or further subcontracting); and \n",
      "(viii) \n",
      "participate in any assignment, novation or transfer of rights, obligations or interests \n",
      "made by the COMPANY pursuant to Article Error! Reference source not found.. \n",
      " \n",
      "The CONTRACTOR shall be solely responsible for all payments to its SUBCONTRACTORS and \n",
      "VENDORS, and the CONTRACTOR shall indemnify and hold harmless the COMPANY from and \n",
      "against all losses, liabilities, damages and costs (including legal costs) arising out of or in connection \n",
      "with any claim by its SUBCONTRACTORS or VENDORS against the COMPANY. \n",
      "21. \n",
      "HEALTH, SAFETY AND ENVIRONMENT\n",
      "21.1 The CONTRACTOR shall: \n",
      " \n",
      "perform its obligations under the AGREEMENT (including those in relation to the WORKS) \n",
      "in accordance with: \n",
      "(i)\n",
      "\n",
      "-----------------\n",
      "\n",
      "death, illness of or injury to any THIRD PARTY; or \n",
      "(ii) \n",
      "loss of or damage to the PROPERTY of any THIRD PARTY, \n",
      "which, in the case of each event, arises out of or in connection with any negligent act or omission \n",
      "by the COMPANY INDEMNIFIED PARTIES.\n",
      "42.4 LIABILITY FOR POLLUTION AND CONTAMINATION \n",
      "Pollution from CONTRACTOR PROPERTY \n",
      " \n",
      "The CONTRACTOR shall indemnify and hold harmless the COMPANY INDEMNIFIED \n",
      "PARTIES from and against all losses, claims, costs, liabilities, damages and expenses (including \n",
      "legal expenses) arising from or in connection with any pollution originating from any \n",
      "PROPERTY of the CONTRACTOR INDEMNIFIED PARTIES which arises out of the \n",
      "CONTRACTOR’s performance of the WORKS and/or the AGREEMENT. \n",
      "Pollution from the reservoir and COMPANY PROPERTY \n",
      " \n",
      "The COMPANY shall indemnify and hold harmless the CONTRACTOR INDEMNIFIED \n",
      "PARTIES from and against all losses, claims, costs, liabilities, damages and expenses (including\n",
      "\n",
      "-----------------\n",
      "\n",
      "43.1The CONTRACTOR shall not assign, novate or otherwise transfer any of its rights, obligations or interests under and in connection with the AGREEMENT without the prior written consent of the COMPANY. Any purported assignment, novation, or transfer without the prior written consent of the COMPANY shall be expressly deemed absolutely null and void against the COMPANY and shall not transfer any rights in the AGREEMENT to the purported assignee and, in such event, the COMPANY shall have no obligation whatsoever to the purported assignee. Any purported assignment, novation, or transfer without the prior written consent of the COMPANY shall entitle the COMPANY to terminate the AGREEMENT with immediate effect in accordance with Article 35.3(a)(i).\n",
      "43.2 The COMPANY may assign, novate or otherwise transfer any of its rights, obligations or interests under and in connection with the AGREEMENT to any AFFILIATE upon written notice to the\n",
      "\n",
      "-----------------\n",
      "\n",
      "\n",
      "\n",
      " -------------------  \n",
      "\n",
      " <Question>: What is CONTRACTOR limit of liability and the liability cap?\n"
     ]
    }
   ],
   "source": [
    "new_documents=search(prompt[0])\n",
    "question = \" <Data>: \\n\" + new_documents + \"\\n\\n ------------------- \"+\" \\n\\n <Question>: \"+prompt[0]\n",
    "print(question)"
   ]
  },
  {
   "cell_type": "code",
   "execution_count": 24,
   "id": "750e262c",
   "metadata": {},
   "outputs": [
    {
     "data": {
      "text/plain": [
       "' 41.1 In the event any CONTRACTOR PERSONNEL are performing WORKS in the UAE, without limitation to its obligations and responsibilities, the CONTRACTOR shall obtain and maintain Workmen’s Compensation Insurance (Employer’s Liability) with a limit of liability of not less than USD 1,000,000 per occurrence.\\n41.2 In the event any CONTRACTOR PERSONNEL are performing WORKS outside the UAE, without limitation to its obligations and responsibilities, the CONTRACTOR shall obtain and maintain Workmen’s Compensation Insurance (Employer’s Liability) or insurance coverage of a comparable \\nnature in accordance with the applicable LAW and/or the contracts of employment of the CONTRACTOR PERSONNEL.\\n\\n\\n-----------------\\n\\n\\n41.5 The CONTRACTOR shall obtain and maintain: Third Party Liability Insurance with a limit of not less than USD 10,000,000 per occurrence; and Pollution Liability Insurance to cover the risk arising from the performance of WORKS and any pollution emanating/originating from the CONTRACTOR CONSTRUCTION EQUIPMENT with a limit of not less than USD 10,000,000 per occurrence, noting that the two insurance coverage requirements named in Articles 41.5(a) and 41.5(b) may be addressed in one insurance policy.\\n41.6 The CONTRACTOR shall ensure that all insurance policies provided by the CONTRACTOR shall: be obtained on an additional insured basis in the names of the PARTIES with the exception of the insurances required under Articles 41.1 and 41.2; and contain a waiver of subrogation against its contractual principals which shall include the COMPANY INDEMNIFIED PARTIES, to the extent of the liabilities assumed by the CONTRACTOR under the AGREEMENT.\\n\\n\\n-----------------\\n\\n\\n41.3 In the event the CONTRACTOR uses motor vehicles in the performance of the WORKS in the UAE, the CONTRACTOR shall obtain and maintain Motor Vehicle Third Party and Passenger Liability Insurance which shall be: as per the applicable LAWS of the UAE for death or injury to any THIRD PARTY; and for damage to PROPERTY of a THIRD PARTY with a limit of not less than USD 1,000,000 per occurrence.\\n41.4 Without limitation to its obligations and responsibilities, the CONTRACTOR shall obtain and maintain All Risk Insurance on CONTRACTOR CONSTRUCTION EQUIPMENT covering the full value thereof.\\n\\n\\n-----------------\\n\\n\\nFor the avoidance of doubt, the governing law and dispute resolution provisions of Article 46 of ANNEXURE 2 \\n \\nPERFORMANCE BANK \\nGUARANTEE amount: \\n10% of the INITIAL AGREEMENT PRICE.] \\n \\nPARENT COMPANY \\nGUARANTEE: \\nAs Applicable \\n \\nAdditional CONTRACTOR \\ninsurance requirements (in \\naddition to those stated in \\nArticles 41.1 to 41.15): \\nNO  \\n  \\n \\n \\nTotal liability cap: \\n100% of the AGREEMENT PRICE. \\n \\nREPRESENTATIVES: \\nCOMPANY REPRESENTATIVE, as defined in Article 2.1(b), \\nshall mean:  \\nName:  \\nTitle:  \\nTel.: +971 \\nEmail:  \\nFax: [●]  \\n \\nCONTRACTOR REPRESENTATIVE, as defined in \\nArticle 2.1(a), shall mean: \\nName: [●] \\nTitle: [●] \\nTel.: [●] \\nEmail: [●] \\nFax: [●]  \\n \\nNotice details: \\nNotices to the COMPANY: \\nAttention:   \\nAddress:  \\nTel:  +971  \\nEmail:   \\nFax:  [insert] \\n \\nNotices to the CONTRACTOR: \\nAttention: [insert name of CONTRACTOR REPRESENTATIVE] \\nAddress: [insert] \\nTel:  [insert] \\nEmail: [insert] \\nFax:  [insert]\\n\\n\\n-----------------\\n\\n\\nArticles 42.1(b), 42.2(b), 42.3(c) and 42.4(b).Notwithstanding Articles 42.9(a) and 42.9(b) above, no PARTY shall be deemed to have waived any claims against the other PARTY or its related INDEMNIFIED PARTIES in respect of events arising out of or in connection with the GROSS NEGLIGENCE / WILFUL MISCONDUCT of that other PARTY or its related INDEMNIFIED PARTIES. The COMPANY INDEMNIFIED PARTIES and the CONTRACTOR INDEMNIFIED PARTIES shall remain liable in respect of events arising out of or in connection with their GROSS NEGLIGENCE / WILFUL MISCONDUCT.\\n42.10 LIMITATIONS OF LIABILITY \\nThe total liability of either PARTY to the other PARTY arising under or in connection with the AGREEMENT shall be limited to the total liability cap set out in the FORM OF AGREEMENT. Article 42.10(a) shall not apply in relation to, or otherwise limit or affect:\\n\\n\\n-----------------\\n\\n\\n42. LIABILITY AND INDEMNITY\\n42.1LIABILITY FOR PERSONNEL \\nThe CONTRACTOR shall indemnify and hold harmless the COMPANY INDEMNIFIED PARTIES from and against all losses, liabilities, damages and costs (including legal costs) arising out of or in connection with any claim by any PERSON against the COMPANY INDEMNIFIED PARTIES in respect of death, illness of or injury to the CONTRACTOR PERSONNEL that arises out of or in connection with the performance or non-performance of the AGREEMENT by the COMPANY INDEMNIFIED PARTIES and/or the CONTRACTOR INDEMNIFIED PARTIES, except to the extent arising out of or in connection with the GROSS NEGLIGENCE / WILFUL MISCONDUCT of the COMPANY INDEMNIFIED PARTIES.\\n\\n\\n-----------------\\n\\n\\nWhere Article 16.3(d)(v) applies, the CONTRACTOR shall be required to reimburse such \\nportion of the AGREEMENT PRICE as the COMPANY deems sufficient to compensate it for \\nany losses, costs or expenses that it has suffered or may suffer as a consequence of, or in \\nconnection with, the FACILITIES not achieving the PERFORMANCE GUARANTEES, up to \\nthe amount of the CONTRACTOR’s total liability cap as set out in the FORM OF \\nAGREEMENT.\\n16.4 SUPPLY OF FUEL / HYDROCARBONS / UTILITIES AND/OR FEEDSTOCK To the extent that the COMPANY is responsible pursuant to ANNEXURE 6 for supply of fuel / hydrocarbons / utilities and/or FEEDSTOCK:\\n\\n\\n-----------------\\n\\n\\n47.2\\nIf the COMPANY deems (at its absolute discretion) that any BUSINESS VENTURE by the \\nCONTRACTOR under this Article 47 is prejudicial to the COMPANY’s interest, the COMPANY shall \\ninstruct the CONTRACTOR in writing to take steps to terminate such BUSINESS VENTURE, and the \\nCONTRACTOR shall comply with the COMPANY’s instruction. \\n48. \\nENTIRE AGREEMENT \\nThe AGREEMENT constitutes the entire agreement between the PARTIES concerning the subject \\nmatter of the AGREEMENT and supersedes and, subject to Article 3.2, replaces any previous \\nagreements between the PARTIES or any representation made by one PARTY to the other PARTY \\n(whether oral or written) concerning the subject matter of the AGREEMENT.  To the extent permitted \\nby LAW, the PARTIES shall not be bound by or be liable for any statement, representation, promise, \\ninducement or understanding of any kind or nature not set forth herein, provided that nothing in this \\nArticle 48 shall limit a PARTY’s liability for fraud.\\n\\n\\n-----------------\\n\\n\\n42.2  LIABILITY FOR PROPERTY \\n \\nThe CONTRACTOR shall indemnify and hold harmless the COMPANY INDEMNIFIED PARTIES from and against all losses, liabilities, damages and costs (including legal costs) arising out of or in connection with any claim by any PERSON against the COMPANY INDEMNIFIED PARTIES in respect of:\\n(i) loss of or damage to the PROPERTY of the CONTRACTOR INDEMNIFIED  PARTIES, including the loss of use thereof, that arises out of or in connection with the performance or non-performance of the AGREEMENT by the COMPANY INDEMNIFIED PARTIES and/or the CONTRACTOR INDEMNIFIED PARTIES; and\\n\\n\\n-----------------\\n\\n\\n(i) either PARTY’s liability in respect of: its GROSS NEGLIGENCE / WILFUL MISCONDUCT or fraud;  a breach of Article 37;  THIRD PARTIES; or an indemnity obligation to the other PARTY under Articles 4.3(e), 20.6, 22.3, 41.12, 41.16(d) and 42.1 to 42.5 (as applicable); \\n(ii) the CONTRACTOR’s liability: in respect of its warranty of title pursuant to Article 33; or to make payments, to the extent corresponding payments: \\n(1) are received or receivable by the CONTRACTOR, or adjusted or \\ndeclined by insurers, pursuant to the insurance policies required by \\nArticle 41, or \\n(2) would have been received pursuant to such policies (including via \\nreimbursement from the COMPANY) had the CONTRACTOR \\ncomplied with its obligations under the AGREEMENT to effect and \\nmaintain insurance; or \\n(iii) the COMPANY’s liability as a result of the payment of any part of the AGREEMENT PRICE made in consideration of the CONTRACTOR’s performance of its obligations under the AGREEMENT.\\n\\n\\n-----------------\\n\\n\\nArticle 42. The CONTRACTOR shall save, indemnify, defend, release and hold harmless the COMPANY INDEMNIFIED PARTIES from and against all losses, liabilities, damages and costs (including legal costs) arising out of or in connection with any claim by any PERSON against the \\nCOMPANY INDEMNIFIED PARTIES in respect of any shortfall in insurance cover it is obliged to obtain under the AGREEMENT or any failure to effect or maintain such insurances specified by the AGREEMENT or out of any act or omission, which invalidates the said insurances or in the event that \\nliability for any loss or damage be denied by any underwriter, in all or in part, because of breach of said insurance requirements by the CONTRACTOR, to the extent of the liabilities assumed by the \\nCONTRACTOR under the AGREEMENT.\\n\\n\\n-----------------\\n\\n\\nSubject to the CONTRACTOR’s liability to pay DELAY LIQUIDATED DAMAGES pursuant to Article 18.4, the COMPANY INDEMNIFIED PARTIES shall have no liability to the CONTRACTOR INDEMNIFIED PARTIES and the CONTRACTOR INDEMNIFIED PARTIES shall have no liability to the COMPANY INDEMNIFIED PARTIES, whether in contract, tort (including negligence), breach of statutory duty, or otherwise, for any of the other’s indirect or consequential loss or any loss of profit or revenue, loss of production or downtime costs, loss of opportunity, loss of contract or loss of goodwill or other pure economic loss arising under or in connection with the AGREEMENT (“CONSEQUENTIAL LOSS”). Article 42.11(a) shall not apply in relation to, or otherwise limit or affect the liability of the INDEMNIFYING PARTY towards the INDEMNIFIED PARTY under Articles 4.3(e), 20.6, 22.3, 41.12, 41.16(d) or Articles 42.1 to 42.5, to the extent such liability arises out of a claim against the INDEMNIFIED PARTY by a THIRD PARTY. \\n42.12\\n\\n\\n-----------------\\n\\n\\n42.3 LIABILITY FOR THIRD PARTIES \\nSubject to Article 42.4(b), the CONTRACTOR shall indemnify and hold harmless the COMPANY INDEMNIFIED PARTIES from and against all losses, liabilities, damages and costs (including legal costs) arising out of or in connection with any claim by any PERSON against the COMPANY INDEMNIFIED PARTIES in respect of any of the following: \\n(i) death, illness of or injury to any THIRD PARTY; or \\n(ii) loss of or damage to the PROPERTY of any THIRD PARTY, \\nwhich, in the case of each event, arises out of or in connection with any negligent act or omission \\nby the CONTRACTOR INDEMNIFIED PARTIES. \\n \\nNot used. \\n \\nSubject to Article 42.4(b), the COMPANY shall indemnify and hold harmless the \\nCONTRACTOR INDEMNIFIED PARTIES from and against all losses, liabilities, damages \\nand costs (including legal costs) arising out of or in connection with any claim by any PERSON \\nagainst the CONTRACTOR INDEMNIFIED PARTIES in respect of any of the following: \\n(i)\\n\\n\\n-----------------\\n\\n\\n(ii) loss of or damage to the PROPERTY of the COMPANY INDEMNIFIED PARTIES, including the loss of use thereof, that arises out of or in connection with the performance or non-performance of the AGREEMENT by the CONTRACTOR INDEMNIFIED PARTIES up to a maximum of USD 1,000,000 per occurrence, in the case of each event, except to the extent arising out of or in connection with the GROSS NEGLIGENCE / WILFUL MISCONDUCT of the COMPANY INDEMNIFIED PARTIES.  Subject to Article 42.4(b), the COMPANY shall indemnify and hold harmless the \\nCONTRACTOR INDEMNIFIED PARTIES from and against all losses, liabilities, damages and costs (including legal costs) arising out of or in connection with any claim by any PERSON against the CONTRACTOR INDEMNIFIED PARTIES in respect of any loss of (including the\\n\\n\\n-----------------\\n\\n\\nlegal expenses) arising from or in connection with any pollution emanating from the reservoir \\nor from any PROPERTY of the COMPANY INDEMNIFIED PARTIES.\\n42.5\\nLIABILITY FOR INTELLECTUAL PROPERTY RIGHTS INFRINGEMENT \\nThe CONTRACTOR shall indemnify and hold harmless the COMPANY INDEMNIFIED PARTIES \\nfrom and against all losses, liabilities, damages and costs (including legal costs) arising out of or in \\nconnection with any claim by any PERSON against the COMPANY INDEMNIFIED PARTIES in \\nrespect of any infringement by the WORKS or the WORKS DOCUMENTATION (or any part thereof) \\nof the INTELLECTUAL PROPERTY RIGHTS of a THIRD PARTY or of the CONTRACTOR \\nINDEMNIFIED PARTIES, except to the extent such infringement is based solely on: \\n \\nany information or materials provided by the COMPANY to the CONTRACTOR; or \\n \\nthe COMPANY’s use of the WORKS and WORKS DOCUMENTATION for purposes not \\ncontemplated by the AGREEMENT; or\\n\\n\\n-----------------\\n\\n\\n'"
      ]
     },
     "execution_count": 24,
     "metadata": {},
     "output_type": "execute_result"
    }
   ],
   "source": [
    "new_documents"
   ]
  },
  {
   "cell_type": "code",
   "execution_count": 12,
   "id": "a325f87b",
   "metadata": {},
   "outputs": [
    {
     "data": {
      "text/plain": [
       "' <Data>: \\n \\n \\n 41.1 In the event any CONTRACTOR PERSONNEL are performing WORKS in the UAE, without limitation to its obligations and responsibilities, the CONTRACTOR shall obtain and maintain Workmen’s Compensation Insurance (Employer’s Liability) with a limit of liability of not less than USD 1,000,000 per occurrence.\\n41.2 In the event any CONTRACTOR PERSONNEL are performing WORKS outside the UAE, without limitation to its obligations and responsibilities, the CONTRACTOR shall obtain and maintain Workmen’s Compensation Insurance (Employer’s Liability) or insurance coverage of a comparable \\nnature in accordance with the applicable LAW and/or the contracts of employment of the CONTRACTOR PERSONNEL.\\n\\n\\n-----------------\\n\\n\\n41.5 The CONTRACTOR shall obtain and maintain: Third Party Liability Insurance with a limit of not less than USD 10,000,000 per occurrence; and Pollution Liability Insurance to cover the risk arising from the performance of WORKS and any pollution emanating/originating from the CONTRACTOR CONSTRUCTION EQUIPMENT with a limit of not less than USD 10,000,000 per occurrence, noting that the two insurance coverage requirements named in Articles 41.5(a) and 41.5(b) may be addressed in one insurance policy.\\n41.6 The CONTRACTOR shall ensure that all insurance policies provided by the CONTRACTOR shall: be obtained on an additional insured basis in the names of the PARTIES with the exception of the insurances required under Articles 41.1 and 41.2; and contain a waiver of subrogation against its contractual principals which shall include the COMPANY INDEMNIFIED PARTIES, to the extent of the liabilities assumed by the CONTRACTOR under the AGREEMENT.\\n\\n\\n-----------------\\n\\n\\n41.3 In the event the CONTRACTOR uses motor vehicles in the performance of the WORKS in the UAE, the CONTRACTOR shall obtain and maintain Motor Vehicle Third Party and Passenger Liability Insurance which shall be: as per the applicable LAWS of the UAE for death or injury to any THIRD PARTY; and for damage to PROPERTY of a THIRD PARTY with a limit of not less than USD 1,000,000 per occurrence.\\n41.4 Without limitation to its obligations and responsibilities, the CONTRACTOR shall obtain and maintain All Risk Insurance on CONTRACTOR CONSTRUCTION EQUIPMENT covering the full value thereof.\\n\\n\\n-----------------\\n\\n\\nFor the avoidance of doubt, the governing law and dispute resolution provisions of Article 46 of ANNEXURE 2 \\n \\nPERFORMANCE BANK \\nGUARANTEE amount: \\n10% of the INITIAL AGREEMENT PRICE.] \\n \\nPARENT COMPANY \\nGUARANTEE: \\nAs Applicable \\n \\nAdditional CONTRACTOR \\ninsurance requirements (in \\naddition to those stated in \\nArticles 41.1 to 41.15): \\nNO  \\n  \\n \\n \\nTotal liability cap: \\n100% of the AGREEMENT PRICE. \\n \\nREPRESENTATIVES: \\nCOMPANY REPRESENTATIVE, as defined in Article 2.1(b), \\nshall mean:  \\nName:  \\nTitle:  \\nTel.: +971 \\nEmail:  \\nFax: [●]  \\n \\nCONTRACTOR REPRESENTATIVE, as defined in \\nArticle 2.1(a), shall mean: \\nName: [●] \\nTitle: [●] \\nTel.: [●] \\nEmail: [●] \\nFax: [●]  \\n \\nNotice details: \\nNotices to the COMPANY: \\nAttention:   \\nAddress:  \\nTel:  +971  \\nEmail:   \\nFax:  [insert] \\n \\nNotices to the CONTRACTOR: \\nAttention: [insert name of CONTRACTOR REPRESENTATIVE] \\nAddress: [insert] \\nTel:  [insert] \\nEmail: [insert] \\nFax:  [insert]\\n\\n\\n-----------------\\n\\n\\nArticles 42.1(b), 42.2(b), 42.3(c) and 42.4(b).Notwithstanding Articles 42.9(a) and 42.9(b) above, no PARTY shall be deemed to have waived any claims against the other PARTY or its related INDEMNIFIED PARTIES in respect of events arising out of or in connection with the GROSS NEGLIGENCE / WILFUL MISCONDUCT of that other PARTY or its related INDEMNIFIED PARTIES. The COMPANY INDEMNIFIED PARTIES and the CONTRACTOR INDEMNIFIED PARTIES shall remain liable in respect of events arising out of or in connection with their GROSS NEGLIGENCE / WILFUL MISCONDUCT.\\n42.10 LIMITATIONS OF LIABILITY \\nThe total liability of either PARTY to the other PARTY arising under or in connection with the AGREEMENT shall be limited to the total liability cap set out in the FORM OF AGREEMENT. Article 42.10(a) shall not apply in relation to, or otherwise limit or affect:\\n\\n\\n-----------------\\n\\n\\n42. LIABILITY AND INDEMNITY\\n42.1LIABILITY FOR PERSONNEL \\nThe CONTRACTOR shall indemnify and hold harmless the COMPANY INDEMNIFIED PARTIES from and against all losses, liabilities, damages and costs (including legal costs) arising out of or in connection with any claim by any PERSON against the COMPANY INDEMNIFIED PARTIES in respect of death, illness of or injury to the CONTRACTOR PERSONNEL that arises out of or in connection with the performance or non-performance of the AGREEMENT by the COMPANY INDEMNIFIED PARTIES and/or the CONTRACTOR INDEMNIFIED PARTIES, except to the extent arising out of or in connection with the GROSS NEGLIGENCE / WILFUL MISCONDUCT of the COMPANY INDEMNIFIED PARTIES.\\n\\n\\n-----------------\\n\\n\\nWhere Article 16.3(d)(v) applies, the CONTRACTOR shall be required to reimburse such \\nportion of the AGREEMENT PRICE as the COMPANY deems sufficient to compensate it for \\nany losses, costs or expenses that it has suffered or may suffer as a consequence of, or in \\nconnection with, the FACILITIES not achieving the PERFORMANCE GUARANTEES, up to \\nthe amount of the CONTRACTOR’s total liability cap as set out in the FORM OF \\nAGREEMENT.\\n16.4 SUPPLY OF FUEL / HYDROCARBONS / UTILITIES AND/OR FEEDSTOCK To the extent that the COMPANY is responsible pursuant to ANNEXURE 6 for supply of fuel / hydrocarbons / utilities and/or FEEDSTOCK:\\n\\n\\n-----------------\\n\\n\\n47.2\\nIf the COMPANY deems (at its absolute discretion) that any BUSINESS VENTURE by the \\nCONTRACTOR under this Article 47 is prejudicial to the COMPANY’s interest, the COMPANY shall \\ninstruct the CONTRACTOR in writing to take steps to terminate such BUSINESS VENTURE, and the \\nCONTRACTOR shall comply with the COMPANY’s instruction. \\n48. \\nENTIRE AGREEMENT \\nThe AGREEMENT constitutes the entire agreement between the PARTIES concerning the subject \\nmatter of the AGREEMENT and supersedes and, subject to Article 3.2, replaces any previous \\nagreements between the PARTIES or any representation made by one PARTY to the other PARTY \\n(whether oral or written) concerning the subject matter of the AGREEMENT.  To the extent permitted \\nby LAW, the PARTIES shall not be bound by or be liable for any statement, representation, promise, \\ninducement or understanding of any kind or nature not set forth herein, provided that nothing in this \\nArticle 48 shall limit a PARTY’s liability for fraud.\\n\\n\\n-----------------\\n\\n\\n42.2  LIABILITY FOR PROPERTY \\n \\nThe CONTRACTOR shall indemnify and hold harmless the COMPANY INDEMNIFIED PARTIES from and against all losses, liabilities, damages and costs (including legal costs) arising out of or in connection with any claim by any PERSON against the COMPANY INDEMNIFIED PARTIES in respect of:\\n(i) loss of or damage to the PROPERTY of the CONTRACTOR INDEMNIFIED  PARTIES, including the loss of use thereof, that arises out of or in connection with the performance or non-performance of the AGREEMENT by the COMPANY INDEMNIFIED PARTIES and/or the CONTRACTOR INDEMNIFIED PARTIES; and\\n\\n\\n-----------------\\n\\n\\n(i) either PARTY’s liability in respect of: its GROSS NEGLIGENCE / WILFUL MISCONDUCT or fraud;  a breach of Article 37;  THIRD PARTIES; or an indemnity obligation to the other PARTY under Articles 4.3(e), 20.6, 22.3, 41.12, 41.16(d) and 42.1 to 42.5 (as applicable); \\n(ii) the CONTRACTOR’s liability: in respect of its warranty of title pursuant to Article 33; or to make payments, to the extent corresponding payments: \\n(1) are received or receivable by the CONTRACTOR, or adjusted or \\ndeclined by insurers, pursuant to the insurance policies required by \\nArticle 41, or \\n(2) would have been received pursuant to such policies (including via \\nreimbursement from the COMPANY) had the CONTRACTOR \\ncomplied with its obligations under the AGREEMENT to effect and \\nmaintain insurance; or \\n(iii) the COMPANY’s liability as a result of the payment of any part of the AGREEMENT PRICE made in consideration of the CONTRACTOR’s performance of its obligations under the AGREEMENT.\\n\\n\\n-----------------\\n\\n\\nArticle 42. The CONTRACTOR shall save, indemnify, defend, release and hold harmless the COMPANY INDEMNIFIED PARTIES from and against all losses, liabilities, damages and costs (including legal costs) arising out of or in connection with any claim by any PERSON against the \\nCOMPANY INDEMNIFIED PARTIES in respect of any shortfall in insurance cover it is obliged to obtain under the AGREEMENT or any failure to effect or maintain such insurances specified by the AGREEMENT or out of any act or omission, which invalidates the said insurances or in the event that \\nliability for any loss or damage be denied by any underwriter, in all or in part, because of breach of said insurance requirements by the CONTRACTOR, to the extent of the liabilities assumed by the \\nCONTRACTOR under the AGREEMENT.\\n\\n\\n-----------------\\n\\n\\nSubject to the CONTRACTOR’s liability to pay DELAY LIQUIDATED DAMAGES pursuant to Article 18.4, the COMPANY INDEMNIFIED PARTIES shall have no liability to the CONTRACTOR INDEMNIFIED PARTIES and the CONTRACTOR INDEMNIFIED PARTIES shall have no liability to the COMPANY INDEMNIFIED PARTIES, whether in contract, tort (including negligence), breach of statutory duty, or otherwise, for any of the other’s indirect or consequential loss or any loss of profit or revenue, loss of production or downtime costs, loss of opportunity, loss of contract or loss of goodwill or other pure economic loss arising under or in connection with the AGREEMENT (“CONSEQUENTIAL LOSS”). Article 42.11(a) shall not apply in relation to, or otherwise limit or affect the liability of the INDEMNIFYING PARTY towards the INDEMNIFIED PARTY under Articles 4.3(e), 20.6, 22.3, 41.12, 41.16(d) or Articles 42.1 to 42.5, to the extent such liability arises out of a claim against the INDEMNIFIED PARTY by a THIRD PARTY. \\n42.12\\n\\n\\n-----------------\\n\\n\\n42.3 LIABILITY FOR THIRD PARTIES \\nSubject to Article 42.4(b), the CONTRACTOR shall indemnify and hold harmless the COMPANY INDEMNIFIED PARTIES from and against all losses, liabilities, damages and costs (including legal costs) arising out of or in connection with any claim by any PERSON against the COMPANY INDEMNIFIED PARTIES in respect of any of the following: \\n(i) death, illness of or injury to any THIRD PARTY; or \\n(ii) loss of or damage to the PROPERTY of any THIRD PARTY, \\nwhich, in the case of each event, arises out of or in connection with any negligent act or omission \\nby the CONTRACTOR INDEMNIFIED PARTIES. \\n \\nNot used. \\n \\nSubject to Article 42.4(b), the COMPANY shall indemnify and hold harmless the \\nCONTRACTOR INDEMNIFIED PARTIES from and against all losses, liabilities, damages \\nand costs (including legal costs) arising out of or in connection with any claim by any PERSON \\nagainst the CONTRACTOR INDEMNIFIED PARTIES in respect of any of the following: \\n(i)\\n\\n\\n-----------------\\n\\n\\n(ii) loss of or damage to the PROPERTY of the COMPANY INDEMNIFIED PARTIES, including the loss of use thereof, that arises out of or in connection with the performance or non-performance of the AGREEMENT by the CONTRACTOR INDEMNIFIED PARTIES up to a maximum of USD 1,000,000 per occurrence, in the case of each event, except to the extent arising out of or in connection with the GROSS NEGLIGENCE / WILFUL MISCONDUCT of the COMPANY INDEMNIFIED PARTIES.  Subject to Article 42.4(b), the COMPANY shall indemnify and hold harmless the \\nCONTRACTOR INDEMNIFIED PARTIES from and against all losses, liabilities, damages and costs (including legal costs) arising out of or in connection with any claim by any PERSON against the CONTRACTOR INDEMNIFIED PARTIES in respect of any loss of (including the\\n\\n\\n-----------------\\n\\n\\nlegal expenses) arising from or in connection with any pollution emanating from the reservoir \\nor from any PROPERTY of the COMPANY INDEMNIFIED PARTIES.\\n42.5\\nLIABILITY FOR INTELLECTUAL PROPERTY RIGHTS INFRINGEMENT \\nThe CONTRACTOR shall indemnify and hold harmless the COMPANY INDEMNIFIED PARTIES \\nfrom and against all losses, liabilities, damages and costs (including legal costs) arising out of or in \\nconnection with any claim by any PERSON against the COMPANY INDEMNIFIED PARTIES in \\nrespect of any infringement by the WORKS or the WORKS DOCUMENTATION (or any part thereof) \\nof the INTELLECTUAL PROPERTY RIGHTS of a THIRD PARTY or of the CONTRACTOR \\nINDEMNIFIED PARTIES, except to the extent such infringement is based solely on: \\n \\nany information or materials provided by the COMPANY to the CONTRACTOR; or \\n \\nthe COMPANY’s use of the WORKS and WORKS DOCUMENTATION for purposes not \\ncontemplated by the AGREEMENT; or\\n\\n\\n-----------------\\n\\n\\n33.2 RISK OF LOSS \\n(a) The CONTRACTOR shall take full responsibility for the care of the WORKS from the EFFECTIVE DATE until issuance of the PROVISIONAL ACCEPTANCE CERTIFICATE, following which responsibility for the care of the WORKS shall pass to the COMPANY (subject to Article 33.2(b)).  In case of any loss or damage to the WORKS prior to issuance of the PROVISIONAL ACCEPTANCE CERTIFICATE as a consequence of any cause not listed in Article 33.2(c), the CONTRACTOR shall rectify such loss or damage at its sole cost and expense. \\n \\n(b) Without prejudice to Article 33.2(a), the CONTRACTOR shall remain liable for any loss or \\ndamage caused to all or a part of the WORKS or the COMPANY by any acts or omissions of \\nthe CONTRACTOR or by another PERSON acting on behalf of the CONTRACTOR: \\n(i) \\nafter issuance of the PROVISIONAL ACCEPTANCE CERTIFICATE (including in connection with the CONTRACTOR’s performance of its remedial obligations during the WARRANTY PERIOD); or\\n\\n\\n-----------------\\n\\n\\nPARTIES.  The CONTRACTOR’s suspension of the WORKS in accordance with this Article 23.7(a)(i) shall not prejudice its entitlement to terminate the AGREEMENT pursuant to Article 23.7(a)(ii); and \\n(ii) within one hundred and twenty (120) DAYS of the expiry of the time period specified in Articles 23.2(b), 23.3(c) or 23.3(d), the CONTRACTOR may: \\n(A) notify the COMPANY in writing of its intention to terminate the \\nAGREEMENT if such payment is not made within fourteen (14) DAYS from \\nthe date of receipt of the notice by the COMPANY; and \\n(B) following expiry of the fourteen (14) DAY period specified in Article 23.7(a)(ii)(A),  the  CONTRACTOR  may  terminate  the  AGREEMENT by written notice to the COMPANY, provided that the  majority of thef outstanding undisputed amount (or such other amount agreed \\nbetween the PARTIES) has not been paid at the time of delivery of such \\nnotice.\\n\\n\\n-----------------\\n\\n\\nobligations or interests under the agreement with the CONTRACTOR without the prior \\nwritten consent of the CONTRACTOR (which shall only be given if and when the \\nCONTRACTOR obtains the COMPANY’s prior written consent to such assignment, \\nnovation, transfer or further subcontracting); and \\n(viii) \\nparticipate in any assignment, novation or transfer of rights, obligations or interests \\nmade by the COMPANY pursuant to Article Error! Reference source not found.. \\n \\nThe CONTRACTOR shall be solely responsible for all payments to its SUBCONTRACTORS and \\nVENDORS, and the CONTRACTOR shall indemnify and hold harmless the COMPANY from and \\nagainst all losses, liabilities, damages and costs (including legal costs) arising out of or in connection \\nwith any claim by its SUBCONTRACTORS or VENDORS against the COMPANY. \\n21. \\nHEALTH, SAFETY AND ENVIRONMENT\\n21.1 The CONTRACTOR shall: \\n \\nperform its obligations under the AGREEMENT (including those in relation to the WORKS) \\nin accordance with: \\n(i)\\n\\n\\n-----------------\\n\\n\\ndeath, illness of or injury to any THIRD PARTY; or \\n(ii) \\nloss of or damage to the PROPERTY of any THIRD PARTY, \\nwhich, in the case of each event, arises out of or in connection with any negligent act or omission \\nby the COMPANY INDEMNIFIED PARTIES.\\n42.4 LIABILITY FOR POLLUTION AND CONTAMINATION \\nPollution from CONTRACTOR PROPERTY \\n \\nThe CONTRACTOR shall indemnify and hold harmless the COMPANY INDEMNIFIED \\nPARTIES from and against all losses, claims, costs, liabilities, damages and expenses (including \\nlegal expenses) arising from or in connection with any pollution originating from any \\nPROPERTY of the CONTRACTOR INDEMNIFIED PARTIES which arises out of the \\nCONTRACTOR’s performance of the WORKS and/or the AGREEMENT. \\nPollution from the reservoir and COMPANY PROPERTY \\n \\nThe COMPANY shall indemnify and hold harmless the CONTRACTOR INDEMNIFIED \\nPARTIES from and against all losses, claims, costs, liabilities, damages and expenses (including\\n\\n\\n-----------------\\n\\n\\n43.1The CONTRACTOR shall not assign, novate or otherwise transfer any of its rights, obligations or interests under and in connection with the AGREEMENT without the prior written consent of the COMPANY. Any purported assignment, novation, or transfer without the prior written consent of the COMPANY shall be expressly deemed absolutely null and void against the COMPANY and shall not transfer any rights in the AGREEMENT to the purported assignee and, in such event, the COMPANY shall have no obligation whatsoever to the purported assignee. Any purported assignment, novation, or transfer without the prior written consent of the COMPANY shall entitle the COMPANY to terminate the AGREEMENT with immediate effect in accordance with Article 35.3(a)(i).\\n43.2 The COMPANY may assign, novate or otherwise transfer any of its rights, obligations or interests under and in connection with the AGREEMENT to any AFFILIATE upon written notice to the\\n\\n\\n-----------------\\n\\n\\n2. COMPANY & CONTRACTOR \\n \\n2.1 REPRESENTATIVES \\nThe CONTRACTOR shall designate a representative to be the focal point for all instructions and communications between the PARTIES in respect of the AGREEMENT (the “CONTRACTOR REPRESENTATIVE”) as set out in the FORM OF AGREEMENT. \\n The COMPANY shall designate a representative to be the focal point for all instructions and communications between the PARTIES in respect of the AGREEMENT (the “COMPANY REPRESENTATVE”) as set out in the FORM OF AGREEMENT. \\n \\nWhere the COMPANY REPRESENTATIVE or CONTRACTOR REPRESENTATIVE (together, the “REPRESENTATIVES”) are not specified in the FORM OF AGREEMENT, the PARTIES shall notify each other of their respective REPRESENTATIVE within seven (7) DAYS of the EFFECTIVE DATE.\\n\\n\\n-----------------\\n\\n\\nThe CONTRACTOR shall at all times maintain a sufficient number of qualified and experienced full time safety officers at the SITE, as may be agreed between the PARTIES, to ensure the proper implementation and monitoring of all LAW regarding HSE, the HSE REQUIREMENTS and the safety control procedures prepared by the CONTRACTOR. \\n 21.8Any material failure by the CONTRACTOR to meet any of the LAW regarding HSE or the HSE REQUIREMENTS, or material failure to satisfy any of the COMPANY’s reasonable requirements with regard to the management of HSE risks, shall entitle the COMPANY to exercise one or more of the \\nfollowing: \\n(a) suspend the AGREEMENT with immediate effect in accordance with Article 34.2; and/or \\n(b) terminate the AGREEMENT with immediate effect in accordance with Article 35.3(a)(v).\\n\\n\\n-----------------\\n\\n\\n(d) The PARTIES hereby expressly exclude the application of Articles 247 and 879 of the CIVIL CODE, to the fullest extent permitted by LAW.  The PARTIES agree that the CONTRACTOR shall not be entitled to suspend the WORKS or otherwise refrain from carrying out any of its \\nobligations under the AGREEMENT in the event that any amount owing to the CONTRACTOR is not paid by the COMPANY except as expressly provided in this Article 23.7.\\n\\n\\n-----------------\\n\\n\\n\\n\\n\\n -------------------  \\n\\n\\n <Question>: What is CONTRACTOR limit of liability and the liability cap?'"
      ]
     },
     "execution_count": 12,
     "metadata": {},
     "output_type": "execute_result"
    }
   ],
   "source": [
    "question"
   ]
  },
  {
   "cell_type": "code",
   "execution_count": 13,
   "id": "a0c5fe9f",
   "metadata": {},
   "outputs": [
    {
     "data": {
      "text/plain": [
       "AIMessage(content=\"Based on the provided text, it appears that there are several instances where the CONTRACTOR's liability is limited or capped. Here are some specific examples:\\n\\n1. Article 42.3: The CONTRACTOR shall indemnify the COMPANY INDEMNIFIED PARTIES up to a maximum of USD 1,000,000 per occurrence for losses arising out of or in connection with any claim by any PERSON against the COMPANY INDEMNIFIED PARTIES.\\n2. Article 42.12 (ii): The COMPANY shall indemnify the CONTRACTOR INDEMNIFIED PARTIES up to a maximum of USD 1,000,000 per occurrence for losses arising out of or in connection with any claim by any PERSON against the CONTRACTOR INDEMNIFIED PARTIES.\\n\\nIt appears that the liability cap is USD 1,000,000 per occurrence. However, it's worth noting that there may be other instances where the liability is limited or capped, and these examples are not exhaustive.\", response_metadata={'model': 'llama3:8b-instruct-q4_K_M', 'created_at': '2024-06-30T23:17:40.174711091Z', 'message': {'role': 'assistant', 'content': ''}, 'done': True, 'total_duration': 2141875197875, 'load_duration': 41839305414, 'prompt_eval_count': 1063, 'prompt_eval_duration': 398439227000, 'eval_count': 198, 'eval_duration': 1701094290000}, id='run-294fef56-3184-441f-9204-9f0e4c2eb9ba-0')"
      ]
     },
     "execution_count": 13,
     "metadata": {},
     "output_type": "execute_result"
    }
   ],
   "source": [
    "llm.invoke(question)"
   ]
  },
  {
   "cell_type": "code",
   "execution_count": null,
   "id": "10ff1e9c",
   "metadata": {},
   "outputs": [],
   "source": []
  },
  {
   "cell_type": "code",
   "execution_count": 21,
   "id": "6b4263fb",
   "metadata": {},
   "outputs": [
    {
     "name": "stdout",
     "output_type": "stream",
     "text": [
      "-----------\n",
      "What is CONTRACTOR limit of liability and the liability cap?\n"
     ]
    },
    {
     "name": "stderr",
     "output_type": "stream",
     "text": [
      "Special tokens have been added in the vocabulary, make sure the associated word embeddings are fine-tuned or trained.\n",
      "Special tokens have been added in the vocabulary, make sure the associated word embeddings are fine-tuned or trained.\n",
      "Special tokens have been added in the vocabulary, make sure the associated word embeddings are fine-tuned or trained.\n",
      "Special tokens have been added in the vocabulary, make sure the associated word embeddings are fine-tuned or trained.\n",
      "Special tokens have been added in the vocabulary, make sure the associated word embeddings are fine-tuned or trained.\n",
      "Special tokens have been added in the vocabulary, make sure the associated word embeddings are fine-tuned or trained.\n",
      "Special tokens have been added in the vocabulary, make sure the associated word embeddings are fine-tuned or trained.\n",
      "Special tokens have been added in the vocabulary, make sure the associated word embeddings are fine-tuned or trained.\n",
      "Special tokens have been added in the vocabulary, make sure the associated word embeddings are fine-tuned or trained.\n",
      "Special tokens have been added in the vocabulary, make sure the associated word embeddings are fine-tuned or trained.\n",
      "Special tokens have been added in the vocabulary, make sure the associated word embeddings are fine-tuned or trained.\n",
      "Special tokens have been added in the vocabulary, make sure the associated word embeddings are fine-tuned or trained.\n",
      "Special tokens have been added in the vocabulary, make sure the associated word embeddings are fine-tuned or trained.\n",
      "Special tokens have been added in the vocabulary, make sure the associated word embeddings are fine-tuned or trained.\n",
      "Special tokens have been added in the vocabulary, make sure the associated word embeddings are fine-tuned or trained.\n",
      "Special tokens have been added in the vocabulary, make sure the associated word embeddings are fine-tuned or trained.\n",
      "Special tokens have been added in the vocabulary, make sure the associated word embeddings are fine-tuned or trained.\n",
      "Special tokens have been added in the vocabulary, make sure the associated word embeddings are fine-tuned or trained.\n",
      "Special tokens have been added in the vocabulary, make sure the associated word embeddings are fine-tuned or trained.\n",
      "Special tokens have been added in the vocabulary, make sure the associated word embeddings are fine-tuned or trained.\n",
      "Special tokens have been added in the vocabulary, make sure the associated word embeddings are fine-tuned or trained.\n"
     ]
    },
    {
     "data": {
      "text/plain": [
       "AIMessage(content='Based on the provided text, there is no specific mention of a \"CONTRACTOR limit of liability\" or a \"liability cap\". However, it can be inferred that the CONTRACTOR\\'s liability is limited in certain situations:\\n\\n1. Article 33.2(a) states that the CONTRACTOR shall rectify any loss or damage to the WORKS prior to issuance of the PROVISIONAL ACCEPTANCE CERTIFICATE at its sole cost and expense.\\n2. Article 42.4 Pollution from CONTRACTOR PROPERTY mentions that the CONTRACTOR shall indemnify and hold harmless the COMPANY INDEMNIFIED PARTIES from and against all losses, claims, costs, liabilities, damages, and expenses arising from or in connection with any pollution originating from the CONTRACTOR\\'s performance of the WORKS and/or the AGREEMENT.\\n3. Article 43.1 states that the CONTRACTOR shall not assign, novate, or otherwise transfer any of its rights, obligations, or interests under and in connection with the AGREEMENT without the prior written consent of the COMPANY.\\n\\nThese provisions suggest that the CONTRACTOR\\'s liability is limited to specific situations, such as rectifying loss or damage before issuance of the PROVISIONAL ACCEPTANCE CERTIFICATE, and may not be unlimited. However, a more detailed analysis of the entire agreement would be necessary to determine the exact scope of the CONTRACTOR\\'s liability and any potential limits on that liability.', response_metadata={'model': 'llama3:8b-instruct-q4_K_M', 'created_at': '2024-06-29T11:59:49.382506714Z', 'message': {'role': 'assistant', 'content': ''}, 'done': True, 'total_duration': 4811079733781, 'load_duration': 75200311817, 'prompt_eval_count': 1077, 'prompt_eval_duration': 475657569000, 'eval_count': 283, 'eval_duration': 4259468685000}, id='run-6a94e74d-84a9-4da8-8045-b02aa6d8419d-0')"
      ]
     },
     "execution_count": 21,
     "metadata": {},
     "output_type": "execute_result"
    }
   ],
   "source": [
    "new_documents=search(prompt[0])\n",
    "question = \"Carefully read this text to answer below question : \" + new_documents + \"    \\n\\n ------------------- \"+prompt[0]\n",
    "llm.invoke(question)\n"
   ]
  },
  {
   "cell_type": "code",
   "execution_count": 13,
   "id": "348e418f",
   "metadata": {},
   "outputs": [
    {
     "name": "stdout",
     "output_type": "stream",
     "text": [
      "-----------\n",
      "Can CONTRACTOR terminate the contract?\n"
     ]
    },
    {
     "name": "stderr",
     "output_type": "stream",
     "text": [
      "Special tokens have been added in the vocabulary, make sure the associated word embeddings are fine-tuned or trained.\n",
      "Special tokens have been added in the vocabulary, make sure the associated word embeddings are fine-tuned or trained.\n",
      "Special tokens have been added in the vocabulary, make sure the associated word embeddings are fine-tuned or trained.\n",
      "Special tokens have been added in the vocabulary, make sure the associated word embeddings are fine-tuned or trained.\n",
      "Special tokens have been added in the vocabulary, make sure the associated word embeddings are fine-tuned or trained.\n",
      "Special tokens have been added in the vocabulary, make sure the associated word embeddings are fine-tuned or trained.\n",
      "Special tokens have been added in the vocabulary, make sure the associated word embeddings are fine-tuned or trained.\n",
      "Special tokens have been added in the vocabulary, make sure the associated word embeddings are fine-tuned or trained.\n",
      "Special tokens have been added in the vocabulary, make sure the associated word embeddings are fine-tuned or trained.\n",
      "Special tokens have been added in the vocabulary, make sure the associated word embeddings are fine-tuned or trained.\n",
      "Special tokens have been added in the vocabulary, make sure the associated word embeddings are fine-tuned or trained.\n",
      "Special tokens have been added in the vocabulary, make sure the associated word embeddings are fine-tuned or trained.\n",
      "Special tokens have been added in the vocabulary, make sure the associated word embeddings are fine-tuned or trained.\n",
      "Special tokens have been added in the vocabulary, make sure the associated word embeddings are fine-tuned or trained.\n",
      "Special tokens have been added in the vocabulary, make sure the associated word embeddings are fine-tuned or trained.\n",
      "Special tokens have been added in the vocabulary, make sure the associated word embeddings are fine-tuned or trained.\n",
      "Special tokens have been added in the vocabulary, make sure the associated word embeddings are fine-tuned or trained.\n",
      "Special tokens have been added in the vocabulary, make sure the associated word embeddings are fine-tuned or trained.\n",
      "Special tokens have been added in the vocabulary, make sure the associated word embeddings are fine-tuned or trained.\n",
      "Special tokens have been added in the vocabulary, make sure the associated word embeddings are fine-tuned or trained.\n",
      "Special tokens have been added in the vocabulary, make sure the associated word embeddings are fine-tuned or trained.\n",
      "Special tokens have been added in the vocabulary, make sure the associated word embeddings are fine-tuned or trained.\n",
      "Special tokens have been added in the vocabulary, make sure the associated word embeddings are fine-tuned or trained.\n",
      "Special tokens have been added in the vocabulary, make sure the associated word embeddings are fine-tuned or trained.\n",
      "Special tokens have been added in the vocabulary, make sure the associated word embeddings are fine-tuned or trained.\n",
      "Special tokens have been added in the vocabulary, make sure the associated word embeddings are fine-tuned or trained.\n",
      "Special tokens have been added in the vocabulary, make sure the associated word embeddings are fine-tuned or trained.\n",
      "Special tokens have been added in the vocabulary, make sure the associated word embeddings are fine-tuned or trained.\n",
      "Special tokens have been added in the vocabulary, make sure the associated word embeddings are fine-tuned or trained.\n",
      "Special tokens have been added in the vocabulary, make sure the associated word embeddings are fine-tuned or trained.\n",
      "Special tokens have been added in the vocabulary, make sure the associated word embeddings are fine-tuned or trained.\n",
      "Special tokens have been added in the vocabulary, make sure the associated word embeddings are fine-tuned or trained.\n",
      "Special tokens have been added in the vocabulary, make sure the associated word embeddings are fine-tuned or trained.\n",
      "Special tokens have been added in the vocabulary, make sure the associated word embeddings are fine-tuned or trained.\n",
      "Special tokens have been added in the vocabulary, make sure the associated word embeddings are fine-tuned or trained.\n",
      "Special tokens have been added in the vocabulary, make sure the associated word embeddings are fine-tuned or trained.\n",
      "Special tokens have been added in the vocabulary, make sure the associated word embeddings are fine-tuned or trained.\n",
      "Special tokens have been added in the vocabulary, make sure the associated word embeddings are fine-tuned or trained.\n",
      "Special tokens have been added in the vocabulary, make sure the associated word embeddings are fine-tuned or trained.\n",
      "Special tokens have been added in the vocabulary, make sure the associated word embeddings are fine-tuned or trained.\n",
      "Special tokens have been added in the vocabulary, make sure the associated word embeddings are fine-tuned or trained.\n",
      "Special tokens have been added in the vocabulary, make sure the associated word embeddings are fine-tuned or trained.\n",
      "Special tokens have been added in the vocabulary, make sure the associated word embeddings are fine-tuned or trained.\n",
      "Special tokens have been added in the vocabulary, make sure the associated word embeddings are fine-tuned or trained.\n"
     ]
    },
    {
     "data": {
      "text/plain": [
       "AIMessage(content='Based on the text, it appears that the CONTRACTOR may not be able to terminate the contract unilaterally. Article 35.3(a)(v) mentions that the COMPANY shall have the right to terminate the AGREEMENT with immediate effect if certain circumstances exist, including where the CONTRACTOR fails to meet any of the LAW regarding HSE or the HSE REQUIREMENTS.\\n\\nAdditionally, Article 20.4 states that the CONTRACTOR shall ensure that its SUBCONTRACTORS and VENDORS comply with the requirements set out in the AGREEMENT, and failure to do so may entitle the COMPANY to terminate the contract.\\n\\nFurthermore, Article 24.6(d) mentions that the COMPANY shall not be liable for any claim by the CONTRACTOR arising out of the elimination of part of the WORKS or the exercise of its rights under Article 24.6(c)(i), which suggests that the COMPANY has significant discretion in determining whether to terminate the contract.\\n\\nIn contrast, there is no provision in the text that explicitly grants the CONTRACTOR the right to terminate the contract unilaterally. Therefore, it appears that the CONTRACTOR may not be able to terminate the contract without the consent of the COMPANY.', response_metadata={'model': 'llama3:8b-instruct-q4_K_M', 'created_at': '2024-06-27T21:51:43.082744073Z', 'message': {'role': 'assistant', 'content': ''}, 'done': True, 'total_duration': 740935783747, 'load_duration': 8544250864, 'prompt_eval_count': 1650, 'prompt_eval_duration': 586489471000, 'eval_count': 242, 'eval_duration': 144843674000}, id='run-61a3d9c7-b241-42f4-8d16-e9299134eee4-0')"
      ]
     },
     "execution_count": 13,
     "metadata": {},
     "output_type": "execute_result"
    }
   ],
   "source": [
    "new_documents=search(prompt[2])\n",
    "question = \"Carefully read this text to answer below question : \" + new_documents + \"    \\n\\n ------------------- \"+prompt[2]\n",
    "llm.invoke(question)  "
   ]
  },
  {
   "cell_type": "code",
   "execution_count": 14,
   "id": "dd2d2e59",
   "metadata": {},
   "outputs": [
    {
     "name": "stdout",
     "output_type": "stream",
     "text": [
      "-----------\n",
      "Can CONTRACTOR claim extension of time and additional cost on account of force majeure?\n"
     ]
    },
    {
     "name": "stderr",
     "output_type": "stream",
     "text": [
      "Special tokens have been added in the vocabulary, make sure the associated word embeddings are fine-tuned or trained.\n",
      "Special tokens have been added in the vocabulary, make sure the associated word embeddings are fine-tuned or trained.\n",
      "Special tokens have been added in the vocabulary, make sure the associated word embeddings are fine-tuned or trained.\n",
      "Special tokens have been added in the vocabulary, make sure the associated word embeddings are fine-tuned or trained.\n",
      "Special tokens have been added in the vocabulary, make sure the associated word embeddings are fine-tuned or trained.\n",
      "Special tokens have been added in the vocabulary, make sure the associated word embeddings are fine-tuned or trained.\n",
      "Special tokens have been added in the vocabulary, make sure the associated word embeddings are fine-tuned or trained.\n",
      "Special tokens have been added in the vocabulary, make sure the associated word embeddings are fine-tuned or trained.\n",
      "Special tokens have been added in the vocabulary, make sure the associated word embeddings are fine-tuned or trained.\n",
      "Special tokens have been added in the vocabulary, make sure the associated word embeddings are fine-tuned or trained.\n",
      "Special tokens have been added in the vocabulary, make sure the associated word embeddings are fine-tuned or trained.\n",
      "Special tokens have been added in the vocabulary, make sure the associated word embeddings are fine-tuned or trained.\n",
      "Special tokens have been added in the vocabulary, make sure the associated word embeddings are fine-tuned or trained.\n",
      "Special tokens have been added in the vocabulary, make sure the associated word embeddings are fine-tuned or trained.\n",
      "Special tokens have been added in the vocabulary, make sure the associated word embeddings are fine-tuned or trained.\n",
      "Special tokens have been added in the vocabulary, make sure the associated word embeddings are fine-tuned or trained.\n",
      "Special tokens have been added in the vocabulary, make sure the associated word embeddings are fine-tuned or trained.\n",
      "Special tokens have been added in the vocabulary, make sure the associated word embeddings are fine-tuned or trained.\n",
      "Special tokens have been added in the vocabulary, make sure the associated word embeddings are fine-tuned or trained.\n",
      "Special tokens have been added in the vocabulary, make sure the associated word embeddings are fine-tuned or trained.\n",
      "Special tokens have been added in the vocabulary, make sure the associated word embeddings are fine-tuned or trained.\n",
      "Special tokens have been added in the vocabulary, make sure the associated word embeddings are fine-tuned or trained.\n",
      "Special tokens have been added in the vocabulary, make sure the associated word embeddings are fine-tuned or trained.\n",
      "Special tokens have been added in the vocabulary, make sure the associated word embeddings are fine-tuned or trained.\n",
      "Special tokens have been added in the vocabulary, make sure the associated word embeddings are fine-tuned or trained.\n",
      "Special tokens have been added in the vocabulary, make sure the associated word embeddings are fine-tuned or trained.\n",
      "Special tokens have been added in the vocabulary, make sure the associated word embeddings are fine-tuned or trained.\n",
      "Special tokens have been added in the vocabulary, make sure the associated word embeddings are fine-tuned or trained.\n",
      "Special tokens have been added in the vocabulary, make sure the associated word embeddings are fine-tuned or trained.\n",
      "Special tokens have been added in the vocabulary, make sure the associated word embeddings are fine-tuned or trained.\n",
      "Special tokens have been added in the vocabulary, make sure the associated word embeddings are fine-tuned or trained.\n",
      "Special tokens have been added in the vocabulary, make sure the associated word embeddings are fine-tuned or trained.\n",
      "Special tokens have been added in the vocabulary, make sure the associated word embeddings are fine-tuned or trained.\n",
      "Special tokens have been added in the vocabulary, make sure the associated word embeddings are fine-tuned or trained.\n",
      "Special tokens have been added in the vocabulary, make sure the associated word embeddings are fine-tuned or trained.\n",
      "Special tokens have been added in the vocabulary, make sure the associated word embeddings are fine-tuned or trained.\n",
      "Special tokens have been added in the vocabulary, make sure the associated word embeddings are fine-tuned or trained.\n",
      "Special tokens have been added in the vocabulary, make sure the associated word embeddings are fine-tuned or trained.\n"
     ]
    },
    {
     "data": {
      "text/plain": [
       "AIMessage(content='Based on the text, it appears that there is no specific provision that explicitly mentions \"force majeure\" as a reason for claiming an extension of time and additional costs. However, Article 29.1 does mention that the CONTRACTOR shall not be entitled to any adjustments to the AGREEMENT PRICE and/or the KEY MILESTONE DATES or other relief if the change in LAW is due to a default by the CONTRACTOR.\\n\\nArticle 25.5 also mentions CONCURRENCY as a reason for which the CONTRACTOR shall retain the right to claim an adjustment to the KEY MILESTONE DATES, but not entitled to any adjustment to the AGREEMENT PRICE.\\n\\nHowever, it can be argued that force majeure is implicitly covered under Article 34.1, which states that the COMPANY\\'s instruction, decision or act shall not constitute a variation if made in order to ensure compliance with the CONTRACTOR\\'s obligations under the agreement, subject to Article 29, LAW. This implies that the CONTRACTOR may be entitled to claim an extension of time and additional costs if the COMPANY\\'s instructions, decisions or acts are due to circumstances beyond the CONTROL OF THE PARTIES (which could include force majeure).\\n\\nTherefore, while there is no explicit provision for force majeure, it can be argued that the CONTRACTOR may have some scope to claim an extension of time and additional costs under Article 34.1, subject to Article 29, LAW.', response_metadata={'model': 'llama3:8b-instruct-q4_K_M', 'created_at': '2024-06-27T22:05:09.829092611Z', 'message': {'role': 'assistant', 'content': ''}, 'done': True, 'total_duration': 763607977677, 'load_duration': 6479142929, 'prompt_eval_count': 1639, 'prompt_eval_duration': 580847505000, 'eval_count': 294, 'eval_duration': 175852037000}, id='run-12923c2d-b6d7-4d75-a8f7-9c8369e8ce66-0')"
      ]
     },
     "execution_count": 14,
     "metadata": {},
     "output_type": "execute_result"
    }
   ],
   "source": [
    "new_documents=search(prompt[3])\n",
    "question = \"Carefully read this text to answer below question : \" + new_documents + \"    \\n\\n ------------------- \"+prompt[3]\n",
    "llm.invoke(question)  "
   ]
  },
  {
   "cell_type": "code",
   "execution_count": 11,
   "id": "cfddbafd",
   "metadata": {},
   "outputs": [
    {
     "name": "stdout",
     "output_type": "stream",
     "text": [
      "-----------\n",
      "Is increase in quantity a COMPANY risk event or CONTRACTOR risk event?\n"
     ]
    },
    {
     "name": "stderr",
     "output_type": "stream",
     "text": [
      "Special tokens have been added in the vocabulary, make sure the associated word embeddings are fine-tuned or trained.\n",
      "Special tokens have been added in the vocabulary, make sure the associated word embeddings are fine-tuned or trained.\n",
      "Special tokens have been added in the vocabulary, make sure the associated word embeddings are fine-tuned or trained.\n",
      "Special tokens have been added in the vocabulary, make sure the associated word embeddings are fine-tuned or trained.\n",
      "Special tokens have been added in the vocabulary, make sure the associated word embeddings are fine-tuned or trained.\n",
      "Special tokens have been added in the vocabulary, make sure the associated word embeddings are fine-tuned or trained.\n",
      "Special tokens have been added in the vocabulary, make sure the associated word embeddings are fine-tuned or trained.\n",
      "Special tokens have been added in the vocabulary, make sure the associated word embeddings are fine-tuned or trained.\n",
      "Special tokens have been added in the vocabulary, make sure the associated word embeddings are fine-tuned or trained.\n",
      "Special tokens have been added in the vocabulary, make sure the associated word embeddings are fine-tuned or trained.\n",
      "Special tokens have been added in the vocabulary, make sure the associated word embeddings are fine-tuned or trained.\n",
      "Special tokens have been added in the vocabulary, make sure the associated word embeddings are fine-tuned or trained.\n",
      "Special tokens have been added in the vocabulary, make sure the associated word embeddings are fine-tuned or trained.\n",
      "Special tokens have been added in the vocabulary, make sure the associated word embeddings are fine-tuned or trained.\n",
      "Special tokens have been added in the vocabulary, make sure the associated word embeddings are fine-tuned or trained.\n",
      "Special tokens have been added in the vocabulary, make sure the associated word embeddings are fine-tuned or trained.\n",
      "Special tokens have been added in the vocabulary, make sure the associated word embeddings are fine-tuned or trained.\n",
      "Special tokens have been added in the vocabulary, make sure the associated word embeddings are fine-tuned or trained.\n",
      "Special tokens have been added in the vocabulary, make sure the associated word embeddings are fine-tuned or trained.\n",
      "Special tokens have been added in the vocabulary, make sure the associated word embeddings are fine-tuned or trained.\n",
      "Special tokens have been added in the vocabulary, make sure the associated word embeddings are fine-tuned or trained.\n",
      "Special tokens have been added in the vocabulary, make sure the associated word embeddings are fine-tuned or trained.\n",
      "Special tokens have been added in the vocabulary, make sure the associated word embeddings are fine-tuned or trained.\n",
      "Special tokens have been added in the vocabulary, make sure the associated word embeddings are fine-tuned or trained.\n",
      "Special tokens have been added in the vocabulary, make sure the associated word embeddings are fine-tuned or trained.\n",
      "Special tokens have been added in the vocabulary, make sure the associated word embeddings are fine-tuned or trained.\n"
     ]
    },
    {
     "data": {
      "text/plain": [
       "AIMessage(content='Based on the provided text, it appears that an increase in quantity is not mentioned as a \"COMPANY risk event\" or a \"CONTRACTOR risk event\".\\n\\nArticle 25.1 lists several events or circumstances that may cause delays to the WORKS, including:\\n\\n* (a) any breach of the AGREEMENT or act of prevention by the COMPANY, its AFFILIATES or their respective agents or employees;\\n* (b) subject to Article 12.10, any delays caused by ASSOCIATED WORKS CONTRACTORS working at the SITE, except to the extent that the delays caused by ASSOCIATED WORKS CONTRACTORS are attributable to the CONTRACTOR\\'s breach of Article 12;\\n* (c) the circumstances referred to in Articles 4.3(c), 5.2(a), 7.9(e), 8.4, 11.10(b), 11.11(b), 13.4, 23.7(c), or 29.1;\\n* (d) a suspension of the WORKS in the circumstances referred to in Article 34.1 or 34.3;\\n\\nThere is no mention of an increase in quantity as a risk event that may cause delays to the WORKS.\\n\\nHowever, it\\'s worth noting that Article 7.9(b) requires the CONTRACTOR to provide written notice to the COMPANY at least six (6) months before the date on which any WORKS that will or are likely to impact any existing COMPANY PROPERTY within the SITE are scheduled to commence. This suggests that the CONTRACTOR may need to notify the COMPANY of changes to the scope of work, including increases in quantity, but this is not explicitly stated as a risk event.\\n\\nIn summary, an increase in quantity is not mentioned as a COMPANY risk event or a CONTRACTOR risk event in the provided text.', response_metadata={'model': 'llama3:8b-instruct-q4_K_M', 'created_at': '2024-06-29T01:22:17.751862699Z', 'message': {'role': 'assistant', 'content': ''}, 'done': True, 'total_duration': 5995588841868, 'load_duration': 53726035252, 'prompt_eval_count': 1588, 'prompt_eval_duration': 490469334000, 'eval_count': 373, 'eval_duration': 5450774174000}, id='run-c7452a73-bde6-4e1b-82a1-01471c959a73-0')"
      ]
     },
     "execution_count": 11,
     "metadata": {},
     "output_type": "execute_result"
    }
   ],
   "source": [
    "new_documents=search(prompt[4])\n",
    "question = \"Carefully read this text to answer below question : \" + new_documents + \"    \\n\\n ------------------- \"+prompt[4]\n",
    "llm.invoke(question)  "
   ]
  },
  {
   "cell_type": "code",
   "execution_count": null,
   "id": "387bc781",
   "metadata": {},
   "outputs": [],
   "source": []
  },
  {
   "cell_type": "code",
   "execution_count": 1,
   "id": "db0e4f5e",
   "metadata": {},
   "outputs": [
    {
     "ename": "NameError",
     "evalue": "name 'question' is not defined",
     "output_type": "error",
     "traceback": [
      "\u001b[0;31m---------------------------------------------------------------------------\u001b[0m",
      "\u001b[0;31mNameError\u001b[0m                                 Traceback (most recent call last)",
      "Cell \u001b[0;32mIn[1], line 1\u001b[0m\n\u001b[0;32m----> 1\u001b[0m \u001b[38;5;28mprint\u001b[39m(\u001b[43mquestion\u001b[49m)\n",
      "\u001b[0;31mNameError\u001b[0m: name 'question' is not defined"
     ]
    }
   ],
   "source": [
    "print(question)"
   ]
  },
  {
   "cell_type": "code",
   "execution_count": 14,
   "id": "e7877152",
   "metadata": {},
   "outputs": [
    {
     "name": "stdout",
     "output_type": "stream",
     "text": [
      "-----------\n",
      "What is CONTRACTOR limit of liability and the liability cap?\n"
     ]
    },
    {
     "name": "stderr",
     "output_type": "stream",
     "text": [
      "Special tokens have been added in the vocabulary, make sure the associated word embeddings are fine-tuned or trained.\n",
      "Special tokens have been added in the vocabulary, make sure the associated word embeddings are fine-tuned or trained.\n",
      "Special tokens have been added in the vocabulary, make sure the associated word embeddings are fine-tuned or trained.\n",
      "Special tokens have been added in the vocabulary, make sure the associated word embeddings are fine-tuned or trained.\n",
      "Special tokens have been added in the vocabulary, make sure the associated word embeddings are fine-tuned or trained.\n",
      "Special tokens have been added in the vocabulary, make sure the associated word embeddings are fine-tuned or trained.\n",
      "Special tokens have been added in the vocabulary, make sure the associated word embeddings are fine-tuned or trained.\n",
      "Special tokens have been added in the vocabulary, make sure the associated word embeddings are fine-tuned or trained.\n",
      "Special tokens have been added in the vocabulary, make sure the associated word embeddings are fine-tuned or trained.\n",
      "Special tokens have been added in the vocabulary, make sure the associated word embeddings are fine-tuned or trained.\n",
      "Special tokens have been added in the vocabulary, make sure the associated word embeddings are fine-tuned or trained.\n",
      "Special tokens have been added in the vocabulary, make sure the associated word embeddings are fine-tuned or trained.\n",
      "Special tokens have been added in the vocabulary, make sure the associated word embeddings are fine-tuned or trained.\n",
      "Special tokens have been added in the vocabulary, make sure the associated word embeddings are fine-tuned or trained.\n",
      "Special tokens have been added in the vocabulary, make sure the associated word embeddings are fine-tuned or trained.\n",
      "Special tokens have been added in the vocabulary, make sure the associated word embeddings are fine-tuned or trained.\n",
      "Special tokens have been added in the vocabulary, make sure the associated word embeddings are fine-tuned or trained.\n",
      "Special tokens have been added in the vocabulary, make sure the associated word embeddings are fine-tuned or trained.\n",
      "Special tokens have been added in the vocabulary, make sure the associated word embeddings are fine-tuned or trained.\n",
      "Special tokens have been added in the vocabulary, make sure the associated word embeddings are fine-tuned or trained.\n",
      "Special tokens have been added in the vocabulary, make sure the associated word embeddings are fine-tuned or trained.\n",
      "Special tokens have been added in the vocabulary, make sure the associated word embeddings are fine-tuned or trained.\n",
      "Special tokens have been added in the vocabulary, make sure the associated word embeddings are fine-tuned or trained.\n",
      "Special tokens have been added in the vocabulary, make sure the associated word embeddings are fine-tuned or trained.\n",
      "Special tokens have been added in the vocabulary, make sure the associated word embeddings are fine-tuned or trained.\n",
      "Special tokens have been added in the vocabulary, make sure the associated word embeddings are fine-tuned or trained.\n"
     ]
    },
    {
     "name": "stdout",
     "output_type": "stream",
     "text": [
      "Response: {'model': 'llama3:8b-instruct-q4_K_M', 'created_at': '2024-07-01T20:56:32.261267721Z', 'response': \"According to Article 41.5(a) and (b), the CONTRACTOR's limit of liability for Third Party Liability Insurance and Pollution Liability Insurance is USD 10,000,000 per occurrence.\\n\\nAdditionally, according to Article 42.10, the total liability of either PARTY to the other PARTY arising under or in connection with the AGREEMENT shall be limited to the total liability cap set out in the FORM OF AGREEMENT, which is not specified in this text.\", 'done': True, 'context': [128006, 9125, 128007, 198, 198, 2675, 527, 264, 42066, 323, 6721, 18328, 51920, 449, 8405, 11944, 2038, 922, 8246, 5226, 13, 4718, 14847, 1288, 387, 64694, 11, 39319, 11, 323, 26549, 49553, 311, 279, 3878, 323, 4787, 33740, 304, 279, 3984, 5226, 3649, 13, 128009, 128006, 882, 128007, 271, 220, 45495, 27916, 720, 220, 3174, 13, 16, 763, 279, 1567, 904, 17564, 878, 57477, 82951, 527, 16785, 32904, 50, 304, 279, 47949, 11, 2085, 20893, 311, 1202, 30255, 323, 28423, 11, 279, 17564, 878, 4985, 6994, 323, 10519, 5664, 5794, 753, 70396, 22413, 320, 37132, 261, 753, 91143, 8, 449, 264, 4017, 315, 24305, 315, 539, 2753, 1109, 20121, 220, 16, 11, 931, 11, 931, 824, 32659, 13, 198, 3174, 13, 17, 763, 279, 1567, 904, 17564, 878, 57477, 82951, 527, 16785, 32904, 50, 4994, 279, 47949, 11, 2085, 20893, 311, 1202, 30255, 323, 28423, 11, 279, 17564, 878, 4985, 6994, 323, 10519, 5664, 5794, 753, 70396, 22413, 320, 37132, 261, 753, 91143, 8, 477, 8276, 10401, 315, 264, 30139, 220, 198, 67812, 304, 18859, 449, 279, 8581, 67703, 323, 5255, 279, 17517, 315, 14740, 315, 279, 17564, 878, 57477, 82951, 382, 776, 7058, 198, 3174, 13, 20, 578, 17564, 878, 4985, 6994, 323, 10519, 25, 21530, 8722, 91143, 22413, 449, 264, 4017, 315, 539, 2753, 1109, 20121, 220, 605, 11, 931, 11, 931, 824, 32659, 26, 323, 96201, 91143, 22413, 311, 3504, 279, 5326, 40986, 505, 279, 5178, 315, 32904, 50, 323, 904, 25793, 69239, 1113, 14, 8781, 1113, 505, 279, 17564, 878, 3501, 58555, 86499, 55759, 449, 264, 4017, 315, 539, 2753, 1109, 20121, 220, 605, 11, 931, 11, 931, 824, 32659, 11, 27401, 430, 279, 1403, 8276, 10401, 8670, 7086, 304, 29461, 220, 3174, 13, 20, 2948, 8, 323, 220, 3174, 13, 20, 1921, 8, 1253, 387, 20669, 304, 832, 8276, 4947, 13, 198, 3174, 13, 21, 578, 17564, 878, 4985, 6106, 430, 682, 8276, 10396, 3984, 555, 279, 17564, 878, 4985, 25, 387, 12457, 389, 459, 5217, 53142, 8197, 304, 279, 5144, 315, 279, 6909, 5482, 449, 279, 4788, 315, 279, 1672, 64996, 2631, 1234, 29461, 220, 3174, 13, 16, 323, 220, 3174, 13, 17, 26, 323, 6782, 264, 54205, 315, 1207, 12184, 367, 2403, 1202, 76543, 82139, 902, 4985, 2997, 279, 66548, 2006, 1170, 56281, 28420, 6909, 5482, 11, 311, 279, 13112, 315, 279, 58165, 19655, 555, 279, 17564, 878, 1234, 279, 76590, 16837, 382, 776, 7058, 198, 3174, 13, 18, 763, 279, 1567, 279, 17564, 878, 5829, 9048, 11731, 304, 279, 5178, 315, 279, 32904, 50, 304, 279, 47949, 11, 279, 17564, 878, 4985, 6994, 323, 10519, 18079, 25736, 21530, 8722, 323, 68734, 91143, 22413, 902, 4985, 387, 25, 439, 824, 279, 8581, 13256, 7585, 315, 279, 47949, 369, 4648, 477, 11134, 311, 904, 69257, 64327, 26, 323, 369, 5674, 311, 56740, 315, 264, 69257, 64327, 449, 264, 4017, 315, 539, 2753, 1109, 20121, 220, 16, 11, 931, 11, 931, 824, 32659, 13, 198, 3174, 13, 19, 17586, 20893, 311, 1202, 30255, 323, 28423, 11, 279, 17564, 878, 4985, 6994, 323, 10519, 2052, 32388, 22413, 389, 17564, 878, 3501, 58555, 86499, 55759, 18702, 279, 2539, 907, 34366, 382, 776, 7058, 198, 2520, 279, 65411, 315, 10712, 11, 279, 10217, 2383, 323, 26086, 11175, 19705, 315, 13659, 220, 2790, 315, 77506, 3337, 4622, 220, 17, 720, 220, 198, 9851, 63653, 67110, 220, 198, 55795, 946, 1111, 60079, 3392, 25, 220, 198, 605, 4, 315, 279, 57954, 76590, 16837, 60152, 25750, 720, 220, 198, 47, 29255, 66548, 220, 198, 55795, 946, 1111, 60079, 25, 220, 198, 2170, 1883, 47214, 720, 220, 198, 30119, 17564, 878, 220, 198, 71054, 8670, 320, 258, 220, 198, 723, 684, 311, 1884, 11224, 304, 220, 198, 47235, 220, 3174, 13, 16, 311, 220, 3174, 13, 868, 1680, 220, 198, 9173, 31879, 720, 220, 198, 7749, 24305, 2107, 25, 220, 198, 1041, 4, 315, 279, 76590, 16837, 60152, 13, 720, 220, 198, 793, 75899, 835, 49860, 25, 220, 198, 24637, 17742, 98222, 24093, 11, 439, 4613, 304, 13659, 220, 17, 13, 16, 1921, 705, 220, 198, 19549, 3152, 25, 256, 198, 678, 25, 256, 198, 3936, 25, 256, 198, 38342, 18976, 489, 25693, 220, 198, 4886, 25, 256, 198, 61409, 25, 510, 45048, 60, 2355, 220, 198, 5910, 42205, 878, 98222, 24093, 11, 439, 4613, 304, 220, 198, 17064, 220, 17, 13, 16, 2948, 705, 4985, 3152, 25, 220, 198, 678, 25, 510, 45048, 60, 220, 198, 3936, 25, 510, 45048, 60, 220, 198, 38342, 18976, 510, 45048, 60, 220, 198, 4886, 25, 510, 45048, 60, 220, 198, 61409, 25, 510, 45048, 60, 2355, 220, 198, 35293, 3649, 25, 220, 198, 2688, 1238, 311, 279, 66548, 25, 220, 198, 70429, 25, 262, 198, 4383, 25, 256, 198, 38342, 25, 256, 10, 25693, 256, 198, 4886, 25, 262, 198, 61409, 25, 256, 58, 4302, 60, 720, 220, 198, 2688, 1238, 311, 279, 17564, 878, 25, 220, 198, 70429, 25, 510, 4302, 836, 315, 17564, 878, 98222, 24093, 60, 220, 198, 4383, 25, 510, 4302, 60, 220, 198, 38342, 25, 256, 58, 4302, 60, 220, 198, 4886, 25, 510, 4302, 60, 220, 198, 61409, 25, 256, 58, 4302, 2595, 776, 7058, 198, 47235, 220, 2983, 13, 16, 1921, 705, 220, 2983, 13, 17, 1921, 705, 220, 2983, 13, 18, 1361, 8, 323, 220, 2983, 13, 19, 1921, 570, 2688, 50044, 29461, 220, 2983, 13, 24, 2948, 8, 323, 220, 2983, 13, 24, 1921, 8, 3485, 11, 912, 64327, 4985, 387, 25660, 311, 617, 82582, 904, 8349, 2403, 279, 1023, 64327, 477, 1202, 5552, 2006, 1170, 56281, 28420, 6909, 5482, 304, 5201, 315, 4455, 40986, 704, 315, 477, 304, 3717, 449, 279, 480, 45584, 29648, 611, 468, 1750, 50736, 68125, 5910, 17655, 315, 430, 1023, 64327, 477, 1202, 5552, 2006, 1170, 56281, 28420, 6909, 5482, 13, 578, 66548, 2006, 1170, 56281, 28420, 6909, 5482, 323, 279, 17564, 878, 2006, 1170, 56281, 28420, 6909, 5482, 4985, 7293, 35473, 304, 5201, 315, 4455, 40986, 704, 315, 477, 304, 3717, 449, 872, 480, 45584, 29648, 611, 468, 1750, 50736, 68125, 5910, 17655, 13, 198, 2983, 13, 605, 10592, 22545, 3083, 14495, 220, 198, 791, 2860, 24305, 315, 3060, 64327, 311, 279, 1023, 64327, 40986, 1234, 477, 304, 3717, 449, 279, 76590, 16837, 4985, 387, 7347, 311, 279, 2860, 24305, 2107, 743, 704, 304, 279, 28924, 3083, 76590, 16837, 13, 13659, 220, 2983, 13, 605, 2948, 8, 4985, 539, 3881, 304, 12976, 311, 11, 477, 6062, 4017, 477, 7958, 1473, 776, 7058, 198, 2983, 13, 14495, 3651, 2006, 1170, 56281, 3414, 198, 2983, 13, 16, 19046, 5854, 4716, 57477, 82951, 220, 198, 791, 17564, 878, 4985, 90108, 1463, 323, 3412, 53997, 279, 66548, 2006, 1170, 56281, 28420, 6909, 5482, 505, 323, 2403, 682, 18151, 11, 58165, 11, 26186, 323, 7194, 320, 16564, 5897, 7194, 8, 40986, 704, 315, 477, 304, 3717, 449, 904, 3802, 555, 904, 57477, 2403, 279, 66548, 2006, 1170, 56281, 28420, 6909, 5482, 304, 5201, 315, 4648, 11, 17563, 315, 477, 11134, 311, 279, 17564, 878, 57477, 82951, 430, 48282, 704, 315, 477, 304, 3717, 449, 279, 5178, 477, 2536, 58574, 315, 279, 76590, 16837, 555, 279, 66548, 2006, 1170, 56281, 28420, 6909, 5482, 323, 5255, 279, 17564, 878, 2006, 1170, 56281, 28420, 6909, 5482, 11, 3734, 311, 279, 13112, 40986, 704, 315, 477, 304, 3717, 449, 279, 480, 45584, 29648, 611, 468, 1750, 50736, 68125, 5910, 17655, 315, 279, 66548, 2006, 1170, 56281, 28420, 6909, 5482, 382, 776, 7058, 198, 9241, 13659, 220, 845, 13, 18, 1528, 2432, 85, 8, 17208, 11, 279, 17564, 878, 4985, 387, 2631, 311, 96260, 1778, 220, 198, 15750, 315, 279, 76590, 16837, 60152, 439, 279, 66548, 409, 12116, 14343, 311, 46794, 433, 369, 220, 198, 3852, 18151, 11, 7194, 477, 18512, 430, 433, 706, 16654, 477, 1253, 7831, 439, 264, 29774, 315, 11, 477, 304, 220, 198, 7898, 449, 11, 279, 85403, 75521, 539, 32145, 279, 82046, 46372, 946, 94418, 1600, 11, 709, 311, 220, 198, 1820, 3392, 315, 279, 17564, 878, 753, 2860, 24305, 2107, 439, 743, 704, 304, 279, 28924, 3083, 220, 198, 1929, 793, 16837, 13, 198, 845, 13, 19, 54722, 25874, 3083, 435, 68195, 611, 64352, 35, 1308, 37490, 33, 30626, 611, 69207, 37744, 3651, 94348, 29031, 1507, 790, 17092, 2057, 279, 13112, 430, 279, 66548, 374, 8647, 33549, 311, 77506, 3337, 4622, 220, 21, 369, 8312, 315, 10633, 611, 17055, 7063, 47620, 611, 30519, 323, 5255, 29031, 1507, 790, 17092, 1473, 776, 7058, 198, 2618, 13, 17, 198, 2746, 279, 66548, 409, 12116, 320, 266, 1202, 10973, 32022, 8, 430, 904, 27693, 650, 1863, 4622, 555, 279, 220, 198, 5910, 42205, 878, 1234, 420, 13659, 220, 2618, 374, 34920, 7235, 311, 279, 66548, 753, 2802, 11, 279, 66548, 4985, 220, 198, 258, 1257, 279, 17564, 878, 304, 4477, 311, 1935, 7504, 311, 30754, 1778, 27693, 650, 1863, 4622, 11, 323, 279, 220, 198, 5910, 42205, 878, 4985, 26069, 449, 279, 66548, 753, 7754, 13, 220, 198, 2166, 13, 220, 198, 1863, 7618, 76590, 16837, 220, 198, 791, 76590, 16837, 42675, 279, 4553, 9306, 1990, 279, 6909, 5482, 18815, 279, 3917, 220, 198, 60065, 315, 279, 76590, 16837, 323, 1043, 41019, 288, 323, 11, 3917, 311, 13659, 220, 18, 13, 17, 11, 41800, 904, 3766, 220, 198, 351, 58875, 1990, 279, 6909, 5482, 477, 904, 13340, 1903, 555, 832, 64327, 311, 279, 1023, 64327, 220, 198, 7, 49864, 21308, 477, 5439, 8, 18815, 279, 3917, 5030, 315, 279, 76590, 16837, 13, 220, 2057, 279, 13112, 15480, 220, 198, 1729, 67703, 11, 279, 6909, 5482, 4985, 539, 387, 6965, 555, 477, 387, 35473, 369, 904, 5224, 11, 13340, 11, 11471, 11, 220, 198, 485, 1791, 1133, 477, 8830, 315, 904, 3169, 477, 7138, 539, 743, 13544, 36881, 11, 3984, 430, 4400, 304, 420, 220, 198, 17064, 220, 2166, 4985, 4017, 264, 64327, 753, 24305, 369, 16515, 382, 776, 7058, 198, 2983, 13, 17, 220, 14495, 4716, 56740, 720, 220, 198, 791, 17564, 878, 4985, 90108, 1463, 323, 3412, 53997, 279, 66548, 2006, 1170, 56281, 28420, 6909, 5482, 505, 323, 2403, 682, 18151, 11, 58165, 11, 26186, 323, 7194, 320, 16564, 5897, 7194, 8, 40986, 704, 315, 477, 304, 3717, 449, 904, 3802, 555, 904, 57477, 2403, 279, 66548, 2006, 1170, 56281, 28420, 6909, 5482, 304, 5201, 315, 25, 198, 7, 72, 8, 4814, 315, 477, 5674, 311, 279, 56740, 315, 279, 17564, 878, 2006, 1170, 56281, 28420, 220, 6909, 5482, 11, 2737, 279, 4814, 315, 1005, 34366, 11, 430, 48282, 704, 315, 477, 304, 3717, 449, 279, 5178, 477, 2536, 58574, 315, 279, 76590, 16837, 555, 279, 66548, 2006, 1170, 56281, 28420, 6909, 5482, 323, 5255, 279, 17564, 878, 2006, 1170, 56281, 28420, 6909, 5482, 26, 323, 198, 198, 776, 12, 198, 198, 7, 72, 8, 3060, 64327, 753, 24305, 304, 5201, 315, 25, 1202, 480, 45584, 29648, 611, 468, 1750, 50736, 68125, 5910, 17655, 477, 16515, 26, 220, 264, 31471, 315, 13659, 220, 1806, 26, 220, 69257, 6909, 5482, 26, 477, 459, 90108, 488, 29672, 311, 279, 1023, 64327, 1234, 29461, 220, 19, 13, 18, 2069, 705, 220, 508, 13, 21, 11, 220, 1313, 13, 18, 11, 220, 3174, 13, 717, 11, 220, 3174, 13, 845, 1528, 8, 323, 220, 2983, 13, 16, 311, 220, 2983, 13, 20, 320, 300, 8581, 1237, 220, 198, 7, 3893, 8, 279, 17564, 878, 753, 24305, 25, 304, 5201, 315, 1202, 8642, 315, 2316, 33549, 311, 13659, 220, 1644, 26, 477, 311, 1304, 14507, 11, 311, 279, 13112, 12435, 14507, 25, 720, 7, 16, 8, 527, 4036, 477, 2215, 43672, 555, 279, 17564, 878, 11, 477, 24257, 477, 220, 198, 10210, 1619, 555, 56374, 11, 33549, 311, 279, 8276, 10396, 2631, 555, 220, 198, 17064, 220, 3174, 11, 477, 220, 198, 7, 17, 8, 1053, 617, 1027, 4036, 33549, 311, 1778, 10396, 320, 16564, 4669, 220, 198, 265, 318, 52173, 505, 279, 66548, 8, 1047, 279, 17564, 878, 220, 198, 884, 3523, 449, 1202, 30255, 1234, 279, 76590, 16837, 311, 2515, 323, 220, 198, 67913, 467, 8276, 26, 477, 220, 198, 7, 35694, 8, 279, 66548, 753, 24305, 439, 264, 1121, 315, 279, 8323, 315, 904, 961, 315, 279, 76590, 16837, 60152, 1903, 304, 18361, 315, 279, 17564, 878, 753, 5178, 315, 1202, 30255, 1234, 279, 76590, 16837, 382, 776, 7058, 198, 17064, 220, 2983, 13, 578, 17564, 878, 4985, 3665, 11, 90108, 1463, 11, 10726, 11, 4984, 323, 3412, 53997, 279, 66548, 2006, 1170, 56281, 28420, 6909, 5482, 505, 323, 2403, 682, 18151, 11, 58165, 11, 26186, 323, 7194, 320, 16564, 5897, 7194, 8, 40986, 704, 315, 477, 304, 3717, 449, 904, 3802, 555, 904, 57477, 2403, 279, 220, 198, 24637, 17742, 2006, 1170, 56281, 28420, 6909, 5482, 304, 5201, 315, 904, 100149, 304, 8276, 3504, 433, 374, 54117, 311, 6994, 1234, 279, 76590, 16837, 477, 904, 8060, 311, 2515, 477, 10519, 1778, 1672, 64996, 5300, 555, 279, 76590, 16837, 477, 704, 315, 904, 1180, 477, 84218, 11, 902, 8482, 988, 279, 1071, 1672, 64996, 477, 304, 279, 1567, 430, 220, 198, 747, 2968, 369, 904, 4814, 477, 5674, 387, 15164, 555, 904, 1234, 18688, 11, 304, 682, 477, 304, 961, 11, 1606, 315, 31471, 315, 1071, 8276, 8670, 555, 279, 17564, 878, 11, 311, 279, 13112, 315, 279, 58165, 19655, 555, 279, 220, 198, 5910, 42205, 878, 1234, 279, 76590, 16837, 382, 776, 7058, 198, 13317, 311, 279, 17564, 878, 753, 24305, 311, 2343, 24711, 3097, 7708, 5876, 926, 9182, 16908, 33549, 311, 13659, 220, 972, 13, 19, 11, 279, 66548, 2006, 1170, 56281, 28420, 6909, 5482, 4985, 617, 912, 24305, 311, 279, 17564, 878, 2006, 1170, 56281, 28420, 6909, 5482, 323, 279, 17564, 878, 2006, 1170, 56281, 28420, 6909, 5482, 4985, 617, 912, 24305, 311, 279, 66548, 2006, 1170, 56281, 28420, 6909, 5482, 11, 3508, 304, 5226, 11, 16831, 320, 16564, 59357, 705, 31471, 315, 45530, 14523, 11, 477, 6062, 11, 369, 904, 315, 279, 1023, 753, 25636, 477, 91183, 4814, 477, 904, 4814, 315, 11626, 477, 13254, 11, 4814, 315, 5788, 477, 75954, 7194, 11, 4814, 315, 6776, 11, 4814, 315, 5226, 477, 4814, 315, 82746, 477, 1023, 10748, 7100, 4814, 40986, 1234, 477, 304, 3717, 449, 279, 76590, 16837, 27179, 5910, 28136, 28453, 65312, 13659, 220, 2983, 13, 806, 2948, 8, 4985, 539, 3881, 304, 12976, 311, 11, 477, 6062, 4017, 477, 7958, 279, 24305, 315, 279, 2006, 1170, 56281, 15544, 1753, 64327, 7119, 279, 2006, 1170, 56281, 28420, 64327, 1234, 29461, 220, 19, 13, 18, 2069, 705, 220, 508, 13, 21, 11, 220, 1313, 13, 18, 11, 220, 3174, 13, 717, 11, 220, 3174, 13, 845, 1528, 8, 477, 29461, 220, 2983, 13, 16, 311, 220, 2983, 13, 20, 11, 311, 279, 13112, 1778, 24305, 48282, 704, 315, 264, 3802, 2403, 279, 2006, 1170, 56281, 28420, 64327, 555, 264, 69257, 64327, 13, 220, 198, 2983, 13, 717, 198, 198, 776, 12, 198, 198, 2983, 13, 18, 14495, 4716, 69257, 6909, 5482, 220, 198, 13317, 311, 13659, 220, 2983, 13, 19, 1921, 705, 279, 17564, 878, 4985, 90108, 1463, 323, 3412, 53997, 279, 66548, 2006, 1170, 56281, 28420, 6909, 5482, 505, 323, 2403, 682, 18151, 11, 58165, 11, 26186, 323, 7194, 320, 16564, 5897, 7194, 8, 40986, 704, 315, 477, 304, 3717, 449, 904, 3802, 555, 904, 57477, 2403, 279, 66548, 2006, 1170, 56281, 28420, 6909, 5482, 304, 5201, 315, 904, 315, 279, 2768, 25, 720, 1998, 8, 4648, 11, 17563, 315, 477, 11134, 311, 904, 69257, 64327, 26, 477, 220, 198, 7, 3893, 8, 4814, 315, 477, 5674, 311, 279, 56740, 315, 904, 69257, 64327, 11, 220, 198, 8370, 11, 304, 279, 1162, 315, 1855, 1567, 11, 48282, 704, 315, 477, 304, 3717, 449, 904, 95861, 1180, 477, 84218, 220, 198, 1729, 279, 17564, 878, 2006, 1170, 56281, 28420, 6909, 5482, 13, 720, 220, 198, 2688, 1511, 13, 720, 220, 198, 13317, 311, 13659, 220, 2983, 13, 19, 1921, 705, 279, 66548, 4985, 90108, 1463, 323, 3412, 53997, 279, 220, 198, 5910, 42205, 878, 2006, 1170, 56281, 28420, 6909, 5482, 505, 323, 2403, 682, 18151, 11, 58165, 11, 26186, 220, 198, 438, 7194, 320, 16564, 5897, 7194, 8, 40986, 704, 315, 477, 304, 3717, 449, 904, 3802, 555, 904, 57477, 220, 198, 69849, 279, 17564, 878, 2006, 1170, 56281, 28420, 6909, 5482, 304, 5201, 315, 904, 315, 279, 2768, 25, 720, 1998, 696, 776, 10669, 31834, 8, 4814, 315, 477, 5674, 311, 279, 56740, 315, 279, 66548, 2006, 1170, 56281, 28420, 6909, 5482, 11, 2737, 279, 4814, 315, 1005, 34366, 11, 430, 48282, 704, 315, 477, 304, 3717, 449, 279, 5178, 477, 2536, 58574, 315, 279, 76590, 16837, 555, 279, 17564, 878, 2006, 1170, 56281, 28420, 6909, 5482, 709, 311, 264, 7340, 315, 20121, 220, 16, 11, 931, 11, 931, 824, 32659, 11, 304, 279, 1162, 315, 1855, 1567, 11, 3734, 311, 279, 13112, 40986, 704, 315, 477, 304, 3717, 449, 279, 480, 45584, 29648, 611, 468, 1750, 50736, 68125, 5910, 17655, 315, 279, 66548, 2006, 1170, 56281, 28420, 6909, 5482, 13, 220, 17908, 311, 13659, 220, 2983, 13, 19, 1921, 705, 279, 66548, 4985, 90108, 1463, 323, 3412, 53997, 279, 220, 198, 5910, 42205, 878, 2006, 1170, 56281, 28420, 6909, 5482, 505, 323, 2403, 682, 18151, 11, 58165, 11, 26186, 323, 7194, 320, 16564, 5897, 7194, 8, 40986, 704, 315, 477, 304, 3717, 449, 904, 3802, 555, 904, 57477, 2403, 279, 17564, 878, 2006, 1170, 56281, 28420, 6909, 5482, 304, 5201, 315, 904, 4814, 315, 320, 16564, 279, 198, 198, 776, 12, 198, 198, 6564, 18512, 8, 40986, 505, 477, 304, 3717, 449, 904, 25793, 69239, 1113, 505, 279, 45512, 220, 198, 269, 505, 904, 56740, 315, 279, 66548, 2006, 1170, 56281, 28420, 6909, 5482, 13, 198, 2983, 13, 20, 198, 19046, 5854, 4716, 2006, 48904, 4053, 16788, 56740, 78536, 2006, 25574, 220, 198, 791, 17564, 878, 4985, 90108, 1463, 323, 3412, 53997, 279, 66548, 2006, 1170, 56281, 28420, 6909, 5482, 220, 198, 1527, 323, 2403, 682, 18151, 11, 58165, 11, 26186, 323, 7194, 320, 16564, 5897, 7194, 8, 40986, 704, 315, 477, 304, 220, 198, 7898, 449, 904, 3802, 555, 904, 57477, 2403, 279, 66548, 2006, 1170, 56281, 28420, 6909, 5482, 304, 220, 198, 45734, 315, 904, 54443, 555, 279, 32904, 50, 477, 279, 32904, 50, 58113, 3579, 320, 269, 904, 961, 34366, 8, 220, 198, 1073, 279, 2006, 48904, 4053, 16788, 56740, 78536, 315, 264, 69257, 64327, 477, 315, 279, 17564, 878, 220, 198, 691, 1170, 56281, 28420, 6909, 5482, 11, 3734, 311, 279, 13112, 1778, 54443, 374, 3196, 21742, 389, 25, 720, 220, 198, 3852, 2038, 477, 7384, 3984, 555, 279, 66548, 311, 279, 17564, 878, 26, 477, 720, 220, 198, 1820, 66548, 753, 1005, 315, 279, 32904, 50, 323, 32904, 50, 58113, 3579, 369, 10096, 539, 220, 198, 778, 26980, 660, 555, 279, 76590, 16837, 26, 477, 198, 198, 776, 12, 198, 198, 1644, 13, 17, 432, 68799, 3083, 28453, 220, 198, 7, 64, 8, 578, 17564, 878, 4985, 1935, 2539, 12014, 369, 279, 2512, 315, 279, 32904, 50, 505, 279, 63153, 6674, 29643, 3156, 67599, 315, 279, 5421, 48771, 984, 56006, 8606, 63457, 83123, 11, 2768, 902, 12014, 369, 279, 2512, 315, 279, 32904, 50, 4985, 1522, 311, 279, 66548, 320, 11760, 311, 13659, 220, 1644, 13, 17, 1921, 4682, 220, 763, 1162, 315, 904, 4814, 477, 5674, 311, 279, 32904, 50, 4972, 311, 67599, 315, 279, 5421, 48771, 984, 56006, 8606, 63457, 83123, 439, 264, 29774, 315, 904, 5353, 539, 10212, 304, 13659, 220, 1644, 13, 17, 1361, 705, 279, 17564, 878, 4985, 7763, 1463, 1778, 4814, 477, 5674, 520, 1202, 13612, 2853, 323, 20900, 13, 33006, 1921, 8, 17586, 48786, 311, 13659, 220, 1644, 13, 17, 2948, 705, 279, 17564, 878, 4985, 7293, 35473, 369, 904, 4814, 477, 220, 198, 43965, 9057, 311, 682, 477, 264, 961, 315, 279, 32904, 50, 477, 279, 66548, 555, 904, 14385, 477, 297, 5287, 315, 220, 198, 1820, 17564, 878, 477, 555, 2500, 57477, 15718, 389, 17981, 315, 279, 17564, 878, 25, 720, 1998, 8, 220, 198, 10924, 67599, 315, 279, 5421, 48771, 984, 56006, 8606, 63457, 83123, 320, 16564, 304, 3717, 449, 279, 17564, 878, 753, 5178, 315, 1202, 34630, 532, 30255, 2391, 279, 8400, 18335, 34391, 1237, 477, 198, 198, 776, 12, 198, 198, 34590, 5482, 13, 220, 578, 17564, 878, 753, 25288, 315, 279, 32904, 50, 304, 18859, 449, 420, 13659, 220, 1419, 13, 22, 2948, 2432, 72, 8, 4985, 539, 48786, 1202, 55001, 311, 30754, 279, 76590, 16837, 33549, 311, 13659, 220, 1419, 13, 22, 2948, 2432, 3893, 1237, 323, 220, 198, 7, 3893, 8, 2949, 832, 7895, 323, 17510, 320, 4364, 8, 83931, 315, 279, 51021, 315, 279, 892, 4261, 5300, 304, 29461, 220, 1419, 13, 17, 1921, 705, 220, 1419, 13, 18, 1361, 8, 477, 220, 1419, 13, 18, 1528, 705, 279, 17564, 878, 1253, 25, 720, 4444, 8, 15820, 279, 66548, 304, 4477, 315, 1202, 14944, 311, 30754, 279, 220, 198, 1929, 793, 16837, 422, 1778, 8323, 374, 539, 1903, 2949, 63360, 320, 975, 8, 83931, 505, 220, 198, 1820, 2457, 315, 23383, 315, 279, 5406, 555, 279, 66548, 26, 323, 220, 198, 7, 33, 8, 2768, 51021, 315, 279, 63360, 320, 975, 8, 38788, 4261, 5300, 304, 13659, 220, 1419, 13, 22, 2948, 2432, 3893, 2432, 32, 705, 220, 279, 220, 17564, 878, 220, 1253, 220, 30754, 220, 279, 220, 76590, 16837, 555, 5439, 5406, 311, 279, 66548, 11, 3984, 430, 279, 220, 8857, 315, 279, 69, 19310, 82037, 19849, 3392, 320, 269, 1778, 1023, 3392, 7378, 220, 198, 42967, 279, 6909, 5482, 8, 706, 539, 1027, 7318, 520, 279, 892, 315, 9889, 315, 1778, 220, 198, 24467, 382, 776, 7058, 198, 677, 7864, 811, 477, 12034, 1234, 279, 9306, 449, 279, 17564, 878, 2085, 279, 4972, 220, 198, 26650, 14771, 315, 279, 17564, 878, 320, 8370, 4985, 1193, 387, 2728, 422, 323, 994, 279, 220, 198, 5910, 42205, 878, 94663, 279, 66548, 753, 4972, 5439, 14771, 311, 1778, 16720, 11, 220, 198, 99848, 11, 8481, 477, 4726, 95479, 287, 1237, 323, 220, 198, 7, 85, 35694, 8, 220, 198, 4581, 8608, 349, 304, 904, 16720, 11, 6747, 367, 477, 8481, 315, 3268, 11, 30255, 477, 12034, 220, 198, 28010, 555, 279, 66548, 33549, 311, 13659, 4703, 0, 17650, 2592, 539, 1766, 497, 720, 220, 198, 791, 17564, 878, 4985, 387, 21742, 8647, 369, 682, 14507, 311, 1202, 16532, 5910, 42205, 10022, 323, 220, 198, 53, 4794, 10022, 11, 323, 279, 17564, 878, 4985, 90108, 1463, 323, 3412, 53997, 279, 66548, 505, 323, 220, 198, 69849, 682, 18151, 11, 58165, 11, 26186, 323, 7194, 320, 16564, 5897, 7194, 8, 40986, 704, 315, 477, 304, 3717, 220, 198, 4291, 904, 3802, 555, 1202, 16532, 5910, 42205, 10022, 477, 650, 4794, 10022, 2403, 279, 66548, 13, 220, 198, 1691, 13, 220, 198, 1837, 44249, 11, 85204, 69484, 3651, 33891, 60939, 198, 1691, 13, 16, 578, 17564, 878, 4985, 25, 720, 220, 198, 29588, 1202, 30255, 1234, 279, 76590, 16837, 320, 16564, 1884, 304, 12976, 311, 279, 32904, 50, 8, 220, 198, 258, 18859, 449, 25, 720, 1998, 696, 776, 7058, 198, 63007, 11, 17563, 315, 477, 11134, 311, 904, 69257, 64327, 26, 477, 220, 198, 7, 3893, 8, 220, 198, 9563, 315, 477, 5674, 311, 279, 56740, 315, 904, 69257, 64327, 11, 220, 198, 8370, 11, 304, 279, 1162, 315, 1855, 1567, 11, 48282, 704, 315, 477, 304, 3717, 449, 904, 95861, 1180, 477, 84218, 220, 198, 1729, 279, 66548, 2006, 1170, 56281, 28420, 6909, 5482, 13, 198, 2983, 13, 19, 14495, 4716, 94215, 29717, 3651, 16511, 1428, 52960, 220, 198, 50307, 1516, 505, 17564, 878, 56740, 720, 220, 198, 791, 17564, 878, 4985, 90108, 1463, 323, 3412, 53997, 279, 66548, 2006, 1170, 56281, 28420, 220, 198, 34590, 5482, 505, 323, 2403, 682, 18151, 11, 8349, 11, 7194, 11, 58165, 11, 26186, 323, 18512, 320, 16564, 220, 198, 6564, 18512, 8, 40986, 505, 477, 304, 3717, 449, 904, 25793, 71373, 505, 904, 220, 198, 67332, 315, 279, 17564, 878, 2006, 1170, 56281, 28420, 6909, 5482, 902, 48282, 704, 315, 279, 220, 198, 5910, 42205, 878, 753, 5178, 315, 279, 32904, 50, 323, 5255, 279, 76590, 16837, 13, 220, 198, 50307, 1516, 505, 279, 45512, 323, 66548, 56740, 720, 220, 198, 791, 66548, 4985, 90108, 1463, 323, 3412, 53997, 279, 17564, 878, 2006, 1170, 56281, 28420, 220, 198, 34590, 5482, 505, 323, 2403, 682, 18151, 11, 8349, 11, 7194, 11, 58165, 11, 26186, 323, 18512, 320, 16564, 198, 198, 776, 12, 198, 198, 3391, 13, 16, 791, 17564, 878, 4985, 539, 9993, 11, 6747, 349, 477, 6062, 8481, 904, 315, 1202, 3268, 11, 30255, 477, 12034, 1234, 323, 304, 3717, 449, 279, 76590, 16837, 2085, 279, 4972, 5439, 14771, 315, 279, 66548, 13, 5884, 59860, 16720, 11, 6747, 367, 11, 477, 8481, 2085, 279, 4972, 5439, 14771, 315, 279, 66548, 4985, 387, 53611, 25660, 11112, 854, 323, 742, 2403, 279, 66548, 323, 4985, 539, 8481, 904, 3268, 304, 279, 76590, 16837, 311, 279, 59860, 9993, 2176, 323, 11, 304, 1778, 1567, 11, 279, 66548, 4985, 617, 912, 29672, 36734, 311, 279, 59860, 9993, 2176, 13, 5884, 59860, 16720, 11, 6747, 367, 11, 477, 8481, 2085, 279, 4972, 5439, 14771, 315, 279, 66548, 4985, 1218, 1017, 279, 66548, 311, 30754, 279, 76590, 16837, 449, 14247, 2515, 304, 18859, 449, 13659, 220, 1758, 13, 18, 2948, 2432, 72, 570, 198, 3391, 13, 17, 578, 66548, 1253, 9993, 11, 6747, 349, 477, 6062, 8481, 904, 315, 1202, 3268, 11, 30255, 477, 12034, 1234, 323, 304, 3717, 449, 279, 76590, 16837, 311, 904, 70038, 82334, 2390, 5304, 5439, 5406, 311, 279, 198, 198, 776, 12, 1038, 14730, 4521, 19124, 220, 27, 14924, 27916, 3639, 374, 17564, 878, 4017, 315, 24305, 323, 279, 24305, 2107, 30, 128009, 128006, 78191, 128007, 198, 198, 11439, 311, 13659, 220, 3174, 13, 20, 2948, 8, 323, 320, 65, 705, 279, 17564, 878, 596, 4017, 315, 24305, 369, 21530, 8722, 91143, 22413, 323, 96201, 91143, 22413, 374, 20121, 220, 605, 11, 931, 11, 931, 824, 32659, 627, 198, 50674, 11, 4184, 311, 13659, 220, 2983, 13, 605, 11, 279, 2860, 24305, 315, 3060, 64327, 311, 279, 1023, 64327, 40986, 1234, 477, 304, 3717, 449, 279, 76590, 16837, 4985, 387, 7347, 311, 279, 2860, 24305, 2107, 743, 704, 304, 279, 28924, 3083, 76590, 16837, 11, 902, 374, 539, 5300, 304, 420, 1495, 13, 128009], 'total_duration': 3442691632937, 'load_duration': 40392338258, 'prompt_eval_count': 4262, 'prompt_eval_duration': 1908227233000, 'eval_count': 95, 'eval_duration': 1493597648000}\n",
      "-----------\n",
      "Under what condition COMPANY can terminate the contract?\n"
     ]
    },
    {
     "name": "stderr",
     "output_type": "stream",
     "text": [
      "Special tokens have been added in the vocabulary, make sure the associated word embeddings are fine-tuned or trained.\n",
      "Special tokens have been added in the vocabulary, make sure the associated word embeddings are fine-tuned or trained.\n",
      "Special tokens have been added in the vocabulary, make sure the associated word embeddings are fine-tuned or trained.\n",
      "Special tokens have been added in the vocabulary, make sure the associated word embeddings are fine-tuned or trained.\n",
      "Special tokens have been added in the vocabulary, make sure the associated word embeddings are fine-tuned or trained.\n",
      "Special tokens have been added in the vocabulary, make sure the associated word embeddings are fine-tuned or trained.\n",
      "Special tokens have been added in the vocabulary, make sure the associated word embeddings are fine-tuned or trained.\n",
      "Special tokens have been added in the vocabulary, make sure the associated word embeddings are fine-tuned or trained.\n",
      "Special tokens have been added in the vocabulary, make sure the associated word embeddings are fine-tuned or trained.\n",
      "Special tokens have been added in the vocabulary, make sure the associated word embeddings are fine-tuned or trained.\n",
      "Special tokens have been added in the vocabulary, make sure the associated word embeddings are fine-tuned or trained.\n",
      "Special tokens have been added in the vocabulary, make sure the associated word embeddings are fine-tuned or trained.\n",
      "Special tokens have been added in the vocabulary, make sure the associated word embeddings are fine-tuned or trained.\n",
      "Special tokens have been added in the vocabulary, make sure the associated word embeddings are fine-tuned or trained.\n",
      "Special tokens have been added in the vocabulary, make sure the associated word embeddings are fine-tuned or trained.\n",
      "Special tokens have been added in the vocabulary, make sure the associated word embeddings are fine-tuned or trained.\n",
      "Special tokens have been added in the vocabulary, make sure the associated word embeddings are fine-tuned or trained.\n",
      "Special tokens have been added in the vocabulary, make sure the associated word embeddings are fine-tuned or trained.\n",
      "Special tokens have been added in the vocabulary, make sure the associated word embeddings are fine-tuned or trained.\n",
      "Special tokens have been added in the vocabulary, make sure the associated word embeddings are fine-tuned or trained.\n",
      "Special tokens have been added in the vocabulary, make sure the associated word embeddings are fine-tuned or trained.\n",
      "Special tokens have been added in the vocabulary, make sure the associated word embeddings are fine-tuned or trained.\n",
      "Special tokens have been added in the vocabulary, make sure the associated word embeddings are fine-tuned or trained.\n",
      "Special tokens have been added in the vocabulary, make sure the associated word embeddings are fine-tuned or trained.\n"
     ]
    },
    {
     "name": "stdout",
     "output_type": "stream",
     "text": [
      "Response: {'model': 'llama3:8b-instruct-q4_K_M', 'created_at': '2024-07-02T00:02:40.175725524Z', 'response': \"According to the provided contract details, the COMPANY can terminate the contract under the following conditions:\\n\\n1. Article 35.1: The COMPANY may terminate the AGREEMENT with immediate effect by written notice to the CONTRACTOR if:\\n\\t* The CONTRACTOR has failed to achieve any of the PERFORMANCE GUARANTEES during the PERFORMANCE TESTS on three (3) occasions and Article 16.3(d) applies.\\n\\t* Any express limitations on the liability of the CONTRACTOR under the AGREEMENT, including the overall maximum amount for DELAY LIQUIDATED DAMAGES in relation to delay to PROVISIONAL ACCEPTANCE (but excluding any overall maximum amounts for other KEY MILESTONES), have been reached or exceeded.\\n\\t* ABANDONMENT by the CONTRACTOR.\\n2. Article 35.2: The COMPANY may terminate the AGREEMENT with immediate effect by written notice to the CONTRACTOR if:\\n\\t* An INSOLVENCY EVENT occurs in relation to the CONTRACTOR or any PERSON who CONTROLS the CONTRACTOR (or, if the CONTRACTOR constitutes a JOINT VENTURE, in relation to a CONTRACTOR MEMBER or any PERSON who CONTROLS such CONTRACTOR MEMBER).\\n3. Article 35.3: The COMPANY may terminate all or a part of the AGREEMENT by written notice to the CONTRACTOR:\\n\\t* With immediate effect, if the CONTRACTOR has assigned, transferred, charged, or otherwise encumbered any of its rights, obligations, interests, or benefits arising under the AGREEMENT (or purports to do so) without the COMPANY's prior written consent.\\n4. Article 35.4: The COMPANY may terminate the AGREEMENT with immediate effect by written notice to the CONTRACTOR if:\\n\\t* A change of CONTROL of the CONTRACTOR and/or a change of CONTROL of any PERSON that directly or indirectly CONTROLS the CONTRACTOR (including any intermediate or ultimate parent company) occurs without the COMPANY's prior written consent.\\n5. Article 35.5: The COMPANY may terminate the AGREEMENT with immediate effect by written notice to the CONTRACTOR if:\\n\\t* A change of CONTROL of the CONTRACTOR and/or a change of CONTROL of any PERSON that directly or indirectly CONTROLS the CONTRACTOR (including any intermediate or ultimate parent company) occurs without the COMPANY's prior written consent.\\n6. Article 35.6: The COMPANY may terminate the AGREEMENT in the circumstances described in Articles 23.7(a)(ii)(B).\\n7. Article 40.7(b): The COMPANY may terminate the AGREEMENT with immediate effect by written notice to the CONTRACTOR if an INSOLVENCY EVENT occurs in relation to the COMPANY or any PERSON who CONTROLS the COMPANY.\\n\\nThese conditions provide various grounds for the COMPANY to terminate the contract, including material breaches of obligations, insolvency events, changes of control, and other circumstances.\", 'done': True, 'context': [128006, 9125, 128007, 198, 198, 2675, 527, 264, 42066, 323, 6721, 18328, 51920, 449, 8405, 11944, 2038, 922, 8246, 5226, 13, 4718, 14847, 1288, 387, 64694, 11, 39319, 11, 323, 26549, 49553, 311, 279, 3878, 323, 4787, 33740, 304, 279, 3984, 5226, 3649, 13, 128009, 128006, 882, 128007, 271, 220, 45495, 27916, 720, 66548, 33549, 311, 13659, 220, 1958, 13, 16, 26, 477, 320, 344, 8, 279, 17564, 878, 753, 31471, 315, 264, 3769, 29672, 1234, 279, 76590, 16837, 1023, 1109, 279, 69140, 10212, 304, 29461, 220, 1758, 13, 18, 2948, 8, 323, 220, 1758, 13, 18, 1921, 2432, 72, 8, 311, 220, 1758, 13, 18, 1921, 2432, 35694, 570, 198, 1758, 13, 19, 578, 66548, 1253, 30754, 279, 76590, 16837, 449, 14247, 2515, 555, 5439, 5406, 311, 279, 17564, 878, 304, 279, 13463, 7633, 304, 13659, 220, 1644, 13, 17, 2069, 2432, 35694, 8, 323, 220, 1272, 13, 22, 1921, 570, 198, 198, 776, 12, 198, 198, 1758, 13, 20, 578, 66548, 4985, 387, 20458, 311, 30754, 279, 76590, 16837, 449, 14247, 2515, 555, 5439, 5406, 311, 279, 17564, 878, 422, 11, 2085, 279, 66548, 753, 4972, 5439, 14771, 3515, 1027, 2728, 11, 1070, 374, 264, 220, 198, 3455, 315, 54279, 315, 279, 17564, 878, 323, 5255, 279, 2349, 315, 54279, 315, 904, 57477, 430, 6089, 477, 46345, 16511, 97983, 279, 17564, 878, 320, 16564, 904, 29539, 477, 17139, 2748, 2883, 570, 198, 198, 776, 12, 198, 198, 1758, 13, 17, 21663, 64327, 1253, 30754, 279, 76590, 16837, 449, 14247, 2515, 555, 5439, 5406, 311, 279, 1023, 64327, 422, 459, 26776, 1971, 53, 43558, 13032, 13980, 304, 12976, 311, 279, 1023, 64327, 477, 904, 57477, 889, 16511, 97983, 1778, 64327, 320, 269, 11, 422, 279, 17564, 878, 42675, 264, 10458, 3301, 650, 1863, 4622, 11, 304, 12976, 311, 264, 17564, 878, 82924, 477, 904, 57477, 889, 16511, 97983, 1778, 17564, 878, 82924, 570, 198, 198, 776, 12, 198, 198, 1758, 13, 18, 17586, 48786, 311, 13659, 220, 1758, 13, 16, 323, 279, 66548, 753, 1023, 3268, 477, 51236, 1234, 279, 76590, 16837, 11, 279, 66548, 4985, 387, 20458, 311, 30754, 682, 477, 264, 961, 315, 279, 76590, 16837, 555, 5439, 5406, 311, 279, 17564, 878, 25, 449, 14247, 2515, 11, 422, 25, 720, 1998, 8, 279, 17564, 878, 706, 12893, 11, 23217, 11, 11684, 477, 6062, 3289, 900, 291, 904, 315, 1202, 3268, 11, 30255, 11, 12034, 477, 7720, 40986, 1234, 279, 76590, 16837, 320, 269, 4087, 3476, 311, 656, 904, 315, 279, 88931, 8, 6062, 1109, 304, 18859, 449, 279, 76590, 16837, 26, 720, 31834, 8, 279, 17564, 878, 14865, 311, 11322, 904, 315, 279, 82046, 55795, 946, 94418, 1600, 2391, 279, 82046, 13916, 50, 389, 2380, 320, 18, 8, 25975, 323, 13659, 220, 845, 13, 18, 1528, 8, 17208, 26, 720, 1998, 3893, 8, 904, 3237, 9669, 389, 279, 24305, 315, 279, 17564, 878, 1234, 279, 220, 198, 1929, 793, 16837, 11, 2737, 279, 8244, 7340, 3392, 369, 24711, 3097, 7708, 5876, 926, 9182, 16908, 304, 12976, 311, 7781, 311, 5421, 48771, 984, 56006, 8606, 320, 8248, 44878, 904, 8244, 7340, 15055, 369, 1023, 12282, 386, 3015, 790, 61389, 705, 617, 1027, 8813, 477, 34908, 26, 720, 72814, 8, 14469, 4064, 715, 5441, 555, 279, 17564, 878, 26, 477, 198, 198, 776, 12, 198, 198, 34590, 5482, 13, 220, 578, 17564, 878, 753, 25288, 315, 279, 32904, 50, 304, 18859, 449, 420, 13659, 220, 1419, 13, 22, 2948, 2432, 72, 8, 4985, 539, 48786, 1202, 55001, 311, 30754, 279, 76590, 16837, 33549, 311, 13659, 220, 1419, 13, 22, 2948, 2432, 3893, 1237, 323, 220, 198, 7, 3893, 8, 2949, 832, 7895, 323, 17510, 320, 4364, 8, 83931, 315, 279, 51021, 315, 279, 892, 4261, 5300, 304, 29461, 220, 1419, 13, 17, 1921, 705, 220, 1419, 13, 18, 1361, 8, 477, 220, 1419, 13, 18, 1528, 705, 279, 17564, 878, 1253, 25, 720, 4444, 8, 15820, 279, 66548, 304, 4477, 315, 1202, 14944, 311, 30754, 279, 220, 198, 1929, 793, 16837, 422, 1778, 8323, 374, 539, 1903, 2949, 63360, 320, 975, 8, 83931, 505, 220, 198, 1820, 2457, 315, 23383, 315, 279, 5406, 555, 279, 66548, 26, 323, 220, 198, 7, 33, 8, 2768, 51021, 315, 279, 63360, 320, 975, 8, 38788, 4261, 5300, 304, 13659, 220, 1419, 13, 22, 2948, 2432, 3893, 2432, 32, 705, 220, 279, 220, 17564, 878, 220, 1253, 220, 30754, 220, 279, 220, 76590, 16837, 555, 5439, 5406, 311, 279, 66548, 11, 3984, 430, 279, 220, 8857, 315, 279, 69, 19310, 82037, 19849, 3392, 320, 269, 1778, 1023, 3392, 7378, 220, 198, 42967, 279, 6909, 5482, 8, 706, 539, 1027, 7318, 520, 279, 892, 315, 9889, 315, 1778, 220, 198, 24467, 382, 776, 7058, 198, 1927, 13, 18, 1442, 279, 76590, 16837, 374, 32372, 555, 279, 17564, 878, 33549, 311, 13659, 220, 1758, 13, 17, 11, 477, 555, 279, 66548, 33549, 311, 13659, 220, 1758, 13, 16, 11, 279, 66548, 4985, 2343, 279, 17564, 878, 25, 720, 2948, 8, 369, 279, 13651, 315, 279, 32904, 50, 10887, 323, 8308, 4972, 311, 279, 2457, 315, 35508, 26, 323, 220, 198, 7, 65, 8, 3917, 311, 13659, 220, 1927, 13, 19, 11, 279, 17564, 878, 753, 17033, 7194, 52872, 304, 12976, 311, 904, 315, 279, 2768, 11, 3984, 430, 1778, 7194, 1051, 539, 2736, 26403, 555, 279, 17564, 878, 4972, 311, 35508, 25, 720, 1998, 8, 2486, 29029, 8082, 315, 279, 17564, 878, 57477, 82951, 44, 45507, 50, 323, 3501, 58555, 36, 12247, 55759, 26, 720, 31834, 8, 4375, 323, 3600, 2736, 65362, 555, 279, 17564, 878, 21861, 4594, 5910, 42205, 10022, 477, 650, 4794, 10022, 11, 369, 902, 36935, 4250, 387, 1903, 477, 649, 387, 1903, 5304, 8323, 315, 36935, 12718, 11, 2403, 27470, 11311, 26, 323, 198, 198, 776, 12, 198, 198, 1758, 13, 21, 17586, 48786, 311, 279, 17564, 878, 753, 1023, 3268, 477, 51236, 11, 279, 17564, 878, 1253, 30754, 279, 76590, 16837, 304, 279, 13463, 7633, 304, 29461, 220, 1419, 13, 22, 2948, 2432, 3893, 2432, 33, 570, 220, 198, 1774, 13, 22, 578, 76590, 16837, 1253, 539, 387, 32372, 477, 6062, 9670, 555, 3060, 64327, 389, 904, 5015, 11, 477, 369, 904, 2944, 11, 3734, 439, 743, 13544, 304, 279, 76590, 16837, 13, 220, 578, 6909, 5482, 22552, 53611, 22429, 11, 311, 279, 220, 198, 1285, 60244, 13112, 15480, 555, 67703, 11, 279, 3851, 315, 29461, 220, 16567, 1555, 220, 14417, 315, 279, 356, 3166, 1750, 14083, 439, 1664, 439, 29461, 220, 23873, 11, 220, 25399, 323, 220, 24110, 1555, 220, 24542, 315, 279, 356, 3166, 1750, 14083, 13, 220, 1789, 279, 65411, 315, 10712, 11, 3734, 439, 743, 13544, 304, 279, 76590, 16837, 11, 279, 6909, 5482, 22552, 53611, 22429, 904, 8670, 315, 5406, 11, 21801, 2786, 11, 477, 315, 279, 1205, 311, 617, 93370, 311, 264, 5590, 477, 63992, 430, 1253, 387, 3984, 369, 304, 279, 356, 3166, 1750, 14083, 13, 220, 1927, 13, 63153, 50, 11, 78536, 3651, 507, 9574, 1953, 22545, 6328, 4154, 1932, 11492, 2794, 94860, 3579, 198, 198, 776, 12, 198, 198, 7, 66, 8, 1442, 279, 17564, 878, 14865, 311, 3493, 477, 10519, 264, 393, 29255, 66548, 46372, 946, 1111, 60079, 439, 5300, 304, 77506, 3337, 4622, 220, 23, 11, 279, 66548, 4985, 617, 912, 29672, 311, 1304, 904, 14507, 311, 279, 17564, 878, 3156, 279, 17564, 878, 706, 12886, 279, 393, 29255, 66548, 46372, 946, 1111, 60079, 311, 279, 66548, 11, 323, 279, 66548, 11, 706, 279, 1314, 520, 904, 892, 11, 2085, 904, 24305, 36734, 11, 311, 27343, 279, 5178, 315, 279, 32904, 50, 2085, 4972, 11801, 477, 311, 30754, 279, 76590, 16837, 33549, 311, 13659, 220, 1758, 13, 18, 1921, 2432, 344, 570, 257, 1528, 8, 1442, 11, 520, 904, 892, 2391, 279, 4751, 315, 279, 76590, 16837, 11, 433, 374, 11075, 555, 279, 66548, 430, 279, 393, 29255, 66548, 46372, 946, 1111, 60079, 374, 539, 29262, 481, 477, 422, 433, 325, 1740, 13071, 706, 1027, 32302, 29852, 304, 904, 1648, 11, 279, 66548, 374, 20458, 311, 27343, 904, 14507, 311, 279, 17564, 878, 3156, 279, 17564, 878, 706, 3984, 279, 66548, 449, 264, 502, 323, 2764, 323, 29262, 481, 393, 29255, 66548, 46372, 946, 1111, 60079, 304, 279, 3878, 323, 1376, 743, 704, 304, 77506, 3337, 4622, 220, 23, 323, 11136, 323, 18908, 555, 904, 315, 279, 17564, 878, 753, 70038, 82334, 31404, 449, 14343, 6020, 11509, 323, 198, 198, 776, 12, 198, 198, 1927, 13, 16, 3161, 2515, 505, 279, 51021, 477, 35508, 315, 279, 76590, 16837, 11, 279, 17564, 878, 4985, 11, 3917, 311, 13659, 220, 1927, 13, 20, 25, 7214, 834, 9726, 279, 5178, 315, 279, 32904, 50, 323, 9467, 349, 279, 55771, 11, 323, 6106, 430, 33006, 1998, 8, 682, 7384, 3984, 311, 279, 17564, 878, 555, 279, 66548, 902, 29243, 311, 279, 32904, 50, 26, 323, 220, 198, 7, 3893, 8, 279, 32904, 50, 58113, 3579, 320, 49864, 304, 279, 3388, 315, 18459, 477, 220, 198, 35835, 8, 323, 904, 66548, 3501, 58555, 86499, 55759, 304, 279, 220, 198, 5910, 42205, 878, 753, 72881, 2200, 477, 2585, 304, 279, 1890, 3044, 439, 994, 279, 220, 198, 5910, 42205, 878, 4036, 1124, 320, 42000, 10051, 323, 18036, 3734, 291, 1237, 198, 198, 776, 12, 198, 198, 7, 72, 8, 279, 66548, 10548, 1778, 25288, 555, 8405, 5439, 5406, 311, 279, 220, 198, 5910, 42205, 878, 304, 18859, 449, 13659, 220, 1958, 13, 22, 1921, 8, 23537, 433, 311, 16063, 220, 198, 62344, 315, 682, 477, 961, 315, 279, 22340, 32904, 50, 26, 477, 220, 198, 7, 3893, 8, 279, 66548, 3727, 8323, 315, 904, 10489, 51744, 7725, 323, 73626, 82037, 19849, 3392, 11, 279, 7781, 304, 8323, 369, 902, 279, 17564, 878, 6244, 20458, 311, 27343, 279, 32904, 50, 26, 477, 220, 198, 7, 35694, 8, 279, 66548, 88711, 279, 76590, 16837, 304, 18859, 449, 13659, 220, 1758, 58488, 311, 13659, 220, 1958, 13, 22, 2948, 2432, 3893, 705, 279, 66548, 1253, 11, 555, 5406, 11, 21745, 279, 17564, 878, 311, 16063, 279, 22340, 32904, 50, 477, 961, 34366, 323, 279, 17564, 878, 4985, 40522, 16063, 5178, 315, 279, 22340, 32904, 50, 477, 904, 961, 34366, 439, 5246, 439, 3856, 75438, 2768, 23383, 315, 11801, 311, 16063, 5178, 555, 279, 66548, 323, 311, 279, 13112, 5300, 304, 279, 5406, 382, 776, 7058, 198, 36, 12247, 55759, 304, 5942, 477, 30847, 520, 279, 55771, 477, 665, 6149, 311, 279, 55771, 477, 3201, 505, 279, 55771, 320, 16564, 520, 904, 17564, 878, 55771, 705, 439, 1664, 439, 1884, 902, 617, 1027, 11713, 505, 16532, 5910, 42205, 10022, 477, 650, 4794, 10022, 26, 220, 198, 10888, 927, 2585, 323, 25502, 315, 279, 55771, 311, 279, 66548, 477, 1202, 29311, 26, 220, 198, 41681, 398, 1304, 1475, 13579, 5149, 311, 6994, 36935, 11, 5304, 3878, 58831, 311, 279, 66548, 11, 315, 682, 17517, 323, 10373, 539, 79051, 477, 2631, 311, 387, 79051, 304, 279, 66548, 33549, 311, 13659, 220, 1927, 13, 16, 968, 1237, 323, 1304, 1475, 13579, 5149, 311, 97087, 323, 50460, 7194, 52872, 439, 264, 1121, 315, 279, 35508, 13, 198, 1927, 13, 17, 1442, 682, 477, 264, 961, 315, 279, 76590, 16837, 374, 32372, 555, 279, 66548, 33549, 311, 29461, 220, 1758, 13, 17, 477, 220, 1758, 13, 18, 11, 279, 66548, 25, 198, 7, 64, 8, 4985, 2343, 279, 17564, 878, 369, 279, 13651, 315, 279, 32904, 50, 10887, 323, 8308, 4972, 311, 279, 2457, 315, 35508, 11, 3984, 430, 279, 66548, 4985, 539, 387, 35473, 311, 1304, 904, 14507, 311, 279, 17564, 878, 1306, 35508, 3156, 682, 7194, 11, 18151, 323, 26186, 315, 279, 3169, 14183, 198, 198, 776, 12, 198, 198, 1958, 13, 24, 47949, 435, 1507, 85094, 67703, 220, 198, 791, 6909, 5482, 529, 30255, 1234, 420, 76590, 16837, 1253, 539, 387, 22340, 389, 904, 5015, 11, 477, 369, 904, 2944, 11, 3734, 439, 743, 13544, 304, 420, 76590, 16837, 13, 578, 6909, 5482, 22552, 53611, 22429, 11, 311, 279, 77796, 13112, 15480, 555, 67703, 11, 279, 3851, 315, 13659, 220, 14125, 323, 11, 1405, 8581, 11, 13659, 220, 25622, 315, 279, 356, 3166, 1750, 14083, 13, 763, 279, 1567, 315, 25288, 315, 279, 4459, 477, 961, 315, 279, 76590, 16837, 11, 279, 6909, 5482, 4985, 539, 387, 51512, 315, 904, 14691, 30255, 477, 58165, 1234, 279, 19705, 315, 279, 76590, 16837, 13, 220, 198, 1758, 13, 94860, 3579, 198, 1758, 13, 16, 578, 66548, 1253, 30754, 279, 76590, 16837, 369, 19679, 5304, 8405, 279, 17564, 878, 449, 539, 2753, 1109, 27219, 320, 966, 8, 83931, 529, 5439, 5406, 13, 11115, 6062, 42075, 555, 279, 66548, 389, 477, 1306, 43221, 279, 35508, 5406, 11, 279, 17564, 878, 4985, 539, 56445, 904, 502, 198, 198, 776, 12, 198, 198, 7, 72, 8, 889, 11, 304, 279, 66548, 753, 9647, 25, 527, 653, 1030, 43719, 11, 95861, 477, 84834, 26, 527, 7120, 86581, 477, 12153, 311, 2804, 872, 30255, 1234, 279, 220, 198, 1929, 793, 16837, 26, 617, 11411, 264, 6129, 323, 20451, 31331, 1285, 1180, 11, 459, 1180, 315, 41094, 11, 459, 89735, 1180, 477, 459, 1180, 902, 1053, 387, 3917, 311, 57315, 1957, 26, 477, 617, 4745, 311, 26069, 449, 279, 67703, 477, 904, 17575, 315, 279, 76590, 16837, 11, 477, 220, 198, 7, 3893, 8, 369, 904, 1023, 13579, 5353, 539, 10212, 304, 13659, 220, 777, 13, 16, 2069, 2432, 72, 570, 720, 5884, 17564, 878, 57477, 82951, 7108, 505, 279, 5178, 315, 279, 32904, 50, 304, 18859, 449, 13659, 220, 777, 13, 16, 2069, 8, 4985, 539, 387, 5535, 311, 471, 311, 279, 5178, 315, 279, 32904, 50, 323, 4985, 387, 12860, 555, 264, 40883, 28779, 7214, 11, 520, 279, 17564, 878, 753, 1866, 2853, 11, 304, 2015, 311, 5766, 904, 44219, 311, 279, 32904, 50, 13, 220, 15483, 14039, 4985, 387, 1903, 3917, 311, 279, 66548, 753, 1314, 315, 38001, 320, 8370, 279, 66548, 1253, 10368, 520, 1202, 32022, 570, 198, 198, 776, 12, 198, 198, 1820, 2349, 315, 54279, 315, 904, 57477, 430, 6089, 477, 46345, 16511, 97983, 279, 17564, 878, 320, 16564, 904, 29539, 477, 17139, 2748, 2883, 8, 311, 904, 57477, 40522, 5304, 279, 220, 198, 5910, 42205, 878, 10671, 8010, 315, 1778, 2349, 304, 54279, 13, 198, 2096, 13, 17, 11208, 279, 66548, 706, 539, 2728, 1202, 4972, 5439, 14771, 311, 1778, 2349, 315, 54279, 11, 904, 2349, 315, 54279, 315, 279, 17564, 878, 323, 5255, 279, 2349, 315, 54279, 315, 904, 57477, 430, 6089, 477, 46345, 16511, 97983, 279, 17564, 878, 4985, 1218, 1017, 279, 66548, 311, 30754, 279, 76590, 16837, 304, 18859, 449, 13659, 220, 1758, 13, 20, 13, 220, 198, 1774, 13, 220, 53083, 53, 3166, 5854, 220, 198, 791, 99216, 30255, 323, 58165, 315, 279, 6909, 5482, 4985, 18167, 279, 51021, 477, 35508, 315, 279, 76590, 16837, 323, 279, 19705, 315, 29461, 220, 16, 11, 220, 17, 13, 18, 11, 220, 19, 13, 18, 2069, 705, 220, 19, 13, 19, 3283, 705, 220, 972, 11, 220, 508, 13, 21, 11, 220, 1419, 11, 220, 1627, 11, 220, 1544, 11, 220, 1591, 11, 220, 966, 11, 220, 2148, 11, 220, 843, 11, 220, 1927, 11, 220, 1806, 11, 220, 1987, 11, 220, 3174, 13, 21, 11, 220, 3174, 13, 845, 1528, 705, 220, 2983, 11, 220, 3391, 11, 220, 1774, 323, 220, 2790, 4985, 18167, 904, 51021, 477, 35508, 315, 279, 76590, 16837, 13, 220, 578, 19705, 315, 13659, 220, 2983, 4985, 18167, 369, 4330, 320, 20, 8, 1667, 505, 279, 2457, 315, 51021, 477, 35508, 315, 279, 76590, 16837, 382, 776, 10669, 2948, 8, 17908, 311, 13659, 220, 1419, 13, 22, 1921, 705, 422, 279, 66548, 14865, 311, 1304, 8323, 315, 904, 82037, 19849, 3392, 4245, 311, 279, 17564, 878, 304, 18859, 449, 420, 13659, 198, 220, 1419, 13, 22, 25, 320, 72, 8, 2949, 78976, 320, 1954, 8, 83931, 315, 279, 51021, 315, 279, 892, 4261, 5300, 304, 29461, 220, 1419, 13, 17, 1921, 705, 220, 1419, 13, 18, 1361, 8, 477, 220, 1419, 13, 18, 1528, 705, 279, 17564, 878, 1253, 25, 720, 4444, 8, 15820, 279, 66548, 304, 4477, 315, 1202, 14944, 311, 27343, 279, 32904, 50, 422, 220, 198, 21470, 8323, 374, 539, 1903, 2949, 63360, 320, 975, 8, 83931, 505, 279, 2457, 315, 23383, 315, 279, 5406, 555, 279, 66548, 26, 323, 2355, 5462, 8, 2768, 51021, 315, 279, 63360, 320, 975, 8, 38788, 4261, 14183, 311, 304, 220, 198, 17064, 220, 1419, 13, 22, 2948, 2432, 72, 2432, 32, 705, 15820, 279, 66548, 304, 4477, 315, 1202, 25288, 315, 220, 198, 3852, 961, 477, 682, 315, 279, 32904, 50, 449, 14247, 2515, 3156, 1778, 892, 439, 279, 220, 198, 5910, 42205, 878, 21879, 8323, 315, 279, 19310, 82037, 19849, 3392, 4245, 220, 198, 998, 279, 17564, 878, 477, 1778, 1023, 3392, 430, 1253, 387, 7378, 1990, 279, 198, 198, 776, 12, 198, 198, 7, 35694, 8, 36935, 12718, 369, 36935, 315, 1207, 64422, 449, 16532, 5910, 42205, 10022, 323, 650, 4794, 10022, 320, 80095, 11, 304, 1855, 1162, 11, 70038, 82334, 31404, 315, 279, 17564, 878, 705, 4869, 11, 279, 17564, 878, 4985, 539, 387, 20458, 311, 71111, 315, 904, 4814, 477, 10711, 4814, 2876, 50044, 13659, 220, 1927, 13, 16, 323, 3917, 311, 13659, 220, 1806, 11, 279, 17564, 878, 1253, 14389, 11236, 323, 1073, 32115, 82, 11, 11626, 11, 2626, 477, 6776, 477, 311, 4726, 6020, 13654, 439, 264, 1121, 315, 279, 35508, 13, 198, 1927, 13, 19, 1442, 279, 76590, 16837, 374, 32372, 555, 279, 66548, 33549, 311, 29461, 220, 1758, 13, 19, 477, 220, 1758, 13, 20, 11, 279, 66548, 4985, 2343, 279, 17564, 878, 369, 279, 13651, 315, 279, 32904, 50, 10887, 323, 8308, 4972, 311, 279, 2457, 220, 198, 1073, 35508, 13, 720, 220, 198, 1927, 13, 20, 2876, 50044, 13659, 220, 1927, 13, 16, 323, 3917, 311, 13659, 220, 1806, 11, 279, 17564, 878, 1253, 14389, 11236, 323, 220, 198, 265, 8723, 5247, 315, 279, 7384, 323, 32904, 50, 58113, 3579, 14183, 311, 304, 13659, 220, 1927, 13, 16, 1921, 8, 2768, 904, 51021, 477, 35508, 315, 279, 76590, 16837, 311, 279, 13112, 25, 720, 2948, 8, 2631, 311, 26069, 449, 67703, 26, 477, 198, 198, 776, 12, 198, 198, 4109, 5995, 311, 7373, 28705, 304, 279, 66548, 279, 3268, 323, 7720, 315, 279, 17564, 878, 1234, 904, 6484, 20038, 449, 69257, 6909, 5482, 320, 16564, 16532, 5910, 42205, 10022, 323, 650, 4794, 10022, 8, 9959, 311, 279, 17575, 315, 279, 32904, 50, 439, 279, 66548, 1253, 14158, 320, 16564, 555, 6747, 367, 315, 1778, 20038, 311, 279, 66548, 520, 279, 66548, 753, 1715, 1237, 220, 198, 7331, 279, 66548, 477, 1202, 29311, 2539, 1314, 315, 2680, 311, 279, 55771, 311, 4148, 323, 5255, 1935, 927, 279, 32904, 50, 477, 1778, 961, 34366, 311, 902, 279, 35508, 36716, 11, 3871, 449, 682, 76223, 50, 11, 924, 1921, 8, 1253, 11993, 505, 279, 17564, 878, 904, 18151, 323, 26186, 52872, 555, 279, 66548, 281, 7350, 11, 13077, 323, 3501, 58555, 86499, 55759, 13, 220, 2684, 10924, 11, 279, 66548, 477, 904, 1023, 35363, 69257, 64327, 1253, 4686, 279, 32904, 50, 477, 279, 9959, 961, 315, 279, 32904, 50, 1701, 1778, 76223, 50, 11, 17135, 11, 13077, 11, 323, 3501, 58555, 86499, 55759, 26, 7945, 279, 66548, 304, 3339, 459, 15808, 315, 682, 76223, 50, 323, 3501, 58555, 198, 198, 776, 12, 198, 198, 7, 85, 8, 279, 13463, 93439, 555, 13659, 220, 1691, 13, 23, 3073, 26, 477, 220, 198, 56950, 27219, 320, 966, 8, 83931, 315, 279, 17564, 878, 753, 23383, 315, 264, 5439, 5406, 505, 279, 66548, 25607, 832, 477, 810, 315, 279, 2768, 69140, 555, 279, 17564, 878, 11, 3984, 430, 279, 17564, 878, 706, 539, 34630, 1142, 279, 9959, 31471, 2949, 1778, 4261, 25, 320, 72, 8, 279, 17564, 878, 753, 25288, 477, 7781, 315, 279, 5178, 315, 279, 32904, 50, 304, 31471, 315, 13659, 220, 1958, 26, 720, 31834, 8, 279, 17564, 878, 753, 8060, 311, 3493, 477, 10519, 904, 27460, 11, 6201, 36755, 477, 220, 1023, 7739, 315, 4868, 2631, 1234, 279, 76590, 16837, 26, 720, 1998, 3893, 8, 279, 17564, 878, 753, 28448, 477, 5150, 8060, 311, 11322, 25, 220, 198, 46678, 4716, 21673, 12, 3202, 2949, 30335, 320, 717, 8, 4038, 315, 279, 8581, 220, 198, 46678, 4716, 21673, 12, 3202, 29643, 26, 477, 5421, 48771, 984, 56006, 8606, 2949, 30335, 320, 717, 8, 4038, 315, 279, 5421, 48771, 984, 56006, 8606, 29643, 11, 256, 198, 1605, 1109, 1405, 1778, 8060, 374, 4245, 311, 279, 25288, 315, 279, 32904, 50, 555, 279, 198, 198, 776, 12, 198, 198, 7, 67, 8, 1789, 279, 65411, 315, 10712, 11, 1405, 13659, 220, 1644, 13, 17, 1361, 8, 17208, 11, 279, 17564, 878, 4985, 539, 6920, 220, 198, 412, 904, 4375, 311, 7763, 1463, 904, 1778, 4814, 477, 5674, 3156, 433, 374, 779, 2631, 555, 279, 66548, 13, 720, 2069, 8, 1442, 279, 66548, 1587, 539, 779, 1397, 279, 17564, 878, 311, 7763, 1463, 904, 4814, 477, 5674, 311, 279, 220, 198, 18977, 50, 555, 1648, 315, 5439, 11801, 11, 279, 66548, 4985, 25, 720, 1998, 8, 4360, 264, 66548, 650, 16412, 3579, 34516, 304, 18859, 449, 13659, 220, 1187, 13, 17, 220, 198, 316, 15154, 279, 5178, 315, 430, 961, 315, 279, 32904, 50, 28592, 5675, 11, 14763, 477, 20727, 26, 2355, 31834, 8, 1405, 279, 4814, 477, 5674, 22223, 264, 12190, 961, 315, 279, 32904, 50, 11, 30754, 279, 17564, 878, 753, 20392, 33549, 311, 13659, 220, 1758, 13, 16, 26, 477, 220, 198, 7, 35694, 8, 422, 8581, 11, 30754, 279, 76590, 16837, 33549, 311, 13659, 220, 1758, 13, 19, 13, 198, 1958, 13, 90129, 47, 24557, 198, 1958, 13, 16, 66548, 40702, 28577, 5257, 90129, 39940, 4716, 3501, 42122, 57782, 198, 198, 776, 12, 198, 198, 791, 66548, 4985, 617, 279, 1314, 520, 904, 892, 11, 520, 1202, 13612, 32022, 323, 2085, 5353, 11, 311, 7937, 279, 19679, 315, 279, 66548, 311, 27343, 279, 5178, 315, 682, 477, 904, 961, 315, 279, 32904, 50, 449, 14247, 2515, 555, 8405, 5406, 304, 4477, 311, 279, 17564, 878, 13, 198, 1958, 13, 17, 90129, 47, 24557, 4716, 17564, 878, 40702, 76223, 81662, 12137, 198, 27131, 48786, 311, 13659, 220, 1958, 13, 16, 11, 422, 279, 17564, 878, 42635, 264, 3769, 31471, 315, 904, 315, 1202, 220, 30255, 1234, 279, 76590, 16837, 11, 1243, 279, 66548, 4985, 617, 279, 1314, 311, 27343, 279, 5178, 315, 682, 477, 904, 961, 315, 279, 32904, 50, 11, 323, 5255, 27343, 279, 5178, 315, 682, 477, 904, 961, 315, 279, 66548, 753, 30255, 1234, 420, 76590, 16837, 11, 449, 14247, 2515, 555, 8405, 5406, 304, 4477, 311, 279, 17564, 878, 11, 3984, 430, 1778, 1314, 315, 279, 66548, 4985, 387, 304, 5369, 311, 1202, 1023, 3268, 323, 51236, 1234, 420, 76590, 16837, 323, 67703, 382, 776, 7058, 198, 4292, 4931, 3651, 11596, 33611, 4985, 3881, 439, 961, 315, 279, 76590, 16837, 304, 18859, 449, 56897, 220, 17, 315, 279, 220, 198, 11052, 3083, 76590, 16837, 13, 220, 198, 16, 13, 220, 198, 13963, 691, 68861, 3651, 30442, 17809, 51, 3579, 720, 220, 198, 16, 13, 16, 62026, 68861, 220, 198, 644, 1521, 53412, 100028, 3651, 11596, 11, 7389, 6062, 4613, 11, 6864, 4147, 4339, 323, 220, 198, 14107, 919, 4985, 617, 279, 2768, 50800, 25, 720, 2118, 1905, 4064, 715, 5441, 863, 3445, 25, 720, 2948, 8, 220, 198, 64, 46072, 91402, 315, 279, 32904, 50, 320, 11945, 1405, 279, 32904, 50, 527, 22340, 1234, 279, 220, 198, 1929, 793, 16837, 477, 4245, 311, 264, 83689, 9917, 41429, 4622, 13032, 1237, 477, 2355, 1921, 8, 220, 198, 3852, 3769, 8060, 311, 2804, 279, 32904, 50, 3984, 430, 25, 320, 72, 8, 279, 17564, 878, 374, 12153, 311, 220, 198, 62556, 311, 279, 66548, 11, 2949, 37755, 320, 868, 8, 83931, 315, 1694, 11472, 311, 656, 779, 11, 264, 5439, 220, 198, 54512, 11, 3871, 449, 12899, 6029, 11, 45296, 430, 1070, 374, 264, 13579, 220, 198, 782, 68182, 315, 279, 17564, 878, 32145, 5421, 48771, 984, 56006, 8606, 2949, 832, 220, 198, 71, 7259, 323, 80679, 320, 5245, 8, 83931, 315, 279, 5421, 48771, 984, 56006, 8606, 29643, 323, 320, 3893, 8, 279, 220, 198, 24637, 17742, 374, 539, 304, 31471, 315, 1202, 30255, 743, 704, 304, 29461, 220, 22, 13, 16, 11, 220, 1419, 11, 220, 1187, 11, 220, 1806, 11, 220, 3174, 323, 220, 2983, 382, 776, 7058, 198, 2618, 13, 17, 198, 2746, 279, 66548, 409, 12116, 320, 266, 1202, 10973, 32022, 8, 430, 904, 27693, 650, 1863, 4622, 555, 279, 220, 198, 5910, 42205, 878, 1234, 420, 13659, 220, 2618, 374, 34920, 7235, 311, 279, 66548, 753, 2802, 11, 279, 66548, 4985, 220, 198, 258, 1257, 279, 17564, 878, 304, 4477, 311, 1935, 7504, 311, 30754, 274, 198, 198, 98804, 1038, 14730, 4521, 19124, 220, 27, 14924, 27916, 9636, 1148, 3044, 66548, 649, 30754, 279, 5226, 30, 128009, 128006, 78191, 128007, 198, 198, 11439, 311, 279, 3984, 5226, 3649, 11, 279, 66548, 649, 30754, 279, 5226, 1234, 279, 2768, 4787, 512, 198, 16, 13, 13659, 220, 1758, 13, 16, 25, 578, 66548, 1253, 30754, 279, 76590, 16837, 449, 14247, 2515, 555, 5439, 5406, 311, 279, 17564, 878, 422, 512, 197, 9, 578, 17564, 878, 706, 4745, 311, 11322, 904, 315, 279, 82046, 46372, 946, 94418, 1600, 2391, 279, 82046, 13916, 50, 389, 2380, 320, 18, 8, 25975, 323, 13659, 220, 845, 13, 18, 1528, 8, 17208, 627, 197, 9, 5884, 3237, 9669, 389, 279, 24305, 315, 279, 17564, 878, 1234, 279, 76590, 16837, 11, 2737, 279, 8244, 7340, 3392, 369, 24711, 3097, 7708, 5876, 926, 9182, 16908, 304, 12976, 311, 7781, 311, 5421, 48771, 984, 56006, 8606, 320, 8248, 44878, 904, 8244, 7340, 15055, 369, 1023, 12282, 386, 3015, 790, 61389, 705, 617, 1027, 8813, 477, 34908, 627, 197, 9, 14469, 4064, 715, 5441, 555, 279, 17564, 878, 13, 198, 17, 13, 13659, 220, 1758, 13, 17, 25, 578, 66548, 1253, 30754, 279, 76590, 16837, 449, 14247, 2515, 555, 5439, 5406, 311, 279, 17564, 878, 422, 512, 197, 9, 1556, 26776, 1971, 53, 43558, 13032, 13980, 304, 12976, 311, 279, 17564, 878, 477, 904, 57477, 889, 16511, 97983, 279, 17564, 878, 320, 269, 11, 422, 279, 17564, 878, 42675, 264, 10458, 3301, 650, 1863, 4622, 11, 304, 12976, 311, 264, 17564, 878, 82924, 477, 904, 57477, 889, 16511, 97983, 1778, 17564, 878, 82924, 570, 198, 18, 13, 13659, 220, 1758, 13, 18, 25, 578, 66548, 1253, 30754, 682, 477, 264, 961, 315, 279, 76590, 16837, 555, 5439, 5406, 311, 279, 17564, 878, 512, 197, 9, 3161, 14247, 2515, 11, 422, 279, 17564, 878, 706, 12893, 11, 23217, 11, 11684, 11, 477, 6062, 3289, 900, 291, 904, 315, 1202, 3268, 11, 30255, 11, 12034, 11, 477, 7720, 40986, 1234, 279, 76590, 16837, 320, 269, 4087, 3476, 311, 656, 779, 8, 2085, 279, 66548, 596, 4972, 5439, 14771, 13, 198, 19, 13, 13659, 220, 1758, 13, 19, 25, 578, 66548, 1253, 30754, 279, 76590, 16837, 449, 14247, 2515, 555, 5439, 5406, 311, 279, 17564, 878, 422, 512, 197, 9, 362, 2349, 315, 54279, 315, 279, 17564, 878, 323, 5255, 264, 2349, 315, 54279, 315, 904, 57477, 430, 6089, 477, 46345, 16511, 97983, 279, 17564, 878, 320, 16564, 904, 29539, 477, 17139, 2748, 2883, 8, 13980, 2085, 279, 66548, 596, 4972, 5439, 14771, 13, 198, 20, 13, 13659, 220, 1758, 13, 20, 25, 578, 66548, 1253, 30754, 279, 76590, 16837, 449, 14247, 2515, 555, 5439, 5406, 311, 279, 17564, 878, 422, 512, 197, 9, 362, 2349, 315, 54279, 315, 279, 17564, 878, 323, 5255, 264, 2349, 315, 54279, 315, 904, 57477, 430, 6089, 477, 46345, 16511, 97983, 279, 17564, 878, 320, 16564, 904, 29539, 477, 17139, 2748, 2883, 8, 13980, 2085, 279, 66548, 596, 4972, 5439, 14771, 13, 198, 21, 13, 13659, 220, 1758, 13, 21, 25, 578, 66548, 1253, 30754, 279, 76590, 16837, 304, 279, 13463, 7633, 304, 29461, 220, 1419, 13, 22, 2948, 2432, 3893, 2432, 33, 570, 198, 22, 13, 13659, 220, 1272, 13, 22, 1921, 1680, 578, 66548, 1253, 30754, 279, 76590, 16837, 449, 14247, 2515, 555, 5439, 5406, 311, 279, 17564, 878, 422, 459, 26776, 1971, 53, 43558, 13032, 13980, 304, 12976, 311, 279, 66548, 477, 904, 57477, 889, 16511, 97983, 279, 66548, 627, 198, 9673, 4787, 3493, 5370, 21319, 369, 279, 66548, 311, 30754, 279, 5226, 11, 2737, 3769, 69140, 315, 30255, 11, 1672, 95030, 4455, 11, 4442, 315, 2585, 11, 323, 1023, 13463, 13, 128009], 'total_duration': 11142583914813, 'load_duration': 54939936805, 'prompt_eval_count': 4130, 'prompt_eval_duration': 1829872067000, 'eval_count': 578, 'eval_duration': 9257251957000}\n",
      "-----------\n",
      "Can CONTRACTOR terminate the contract?\n"
     ]
    },
    {
     "name": "stderr",
     "output_type": "stream",
     "text": [
      "Special tokens have been added in the vocabulary, make sure the associated word embeddings are fine-tuned or trained.\n",
      "Special tokens have been added in the vocabulary, make sure the associated word embeddings are fine-tuned or trained.\n",
      "Special tokens have been added in the vocabulary, make sure the associated word embeddings are fine-tuned or trained.\n",
      "Special tokens have been added in the vocabulary, make sure the associated word embeddings are fine-tuned or trained.\n",
      "Special tokens have been added in the vocabulary, make sure the associated word embeddings are fine-tuned or trained.\n",
      "Special tokens have been added in the vocabulary, make sure the associated word embeddings are fine-tuned or trained.\n",
      "Special tokens have been added in the vocabulary, make sure the associated word embeddings are fine-tuned or trained.\n",
      "Special tokens have been added in the vocabulary, make sure the associated word embeddings are fine-tuned or trained.\n",
      "Special tokens have been added in the vocabulary, make sure the associated word embeddings are fine-tuned or trained.\n",
      "Special tokens have been added in the vocabulary, make sure the associated word embeddings are fine-tuned or trained.\n",
      "Special tokens have been added in the vocabulary, make sure the associated word embeddings are fine-tuned or trained.\n",
      "Special tokens have been added in the vocabulary, make sure the associated word embeddings are fine-tuned or trained.\n",
      "Special tokens have been added in the vocabulary, make sure the associated word embeddings are fine-tuned or trained.\n",
      "Special tokens have been added in the vocabulary, make sure the associated word embeddings are fine-tuned or trained.\n",
      "Special tokens have been added in the vocabulary, make sure the associated word embeddings are fine-tuned or trained.\n",
      "Special tokens have been added in the vocabulary, make sure the associated word embeddings are fine-tuned or trained.\n",
      "Special tokens have been added in the vocabulary, make sure the associated word embeddings are fine-tuned or trained.\n",
      "Special tokens have been added in the vocabulary, make sure the associated word embeddings are fine-tuned or trained.\n",
      "Special tokens have been added in the vocabulary, make sure the associated word embeddings are fine-tuned or trained.\n",
      "Special tokens have been added in the vocabulary, make sure the associated word embeddings are fine-tuned or trained.\n",
      "Special tokens have been added in the vocabulary, make sure the associated word embeddings are fine-tuned or trained.\n",
      "Special tokens have been added in the vocabulary, make sure the associated word embeddings are fine-tuned or trained.\n",
      "Special tokens have been added in the vocabulary, make sure the associated word embeddings are fine-tuned or trained.\n",
      "Special tokens have been added in the vocabulary, make sure the associated word embeddings are fine-tuned or trained.\n",
      "Special tokens have been added in the vocabulary, make sure the associated word embeddings are fine-tuned or trained.\n",
      "Special tokens have been added in the vocabulary, make sure the associated word embeddings are fine-tuned or trained.\n",
      "Special tokens have been added in the vocabulary, make sure the associated word embeddings are fine-tuned or trained.\n"
     ]
    },
    {
     "name": "stdout",
     "output_type": "stream",
     "text": [
      "Response: {'model': 'llama3:8b-instruct-q4_K_M', 'created_at': '2024-07-02T01:54:30.187582227Z', 'response': \"Based on the provided contract details, it appears that the CONTRACTOR may terminate the agreement in certain circumstances. Here are some specific instances where the CONTRACTOR may be able to terminate the contract:\\n\\n1. **Change of Control**: If there is a change of control of the CONTRACTOR or any person who directly or indirectly controls the CONTRACTOR (including an intermediate or ultimate parent company), the COMPANY may terminate the agreement with immediate effect by written notice to the CONTRACTOR (Article 35.5).\\n2. **Suspension and Failure to Resume**: If the COMPANY suspends the WORKS and fails to resume performance, the CONTRACTOR may terminate the agreement by written notice to the COMPANY (Article 34.7(a)(ii)).\\n3. **Non-Payment**: If the COMPANY fails to make payment of any properly invoiced and overdue undisputed amount, the CONTRACTOR may terminate the agreement by written notice to the COMPANY (Article 35.6).\\n4. **Insolvency Event**: If an INSOLVENCY EVENT occurs in relation to the COMPANY or any person who controls the COMPANY, the CONTRACTOR may terminate the agreement with immediate effect by written notice to the COMPANY (Article 35.2).\\n\\nHowever, it's essential to note that these termination rights are subject to specific conditions and requirements outlined in the contract. The CONTRACTOR should carefully review the contract terms before exercising its termination rights.\\n\\nPlease let me know if you have any further questions or concerns!\", 'done': True, 'context': [128006, 9125, 128007, 198, 198, 2675, 527, 264, 42066, 323, 6721, 18328, 51920, 449, 8405, 11944, 2038, 922, 8246, 5226, 13, 4718, 14847, 1288, 387, 64694, 11, 39319, 11, 323, 26549, 49553, 311, 279, 3878, 323, 4787, 33740, 304, 279, 3984, 5226, 3649, 13, 128009, 128006, 882, 128007, 271, 220, 45495, 27916, 720, 220, 1758, 13, 20, 578, 66548, 4985, 387, 20458, 311, 30754, 279, 76590, 16837, 449, 14247, 2515, 555, 5439, 5406, 311, 279, 17564, 878, 422, 11, 2085, 279, 66548, 753, 4972, 5439, 14771, 3515, 1027, 2728, 11, 1070, 374, 264, 220, 198, 3455, 315, 54279, 315, 279, 17564, 878, 323, 5255, 279, 2349, 315, 54279, 315, 904, 57477, 430, 6089, 477, 46345, 16511, 97983, 279, 17564, 878, 320, 16564, 904, 29539, 477, 17139, 2748, 2883, 570, 198, 198, 776, 12, 198, 198, 34590, 5482, 13, 220, 578, 17564, 878, 753, 25288, 315, 279, 32904, 50, 304, 18859, 449, 420, 13659, 220, 1419, 13, 22, 2948, 2432, 72, 8, 4985, 539, 48786, 1202, 55001, 311, 30754, 279, 76590, 16837, 33549, 311, 13659, 220, 1419, 13, 22, 2948, 2432, 3893, 1237, 323, 220, 198, 7, 3893, 8, 2949, 832, 7895, 323, 17510, 320, 4364, 8, 83931, 315, 279, 51021, 315, 279, 892, 4261, 5300, 304, 29461, 220, 1419, 13, 17, 1921, 705, 220, 1419, 13, 18, 1361, 8, 477, 220, 1419, 13, 18, 1528, 705, 279, 17564, 878, 1253, 25, 720, 4444, 8, 15820, 279, 66548, 304, 4477, 315, 1202, 14944, 311, 30754, 279, 220, 198, 1929, 793, 16837, 422, 1778, 8323, 374, 539, 1903, 2949, 63360, 320, 975, 8, 83931, 505, 220, 198, 1820, 2457, 315, 23383, 315, 279, 5406, 555, 279, 66548, 26, 323, 220, 198, 7, 33, 8, 2768, 51021, 315, 279, 63360, 320, 975, 8, 38788, 4261, 5300, 304, 13659, 220, 1419, 13, 22, 2948, 2432, 3893, 2432, 32, 705, 220, 279, 220, 17564, 878, 220, 1253, 220, 30754, 220, 279, 220, 76590, 16837, 555, 5439, 5406, 311, 279, 66548, 11, 3984, 430, 279, 220, 8857, 315, 279, 69, 19310, 82037, 19849, 3392, 320, 269, 1778, 1023, 3392, 7378, 220, 198, 42967, 279, 6909, 5482, 8, 706, 539, 1027, 7318, 520, 279, 892, 315, 9889, 315, 1778, 220, 198, 24467, 382, 776, 7058, 198, 24637, 17742, 33549, 311, 13659, 220, 1958, 13, 16, 26, 477, 320, 344, 8, 279, 17564, 878, 753, 31471, 315, 264, 3769, 29672, 1234, 279, 76590, 16837, 1023, 1109, 279, 69140, 10212, 304, 29461, 220, 1758, 13, 18, 2948, 8, 323, 220, 1758, 13, 18, 1921, 2432, 72, 8, 311, 220, 1758, 13, 18, 1921, 2432, 35694, 570, 198, 1758, 13, 19, 578, 66548, 1253, 30754, 279, 76590, 16837, 449, 14247, 2515, 555, 5439, 5406, 311, 279, 17564, 878, 304, 279, 13463, 7633, 304, 13659, 220, 1644, 13, 17, 2069, 2432, 35694, 8, 323, 220, 1272, 13, 22, 1921, 570, 198, 198, 776, 12, 198, 198, 1927, 13, 16, 3161, 2515, 505, 279, 51021, 477, 35508, 315, 279, 76590, 16837, 11, 279, 17564, 878, 4985, 11, 3917, 311, 13659, 220, 1927, 13, 20, 25, 7214, 834, 9726, 279, 5178, 315, 279, 32904, 50, 323, 9467, 349, 279, 55771, 11, 323, 6106, 430, 33006, 1998, 8, 682, 7384, 3984, 311, 279, 17564, 878, 555, 279, 66548, 902, 29243, 311, 279, 32904, 50, 26, 323, 220, 198, 7, 3893, 8, 279, 32904, 50, 58113, 3579, 320, 49864, 304, 279, 3388, 315, 18459, 477, 220, 198, 35835, 8, 323, 904, 66548, 3501, 58555, 86499, 55759, 304, 279, 220, 198, 5910, 42205, 878, 753, 72881, 2200, 477, 2585, 304, 279, 1890, 3044, 439, 994, 279, 220, 198, 5910, 42205, 878, 4036, 1124, 320, 42000, 10051, 323, 18036, 3734, 291, 1237, 198, 198, 776, 12, 198, 198, 1758, 13, 21, 17586, 48786, 311, 279, 17564, 878, 753, 1023, 3268, 477, 51236, 11, 279, 17564, 878, 1253, 30754, 279, 76590, 16837, 304, 279, 13463, 7633, 304, 29461, 220, 1419, 13, 22, 2948, 2432, 3893, 2432, 33, 570, 220, 198, 1774, 13, 22, 578, 76590, 16837, 1253, 539, 387, 32372, 477, 6062, 9670, 555, 3060, 64327, 389, 904, 5015, 11, 477, 369, 904, 2944, 11, 3734, 439, 743, 13544, 304, 279, 76590, 16837, 13, 220, 578, 6909, 5482, 22552, 53611, 22429, 11, 311, 279, 220, 198, 1285, 60244, 13112, 15480, 555, 67703, 11, 279, 3851, 315, 29461, 220, 16567, 1555, 220, 14417, 315, 279, 356, 3166, 1750, 14083, 439, 1664, 439, 29461, 220, 23873, 11, 220, 25399, 323, 220, 24110, 1555, 220, 24542, 315, 279, 356, 3166, 1750, 14083, 13, 220, 1789, 279, 65411, 315, 10712, 11, 3734, 439, 743, 13544, 304, 279, 76590, 16837, 11, 279, 6909, 5482, 22552, 53611, 22429, 904, 8670, 315, 5406, 11, 21801, 2786, 11, 477, 315, 279, 1205, 311, 617, 93370, 311, 264, 5590, 477, 63992, 430, 1253, 387, 3984, 369, 304, 279, 356, 3166, 1750, 14083, 13, 220, 1927, 13, 63153, 50, 11, 78536, 3651, 507, 9574, 1953, 22545, 6328, 4154, 1932, 11492, 2794, 94860, 3579, 198, 198, 776, 12, 198, 198, 1927, 13, 18, 1442, 279, 76590, 16837, 374, 32372, 555, 279, 17564, 878, 33549, 311, 13659, 220, 1758, 13, 17, 11, 477, 555, 279, 66548, 33549, 311, 13659, 220, 1758, 13, 16, 11, 279, 66548, 4985, 2343, 279, 17564, 878, 25, 720, 2948, 8, 369, 279, 13651, 315, 279, 32904, 50, 10887, 323, 8308, 4972, 311, 279, 2457, 315, 35508, 26, 323, 220, 198, 7, 65, 8, 3917, 311, 13659, 220, 1927, 13, 19, 11, 279, 17564, 878, 753, 17033, 7194, 52872, 304, 12976, 311, 904, 315, 279, 2768, 11, 3984, 430, 1778, 7194, 1051, 539, 2736, 26403, 555, 279, 17564, 878, 4972, 311, 35508, 25, 720, 1998, 8, 2486, 29029, 8082, 315, 279, 17564, 878, 57477, 82951, 44, 45507, 50, 323, 3501, 58555, 36, 12247, 55759, 26, 720, 31834, 8, 4375, 323, 3600, 2736, 65362, 555, 279, 17564, 878, 21861, 4594, 5910, 42205, 10022, 477, 650, 4794, 10022, 11, 369, 902, 36935, 4250, 387, 1903, 477, 649, 387, 1903, 5304, 8323, 315, 36935, 12718, 11, 2403, 27470, 11311, 26, 323, 198, 198, 776, 12, 198, 198, 1758, 13, 17, 21663, 64327, 1253, 30754, 279, 76590, 16837, 449, 14247, 2515, 555, 5439, 5406, 311, 279, 1023, 64327, 422, 459, 26776, 1971, 53, 43558, 13032, 13980, 304, 12976, 311, 279, 1023, 64327, 477, 904, 57477, 889, 16511, 97983, 1778, 64327, 320, 269, 11, 422, 279, 17564, 878, 42675, 264, 10458, 3301, 650, 1863, 4622, 11, 304, 12976, 311, 264, 17564, 878, 82924, 477, 904, 57477, 889, 16511, 97983, 1778, 17564, 878, 82924, 570, 198, 198, 776, 12, 198, 198, 1958, 13, 24, 47949, 435, 1507, 85094, 67703, 220, 198, 791, 6909, 5482, 529, 30255, 1234, 420, 76590, 16837, 1253, 539, 387, 22340, 389, 904, 5015, 11, 477, 369, 904, 2944, 11, 3734, 439, 743, 13544, 304, 420, 76590, 16837, 13, 578, 6909, 5482, 22552, 53611, 22429, 11, 311, 279, 77796, 13112, 15480, 555, 67703, 11, 279, 3851, 315, 13659, 220, 14125, 323, 11, 1405, 8581, 11, 13659, 220, 25622, 315, 279, 356, 3166, 1750, 14083, 13, 763, 279, 1567, 315, 25288, 315, 279, 4459, 477, 961, 315, 279, 76590, 16837, 11, 279, 6909, 5482, 4985, 539, 387, 51512, 315, 904, 14691, 30255, 477, 58165, 1234, 279, 19705, 315, 279, 76590, 16837, 13, 220, 198, 1758, 13, 94860, 3579, 198, 1758, 13, 16, 578, 66548, 1253, 30754, 279, 76590, 16837, 369, 19679, 5304, 8405, 279, 17564, 878, 449, 539, 2753, 1109, 27219, 320, 966, 8, 83931, 529, 5439, 5406, 13, 11115, 6062, 42075, 555, 279, 66548, 389, 477, 1306, 43221, 279, 35508, 5406, 11, 279, 17564, 878, 4985, 539, 56445, 904, 502, 198, 198, 776, 12, 198, 198, 1758, 13, 18, 17586, 48786, 311, 13659, 220, 1758, 13, 16, 323, 279, 66548, 753, 1023, 3268, 477, 51236, 1234, 279, 76590, 16837, 11, 279, 66548, 4985, 387, 20458, 311, 30754, 682, 477, 264, 961, 315, 279, 76590, 16837, 555, 5439, 5406, 311, 279, 17564, 878, 25, 449, 14247, 2515, 11, 422, 25, 720, 1998, 8, 279, 17564, 878, 706, 12893, 11, 23217, 11, 11684, 477, 6062, 3289, 900, 291, 904, 315, 1202, 3268, 11, 30255, 11, 12034, 477, 7720, 40986, 1234, 279, 76590, 16837, 320, 269, 4087, 3476, 311, 656, 904, 315, 279, 88931, 8, 6062, 1109, 304, 18859, 449, 279, 76590, 16837, 26, 720, 31834, 8, 279, 17564, 878, 14865, 311, 11322, 904, 315, 279, 82046, 55795, 946, 94418, 1600, 2391, 279, 82046, 13916, 50, 389, 2380, 320, 18, 8, 25975, 323, 13659, 220, 845, 13, 18, 1528, 8, 17208, 26, 720, 1998, 3893, 8, 904, 3237, 9669, 389, 279, 24305, 315, 279, 17564, 878, 1234, 279, 220, 198, 1929, 793, 16837, 11, 2737, 279, 8244, 7340, 3392, 369, 24711, 3097, 7708, 5876, 926, 9182, 16908, 304, 12976, 311, 7781, 311, 5421, 48771, 984, 56006, 8606, 320, 8248, 44878, 904, 8244, 7340, 15055, 369, 1023, 12282, 386, 3015, 790, 61389, 705, 617, 1027, 8813, 477, 34908, 26, 720, 72814, 8, 14469, 4064, 715, 5441, 555, 279, 17564, 878, 26, 477, 198, 198, 776, 12, 198, 198, 7, 72, 8, 279, 66548, 10548, 1778, 25288, 555, 8405, 5439, 5406, 311, 279, 220, 198, 5910, 42205, 878, 304, 18859, 449, 13659, 220, 1958, 13, 22, 1921, 8, 23537, 433, 311, 16063, 220, 198, 62344, 315, 682, 477, 961, 315, 279, 22340, 32904, 50, 26, 477, 220, 198, 7, 3893, 8, 279, 66548, 3727, 8323, 315, 904, 10489, 51744, 7725, 323, 73626, 82037, 19849, 3392, 11, 279, 7781, 304, 8323, 369, 902, 279, 17564, 878, 6244, 20458, 311, 27343, 279, 32904, 50, 26, 477, 220, 198, 7, 35694, 8, 279, 66548, 88711, 279, 76590, 16837, 304, 18859, 449, 13659, 220, 1758, 58488, 311, 13659, 220, 1958, 13, 22, 2948, 2432, 3893, 705, 279, 66548, 1253, 11, 555, 5406, 11, 21745, 279, 17564, 878, 311, 16063, 279, 22340, 32904, 50, 477, 961, 34366, 323, 279, 17564, 878, 4985, 40522, 16063, 5178, 315, 279, 22340, 32904, 50, 477, 904, 961, 34366, 439, 5246, 439, 3856, 75438, 2768, 23383, 315, 11801, 311, 16063, 5178, 555, 279, 66548, 323, 311, 279, 13112, 5300, 304, 279, 5406, 382, 776, 10669, 1361, 8, 1442, 279, 17564, 878, 14865, 311, 3493, 477, 10519, 264, 393, 29255, 66548, 46372, 946, 1111, 60079, 439, 5300, 304, 77506, 3337, 4622, 220, 23, 11, 279, 66548, 4985, 617, 912, 29672, 311, 1304, 904, 14507, 311, 279, 17564, 878, 3156, 279, 17564, 878, 706, 12886, 279, 393, 29255, 66548, 46372, 946, 1111, 60079, 311, 279, 66548, 11, 323, 279, 66548, 11, 706, 279, 1314, 520, 904, 892, 11, 2085, 904, 24305, 36734, 11, 311, 27343, 279, 5178, 315, 279, 32904, 50, 2085, 4972, 11801, 477, 311, 30754, 279, 76590, 16837, 33549, 311, 13659, 220, 1758, 13, 18, 1921, 2432, 344, 570, 257, 1528, 8, 1442, 11, 520, 904, 892, 2391, 279, 4751, 315, 279, 76590, 16837, 11, 433, 374, 11075, 555, 279, 66548, 430, 279, 393, 29255, 66548, 46372, 946, 1111, 60079, 374, 539, 29262, 481, 477, 422, 433, 325, 1740, 13071, 706, 1027, 32302, 29852, 304, 904, 1648, 11, 279, 66548, 374, 20458, 311, 27343, 904, 14507, 311, 279, 17564, 878, 3156, 279, 17564, 878, 706, 3984, 279, 66548, 449, 264, 502, 323, 2764, 323, 29262, 481, 393, 29255, 66548, 46372, 946, 1111, 60079, 304, 279, 3878, 323, 1376, 743, 704, 304, 77506, 3337, 4622, 220, 23, 323, 11136, 323, 18908, 555, 904, 315, 279, 17564, 878, 753, 70038, 82334, 31404, 449, 14343, 6020, 11509, 323, 198, 198, 776, 12, 198, 198, 36, 12247, 55759, 304, 5942, 477, 30847, 520, 279, 55771, 477, 665, 6149, 311, 279, 55771, 477, 3201, 505, 279, 55771, 320, 16564, 520, 904, 17564, 878, 55771, 705, 439, 1664, 439, 1884, 902, 617, 1027, 11713, 505, 16532, 5910, 42205, 10022, 477, 650, 4794, 10022, 26, 220, 198, 10888, 927, 2585, 323, 25502, 315, 279, 55771, 311, 279, 66548, 477, 1202, 29311, 26, 220, 198, 41681, 398, 1304, 1475, 13579, 5149, 311, 6994, 36935, 11, 5304, 3878, 58831, 311, 279, 66548, 11, 315, 682, 17517, 323, 10373, 539, 79051, 477, 2631, 311, 387, 79051, 304, 279, 66548, 33549, 311, 13659, 220, 1927, 13, 16, 968, 1237, 323, 1304, 1475, 13579, 5149, 311, 97087, 323, 50460, 7194, 52872, 439, 264, 1121, 315, 279, 35508, 13, 198, 1927, 13, 17, 1442, 682, 477, 264, 961, 315, 279, 76590, 16837, 374, 32372, 555, 279, 66548, 33549, 311, 29461, 220, 1758, 13, 17, 477, 220, 1758, 13, 18, 11, 279, 66548, 25, 198, 7, 64, 8, 4985, 2343, 279, 17564, 878, 369, 279, 13651, 315, 279, 32904, 50, 10887, 323, 8308, 4972, 311, 279, 2457, 315, 35508, 11, 3984, 430, 279, 66548, 4985, 539, 387, 35473, 311, 1304, 904, 14507, 311, 279, 17564, 878, 1306, 35508, 3156, 682, 7194, 11, 18151, 323, 26186, 315, 279, 3169, 14183, 198, 198, 776, 12, 198, 198, 7, 35694, 8, 36935, 12718, 369, 36935, 315, 1207, 64422, 449, 16532, 5910, 42205, 10022, 323, 650, 4794, 10022, 320, 80095, 11, 304, 1855, 1162, 11, 70038, 82334, 31404, 315, 279, 17564, 878, 705, 4869, 11, 279, 17564, 878, 4985, 539, 387, 20458, 311, 71111, 315, 904, 4814, 477, 10711, 4814, 2876, 50044, 13659, 220, 1927, 13, 16, 323, 3917, 311, 13659, 220, 1806, 11, 279, 17564, 878, 1253, 14389, 11236, 323, 1073, 32115, 82, 11, 11626, 11, 2626, 477, 6776, 477, 311, 4726, 6020, 13654, 439, 264, 1121, 315, 279, 35508, 13, 198, 1927, 13, 19, 1442, 279, 76590, 16837, 374, 32372, 555, 279, 66548, 33549, 311, 29461, 220, 1758, 13, 19, 477, 220, 1758, 13, 20, 11, 279, 66548, 4985, 2343, 279, 17564, 878, 369, 279, 13651, 315, 279, 32904, 50, 10887, 323, 8308, 4972, 311, 279, 2457, 220, 198, 1073, 35508, 13, 720, 220, 198, 1927, 13, 20, 2876, 50044, 13659, 220, 1927, 13, 16, 323, 3917, 311, 13659, 220, 1806, 11, 279, 17564, 878, 1253, 14389, 11236, 323, 220, 198, 265, 8723, 5247, 315, 279, 7384, 323, 32904, 50, 58113, 3579, 14183, 311, 304, 13659, 220, 1927, 13, 16, 1921, 8, 2768, 904, 51021, 477, 35508, 315, 279, 76590, 16837, 311, 279, 13112, 25, 720, 2948, 8, 2631, 311, 26069, 449, 67703, 26, 477, 198, 198, 776, 12, 198, 198, 1820, 2349, 315, 54279, 315, 904, 57477, 430, 6089, 477, 46345, 16511, 97983, 279, 17564, 878, 320, 16564, 904, 29539, 477, 17139, 2748, 2883, 8, 311, 904, 57477, 40522, 5304, 279, 220, 198, 5910, 42205, 878, 10671, 8010, 315, 1778, 2349, 304, 54279, 13, 198, 2096, 13, 17, 11208, 279, 66548, 706, 539, 2728, 1202, 4972, 5439, 14771, 311, 1778, 2349, 315, 54279, 11, 904, 2349, 315, 54279, 315, 279, 17564, 878, 323, 5255, 279, 2349, 315, 54279, 315, 904, 57477, 430, 6089, 477, 46345, 16511, 97983, 279, 17564, 878, 4985, 1218, 1017, 279, 66548, 311, 30754, 279, 76590, 16837, 304, 18859, 449, 13659, 220, 1758, 13, 20, 13, 220, 198, 1774, 13, 220, 53083, 53, 3166, 5854, 220, 198, 791, 99216, 30255, 323, 58165, 315, 279, 6909, 5482, 4985, 18167, 279, 51021, 477, 35508, 315, 279, 76590, 16837, 323, 279, 19705, 315, 29461, 220, 16, 11, 220, 17, 13, 18, 11, 220, 19, 13, 18, 2069, 705, 220, 19, 13, 19, 3283, 705, 220, 972, 11, 220, 508, 13, 21, 11, 220, 1419, 11, 220, 1627, 11, 220, 1544, 11, 220, 1591, 11, 220, 966, 11, 220, 2148, 11, 220, 843, 11, 220, 1927, 11, 220, 1806, 11, 220, 1987, 11, 220, 3174, 13, 21, 11, 220, 3174, 13, 845, 1528, 705, 220, 2983, 11, 220, 3391, 11, 220, 1774, 323, 220, 2790, 4985, 18167, 904, 51021, 477, 35508, 315, 279, 76590, 16837, 13, 220, 578, 19705, 315, 13659, 220, 2983, 4985, 18167, 369, 4330, 320, 20, 8, 1667, 505, 279, 2457, 315, 51021, 477, 35508, 315, 279, 76590, 16837, 382, 776, 10669, 1998, 8, 889, 11, 304, 279, 66548, 753, 9647, 25, 527, 653, 1030, 43719, 11, 95861, 477, 84834, 26, 527, 7120, 86581, 477, 12153, 311, 2804, 872, 30255, 1234, 279, 220, 198, 1929, 793, 16837, 26, 617, 11411, 264, 6129, 323, 20451, 31331, 1285, 1180, 11, 459, 1180, 315, 41094, 11, 459, 89735, 1180, 477, 459, 1180, 902, 1053, 387, 3917, 311, 57315, 1957, 26, 477, 617, 4745, 311, 26069, 449, 279, 67703, 477, 904, 17575, 315, 279, 76590, 16837, 11, 477, 220, 198, 7, 3893, 8, 369, 904, 1023, 13579, 5353, 539, 10212, 304, 13659, 220, 777, 13, 16, 2069, 2432, 72, 570, 720, 5884, 17564, 878, 57477, 82951, 7108, 505, 279, 5178, 315, 279, 32904, 50, 304, 18859, 449, 13659, 220, 777, 13, 16, 2069, 8, 4985, 539, 387, 5535, 311, 471, 311, 279, 5178, 315, 279, 32904, 50, 323, 4985, 387, 12860, 555, 264, 40883, 28779, 7214, 11, 520, 279, 17564, 878, 753, 1866, 2853, 11, 304, 2015, 311, 5766, 904, 44219, 311, 279, 32904, 50, 13, 220, 15483, 14039, 4985, 387, 1903, 3917, 311, 279, 66548, 753, 1314, 315, 38001, 320, 8370, 279, 66548, 1253, 10368, 520, 1202, 32022, 570, 198, 198, 776, 12, 198, 198, 2618, 13, 17, 198, 2746, 279, 66548, 409, 12116, 320, 266, 1202, 10973, 32022, 8, 430, 904, 27693, 650, 1863, 4622, 555, 279, 220, 198, 5910, 42205, 878, 1234, 420, 13659, 220, 2618, 374, 34920, 7235, 311, 279, 66548, 753, 2802, 11, 279, 66548, 4985, 220, 198, 258, 1257, 279, 17564, 878, 304, 4477, 311, 1935, 7504, 311, 30754, 1778, 27693, 650, 1863, 4622, 11, 323, 279, 220, 198, 5910, 42205, 878, 4985, 26069, 449, 279, 66548, 753, 7754, 13, 220, 198, 2166, 13, 220, 198, 1863, 7618, 76590, 16837, 220, 198, 791, 76590, 16837, 42675, 279, 4553, 9306, 1990, 279, 6909, 5482, 18815, 279, 3917, 220, 198, 60065, 315, 279, 76590, 16837, 323, 1043, 41019, 288, 323, 11, 3917, 311, 13659, 220, 18, 13, 17, 11, 41800, 904, 3766, 220, 198, 351, 58875, 1990, 279, 6909, 5482, 477, 904, 13340, 1903, 555, 832, 64327, 311, 279, 1023, 64327, 220, 198, 7, 49864, 21308, 477, 5439, 8, 18815, 279, 3917, 5030, 315, 279, 76590, 16837, 13, 220, 2057, 279, 13112, 15480, 220, 198, 1729, 67703, 11, 279, 6909, 5482, 4985, 539, 387, 6965, 555, 477, 387, 35473, 369, 904, 5224, 11, 13340, 11, 11471, 11, 220, 198, 485, 1791, 1133, 477, 8830, 315, 904, 3169, 477, 7138, 539, 743, 13544, 36881, 11, 3984, 430, 4400, 304, 420, 220, 198, 17064, 220, 2166, 4985, 4017, 264, 64327, 753, 24305, 369, 16515, 382, 776, 10669, 1528, 8, 578, 6909, 5482, 22552, 53611, 22429, 279, 3851, 315, 29461, 220, 14125, 323, 220, 25622, 315, 279, 356, 3166, 1750, 14083, 11, 311, 279, 77796, 13112, 15480, 555, 67703, 13, 220, 578, 6909, 5482, 7655, 430, 279, 17564, 878, 4985, 539, 387, 20458, 311, 27343, 279, 32904, 50, 477, 6062, 58608, 505, 15691, 704, 904, 315, 1202, 220, 198, 677, 7864, 811, 1234, 279, 76590, 16837, 304, 279, 1567, 430, 904, 3392, 56612, 311, 279, 17564, 878, 374, 539, 7318, 555, 279, 66548, 3734, 439, 53611, 3984, 304, 420, 13659, 220, 1419, 13, 22, 382, 776, 7058, 198, 1958, 13, 23, 5782, 28577, 5257, 90129, 39940, 220, 198, 2688, 50044, 904, 12244, 93443, 40986, 1990, 279, 6909, 5482, 11, 279, 17564, 878, 4985, 539, 27343, 279, 5178, 315, 904, 32904, 50, 477, 904, 961, 34366, 3734, 304, 18859, 449, 420, 13659, 220, 1958, 382, 776, 7058, 198, 543, 315, 279, 17564, 878, 753, 30255, 323, 58165, 1234, 279, 76590, 16837, 220, 198, 7, 68, 8, 578, 17564, 878, 4985, 6106, 430, 25, 720, 1998, 8, 220, 279, 393, 29255, 66548, 46372, 946, 1111, 60079, 8625, 2764, 323, 304, 5457, 3156, 1778, 892, 439, 279, 17564, 878, 706, 20097, 304, 2539, 682, 315, 1202, 30255, 1234, 323, 304, 3717, 449, 279, 76590, 16837, 11, 72665, 279, 51021, 477, 35508, 315, 279, 76590, 16837, 26, 323, 220, 198, 7, 3893, 8, 422, 279, 393, 29255, 66548, 46372, 946, 1111, 60079, 374, 477, 9221, 8482, 477, 653, 268, 9009, 481, 369, 904, 2944, 11, 279, 17564, 878, 4985, 7214, 6493, 311, 279, 66548, 264, 2764, 323, 29262, 481, 14039, 393, 29255, 66548, 46372, 946, 1111, 60079, 304, 12617, 315, 279, 66548, 477, 1778, 1023, 4868, 439, 279, 66548, 1253, 11, 304, 1202, 13612, 32022, 11, 8417, 13, 198, 2148, 13, 2006, 48904, 4053, 16788, 56740, 78536, 612, 32904, 50, 58113, 3579, 198, 2148, 13, 16, 9062, 64327, 4985, 14389, 15637, 315, 872, 21626, 12, 93927, 1753, 2006, 48904, 4053, 16788, 56740, 323, 1473, 776, 7058, 198, 4109, 5995, 311, 7373, 28705, 304, 279, 66548, 279, 3268, 323, 7720, 315, 279, 17564, 878, 1234, 904, 6484, 20038, 449, 69257, 6909, 5482, 320, 16564, 16532, 5910, 42205, 10022, 323, 650, 4794, 10022, 8, 9959, 311, 279, 17575, 315, 279, 32904, 50, 439, 279, 66548, 1253, 14158, 320, 16564, 555, 6747, 367, 315, 1778, 20038, 311, 279, 66548, 520, 279, 66548, 753, 1715, 1237, 220, 198, 7331, 279, 66548, 477, 1202, 29311, 2539, 1314, 315, 2680, 311, 279, 55771, 311, 4148, 323, 5255, 1935, 927, 279, 32904, 50, 477, 1778, 961, 34366, 311, 902, 279, 35508, 36716, 11, 3871, 449, 682, 76223, 50, 11, 924, 1921, 8, 1253, 11993, 505, 279, 17564, 878, 904, 18151, 323, 26186, 52872, 555, 279, 66548, 281, 7350, 11, 13077, 323, 3501, 58555, 86499, 55759, 13, 220, 2684, 10924, 11, 279, 66548, 477, 904, 1023, 35363, 69257, 64327, 1253, 4686, 279, 32904, 50, 477, 279, 9959, 961, 315, 279, 32904, 50, 1701, 1778, 76223, 50, 11, 17135, 11, 13077, 11, 323, 3501, 58555, 86499, 55759, 26, 7945, 279, 66548, 304, 3339, 459, 15808, 315, 682, 76223, 50, 323, 3501, 58555, 198, 198, 776, 12, 198, 198, 791, 66548, 4985, 617, 279, 1314, 520, 904, 892, 11, 520, 1202, 13612, 32022, 323, 2085, 5353, 11, 311, 7937, 279, 19679, 315, 279, 66548, 311, 27343, 279, 5178, 315, 682, 477, 904, 961, 315, 279, 32904, 50, 449, 14247, 2515, 555, 8405, 5406, 304, 4477, 311, 279, 17564, 878, 13, 198, 1958, 13, 17, 90129, 47, 24557, 4716, 17564, 878, 40702, 76223, 81662, 12137, 198, 27131, 48786, 311, 13659, 220, 1958, 13, 16, 11, 422, 279, 17564, 878, 42635, 264, 3769, 31471, 315, 904, 315, 1202, 220, 30255, 1234, 279, 76590, 16837, 11, 1243, 279, 66548, 4985, 617, 279, 1314, 311, 27343, 279, 5178, 315, 682, 477, 904, 961, 315, 279, 32904, 50, 11, 323, 5255, 27343, 279, 5178, 315, 682, 477, 904, 961, 315, 279, 66548, 753, 30255, 1234, 420, 76590, 16837, 11, 449, 14247, 2515, 555, 8405, 5406, 304, 4477, 311, 279, 17564, 878, 11, 3984, 430, 1778, 1314, 315, 279, 66548, 4985, 387, 304, 5369, 311, 1202, 1023, 3268, 323, 51236, 1234, 420, 76590, 16837, 323, 67703, 382, 776, 7058, 198, 2746, 279, 17564, 878, 96083, 449, 904, 26314, 1903, 555, 279, 66548, 33549, 311, 220, 198, 17064, 220, 1187, 13, 17, 1361, 705, 220, 1187, 13, 19, 2069, 8, 477, 220, 1187, 13, 20, 2948, 705, 279, 17564, 878, 1253, 11, 2949, 53474, 320, 1399, 8, 83931, 315, 1778, 220, 198, 67, 82137, 11, 8464, 1778, 62646, 369, 11175, 304, 18859, 449, 279, 26086, 11175, 220, 198, 782, 54791, 743, 704, 304, 13659, 220, 2790, 13, 220, 1442, 279, 17564, 878, 14865, 311, 26086, 904, 1778, 26314, 220, 198, 56950, 1778, 53474, 320, 1399, 8, 38788, 4261, 11, 1778, 26314, 4985, 387, 1620, 323, 11212, 5304, 279, 220, 198, 5910, 42205, 878, 323, 279, 17564, 878, 4985, 387, 25660, 311, 617, 82582, 682, 315, 1202, 3268, 311, 220, 198, 82477, 904, 3802, 2403, 279, 66548, 304, 5201, 315, 1778, 26314, 13, 2355, 220, 198, 9241, 279, 17564, 878, 19813, 264, 62646, 369, 11175, 33549, 311, 13659, 220, 1187, 13, 20, 2069, 705, 279, 220, 198, 24637, 17742, 4985, 4360, 311, 279, 17564, 878, 264, 5439, 5406, 25, 2355, 1998, 8, 220, 198, 66, 1149, 6427, 279, 26314, 477, 650, 16412, 3579, 15888, 11, 439, 8581, 11, 323, 21745, 287, 220, 198, 1820, 17564, 878, 311, 32616, 16785, 904, 4375, 477, 3600, 430, 527, 3196, 389, 1778, 220, 198, 67, 82137, 477, 650, 16412, 3579, 15888, 11, 439, 8581, 26, 2355, 31834, 696, 776, 7058, 198, 82850, 11953, 704, 555, 279, 17564, 878, 401, 776, 7058, 198, 2746, 5300, 304, 279, 28924, 3083, 76590, 16837, 11, 2949, 63360, 320, 975, 8, 83931, 505, 279, 2457, 315, 220, 198, 53821, 315, 279, 76590, 16837, 323, 439, 264, 3044, 47891, 311, 904, 29672, 389, 279, 220, 198, 24637, 17742, 311, 1304, 904, 8323, 1234, 279, 76590, 16837, 11, 279, 17564, 878, 4985, 3493, 198, 198, 776, 12, 198, 198, 7, 40, 8, 578, 8323, 477, 39943, 315, 24711, 3097, 7708, 5876, 926, 9182, 16908, 33549, 311, 420, 13659, 220, 972, 13, 19, 220, 198, 19549, 539, 48839, 279, 17564, 878, 505, 1202, 29672, 311, 4686, 279, 32904, 50, 1234, 279, 220, 198, 1929, 793, 16837, 11, 477, 505, 904, 315, 279, 17564, 878, 753, 1023, 30255, 198, 198, 98804, 1038, 14730, 4521, 19124, 220, 27, 14924, 27916, 3053, 17564, 878, 30754, 279, 5226, 30, 128009, 128006, 78191, 128007, 198, 198, 29815, 389, 279, 3984, 5226, 3649, 11, 433, 8111, 430, 279, 17564, 878, 1253, 30754, 279, 9306, 304, 3738, 13463, 13, 5810, 527, 1063, 3230, 13422, 1405, 279, 17564, 878, 1253, 387, 3025, 311, 30754, 279, 5226, 512, 198, 16, 13, 3146, 4164, 315, 7935, 96618, 1442, 1070, 374, 264, 2349, 315, 2585, 315, 279, 17564, 878, 477, 904, 1732, 889, 6089, 477, 46345, 11835, 279, 17564, 878, 320, 16564, 459, 29539, 477, 17139, 2748, 2883, 705, 279, 66548, 1253, 30754, 279, 9306, 449, 14247, 2515, 555, 5439, 5406, 311, 279, 17564, 878, 320, 17064, 220, 1758, 13, 20, 570, 198, 17, 13, 3146, 95249, 2711, 323, 33360, 311, 34498, 96618, 1442, 279, 66548, 9482, 1438, 279, 32904, 50, 323, 14865, 311, 16063, 5178, 11, 279, 17564, 878, 1253, 30754, 279, 9306, 555, 5439, 5406, 311, 279, 66548, 320, 17064, 220, 1958, 13, 22, 2948, 2432, 3893, 4682, 198, 18, 13, 3146, 8284, 9483, 6202, 96618, 1442, 279, 66548, 14865, 311, 1304, 8323, 315, 904, 10489, 51744, 7725, 323, 73626, 82037, 19849, 3392, 11, 279, 17564, 878, 1253, 30754, 279, 9306, 555, 5439, 5406, 311, 279, 66548, 320, 17064, 220, 1758, 13, 21, 570, 198, 19, 13, 3146, 15841, 95030, 3749, 96618, 1442, 459, 26776, 1971, 53, 43558, 13032, 13980, 304, 12976, 311, 279, 66548, 477, 904, 1732, 889, 11835, 279, 66548, 11, 279, 17564, 878, 1253, 30754, 279, 9306, 449, 14247, 2515, 555, 5439, 5406, 311, 279, 66548, 320, 17064, 220, 1758, 13, 17, 570, 198, 198, 11458, 11, 433, 596, 7718, 311, 5296, 430, 1521, 35508, 3268, 527, 3917, 311, 3230, 4787, 323, 8670, 33740, 304, 279, 5226, 13, 578, 17564, 878, 1288, 15884, 3477, 279, 5226, 3878, 1603, 51582, 1202, 35508, 3268, 627, 198, 5618, 1095, 757, 1440, 422, 499, 617, 904, 4726, 4860, 477, 10742, 0, 128009], 'total_duration': 6681880222763, 'load_duration': 53473672757, 'prompt_eval_count': 4116, 'prompt_eval_duration': 1747611781000, 'eval_count': 294, 'eval_duration': 4880206465000}\n",
      "-----------\n",
      "Can CONTRACTOR claim extension of time and additional cost on account of force majeure?\n"
     ]
    },
    {
     "name": "stderr",
     "output_type": "stream",
     "text": [
      "Special tokens have been added in the vocabulary, make sure the associated word embeddings are fine-tuned or trained.\n",
      "Special tokens have been added in the vocabulary, make sure the associated word embeddings are fine-tuned or trained.\n",
      "Special tokens have been added in the vocabulary, make sure the associated word embeddings are fine-tuned or trained.\n",
      "Special tokens have been added in the vocabulary, make sure the associated word embeddings are fine-tuned or trained.\n",
      "Special tokens have been added in the vocabulary, make sure the associated word embeddings are fine-tuned or trained.\n",
      "Special tokens have been added in the vocabulary, make sure the associated word embeddings are fine-tuned or trained.\n",
      "Special tokens have been added in the vocabulary, make sure the associated word embeddings are fine-tuned or trained.\n",
      "Special tokens have been added in the vocabulary, make sure the associated word embeddings are fine-tuned or trained.\n",
      "Special tokens have been added in the vocabulary, make sure the associated word embeddings are fine-tuned or trained.\n",
      "Special tokens have been added in the vocabulary, make sure the associated word embeddings are fine-tuned or trained.\n",
      "Special tokens have been added in the vocabulary, make sure the associated word embeddings are fine-tuned or trained.\n",
      "Special tokens have been added in the vocabulary, make sure the associated word embeddings are fine-tuned or trained.\n",
      "Special tokens have been added in the vocabulary, make sure the associated word embeddings are fine-tuned or trained.\n",
      "Special tokens have been added in the vocabulary, make sure the associated word embeddings are fine-tuned or trained.\n",
      "Special tokens have been added in the vocabulary, make sure the associated word embeddings are fine-tuned or trained.\n",
      "Special tokens have been added in the vocabulary, make sure the associated word embeddings are fine-tuned or trained.\n",
      "Special tokens have been added in the vocabulary, make sure the associated word embeddings are fine-tuned or trained.\n",
      "Special tokens have been added in the vocabulary, make sure the associated word embeddings are fine-tuned or trained.\n",
      "Special tokens have been added in the vocabulary, make sure the associated word embeddings are fine-tuned or trained.\n",
      "Special tokens have been added in the vocabulary, make sure the associated word embeddings are fine-tuned or trained.\n",
      "Special tokens have been added in the vocabulary, make sure the associated word embeddings are fine-tuned or trained.\n",
      "Special tokens have been added in the vocabulary, make sure the associated word embeddings are fine-tuned or trained.\n"
     ]
    },
    {
     "name": "stdout",
     "output_type": "stream",
     "text": [
      "Response: {'model': 'llama3:8b-instruct-q4_K_M', 'created_at': '2024-07-02T04:29:35.684737526Z', 'response': \"According to Article 40, a FORCE MAJEURE EVENT is defined as an event or circumstance that satisfies the requirements of paragraphs (a) and (b) above. The following events or circumstances shall not be or be deemed to be a FORCE MAJEURE EVENT:\\n\\n* Unavailability of funds or non-payment of a sum of money by a PARTY or a THIRD PARTY\\n* Financial hardship or inability to make a profit or achieve a satisfactory rate of return\\n* SITE conditions, including extraordinary GROUND CONDITIONS\\n\\nIn Article 40.3, it is stated that during any period of the FORCE MAJEURE EVENT, the CONTRACTOR shall use its best efforts to safeguard and protect the WORKS and utilise the CONTRACTOR PERSONNEL in such a manner as to minimise the costs associated with the FORCE MAJEURE EVENT.\\n\\nArticle 34.6(c) states that if the WORKS are suspended in accordance with Article 34.3 (Suspension for a FORCE MAJEURE EVENT), the COMPANY shall not be liable for any costs arising from or in relation to such suspension period, except to the extent that such costs are:\\n\\n* Expressly provided for in ANNEXURE 5\\n* Incurred by the CONTRACTOR as a result of the suspension by reason of a FORCE MAJEURE EVENT\\n* In all cases, incurred after a continuous period in excess of sixty (60) consecutive DAYS or one hundred and eighty (180) DAYS in aggregate.\\n\\nArticle 40.7 states that if any FORCE MAJEURE EVENT prevents or delays the performance of obligations under the AGREEMENT for a continuous period in excess of sixty (60) consecutive DAYS or for one hundred and eighty (180) DAYS in aggregate, the COMPANY shall either:\\n\\n* Suspend all or any part of the performance of the WORKS in accordance with Article 34.3\\n* Terminate the AGREEMENT in accordance with Article 35.4\\n\\nIn summary, yes, the CONTRACTOR can claim extension of time and additional cost on account of a FORCE MAJEURE EVENT, subject to the conditions and limitations set out in Articles 40 and 34. However, the COMPANY's liability for costs arising from or in relation to such suspension period is limited as per Article 34.6(c).\", 'done': True, 'context': [128006, 9125, 128007, 198, 198, 2675, 527, 264, 42066, 323, 6721, 18328, 51920, 449, 8405, 11944, 2038, 922, 8246, 5226, 13, 4718, 14847, 1288, 387, 64694, 11, 39319, 11, 323, 26549, 49553, 311, 279, 3878, 323, 4787, 33740, 304, 279, 3984, 5226, 3649, 13, 128009, 128006, 882, 128007, 271, 220, 45495, 27916, 720, 220, 72814, 8, 6696, 477, 23791, 26086, 11, 13471, 11, 5409, 412, 11, 13076, 65858, 11, 3734, 1405, 7347, 311, 279, 17564, 878, 57477, 82951, 11, 1023, 1109, 11, 304, 1855, 1162, 11, 311, 279, 13112, 9057, 555, 279, 64327, 11125, 311, 17631, 389, 13659, 220, 1987, 13, 16, 11, 477, 1202, 70038, 82334, 31404, 11, 16532, 5910, 42205, 10022, 477, 57477, 82951, 11, 323, 3984, 11, 304, 1855, 1162, 11, 430, 279, 1567, 477, 53237, 304, 3488, 69001, 279, 8670, 315, 43743, 320, 64, 8, 323, 320, 65, 8, 3485, 13, 578, 2768, 4455, 477, 13463, 4985, 539, 387, 477, 387, 25660, 311, 387, 264, 83689, 9917, 41429, 4622, 13032, 1524, 1405, 814, 27651, 279, 8670, 315, 43743, 320, 64, 8, 323, 320, 65, 8, 3485, 25, 720, 4444, 8, 279, 653, 54162, 315, 10736, 477, 2536, 73543, 315, 264, 2694, 315, 3300, 555, 264, 64327, 477, 264, 69257, 64327, 26, 720, 5462, 8, 6020, 67650, 477, 279, 38550, 315, 279, 11754, 64327, 311, 1304, 264, 11626, 477, 11322, 264, 58831, 4478, 315, 471, 304, 12976, 311, 477, 304, 3717, 449, 904, 7640, 45179, 33549, 311, 279, 76590, 16837, 477, 6062, 26, 720, 3100, 8, 55771, 4787, 11, 2737, 24674, 480, 23769, 11596, 401, 776, 7058, 198, 1958, 13, 16, 11, 279, 66548, 4985, 539, 387, 35473, 369, 904, 7194, 40986, 505, 477, 304, 12976, 311, 1778, 25288, 4261, 13, 91110, 369, 279, 17564, 878, 753, 10441, 11681, 613, 1442, 279, 32904, 50, 527, 22340, 304, 18859, 449, 13659, 198, 220, 1958, 13, 17, 11, 279, 66548, 4985, 539, 387, 35473, 369, 904, 7194, 40986, 505, 477, 304, 12976, 311, 1778, 25288, 4261, 13, 220, 198, 95249, 2711, 369, 264, 83689, 9917, 41429, 4622, 13032, 220, 1442, 279, 32904, 50, 527, 22340, 304, 18859, 449, 13659, 220, 1958, 13, 18, 11, 279, 66548, 4985, 539, 387, 220, 198, 51430, 311, 279, 17564, 878, 369, 904, 7194, 40986, 505, 477, 304, 12976, 311, 1778, 25288, 4261, 11, 3734, 311, 279, 13112, 430, 1778, 7194, 527, 25, 720, 1998, 8, 220, 53611, 3984, 369, 304, 77506, 3337, 4622, 220, 20, 26, 2355, 31834, 8, 220, 52872, 555, 279, 17564, 878, 439, 264, 1121, 315, 279, 25288, 555, 2944, 315, 264, 83689, 9917, 41429, 4622, 13032, 26, 323, 220, 198, 7, 35694, 8, 220, 304, 682, 5157, 11, 52872, 1306, 264, 19815, 4261, 304, 13937, 315, 53474, 320, 1399, 8, 24871, 220, 83931, 477, 832, 7895, 323, 80679, 320, 5245, 8, 83931, 304, 24069, 382, 776, 7058, 198, 1272, 13, 17, 362, 64327, 11754, 555, 264, 83689, 9917, 41429, 4622, 13032, 4985, 1935, 682, 13579, 11193, 2561, 320, 266, 1202, 1866, 2853, 8, 311, 23075, 323, 50460, 279, 6372, 315, 1778, 83689, 9917, 41429, 4622, 13032, 11, 2737, 82589, 449, 279, 1023, 64327, 311, 2274, 323, 4305, 264, 3197, 315, 34630, 532, 1957, 323, 13579, 10778, 11193, 311, 40239, 279, 6372, 315, 1778, 83689, 9917, 41429, 4622, 13032, 13, 198, 1272, 13, 18, 12220, 904, 4261, 315, 279, 83689, 9917, 41429, 4622, 13032, 11, 279, 17564, 878, 4985, 1005, 1202, 1888, 9045, 311, 49071, 323, 6144, 279, 32904, 50, 323, 69152, 279, 17564, 878, 57477, 82951, 304, 1778, 264, 11827, 439, 311, 97087, 279, 7194, 5938, 449, 279, 83689, 9917, 41429, 4622, 13032, 382, 776, 7058, 198, 1272, 13, 21, 17586, 48786, 311, 29461, 220, 1187, 323, 220, 914, 11, 279, 66548, 4985, 11, 520, 1202, 13612, 32022, 11, 617, 279, 1314, 311, 13334, 279, 52385, 10360, 5441, 29643, 477, 904, 315, 279, 12282, 386, 3015, 94971, 423, 31404, 11, 439, 8581, 11, 369, 5217, 18852, 369, 902, 279, 5178, 315, 30255, 1234, 279, 76590, 16837, 1051, 32098, 477, 220, 198, 23059, 291, 4245, 311, 264, 83689, 9917, 41429, 4622, 13032, 11, 2085, 904, 2349, 311, 279, 76590, 16837, 60152, 11, 7729, 11, 7969, 323, 279, 53412, 100028, 3651, 11596, 8581, 311, 420, 76590, 16837, 382, 776, 7058, 198, 1272, 13, 19, 578, 11754, 64327, 4985, 539, 387, 20458, 311, 17631, 389, 13659, 220, 1272, 13, 16, 304, 5201, 315, 279, 64327, 753, 5178, 1234, 279, 76590, 16837, 369, 904, 7191, 7036, 477, 5129, 8250, 1109, 374, 2631, 4245, 311, 279, 9959, 220, 198, 81305, 9917, 41429, 4622, 13032, 13, 720, 220, 198, 1272, 13, 20, 1666, 5246, 439, 279, 9959, 83689, 9917, 41429, 4622, 13032, 706, 59477, 31155, 477, 706, 2753, 6901, 304, 1202, 2515, 220, 198, 708, 439, 311, 2187, 279, 11754, 64327, 311, 16063, 682, 477, 904, 961, 315, 279, 30255, 430, 706, 1027, 32098, 477, 23540, 555, 279, 83689, 9917, 41429, 4622, 13032, 25, 720, 2948, 8, 279, 11754, 64327, 4985, 15820, 279, 1023, 64327, 315, 279, 1890, 26, 720, 1921, 8, 279, 11754, 64327, 4985, 16063, 279, 5178, 315, 682, 477, 439, 1790, 315, 1778, 30255, 26, 323, 220, 198, 7, 66, 8, 279, 17564, 878, 11, 304, 23915, 449, 279, 66548, 11, 4985, 10772, 264, 32828, 2068, 311, 2997, 369, 594, 45456, 279, 32904, 50, 779, 439, 311, 97087, 279, 6372, 315, 279, 83689, 9917, 41429, 4622, 13032, 382, 776, 10669, 2069, 8, 279, 8292, 315, 4375, 9129, 10831, 264, 650, 16412, 3579, 33549, 311, 13659, 220, 1187, 26, 720, 968, 8, 264, 83689, 9917, 41429, 4622, 13032, 33549, 311, 13659, 220, 1987, 13, 16, 26, 720, 3348, 8, 477, 279, 32659, 315, 15635, 743, 704, 304, 13659, 220, 1644, 13, 17, 1361, 570, 720, 220, 198, 914, 13, 17, 578, 17564, 878, 4985, 617, 912, 55001, 311, 904, 28174, 311, 279, 32904, 46761, 323, 12282, 386, 3015, 94971, 423, 31404, 369, 904, 1567, 477, 53237, 430, 374, 539, 264, 24711, 3097, 13032, 17504, 279, 17564, 878, 4819, 264, 17564, 878, 650, 16412, 3579, 34516, 33549, 311, 13659, 220, 1187, 13, 17837, 13, 18, 198, 198, 776, 12, 198, 198, 1958, 13, 18, 90129, 47, 24557, 4716, 362, 83689, 9917, 41429, 4622, 13032, 220, 198, 2746, 3060, 64327, 374, 32098, 477, 23540, 304, 279, 5178, 315, 1202, 30255, 1234, 279, 76590, 16837, 555, 2944, 315, 264, 83689, 9917, 41429, 4622, 13032, 11, 3984, 430, 279, 9959, 64327, 706, 20097, 279, 4787, 315, 13659, 220, 1987, 13, 16, 11, 323, 279, 66548, 4135, 82, 539, 311, 10368, 1202, 35508, 1314, 33549, 311, 13659, 220, 1272, 13, 22, 1921, 705, 279, 66548, 11, 4985, 617, 279, 1314, 520, 904, 892, 11, 520, 1202, 13612, 32022, 311, 27343, 279, 5178, 315, 682, 477, 904, 961, 315, 279, 32904, 50, 555, 8405, 5406, 304, 4477, 311, 279, 17564, 878, 13, 198, 1958, 13, 19, 90129, 47, 24557, 4716, 24711, 3097, 1507, 50477, 5441, 220, 198, 9241, 279, 13463, 743, 704, 304, 13659, 220, 1419, 13, 22, 2948, 2432, 72, 8, 12446, 11, 279, 17564, 878, 4985, 387, 20458, 311, 27343, 279, 4459, 315, 279, 32904, 50, 304, 18859, 449, 13659, 220, 1419, 13, 22, 2948, 2432, 72, 8, 323, 420, 13659, 220, 1958, 13, 198, 1958, 13, 20, 90129, 47, 24557, 16691, 1950, 51761, 198, 198, 776, 12, 198, 198, 7, 40, 8, 578, 8323, 477, 39943, 315, 24711, 3097, 7708, 5876, 926, 9182, 16908, 33549, 311, 420, 13659, 220, 972, 13, 19, 220, 198, 19549, 539, 48839, 279, 17564, 878, 505, 1202, 29672, 311, 4686, 279, 32904, 50, 1234, 279, 220, 198, 1929, 793, 16837, 11, 477, 505, 904, 315, 279, 17564, 878, 753, 1023, 30255, 323, 58165, 1234, 279, 220, 198, 1929, 793, 16837, 13, 220, 17586, 48786, 311, 279, 66548, 753, 3268, 304, 29461, 220, 1958, 323, 220, 1758, 11, 279, 220, 198, 1864, 291, 552, 5300, 304, 420, 13659, 220, 972, 13, 19, 4985, 387, 279, 13612, 323, 14079, 6020, 51236, 369, 220, 198, 9783, 954, 304, 1651, 2101, 12282, 386, 3015, 790, 61389, 13, 33006, 3406, 8, 578, 6909, 5482, 25670, 323, 7838, 430, 904, 37498, 3984, 369, 1234, 279, 76590, 16837, 220, 198, 19549, 387, 45691, 304, 279, 15055, 5300, 304, 279, 28924, 3083, 76590, 16837, 439, 459, 29672, 315, 220, 198, 1820, 17564, 878, 11, 902, 374, 49009, 304, 18361, 315, 279, 5370, 3268, 430, 279, 220, 198, 5910, 42205, 878, 75549, 1234, 279, 76590, 16837, 13, 220, 198, 777, 13, 220, 198, 5910, 42205, 878, 57477, 82951, 612, 66548, 57477, 82951, 198, 777, 13, 16, 5910, 42205, 878, 57477, 82951, 1389, 53412, 220, 198, 791, 17564, 878, 4985, 3493, 323, 3539, 389, 279, 55771, 11, 323, 304, 904, 1023, 27465, 304, 198, 198, 776, 12, 198, 198, 7, 65, 8, 578, 17564, 878, 4985, 539, 387, 20458, 311, 10368, 904, 3268, 1234, 13659, 220, 1419, 13, 22, 2948, 705, 477, 6062, 29262, 1202, 3268, 1234, 279, 76590, 16837, 11, 304, 5201, 315, 3389, 8323, 477, 2536, 73543, 555, 279, 66548, 315, 904, 3392, 304, 5201, 315, 902, 279, 66548, 706, 11136, 264, 5406, 33549, 311, 13659, 220, 1419, 13, 18, 2948, 570, 2355, 1361, 8, 1442, 279, 17564, 878, 374, 23540, 304, 1202, 5178, 315, 279, 32904, 50, 323, 5255, 3709, 1759, 5217, 7194, 439, 264, 1121, 315, 279, 25288, 315, 904, 961, 477, 682, 315, 279, 32904, 50, 304, 18859, 449, 13659, 220, 1419, 13, 22, 2948, 705, 279, 17564, 878, 4985, 40522, 3041, 5406, 311, 279, 66548, 323, 4985, 387, 220, 198, 306, 15621, 311, 9502, 264, 17564, 878, 650, 16412, 3579, 34516, 311, 25, 2355, 1998, 8, 6056, 311, 11993, 904, 2167, 7194, 433, 52872, 555, 2944, 315, 7781, 304, 279, 5178, 315, 279, 32904, 50, 3984, 2744, 430, 279, 66548, 4985, 539, 387, 35473, 369, 904, 28515, 28453, 26, 323, 5255, 220, 198, 7, 3893, 8, 3881, 369, 904, 34074, 311, 279, 12282, 386, 3015, 94971, 423, 31404, 304, 18859, 449, 13659, 220, 914, 382, 776, 7058, 198, 2746, 279, 17564, 878, 14865, 311, 4360, 264, 17564, 878, 650, 16412, 3579, 34516, 2949, 279, 892, 4261, 5300, 304, 13659, 220, 1187, 13, 19, 2948, 705, 1243, 904, 5217, 4375, 11953, 704, 33549, 311, 1778, 7754, 477, 4500, 33549, 311, 29461, 220, 19, 13, 19, 1361, 705, 220, 20, 13, 17, 2948, 705, 220, 22, 13, 24, 2069, 705, 220, 23, 13, 19, 11, 220, 806, 13, 605, 1921, 705, 220, 806, 13, 806, 1921, 705, 220, 717, 13, 605, 11, 220, 1032, 13, 19, 11, 220, 1691, 13, 717, 11, 220, 1419, 13, 22, 1361, 705, 220, 1682, 13, 16, 11, 220, 1644, 13, 17, 1361, 705, 220, 1958, 13, 16, 477, 220, 1958, 13, 18, 4985, 539, 35256, 264, 650, 16412, 3579, 11, 323, 279, 17564, 878, 4985, 617, 912, 55001, 311, 3802, 904, 9070, 315, 904, 892, 11, 28174, 315, 279, 76590, 16837, 60152, 477, 1023, 16337, 304, 3717, 9139, 98909, 13, 11208, 264, 17564, 878, 650, 16412, 3579, 34516, 10742, 264, 11922, 24711, 3097, 13032, 11, 13659, 220, 914, 4985, 3881, 304, 5369, 311, 420, 13659, 220, 1187, 13, 19, 323, 279, 1920, 743, 704, 304, 13659, 220, 914, 13, 19, 2011, 387, 8272, 382, 776, 7058, 198, 914, 13, 19, 11208, 279, 17564, 878, 374, 20458, 311, 459, 28174, 311, 279, 32904, 46761, 323, 12282, 386, 3015, 94971, 423, 31404, 4245, 311, 264, 24711, 3097, 13032, 11, 420, 4985, 387, 12715, 439, 264, 650, 16412, 3579, 15888, 3917, 311, 279, 8670, 323, 16346, 743, 704, 304, 13659, 220, 1187, 13, 20, 11, 653, 645, 267, 383, 892, 16296, 315, 1778, 24711, 3097, 13032, 617, 2736, 1027, 20669, 304, 264, 3766, 650, 16412, 3579, 15888, 13, 11208, 279, 17564, 878, 4819, 264, 17564, 878, 650, 16412, 3579, 34516, 33549, 311, 13659, 220, 1187, 13, 19, 902, 36611, 264, 11922, 24711, 3097, 13032, 11, 279, 17564, 878, 4985, 11, 912, 3010, 1109, 17510, 19101, 320, 1691, 8, 83931, 1306, 279, 67599, 315, 1778, 17564, 878, 650, 16412, 3579, 34516, 11, 323, 304, 904, 1567, 4972, 311, 39547, 311, 4305, 904, 12435, 650, 16412, 3579, 11, 422, 8581, 11, 7389, 279, 66548, 4819, 264, 5439, 7754, 6062, 11, 3041, 4726, 5439, 5406, 311, 279, 66548, 8405, 11944, 86974, 323, 12899, 6029, 45296, 25, 1820, 32659, 315, 279, 11922, 24711, 3097, 13032, 323, 279, 8125, 3249, 433, 10222, 26, 279, 5150, 323, 3685, 6372, 315, 279, 11922, 24711, 3097, 13032, 26, 279, 17564, 878, 753, 198, 198, 776, 12, 198, 198, 1272, 13, 22, 1442, 904, 83689, 9917, 41429, 4622, 13032, 29034, 477, 32174, 279, 5178, 315, 30255, 1234, 279, 76590, 16837, 369, 264, 19815, 4261, 304, 13937, 315, 53474, 320, 1399, 8, 24871, 83931, 477, 369, 832, 7895, 323, 80679, 320, 5245, 8, 83931, 304, 24069, 11, 279, 66548, 4985, 3060, 25, 720, 220, 2948, 8, 27343, 682, 477, 904, 961, 315, 279, 5178, 315, 279, 32904, 50, 304, 18859, 449, 13659, 220, 1958, 13, 18, 26, 323, 5255, 2355, 1921, 8, 2085, 48786, 311, 13659, 220, 1272, 13, 22, 2948, 705, 30754, 279, 76590, 16837, 304, 18859, 449, 13659, 220, 1758, 13, 19, 13, 1272, 13, 23, 2468, 904, 892, 2391, 264, 25288, 304, 18859, 449, 13659, 220, 1272, 13, 22, 2948, 705, 279, 66548, 4985, 617, 279, 1314, 220, 198, 998, 30754, 279, 76590, 16837, 304, 18859, 449, 13659, 220, 1272, 13, 22, 1921, 570, 198, 3174, 13, 26776, 1539, 8606, 198, 1820, 1176, 2457, 389, 902, 279, 11754, 64327, 374, 21039, 11007, 311, 1202, 24617, 430, 814, 656, 539, 6782, 904, 97249, 23537, 279, 5784, 27344, 477, 7781, 315, 1202, 198, 198, 776, 12, 198, 198, 7242, 11, 15718, 304, 18859, 449, 22469, 19877, 52, 6805, 56, 393, 51511, 5604, 11, 72665, 3515, 220, 198, 82850, 2728, 13579, 2680, 323, 5255, 892, 304, 18859, 449, 279, 3485, 11, 256, 198, 3473, 279, 17564, 878, 4985, 11, 3917, 311, 13659, 220, 1187, 11, 387, 20458, 311, 9502, 264, 17564, 878, 220, 198, 53, 16412, 3579, 34516, 369, 1778, 5217, 2853, 323, 5255, 7781, 11, 3984, 430, 1778, 1715, 4985, 387, 2764, 220, 198, 3323, 422, 433, 374, 14976, 4972, 311, 279, 32792, 315, 279, 44391, 3579, 18335, 34391, 627, 220, 23, 13, 20, 17908, 311, 29461, 220, 20, 13, 17, 2948, 705, 220, 23, 13, 19, 11, 220, 806, 13, 605, 1921, 8, 323, 220, 806, 13, 806, 1921, 705, 904, 4787, 520, 279, 55771, 477, 1202, 40190, 220, 198, 7, 16564, 480, 23769, 11596, 705, 477, 904, 1493, 11, 304, 33829, 11, 40206, 447, 2826, 477, 84218, 304, 279, 220, 198, 32787, 14444, 11, 4985, 539, 3041, 10205, 311, 904, 13463, 9129, 10831, 264, 650, 16412, 3579, 477, 1218, 1017, 279, 220, 198, 5910, 42205, 878, 311, 904, 34074, 311, 279, 76590, 16837, 60152, 323, 5255, 279, 12282, 386, 3015, 94971, 220, 198, 93207, 11, 477, 1023, 16337, 13, 220, 578, 17564, 878, 19786, 279, 66548, 505, 682, 8349, 323, 24305, 220, 198, 277, 3876, 704, 315, 477, 304, 3717, 449, 279, 88931, 13, 262, 198, 24, 13, 220, 198, 39087, 6399, 90079, 24505, 11, 81151, 612, 94754, 5711, 198, 198, 776, 12, 198, 198, 7, 66, 8, 1442, 279, 17564, 878, 14865, 311, 3493, 477, 10519, 264, 393, 29255, 66548, 46372, 946, 1111, 60079, 439, 5300, 304, 77506, 3337, 4622, 220, 23, 11, 279, 66548, 4985, 617, 912, 29672, 311, 1304, 904, 14507, 311, 279, 17564, 878, 3156, 279, 17564, 878, 706, 12886, 279, 393, 29255, 66548, 46372, 946, 1111, 60079, 311, 279, 66548, 11, 323, 279, 66548, 11, 706, 279, 1314, 520, 904, 892, 11, 2085, 904, 24305, 36734, 11, 311, 27343, 279, 5178, 315, 279, 32904, 50, 2085, 4972, 11801, 477, 311, 30754, 279, 76590, 16837, 33549, 311, 13659, 220, 1758, 13, 18, 1921, 2432, 344, 570, 257, 1528, 8, 1442, 11, 520, 904, 892, 2391, 279, 4751, 315, 279, 76590, 16837, 11, 433, 374, 11075, 555, 279, 66548, 430, 279, 393, 29255, 66548, 46372, 946, 1111, 60079, 374, 539, 29262, 481, 477, 422, 433, 325, 1740, 13071, 706, 1027, 32302, 29852, 304, 904, 1648, 11, 279, 66548, 374, 20458, 311, 27343, 904, 14507, 311, 279, 17564, 878, 3156, 279, 17564, 878, 706, 3984, 279, 66548, 449, 264, 502, 323, 2764, 323, 29262, 481, 393, 29255, 66548, 46372, 946, 1111, 60079, 304, 279, 3878, 323, 1376, 743, 704, 304, 77506, 3337, 4622, 220, 23, 323, 11136, 323, 18908, 555, 904, 315, 279, 17564, 878, 753, 70038, 82334, 31404, 449, 14343, 6020, 11509, 323, 198, 198, 776, 12, 198, 198, 998, 279, 13112, 2631, 555, 67703, 11, 9879, 323, 16383, 555, 279, 9959, 12890, 87470, 5441, 984, 41909, 37744, 2949, 14469, 52, 33887, 65025, 323, 279, 47949, 26, 220, 198, 39298, 688, 26, 323, 40044, 10534, 311, 2804, 279, 9959, 13651, 315, 279, 32904, 50, 13, 198, 508, 13, 20, 763, 1202, 9306, 449, 1855, 16532, 5910, 42205, 878, 323, 650, 44863, 11, 279, 17564, 878, 4985, 2997, 220, 198, 14107, 19705, 25, 220, 555, 902, 279, 17564, 878, 4985, 49643, 311, 2343, 279, 16532, 5910, 42205, 878, 477, 650, 44863, 2949, 27219, 320, 966, 8, 83931, 505, 279, 2457, 315, 23383, 315, 8323, 505, 279, 66548, 369, 459, 220, 198, 1263, 285, 19849, 25637, 11, 477, 11, 1405, 1778, 25637, 374, 2764, 719, 55026, 11, 279, 17564, 878, 4985, 2343, 220, 198, 3852, 82037, 19849, 13651, 315, 1778, 25637, 2949, 27219, 320, 966, 8, 83931, 505, 279, 2457, 315, 23383, 315, 1778, 220, 198, 14073, 505, 279, 66548, 315, 1778, 82037, 19849, 13651, 26, 323, 720, 220, 198, 1729, 902, 279, 16532, 5910, 42205, 878, 477, 650, 44863, 4985, 49643, 311, 25, 720, 1998, 8, 220, 198, 1395, 6965, 555, 65295, 19165, 587, 826, 912, 2753, 70099, 1109, 279, 65295, 220, 198, 782, 41115, 743, 704, 304, 13659, 220, 1806, 26, 720, 31834, 8, 220, 198, 93982, 323, 6144, 279, 3268, 315, 279, 66548, 1234, 279, 76590, 16837, 26, 720, 1998, 3893, 696, 776, 7058, 198, 5910, 42205, 878, 753, 23791, 5457, 11, 1396, 315, 29735, 11, 39599, 7677, 11, 5217, 83931, 315, 220, 198, 1816, 824, 2046, 11, 4478, 315, 5208, 320, 49864, 17303, 555, 5905, 311, 11668, 9954, 315, 220, 198, 1820, 32904, 50, 477, 6062, 8, 323, 5255, 17564, 878, 3501, 58555, 86499, 55759, 4460, 220, 198, 258, 2015, 311, 11322, 279, 12282, 386, 3015, 790, 61389, 389, 477, 1603, 279, 5938, 12282, 386, 3015, 94971, 220, 198, 93207, 13, 33006, 1361, 8, 578, 17564, 878, 4985, 2804, 682, 315, 1202, 30255, 1234, 29461, 220, 972, 13, 19, 2948, 8, 323, 220, 972, 13, 19, 1921, 8, 220, 198, 41681, 398, 323, 11, 304, 3815, 779, 11, 4985, 539, 3719, 20458, 311, 904, 34074, 311, 279, 76590, 16837, 220, 198, 83375, 323, 5255, 279, 12282, 386, 3015, 94971, 423, 31404, 11, 477, 1023, 16337, 13, 220, 1789, 279, 65411, 315, 10712, 11, 279, 220, 198, 5910, 42205, 878, 753, 5178, 315, 1202, 30255, 1234, 29461, 220, 972, 13, 19, 2948, 8, 323, 220, 972, 13, 19, 1921, 8, 4985, 539, 220, 198, 1040, 275, 1088, 477, 3041, 10205, 311, 264, 650, 16412, 3579, 382, 776, 7058, 198, 998, 4443, 6372, 315, 279, 17564, 878, 477, 1884, 315, 279, 17564, 878, 57477, 82951, 13, 220, 198, 10480, 82, 22006, 389, 1778, 17564, 878, 3501, 58555, 86499, 55759, 323, 4443, 220, 198, 81524, 4985, 387, 65162, 11622, 555, 279, 17564, 878, 13, 198, 1591, 13, 23, 578, 66548, 690, 539, 46276, 904, 7540, 369, 13643, 35869, 14523, 45798, 13, 578, 220, 198, 5910, 42205, 878, 4985, 3568, 449, 323, 2686, 1778, 7540, 6089, 311, 279, 31229, 73879, 46771, 220, 198, 60489, 13, 578, 66548, 11, 4869, 11, 4985, 5304, 1715, 555, 279, 17564, 878, 11, 4360, 264, 6661, 220, 198, 14119, 287, 279, 8250, 315, 279, 76590, 16837, 13, 220, 198, 1682, 13, 220, 198, 41973, 2006, 67703, 198, 1682, 13, 16, 17908, 311, 13659, 220, 1682, 13, 17, 11, 422, 264, 2349, 304, 67703, 304, 279, 47949, 4131, 1139, 2515, 1306, 279, 68059, 220, 198, 56654, 28534, 6340, 426, 926, 16532, 26311, 29643, 323, 12992, 279, 17564, 878, 753, 7194, 304, 16785, 220, 198, 1220, 30255, 1234, 279, 76590, 16837, 323, 5255, 32174, 279, 17564, 878, 753, 5178, 315, 279, 220, 198, 18977, 50, 11, 279, 17564, 878, 4985, 11, 3917, 311, 13659, 220, 1187, 11, 387, 20458, 311, 9502, 264, 17564, 878, 220, 198, 53, 16412, 3579, 34516, 311, 11993, 904, 7194, 477, 32174, 52872, 439, 264, 1121, 315, 1778, 2349, 304, 67703, 3638, 776, 7058, 198, 2688, 50044, 4205, 311, 279, 26102, 304, 77506, 3337, 4622, 220, 20, 323, 5255, 279, 76590, 16837, 11, 279, 220, 17564, 878, 4985, 539, 387, 20458, 311, 3802, 369, 7194, 52872, 4972, 311, 279, 53474, 320, 1399, 8, 24871, 83931, 477, 832, 7895, 323, 80679, 320, 5245, 8, 83931, 304, 24069, 304, 13659, 220, 1958, 13, 21, 1361, 8, 198, 7, 35694, 8, 422, 279, 32904, 50, 527, 22340, 304, 18859, 449, 13659, 220, 1958, 13, 18, 95249, 2711, 369, 40893, 291, 21085, 17908, 311, 904, 3237, 19705, 304, 77506, 3337, 4622, 220, 20, 323, 5255, 279, 76590, 16837, 311, 279, 26102, 11, 422, 279, 32904, 50, 527, 22340, 304, 18859, 449, 13659, 220, 1958, 13, 19, 11, 279, 66548, 4985, 539, 387, 35473, 369, 904, 7194, 40986, 505, 477, 304, 12976, 311, 1778, 25288, 4261, 13, 220, 198, 644, 18859, 449, 29461, 220, 1958, 13, 21, 2948, 705, 220, 1958, 13, 21, 1361, 8, 323, 220, 1958, 13, 21, 1528, 705, 904, 14507, 4245, 311, 279, 17564, 878, 4985, 387, 1903, 1193, 1306, 21142, 311, 279, 66548, 555, 279, 17564, 878, 315, 11944, 2006, 11417, 16213, 304, 18859, 449, 13659, 220, 1419, 13, 17, 13, 198, 1958, 13, 22, 18335, 34391, 3083, 90129, 47, 24557, 5884, 25288, 304, 18859, 449, 420, 13659, 220, 1958, 4985, 7293, 304, 2035, 3156, 279, 6931, 315, 279, 2768, 57115, 1473, 776, 7058, 198, 1927, 13, 18, 1442, 279, 76590, 16837, 374, 32372, 555, 279, 17564, 878, 33549, 311, 13659, 220, 1758, 13, 17, 11, 477, 555, 279, 66548, 33549, 311, 13659, 220, 1758, 13, 16, 11, 279, 66548, 4985, 2343, 279, 17564, 878, 25, 720, 2948, 8, 369, 279, 13651, 315, 279, 32904, 50, 10887, 323, 8308, 4972, 311, 279, 2457, 315, 35508, 26, 323, 220, 198, 7, 65, 8, 3917, 311, 13659, 220, 1927, 13, 19, 11, 279, 17564, 878, 753, 17033, 7194, 52872, 304, 12976, 311, 904, 315, 279, 2768, 11, 3984, 430, 1778, 7194, 1051, 539, 2736, 26403, 555, 279, 17564, 878, 4972, 311, 35508, 25, 720, 1998, 8, 2486, 29029, 8082, 315, 279, 17564, 878, 57477, 82951, 44, 45507, 50, 323, 3501, 58555, 36, 12247, 55759, 26, 720, 31834, 8, 4375, 323, 3600, 2736, 65362, 555, 279, 17564, 878, 21861, 4594, 5910, 42205, 10022, 477, 650, 4794, 10022, 11, 369, 902, 36935, 4250, 387, 1903, 477, 649, 387, 1903, 5304, 8323, 315, 36935, 12718, 11, 2403, 27470, 11311, 26, 323, 198, 198, 776, 12, 198, 198, 7, 10176, 8, 220, 198, 3852, 15055, 311, 387, 96604, 389, 2759, 315, 279, 17564, 878, 753, 29672, 311, 220, 198, 265, 318, 39082, 279, 25557, 8606, 50477, 5441, 304, 18859, 449, 13659, 220, 1419, 13, 20, 1361, 8, 439, 1664, 439, 220, 198, 3852, 1023, 15055, 902, 2643, 617, 3719, 4245, 311, 279, 66548, 1234, 279, 220, 198, 1929, 793, 16837, 477, 6062, 26, 720, 3832, 3893, 8, 220, 198, 1820, 4272, 3392, 11922, 439, 45691, 555, 279, 17564, 878, 477, 279, 4272, 6807, 56612, 311, 220, 198, 1820, 66548, 11, 439, 8581, 26, 2355, 3832, 35694, 8, 220, 198, 1820, 6201, 3649, 1405, 14507, 527, 311, 387, 1903, 26, 720, 66783, 8, 220, 198, 1820, 4033, 2883, 21899, 315, 279, 17564, 878, 26, 720, 2120, 8, 220, 198, 1820, 12223, 315, 279, 17564, 878, 98222, 24093, 26, 323, 220, 198, 7, 11927, 8, 220, 198, 3852, 51744, 10332, 8670, 304, 12976, 311, 47949, 48692, 439, 1253, 387, 30316, 555, 279, 220, 198, 24637, 17742, 311, 279, 17564, 878, 505, 892, 311, 892, 13, 720, 220, 198, 13317, 311, 29461, 220, 1419, 13, 16, 323, 220, 1419, 13, 18, 11, 279, 66548, 4985, 2343, 904, 15055, 4245, 2949, 27219, 320, 966, 8, 220, 198, 35, 22838, 315, 23383, 315, 279, 12435, 2006, 79015, 11, 3984, 2744, 430, 904, 2038, 477, 220, 198, 24249, 287, 9904, 2631, 555, 13659, 220, 1419, 13, 17, 2948, 8, 706, 1027, 3984, 555, 279, 220, 198, 5910, 42205, 878, 382, 776, 7058, 198, 9241, 279, 28924, 3083, 76590, 16837, 5825, 369, 279, 8323, 555, 279, 66548, 315, 459, 25557, 8606, 50477, 5441, 11, 279, 17564, 878, 4985, 11, 439, 264, 3044, 47891, 311, 1694, 7318, 279, 25557, 8606, 50477, 5441, 11, 3493, 279, 66548, 449, 459, 25557, 8606, 50477, 5441, 46372, 946, 1111, 60079, 323, 279, 66548, 4985, 1243, 2343, 279, 25557, 8606, 50477, 5441, 311, 279, 17564, 878, 304, 279, 3392, 743, 704, 304, 279, 28924, 3083, 76590, 16837, 304, 18859, 449, 13659, 220, 1419, 13, 20, 1921, 570, 578, 17564, 878, 4815, 98804, 1038, 14730, 4521, 19124, 220, 27, 14924, 27916, 3053, 17564, 878, 3802, 9070, 315, 892, 323, 5217, 2853, 389, 2759, 315, 5457, 296, 11305, 554, 30, 128009, 128006, 78191, 128007, 198, 198, 11439, 311, 13659, 220, 1272, 11, 264, 83689, 9917, 41429, 4622, 13032, 374, 4613, 439, 459, 1567, 477, 53237, 430, 69001, 279, 8670, 315, 43743, 320, 64, 8, 323, 320, 65, 8, 3485, 13, 578, 2768, 4455, 477, 13463, 4985, 539, 387, 477, 387, 25660, 311, 387, 264, 83689, 9917, 41429, 4622, 13032, 1473, 9, 1252, 54162, 315, 10736, 477, 2536, 73543, 315, 264, 2694, 315, 3300, 555, 264, 64327, 477, 264, 69257, 64327, 198, 9, 17961, 67650, 477, 38550, 311, 1304, 264, 11626, 477, 11322, 264, 58831, 4478, 315, 471, 198, 9, 55771, 4787, 11, 2737, 24674, 480, 23769, 11596, 198, 198, 644, 13659, 220, 1272, 13, 18, 11, 433, 374, 11224, 430, 2391, 904, 4261, 315, 279, 83689, 9917, 41429, 4622, 13032, 11, 279, 17564, 878, 4985, 1005, 1202, 1888, 9045, 311, 49071, 323, 6144, 279, 32904, 50, 323, 69152, 279, 17564, 878, 57477, 82951, 304, 1778, 264, 11827, 439, 311, 97087, 279, 7194, 5938, 449, 279, 83689, 9917, 41429, 4622, 13032, 627, 198, 17064, 220, 1958, 13, 21, 1361, 8, 5415, 430, 422, 279, 32904, 50, 527, 22340, 304, 18859, 449, 13659, 220, 1958, 13, 18, 320, 95249, 2711, 369, 264, 83689, 9917, 41429, 4622, 13032, 705, 279, 66548, 4985, 539, 387, 35473, 369, 904, 7194, 40986, 505, 477, 304, 12976, 311, 1778, 25288, 4261, 11, 3734, 311, 279, 13112, 430, 1778, 7194, 527, 1473, 9, 17855, 398, 3984, 369, 304, 77506, 3337, 4622, 220, 20, 198, 9, 4953, 8293, 555, 279, 17564, 878, 439, 264, 1121, 315, 279, 25288, 555, 2944, 315, 264, 83689, 9917, 41429, 4622, 13032, 198, 9, 763, 682, 5157, 11, 52872, 1306, 264, 19815, 4261, 304, 13937, 315, 53474, 320, 1399, 8, 24871, 83931, 477, 832, 7895, 323, 80679, 320, 5245, 8, 83931, 304, 24069, 627, 198, 17064, 220, 1272, 13, 22, 5415, 430, 422, 904, 83689, 9917, 41429, 4622, 13032, 29034, 477, 32174, 279, 5178, 315, 30255, 1234, 279, 76590, 16837, 369, 264, 19815, 4261, 304, 13937, 315, 53474, 320, 1399, 8, 24871, 83931, 477, 369, 832, 7895, 323, 80679, 320, 5245, 8, 83931, 304, 24069, 11, 279, 66548, 4985, 3060, 1473, 9, 328, 13048, 682, 477, 904, 961, 315, 279, 5178, 315, 279, 32904, 50, 304, 18859, 449, 13659, 220, 1958, 13, 18, 198, 9, 10335, 35116, 279, 76590, 16837, 304, 18859, 449, 13659, 220, 1758, 13, 19, 198, 198, 644, 12399, 11, 10035, 11, 279, 17564, 878, 649, 3802, 9070, 315, 892, 323, 5217, 2853, 389, 2759, 315, 264, 83689, 9917, 41429, 4622, 13032, 11, 3917, 311, 279, 4787, 323, 9669, 743, 704, 304, 29461, 220, 1272, 323, 220, 1958, 13, 4452, 11, 279, 66548, 596, 24305, 369, 7194, 40986, 505, 477, 304, 12976, 311, 1778, 25288, 4261, 374, 7347, 439, 824, 13659, 220, 1958, 13, 21, 1361, 570, 128009], 'total_duration': 9278375789907, 'load_duration': 49332809087, 'prompt_eval_count': 4161, 'prompt_eval_duration': 1750897301000, 'eval_count': 457, 'eval_duration': 7477454464000}\n",
      "-----------\n",
      "Is increase in quantity a COMPANY risk event or CONTRACTOR risk event?\n"
     ]
    },
    {
     "name": "stderr",
     "output_type": "stream",
     "text": [
      "Special tokens have been added in the vocabulary, make sure the associated word embeddings are fine-tuned or trained.\n",
      "Special tokens have been added in the vocabulary, make sure the associated word embeddings are fine-tuned or trained.\n",
      "Special tokens have been added in the vocabulary, make sure the associated word embeddings are fine-tuned or trained.\n",
      "Special tokens have been added in the vocabulary, make sure the associated word embeddings are fine-tuned or trained.\n",
      "Special tokens have been added in the vocabulary, make sure the associated word embeddings are fine-tuned or trained.\n",
      "Special tokens have been added in the vocabulary, make sure the associated word embeddings are fine-tuned or trained.\n",
      "Special tokens have been added in the vocabulary, make sure the associated word embeddings are fine-tuned or trained.\n",
      "Special tokens have been added in the vocabulary, make sure the associated word embeddings are fine-tuned or trained.\n",
      "Special tokens have been added in the vocabulary, make sure the associated word embeddings are fine-tuned or trained.\n",
      "Special tokens have been added in the vocabulary, make sure the associated word embeddings are fine-tuned or trained.\n",
      "Special tokens have been added in the vocabulary, make sure the associated word embeddings are fine-tuned or trained.\n",
      "Special tokens have been added in the vocabulary, make sure the associated word embeddings are fine-tuned or trained.\n",
      "Special tokens have been added in the vocabulary, make sure the associated word embeddings are fine-tuned or trained.\n",
      "Special tokens have been added in the vocabulary, make sure the associated word embeddings are fine-tuned or trained.\n",
      "Special tokens have been added in the vocabulary, make sure the associated word embeddings are fine-tuned or trained.\n",
      "Special tokens have been added in the vocabulary, make sure the associated word embeddings are fine-tuned or trained.\n",
      "Special tokens have been added in the vocabulary, make sure the associated word embeddings are fine-tuned or trained.\n",
      "Special tokens have been added in the vocabulary, make sure the associated word embeddings are fine-tuned or trained.\n",
      "Special tokens have been added in the vocabulary, make sure the associated word embeddings are fine-tuned or trained.\n",
      "Special tokens have been added in the vocabulary, make sure the associated word embeddings are fine-tuned or trained.\n",
      "Special tokens have been added in the vocabulary, make sure the associated word embeddings are fine-tuned or trained.\n",
      "Special tokens have been added in the vocabulary, make sure the associated word embeddings are fine-tuned or trained.\n",
      "Special tokens have been added in the vocabulary, make sure the associated word embeddings are fine-tuned or trained.\n"
     ]
    }
   ],
   "source": [
    "import requests\n",
    "import json\n",
    "for prompt in prompts:\n",
    " \n",
    " new_documents=search(prompt)\n",
    " question = \" <Data>: \\n\" + new_documents + \"\\n\\n ------------------- \"+\" \\n\\n <Question>: \"+prompt\n",
    " \n",
    " url = \"http://localhost:11434/api/generate\"\n",
    "\n",
    " payload = {\n",
    "    \"model\": \"llama3:8b-instruct-q4_K_M\",\n",
    "    \"options\": {\"num_ctx\": 8000,\"temperature\":0.0,\"top_p\":0.5},\n",
    "    \"system\":system_prompt,\n",
    "    \"prompt\": question,\n",
    "    \"stream\": False\n",
    " }\n",
    "\n",
    "# Send the POST request\n",
    " response = requests.post(url, data=json.dumps(payload), headers={\"Content-Type\": \"application/json\"})\n",
    "\n",
    "# Print the response\n",
    "\n",
    " if response.status_code == 200:\n",
    "    print(\"Response:\", response.json())\n",
    " else:\n",
    "    print(f\"Failed to get a response. Status code: {response.status_code}, Response: {response.text}\")\n"
   ]
  },
  {
   "cell_type": "code",
   "execution_count": null,
   "id": "1629079e",
   "metadata": {},
   "outputs": [],
   "source": []
  },
  {
   "cell_type": "code",
   "execution_count": null,
   "id": "5e1d9bea",
   "metadata": {},
   "outputs": [],
   "source": [
    "answer=\"According to Article 41.5(a), the CONTRACTOR's limit of liability for Third Party Liability Insurance is USD 10,000,000 per occurrence.\\n2. **Liability cap**: The total liability cap is stated in Article 42.10 and is equal to 100% of the AGREEMENT PRICE.\\n\\nNote that the liability cap is a maximum amount that the COMPANY or the CONTRACTOR can be held liable for under the agreement, whereas the limit of liability refers to the specific amount insured against for each type of insurance (e.g., Third Party Liability Insurance)\"\n",
    "print(answer)"
   ]
  },
  {
   "cell_type": "code",
   "execution_count": null,
   "id": "4ad7fe38",
   "metadata": {},
   "outputs": [],
   "source": [
    "check_token_limit(question)"
   ]
  },
  {
   "cell_type": "code",
   "execution_count": null,
   "id": "76b78dd0",
   "metadata": {},
   "outputs": [],
   "source": [
    "curl http://localhost:11434/api/generate  '{\n",
    "  \"model\": \"llama3:8b-instruct-q4_K_M\",\n",
    "  \"options\": {\n",
    "    \"num_ctx\": 8000,\n",
    "    \"temperature\": 0.0,\n",
    "    \"top_p\": 0.5\n",
    "  },\n",
    "  \"system\": \"You are a knowledgeable and professional assistant tasked with providing detailed information about insurance requirements for a construction contract. Your responses should be concise, informative, and strictly adhere to the terms and conditions outlined in the provided contract details.\",\n",
    "  \"prompt\": \"<Data>: \\n \\n \\n 41.1 In the event any CONTRACTOR PERSONNEL are performing WORKS in the UAE, without limitation to its obligations and responsibilities, the CONTRACTOR shall obtain and maintain Workmen’s Compensation Insurance (Employer’s Liability) with a limit of liability of not less than USD 1,000,000 per occurrence.\\n41.2 In the event any CONTRACTOR PERSONNEL are performing WORKS outside the UAE, without limitation to its obligations and responsibilities, the CONTRACTOR shall obtain and maintain Workmen’s Compensation Insurance (Employer’s Liability) or insurance coverage of a comparable \\nnature in accordance with the applicable LAW and/or the contracts of employment of the CONTRACTOR PERSONNEL.\\n\\n\\n-----------------\\n\\n\\n41.5 The CONTRACTOR shall obtain and maintain: Third Party Liability Insurance with a limit of not less than USD 10,000,000 per occurrence; and Pollution Liability Insurance to cover the risk arising from the performance of WORKS and any pollution emanating/originating from the CONTRACTOR CONSTRUCTION EQUIPMENT with a limit of not less than USD 10,000,000 per occurrence, noting that the two insurance coverage requirements named in Articles 41.5(a) and 41.5(b) may be addressed in one insurance policy.\\n41.6 The CONTRACTOR shall ensure that all insurance policies provided by the CONTRACTOR shall: be obtained on an additional insured basis in the names of the PARTIES with the exception of the insurances required under Articles 41.1 and 41.2; and contain a waiver of subrogation against its contractual principals which shall include the COMPANY INDEMNIFIED PARTIES, to the extent of the liabilities assumed by the CONTRACTOR under the AGREEMENT.\\n\\n\\n-----------------\\n\\n\\n41.3 In the event the CONTRACTOR uses motor vehicles in the performance of the WORKS in the UAE, the CONTRACTOR shall obtain and maintain Motor Vehicle Third Party and Passenger Liability Insurance which shall be: as per the applicable LAWS of the UAE for death or injury to any THIRD PARTY; and for damage to PROPERTY of a THIRD PARTY with a limit of not less than USD 1,000,000 per occurrence.\\n41.4 Without limitation to its obligations and responsibilities, the CONTRACTOR shall obtain and maintain All Risk Insurance on CONTRACTOR CONSTRUCTION EQUIPMENT covering the full value thereof.\\n\\n\\n-----------------\\n\\n\\nFor the avoidance of doubt, the governing law and dispute resolution provisions of Article 46 of ANNEXURE 2 \\n \\nPERFORMANCE BANK \\nGUARANTEE amount: \\n10% of the INITIAL AGREEMENT PRICE.] \\n \\nPARENT COMPANY \\nGUARANTEE: \\nAs Applicable \\n \\nAdditional CONTRACTOR \\ninsurance requirements (in \\naddition to those stated in \\nArticles 41.1 to 41.15): \\nNO  \\n  \\n \\n \\nTotal liability cap: \\n100% of the AGREEMENT PRICE. \\n \\nREPRESENTATIVES: \\nCOMPANY REPRESENTATIVE, as defined in Article 2.1(b), \\nshall mean:  \\nName:  \\nTitle:  \\nTel.: +971 \\nEmail:  \\nFax: [●]  \\n \\nCONTRACTOR REPRESENTATIVE, as defined in \\nArticle 2.1(a), shall mean: \\nName: [●] \\nTitle: [●] \\nTel.: [●] \\nEmail: [●] \\nFax: [●]  \\n \\nNotice details: \\nNotices to the COMPANY: \\nAttention:   \\nAddress:  \\nTel:  +971  \\nEmail:   \\nFax:  [insert] \\n \\nNotices to the CONTRACTOR: \\nAttention: [insert name of CONTRACTOR REPRESENTATIVE] \\nAddress: [insert] \\nTel:  [insert] \\nEmail: [insert] \\nFax:  [insert]\\n\\n\\n-----------------\\n\\n\\nArticles 42.1(b), 42.2(b), 42.3(c) and 42.4(b).Notwithstanding Articles 42.9(a) and 42.9(b) above, no PARTY shall be deemed to have waived any claims against the other PARTY or its related INDEMNIFIED PARTIES in respect of events arising out of or in connection with the GROSS NEGLIGENCE / WILFUL MISCONDUCT of that other PARTY or its related INDEMNIFIED PARTIES. The COMPANY INDEMNIFIED PARTIES and the CONTRACTOR INDEMNIFIED PARTIES shall remain liable in respect of events arising out of or in connection with their GROSS NEGLIGENCE / WILFUL MISCONDUCT.\\n42.10 LIMITATIONS OF LIABILITY \\nThe total liability of either PARTY to the other PARTY arising under or in connection with the AGREEMENT shall be limited to the total liability cap set out in the FORM OF AGREEMENT. Article 42.10(a) shall not apply in relation to, or otherwise limit or affect:\\n\\n\\n-----------------\\n\\n\\n42. LIABILITY AND INDEMNITY\\n42.1LIABILITY FOR PERSONNEL \\nThe CONTRACTOR shall indemnify and hold harmless the COMPANY INDEMNIFIED PARTIES from and against all losses, liabilities, damages and costs (including legal costs) arising out of or in connection with any claim by any PERSON against the COMPANY INDEMNIFIED PARTIES in respect of death, illness of or injury to the CONTRACTOR PERSONNEL that arises out of or in connection with the performance or non-performance of the AGREEMENT by the COMPANY INDEMNIFIED PARTIES and/or the CONTRACTOR INDEMNIFIED PARTIES, except to the extent arising out of or in connection with the GROSS NEGLIGENCE / WILFUL MISCONDUCT of the COMPANY INDEMNIFIED PARTIES.\\n\\n\\n-----------------\\n\\n\\nWhere Article 16.3(d)(v) applies, the CONTRACTOR shall be required to reimburse such \\nportion of the AGREEMENT PRICE as the COMPANY deems sufficient to compensate it for \\nany losses, costs or expenses that it has suffered or may suffer as a consequence of, or in \\nconnection with, the FACILITIES not achieving the PERFORMANCE GUARANTEES, up to \\nthe amount of the CONTRACTOR’s total liability cap as set out in the FORM OF \\nAGREEMENT.\\n16.4 SUPPLY OF FUEL / HYDROCARBONS / UTILITIES AND/OR FEEDSTOCK To the extent that the COMPANY is responsible pursuant to ANNEXURE 6 for supply of fuel / hydrocarbons / utilities and/or FEEDSTOCK:\\n\\n\\n-----------------\\n\\n\\n47.2\\nIf the COMPANY deems (at its absolute discretion) that any BUSINESS VENTURE by the \\nCONTRACTOR under this Article 47 is prejudicial to the COMPANY’s interest, the COMPANY shall \\ninstruct the CONTRACTOR in writing to take steps to terminate such BUSINESS VENTURE, and the \\nCONTRACTOR shall comply with the COMPANY’s instruction. \\n48. \\nENTIRE AGREEMENT \\nThe AGREEMENT constitutes the entire agreement between the PARTIES concerning the subject \\nmatter of the AGREEMENT and supersedes and, subject to Article 3.2, replaces any previous \\nagreements between the PARTIES or any representation made by one PARTY to the other PARTY \\n(whether oral or written) concerning the subject matter of the AGREEMENT.  To the extent permitted \\nby LAW, the PARTIES shall not be bound by or be liable for any statement, representation, promise, \\ninducement or understanding of any kind or nature not set forth herein, provided that nothing in this \\nArticle 48 shall limit a PARTY’s liability for fraud.\\n\\n\\n-----------------\\n\\n\\n42.2  LIABILITY FOR PROPERTY \\n \\nThe CONTRACTOR shall indemnify and hold harmless the COMPANY INDEMNIFIED PARTIES from and against all losses, liabilities, damages and costs (including legal costs) arising out of or in connection with any claim by any PERSON against the COMPANY INDEMNIFIED PARTIES in respect of:\\n(i) loss of or damage to the PROPERTY of the CONTRACTOR INDEMNIFIED  PARTIES, including the loss of use thereof, that arises out of or in connection with the performance or non-performance of the AGREEMENT by the COMPANY INDEMNIFIED PARTIES and/or the CONTRACTOR INDEMNIFIED PARTIES; and\\n\\n\\n-----------------\\n\\n\\n(i) either PARTY’s liability in respect of: its GROSS NEGLIGENCE / WILFUL MISCONDUCT or fraud;  a breach of Article 37;  THIRD PARTIES; or an indemnity obligation to the other PARTY under Articles 4.3(e), 20.6, 22.3, 41.12, 41.16(d) and 42.1 to 42.5 (as applicable); \\n(ii) the CONTRACTOR’s liability: in respect of its warranty of title pursuant to Article 33; or to make payments, to the extent corresponding payments: \\n(1) are received or receivable by the CONTRACTOR, or adjusted or \\ndeclined by insurers, pursuant to the insurance policies required by \\nArticle 41, or \\n(2) would have been received pursuant to such policies (including via \\nreimbursement from the COMPANY) had the CONTRACTOR \\ncomplied with its obligations under the AGREEMENT to effect and \\nmaintain insurance; or \\n(iii) the COMPANY’s liability as a result of the payment of any part of the AGREEMENT PRICE made in consideration of the CONTRACTOR’s performance of its obligations under the AGREEMENT.\\n\\n\\n-----------------\\n\\n\\nArticle 42. The CONTRACTOR shall save, indemnify, defend, release and hold harmless the COMPANY INDEMNIFIED PARTIES from and against all losses, liabilities, damages and costs (including legal costs) arising out of or in connection with any claim by any PERSON against the \\nCOMPANY INDEMNIFIED PARTIES in respect of any shortfall in insurance cover it is obliged to obtain under the AGREEMENT or any failure to effect or maintain such insurances specified by the AGREEMENT or out of any act or omission, which invalidates the said insurances or in the event that \\nliability for any loss or damage be denied by any underwriter, in all or in part, because of breach of sai\\----------------\\n\\n\\n-----------------\\n\\n\\n\\n\\n\\n -------------------  \\n\\n\\n <Question>: What is CONTRACTOR limit of liability and the liability cap?\".\n",
    "  \"stream\":false\n",
    "}'"
   ]
  },
  {
   "cell_type": "code",
   "execution_count": null,
   "id": "8940ca55",
   "metadata": {},
   "outputs": [],
   "source": [
    "curl http://localhost:11434/api/generate -d '{\n",
    "  \"model\": \"llama3:8b-instruct-q4_K_M\",\n",
    "  \"options\":{\"num_ctx\":8000,\"temperature\":0.0,\"top_p\":0.5,},\"prompt\": \" <Data>: \\n \\n \\n 41.1 In the event any CONTRACTOR PERSONNEL are performing WORKS in the UAE, without limitation to its obligations and responsibilities, the CONTRACTOR shall obtain and maintain Workmen’s Compensation Insurance (Employer’s Liability) with a limit of liability of not less than USD 1,000,000 per occurrence.\\n41.2 In the event any CONTRACTOR PERSONNEL are performing WORKS outside the UAE, without limitation to its obligations and responsibilities, the CONTRACTOR shall obtain and maintain Workmen’s Compensation Insurance (Employer’s Liability) or insurance coverage of a comparable \\nnature in accordance with the applicable LAW and/or the contracts of employment of the CONTRACTOR PERSONNEL.\\n\\n\\n-----------------\\n\\n\\n41.5 The CONTRACTOR shall obtain and maintain: Third Party Liability Insurance with a limit of not less than USD 10,000,000 per occurrence; and Pollution Liability Insurance to cover the risk arising from the performance of WORKS and any pollution emanating/originating from the CONTRACTOR CONSTRUCTION EQUIPMENT with a limit of not less than USD 10,000,000 per occurrence, noting that the two insurance coverage requirements named in Articles 41.5(a) and 41.5(b) may be addressed in one insurance policy.\\n41.6 The CONTRACTOR shall ensure that all insurance policies provided by the CONTRACTOR shall: be obtained on an additional insured basis in the names of the PARTIES with the exception of the insurances required under Articles 41.1 and 41.2; and contain a waiver of subrogation against its contractual principals which shall include the COMPANY INDEMNIFIED PARTIES, to the extent of the liabilities assumed by the CONTRACTOR under the AGREEMENT.\\n\\n\\n-----------------\\n\\n\\n41.3 In the event the CONTRACTOR uses motor vehicles in the performance of the WORKS in the UAE, the CONTRACTOR shall obtain and maintain Motor Vehicle Third Party and Passenger Liability Insurance which shall be: as per the applicable LAWS of the UAE for death or injury to any THIRD PARTY; and for damage to PROPERTY of a THIRD PARTY with a limit of not less than USD 1,000,000 per occurrence.\\n41.4 Without limitation to its obligations and responsibilities, the CONTRACTOR shall obtain and maintain All Risk Insurance on CONTRACTOR CONSTRUCTION EQUIPMENT covering the full value thereof.\\n\\n\\n-----------------\\n\\n\\nFor the avoidance of doubt, the governing law and dispute resolution provisions of Article 46 of ANNEXURE 2 \\n \\nPERFORMANCE BANK \\nGUARANTEE amount: \\n10% of the INITIAL AGREEMENT PRICE.] \\n \\nPARENT COMPANY \\nGUARANTEE: \\nAs Applicable \\n \\nAdditional CONTRACTOR \\ninsurance requirements (in \\naddition to those stated in \\nArticles 41.1 to 41.15): \\nNO  \\n  \\n \\n \\nTotal liability cap: \\n100% of the AGREEMENT PRICE. \\n \\nREPRESENTATIVES: \\nCOMPANY REPRESENTATIVE, as defined in Article 2.1(b), \\nshall mean:  \\nName:  \\nTitle:  \\nTel.: +971 \\nEmail:  \\nFax: [●]  \\n \\nCONTRACTOR REPRESENTATIVE, as defined in \\nArticle 2.1(a), shall mean: \\nName: [●] \\nTitle: [●] \\nTel.: [●] \\nEmail: [●] \\nFax: [●]  \\n \\nNotice details: \\nNotices to the COMPANY: \\nAttention:   \\nAddress:  \\nTel:  +971  \\nEmail:   \\nFax:  [insert] \\n \\nNotices to the CONTRACTOR: \\nAttention: [insert name of CONTRACTOR REPRESENTATIVE] \\nAddress: [insert] \\nTel:  [insert] \\nEmail: [insert] \\nFax:  [insert]\\n\\n\\n-----------------\\n\\n\\nArticles 42.1(b), 42.2(b), 42.3(c) and 42.4(b).Notwithstanding Articles 42.9(a) and 42.9(b) above, no PARTY shall be deemed to have waived any claims against the other PARTY or its related INDEMNIFIED PARTIES in respect of events arising out of or in connection with the GROSS NEGLIGENCE / WILFUL MISCONDUCT of that other PARTY or its related INDEMNIFIED PARTIES. The COMPANY INDEMNIFIED PARTIES and the CONTRACTOR INDEMNIFIED PARTIES shall remain liable in respect of events arising out of or in connection with their GROSS NEGLIGENCE / WILFUL MISCONDUCT.\\n42.10 LIMITATIONS OF LIABILITY \\nThe total liability of either PARTY to the other PARTY arising under or in connection with the AGREEMENT shall be limited to the total liability cap set out in the FORM OF AGREEMENT. Article 42.10(a) shall not apply in relation to, or otherwise limit or affect:\\n\\n\\n-----------------\\n\\n\\n42. LIABILITY AND INDEMNITY\\n42.1LIABILITY FOR PERSONNEL \\nThe CONTRACTOR shall indemnify and hold harmless the COMPANY INDEMNIFIED PARTIES from and against all losses, liabilities, damages and costs (including legal costs) arising out of or in connection with any claim by any PERSON against the COMPANY INDEMNIFIED PARTIES in respect of death, illness of or injury to the CONTRACTOR PERSONNEL that arises out of or in connection with the performance or non-performance of the AGREEMENT by the COMPANY INDEMNIFIED PARTIES and/or the CONTRACTOR INDEMNIFIED PARTIES, except to the extent arising out of or in connection with the GROSS NEGLIGENCE / WILFUL MISCONDUCT of the COMPANY INDEMNIFIED PARTIES.\\n\\n\\n-----------------\\n\\n\\nWhere Article 16.3(d)(v) applies, the CONTRACTOR shall be required to reimburse such \\nportion of the AGREEMENT PRICE as the COMPANY deems sufficient to compensate it for \\nany losses, costs or expenses that it has suffered or may suffer as a consequence of, or in \\nconnection with, the FACILITIES not achieving the PERFORMANCE GUARANTEES, up to \\nthe amount of the CONTRACTOR’s total liability cap as set out in the FORM OF \\nAGREEMENT.\\n16.4 SUPPLY OF FUEL / HYDROCARBONS / UTILITIES AND/OR FEEDSTOCK To the extent that the COMPANY is responsible pursuant to ANNEXURE 6 for supply of fuel / hydrocarbons / utilities and/or FEEDSTOCK:\\n\\n\\n-----------------\\n\\n\\n47.2\\nIf the COMPANY deems (at its absolute discretion) that any BUSINESS VENTURE by the \\nCONTRACTOR under this Article 47 is prejudicial to the COMPANY’s interest, the COMPANY shall \\ninstruct the CONTRACTOR in writing to take steps to terminate such BUSINESS VENTURE, and the \\nCONTRACTOR shall comply with the COMPANY’s instruction. \\n48. \\nENTIRE AGREEMENT \\nThe AGREEMENT constitutes the entire agreement between the PARTIES concerning the subject \\nmatter of the AGREEMENT and supersedes and, subject to Article 3.2, replaces any previous \\nagreements between the PARTIES or any representation made by one PARTY to the other PARTY \\n(whether oral or written) concerning the subject matter of the AGREEMENT.  To the extent permitted \\nby LAW, the PARTIES shall not be bound by or be liable for any statement, representation, promise, \\ninducement or understanding of any kind or nature not set forth herein, provided that nothing in this \\nArticle 48 shall limit a PARTY’s liability for fraud.\\n\\n\\n-----------------\\n\\n\\n42.2  LIABILITY FOR PROPERTY \\n \\nThe CONTRACTOR shall indemnify and hold harmless the COMPANY INDEMNIFIED PARTIES from and against all losses, liabilities, damages and costs (including legal costs) arising out of or in connection with any claim by any PERSON against the COMPANY INDEMNIFIED PARTIES in respect of:\\n(i) loss of or damage to the PROPERTY of the CONTRACTOR INDEMNIFIED  PARTIES, including the loss of use thereof, that arises out of or in connection with the performance or non-performance of the AGREEMENT by the COMPANY INDEMNIFIED PARTIES and/or the CONTRACTOR INDEMNIFIED PARTIES; and\\n\\n\\n-----------------\\n\\n\\n(i) either PARTY’s liability in respect of: its GROSS NEGLIGENCE / WILFUL MISCONDUCT or fraud;  a breach of Article 37;  THIRD PARTIES; or an indemnity obligation to the other PARTY under Articles 4.3(e), 20.6, 22.3, 41.12, 41.16(d) and 42.1 to 42.5 (as applicable); \\n(ii) the CONTRACTOR’s liability: in respect of its warranty of title pursuant to Article 33; or to make payments, to the extent corresponding payments: \\n(1) are received or receivable by the CONTRACTOR, or adjusted or \\ndeclined by insurers, pursuant to the insurance policies required by \\nArticle 41, or \\n(2) would have been received pursuant to such policies (including via \\nreimbursement from the COMPANY) had the CONTRACTOR \\ncomplied with its obligations under the AGREEMENT to effect and \\nmaintain insurance; or \\n(iii) the COMPANY’s liability as a result of the payment of any part of the AGREEMENT PRICE made in consideration of the CONTRACTOR’s performance of its obligations under the AGREEMENT.\\n\\n\\n-----------------\\n\\n\\nArticle 42. The CONTRACTOR shall save, indemnify, defend, release and hold harmless the COMPANY INDEMNIFIED PARTIES from and against all losses, liabilities, damages and costs (including legal costs) arising out of or in connection with any claim by any PERSON against the \\nCOMPANY INDEMNIFIED PARTIES in respect of any shortfall in insurance cover it is obliged to obtain under the AGREEMENT or any failure to effect or maintain such insurances specified by the AGREEMENT or out of any act or omission, which invalidates the said insurances or in the event that \\nliability for any loss or damage be denied by any underwriter, in all or in part, because of breach of sai\\----------------\\n\\n\\n-----------------\\n\\n\\n\\n\\n\\n -------------------  \\n\\n\\n <Question>: What is CONTRACTOR limit of liability and the liability cap?\",  \"stream\": false\n",
    "}'\n",
    "\n",
    "\n"
   ]
  },
  {
   "cell_type": "markdown",
   "id": "cfe40bda",
   "metadata": {},
   "source": [
    "top p=0.7\n",
    "\n",
    "According to Article 41.5(a) of the agreement, the CONTRACTOR's limit of liability for Third Party Liability Insurance is USD 10,000,000 per occurrence.\\n\\nAdditionally, according to Article 42.10, the total liability of either PARTY (i.e., the COMPANY or the CONTRACTOR) to the other PARTY arising under or in connection with the AGREEMENT shall be limited to the total liability cap set out in the FORM OF AGREEMENT, which is not specified in this text.\\n\\nHowever, it can be inferred from Article 42.11(a) that the maximum amount of consequential loss that the COMPANY INDEMNIFIED PARTIES may recover from the CONTRACTOR INDEMNIFIED PARTIES is USD 1,000,000 per occurrence"
   ]
  },
  {
   "cell_type": "markdown",
   "id": "863cca7b",
   "metadata": {},
   "source": [
    "default \n",
    "\n",
    "According to Article 41.5, the CONTRACTOR's Third Party Liability Insurance has a limit of not less than USD 10,000,000 per occurrence.\\n\\nAdditionally, according to Article 42.10(a), the total liability of either PARTY to the other PARTY arising under or in connection with the AGREEMENT shall be limited to the total liability cap set out in the FORM OF AGREEMENT.\\n\\nThe total liability cap is 100% of the AGREEMENT PRICE.\""
   ]
  },
  {
   "cell_type": "markdown",
   "id": "b30a8dd6",
   "metadata": {},
   "source": [
    "temperature=0   \n",
    "\n",
    "According to Article 41.5, the CONTRACTOR's limit of liability for Third Party Liability Insurance and Pollution Liability Insurance is USD 10,000,000 per occurrence.\\n\\nAdditionally, according to Article 42.10(a), the total liability of either PARTY to the other PARTY arising under or in connection with the AGREEMENT shall be limited to the total liability cap set out in the FORM OF AGREEMENT, which is not specified in this text."
   ]
  },
  {
   "cell_type": "markdown",
   "id": "5e8e287d",
   "metadata": {},
   "source": [
    "temperature =0 top_p=0.7\n",
    "\n",
    "Based on the provided text, it appears that there are several instances where the CONTRACTOR's liability is limited or capped. Here are some specific examples:\\n\\n1. Article 42.3: The CONTRACTOR shall indemnify the COMPANY INDEMNIFIED PARTIES up to a maximum of USD 1,000,000 per occurrence for losses arising out of or in connection with any claim by any PERSON against the COMPANY INDEMNIFIED PARTIES.\\n2. Article 42.12 (ii): The COMPANY shall indemnify the CONTRACTOR INDEMNIFIED PARTIES up to a maximum of USD 1,000,000 per occurrence for losses arising out of or in connection with any claim by any PERSON against the CONTRACTOR INDEMNIFIED PARTIES.\\n\\nIt appears that the liability cap is USD 1,000,000 per occurrence. However, it's worth noting that there may be other instances where the liability is limited or capped, and these examples are not exhaustive.\", \n"
   ]
  },
  {
   "cell_type": "markdown",
   "id": "efd9bd1c",
   "metadata": {},
   "source": [
    "temperature = 0  top_p=0.5\n",
    "\n",
    "\"According to Article 41.5, the CONTRACTOR's limit of liability for Third Party Liability Insurance and Pollution Liability Insurance is USD 10,000,000 per occurrence.\\n\\nAdditionally, according to Article 42.10(a), the total liability of either PARTY to the other PARTY arising under or in connection with the AGREEMENT shall be limited to the total liability cap set out in the FORM OF AGREEMENT, which is not specified in this document. However, it can be inferred that the total liability cap is 100% of the AGREEMENT PRICE, as mentioned in Article 42.10(a)"
   ]
  }
 ],
 "metadata": {
  "kernelspec": {
   "display_name": "Python 3 (ipykernel)",
   "language": "python",
   "name": "python3"
  },
  "language_info": {
   "codemirror_mode": {
    "name": "ipython",
    "version": 3
   },
   "file_extension": ".py",
   "mimetype": "text/x-python",
   "name": "python",
   "nbconvert_exporter": "python",
   "pygments_lexer": "ipython3",
   "version": "3.10.12"
  }
 },
 "nbformat": 4,
 "nbformat_minor": 5
}
