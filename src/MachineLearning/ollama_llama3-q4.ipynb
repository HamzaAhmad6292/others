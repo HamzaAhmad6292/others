{
 "cells": [
  {
   "cell_type": "code",
   "execution_count": 8,
   "id": "612b8189",
   "metadata": {},
   "outputs": [
    {
     "name": "stderr",
     "output_type": "stream",
     "text": [
      "/home/hp/.local/lib/python3.10/site-packages/huggingface_hub/file_download.py:1132: FutureWarning: `resume_download` is deprecated and will be removed in version 1.0.0. Downloads always resume when possible. If you want to force a new download, use `force_download=True`.\n",
      "  warnings.warn(\n"
     ]
    }
   ],
   "source": [
    "from langchain_chroma import Chroma\n",
    "from langchain_community.document_loaders import TextLoader\n",
    "from langchain_community.embeddings.sentence_transformer import (\n",
    "    SentenceTransformerEmbeddings,\n",
    ")\n",
    "\n",
    "model_name=\"BAAI/bge-large-en-v1.5\"\n",
    "model_kwargs = {\"device\": \"cpu\",\"trust_remote_code\":True}\n",
    "encode_kwargs = {\"normalize_embeddings\": True}\n",
    "\n",
    "\n",
    "# text_splitter = RecursiveCharacterTextSplitter(chunk_size=250,\n",
    "    #                                                    chunk_overlap=50)\n",
    "\n",
    "\n",
    "\n",
    "\n",
    "embedding_function = SentenceTransformerEmbeddings(\n",
    "model_name=model_name,\n",
    "model_kwargs=model_kwargs,\n",
    "encode_kwargs=encode_kwargs,\n",
    ")\n",
    "\n"
   ]
  },
  {
   "cell_type": "code",
   "execution_count": null,
   "id": "49faf585",
   "metadata": {},
   "outputs": [],
   "source": [
    "file_path = 'contract.txt'\n",
    "with open(file_path, 'r', encoding='utf-8') as file:\n",
    "    text = file.read()\n"
   ]
  },
  {
   "cell_type": "code",
   "execution_count": null,
   "id": "acf7114c",
   "metadata": {},
   "outputs": [],
   "source": [
    "from langchain.docstore.document import Document\n",
    "from langchain.text_splitter import RecursiveCharacterTextSplitter\n",
    "\n",
    "import os\n",
    "import time     \n",
    "def get_docs(text):\n",
    "    print(\"Executing chunker ....\")\n",
    "    docs = Document(page_content=text, metadata={\"source\": \"book\"})\n",
    "    doc = [docs]\n",
    "    text_splitter = RecursiveCharacterTextSplitter(\n",
    "        chunk_overlap=0,\n",
    "        chunk_size=1200,\n",
    "        separators=[\"*****\", \"\\n\\n\", \"\\n\", \"\\uff0e\", \"\\u3002\"]\n",
    "    )\n",
    "    return text_splitter.split_documents(doc)\n",
    "\n",
    "def initialize_dbs_for_documents(text, path):\n",
    "    if not os.path.exists(path):\n",
    "        print(\"if\")\n",
    "        db = Chroma.from_documents(get_docs(text), embedding_function, persist_directory=path)\n",
    "        time.sleep(8)\n",
    "        vectordb = Chroma(persist_directory=path, embedding_function=embedding_function)\n",
    "        return vectordb\n",
    "    else:\n",
    "        print(\"else\")\n",
    "        vectordb = Chroma(persist_directory=path, embedding_function=embedding_function)\n",
    "        return vectordb\n",
    "    \n",
    "\n",
    "vectorbb=initialize_dbs_for_documents(text,path=\"embed\")"
   ]
  },
  {
   "cell_type": "code",
   "execution_count": 9,
   "id": "fbbb6e7b",
   "metadata": {},
   "outputs": [
    {
     "data": {
      "text/plain": [
       "<langchain_chroma.vectorstores.Chroma at 0x7f8d02702200>"
      ]
     },
     "execution_count": 9,
     "metadata": {},
     "output_type": "execute_result"
    }
   ],
   "source": [
    "vectordb = Chroma(persist_directory=\"embed\",embedding_function=embedding_function)\n",
    "vectordb"
   ]
  },
  {
   "cell_type": "code",
   "execution_count": 3,
   "id": "027ac9dd",
   "metadata": {},
   "outputs": [],
   "source": [
    "from transformers import AutoTokenizer, AutoModelForCausalLM\n",
    "\n",
    "def check_token_limit(new_documents):\n",
    "  tokenizer = AutoTokenizer.from_pretrained(\"meta-llama/Meta-Llama-3-8B\")\n",
    "  tokens=tokenizer(new_documents)\n",
    "  n_tokens=len(tokens.input_ids)\n",
    "  return n_tokens"
   ]
  },
  {
   "cell_type": "code",
   "execution_count": 11,
   "id": "624bbe85",
   "metadata": {},
   "outputs": [],
   "source": [
    "k=100\n",
    "def search(prompt):\n",
    "  print(\"-----------\")\n",
    "  print(prompt)\n",
    "  docs = vectordb.similarity_search_with_score(query=prompt,k=k)\n",
    "  # print(\"Documents:\")\n",
    "  # print(len(docs))\n",
    "  # print(\"::Documents\")\n",
    "  new_documents=\" \"\n",
    "  for i in range(0,len(docs)):\n",
    "    temp_doc=docs[i][0].page_content\n",
    "    # print(\"Chunk : : \\n : \"+ temp_doc)\n",
    "    check_doc=new_documents+temp_doc\n",
    "    tokens=check_token_limit(check_doc)\n",
    "    if tokens>4000:\n",
    "      doc=temp_doc\n",
    "      for x in range(0,5):\n",
    "        doc= doc[:len(doc) // 2]\n",
    "        temp_tokens=check_token_limit(doc+new_documents)\n",
    "        if temp_tokens<=3950:\n",
    "          new_documents =new_documents+doc + \"\\n\\n--------------------\\n\\n\"\n",
    "          break\n",
    "\n",
    "\n",
    "      return new_documents\n",
    "    else:\n",
    "      new_documents=check_doc + \"\\n\\n-----------------\\n\\n\"\n",
    "\n",
    "  return new_documents"
   ]
  },
  {
   "cell_type": "code",
   "execution_count": 5,
   "id": "8f0fbcb6",
   "metadata": {},
   "outputs": [],
   "source": [
    "system_prompt=\"\"\"You are a knowledgeable and professional assistant tasked with providing detailed information about construction contract. Your responses should be concise, informative, and strictly adhere to the terms and conditions outlined in the provided contract details.\"\"\""
   ]
  },
  {
   "cell_type": "code",
   "execution_count": 6,
   "id": "93f59dcb-c588-41b8-a792-55d88ade739c",
   "metadata": {},
   "outputs": [],
   "source": [
    "from langchain_community.llms import Ollama\n",
    "from langchain_community.chat_models import ChatOllama\n",
    "from langchain_core.messages import SystemMessage, HumanMessage\n",
    "\n",
    "\n",
    "# llm = Ollama(model=\"llama3:8b-text-q4_K_M\")\n",
    " \n",
    "llm = ChatOllama(\n",
    "    model=\"llama3:8b-instruct-q4_K_M\",\n",
    "    n_ctx=8000,\n",
    "    temperature=0.0,\n",
    "    top_p=0.7,\n",
    "    \n",
    "    system_message=SystemMessage(content=system_prompt)\n",
    ")\n"
   ]
  },
  {
   "cell_type": "code",
   "execution_count": 13,
   "id": "1b413c58",
   "metadata": {},
   "outputs": [],
   "source": [
    "prompts = [\n",
    "    \"What is CONTRACTOR limit of liability and the liability cap?\",\n",
    "    \"Under what condition COMPANY can terminate the contract?\",\n",
    "    \"Can CONTRACTOR terminate the contract?\",\n",
    "    \"Can CONTRACTOR claim extension of time and additional cost on account of force majeure?\",\n",
    "    \"Is increase in quantity a COMPANY risk event or CONTRACTOR risk event?\",\n",
    "]\n"
   ]
  },
  {
   "cell_type": "markdown",
   "metadata": {},
   "source": []
  },
  {
   "cell_type": "code",
   "execution_count": null,
   "id": "4a9f3027",
   "metadata": {},
   "outputs": [],
   "source": [
    "new_documents=search(prompt[0])\n",
    "question = \" <Data>: \\n\" + new_documents + \"\\n\\n ------------------- \"+\" \\n\\n <Question>: \"+prompt[0]\n",
    "llm.invoke(question)"
   ]
  },
  {
   "cell_type": "code",
   "execution_count": 21,
   "id": "6b4263fb",
   "metadata": {},
   "outputs": [
    {
     "name": "stdout",
     "output_type": "stream",
     "text": [
      "-----------\n",
      "What is CONTRACTOR limit of liability and the liability cap?\n"
     ]
    },
    {
     "name": "stderr",
     "output_type": "stream",
     "text": [
      "Special tokens have been added in the vocabulary, make sure the associated word embeddings are fine-tuned or trained.\n",
      "Special tokens have been added in the vocabulary, make sure the associated word embeddings are fine-tuned or trained.\n",
      "Special tokens have been added in the vocabulary, make sure the associated word embeddings are fine-tuned or trained.\n",
      "Special tokens have been added in the vocabulary, make sure the associated word embeddings are fine-tuned or trained.\n",
      "Special tokens have been added in the vocabulary, make sure the associated word embeddings are fine-tuned or trained.\n",
      "Special tokens have been added in the vocabulary, make sure the associated word embeddings are fine-tuned or trained.\n",
      "Special tokens have been added in the vocabulary, make sure the associated word embeddings are fine-tuned or trained.\n",
      "Special tokens have been added in the vocabulary, make sure the associated word embeddings are fine-tuned or trained.\n",
      "Special tokens have been added in the vocabulary, make sure the associated word embeddings are fine-tuned or trained.\n",
      "Special tokens have been added in the vocabulary, make sure the associated word embeddings are fine-tuned or trained.\n",
      "Special tokens have been added in the vocabulary, make sure the associated word embeddings are fine-tuned or trained.\n",
      "Special tokens have been added in the vocabulary, make sure the associated word embeddings are fine-tuned or trained.\n",
      "Special tokens have been added in the vocabulary, make sure the associated word embeddings are fine-tuned or trained.\n",
      "Special tokens have been added in the vocabulary, make sure the associated word embeddings are fine-tuned or trained.\n",
      "Special tokens have been added in the vocabulary, make sure the associated word embeddings are fine-tuned or trained.\n",
      "Special tokens have been added in the vocabulary, make sure the associated word embeddings are fine-tuned or trained.\n",
      "Special tokens have been added in the vocabulary, make sure the associated word embeddings are fine-tuned or trained.\n",
      "Special tokens have been added in the vocabulary, make sure the associated word embeddings are fine-tuned or trained.\n",
      "Special tokens have been added in the vocabulary, make sure the associated word embeddings are fine-tuned or trained.\n",
      "Special tokens have been added in the vocabulary, make sure the associated word embeddings are fine-tuned or trained.\n",
      "Special tokens have been added in the vocabulary, make sure the associated word embeddings are fine-tuned or trained.\n"
     ]
    },
    {
     "data": {
      "text/plain": [
       "AIMessage(content='Based on the provided text, there is no specific mention of a \"CONTRACTOR limit of liability\" or a \"liability cap\". However, it can be inferred that the CONTRACTOR\\'s liability is limited in certain situations:\\n\\n1. Article 33.2(a) states that the CONTRACTOR shall rectify any loss or damage to the WORKS prior to issuance of the PROVISIONAL ACCEPTANCE CERTIFICATE at its sole cost and expense.\\n2. Article 42.4 Pollution from CONTRACTOR PROPERTY mentions that the CONTRACTOR shall indemnify and hold harmless the COMPANY INDEMNIFIED PARTIES from and against all losses, claims, costs, liabilities, damages, and expenses arising from or in connection with any pollution originating from the CONTRACTOR\\'s performance of the WORKS and/or the AGREEMENT.\\n3. Article 43.1 states that the CONTRACTOR shall not assign, novate, or otherwise transfer any of its rights, obligations, or interests under and in connection with the AGREEMENT without the prior written consent of the COMPANY.\\n\\nThese provisions suggest that the CONTRACTOR\\'s liability is limited to specific situations, such as rectifying loss or damage before issuance of the PROVISIONAL ACCEPTANCE CERTIFICATE, and may not be unlimited. However, a more detailed analysis of the entire agreement would be necessary to determine the exact scope of the CONTRACTOR\\'s liability and any potential limits on that liability.', response_metadata={'model': 'llama3:8b-instruct-q4_K_M', 'created_at': '2024-06-29T11:59:49.382506714Z', 'message': {'role': 'assistant', 'content': ''}, 'done': True, 'total_duration': 4811079733781, 'load_duration': 75200311817, 'prompt_eval_count': 1077, 'prompt_eval_duration': 475657569000, 'eval_count': 283, 'eval_duration': 4259468685000}, id='run-6a94e74d-84a9-4da8-8045-b02aa6d8419d-0')"
      ]
     },
     "execution_count": 21,
     "metadata": {},
     "output_type": "execute_result"
    }
   ],
   "source": [
    "new_documents=search(prompt[0])\n",
    "question = \"Carefully read this text to answer below question : \" + new_documents + \"    \\n\\n ------------------- \"+prompt[0]\n",
    "llm.invoke(question)\n"
   ]
  },
  {
   "cell_type": "code",
   "execution_count": null,
   "id": "348e418f",
   "metadata": {},
   "outputs": [],
   "source": [
    "new_documents=search(prompt[2])\n",
    "question = \"Carefully read this text to answer below question : \" + new_documents + \"    \\n\\n ------------------- \"+prompt[2]\n",
    "llm.invoke(question)  "
   ]
  },
  {
   "cell_type": "code",
   "execution_count": null,
   "id": "dd2d2e59",
   "metadata": {},
   "outputs": [],
   "source": [
    "new_documents=search(prompt[3])\n",
    "question = \"Carefully read this text to answer below question : \" + new_documents + \"    \\n\\n ------------------- \"+prompt[3]\n",
    "llm.invoke(question)  "
   ]
  },
  {
   "cell_type": "code",
   "execution_count": null,
   "id": "cfddbafd",
   "metadata": {},
   "outputs": [],
   "source": [
    "new_documents=search(prompt[4])\n",
    "question = \"Carefully read this text to answer below question : \" + new_documents + \"    \\n\\n ------------------- \"+prompt[4]\n",
    "llm.invoke(question)  "
   ]
  },
  {
   "cell_type": "markdown",
   "id": "f5143211",
   "metadata": {},
   "source": [
    "### Ollama using local tunned"
   ]
  },
  {
   "cell_type": "code",
   "execution_count": null,
   "id": "e7877152",
   "metadata": {},
   "outputs": [],
   "source": [
    "import requests\n",
    "import json\n",
    "for prompt in prompts:\n",
    " \n",
    " new_documents=search(prompt)\n",
    " question = \" <Data>: \\n\" + new_documents + \"\\n\\n ------------------- \"+\" \\n\\n <Question>: \"+prompt\n",
    " \n",
    " url = \"http://localhost:11434/api/generate\"\n",
    "\n",
    " payload = {\n",
    "    \"model\": \"llama3:8b-instruct-q4_K_M\",\n",
    "    \"options\": {\"num_ctx\": 8000,\"temperature\":0.0,\"top_p\":0.5},\n",
    "    \"system\":system_prompt,\n",
    "    \"prompt\": question,\n",
    "    \"stream\": False\n",
    " }\n",
    "\n",
    "# Send the POST request\n",
    " response = requests.post(url, data=json.dumps(payload), headers={\"Content-Type\": \"application/json\"})\n",
    "\n",
    "# Print the response\n",
    "\n",
    " if response.status_code == 200:\n",
    "    print(\"Response:\", response.json())\n",
    " else:\n",
    "    print(f\"Failed to get a response. Status code: {response.status_code}, Response: {response.text}\")\n"
   ]
  },
  {
   "cell_type": "markdown",
   "id": "cfe40bda",
   "metadata": {},
   "source": [
    "top p=0.7\n",
    "\n",
    "According to Article 41.5(a) of the agreement, the CONTRACTOR's limit of liability for Third Party Liability Insurance is USD 10,000,000 per occurrence.\\n\\nAdditionally, according to Article 42.10, the total liability of either PARTY (i.e., the COMPANY or the CONTRACTOR) to the other PARTY arising under or in connection with the AGREEMENT shall be limited to the total liability cap set out in the FORM OF AGREEMENT, which is not specified in this text.\\n\\nHowever, it can be inferred from Article 42.11(a) that the maximum amount of consequential loss that the COMPANY INDEMNIFIED PARTIES may recover from the CONTRACTOR INDEMNIFIED PARTIES is USD 1,000,000 per occurrence"
   ]
  },
  {
   "cell_type": "markdown",
   "id": "863cca7b",
   "metadata": {},
   "source": [
    "default \n",
    "\n",
    "According to Article 41.5, the CONTRACTOR's Third Party Liability Insurance has a limit of not less than USD 10,000,000 per occurrence.\\n\\nAdditionally, according to Article 42.10(a), the total liability of either PARTY to the other PARTY arising under or in connection with the AGREEMENT shall be limited to the total liability cap set out in the FORM OF AGREEMENT.\\n\\nThe total liability cap is 100% of the AGREEMENT PRICE.\""
   ]
  },
  {
   "cell_type": "markdown",
   "id": "b30a8dd6",
   "metadata": {},
   "source": [
    "temperature=0   \n",
    "\n",
    "According to Article 41.5, the CONTRACTOR's limit of liability for Third Party Liability Insurance and Pollution Liability Insurance is USD 10,000,000 per occurrence.\\n\\nAdditionally, according to Article 42.10(a), the total liability of either PARTY to the other PARTY arising under or in connection with the AGREEMENT shall be limited to the total liability cap set out in the FORM OF AGREEMENT, which is not specified in this text."
   ]
  },
  {
   "cell_type": "markdown",
   "id": "5e8e287d",
   "metadata": {},
   "source": [
    "temperature =0 top_p=0.7\n",
    "\n",
    "Based on the provided text, it appears that there are several instances where the CONTRACTOR's liability is limited or capped. Here are some specific examples:\\n\\n1. Article 42.3: The CONTRACTOR shall indemnify the COMPANY INDEMNIFIED PARTIES up to a maximum of USD 1,000,000 per occurrence for losses arising out of or in connection with any claim by any PERSON against the COMPANY INDEMNIFIED PARTIES.\\n2. Article 42.12 (ii): The COMPANY shall indemnify the CONTRACTOR INDEMNIFIED PARTIES up to a maximum of USD 1,000,000 per occurrence for losses arising out of or in connection with any claim by any PERSON against the CONTRACTOR INDEMNIFIED PARTIES.\\n\\nIt appears that the liability cap is USD 1,000,000 per occurrence. However, it's worth noting that there may be other instances where the liability is limited or capped, and these examples are not exhaustive.\", \n"
   ]
  },
  {
   "cell_type": "markdown",
   "id": "efd9bd1c",
   "metadata": {},
   "source": [
    "temperature = 0  top_p=0.5\n",
    "\n",
    "\"According to Article 41.5, the CONTRACTOR's limit of liability for Third Party Liability Insurance and Pollution Liability Insurance is USD 10,000,000 per occurrence.\\n\\nAdditionally, according to Article 42.10(a), the total liability of either PARTY to the other PARTY arising under or in connection with the AGREEMENT shall be limited to the total liability cap set out in the FORM OF AGREEMENT, which is not specified in this document. However, it can be inferred that the total liability cap is 100% of the AGREEMENT PRICE, as mentioned in Article 42.10(a)"
   ]
  }
 ],
 "metadata": {
  "kernelspec": {
   "display_name": "Python 3 (ipykernel)",
   "language": "python",
   "name": "python3"
  },
  "language_info": {
   "codemirror_mode": {
    "name": "ipython",
    "version": 3
   },
   "file_extension": ".py",
   "mimetype": "text/x-python",
   "name": "python",
   "nbconvert_exporter": "python",
   "pygments_lexer": "ipython3",
   "version": "3.10.12"
  }
 },
 "nbformat": 4,
 "nbformat_minor": 5
}
