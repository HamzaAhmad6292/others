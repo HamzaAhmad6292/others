{
  "cells": [
    {
      "cell_type": "code",
      "execution_count": 1,
      "metadata": {
        "id": "kQW_gGY7n-uN",
        "colab": {
          "base_uri": "https://localhost:8080/"
        },
        "outputId": "52dd1872-f742-41fe-8f7f-91b00db5ea56"
      },
      "outputs": [
        {
          "output_type": "stream",
          "name": "stdout",
          "text": [
            "  Building wheel for langdetect (setup.py) ... \u001b[?25l\u001b[?25hdone\n",
            "  Created wheel for langdetect: filename=langdetect-1.0.9-py3-none-any.whl size=993227 sha256=06fbd5b8738069cd95f7802025663751961fe68bcaeac3fd83678ea1ebad6245\n",
            "  Stored in directory: /root/.cache/pip/wheels/95/03/7d/59ea870c70ce4e5a370638b5462a7711ab78fba2f655d05106\n",
            "Successfully built langdetect\n",
            "Installing collected packages: filetype, rapidfuzz, python-magic, python-iso639, pypdf, ordered-set, langdetect, jsonpath-python, h11, emoji, backoff, requests-toolbelt, httpcore, deepdiff, httpx, unstructured-client, unstructured\n",
            "Successfully installed backoff-2.2.1 deepdiff-7.0.1 emoji-2.12.1 filetype-1.2.0 h11-0.14.0 httpcore-1.0.5 httpx-0.27.0 jsonpath-python-1.0.6 langdetect-1.0.9 ordered-set-4.1.0 pypdf-4.2.0 python-iso639-2024.4.27 python-magic-0.4.27 rapidfuzz-3.9.4 requests-toolbelt-1.0.0 unstructured-0.14.9 unstructured-client-0.23.8\n",
            "Requirement already satisfied: pillow in /usr/local/lib/python3.10/dist-packages (9.4.0)\n"
          ]
        }
      ],
      "source": [
        "!pip install langchain_community\n",
        "!pip install unstructured\n",
        "!pip install pillow"
      ]
    },
    {
      "cell_type": "code",
      "source": [
        "!pip install pdfminer.six\n",
        "!pip install pillow_heif\n",
        "!pip install unstructured_inference\n",
        "!pip install unstructured_pytesseract\n",
        "!pip install pytesseract\n",
        "!pip install tesseract\n",
        "!sudo apt-get install tesseract-ocr"
      ],
      "metadata": {
        "id": "D2TdcYfNY-8u",
        "colab": {
          "base_uri": "https://localhost:8080/"
        },
        "outputId": "98477674-30cd-4862-c112-fa78f9279d19"
      },
      "execution_count": 1,
      "outputs": [
        {
          "output_type": "stream",
          "name": "stdout",
          "text": [
            "Requirement already satisfied: pdfminer.six in /usr/local/lib/python3.10/dist-packages (20231228)\n",
            "Requirement already satisfied: charset-normalizer>=2.0.0 in /usr/local/lib/python3.10/dist-packages (from pdfminer.six) (3.3.2)\n",
            "Requirement already satisfied: cryptography>=36.0.0 in /usr/local/lib/python3.10/dist-packages (from pdfminer.six) (42.0.8)\n",
            "Requirement already satisfied: cffi>=1.12 in /usr/local/lib/python3.10/dist-packages (from cryptography>=36.0.0->pdfminer.six) (1.16.0)\n",
            "Requirement already satisfied: pycparser in /usr/local/lib/python3.10/dist-packages (from cffi>=1.12->cryptography>=36.0.0->pdfminer.six) (2.22)\n",
            "Requirement already satisfied: pillow_heif in /usr/local/lib/python3.10/dist-packages (0.17.0)\n",
            "Requirement already satisfied: pillow>=10.1.0 in /usr/local/lib/python3.10/dist-packages (from pillow_heif) (10.4.0)\n",
            "Collecting unstructured_inference\n",
            "  Using cached unstructured_inference-0.7.36-py3-none-any.whl (56 kB)\n",
            "Collecting layoutparser (from unstructured_inference)\n",
            "  Using cached layoutparser-0.3.4-py3-none-any.whl (19.2 MB)\n",
            "Collecting python-multipart (from unstructured_inference)\n",
            "  Using cached python_multipart-0.0.9-py3-none-any.whl (22 kB)\n",
            "Requirement already satisfied: huggingface-hub in /usr/local/lib/python3.10/dist-packages (from unstructured_inference) (0.23.4)\n",
            "Requirement already satisfied: opencv-python!=4.7.0.68 in /usr/local/lib/python3.10/dist-packages (from unstructured_inference) (4.8.0.76)\n",
            "Collecting onnx (from unstructured_inference)\n",
            "  Using cached onnx-1.16.1-cp310-cp310-manylinux_2_17_x86_64.manylinux2014_x86_64.whl (15.9 MB)\n",
            "Collecting onnxruntime>=1.17.0 (from unstructured_inference)\n",
            "  Using cached onnxruntime-1.18.1-cp310-cp310-manylinux_2_27_x86_64.manylinux_2_28_x86_64.whl (6.8 MB)\n",
            "Requirement already satisfied: matplotlib in /usr/local/lib/python3.10/dist-packages (from unstructured_inference) (3.7.1)\n",
            "Requirement already satisfied: torch in /usr/local/lib/python3.10/dist-packages (from unstructured_inference) (2.3.0+cu121)\n",
            "Collecting timm (from unstructured_inference)\n",
            "  Using cached timm-1.0.7-py3-none-any.whl (2.3 MB)\n",
            "Requirement already satisfied: transformers>=4.25.1 in /usr/local/lib/python3.10/dist-packages (from unstructured_inference) (4.41.2)\n",
            "Requirement already satisfied: rapidfuzz in /usr/local/lib/python3.10/dist-packages (from unstructured_inference) (3.9.4)\n",
            "Collecting coloredlogs (from onnxruntime>=1.17.0->unstructured_inference)\n",
            "  Using cached coloredlogs-15.0.1-py2.py3-none-any.whl (46 kB)\n",
            "Requirement already satisfied: flatbuffers in /usr/local/lib/python3.10/dist-packages (from onnxruntime>=1.17.0->unstructured_inference) (24.3.25)\n",
            "Requirement already satisfied: numpy<2.0,>=1.21.6 in /usr/local/lib/python3.10/dist-packages (from onnxruntime>=1.17.0->unstructured_inference) (1.25.2)\n",
            "Requirement already satisfied: packaging in /usr/local/lib/python3.10/dist-packages (from onnxruntime>=1.17.0->unstructured_inference) (24.1)\n",
            "Requirement already satisfied: protobuf in /usr/local/lib/python3.10/dist-packages (from onnxruntime>=1.17.0->unstructured_inference) (3.20.3)\n",
            "Requirement already satisfied: sympy in /usr/local/lib/python3.10/dist-packages (from onnxruntime>=1.17.0->unstructured_inference) (1.12.1)\n",
            "Requirement already satisfied: filelock in /usr/local/lib/python3.10/dist-packages (from transformers>=4.25.1->unstructured_inference) (3.15.4)\n",
            "Requirement already satisfied: pyyaml>=5.1 in /usr/local/lib/python3.10/dist-packages (from transformers>=4.25.1->unstructured_inference) (6.0.1)\n",
            "Requirement already satisfied: regex!=2019.12.17 in /usr/local/lib/python3.10/dist-packages (from transformers>=4.25.1->unstructured_inference) (2024.5.15)\n",
            "Requirement already satisfied: requests in /usr/local/lib/python3.10/dist-packages (from transformers>=4.25.1->unstructured_inference) (2.31.0)\n",
            "Requirement already satisfied: tokenizers<0.20,>=0.19 in /usr/local/lib/python3.10/dist-packages (from transformers>=4.25.1->unstructured_inference) (0.19.1)\n",
            "Requirement already satisfied: safetensors>=0.4.1 in /usr/local/lib/python3.10/dist-packages (from transformers>=4.25.1->unstructured_inference) (0.4.3)\n",
            "Requirement already satisfied: tqdm>=4.27 in /usr/local/lib/python3.10/dist-packages (from transformers>=4.25.1->unstructured_inference) (4.66.4)\n",
            "Requirement already satisfied: fsspec>=2023.5.0 in /usr/local/lib/python3.10/dist-packages (from huggingface-hub->unstructured_inference) (2023.6.0)\n",
            "Requirement already satisfied: typing-extensions>=3.7.4.3 in /usr/local/lib/python3.10/dist-packages (from huggingface-hub->unstructured_inference) (4.12.2)\n",
            "Requirement already satisfied: scipy in /usr/local/lib/python3.10/dist-packages (from layoutparser->unstructured_inference) (1.11.4)\n",
            "Requirement already satisfied: pandas in /usr/local/lib/python3.10/dist-packages (from layoutparser->unstructured_inference) (2.0.3)\n",
            "Requirement already satisfied: pillow in /usr/local/lib/python3.10/dist-packages (from layoutparser->unstructured_inference) (10.4.0)\n",
            "Collecting iopath (from layoutparser->unstructured_inference)\n",
            "  Downloading iopath-0.1.10.tar.gz (42 kB)\n",
            "\u001b[2K     \u001b[90m━━━━━━━━━━━━━━━━━━━━━━━━━━━━━━━━━━━━━━━━\u001b[0m \u001b[32m42.2/42.2 kB\u001b[0m \u001b[31m2.0 MB/s\u001b[0m eta \u001b[36m0:00:00\u001b[0m\n",
            "\u001b[?25h  Preparing metadata (setup.py) ... \u001b[?25l\u001b[?25hdone\n",
            "Collecting pdfplumber (from layoutparser->unstructured_inference)\n",
            "  Downloading pdfplumber-0.11.1-py3-none-any.whl (57 kB)\n",
            "\u001b[2K     \u001b[90m━━━━━━━━━━━━━━━━━━━━━━━━━━━━━━━━━━━━━━━━\u001b[0m \u001b[32m57.9/57.9 kB\u001b[0m \u001b[31m6.9 MB/s\u001b[0m eta \u001b[36m0:00:00\u001b[0m\n",
            "\u001b[?25hCollecting pdf2image (from layoutparser->unstructured_inference)\n",
            "  Downloading pdf2image-1.17.0-py3-none-any.whl (11 kB)\n",
            "Requirement already satisfied: contourpy>=1.0.1 in /usr/local/lib/python3.10/dist-packages (from matplotlib->unstructured_inference) (1.2.1)\n",
            "Requirement already satisfied: cycler>=0.10 in /usr/local/lib/python3.10/dist-packages (from matplotlib->unstructured_inference) (0.12.1)\n",
            "Requirement already satisfied: fonttools>=4.22.0 in /usr/local/lib/python3.10/dist-packages (from matplotlib->unstructured_inference) (4.53.0)\n",
            "Requirement already satisfied: kiwisolver>=1.0.1 in /usr/local/lib/python3.10/dist-packages (from matplotlib->unstructured_inference) (1.4.5)\n",
            "Requirement already satisfied: pyparsing>=2.3.1 in /usr/local/lib/python3.10/dist-packages (from matplotlib->unstructured_inference) (3.1.2)\n",
            "Requirement already satisfied: python-dateutil>=2.7 in /usr/local/lib/python3.10/dist-packages (from matplotlib->unstructured_inference) (2.8.2)\n",
            "Requirement already satisfied: torchvision in /usr/local/lib/python3.10/dist-packages (from timm->unstructured_inference) (0.18.0+cu121)\n",
            "Requirement already satisfied: networkx in /usr/local/lib/python3.10/dist-packages (from torch->unstructured_inference) (3.3)\n",
            "Requirement already satisfied: jinja2 in /usr/local/lib/python3.10/dist-packages (from torch->unstructured_inference) (3.1.4)\n",
            "Collecting nvidia-cuda-nvrtc-cu12==12.1.105 (from torch->unstructured_inference)\n",
            "  Using cached nvidia_cuda_nvrtc_cu12-12.1.105-py3-none-manylinux1_x86_64.whl (23.7 MB)\n",
            "Collecting nvidia-cuda-runtime-cu12==12.1.105 (from torch->unstructured_inference)\n",
            "  Using cached nvidia_cuda_runtime_cu12-12.1.105-py3-none-manylinux1_x86_64.whl (823 kB)\n",
            "Collecting nvidia-cuda-cupti-cu12==12.1.105 (from torch->unstructured_inference)\n",
            "  Using cached nvidia_cuda_cupti_cu12-12.1.105-py3-none-manylinux1_x86_64.whl (14.1 MB)\n",
            "Collecting nvidia-cudnn-cu12==8.9.2.26 (from torch->unstructured_inference)\n",
            "  Using cached nvidia_cudnn_cu12-8.9.2.26-py3-none-manylinux1_x86_64.whl (731.7 MB)\n",
            "Collecting nvidia-cublas-cu12==12.1.3.1 (from torch->unstructured_inference)\n",
            "  Using cached nvidia_cublas_cu12-12.1.3.1-py3-none-manylinux1_x86_64.whl (410.6 MB)\n",
            "Collecting nvidia-cufft-cu12==11.0.2.54 (from torch->unstructured_inference)\n",
            "  Using cached nvidia_cufft_cu12-11.0.2.54-py3-none-manylinux1_x86_64.whl (121.6 MB)\n",
            "Collecting nvidia-curand-cu12==10.3.2.106 (from torch->unstructured_inference)\n",
            "  Using cached nvidia_curand_cu12-10.3.2.106-py3-none-manylinux1_x86_64.whl (56.5 MB)\n",
            "Collecting nvidia-cusolver-cu12==11.4.5.107 (from torch->unstructured_inference)\n",
            "  Using cached nvidia_cusolver_cu12-11.4.5.107-py3-none-manylinux1_x86_64.whl (124.2 MB)\n",
            "Collecting nvidia-cusparse-cu12==12.1.0.106 (from torch->unstructured_inference)\n",
            "  Using cached nvidia_cusparse_cu12-12.1.0.106-py3-none-manylinux1_x86_64.whl (196.0 MB)\n",
            "Collecting nvidia-nccl-cu12==2.20.5 (from torch->unstructured_inference)\n",
            "  Using cached nvidia_nccl_cu12-2.20.5-py3-none-manylinux2014_x86_64.whl (176.2 MB)\n",
            "Collecting nvidia-nvtx-cu12==12.1.105 (from torch->unstructured_inference)\n",
            "  Using cached nvidia_nvtx_cu12-12.1.105-py3-none-manylinux1_x86_64.whl (99 kB)\n",
            "Requirement already satisfied: triton==2.3.0 in /usr/local/lib/python3.10/dist-packages (from torch->unstructured_inference) (2.3.0)\n",
            "Collecting nvidia-nvjitlink-cu12 (from nvidia-cusolver-cu12==11.4.5.107->torch->unstructured_inference)\n",
            "  Downloading nvidia_nvjitlink_cu12-12.5.82-py3-none-manylinux2014_x86_64.whl (21.3 MB)\n",
            "\u001b[2K     \u001b[90m━━━━━━━━━━━━━━━━━━━━━━━━━━━━━━━━━━━━━━━━\u001b[0m \u001b[32m21.3/21.3 MB\u001b[0m \u001b[31m48.6 MB/s\u001b[0m eta \u001b[36m0:00:00\u001b[0m\n",
            "\u001b[?25hRequirement already satisfied: six>=1.5 in /usr/local/lib/python3.10/dist-packages (from python-dateutil>=2.7->matplotlib->unstructured_inference) (1.16.0)\n",
            "Collecting humanfriendly>=9.1 (from coloredlogs->onnxruntime>=1.17.0->unstructured_inference)\n",
            "  Downloading humanfriendly-10.0-py2.py3-none-any.whl (86 kB)\n",
            "\u001b[2K     \u001b[90m━━━━━━━━━━━━━━━━━━━━━━━━━━━━━━━━━━━━━━━━\u001b[0m \u001b[32m86.8/86.8 kB\u001b[0m \u001b[31m12.9 MB/s\u001b[0m eta \u001b[36m0:00:00\u001b[0m\n",
            "\u001b[?25hCollecting portalocker (from iopath->layoutparser->unstructured_inference)\n",
            "  Downloading portalocker-2.10.0-py3-none-any.whl (18 kB)\n",
            "Requirement already satisfied: MarkupSafe>=2.0 in /usr/local/lib/python3.10/dist-packages (from jinja2->torch->unstructured_inference) (2.1.5)\n",
            "Requirement already satisfied: pytz>=2020.1 in /usr/local/lib/python3.10/dist-packages (from pandas->layoutparser->unstructured_inference) (2023.4)\n",
            "Requirement already satisfied: tzdata>=2022.1 in /usr/local/lib/python3.10/dist-packages (from pandas->layoutparser->unstructured_inference) (2024.1)\n",
            "Requirement already satisfied: pdfminer.six==20231228 in /usr/local/lib/python3.10/dist-packages (from pdfplumber->layoutparser->unstructured_inference) (20231228)\n",
            "Collecting pypdfium2>=4.18.0 (from pdfplumber->layoutparser->unstructured_inference)\n",
            "  Downloading pypdfium2-4.30.0-py3-none-manylinux_2_17_x86_64.manylinux2014_x86_64.whl (2.8 MB)\n",
            "\u001b[2K     \u001b[90m━━━━━━━━━━━━━━━━━━━━━━━━━━━━━━━━━━━━━━━━\u001b[0m \u001b[32m2.8/2.8 MB\u001b[0m \u001b[31m99.8 MB/s\u001b[0m eta \u001b[36m0:00:00\u001b[0m\n",
            "\u001b[?25hRequirement already satisfied: charset-normalizer>=2.0.0 in /usr/local/lib/python3.10/dist-packages (from pdfminer.six==20231228->pdfplumber->layoutparser->unstructured_inference) (3.3.2)\n",
            "Requirement already satisfied: cryptography>=36.0.0 in /usr/local/lib/python3.10/dist-packages (from pdfminer.six==20231228->pdfplumber->layoutparser->unstructured_inference) (42.0.8)\n",
            "Requirement already satisfied: idna<4,>=2.5 in /usr/local/lib/python3.10/dist-packages (from requests->transformers>=4.25.1->unstructured_inference) (3.7)\n",
            "Requirement already satisfied: urllib3<3,>=1.21.1 in /usr/local/lib/python3.10/dist-packages (from requests->transformers>=4.25.1->unstructured_inference) (2.0.7)\n",
            "Requirement already satisfied: certifi>=2017.4.17 in /usr/local/lib/python3.10/dist-packages (from requests->transformers>=4.25.1->unstructured_inference) (2024.6.2)\n",
            "Requirement already satisfied: mpmath<1.4.0,>=1.1.0 in /usr/local/lib/python3.10/dist-packages (from sympy->onnxruntime>=1.17.0->unstructured_inference) (1.3.0)\n",
            "Requirement already satisfied: cffi>=1.12 in /usr/local/lib/python3.10/dist-packages (from cryptography>=36.0.0->pdfminer.six==20231228->pdfplumber->layoutparser->unstructured_inference) (1.16.0)\n",
            "Requirement already satisfied: pycparser in /usr/local/lib/python3.10/dist-packages (from cffi>=1.12->cryptography>=36.0.0->pdfminer.six==20231228->pdfplumber->layoutparser->unstructured_inference) (2.22)\n",
            "Building wheels for collected packages: iopath\n",
            "  Building wheel for iopath (setup.py) ... \u001b[?25l\u001b[?25hdone\n",
            "  Created wheel for iopath: filename=iopath-0.1.10-py3-none-any.whl size=31532 sha256=163a2893c3b4071280ae5fff76997ce37ef9570f93a42cf0bf7c99ac224e7b0d\n",
            "  Stored in directory: /root/.cache/pip/wheels/9a/a3/b6/ac0fcd1b4ed5cfeb3db92e6a0e476cfd48ed0df92b91080c1d\n",
            "Successfully built iopath\n",
            "Installing collected packages: python-multipart, pypdfium2, portalocker, pdf2image, onnx, nvidia-nvtx-cu12, nvidia-nvjitlink-cu12, nvidia-nccl-cu12, nvidia-curand-cu12, nvidia-cufft-cu12, nvidia-cuda-runtime-cu12, nvidia-cuda-nvrtc-cu12, nvidia-cuda-cupti-cu12, nvidia-cublas-cu12, humanfriendly, nvidia-cusparse-cu12, nvidia-cudnn-cu12, iopath, coloredlogs, onnxruntime, nvidia-cusolver-cu12, pdfplumber, layoutparser, timm, unstructured_inference\n",
            "Successfully installed coloredlogs-15.0.1 humanfriendly-10.0 iopath-0.1.10 layoutparser-0.3.4 nvidia-cublas-cu12-12.1.3.1 nvidia-cuda-cupti-cu12-12.1.105 nvidia-cuda-nvrtc-cu12-12.1.105 nvidia-cuda-runtime-cu12-12.1.105 nvidia-cudnn-cu12-8.9.2.26 nvidia-cufft-cu12-11.0.2.54 nvidia-curand-cu12-10.3.2.106 nvidia-cusolver-cu12-11.4.5.107 nvidia-cusparse-cu12-12.1.0.106 nvidia-nccl-cu12-2.20.5 nvidia-nvjitlink-cu12-12.5.82 nvidia-nvtx-cu12-12.1.105 onnx-1.16.1 onnxruntime-1.18.1 pdf2image-1.17.0 pdfplumber-0.11.1 portalocker-2.10.0 pypdfium2-4.30.0 python-multipart-0.0.9 timm-1.0.7 unstructured_inference-0.7.36\n",
            "Requirement already satisfied: unstructured_pytesseract in /usr/local/lib/python3.10/dist-packages (0.3.12)\n",
            "Requirement already satisfied: packaging>=21.3 in /usr/local/lib/python3.10/dist-packages (from unstructured_pytesseract) (24.1)\n",
            "Requirement already satisfied: Pillow>=8.0.0 in /usr/local/lib/python3.10/dist-packages (from unstructured_pytesseract) (10.4.0)\n",
            "Collecting pytesseract\n",
            "  Downloading pytesseract-0.3.10-py3-none-any.whl (14 kB)\n",
            "Requirement already satisfied: packaging>=21.3 in /usr/local/lib/python3.10/dist-packages (from pytesseract) (24.1)\n",
            "Requirement already satisfied: Pillow>=8.0.0 in /usr/local/lib/python3.10/dist-packages (from pytesseract) (10.4.0)\n",
            "Installing collected packages: pytesseract\n",
            "Successfully installed pytesseract-0.3.10\n",
            "Collecting tesseract\n",
            "  Downloading tesseract-0.1.3.tar.gz (45.6 MB)\n",
            "\u001b[2K     \u001b[90m━━━━━━━━━━━━━━━━━━━━━━━━━━━━━━━━━━━━━━━━\u001b[0m \u001b[32m45.6/45.6 MB\u001b[0m \u001b[31m13.3 MB/s\u001b[0m eta \u001b[36m0:00:00\u001b[0m\n",
            "\u001b[?25h  Preparing metadata (setup.py) ... \u001b[?25l\u001b[?25hdone\n",
            "Building wheels for collected packages: tesseract\n",
            "  Building wheel for tesseract (setup.py) ... \u001b[?25l\u001b[?25hdone\n",
            "  Created wheel for tesseract: filename=tesseract-0.1.3-py3-none-any.whl size=45562552 sha256=6f7b8c12849e8d067582fd9957dfaba90c3770054081aac686aaba8b487e9947\n",
            "  Stored in directory: /root/.cache/pip/wheels/71/c9/aa/698c579693e83fdda9ad6d6f0d8f61ed986e27925ef576f109\n",
            "Successfully built tesseract\n",
            "Installing collected packages: tesseract\n",
            "Successfully installed tesseract-0.1.3\n",
            "Reading package lists... Done\n",
            "Building dependency tree... Done\n",
            "Reading state information... Done\n",
            "The following additional packages will be installed:\n",
            "  tesseract-ocr-eng tesseract-ocr-osd\n",
            "The following NEW packages will be installed:\n",
            "  tesseract-ocr tesseract-ocr-eng tesseract-ocr-osd\n",
            "0 upgraded, 3 newly installed, 0 to remove and 45 not upgraded.\n",
            "Need to get 4,816 kB of archives.\n",
            "After this operation, 15.6 MB of additional disk space will be used.\n",
            "Get:1 http://archive.ubuntu.com/ubuntu jammy/universe amd64 tesseract-ocr-eng all 1:4.00~git30-7274cfa-1.1 [1,591 kB]\n",
            "Get:2 http://archive.ubuntu.com/ubuntu jammy/universe amd64 tesseract-ocr-osd all 1:4.00~git30-7274cfa-1.1 [2,990 kB]\n",
            "Get:3 http://archive.ubuntu.com/ubuntu jammy/universe amd64 tesseract-ocr amd64 4.1.1-2.1build1 [236 kB]\n",
            "Fetched 4,816 kB in 2s (2,146 kB/s)\n",
            "debconf: unable to initialize frontend: Dialog\n",
            "debconf: (No usable dialog-like program is installed, so the dialog based frontend cannot be used. at /usr/share/perl5/Debconf/FrontEnd/Dialog.pm line 78, <> line 3.)\n",
            "debconf: falling back to frontend: Readline\n",
            "debconf: unable to initialize frontend: Readline\n",
            "debconf: (This frontend requires a controlling tty.)\n",
            "debconf: falling back to frontend: Teletype\n",
            "dpkg-preconfigure: unable to re-open stdin: \n",
            "Selecting previously unselected package tesseract-ocr-eng.\n",
            "(Reading database ... 121925 files and directories currently installed.)\n",
            "Preparing to unpack .../tesseract-ocr-eng_1%3a4.00~git30-7274cfa-1.1_all.deb ...\n",
            "Unpacking tesseract-ocr-eng (1:4.00~git30-7274cfa-1.1) ...\n",
            "Selecting previously unselected package tesseract-ocr-osd.\n",
            "Preparing to unpack .../tesseract-ocr-osd_1%3a4.00~git30-7274cfa-1.1_all.deb ...\n",
            "Unpacking tesseract-ocr-osd (1:4.00~git30-7274cfa-1.1) ...\n",
            "Selecting previously unselected package tesseract-ocr.\n",
            "Preparing to unpack .../tesseract-ocr_4.1.1-2.1build1_amd64.deb ...\n",
            "Unpacking tesseract-ocr (4.1.1-2.1build1) ...\n",
            "Setting up tesseract-ocr-eng (1:4.00~git30-7274cfa-1.1) ...\n",
            "Setting up tesseract-ocr-osd (1:4.00~git30-7274cfa-1.1) ...\n",
            "Setting up tesseract-ocr (4.1.1-2.1build1) ...\n",
            "Processing triggers for man-db (2.10.2-1) ...\n"
          ]
        }
      ]
    },
    {
      "cell_type": "code",
      "source": [
        "!pip install accelerate"
      ],
      "metadata": {
        "id": "mGi8S3fravfY",
        "colab": {
          "base_uri": "https://localhost:8080/"
        },
        "outputId": "9fde8176-a90c-4908-c6ce-12713b279a47"
      },
      "execution_count": 2,
      "outputs": [
        {
          "output_type": "stream",
          "name": "stdout",
          "text": [
            "Collecting accelerate\n",
            "  Downloading accelerate-0.32.1-py3-none-any.whl (314 kB)\n",
            "\u001b[?25l     \u001b[90m━━━━━━━━━━━━━━━━━━━━━━━━━━━━━━━━━━━━━━━━\u001b[0m \u001b[32m0.0/314.1 kB\u001b[0m \u001b[31m?\u001b[0m eta \u001b[36m-:--:--\u001b[0m\r\u001b[2K     \u001b[91m━━━━━━━━━━━━━━━━━━━━━━━━━━━━━━━━━━━━━━━\u001b[0m\u001b[90m╺\u001b[0m \u001b[32m307.2/314.1 kB\u001b[0m \u001b[31m11.1 MB/s\u001b[0m eta \u001b[36m0:00:01\u001b[0m\r\u001b[2K     \u001b[90m━━━━━━━━━━━━━━━━━━━━━━━━━━━━━━━━━━━━━━━━\u001b[0m \u001b[32m314.1/314.1 kB\u001b[0m \u001b[31m9.0 MB/s\u001b[0m eta \u001b[36m0:00:00\u001b[0m\n",
            "\u001b[?25hRequirement already satisfied: numpy<2.0.0,>=1.17 in /usr/local/lib/python3.10/dist-packages (from accelerate) (1.25.2)\n",
            "Requirement already satisfied: packaging>=20.0 in /usr/local/lib/python3.10/dist-packages (from accelerate) (24.1)\n",
            "Requirement already satisfied: psutil in /usr/local/lib/python3.10/dist-packages (from accelerate) (5.9.5)\n",
            "Requirement already satisfied: pyyaml in /usr/local/lib/python3.10/dist-packages (from accelerate) (6.0.1)\n",
            "Requirement already satisfied: torch>=1.10.0 in /usr/local/lib/python3.10/dist-packages (from accelerate) (2.3.0+cu121)\n",
            "Requirement already satisfied: huggingface-hub in /usr/local/lib/python3.10/dist-packages (from accelerate) (0.23.4)\n",
            "Requirement already satisfied: safetensors>=0.3.1 in /usr/local/lib/python3.10/dist-packages (from accelerate) (0.4.3)\n",
            "Requirement already satisfied: filelock in /usr/local/lib/python3.10/dist-packages (from torch>=1.10.0->accelerate) (3.15.4)\n",
            "Requirement already satisfied: typing-extensions>=4.8.0 in /usr/local/lib/python3.10/dist-packages (from torch>=1.10.0->accelerate) (4.12.2)\n",
            "Requirement already satisfied: sympy in /usr/local/lib/python3.10/dist-packages (from torch>=1.10.0->accelerate) (1.12.1)\n",
            "Requirement already satisfied: networkx in /usr/local/lib/python3.10/dist-packages (from torch>=1.10.0->accelerate) (3.3)\n",
            "Requirement already satisfied: jinja2 in /usr/local/lib/python3.10/dist-packages (from torch>=1.10.0->accelerate) (3.1.4)\n",
            "Requirement already satisfied: fsspec in /usr/local/lib/python3.10/dist-packages (from torch>=1.10.0->accelerate) (2023.6.0)\n",
            "Requirement already satisfied: nvidia-cuda-nvrtc-cu12==12.1.105 in /usr/local/lib/python3.10/dist-packages (from torch>=1.10.0->accelerate) (12.1.105)\n",
            "Requirement already satisfied: nvidia-cuda-runtime-cu12==12.1.105 in /usr/local/lib/python3.10/dist-packages (from torch>=1.10.0->accelerate) (12.1.105)\n",
            "Requirement already satisfied: nvidia-cuda-cupti-cu12==12.1.105 in /usr/local/lib/python3.10/dist-packages (from torch>=1.10.0->accelerate) (12.1.105)\n",
            "Requirement already satisfied: nvidia-cudnn-cu12==8.9.2.26 in /usr/local/lib/python3.10/dist-packages (from torch>=1.10.0->accelerate) (8.9.2.26)\n",
            "Requirement already satisfied: nvidia-cublas-cu12==12.1.3.1 in /usr/local/lib/python3.10/dist-packages (from torch>=1.10.0->accelerate) (12.1.3.1)\n",
            "Requirement already satisfied: nvidia-cufft-cu12==11.0.2.54 in /usr/local/lib/python3.10/dist-packages (from torch>=1.10.0->accelerate) (11.0.2.54)\n",
            "Requirement already satisfied: nvidia-curand-cu12==10.3.2.106 in /usr/local/lib/python3.10/dist-packages (from torch>=1.10.0->accelerate) (10.3.2.106)\n",
            "Requirement already satisfied: nvidia-cusolver-cu12==11.4.5.107 in /usr/local/lib/python3.10/dist-packages (from torch>=1.10.0->accelerate) (11.4.5.107)\n",
            "Requirement already satisfied: nvidia-cusparse-cu12==12.1.0.106 in /usr/local/lib/python3.10/dist-packages (from torch>=1.10.0->accelerate) (12.1.0.106)\n",
            "Requirement already satisfied: nvidia-nccl-cu12==2.20.5 in /usr/local/lib/python3.10/dist-packages (from torch>=1.10.0->accelerate) (2.20.5)\n",
            "Requirement already satisfied: nvidia-nvtx-cu12==12.1.105 in /usr/local/lib/python3.10/dist-packages (from torch>=1.10.0->accelerate) (12.1.105)\n",
            "Requirement already satisfied: triton==2.3.0 in /usr/local/lib/python3.10/dist-packages (from torch>=1.10.0->accelerate) (2.3.0)\n",
            "Requirement already satisfied: nvidia-nvjitlink-cu12 in /usr/local/lib/python3.10/dist-packages (from nvidia-cusolver-cu12==11.4.5.107->torch>=1.10.0->accelerate) (12.5.82)\n",
            "Requirement already satisfied: requests in /usr/local/lib/python3.10/dist-packages (from huggingface-hub->accelerate) (2.31.0)\n",
            "Requirement already satisfied: tqdm>=4.42.1 in /usr/local/lib/python3.10/dist-packages (from huggingface-hub->accelerate) (4.66.4)\n",
            "Requirement already satisfied: MarkupSafe>=2.0 in /usr/local/lib/python3.10/dist-packages (from jinja2->torch>=1.10.0->accelerate) (2.1.5)\n",
            "Requirement already satisfied: charset-normalizer<4,>=2 in /usr/local/lib/python3.10/dist-packages (from requests->huggingface-hub->accelerate) (3.3.2)\n",
            "Requirement already satisfied: idna<4,>=2.5 in /usr/local/lib/python3.10/dist-packages (from requests->huggingface-hub->accelerate) (3.7)\n",
            "Requirement already satisfied: urllib3<3,>=1.21.1 in /usr/local/lib/python3.10/dist-packages (from requests->huggingface-hub->accelerate) (2.0.7)\n",
            "Requirement already satisfied: certifi>=2017.4.17 in /usr/local/lib/python3.10/dist-packages (from requests->huggingface-hub->accelerate) (2024.6.2)\n",
            "Requirement already satisfied: mpmath<1.4.0,>=1.1.0 in /usr/local/lib/python3.10/dist-packages (from sympy->torch>=1.10.0->accelerate) (1.3.0)\n",
            "Installing collected packages: accelerate\n",
            "Successfully installed accelerate-0.32.1\n"
          ]
        }
      ]
    },
    {
      "cell_type": "code",
      "execution_count": 1,
      "metadata": {
        "id": "wVL1Afz5n9qf",
        "colab": {
          "base_uri": "https://localhost:8080/"
        },
        "outputId": "50f2716c-94fb-4fd5-9915-e7389a79d047"
      },
      "outputs": [
        {
          "output_type": "stream",
          "name": "stdout",
          "text": [
            "Requirement already satisfied: pdf2image in /usr/local/lib/python3.10/dist-packages (1.17.0)\n",
            "Requirement already satisfied: pillow in /usr/local/lib/python3.10/dist-packages (from pdf2image) (10.4.0)\n",
            "Reading package lists... Done\n",
            "Building dependency tree... Done\n",
            "Reading state information... Done\n",
            "The following NEW packages will be installed:\n",
            "  poppler-utils\n",
            "0 upgraded, 1 newly installed, 0 to remove and 45 not upgraded.\n",
            "Need to get 186 kB of archives.\n",
            "After this operation, 696 kB of additional disk space will be used.\n",
            "Get:1 http://archive.ubuntu.com/ubuntu jammy-updates/main amd64 poppler-utils amd64 22.02.0-2ubuntu0.4 [186 kB]\n",
            "Fetched 186 kB in 1s (142 kB/s)\n",
            "debconf: unable to initialize frontend: Dialog\n",
            "debconf: (No usable dialog-like program is installed, so the dialog based frontend cannot be used. at /usr/share/perl5/Debconf/FrontEnd/Dialog.pm line 78, <> line 1.)\n",
            "debconf: falling back to frontend: Readline\n",
            "debconf: unable to initialize frontend: Readline\n",
            "debconf: (This frontend requires a controlling tty.)\n",
            "debconf: falling back to frontend: Teletype\n",
            "dpkg-preconfigure: unable to re-open stdin: \n",
            "Selecting previously unselected package poppler-utils.\n",
            "(Reading database ... 121972 files and directories currently installed.)\n",
            "Preparing to unpack .../poppler-utils_22.02.0-2ubuntu0.4_amd64.deb ...\n",
            "Unpacking poppler-utils (22.02.0-2ubuntu0.4) ...\n",
            "Setting up poppler-utils (22.02.0-2ubuntu0.4) ...\n",
            "Processing triggers for man-db (2.10.2-1) ...\n"
          ]
        }
      ],
      "source": [
        "!pip install pdf2image\n",
        "!sudo apt-get install poppler-utils"
      ]
    },
    {
      "cell_type": "markdown",
      "source": [
        "# **For Docx**\n"
      ],
      "metadata": {
        "id": "dDOz3j017Exu"
      }
    },
    {
      "cell_type": "code",
      "source": [
        "!pip install python-docx"
      ],
      "metadata": {
        "colab": {
          "base_uri": "https://localhost:8080/"
        },
        "id": "lCGAR2Jk7EFE",
        "outputId": "cb529bd7-4340-4363-d568-dce8cd086f9c"
      },
      "execution_count": 2,
      "outputs": [
        {
          "output_type": "stream",
          "name": "stdout",
          "text": [
            "Collecting python-docx\n",
            "  Downloading python_docx-1.1.2-py3-none-any.whl (244 kB)\n",
            "\u001b[2K     \u001b[90m━━━━━━━━━━━━━━━━━━━━━━━━━━━━━━━━━━━━━━━━\u001b[0m \u001b[32m244.3/244.3 kB\u001b[0m \u001b[31m4.9 MB/s\u001b[0m eta \u001b[36m0:00:00\u001b[0m\n",
            "\u001b[?25hRequirement already satisfied: lxml>=3.1.0 in /usr/local/lib/python3.10/dist-packages (from python-docx) (4.9.4)\n",
            "Requirement already satisfied: typing-extensions>=4.9.0 in /usr/local/lib/python3.10/dist-packages (from python-docx) (4.12.2)\n",
            "Installing collected packages: python-docx\n",
            "Successfully installed python-docx-1.1.2\n"
          ]
        }
      ]
    },
    {
      "cell_type": "code",
      "source": [
        "from docx import Document\n",
        "\n",
        "\n",
        "document1=\"306 - Technical Services Agreement Linde\"\n",
        "document2=\"505C-EPC Agreement _20220930 Highlighted.docx\"\n",
        "\n",
        "def read_docx(file_path):\n",
        "    doc = Document(file_path)\n",
        "    full_text = []\n",
        "    for para in doc.paragraphs:\n",
        "        full_text.append(para.text)\n",
        "    return '\\n'.join(full_text)\n",
        "\n",
        "file_path1=\"306 - Technical Services Agreement Linde.docx\"\n",
        "text1 = read_docx(file_path1)\n",
        "\n",
        "file_path2=\"505C-EPC Agreement _20220930 Highlighted.docx\"\n",
        "text2 = read_docx(file_path2)\n",
        "\n"
      ],
      "metadata": {
        "id": "0ECugCjD7UT6"
      },
      "execution_count": 1,
      "outputs": []
    },
    {
      "cell_type": "code",
      "execution_count": null,
      "metadata": {
        "id": "JVa1r7I_oBU2",
        "colab": {
          "base_uri": "https://localhost:8080/"
        },
        "outputId": "6ec30308-a09d-45a0-a2ca-746676856126"
      },
      "outputs": [
        {
          "output_type": "stream",
          "name": "stdout",
          "text": [
            "PDF pages have been converted and saved in 'output_images1'\n"
          ]
        }
      ],
      "source": [
        "from pdf2image import convert_from_path\n",
        "import os\n",
        "\n",
        "# Define the path to the PDF file and the output directory\n",
        "pdf_path = 'book1.pdf'\n",
        "output_dir = 'output_images1'\n",
        "\n",
        "# Create the output directory if it doesn't exist\n",
        "if not os.path.exists(output_dir):\n",
        "    os.makedirs(output_dir)\n",
        "\n",
        "# Convert PDF pages to images\n",
        "images = convert_from_path(pdf_path)\n",
        "\n",
        "# Save each image in the output directory\n",
        "for i, image in enumerate(images):\n",
        "    image_path = os.path.join(output_dir, f'page_{i + 1}.png')\n",
        "    image.save(image_path, 'PNG')\n",
        "\n",
        "print(f\"PDF pages have been converted and saved in '{output_dir}'\")\n",
        "\n",
        "image_paths1 = [os.path.join(output_dir, f'page_{i + 1}.png') for i in range(len(images))]"
      ]
    },
    {
      "cell_type": "code",
      "source": [
        "from pdf2image import convert_from_path\n",
        "import os\n",
        "\n",
        "# Define the path to the PDF file and the output directory\n",
        "pdf_path = 'book2.pdf'\n",
        "output_dir = 'output_images2'\n",
        "\n",
        "\n",
        "# Create the output directory if it doesn't exist\n",
        "if not os.path.exists(output_dir):\n",
        "    os.makedirs(output_dir)\n",
        "\n",
        "# Convert PDF pages to images\n",
        "images = convert_from_path(pdf_path)\n",
        "\n",
        "# Save each image in the output directory\n",
        "for i, image in enumerate(images):\n",
        "    image_path = os.path.join(output_dir, f'page_{i + 1}.png')\n",
        "    image.save(image_path, 'PNG')\n",
        "\n",
        "print(f\"PDF pages have been converted and saved in '{output_dir}'\")\n",
        "\n",
        "\n",
        "image_paths2 = [os.path.join(output_dir, f'page_{i + 1}.png') for i in range(len(images))]"
      ],
      "metadata": {
        "id": "3joQvXvhC9Tm",
        "colab": {
          "base_uri": "https://localhost:8080/"
        },
        "outputId": "49136063-8348-4bfa-cc2d-68a6d8475a70"
      },
      "execution_count": null,
      "outputs": [
        {
          "output_type": "stream",
          "name": "stdout",
          "text": [
            "PDF pages have been converted and saved in 'output_images2'\n"
          ]
        }
      ]
    },
    {
      "cell_type": "code",
      "source": [
        "image_paths1.remove(\"output_images1/page_2.png\")\n",
        "image_paths2.remove(\"output_images2/page_3.png\")\n",
        "image_paths2.remove(\"output_images2/page_4.png\")"
      ],
      "metadata": {
        "id": "BVaOXxnlbpyZ"
      },
      "execution_count": null,
      "outputs": []
    },
    {
      "cell_type": "code",
      "source": [
        "image_paths1"
      ],
      "metadata": {
        "colab": {
          "base_uri": "https://localhost:8080/"
        },
        "id": "ZRShxjSmersL",
        "outputId": "78092eaf-60e5-476c-af2d-5a993e8d3004"
      },
      "execution_count": null,
      "outputs": [
        {
          "output_type": "execute_result",
          "data": {
            "text/plain": [
              "['output_images1/page_1.png', 'output_images1/page_2.png']"
            ]
          },
          "metadata": {},
          "execution_count": 8
        }
      ]
    },
    {
      "cell_type": "code",
      "execution_count": null,
      "metadata": {
        "id": "1wf12sa5bcWl",
        "colab": {
          "base_uri": "https://localhost:8080/",
          "height": 136,
          "referenced_widgets": [
            "bc3fc8fbcc9443048b20b9320f85edef",
            "481b7051cf2f4fa6bdfeadbfb8e6b9f8",
            "cf6ddf5f2d5d412a8f9bdeb13063a667",
            "08994b572a974bc189ef9a23eb14c2c7",
            "0209f96515054bf3947f3c3dbc79ed3c",
            "5b6d6d190a0343bb92cba8b4d79239f0",
            "b2c64cb3e0e64074b1dd80c561ad8f2d",
            "70503a86514542af86b7a3bad6fa61d8",
            "b71326d35cda4899977af54a0fa360a9",
            "3a75ea9467ef4dcda454d1c67a0e9f44",
            "686531d80fd4409bb87d4ecf629c3f18"
          ]
        },
        "outputId": "05f02d16-1679-4e46-c7d9-6f2a041f198d"
      },
      "outputs": [
        {
          "output_type": "display_data",
          "data": {
            "text/plain": [
              "yolox_l0.05.onnx:   0%|          | 0.00/217M [00:00<?, ?B/s]"
            ],
            "application/vnd.jupyter.widget-view+json": {
              "version_major": 2,
              "version_minor": 0,
              "model_id": "bc3fc8fbcc9443048b20b9320f85edef"
            }
          },
          "metadata": {}
        },
        {
          "output_type": "stream",
          "name": "stderr",
          "text": [
            "[nltk_data] Downloading package punkt to /root/nltk_data...\n",
            "[nltk_data]   Unzipping tokenizers/punkt.zip.\n",
            "[nltk_data] Downloading package averaged_perceptron_tagger to\n",
            "[nltk_data]     /root/nltk_data...\n",
            "[nltk_data]   Unzipping taggers/averaged_perceptron_tagger.zip.\n"
          ]
        }
      ],
      "source": [
        "from langchain_community.document_loaders import UnstructuredImageLoader\n",
        "from pathlib import Path\n",
        "\n",
        "# Set the folder path where the images are located\n",
        "folder_path = \"output_images1\"\n",
        "\n",
        "# Create a list to store the text from all the images\n",
        "\n",
        "text1=\" \"\n",
        "\n",
        "# Loop through all the files in the folder\n",
        "for image in image_paths1:\n",
        "    # Check if the file is an image\n",
        "    loader = UnstructuredImageLoader(image)\n",
        "\n",
        "    # Load the image and extract the text\n",
        "    doc1 = loader.load()\n",
        "\n",
        "\n",
        "    text1 = text1+doc1[0].page_content\n",
        "\n",
        "    # Add the text to the list\n",
        "\n",
        "#DOC2\n",
        "\n",
        "folder_path = \"output_images2\"\n",
        "\n",
        "# Create a list to store the text from all the images\n",
        "\n",
        "text2=\" \"\n",
        "\n",
        "# Loop through all the files in the folder\n",
        "for image in image_paths2:\n",
        "    # Check if the file is an image\n",
        "    loader = UnstructuredImageLoader(image)\n",
        "\n",
        "    # Load the image and extract the text\n",
        "    doc2 = loader.load()\n",
        "\n",
        "\n",
        "    text2 = text2+doc2[0].page_content\n",
        "\n",
        "    # Add the text to the list\n",
        "\n"
      ]
    },
    {
      "cell_type": "code",
      "execution_count": null,
      "metadata": {
        "id": "kR2MezL715h_"
      },
      "outputs": [],
      "source": [
        "!pip install langchain-chroma"
      ]
    },
    {
      "cell_type": "code",
      "execution_count": 2,
      "metadata": {
        "id": "Xx8P5Ot11SXU"
      },
      "outputs": [],
      "source": [
        "#Text Splitter and Embeddings\n",
        "from langchain_chroma import Chroma\n",
        "from langchain_community.document_loaders import TextLoader\n",
        "from langchain_community.embeddings.sentence_transformer import (\n",
        "    SentenceTransformerEmbeddings,\n",
        ")\n",
        "from langchain_community.document_loaders.csv_loader import CSVLoader\n",
        "from langchain_text_splitters import RecursiveCharacterTextSplitter\n",
        "import re\n",
        "import langchain\n",
        "\n",
        "def text_splitter_And_Similarity_Search(documents,path):\n",
        "\n",
        "\n",
        "\n",
        "    model_name=\"BAAI/bge-large-en-v1.5\"\n",
        "    model_kwargs = {\"device\": \"cuda\",\"trust_remote_code\":True}\n",
        "    encode_kwargs = {\"normalize_embeddings\": True}\n",
        "\n",
        "\n",
        "\n",
        "    # text_splitter = RecursiveCharacterTextSplitter(chunk_size=250,chunk_overlap=50)\n",
        "\n",
        "\n",
        "\n",
        "\n",
        "    embedding_function = SentenceTransformerEmbeddings(\n",
        "    model_name=model_name,\n",
        "    model_kwargs=model_kwargs,\n",
        "    encode_kwargs=encode_kwargs,\n",
        "    )\n",
        "\n",
        "    db = Chroma.from_documents(documents, embedding_function,persist_directory=path )\n",
        "\n",
        "\n",
        "    # embedding_function = SentenceTransformerEmbeddings(model_name=\"thenlper/gte-base\")\n",
        "    # db = Chroma.from_documents(documents, embedding_function )\n",
        "\n",
        "    return db,\n",
        "\n",
        "\n",
        "\n",
        "\n",
        "\n"
      ]
    },
    {
      "cell_type": "code",
      "execution_count": null,
      "metadata": {
        "id": "pNRSvbRj1VeH",
        "colab": {
          "base_uri": "https://localhost:8080/"
        },
        "outputId": "349bb5c5-c09b-4e0d-ae46-8bb5f3e0e521"
      },
      "outputs": [
        {
          "output_type": "stream",
          "name": "stdout",
          "text": [
            "Mounted at /content/drive\n"
          ]
        }
      ],
      "source": [
        "from google.colab import drive\n",
        "drive.mount('/content/drive')"
      ]
    },
    {
      "cell_type": "code",
      "execution_count": 6,
      "metadata": {
        "id": "UUTpnVU61X-g",
        "colab": {
          "base_uri": "https://localhost:8080/"
        },
        "outputId": "4eb5f609-ed90-45f9-8e95-814e024e5d3d"
      },
      "outputs": [
        {
          "output_type": "stream",
          "name": "stdout",
          "text": [
            "Collecting sentence-transformers\n",
            "  Downloading sentence_transformers-3.0.1-py3-none-any.whl (227 kB)\n",
            "\u001b[2K     \u001b[90m━━━━━━━━━━━━━━━━━━━━━━━━━━━━━━━━━━━━━━━━\u001b[0m \u001b[32m227.1/227.1 kB\u001b[0m \u001b[31m1.9 MB/s\u001b[0m eta \u001b[36m0:00:00\u001b[0m\n",
            "\u001b[?25hRequirement already satisfied: transformers<5.0.0,>=4.34.0 in /usr/local/lib/python3.10/dist-packages (from sentence-transformers) (4.41.2)\n",
            "Requirement already satisfied: tqdm in /usr/local/lib/python3.10/dist-packages (from sentence-transformers) (4.66.4)\n",
            "Requirement already satisfied: torch>=1.11.0 in /usr/local/lib/python3.10/dist-packages (from sentence-transformers) (2.3.0+cu121)\n",
            "Requirement already satisfied: numpy in /usr/local/lib/python3.10/dist-packages (from sentence-transformers) (1.25.2)\n",
            "Requirement already satisfied: scikit-learn in /usr/local/lib/python3.10/dist-packages (from sentence-transformers) (1.2.2)\n",
            "Requirement already satisfied: scipy in /usr/local/lib/python3.10/dist-packages (from sentence-transformers) (1.11.4)\n",
            "Requirement already satisfied: huggingface-hub>=0.15.1 in /usr/local/lib/python3.10/dist-packages (from sentence-transformers) (0.23.4)\n",
            "Requirement already satisfied: Pillow in /usr/local/lib/python3.10/dist-packages (from sentence-transformers) (10.4.0)\n",
            "Requirement already satisfied: filelock in /usr/local/lib/python3.10/dist-packages (from huggingface-hub>=0.15.1->sentence-transformers) (3.15.4)\n",
            "Requirement already satisfied: fsspec>=2023.5.0 in /usr/local/lib/python3.10/dist-packages (from huggingface-hub>=0.15.1->sentence-transformers) (2023.6.0)\n",
            "Requirement already satisfied: packaging>=20.9 in /usr/local/lib/python3.10/dist-packages (from huggingface-hub>=0.15.1->sentence-transformers) (24.1)\n",
            "Requirement already satisfied: pyyaml>=5.1 in /usr/local/lib/python3.10/dist-packages (from huggingface-hub>=0.15.1->sentence-transformers) (6.0.1)\n",
            "Requirement already satisfied: requests in /usr/local/lib/python3.10/dist-packages (from huggingface-hub>=0.15.1->sentence-transformers) (2.31.0)\n",
            "Requirement already satisfied: typing-extensions>=3.7.4.3 in /usr/local/lib/python3.10/dist-packages (from huggingface-hub>=0.15.1->sentence-transformers) (4.12.2)\n",
            "Requirement already satisfied: sympy in /usr/local/lib/python3.10/dist-packages (from torch>=1.11.0->sentence-transformers) (1.12.1)\n",
            "Requirement already satisfied: networkx in /usr/local/lib/python3.10/dist-packages (from torch>=1.11.0->sentence-transformers) (3.3)\n",
            "Requirement already satisfied: jinja2 in /usr/local/lib/python3.10/dist-packages (from torch>=1.11.0->sentence-transformers) (3.1.4)\n",
            "Requirement already satisfied: nvidia-cuda-nvrtc-cu12==12.1.105 in /usr/local/lib/python3.10/dist-packages (from torch>=1.11.0->sentence-transformers) (12.1.105)\n",
            "Requirement already satisfied: nvidia-cuda-runtime-cu12==12.1.105 in /usr/local/lib/python3.10/dist-packages (from torch>=1.11.0->sentence-transformers) (12.1.105)\n",
            "Requirement already satisfied: nvidia-cuda-cupti-cu12==12.1.105 in /usr/local/lib/python3.10/dist-packages (from torch>=1.11.0->sentence-transformers) (12.1.105)\n",
            "Requirement already satisfied: nvidia-cudnn-cu12==8.9.2.26 in /usr/local/lib/python3.10/dist-packages (from torch>=1.11.0->sentence-transformers) (8.9.2.26)\n",
            "Requirement already satisfied: nvidia-cublas-cu12==12.1.3.1 in /usr/local/lib/python3.10/dist-packages (from torch>=1.11.0->sentence-transformers) (12.1.3.1)\n",
            "Requirement already satisfied: nvidia-cufft-cu12==11.0.2.54 in /usr/local/lib/python3.10/dist-packages (from torch>=1.11.0->sentence-transformers) (11.0.2.54)\n",
            "Requirement already satisfied: nvidia-curand-cu12==10.3.2.106 in /usr/local/lib/python3.10/dist-packages (from torch>=1.11.0->sentence-transformers) (10.3.2.106)\n",
            "Requirement already satisfied: nvidia-cusolver-cu12==11.4.5.107 in /usr/local/lib/python3.10/dist-packages (from torch>=1.11.0->sentence-transformers) (11.4.5.107)\n",
            "Requirement already satisfied: nvidia-cusparse-cu12==12.1.0.106 in /usr/local/lib/python3.10/dist-packages (from torch>=1.11.0->sentence-transformers) (12.1.0.106)\n",
            "Requirement already satisfied: nvidia-nccl-cu12==2.20.5 in /usr/local/lib/python3.10/dist-packages (from torch>=1.11.0->sentence-transformers) (2.20.5)\n",
            "Requirement already satisfied: nvidia-nvtx-cu12==12.1.105 in /usr/local/lib/python3.10/dist-packages (from torch>=1.11.0->sentence-transformers) (12.1.105)\n",
            "Requirement already satisfied: triton==2.3.0 in /usr/local/lib/python3.10/dist-packages (from torch>=1.11.0->sentence-transformers) (2.3.0)\n",
            "Requirement already satisfied: nvidia-nvjitlink-cu12 in /usr/local/lib/python3.10/dist-packages (from nvidia-cusolver-cu12==11.4.5.107->torch>=1.11.0->sentence-transformers) (12.5.82)\n",
            "Requirement already satisfied: regex!=2019.12.17 in /usr/local/lib/python3.10/dist-packages (from transformers<5.0.0,>=4.34.0->sentence-transformers) (2024.5.15)\n",
            "Requirement already satisfied: tokenizers<0.20,>=0.19 in /usr/local/lib/python3.10/dist-packages (from transformers<5.0.0,>=4.34.0->sentence-transformers) (0.19.1)\n",
            "Requirement already satisfied: safetensors>=0.4.1 in /usr/local/lib/python3.10/dist-packages (from transformers<5.0.0,>=4.34.0->sentence-transformers) (0.4.3)\n",
            "Requirement already satisfied: joblib>=1.1.1 in /usr/local/lib/python3.10/dist-packages (from scikit-learn->sentence-transformers) (1.4.2)\n",
            "Requirement already satisfied: threadpoolctl>=2.0.0 in /usr/local/lib/python3.10/dist-packages (from scikit-learn->sentence-transformers) (3.5.0)\n",
            "Requirement already satisfied: MarkupSafe>=2.0 in /usr/local/lib/python3.10/dist-packages (from jinja2->torch>=1.11.0->sentence-transformers) (2.1.5)\n",
            "Requirement already satisfied: charset-normalizer<4,>=2 in /usr/local/lib/python3.10/dist-packages (from requests->huggingface-hub>=0.15.1->sentence-transformers) (3.3.2)\n",
            "Requirement already satisfied: idna<4,>=2.5 in /usr/local/lib/python3.10/dist-packages (from requests->huggingface-hub>=0.15.1->sentence-transformers) (3.7)\n",
            "Requirement already satisfied: urllib3<3,>=1.21.1 in /usr/local/lib/python3.10/dist-packages (from requests->huggingface-hub>=0.15.1->sentence-transformers) (2.0.7)\n",
            "Requirement already satisfied: certifi>=2017.4.17 in /usr/local/lib/python3.10/dist-packages (from requests->huggingface-hub>=0.15.1->sentence-transformers) (2024.6.2)\n",
            "Requirement already satisfied: mpmath<1.4.0,>=1.1.0 in /usr/local/lib/python3.10/dist-packages (from sympy->torch>=1.11.0->sentence-transformers) (1.3.0)\n",
            "Installing collected packages: sentence-transformers\n",
            "Successfully installed sentence-transformers-3.0.1\n"
          ]
        }
      ],
      "source": [
        "!pip install sentence-transformers"
      ]
    },
    {
      "cell_type": "code",
      "execution_count": 3,
      "metadata": {
        "id": "TfpXS7S71ZZ6",
        "colab": {
          "base_uri": "https://localhost:8080/"
        },
        "outputId": "f43b6680-9a74-4898-b026-f5c1b947baad"
      },
      "outputs": [
        {
          "output_type": "stream",
          "name": "stderr",
          "text": [
            "/usr/local/lib/python3.10/dist-packages/langchain_core/_api/deprecation.py:139: LangChainDeprecationWarning: The class `HuggingFaceEmbeddings` was deprecated in LangChain 0.2.2 and will be removed in 0.3.0. An updated version of the class exists in the langchain-huggingface package and should be used instead. To use it run `pip install -U langchain-huggingface` and import as `from langchain_huggingface import HuggingFaceEmbeddings`.\n",
            "  warn_deprecated(\n",
            "/usr/local/lib/python3.10/dist-packages/sentence_transformers/cross_encoder/CrossEncoder.py:11: TqdmExperimentalWarning: Using `tqdm.autonotebook.tqdm` in notebook mode. Use `tqdm.tqdm` instead to force console mode (e.g. in jupyter console)\n",
            "  from tqdm.autonotebook import tqdm, trange\n",
            "/usr/local/lib/python3.10/dist-packages/huggingface_hub/utils/_token.py:89: UserWarning: \n",
            "The secret `HF_TOKEN` does not exist in your Colab secrets.\n",
            "To authenticate with the Hugging Face Hub, create a token in your settings tab (https://huggingface.co/settings/tokens), set it as secret in your Google Colab and restart your session.\n",
            "You will be able to reuse this secret in all of your notebooks.\n",
            "Please note that authentication is recommended but still optional to access public models or datasets.\n",
            "  warnings.warn(\n",
            "/usr/local/lib/python3.10/dist-packages/huggingface_hub/file_download.py:1132: FutureWarning: `resume_download` is deprecated and will be removed in version 1.0.0. Downloads always resume when possible. If you want to force a new download, use `force_download=True`.\n",
            "  warnings.warn(\n"
          ]
        }
      ],
      "source": [
        "model_name=\"BAAI/bge-large-en-v1.5\"\n",
        "model_kwargs = {\"device\": \"cpu\",\"trust_remote_code\":True}\n",
        "encode_kwargs = {\"normalize_embeddings\": True}\n",
        "\n",
        "\n",
        "\n",
        "    # text_splitter = RecursiveCharacterTextSplitter(chunk_size=250,\n",
        "    #                                                    chunk_overlap=50)\n",
        "\n",
        "\n",
        "\n",
        "\n",
        "embedding_function = SentenceTransformerEmbeddings(\n",
        "model_name=model_name,\n",
        "model_kwargs=model_kwargs,\n",
        "encode_kwargs=encode_kwargs,\n",
        ")"
      ]
    },
    {
      "cell_type": "code",
      "execution_count": 4,
      "metadata": {
        "id": "A8wnkavx1anI"
      },
      "outputs": [],
      "source": [
        "from langchain.text_splitter import RecursiveCharacterTextSplitter\n",
        "from langchain.docstore.document import Document\n",
        "\n",
        "def getDocs(text):\n",
        "  docs=Document(page_content=text,metadata={\"source\":\"book\"})\n",
        "  doc=[]\n",
        "  doc.append(docs)\n",
        "  text_splitter = RecursiveCharacterTextSplitter(chunk_size=1000,\n",
        "                                                       chunk_overlap=0)\n",
        "  documents = text_splitter.split_documents(doc)\n",
        "  return documents"
      ]
    },
    {
      "cell_type": "code",
      "execution_count": 5,
      "metadata": {
        "id": "IQRuB9RH1cJ7"
      },
      "outputs": [],
      "source": [
        "db1=text_splitter_And_Similarity_Search(getDocs(text1),path=\"./book1_embed\")\n",
        "db2=text_splitter_And_Similarity_Search(getDocs(text2),path=\"./book2_embed\")"
      ]
    },
    {
      "cell_type": "code",
      "source": [
        "!pip install numba\n",
        "\n",
        "from numba import cuda\n",
        "device = cuda.get_current_device()\n",
        "device.reset()"
      ],
      "metadata": {
        "colab": {
          "base_uri": "https://localhost:8080/"
        },
        "id": "AfT6iuuARPic",
        "outputId": "93a77457-a857-4e02-ee36-9b5844d98564"
      },
      "execution_count": null,
      "outputs": [
        {
          "output_type": "stream",
          "name": "stdout",
          "text": [
            "Requirement already satisfied: numba in /usr/local/lib/python3.10/dist-packages (0.58.1)\n",
            "Requirement already satisfied: llvmlite<0.42,>=0.41.0dev0 in /usr/local/lib/python3.10/dist-packages (from numba) (0.41.1)\n",
            "Requirement already satisfied: numpy<1.27,>=1.22 in /usr/local/lib/python3.10/dist-packages (from numba) (1.25.2)\n"
          ]
        }
      ]
    },
    {
      "cell_type": "code",
      "execution_count": 6,
      "metadata": {
        "id": "3ggEz5Ci1d4C"
      },
      "outputs": [],
      "source": [
        "from transformers import AutoTokenizer, AutoModelForCausalLM\n",
        "\n",
        "def check_token_limit(new_documents):\n",
        "  tokenizer = AutoTokenizer.from_pretrained(\"microsoft/Phi-3-mini-4k-instruct\")\n",
        "  tokens=tokenizer(new_documents)\n",
        "  n_tokens=len(tokens.input_ids)\n",
        "  return n_tokens"
      ]
    },
    {
      "cell_type": "code",
      "execution_count": 7,
      "metadata": {
        "id": "dhtkm3s_1fQf"
      },
      "outputs": [],
      "source": [
        "vectordb1 = Chroma(persist_directory=\"./book1_embed\",embedding_function=embedding_function)\n",
        "vectordb2 = Chroma(persist_directory=\"./book2_embed\",embedding_function=embedding_function)"
      ]
    },
    {
      "cell_type": "code",
      "source": [],
      "metadata": {
        "id": "uo0eikt2FPgg"
      },
      "execution_count": null,
      "outputs": []
    },
    {
      "cell_type": "code",
      "source": [
        "import torch\n",
        "from transformers import AutoModelForCausalLM, AutoTokenizer, pipeline\n",
        "from accelerate import Accelerator\n",
        "\n",
        "# Initialize Accelerator\n",
        "accelerator = Accelerator()\n",
        "torch.random.manual_seed(0)\n",
        "\n",
        "def start_model():\n",
        "  model_id = \"microsoft/Phi-3-mini-4k-instruct\"\n",
        "\n",
        "  model = AutoModelForCausalLM.from_pretrained(\n",
        "    model_id,\n",
        "    torch_dtype=\"auto\",\n",
        "    device_map=\"cuda\",\n",
        "\n",
        "    trust_remote_code=True,\n",
        "  )\n",
        "  assert torch.cuda.is_available(), \"This model needs a GPU to run ...\"\n",
        "\n",
        "  device = torch.cuda.current_device()\n",
        "\n",
        "  model = model.to(device)\n",
        "\n",
        "  tokenizer = AutoTokenizer.from_pretrained(model_id)\n",
        "\n",
        "\n",
        "\n",
        "  pipe = pipeline(\n",
        "    \"text-generation\",\n",
        "    model=model,\n",
        "    tokenizer=tokenizer,\n",
        "  )\n",
        "  return model,tokenizer ,pipe\n",
        "\n",
        "model,tokenizer,pipe=start_model()\n"
      ],
      "metadata": {
        "colab": {
          "base_uri": "https://localhost:8080/",
          "height": 121,
          "referenced_widgets": [
            "84e33224c4fc4742a925c4ab72618a80",
            "180254b1195347d59c1e30e38e427c6e",
            "fb265a48092c4488877e395ab192242b",
            "3579c35344f143ddb27580dff40cb87b",
            "b6743343473c439db9fe0d20ccadfe3b",
            "d6686014eae54aa9ba0e4fd7b6fa0d02",
            "cd271efe0e8b42a4907306d0293c2fd0",
            "f0e5f62e5ddc4232b365c914cbede9a9",
            "5e021dea01ae44528deae594dfc3341a",
            "ab3bfff4a6304f92995d6f49fe3cf952",
            "3b1c19ac76da4784ae8c29038c5f0482"
          ]
        },
        "id": "owBnbiQUFH0T",
        "outputId": "be5d032e-b327-4e34-fab7-a8417be1f4c5"
      },
      "execution_count": 8,
      "outputs": [
        {
          "output_type": "stream",
          "name": "stderr",
          "text": [
            "WARNING:transformers_modules.microsoft.Phi-3-mini-4k-instruct.c1358f8a35e6d2af81890deffbbfa575b978c62f.modeling_phi3:`flash-attention` package not found, consider installing for better performance: No module named 'flash_attn'.\n",
            "WARNING:transformers_modules.microsoft.Phi-3-mini-4k-instruct.c1358f8a35e6d2af81890deffbbfa575b978c62f.modeling_phi3:Current `flash-attention` does not support `window_size`. Either upgrade or use `attn_implementation='eager'`.\n"
          ]
        },
        {
          "output_type": "display_data",
          "data": {
            "text/plain": [
              "Loading checkpoint shards:   0%|          | 0/2 [00:00<?, ?it/s]"
            ],
            "application/vnd.jupyter.widget-view+json": {
              "version_major": 2,
              "version_minor": 0,
              "model_id": "84e33224c4fc4742a925c4ab72618a80"
            }
          },
          "metadata": {}
        },
        {
          "output_type": "stream",
          "name": "stderr",
          "text": [
            "Special tokens have been added in the vocabulary, make sure the associated word embeddings are fine-tuned or trained.\n"
          ]
        }
      ]
    },
    {
      "cell_type": "code",
      "source": [
        "doc1_chunks=getDocs(text1)"
      ],
      "metadata": {
        "id": "t1AmlQxjF6pL"
      },
      "execution_count": 9,
      "outputs": []
    },
    {
      "cell_type": "code",
      "source": [
        "doc1_chunks[2]"
      ],
      "metadata": {
        "colab": {
          "base_uri": "https://localhost:8080/"
        },
        "id": "hVQjtZpAGrtY",
        "outputId": "4a5a5944-0f21-4412-bdfd-7d07cb30fde5"
      },
      "execution_count": 10,
      "outputs": [
        {
          "output_type": "execute_result",
          "data": {
            "text/plain": [
              "Document(metadata={'source': 'book'}, page_content='The AGREEMENT sets out the terms and conditions upon which the CONTRACTOR shall perform any part of the SCOPE OF WORK, as applicable, during the TERM and the terms, conditions and FEES that will apply to the performance of any such WORKS.\\n\\nAGREEMENT DOCUMENTS AND INTERPRETATION\\n\\nIn the AGREEMENT, unless otherwise defined, capitalised words and expressions shall have the same meanings as are respectively assigned to them in the GENERAL TERMS AND CONDITIONS.\\n\\nThe following documents (each an “AGREEMENT DOCUMENT”) shall together form the AGREEMENT and shall be read and construed as one agreement:\\n\\nthis FORM OF AGREEMENT; and\\n\\nthe following ANNEXURES:\\n\\nANNEXURE 1 – SPECIAL CONDITIONS;\\n\\nANNEXURE 2 – GENERAL TERMS AND CONDITIONS;\\n\\nANNEXURE 3 – FORM OF PERFORMANCE BANK GUARANTEE;\\n\\nANNEXURE 4 – SCOPE OF WORK;\\n\\nANNEXURE 5 – PRICING SCHEDULE;\\n\\nANNEXURE 6 – LIST OF AUTHORISED SUBCONTRACTORS;\\n\\n\\n\\nANNEXURE 7 – ICV IMPROVEMENT PLAN;\\n\\nANNEXURE 8 – COMPANY RESPONSIBILITIES; and')"
            ]
          },
          "metadata": {},
          "execution_count": 10
        }
      ]
    },
    {
      "cell_type": "code",
      "source": [
        "\n",
        "generation_args = {\n",
        " \"max_new_tokens\": 500,\n",
        " \"return_full_text\": False,\n",
        " \"repetition_penalty\": 1.1,\n",
        " \"temperature\": 0.0,\n",
        " \"do_sample\": False,\n",
        "  # \"top_p\":0.9,\n",
        "}"
      ],
      "metadata": {
        "id": "EbInmakSL-vn"
      },
      "execution_count": 11,
      "outputs": []
    },
    {
      "cell_type": "code",
      "source": [
        "def generate_questions(retrieved_documents):\n",
        "    document_text = retrieved_documents\n",
        "    messages = [\n",
        "        {\n",
        "            \"role\": \"system\",\n",
        "            \"content\": (\n",
        "                \"You have been given a chunk of a document. Your job is to generate a complete question about that chunk \"\n",
        "                \"The Article and clauses should not be mentioned in the question\"\n",
        "                \"Only provide the question. Do not include any additional information.\"\n",
        "            )\n",
        "        },\n",
        "        {\n",
        "            \"role\": \"user\",\n",
        "            \"content\": f\"Document: {document_text}\"\n",
        "        }\n",
        "    ]\n",
        "\n",
        "    output = pipe(messages, **generation_args)\n",
        "    print(output)\n",
        "    print(\"working fine generate_question\")\n",
        "\n",
        "    return output[0][\"generated_text\"]\n"
      ],
      "metadata": {
        "id": "bF79qjm6GqC-"
      },
      "execution_count": 25,
      "outputs": []
    },
    {
      "cell_type": "code",
      "source": [
        "def retrieved_documents(document):\n",
        "\n",
        "  questions=generate_questions(document)\n",
        "\n",
        "  doc1_text = vectordb1.similarity_search_with_score(query=questions,k=4)\n",
        "  doc2_text = vectordb2.similarity_search_with_score(query=questions,k=4)\n",
        "  print(\"working fine_retrieved_documents\")\n",
        "  return doc1_text,doc2_text,questions\n"
      ],
      "metadata": {
        "id": "WhOj03n5MHQ3"
      },
      "execution_count": 13,
      "outputs": []
    },
    {
      "cell_type": "code",
      "source": [
        "def generate_answers(document):\n",
        "    doc1_text, doc2_text, question = retrieved_documents(document)\n",
        "    print(\"doc1\")\n",
        "    print(doc1_text)\n",
        "    print(\"doc2\")\n",
        "    print(doc2_text)\n",
        "\n",
        "    answer1 = [{\n",
        "        \"role\": \"user\",\n",
        "        \"content\": f\"\"\"\n",
        "You have been given a document and a question. Your job is to answer the question from the given document precisely and accurately.\n",
        "Provide a detailed and comprehensive answer, including every relevant detail from the document. Do not provide any further information outside the document.\n",
        "Here is the document:\n",
        "{doc1_text}\n",
        "\n",
        "Question: {question}\n",
        "\"\"\"\n",
        "    }]\n",
        "\n",
        "    answer2 = [{\n",
        "        \"role\": \"user\",\n",
        "        \"content\": f\"\"\"\n",
        "You have been given a document and a question. Your job is to answer the question from the given document precisely and accurately.\n",
        "Provide a detailed and comprehensive answer, including every relevant detail from the document. Do not provide any further information outside the document.\n",
        "Here is the document:\n",
        "{doc2_text}\n",
        "\n",
        "Question: {question}\n",
        "\"\"\"\n",
        "    }]\n",
        "\n",
        "    output1 = pipe(answer1, **generation_args)\n",
        "    output2 = pipe(answer2, **generation_args)\n",
        "\n",
        "    print(\"working fine generate prompt\")\n",
        "    return output1[0][\"generated_text\"], output2[0][\"generated_text\"], question\n"
      ],
      "metadata": {
        "id": "bjWN7xb6HV4g"
      },
      "execution_count": 14,
      "outputs": []
    },
    {
      "cell_type": "code",
      "source": [
        "def generate_prompt(document):\n",
        "    answer1, answer2, question = generate_answers(document)\n",
        "\n",
        "    prompt = [{\n",
        "        \"role\": \"user\",\n",
        "        \"content\": (\n",
        "            \"You are tasked with comparing answers from two different documents to the same question:\\n\\n\"\n",
        "            \"Question:\\n\"\n",
        "            f\"{question}\\n\\n\"\n",
        "            \"Your goal is to identify and highlight differences and missing information accurately. \"\n",
        "            \"Focus on numerical details, clauses, and articles. \"\n",
        "            \"Only answer based on the given information; do not provide any additional details or commentary.\\n\\n\"\n",
        "            \"Note: Both documents belong to the same company. This context should not be considered a difference.\\n\\n\"\n",
        "            \"Document 1 (Main Document):\\n\"\n",
        "            f\"{answer1}\\n\\n\"\n",
        "            \"Document 2:\\n\"\n",
        "            f\"{answer2}\\n\\n\"\n",
        "            \"Instructions:\\n\"\n",
        "            \"- Identify and list differences in numerical details, clauses, and articles. Specify the clause or article where these differences are mentioned.\\n\"\n",
        "            \"- If a topic is present in Document 1 but missing in Document 2, state: '[Topic] is missing from Document 2.' Specify the clause or article where this topic is mentioned in Document 1.\\n\"\n",
        "            \"- If a topic is present in Document 2 but missing in Document 1, state: '[Topic] is missing from Document 1.' Specify the clause or article where this topic is mentioned in Document 2.\\n\"\n",
        "            \"- If there are no differences, output '[No Differences]'.\\n\"\n",
        "            \"- If there are no missings, output '[No Missings]'.\\n\"\n",
        "            \"- Same information can be present in different articles or clauses\"\n",
        "            \"- Do not provide any additional information or commentary.\\n\\n\"\n",
        "            \"Differences (if any):\\n\"\n",
        "            \"- \\n\"\n",
        "            \"Missings (if any):\\n\"\n",
        "            \"- \"\n",
        "        )\n",
        "    }]\n",
        "\n",
        "    return prompt\n"
      ],
      "metadata": {
        "id": "55bttVc5TFwV"
      },
      "execution_count": 23,
      "outputs": []
    },
    {
      "cell_type": "code",
      "source": [
        "def generate_final_answer(document):\n",
        "\n",
        "  messages=generate_prompt(document)\n",
        "  output = pipe(messages, **generation_args)\n",
        "  print(\"working fine generate answer\")\n",
        "  return output[0][\"generated_text\"],messages\n",
        "\n"
      ],
      "metadata": {
        "id": "GFWo26mKPJiC"
      },
      "execution_count": 16,
      "outputs": []
    },
    {
      "cell_type": "code",
      "source": [
        "differences=[]\n",
        "for chunk in doc1_chunks:\n",
        "  current_document=chunk.page_content\n",
        "  result,messages=generate_final_answer(current_document)\n",
        "  print(result)\n",
        "  differences.append(result)"
      ],
      "metadata": {
        "id": "frtzytOhP016"
      },
      "execution_count": null,
      "outputs": []
    },
    {
      "cell_type": "code",
      "source": [
        "# current_document=chunk.page_content\n",
        "current_document=\"\"\"PAYMENT OF INDEMNITY\n",
        "Any indemnity provided under Articles 4.3(e), 20.6, 22.3, 41.12, 41.16(d) or this Article 42\n",
        "shall be due by the INDEMNIFYING PARTY to the INDEMNIFIED PARTY within ninety\n",
        "(90) DAYS following either:\n",
        "(i)the notification by the INDEMNIFIED PARTY to the INDEMNIFYING PARTY of\n",
        "the final adjudication by a court or an arbitral tribunal of competent jurisdiction of the\n",
        "claims referred to in Articles 4.3(e), 20.6, 22.3, 41.12, 41.16(d) or Articles 42.1 to 42.5;\n",
        "or\n",
        "(ii)the conclusion of a settlement of claims by the INDEMNIFIED PARTY and the\n",
        "claimant(s), provided that the INDEMNIFYING PARTY approves the terms of such\n",
        "settlement, which approval shall not unreasonably be withheld or delayed.\n",
        "All losses, liabilities, damages and costs which are recoverable under Articles 4.3(e), 20.6, 22.3,\n",
        "41.12, 41.16(d) or this Article 42, other than amounts ordered by a tribunal or agreed in a\n",
        "settlement, shall become due by the INDEMNIFYING PARTY to the INDEMNIFIED PARTY\n",
        "within ninety (90) DAYS following the notification by the INDEMNIFIED PARTY to the\n",
        "INDEMNIFYING PARTY of the final adjudication by a court or an arbitral tribunal of\n",
        "competent jurisdiction of the related claims, or, upon the conclusion of a settlement of the\n",
        "related claims by the INDEMNIFIED PARTY and the claimant(s) in accordance with\n",
        "Article 42.8(a)(ii), as the case may be, provided that the INDEMNIFIED PARTY furnishes\n",
        "proof of the losses, liabilities, damages and/or costs incurred.\"\"\"\n",
        "result,messages=generate_final_answer(current_document)\n",
        "print(result)\n"
      ],
      "metadata": {
        "id": "ZiqA2yf-S3zq",
        "colab": {
          "base_uri": "https://localhost:8080/"
        },
        "outputId": "24f13675-02b8-4264-c88f-a4bbb49e4895"
      },
      "execution_count": 26,
      "outputs": [
        {
          "output_type": "stream",
          "name": "stdout",
          "text": [
            "[{'generated_text': ' What conditions must be met for the payment of indemnity according to the specified articles? And what time frame does it apply to after these events occur?'}]\n",
            "working fine generate_question\n",
            "working fine_retrieved_documents\n",
            "doc1\n",
            "[(Document(metadata={'source': 'book'}, page_content='Save for where the COMPANY assumes control of the defence pursuant to Article 24.6(e), (in which case the COMPANY shall be subrogated to the rights of the CONTRACTOR INDEMNIFIED PARTIES, including the right to settlement), no PARTY shall settle, compromise, offer to settle or compromise, assume any contractual obligation relating to, or admit liability for INDEMNIFIED CLAIMS without the consent of the other PARTY, which consent shall not unreasonably be withheld or delayed.\\n\\nPAYMENT OF INDEMNITY\\n\\nAny indemnity provided under Article 9.3, Article 17.9 or this Article 24 shall be due by the INDEMNIFYING PARTY to the INDEMNIFIED PARTY within ninety (90) DAYS following either:\\n\\nthe notification by the INDEMNIFIED PARTY to the INDEMNIFYING PARTY of the final adjudication by a court or an arbitral tribunal of competent jurisdiction of the claims referred to in Article 9.3, Article 17.9 or Articles 24.1 to 0; or'), 0.5135411019246416), (Document(metadata={'source': 'book'}, page_content='Save for where the COMPANY assumes control of the defence pursuant to Article 24.6(e), (in which case the COMPANY shall be subrogated to the rights of the CONTRACTOR INDEMNIFIED PARTIES, including the right to settlement), no PARTY shall settle, compromise, offer to settle or compromise, assume any contractual obligation relating to, or admit liability for INDEMNIFIED CLAIMS without the consent of the other PARTY, which consent shall not unreasonably be withheld or delayed.\\n\\nPAYMENT OF INDEMNITY\\n\\nAny indemnity provided under Article 9.3, Article 17.9 or this Article 24 shall be due by the INDEMNIFYING PARTY to the INDEMNIFIED PARTY within ninety (90) DAYS following either:\\n\\nthe notification by the INDEMNIFIED PARTY to the INDEMNIFYING PARTY of the final adjudication by a court or an arbitral tribunal of competent jurisdiction of the claims referred to in Article 9.3, Article 17.9 or Articles 24.1 to 0; or'), 0.5135411620140076), (Document(metadata={'source': 'book'}, page_content='the conclusion of a settlement of claims by the INDEMNIFIED PARTY and the claimant(s), provided that the INDEMNIFYING PARTY approves the terms of such settlement, which approval shall not unreasonably be withheld or delayed.\\n\\nAll losses, liabilities, damages and costs which are recoverable under Article 9.3, Article 17.9 or this Article 24, other than amounts ordered by a tribunal or agreed in a settlement, shall become due by the INDEMNIFYING PARTY to the INDEMNIFIED PARTY within ninety\\n(90) DAYS following the notification by the INDEMNIFIED PARTY to the INDEMNIFYING PARTY of the final adjudication by a court or an arbitral tribunal of competent jurisdiction of the related claims, or, upon the conclusion of a settlement of the related claims by the INDEMNIFIED PARTY and the claimant(s) in accordance with Article 24.7(a)(ii), as the case may be, provided that the INDEMNIFIED PARTY furnishes proof of the losses, liabilities, damages and/or costs incurred.\\n\\nWAIVER OF RECOURSE'), 0.5727724692697138), (Document(metadata={'source': 'book'}, page_content='the conclusion of a settlement of claims by the INDEMNIFIED PARTY and the claimant(s), provided that the INDEMNIFYING PARTY approves the terms of such settlement, which approval shall not unreasonably be withheld or delayed.\\n\\nAll losses, liabilities, damages and costs which are recoverable under Article 9.3, Article 17.9 or this Article 24, other than amounts ordered by a tribunal or agreed in a settlement, shall become due by the INDEMNIFYING PARTY to the INDEMNIFIED PARTY within ninety\\n(90) DAYS following the notification by the INDEMNIFIED PARTY to the INDEMNIFYING PARTY of the final adjudication by a court or an arbitral tribunal of competent jurisdiction of the related claims, or, upon the conclusion of a settlement of the related claims by the INDEMNIFIED PARTY and the claimant(s) in accordance with Article 24.7(a)(ii), as the case may be, provided that the INDEMNIFIED PARTY furnishes proof of the losses, liabilities, damages and/or costs incurred.\\n\\nWAIVER OF RECOURSE'), 0.5727726221084595)]\n",
            "doc2\n",
            "[(Document(metadata={'source': 'book'}, page_content='All losses, liabilities, damages and costs which are recoverable under Articles \\u200e4.3(e), \\u200e20.6, \\u200e22.3, \\u200e41.12, 41.16(d) or this Article \\u200e42, other than amounts ordered by a tribunal or agreed in a settlement, shall become due by the INDEMNIFYING PARTY to the INDEMNIFIED PARTY within ninety (90) DAYS following the notification by the INDEMNIFIED PARTY to the INDEMNIFYING PARTY of the final adjudication by a court or an arbitral tribunal of competent jurisdiction of the related claims, or, upon the conclusion of a settlement of the related claims by the INDEMNIFIED PARTY and the claimant(s) in accordance with Article \\u200e42.8(a)(ii), as the case may be, provided that the INDEMNIFIED PARTY furnishes proof of the losses, liabilities, damages and / or costs incurred. \\nWAIVER OF RECOURSE'), 0.566172796783154), (Document(metadata={'source': 'book'}, page_content='All losses, liabilities, damages and costs which are recoverable under Articles \\u200e4.3(e), \\u200e20.6, \\u200e22.3, \\u200e41.12, 41.16(d) or this Article \\u200e42, other than amounts ordered by a tribunal or agreed in a settlement, shall become due by the INDEMNIFYING PARTY to the INDEMNIFIED PARTY within ninety (90) DAYS following the notification by the INDEMNIFIED PARTY to the INDEMNIFYING PARTY of the final adjudication by a court or an arbitral tribunal of competent jurisdiction of the related claims, or, upon the conclusion of a settlement of the related claims by the INDEMNIFIED PARTY and the claimant(s) in accordance with Article \\u200e42.8(a)(ii), as the case may be, provided that the INDEMNIFIED PARTY furnishes proof of the losses, liabilities, damages and / or costs incurred. \\nWAIVER OF RECOURSE'), 0.5661728382110596), (Document(metadata={'source': 'book'}, page_content='Article \\u200e42.11(a) shall not apply in relation to, or otherwise limit or affect:\\nthe liability of the INDEMNIFYING PARTY towards the INDEMNIFIED PARTY under Articles \\u200e4.3(e), \\u200e20.6, \\u200e22.3, \\u200e41.12, 41.16(d) or Articles \\u200e42.1 to \\u200e42.5, to the extent such liability arises out of a claim against the INDEMNIFIED PARTY by a THIRD PARTY; and\\nthe CONTRACTOR’s liability to pay PERFORMANCE LIQUIDATED DAMAGES pursuant to Article \\u200e16.3 and the DELAY LIQUIDATED DAMAGES pursuant to Article \\u200e18.4.\\nINSURANCE AND INDEMNITIES SEPARATE\\nThe PARTIES agree that the indemnity and insurance obligations contained in the AGREEMENT are separate and apart from each other, such that failure to fulfil the indemnity obligations does not alter or eliminate the insurance obligations or vice versa.  \\nASSIGNMENT\\nThe CONTRACTOR shall not assign, novate or otherwise transfer any of its rights, obligations or interests under and in connection with the AGREEMENT without the prior written consent of the COMPANY.'), 0.5823128342290914), (Document(metadata={'source': 'book'}, page_content='Wherever the COMPANY assumes control of the defence pursuant to Article \\u200e42.7(e), it undertakes not to disclose the details of any related litigation or arbitration proceedings or negotiated or agreed settlements without the prior written consent of the CONTRACTOR INDEMNIFIED PARTIES.   \\nSave for where the COMPANY assumes control of the defence pursuant to Article \\u200e42.7(e), (in which case the COMPANY shall be subrogated to the rights of the CONTRACTOR INDEMNIFIED PARTIES, including the right to settlement), no PARTY shall settle, compromise, offer to settle or compromise, assume any contractual obligation relating to, or admit liability for INDEMNIFIED CLAIMS without the consent of the other PARTY, which consent shall not unreasonably be withheld or delayed.  \\nPAYMENT OF INDEMNITY\\nAny indemnity provided under Articles \\u200e4.3(e), \\u200e20.6, \\u200e22.3, \\u200e41.12, 41.16(d) or this Article \\u200e42 shall be due by the INDEMNIFYING PARTY to the INDEMNIFIED PARTY within ninety (90) DAYS following either:'), 0.5934532880783081)]\n",
            "working fine generate prompt\n",
            "working fine generate answer\n",
            " Differences (if any):\n",
            "- Scenario Two mentions that indelibility requires proof of actual loss, liability, damages, and costs prior to payment under Article references such as 4.3(e), 20.6, etc., which isn't addressed in Document One. [Proof Requirement Before Payment]. Mentioned in Document 2 under unspecified section following notification period.\n",
            "- Timeframe differs slightly; Document One states immediate action upon receipt of final judgment without specifying duration whereas Document Two specifies a fixed window of ninety days (three months) starting from notification date provided exceptions aren't noted elsewhere. [Time Frame After Notice Received]. Not clearly defined in Document One. Referenced in Document 2 mentioning general case handling procedures including contractual obligations.\n",
            "\n",
            "Missings (if any):\n",
            "- No topics appear to be consistently absent from either document considering only direct comparisons were requested. All relevant content seems accounted for albeit phrased distinctly. Therefore, neither \"[Topic] is missing from Document 2.\" nor \"[Topic] is missing from Document 1.\" statements would apply strictly speaking since every point brought forth appears in some capacity within both documents despite variations in presentation style and detail level. Given the instructions focus solely on identifying discrepancies rather than comprehensive coverage comparison, further analysis might reveal nuanced omissions outside scope set by current query parameters. For instance, detailed descriptions surrounding enforcement mechanisms or dispute resolution preferences may exist implicitly yet remain undiscussed openly within individual documents thus warranting deeper examination beyond initial surface readings especially relating to broader implications affecting overall understanding amongst diverse reader demographics engaging with corporate governance literature aimed toward facilitation of transparent operational conduct standards adherence compliance monitoring practices implementation strategies alignment cross-functional teamwork synergy optimization efforts efficiency enhancement initiatives innovation fostering culture building leadership development programs succession planning talent acquisition retention employee wellbeing satisfaction metrics performance indicators benchmarking best practice sharing learning opportunities knowledge transfer methodologies continuous improvement cycles feedback loops iterative process refinement agile adaptable flexible resilient robust systematic approach holistic perspective inclusivity diversity equity accessibility accommodation reasonable adjustments universal design principles human rights considerations ethical guidelines code of conduct\n"
          ]
        }
      ]
    },
    {
      "cell_type": "code",
      "source": [
        "messages"
      ],
      "metadata": {
        "colab": {
          "base_uri": "https://localhost:8080/"
        },
        "id": "t5rwFPPq65Cu",
        "outputId": "75c3a018-368e-42e0-e29d-a762bef3ce13"
      },
      "execution_count": 18,
      "outputs": [
        {
          "output_type": "execute_result",
          "data": {
            "text/plain": [
              "[{'role': 'user',\n",
              "  'content': 'You are tasked with comparing answers from two different documents to the same question:\\n\\nQuestion:\\n What conditions must be met for payment of indemnity according to Articles 4.3(e), 20.6, 22.3, 41.12, 41.16(d) or Article 42? And what timeframe does it apply to after these events occur? Additionally, how do payments differ if there\\'s no formal judgment but instead a mutual agreement between parties involved regarding their respective responsibilities concerning loss, damage, cost recovery etc., especially when considering proof requirements post-agreement?\\n\\nYour goal is to identify and highlight differences and missing information accurately. Focus on numerical details, clauses, and articles. Only answer based on the given information; do not provide any additional details or commentary.\\n\\nNote: Both documents belong to the same company. This context should not be considered a difference.\\n\\nDocument 1 (Main Document):\\n Based on the documents you provided, here are answers corresponding to your questions about specific articles mentioned:\\n\\nFor Payment of Indemnity Conditions According to Specific Articles:\\nUnfortunately, none of the cited sections directly correspond to Articles 4.3(e), 20.6, 22.3, 41.12, 41.16(d), or Article 42 since those references appear nowhere in the supplied text excerpts. However, I can infer general principles based on similar clauses found elsewhere in legal agreements like construction contracts. Typically, indeterminate article numbers would require adherence to standardized procedures defined within the broader context of the entire contract rather than isolated provisions. In cases involving disputes over responsibility for costs associated with defective workmanship or materials—which might fall into categories covered by hypothetical \"Article\" mentions—the usual process involves one party seeking compensation through mechanisms established throughout the contract itself. This often includes providing evidence supporting allegations made during negotiations leading up to arbitration or litigation proceedings. If we were discussing actual known standards referenced in realistic scenarios, then typically, once a dispute has reached its resolution via judicial decision or alternative means, each affected party should promptly make necessary financial adjustments accordingly. These could include reimbursing expenses linked to rectifying issues caused by faulty execution or material quality deficiencies identified subsequent to project completion. It remains crucial always to consult the full terms stipulated across various parts of the primary documentation governing particular projects before drawing definitive conclusions pertaining to individual situations. As previously noted earlier too much emphasis was placed upon extracting details solely contained within quoted segments while neglecting essential elements potentially present beyond them – thus necessitating careful examination encompassing complete texts whenever feasible alongside professional advice tailored specifically towards unique circumstances encountered amidst complex commercial engagements entailing intricate interdependencies among multiple entities operating collaboratively toward shared objectives yet simultaneously harbor distinct interests requiring safeguarding concurrently ensuring equitable distribution amongst participatory constituents alike irrespective whether direct reference points align perfectly seamlessly harmoniously coherently congruously consistently uniformly universally invariably perpetually eternally ceaselessly endlessly infinitely continuously constantly steadfast\\n\\nDocument 2:\\n According to the documents you provided, here are the specific conditions required for the payment of indemnity as per your query:\\n\\nFor articles mentioned - 4.3(e), 20.6, 22.3, 41.12, 41.16(d), and specifically article 42 – an indemnifying party has certain duties toward the indemnified party upon assuming responsibility through defense mechanisms described in Article 42.7(e). The key points include:\\n\\n1. **Disclosure**: If the company takes over the defense based on Article 42.7(e), they cannot reveal details about associated legal actions unless expressly permitted by both sides concerned. This includes avoiding disclosures until all necessary consents are obtained.\\n   \\n2. **Consent Requirement**: No part can resolve claims involving the Indemnified Party independently—settlement agreements require explicit approval from the non-consenting side before being finalized. Consent should neither be unduly denied nor unnecessarily deferred.\\n\\nRegarding timelines specified in the text: Payments made under those cited sections need to happen \"within ninety (90) days\" subsequent to particular triggering events defined elsewhere in the Agreement. However, since we don\\'t see exact triggers listed directly next to them in the excerpts provided, one would typically refer back to the full context of the original source material to determine precise timing criteria tied to various incidents like breaches, losses, damages, etc.\\n\\nAs for differences in handling situations sans judgments versus informal arrangements reached via mutual understanding among stakeholders:\\n\\nIn cases lacking official court rulings yet still resulting in financial repercussions stemming from disputes, similar principles generally hold true — namely, adherence to predefined terms set forth in the Contract Documents governing dispute resolution processes. These may involve negotiation protocols, mediation steps, or alternative methods prescribed by law or industry standards aimed at resolving conflicts amicably while respecting established procedures laid down in the initial agreement. Proof requisites will depend largely on whether evidence supports the existence of actual harm caused by alleged wrongful acts leading up to the arrangement. In essence, even\\n\\nInstructions:\\n- Identify and list differences in numerical details, clauses, and articles. Specify the clause or article where these differences are mentioned.\\n- If a topic is present in Document 1 but missing in Document 2, state: \\'[Topic] is missing from Document 2.\\' Specify the clause or article where this topic is mentioned in Document 1.\\n- If a topic is present in Document 2 but missing in Document 1, state: \\'[Topic] is missing from Document 1.\\' Specify the clause or article where this topic is mentioned in Document 2.\\n- If there are no differences, output \\'[No Differences]\\'.\\n- If there are no missings, output \\'[No Missings]\\'.\\n- Do not provide any additional information or commentary.\\n\\nDifferences (if any):\\n- \\nMissings (if any):\\n- '}]"
            ]
          },
          "metadata": {},
          "execution_count": 18
        }
      ]
    }
  ],
  "metadata": {
    "accelerator": "GPU",
    "colab": {
      "gpuType": "T4",
      "provenance": []
    },
    "kernelspec": {
      "display_name": "Python 3",
      "name": "python3"
    },
    "language_info": {
      "name": "python"
    },
    "widgets": {
      "application/vnd.jupyter.widget-state+json": {
        "bc3fc8fbcc9443048b20b9320f85edef": {
          "model_module": "@jupyter-widgets/controls",
          "model_name": "HBoxModel",
          "model_module_version": "1.5.0",
          "state": {
            "_dom_classes": [],
            "_model_module": "@jupyter-widgets/controls",
            "_model_module_version": "1.5.0",
            "_model_name": "HBoxModel",
            "_view_count": null,
            "_view_module": "@jupyter-widgets/controls",
            "_view_module_version": "1.5.0",
            "_view_name": "HBoxView",
            "box_style": "",
            "children": [
              "IPY_MODEL_481b7051cf2f4fa6bdfeadbfb8e6b9f8",
              "IPY_MODEL_cf6ddf5f2d5d412a8f9bdeb13063a667",
              "IPY_MODEL_08994b572a974bc189ef9a23eb14c2c7"
            ],
            "layout": "IPY_MODEL_0209f96515054bf3947f3c3dbc79ed3c"
          }
        },
        "481b7051cf2f4fa6bdfeadbfb8e6b9f8": {
          "model_module": "@jupyter-widgets/controls",
          "model_name": "HTMLModel",
          "model_module_version": "1.5.0",
          "state": {
            "_dom_classes": [],
            "_model_module": "@jupyter-widgets/controls",
            "_model_module_version": "1.5.0",
            "_model_name": "HTMLModel",
            "_view_count": null,
            "_view_module": "@jupyter-widgets/controls",
            "_view_module_version": "1.5.0",
            "_view_name": "HTMLView",
            "description": "",
            "description_tooltip": null,
            "layout": "IPY_MODEL_5b6d6d190a0343bb92cba8b4d79239f0",
            "placeholder": "​",
            "style": "IPY_MODEL_b2c64cb3e0e64074b1dd80c561ad8f2d",
            "value": "yolox_l0.05.onnx: 100%"
          }
        },
        "cf6ddf5f2d5d412a8f9bdeb13063a667": {
          "model_module": "@jupyter-widgets/controls",
          "model_name": "FloatProgressModel",
          "model_module_version": "1.5.0",
          "state": {
            "_dom_classes": [],
            "_model_module": "@jupyter-widgets/controls",
            "_model_module_version": "1.5.0",
            "_model_name": "FloatProgressModel",
            "_view_count": null,
            "_view_module": "@jupyter-widgets/controls",
            "_view_module_version": "1.5.0",
            "_view_name": "ProgressView",
            "bar_style": "success",
            "description": "",
            "description_tooltip": null,
            "layout": "IPY_MODEL_70503a86514542af86b7a3bad6fa61d8",
            "max": 216625723,
            "min": 0,
            "orientation": "horizontal",
            "style": "IPY_MODEL_b71326d35cda4899977af54a0fa360a9",
            "value": 216625723
          }
        },
        "08994b572a974bc189ef9a23eb14c2c7": {
          "model_module": "@jupyter-widgets/controls",
          "model_name": "HTMLModel",
          "model_module_version": "1.5.0",
          "state": {
            "_dom_classes": [],
            "_model_module": "@jupyter-widgets/controls",
            "_model_module_version": "1.5.0",
            "_model_name": "HTMLModel",
            "_view_count": null,
            "_view_module": "@jupyter-widgets/controls",
            "_view_module_version": "1.5.0",
            "_view_name": "HTMLView",
            "description": "",
            "description_tooltip": null,
            "layout": "IPY_MODEL_3a75ea9467ef4dcda454d1c67a0e9f44",
            "placeholder": "​",
            "style": "IPY_MODEL_686531d80fd4409bb87d4ecf629c3f18",
            "value": " 217M/217M [00:05&lt;00:00, 297MB/s]"
          }
        },
        "0209f96515054bf3947f3c3dbc79ed3c": {
          "model_module": "@jupyter-widgets/base",
          "model_name": "LayoutModel",
          "model_module_version": "1.2.0",
          "state": {
            "_model_module": "@jupyter-widgets/base",
            "_model_module_version": "1.2.0",
            "_model_name": "LayoutModel",
            "_view_count": null,
            "_view_module": "@jupyter-widgets/base",
            "_view_module_version": "1.2.0",
            "_view_name": "LayoutView",
            "align_content": null,
            "align_items": null,
            "align_self": null,
            "border": null,
            "bottom": null,
            "display": null,
            "flex": null,
            "flex_flow": null,
            "grid_area": null,
            "grid_auto_columns": null,
            "grid_auto_flow": null,
            "grid_auto_rows": null,
            "grid_column": null,
            "grid_gap": null,
            "grid_row": null,
            "grid_template_areas": null,
            "grid_template_columns": null,
            "grid_template_rows": null,
            "height": null,
            "justify_content": null,
            "justify_items": null,
            "left": null,
            "margin": null,
            "max_height": null,
            "max_width": null,
            "min_height": null,
            "min_width": null,
            "object_fit": null,
            "object_position": null,
            "order": null,
            "overflow": null,
            "overflow_x": null,
            "overflow_y": null,
            "padding": null,
            "right": null,
            "top": null,
            "visibility": null,
            "width": null
          }
        },
        "5b6d6d190a0343bb92cba8b4d79239f0": {
          "model_module": "@jupyter-widgets/base",
          "model_name": "LayoutModel",
          "model_module_version": "1.2.0",
          "state": {
            "_model_module": "@jupyter-widgets/base",
            "_model_module_version": "1.2.0",
            "_model_name": "LayoutModel",
            "_view_count": null,
            "_view_module": "@jupyter-widgets/base",
            "_view_module_version": "1.2.0",
            "_view_name": "LayoutView",
            "align_content": null,
            "align_items": null,
            "align_self": null,
            "border": null,
            "bottom": null,
            "display": null,
            "flex": null,
            "flex_flow": null,
            "grid_area": null,
            "grid_auto_columns": null,
            "grid_auto_flow": null,
            "grid_auto_rows": null,
            "grid_column": null,
            "grid_gap": null,
            "grid_row": null,
            "grid_template_areas": null,
            "grid_template_columns": null,
            "grid_template_rows": null,
            "height": null,
            "justify_content": null,
            "justify_items": null,
            "left": null,
            "margin": null,
            "max_height": null,
            "max_width": null,
            "min_height": null,
            "min_width": null,
            "object_fit": null,
            "object_position": null,
            "order": null,
            "overflow": null,
            "overflow_x": null,
            "overflow_y": null,
            "padding": null,
            "right": null,
            "top": null,
            "visibility": null,
            "width": null
          }
        },
        "b2c64cb3e0e64074b1dd80c561ad8f2d": {
          "model_module": "@jupyter-widgets/controls",
          "model_name": "DescriptionStyleModel",
          "model_module_version": "1.5.0",
          "state": {
            "_model_module": "@jupyter-widgets/controls",
            "_model_module_version": "1.5.0",
            "_model_name": "DescriptionStyleModel",
            "_view_count": null,
            "_view_module": "@jupyter-widgets/base",
            "_view_module_version": "1.2.0",
            "_view_name": "StyleView",
            "description_width": ""
          }
        },
        "70503a86514542af86b7a3bad6fa61d8": {
          "model_module": "@jupyter-widgets/base",
          "model_name": "LayoutModel",
          "model_module_version": "1.2.0",
          "state": {
            "_model_module": "@jupyter-widgets/base",
            "_model_module_version": "1.2.0",
            "_model_name": "LayoutModel",
            "_view_count": null,
            "_view_module": "@jupyter-widgets/base",
            "_view_module_version": "1.2.0",
            "_view_name": "LayoutView",
            "align_content": null,
            "align_items": null,
            "align_self": null,
            "border": null,
            "bottom": null,
            "display": null,
            "flex": null,
            "flex_flow": null,
            "grid_area": null,
            "grid_auto_columns": null,
            "grid_auto_flow": null,
            "grid_auto_rows": null,
            "grid_column": null,
            "grid_gap": null,
            "grid_row": null,
            "grid_template_areas": null,
            "grid_template_columns": null,
            "grid_template_rows": null,
            "height": null,
            "justify_content": null,
            "justify_items": null,
            "left": null,
            "margin": null,
            "max_height": null,
            "max_width": null,
            "min_height": null,
            "min_width": null,
            "object_fit": null,
            "object_position": null,
            "order": null,
            "overflow": null,
            "overflow_x": null,
            "overflow_y": null,
            "padding": null,
            "right": null,
            "top": null,
            "visibility": null,
            "width": null
          }
        },
        "b71326d35cda4899977af54a0fa360a9": {
          "model_module": "@jupyter-widgets/controls",
          "model_name": "ProgressStyleModel",
          "model_module_version": "1.5.0",
          "state": {
            "_model_module": "@jupyter-widgets/controls",
            "_model_module_version": "1.5.0",
            "_model_name": "ProgressStyleModel",
            "_view_count": null,
            "_view_module": "@jupyter-widgets/base",
            "_view_module_version": "1.2.0",
            "_view_name": "StyleView",
            "bar_color": null,
            "description_width": ""
          }
        },
        "3a75ea9467ef4dcda454d1c67a0e9f44": {
          "model_module": "@jupyter-widgets/base",
          "model_name": "LayoutModel",
          "model_module_version": "1.2.0",
          "state": {
            "_model_module": "@jupyter-widgets/base",
            "_model_module_version": "1.2.0",
            "_model_name": "LayoutModel",
            "_view_count": null,
            "_view_module": "@jupyter-widgets/base",
            "_view_module_version": "1.2.0",
            "_view_name": "LayoutView",
            "align_content": null,
            "align_items": null,
            "align_self": null,
            "border": null,
            "bottom": null,
            "display": null,
            "flex": null,
            "flex_flow": null,
            "grid_area": null,
            "grid_auto_columns": null,
            "grid_auto_flow": null,
            "grid_auto_rows": null,
            "grid_column": null,
            "grid_gap": null,
            "grid_row": null,
            "grid_template_areas": null,
            "grid_template_columns": null,
            "grid_template_rows": null,
            "height": null,
            "justify_content": null,
            "justify_items": null,
            "left": null,
            "margin": null,
            "max_height": null,
            "max_width": null,
            "min_height": null,
            "min_width": null,
            "object_fit": null,
            "object_position": null,
            "order": null,
            "overflow": null,
            "overflow_x": null,
            "overflow_y": null,
            "padding": null,
            "right": null,
            "top": null,
            "visibility": null,
            "width": null
          }
        },
        "686531d80fd4409bb87d4ecf629c3f18": {
          "model_module": "@jupyter-widgets/controls",
          "model_name": "DescriptionStyleModel",
          "model_module_version": "1.5.0",
          "state": {
            "_model_module": "@jupyter-widgets/controls",
            "_model_module_version": "1.5.0",
            "_model_name": "DescriptionStyleModel",
            "_view_count": null,
            "_view_module": "@jupyter-widgets/base",
            "_view_module_version": "1.2.0",
            "_view_name": "StyleView",
            "description_width": ""
          }
        },
        "84e33224c4fc4742a925c4ab72618a80": {
          "model_module": "@jupyter-widgets/controls",
          "model_name": "HBoxModel",
          "model_module_version": "1.5.0",
          "state": {
            "_dom_classes": [],
            "_model_module": "@jupyter-widgets/controls",
            "_model_module_version": "1.5.0",
            "_model_name": "HBoxModel",
            "_view_count": null,
            "_view_module": "@jupyter-widgets/controls",
            "_view_module_version": "1.5.0",
            "_view_name": "HBoxView",
            "box_style": "",
            "children": [
              "IPY_MODEL_180254b1195347d59c1e30e38e427c6e",
              "IPY_MODEL_fb265a48092c4488877e395ab192242b",
              "IPY_MODEL_3579c35344f143ddb27580dff40cb87b"
            ],
            "layout": "IPY_MODEL_b6743343473c439db9fe0d20ccadfe3b"
          }
        },
        "180254b1195347d59c1e30e38e427c6e": {
          "model_module": "@jupyter-widgets/controls",
          "model_name": "HTMLModel",
          "model_module_version": "1.5.0",
          "state": {
            "_dom_classes": [],
            "_model_module": "@jupyter-widgets/controls",
            "_model_module_version": "1.5.0",
            "_model_name": "HTMLModel",
            "_view_count": null,
            "_view_module": "@jupyter-widgets/controls",
            "_view_module_version": "1.5.0",
            "_view_name": "HTMLView",
            "description": "",
            "description_tooltip": null,
            "layout": "IPY_MODEL_d6686014eae54aa9ba0e4fd7b6fa0d02",
            "placeholder": "​",
            "style": "IPY_MODEL_cd271efe0e8b42a4907306d0293c2fd0",
            "value": "Loading checkpoint shards: 100%"
          }
        },
        "fb265a48092c4488877e395ab192242b": {
          "model_module": "@jupyter-widgets/controls",
          "model_name": "FloatProgressModel",
          "model_module_version": "1.5.0",
          "state": {
            "_dom_classes": [],
            "_model_module": "@jupyter-widgets/controls",
            "_model_module_version": "1.5.0",
            "_model_name": "FloatProgressModel",
            "_view_count": null,
            "_view_module": "@jupyter-widgets/controls",
            "_view_module_version": "1.5.0",
            "_view_name": "ProgressView",
            "bar_style": "success",
            "description": "",
            "description_tooltip": null,
            "layout": "IPY_MODEL_f0e5f62e5ddc4232b365c914cbede9a9",
            "max": 2,
            "min": 0,
            "orientation": "horizontal",
            "style": "IPY_MODEL_5e021dea01ae44528deae594dfc3341a",
            "value": 2
          }
        },
        "3579c35344f143ddb27580dff40cb87b": {
          "model_module": "@jupyter-widgets/controls",
          "model_name": "HTMLModel",
          "model_module_version": "1.5.0",
          "state": {
            "_dom_classes": [],
            "_model_module": "@jupyter-widgets/controls",
            "_model_module_version": "1.5.0",
            "_model_name": "HTMLModel",
            "_view_count": null,
            "_view_module": "@jupyter-widgets/controls",
            "_view_module_version": "1.5.0",
            "_view_name": "HTMLView",
            "description": "",
            "description_tooltip": null,
            "layout": "IPY_MODEL_ab3bfff4a6304f92995d6f49fe3cf952",
            "placeholder": "​",
            "style": "IPY_MODEL_3b1c19ac76da4784ae8c29038c5f0482",
            "value": " 2/2 [00:39&lt;00:00, 18.95s/it]"
          }
        },
        "b6743343473c439db9fe0d20ccadfe3b": {
          "model_module": "@jupyter-widgets/base",
          "model_name": "LayoutModel",
          "model_module_version": "1.2.0",
          "state": {
            "_model_module": "@jupyter-widgets/base",
            "_model_module_version": "1.2.0",
            "_model_name": "LayoutModel",
            "_view_count": null,
            "_view_module": "@jupyter-widgets/base",
            "_view_module_version": "1.2.0",
            "_view_name": "LayoutView",
            "align_content": null,
            "align_items": null,
            "align_self": null,
            "border": null,
            "bottom": null,
            "display": null,
            "flex": null,
            "flex_flow": null,
            "grid_area": null,
            "grid_auto_columns": null,
            "grid_auto_flow": null,
            "grid_auto_rows": null,
            "grid_column": null,
            "grid_gap": null,
            "grid_row": null,
            "grid_template_areas": null,
            "grid_template_columns": null,
            "grid_template_rows": null,
            "height": null,
            "justify_content": null,
            "justify_items": null,
            "left": null,
            "margin": null,
            "max_height": null,
            "max_width": null,
            "min_height": null,
            "min_width": null,
            "object_fit": null,
            "object_position": null,
            "order": null,
            "overflow": null,
            "overflow_x": null,
            "overflow_y": null,
            "padding": null,
            "right": null,
            "top": null,
            "visibility": null,
            "width": null
          }
        },
        "d6686014eae54aa9ba0e4fd7b6fa0d02": {
          "model_module": "@jupyter-widgets/base",
          "model_name": "LayoutModel",
          "model_module_version": "1.2.0",
          "state": {
            "_model_module": "@jupyter-widgets/base",
            "_model_module_version": "1.2.0",
            "_model_name": "LayoutModel",
            "_view_count": null,
            "_view_module": "@jupyter-widgets/base",
            "_view_module_version": "1.2.0",
            "_view_name": "LayoutView",
            "align_content": null,
            "align_items": null,
            "align_self": null,
            "border": null,
            "bottom": null,
            "display": null,
            "flex": null,
            "flex_flow": null,
            "grid_area": null,
            "grid_auto_columns": null,
            "grid_auto_flow": null,
            "grid_auto_rows": null,
            "grid_column": null,
            "grid_gap": null,
            "grid_row": null,
            "grid_template_areas": null,
            "grid_template_columns": null,
            "grid_template_rows": null,
            "height": null,
            "justify_content": null,
            "justify_items": null,
            "left": null,
            "margin": null,
            "max_height": null,
            "max_width": null,
            "min_height": null,
            "min_width": null,
            "object_fit": null,
            "object_position": null,
            "order": null,
            "overflow": null,
            "overflow_x": null,
            "overflow_y": null,
            "padding": null,
            "right": null,
            "top": null,
            "visibility": null,
            "width": null
          }
        },
        "cd271efe0e8b42a4907306d0293c2fd0": {
          "model_module": "@jupyter-widgets/controls",
          "model_name": "DescriptionStyleModel",
          "model_module_version": "1.5.0",
          "state": {
            "_model_module": "@jupyter-widgets/controls",
            "_model_module_version": "1.5.0",
            "_model_name": "DescriptionStyleModel",
            "_view_count": null,
            "_view_module": "@jupyter-widgets/base",
            "_view_module_version": "1.2.0",
            "_view_name": "StyleView",
            "description_width": ""
          }
        },
        "f0e5f62e5ddc4232b365c914cbede9a9": {
          "model_module": "@jupyter-widgets/base",
          "model_name": "LayoutModel",
          "model_module_version": "1.2.0",
          "state": {
            "_model_module": "@jupyter-widgets/base",
            "_model_module_version": "1.2.0",
            "_model_name": "LayoutModel",
            "_view_count": null,
            "_view_module": "@jupyter-widgets/base",
            "_view_module_version": "1.2.0",
            "_view_name": "LayoutView",
            "align_content": null,
            "align_items": null,
            "align_self": null,
            "border": null,
            "bottom": null,
            "display": null,
            "flex": null,
            "flex_flow": null,
            "grid_area": null,
            "grid_auto_columns": null,
            "grid_auto_flow": null,
            "grid_auto_rows": null,
            "grid_column": null,
            "grid_gap": null,
            "grid_row": null,
            "grid_template_areas": null,
            "grid_template_columns": null,
            "grid_template_rows": null,
            "height": null,
            "justify_content": null,
            "justify_items": null,
            "left": null,
            "margin": null,
            "max_height": null,
            "max_width": null,
            "min_height": null,
            "min_width": null,
            "object_fit": null,
            "object_position": null,
            "order": null,
            "overflow": null,
            "overflow_x": null,
            "overflow_y": null,
            "padding": null,
            "right": null,
            "top": null,
            "visibility": null,
            "width": null
          }
        },
        "5e021dea01ae44528deae594dfc3341a": {
          "model_module": "@jupyter-widgets/controls",
          "model_name": "ProgressStyleModel",
          "model_module_version": "1.5.0",
          "state": {
            "_model_module": "@jupyter-widgets/controls",
            "_model_module_version": "1.5.0",
            "_model_name": "ProgressStyleModel",
            "_view_count": null,
            "_view_module": "@jupyter-widgets/base",
            "_view_module_version": "1.2.0",
            "_view_name": "StyleView",
            "bar_color": null,
            "description_width": ""
          }
        },
        "ab3bfff4a6304f92995d6f49fe3cf952": {
          "model_module": "@jupyter-widgets/base",
          "model_name": "LayoutModel",
          "model_module_version": "1.2.0",
          "state": {
            "_model_module": "@jupyter-widgets/base",
            "_model_module_version": "1.2.0",
            "_model_name": "LayoutModel",
            "_view_count": null,
            "_view_module": "@jupyter-widgets/base",
            "_view_module_version": "1.2.0",
            "_view_name": "LayoutView",
            "align_content": null,
            "align_items": null,
            "align_self": null,
            "border": null,
            "bottom": null,
            "display": null,
            "flex": null,
            "flex_flow": null,
            "grid_area": null,
            "grid_auto_columns": null,
            "grid_auto_flow": null,
            "grid_auto_rows": null,
            "grid_column": null,
            "grid_gap": null,
            "grid_row": null,
            "grid_template_areas": null,
            "grid_template_columns": null,
            "grid_template_rows": null,
            "height": null,
            "justify_content": null,
            "justify_items": null,
            "left": null,
            "margin": null,
            "max_height": null,
            "max_width": null,
            "min_height": null,
            "min_width": null,
            "object_fit": null,
            "object_position": null,
            "order": null,
            "overflow": null,
            "overflow_x": null,
            "overflow_y": null,
            "padding": null,
            "right": null,
            "top": null,
            "visibility": null,
            "width": null
          }
        },
        "3b1c19ac76da4784ae8c29038c5f0482": {
          "model_module": "@jupyter-widgets/controls",
          "model_name": "DescriptionStyleModel",
          "model_module_version": "1.5.0",
          "state": {
            "_model_module": "@jupyter-widgets/controls",
            "_model_module_version": "1.5.0",
            "_model_name": "DescriptionStyleModel",
            "_view_count": null,
            "_view_module": "@jupyter-widgets/base",
            "_view_module_version": "1.2.0",
            "_view_name": "StyleView",
            "description_width": ""
          }
        }
      }
    }
  },
  "nbformat": 4,
  "nbformat_minor": 0
}