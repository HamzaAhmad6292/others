{
  "cells": [
    {
      "cell_type": "code",
      "execution_count": null,
      "metadata": {
        "id": "kQW_gGY7n-uN",
        "colab": {
          "base_uri": "https://localhost:8080/"
        },
        "outputId": "1e13187e-d0e6-48f8-a4c6-547530914fd9"
      },
      "outputs": [
        {
          "output_type": "stream",
          "name": "stdout",
          "text": [
            "Collecting langchain_community\n",
            "  Downloading langchain_community-0.2.6-py3-none-any.whl (2.2 MB)\n",
            "\u001b[2K     \u001b[90m━━━━━━━━━━━━━━━━━━━━━━━━━━━━━━━━━━━━━━━━\u001b[0m \u001b[32m2.2/2.2 MB\u001b[0m \u001b[31m13.4 MB/s\u001b[0m eta \u001b[36m0:00:00\u001b[0m\n",
            "\u001b[?25hRequirement already satisfied: PyYAML>=5.3 in /usr/local/lib/python3.10/dist-packages (from langchain_community) (6.0.1)\n",
            "Requirement already satisfied: SQLAlchemy<3,>=1.4 in /usr/local/lib/python3.10/dist-packages (from langchain_community) (2.0.31)\n",
            "Requirement already satisfied: aiohttp<4.0.0,>=3.8.3 in /usr/local/lib/python3.10/dist-packages (from langchain_community) (3.9.5)\n",
            "Collecting dataclasses-json<0.7,>=0.5.7 (from langchain_community)\n",
            "  Downloading dataclasses_json-0.6.7-py3-none-any.whl (28 kB)\n",
            "Collecting langchain<0.3.0,>=0.2.6 (from langchain_community)\n",
            "  Downloading langchain-0.2.6-py3-none-any.whl (975 kB)\n",
            "\u001b[2K     \u001b[90m━━━━━━━━━━━━━━━━━━━━━━━━━━━━━━━━━━━━━━━━\u001b[0m \u001b[32m975.5/975.5 kB\u001b[0m \u001b[31m18.0 MB/s\u001b[0m eta \u001b[36m0:00:00\u001b[0m\n",
            "\u001b[?25hCollecting langchain-core<0.3.0,>=0.2.10 (from langchain_community)\n",
            "  Downloading langchain_core-0.2.11-py3-none-any.whl (337 kB)\n",
            "\u001b[2K     \u001b[90m━━━━━━━━━━━━━━━━━━━━━━━━━━━━━━━━━━━━━━━━\u001b[0m \u001b[32m337.4/337.4 kB\u001b[0m \u001b[31m14.4 MB/s\u001b[0m eta \u001b[36m0:00:00\u001b[0m\n",
            "\u001b[?25hCollecting langsmith<0.2.0,>=0.1.0 (from langchain_community)\n",
            "  Downloading langsmith-0.1.83-py3-none-any.whl (127 kB)\n",
            "\u001b[2K     \u001b[90m━━━━━━━━━━━━━━━━━━━━━━━━━━━━━━━━━━━━━━━━\u001b[0m \u001b[32m127.5/127.5 kB\u001b[0m \u001b[31m6.8 MB/s\u001b[0m eta \u001b[36m0:00:00\u001b[0m\n",
            "\u001b[?25hRequirement already satisfied: numpy<2,>=1 in /usr/local/lib/python3.10/dist-packages (from langchain_community) (1.25.2)\n",
            "Requirement already satisfied: requests<3,>=2 in /usr/local/lib/python3.10/dist-packages (from langchain_community) (2.31.0)\n",
            "Requirement already satisfied: tenacity!=8.4.0,<9.0.0,>=8.1.0 in /usr/local/lib/python3.10/dist-packages (from langchain_community) (8.4.2)\n",
            "Requirement already satisfied: aiosignal>=1.1.2 in /usr/local/lib/python3.10/dist-packages (from aiohttp<4.0.0,>=3.8.3->langchain_community) (1.3.1)\n",
            "Requirement already satisfied: attrs>=17.3.0 in /usr/local/lib/python3.10/dist-packages (from aiohttp<4.0.0,>=3.8.3->langchain_community) (23.2.0)\n",
            "Requirement already satisfied: frozenlist>=1.1.1 in /usr/local/lib/python3.10/dist-packages (from aiohttp<4.0.0,>=3.8.3->langchain_community) (1.4.1)\n",
            "Requirement already satisfied: multidict<7.0,>=4.5 in /usr/local/lib/python3.10/dist-packages (from aiohttp<4.0.0,>=3.8.3->langchain_community) (6.0.5)\n",
            "Requirement already satisfied: yarl<2.0,>=1.0 in /usr/local/lib/python3.10/dist-packages (from aiohttp<4.0.0,>=3.8.3->langchain_community) (1.9.4)\n",
            "Requirement already satisfied: async-timeout<5.0,>=4.0 in /usr/local/lib/python3.10/dist-packages (from aiohttp<4.0.0,>=3.8.3->langchain_community) (4.0.3)\n",
            "Collecting marshmallow<4.0.0,>=3.18.0 (from dataclasses-json<0.7,>=0.5.7->langchain_community)\n",
            "  Downloading marshmallow-3.21.3-py3-none-any.whl (49 kB)\n",
            "\u001b[2K     \u001b[90m━━━━━━━━━━━━━━━━━━━━━━━━━━━━━━━━━━━━━━━━\u001b[0m \u001b[32m49.2/49.2 kB\u001b[0m \u001b[31m3.0 MB/s\u001b[0m eta \u001b[36m0:00:00\u001b[0m\n",
            "\u001b[?25hCollecting typing-inspect<1,>=0.4.0 (from dataclasses-json<0.7,>=0.5.7->langchain_community)\n",
            "  Downloading typing_inspect-0.9.0-py3-none-any.whl (8.8 kB)\n",
            "Collecting langchain-text-splitters<0.3.0,>=0.2.0 (from langchain<0.3.0,>=0.2.6->langchain_community)\n",
            "  Downloading langchain_text_splitters-0.2.2-py3-none-any.whl (25 kB)\n",
            "Requirement already satisfied: pydantic<3,>=1 in /usr/local/lib/python3.10/dist-packages (from langchain<0.3.0,>=0.2.6->langchain_community) (2.8.0)\n",
            "Collecting jsonpatch<2.0,>=1.33 (from langchain-core<0.3.0,>=0.2.10->langchain_community)\n",
            "  Downloading jsonpatch-1.33-py2.py3-none-any.whl (12 kB)\n",
            "Requirement already satisfied: packaging<25,>=23.2 in /usr/local/lib/python3.10/dist-packages (from langchain-core<0.3.0,>=0.2.10->langchain_community) (24.1)\n",
            "Collecting orjson<4.0.0,>=3.9.14 (from langsmith<0.2.0,>=0.1.0->langchain_community)\n",
            "  Downloading orjson-3.10.6-cp310-cp310-manylinux_2_17_x86_64.manylinux2014_x86_64.whl (141 kB)\n",
            "\u001b[2K     \u001b[90m━━━━━━━━━━━━━━━━━━━━━━━━━━━━━━━━━━━━━━━━\u001b[0m \u001b[32m141.1/141.1 kB\u001b[0m \u001b[31m1.8 MB/s\u001b[0m eta \u001b[36m0:00:00\u001b[0m\n",
            "\u001b[?25hRequirement already satisfied: charset-normalizer<4,>=2 in /usr/local/lib/python3.10/dist-packages (from requests<3,>=2->langchain_community) (3.3.2)\n",
            "Requirement already satisfied: idna<4,>=2.5 in /usr/local/lib/python3.10/dist-packages (from requests<3,>=2->langchain_community) (3.7)\n",
            "Requirement already satisfied: urllib3<3,>=1.21.1 in /usr/local/lib/python3.10/dist-packages (from requests<3,>=2->langchain_community) (2.0.7)\n",
            "Requirement already satisfied: certifi>=2017.4.17 in /usr/local/lib/python3.10/dist-packages (from requests<3,>=2->langchain_community) (2024.6.2)\n",
            "Requirement already satisfied: typing-extensions>=4.6.0 in /usr/local/lib/python3.10/dist-packages (from SQLAlchemy<3,>=1.4->langchain_community) (4.12.2)\n",
            "Requirement already satisfied: greenlet!=0.4.17 in /usr/local/lib/python3.10/dist-packages (from SQLAlchemy<3,>=1.4->langchain_community) (3.0.3)\n",
            "Collecting jsonpointer>=1.9 (from jsonpatch<2.0,>=1.33->langchain-core<0.3.0,>=0.2.10->langchain_community)\n",
            "  Downloading jsonpointer-3.0.0-py2.py3-none-any.whl (7.6 kB)\n",
            "Requirement already satisfied: annotated-types>=0.4.0 in /usr/local/lib/python3.10/dist-packages (from pydantic<3,>=1->langchain<0.3.0,>=0.2.6->langchain_community) (0.7.0)\n",
            "Requirement already satisfied: pydantic-core==2.20.0 in /usr/local/lib/python3.10/dist-packages (from pydantic<3,>=1->langchain<0.3.0,>=0.2.6->langchain_community) (2.20.0)\n",
            "Collecting mypy-extensions>=0.3.0 (from typing-inspect<1,>=0.4.0->dataclasses-json<0.7,>=0.5.7->langchain_community)\n",
            "  Downloading mypy_extensions-1.0.0-py3-none-any.whl (4.7 kB)\n",
            "Installing collected packages: orjson, mypy-extensions, marshmallow, jsonpointer, typing-inspect, jsonpatch, langsmith, dataclasses-json, langchain-core, langchain-text-splitters, langchain, langchain_community\n",
            "Successfully installed dataclasses-json-0.6.7 jsonpatch-1.33 jsonpointer-3.0.0 langchain-0.2.6 langchain-core-0.2.11 langchain-text-splitters-0.2.2 langchain_community-0.2.6 langsmith-0.1.83 marshmallow-3.21.3 mypy-extensions-1.0.0 orjson-3.10.6 typing-inspect-0.9.0\n",
            "Collecting unstructured\n",
            "  Downloading unstructured-0.14.9-py3-none-any.whl (2.1 MB)\n",
            "\u001b[2K     \u001b[90m━━━━━━━━━━━━━━━━━━━━━━━━━━━━━━━━━━━━━━━━\u001b[0m \u001b[32m2.1/2.1 MB\u001b[0m \u001b[31m11.2 MB/s\u001b[0m eta \u001b[36m0:00:00\u001b[0m\n",
            "\u001b[?25hRequirement already satisfied: chardet in /usr/local/lib/python3.10/dist-packages (from unstructured) (5.2.0)\n",
            "Collecting filetype (from unstructured)\n",
            "  Downloading filetype-1.2.0-py2.py3-none-any.whl (19 kB)\n",
            "Collecting python-magic (from unstructured)\n",
            "  Downloading python_magic-0.4.27-py2.py3-none-any.whl (13 kB)\n",
            "Requirement already satisfied: lxml in /usr/local/lib/python3.10/dist-packages (from unstructured) (4.9.4)\n",
            "Requirement already satisfied: nltk in /usr/local/lib/python3.10/dist-packages (from unstructured) (3.8.1)\n",
            "Requirement already satisfied: tabulate in /usr/local/lib/python3.10/dist-packages (from unstructured) (0.9.0)\n",
            "Requirement already satisfied: requests in /usr/local/lib/python3.10/dist-packages (from unstructured) (2.31.0)\n",
            "Requirement already satisfied: beautifulsoup4 in /usr/local/lib/python3.10/dist-packages (from unstructured) (4.12.3)\n",
            "Collecting emoji (from unstructured)\n",
            "  Downloading emoji-2.12.1-py3-none-any.whl (431 kB)\n",
            "\u001b[2K     \u001b[90m━━━━━━━━━━━━━━━━━━━━━━━━━━━━━━━━━━━━━━━━\u001b[0m \u001b[32m431.4/431.4 kB\u001b[0m \u001b[31m11.5 MB/s\u001b[0m eta \u001b[36m0:00:00\u001b[0m\n",
            "\u001b[?25hRequirement already satisfied: dataclasses-json in /usr/local/lib/python3.10/dist-packages (from unstructured) (0.6.7)\n",
            "Collecting python-iso639 (from unstructured)\n",
            "  Downloading python_iso639-2024.4.27-py3-none-any.whl (274 kB)\n",
            "\u001b[2K     \u001b[90m━━━━━━━━━━━━━━━━━━━━━━━━━━━━━━━━━━━━━━━━\u001b[0m \u001b[32m274.7/274.7 kB\u001b[0m \u001b[31m14.8 MB/s\u001b[0m eta \u001b[36m0:00:00\u001b[0m\n",
            "\u001b[?25hCollecting langdetect (from unstructured)\n",
            "  Downloading langdetect-1.0.9.tar.gz (981 kB)\n",
            "\u001b[2K     \u001b[90m━━━━━━━━━━━━━━━━━━━━━━━━━━━━━━━━━━━━━━━━\u001b[0m \u001b[32m981.5/981.5 kB\u001b[0m \u001b[31m26.8 MB/s\u001b[0m eta \u001b[36m0:00:00\u001b[0m\n",
            "\u001b[?25h  Preparing metadata (setup.py) ... \u001b[?25l\u001b[?25hdone\n",
            "Requirement already satisfied: numpy<2 in /usr/local/lib/python3.10/dist-packages (from unstructured) (1.25.2)\n",
            "Collecting rapidfuzz (from unstructured)\n",
            "  Downloading rapidfuzz-3.9.4-cp310-cp310-manylinux_2_17_x86_64.manylinux2014_x86_64.whl (3.4 MB)\n",
            "\u001b[2K     \u001b[90m━━━━━━━━━━━━━━━━━━━━━━━━━━━━━━━━━━━━━━━━\u001b[0m \u001b[32m3.4/3.4 MB\u001b[0m \u001b[31m47.2 MB/s\u001b[0m eta \u001b[36m0:00:00\u001b[0m\n",
            "\u001b[?25hCollecting backoff (from unstructured)\n",
            "  Downloading backoff-2.2.1-py3-none-any.whl (15 kB)\n",
            "Requirement already satisfied: typing-extensions in /usr/local/lib/python3.10/dist-packages (from unstructured) (4.12.2)\n",
            "Collecting unstructured-client (from unstructured)\n",
            "  Downloading unstructured_client-0.23.8-py3-none-any.whl (40 kB)\n",
            "\u001b[2K     \u001b[90m━━━━━━━━━━━━━━━━━━━━━━━━━━━━━━━━━━━━━━━━\u001b[0m \u001b[32m41.0/41.0 kB\u001b[0m \u001b[31m6.0 MB/s\u001b[0m eta \u001b[36m0:00:00\u001b[0m\n",
            "\u001b[?25hRequirement already satisfied: wrapt in /usr/local/lib/python3.10/dist-packages (from unstructured) (1.14.1)\n",
            "Requirement already satisfied: tqdm in /usr/local/lib/python3.10/dist-packages (from unstructured) (4.66.4)\n",
            "Requirement already satisfied: soupsieve>1.2 in /usr/local/lib/python3.10/dist-packages (from beautifulsoup4->unstructured) (2.5)\n",
            "Requirement already satisfied: marshmallow<4.0.0,>=3.18.0 in /usr/local/lib/python3.10/dist-packages (from dataclasses-json->unstructured) (3.21.3)\n",
            "Requirement already satisfied: typing-inspect<1,>=0.4.0 in /usr/local/lib/python3.10/dist-packages (from dataclasses-json->unstructured) (0.9.0)\n",
            "Requirement already satisfied: six in /usr/local/lib/python3.10/dist-packages (from langdetect->unstructured) (1.16.0)\n",
            "Requirement already satisfied: click in /usr/local/lib/python3.10/dist-packages (from nltk->unstructured) (8.1.7)\n",
            "Requirement already satisfied: joblib in /usr/local/lib/python3.10/dist-packages (from nltk->unstructured) (1.4.2)\n",
            "Requirement already satisfied: regex>=2021.8.3 in /usr/local/lib/python3.10/dist-packages (from nltk->unstructured) (2024.5.15)\n",
            "Requirement already satisfied: charset-normalizer<4,>=2 in /usr/local/lib/python3.10/dist-packages (from requests->unstructured) (3.3.2)\n",
            "Requirement already satisfied: idna<4,>=2.5 in /usr/local/lib/python3.10/dist-packages (from requests->unstructured) (3.7)\n",
            "Requirement already satisfied: urllib3<3,>=1.21.1 in /usr/local/lib/python3.10/dist-packages (from requests->unstructured) (2.0.7)\n",
            "Requirement already satisfied: certifi>=2017.4.17 in /usr/local/lib/python3.10/dist-packages (from requests->unstructured) (2024.6.2)\n",
            "Collecting deepdiff>=6.0 (from unstructured-client->unstructured)\n",
            "  Downloading deepdiff-7.0.1-py3-none-any.whl (80 kB)\n",
            "\u001b[2K     \u001b[90m━━━━━━━━━━━━━━━━━━━━━━━━━━━━━━━━━━━━━━━━\u001b[0m \u001b[32m80.8/80.8 kB\u001b[0m \u001b[31m10.6 MB/s\u001b[0m eta \u001b[36m0:00:00\u001b[0m\n",
            "\u001b[?25hCollecting httpx>=0.27.0 (from unstructured-client->unstructured)\n",
            "  Downloading httpx-0.27.0-py3-none-any.whl (75 kB)\n",
            "\u001b[2K     \u001b[90m━━━━━━━━━━━━━━━━━━━━━━━━━━━━━━━━━━━━━━━━\u001b[0m \u001b[32m75.6/75.6 kB\u001b[0m \u001b[31m10.5 MB/s\u001b[0m eta \u001b[36m0:00:00\u001b[0m\n",
            "\u001b[?25hCollecting jsonpath-python>=1.0.6 (from unstructured-client->unstructured)\n",
            "  Downloading jsonpath_python-1.0.6-py3-none-any.whl (7.6 kB)\n",
            "Requirement already satisfied: mypy-extensions>=1.0.0 in /usr/local/lib/python3.10/dist-packages (from unstructured-client->unstructured) (1.0.0)\n",
            "Requirement already satisfied: nest-asyncio>=1.6.0 in /usr/local/lib/python3.10/dist-packages (from unstructured-client->unstructured) (1.6.0)\n",
            "Requirement already satisfied: packaging>=23.1 in /usr/local/lib/python3.10/dist-packages (from unstructured-client->unstructured) (24.1)\n",
            "Collecting pypdf>=4.0 (from unstructured-client->unstructured)\n",
            "  Downloading pypdf-4.2.0-py3-none-any.whl (290 kB)\n",
            "\u001b[2K     \u001b[90m━━━━━━━━━━━━━━━━━━━━━━━━━━━━━━━━━━━━━━━━\u001b[0m \u001b[32m290.4/290.4 kB\u001b[0m \u001b[31m33.4 MB/s\u001b[0m eta \u001b[36m0:00:00\u001b[0m\n",
            "\u001b[?25hRequirement already satisfied: python-dateutil>=2.8.2 in /usr/local/lib/python3.10/dist-packages (from unstructured-client->unstructured) (2.8.2)\n",
            "Collecting requests-toolbelt>=1.0.0 (from unstructured-client->unstructured)\n",
            "  Downloading requests_toolbelt-1.0.0-py2.py3-none-any.whl (54 kB)\n",
            "\u001b[2K     \u001b[90m━━━━━━━━━━━━━━━━━━━━━━━━━━━━━━━━━━━━━━━━\u001b[0m \u001b[32m54.5/54.5 kB\u001b[0m \u001b[31m7.4 MB/s\u001b[0m eta \u001b[36m0:00:00\u001b[0m\n",
            "\u001b[?25hCollecting ordered-set<4.2.0,>=4.1.0 (from deepdiff>=6.0->unstructured-client->unstructured)\n",
            "  Downloading ordered_set-4.1.0-py3-none-any.whl (7.6 kB)\n",
            "Requirement already satisfied: anyio in /usr/local/lib/python3.10/dist-packages (from httpx>=0.27.0->unstructured-client->unstructured) (3.7.1)\n",
            "Collecting httpcore==1.* (from httpx>=0.27.0->unstructured-client->unstructured)\n",
            "  Downloading httpcore-1.0.5-py3-none-any.whl (77 kB)\n",
            "\u001b[2K     \u001b[90m━━━━━━━━━━━━━━━━━━━━━━━━━━━━━━━━━━━━━━━━\u001b[0m \u001b[32m77.9/77.9 kB\u001b[0m \u001b[31m11.1 MB/s\u001b[0m eta \u001b[36m0:00:00\u001b[0m\n",
            "\u001b[?25hRequirement already satisfied: sniffio in /usr/local/lib/python3.10/dist-packages (from httpx>=0.27.0->unstructured-client->unstructured) (1.3.1)\n",
            "Collecting h11<0.15,>=0.13 (from httpcore==1.*->httpx>=0.27.0->unstructured-client->unstructured)\n",
            "  Downloading h11-0.14.0-py3-none-any.whl (58 kB)\n",
            "\u001b[2K     \u001b[90m━━━━━━━━━━━━━━━━━━━━━━━━━━━━━━━━━━━━━━━━\u001b[0m \u001b[32m58.3/58.3 kB\u001b[0m \u001b[31m8.7 MB/s\u001b[0m eta \u001b[36m0:00:00\u001b[0m\n",
            "\u001b[?25hRequirement already satisfied: exceptiongroup in /usr/local/lib/python3.10/dist-packages (from anyio->httpx>=0.27.0->unstructured-client->unstructured) (1.2.1)\n",
            "Building wheels for collected packages: langdetect\n",
            "  Building wheel for langdetect (setup.py) ... \u001b[?25l\u001b[?25hdone\n",
            "  Created wheel for langdetect: filename=langdetect-1.0.9-py3-none-any.whl size=993227 sha256=86708d2441d43b505c47321e1ae12b2f1cc618561faf07977de13045c2875ecf\n",
            "  Stored in directory: /root/.cache/pip/wheels/95/03/7d/59ea870c70ce4e5a370638b5462a7711ab78fba2f655d05106\n",
            "Successfully built langdetect\n",
            "Installing collected packages: filetype, rapidfuzz, python-magic, python-iso639, pypdf, ordered-set, langdetect, jsonpath-python, h11, emoji, backoff, requests-toolbelt, httpcore, deepdiff, httpx, unstructured-client, unstructured\n",
            "Successfully installed backoff-2.2.1 deepdiff-7.0.1 emoji-2.12.1 filetype-1.2.0 h11-0.14.0 httpcore-1.0.5 httpx-0.27.0 jsonpath-python-1.0.6 langdetect-1.0.9 ordered-set-4.1.0 pypdf-4.2.0 python-iso639-2024.4.27 python-magic-0.4.27 rapidfuzz-3.9.4 requests-toolbelt-1.0.0 unstructured-0.14.9 unstructured-client-0.23.8\n",
            "Requirement already satisfied: pillow in /usr/local/lib/python3.10/dist-packages (9.4.0)\n"
          ]
        }
      ],
      "source": [
        "!pip install langchain_community\n",
        "!pip install unstructured\n",
        "!pip install pillow"
      ]
    },
    {
      "cell_type": "code",
      "source": [
        "!pip install pdfminer.six\n",
        "!pip install pillow_heif\n",
        "!pip install unstructured_inference\n",
        "!pip install unstructured_pytesseract\n",
        "!pip install pytesseract\n",
        "!pip install tesseract\n",
        "!sudo apt-get install tesseract-ocr\n"
      ],
      "metadata": {
        "id": "D2TdcYfNY-8u",
        "colab": {
          "base_uri": "https://localhost:8080/"
        },
        "outputId": "d69deda9-90f1-477c-a9a4-302a2f97e4bc"
      },
      "execution_count": null,
      "outputs": [
        {
          "output_type": "stream",
          "name": "stdout",
          "text": [
            "Requirement already satisfied: pdfminer.six in /usr/local/lib/python3.10/dist-packages (20231228)\n",
            "Requirement already satisfied: charset-normalizer>=2.0.0 in /usr/local/lib/python3.10/dist-packages (from pdfminer.six) (3.3.2)\n",
            "Requirement already satisfied: cryptography>=36.0.0 in /usr/local/lib/python3.10/dist-packages (from pdfminer.six) (42.0.8)\n",
            "Requirement already satisfied: cffi>=1.12 in /usr/local/lib/python3.10/dist-packages (from cryptography>=36.0.0->pdfminer.six) (1.16.0)\n",
            "Requirement already satisfied: pycparser in /usr/local/lib/python3.10/dist-packages (from cffi>=1.12->cryptography>=36.0.0->pdfminer.six) (2.22)\n",
            "Requirement already satisfied: pillow_heif in /usr/local/lib/python3.10/dist-packages (0.17.0)\n",
            "Requirement already satisfied: pillow>=10.1.0 in /usr/local/lib/python3.10/dist-packages (from pillow_heif) (10.4.0)\n",
            "Collecting unstructured_inference\n",
            "  Using cached unstructured_inference-0.7.36-py3-none-any.whl (56 kB)\n",
            "Collecting layoutparser (from unstructured_inference)\n",
            "  Using cached layoutparser-0.3.4-py3-none-any.whl (19.2 MB)\n",
            "Collecting python-multipart (from unstructured_inference)\n",
            "  Using cached python_multipart-0.0.9-py3-none-any.whl (22 kB)\n",
            "Requirement already satisfied: huggingface-hub in /usr/local/lib/python3.10/dist-packages (from unstructured_inference) (0.23.4)\n",
            "Requirement already satisfied: opencv-python!=4.7.0.68 in /usr/local/lib/python3.10/dist-packages (from unstructured_inference) (4.8.0.76)\n",
            "Collecting onnx (from unstructured_inference)\n",
            "  Using cached onnx-1.16.1-cp310-cp310-manylinux_2_17_x86_64.manylinux2014_x86_64.whl (15.9 MB)\n",
            "Collecting onnxruntime>=1.17.0 (from unstructured_inference)\n",
            "  Using cached onnxruntime-1.18.1-cp310-cp310-manylinux_2_27_x86_64.manylinux_2_28_x86_64.whl (6.8 MB)\n",
            "Requirement already satisfied: matplotlib in /usr/local/lib/python3.10/dist-packages (from unstructured_inference) (3.7.1)\n",
            "Requirement already satisfied: torch in /usr/local/lib/python3.10/dist-packages (from unstructured_inference) (2.3.0+cu121)\n",
            "Collecting timm (from unstructured_inference)\n",
            "  Downloading timm-1.0.7-py3-none-any.whl (2.3 MB)\n",
            "\u001b[2K     \u001b[90m━━━━━━━━━━━━━━━━━━━━━━━━━━━━━━━━━━━━━━━━\u001b[0m \u001b[32m2.3/2.3 MB\u001b[0m \u001b[31m21.8 MB/s\u001b[0m eta \u001b[36m0:00:00\u001b[0m\n",
            "\u001b[?25hRequirement already satisfied: transformers>=4.25.1 in /usr/local/lib/python3.10/dist-packages (from unstructured_inference) (4.41.2)\n",
            "Requirement already satisfied: rapidfuzz in /usr/local/lib/python3.10/dist-packages (from unstructured_inference) (3.9.4)\n",
            "Collecting coloredlogs (from onnxruntime>=1.17.0->unstructured_inference)\n",
            "  Downloading coloredlogs-15.0.1-py2.py3-none-any.whl (46 kB)\n",
            "\u001b[2K     \u001b[90m━━━━━━━━━━━━━━━━━━━━━━━━━━━━━━━━━━━━━━━━\u001b[0m \u001b[32m46.0/46.0 kB\u001b[0m \u001b[31m3.4 MB/s\u001b[0m eta \u001b[36m0:00:00\u001b[0m\n",
            "\u001b[?25hRequirement already satisfied: flatbuffers in /usr/local/lib/python3.10/dist-packages (from onnxruntime>=1.17.0->unstructured_inference) (24.3.25)\n",
            "Requirement already satisfied: numpy<2.0,>=1.21.6 in /usr/local/lib/python3.10/dist-packages (from onnxruntime>=1.17.0->unstructured_inference) (1.25.2)\n",
            "Requirement already satisfied: packaging in /usr/local/lib/python3.10/dist-packages (from onnxruntime>=1.17.0->unstructured_inference) (24.1)\n",
            "Requirement already satisfied: protobuf in /usr/local/lib/python3.10/dist-packages (from onnxruntime>=1.17.0->unstructured_inference) (3.20.3)\n",
            "Requirement already satisfied: sympy in /usr/local/lib/python3.10/dist-packages (from onnxruntime>=1.17.0->unstructured_inference) (1.12.1)\n",
            "Requirement already satisfied: filelock in /usr/local/lib/python3.10/dist-packages (from transformers>=4.25.1->unstructured_inference) (3.15.4)\n",
            "Requirement already satisfied: pyyaml>=5.1 in /usr/local/lib/python3.10/dist-packages (from transformers>=4.25.1->unstructured_inference) (6.0.1)\n",
            "Requirement already satisfied: regex!=2019.12.17 in /usr/local/lib/python3.10/dist-packages (from transformers>=4.25.1->unstructured_inference) (2024.5.15)\n",
            "Requirement already satisfied: requests in /usr/local/lib/python3.10/dist-packages (from transformers>=4.25.1->unstructured_inference) (2.31.0)\n",
            "Requirement already satisfied: tokenizers<0.20,>=0.19 in /usr/local/lib/python3.10/dist-packages (from transformers>=4.25.1->unstructured_inference) (0.19.1)\n",
            "Requirement already satisfied: safetensors>=0.4.1 in /usr/local/lib/python3.10/dist-packages (from transformers>=4.25.1->unstructured_inference) (0.4.3)\n",
            "Requirement already satisfied: tqdm>=4.27 in /usr/local/lib/python3.10/dist-packages (from transformers>=4.25.1->unstructured_inference) (4.66.4)\n",
            "Requirement already satisfied: fsspec>=2023.5.0 in /usr/local/lib/python3.10/dist-packages (from huggingface-hub->unstructured_inference) (2023.6.0)\n",
            "Requirement already satisfied: typing-extensions>=3.7.4.3 in /usr/local/lib/python3.10/dist-packages (from huggingface-hub->unstructured_inference) (4.12.2)\n",
            "Requirement already satisfied: scipy in /usr/local/lib/python3.10/dist-packages (from layoutparser->unstructured_inference) (1.11.4)\n",
            "Requirement already satisfied: pandas in /usr/local/lib/python3.10/dist-packages (from layoutparser->unstructured_inference) (2.0.3)\n",
            "Requirement already satisfied: pillow in /usr/local/lib/python3.10/dist-packages (from layoutparser->unstructured_inference) (10.4.0)\n",
            "Collecting iopath (from layoutparser->unstructured_inference)\n",
            "  Downloading iopath-0.1.10.tar.gz (42 kB)\n",
            "\u001b[2K     \u001b[90m━━━━━━━━━━━━━━━━━━━━━━━━━━━━━━━━━━━━━━━━\u001b[0m \u001b[32m42.2/42.2 kB\u001b[0m \u001b[31m5.5 MB/s\u001b[0m eta \u001b[36m0:00:00\u001b[0m\n",
            "\u001b[?25h  Preparing metadata (setup.py) ... \u001b[?25l\u001b[?25hdone\n",
            "Collecting pdfplumber (from layoutparser->unstructured_inference)\n",
            "  Downloading pdfplumber-0.11.1-py3-none-any.whl (57 kB)\n",
            "\u001b[2K     \u001b[90m━━━━━━━━━━━━━━━━━━━━━━━━━━━━━━━━━━━━━━━━\u001b[0m \u001b[32m57.9/57.9 kB\u001b[0m \u001b[31m8.4 MB/s\u001b[0m eta \u001b[36m0:00:00\u001b[0m\n",
            "\u001b[?25hCollecting pdf2image (from layoutparser->unstructured_inference)\n",
            "  Downloading pdf2image-1.17.0-py3-none-any.whl (11 kB)\n",
            "Requirement already satisfied: contourpy>=1.0.1 in /usr/local/lib/python3.10/dist-packages (from matplotlib->unstructured_inference) (1.2.1)\n",
            "Requirement already satisfied: cycler>=0.10 in /usr/local/lib/python3.10/dist-packages (from matplotlib->unstructured_inference) (0.12.1)\n",
            "Requirement already satisfied: fonttools>=4.22.0 in /usr/local/lib/python3.10/dist-packages (from matplotlib->unstructured_inference) (4.53.0)\n",
            "Requirement already satisfied: kiwisolver>=1.0.1 in /usr/local/lib/python3.10/dist-packages (from matplotlib->unstructured_inference) (1.4.5)\n",
            "Requirement already satisfied: pyparsing>=2.3.1 in /usr/local/lib/python3.10/dist-packages (from matplotlib->unstructured_inference) (3.1.2)\n",
            "Requirement already satisfied: python-dateutil>=2.7 in /usr/local/lib/python3.10/dist-packages (from matplotlib->unstructured_inference) (2.8.2)\n",
            "Requirement already satisfied: torchvision in /usr/local/lib/python3.10/dist-packages (from timm->unstructured_inference) (0.18.0+cu121)\n",
            "Requirement already satisfied: networkx in /usr/local/lib/python3.10/dist-packages (from torch->unstructured_inference) (3.3)\n",
            "Requirement already satisfied: jinja2 in /usr/local/lib/python3.10/dist-packages (from torch->unstructured_inference) (3.1.4)\n",
            "Collecting nvidia-cuda-nvrtc-cu12==12.1.105 (from torch->unstructured_inference)\n",
            "  Using cached nvidia_cuda_nvrtc_cu12-12.1.105-py3-none-manylinux1_x86_64.whl (23.7 MB)\n",
            "Collecting nvidia-cuda-runtime-cu12==12.1.105 (from torch->unstructured_inference)\n",
            "  Using cached nvidia_cuda_runtime_cu12-12.1.105-py3-none-manylinux1_x86_64.whl (823 kB)\n",
            "Collecting nvidia-cuda-cupti-cu12==12.1.105 (from torch->unstructured_inference)\n",
            "  Using cached nvidia_cuda_cupti_cu12-12.1.105-py3-none-manylinux1_x86_64.whl (14.1 MB)\n",
            "Collecting nvidia-cudnn-cu12==8.9.2.26 (from torch->unstructured_inference)\n",
            "  Using cached nvidia_cudnn_cu12-8.9.2.26-py3-none-manylinux1_x86_64.whl (731.7 MB)\n",
            "Collecting nvidia-cublas-cu12==12.1.3.1 (from torch->unstructured_inference)\n",
            "  Using cached nvidia_cublas_cu12-12.1.3.1-py3-none-manylinux1_x86_64.whl (410.6 MB)\n",
            "Collecting nvidia-cufft-cu12==11.0.2.54 (from torch->unstructured_inference)\n",
            "  Using cached nvidia_cufft_cu12-11.0.2.54-py3-none-manylinux1_x86_64.whl (121.6 MB)\n",
            "Collecting nvidia-curand-cu12==10.3.2.106 (from torch->unstructured_inference)\n",
            "  Using cached nvidia_curand_cu12-10.3.2.106-py3-none-manylinux1_x86_64.whl (56.5 MB)\n",
            "Collecting nvidia-cusolver-cu12==11.4.5.107 (from torch->unstructured_inference)\n",
            "  Using cached nvidia_cusolver_cu12-11.4.5.107-py3-none-manylinux1_x86_64.whl (124.2 MB)\n",
            "Collecting nvidia-cusparse-cu12==12.1.0.106 (from torch->unstructured_inference)\n",
            "  Using cached nvidia_cusparse_cu12-12.1.0.106-py3-none-manylinux1_x86_64.whl (196.0 MB)\n",
            "Collecting nvidia-nccl-cu12==2.20.5 (from torch->unstructured_inference)\n",
            "  Using cached nvidia_nccl_cu12-2.20.5-py3-none-manylinux2014_x86_64.whl (176.2 MB)\n",
            "Collecting nvidia-nvtx-cu12==12.1.105 (from torch->unstructured_inference)\n",
            "  Using cached nvidia_nvtx_cu12-12.1.105-py3-none-manylinux1_x86_64.whl (99 kB)\n",
            "Requirement already satisfied: triton==2.3.0 in /usr/local/lib/python3.10/dist-packages (from torch->unstructured_inference) (2.3.0)\n",
            "Collecting nvidia-nvjitlink-cu12 (from nvidia-cusolver-cu12==11.4.5.107->torch->unstructured_inference)\n",
            "  Downloading nvidia_nvjitlink_cu12-12.5.82-py3-none-manylinux2014_x86_64.whl (21.3 MB)\n",
            "\u001b[2K     \u001b[90m━━━━━━━━━━━━━━━━━━━━━━━━━━━━━━━━━━━━━━━━\u001b[0m \u001b[32m21.3/21.3 MB\u001b[0m \u001b[31m68.3 MB/s\u001b[0m eta \u001b[36m0:00:00\u001b[0m\n",
            "\u001b[?25hRequirement already satisfied: six>=1.5 in /usr/local/lib/python3.10/dist-packages (from python-dateutil>=2.7->matplotlib->unstructured_inference) (1.16.0)\n",
            "Collecting humanfriendly>=9.1 (from coloredlogs->onnxruntime>=1.17.0->unstructured_inference)\n",
            "  Downloading humanfriendly-10.0-py2.py3-none-any.whl (86 kB)\n",
            "\u001b[2K     \u001b[90m━━━━━━━━━━━━━━━━━━━━━━━━━━━━━━━━━━━━━━━━\u001b[0m \u001b[32m86.8/86.8 kB\u001b[0m \u001b[31m12.1 MB/s\u001b[0m eta \u001b[36m0:00:00\u001b[0m\n",
            "\u001b[?25hCollecting portalocker (from iopath->layoutparser->unstructured_inference)\n",
            "  Downloading portalocker-2.10.0-py3-none-any.whl (18 kB)\n",
            "Requirement already satisfied: MarkupSafe>=2.0 in /usr/local/lib/python3.10/dist-packages (from jinja2->torch->unstructured_inference) (2.1.5)\n",
            "Requirement already satisfied: pytz>=2020.1 in /usr/local/lib/python3.10/dist-packages (from pandas->layoutparser->unstructured_inference) (2023.4)\n",
            "Requirement already satisfied: tzdata>=2022.1 in /usr/local/lib/python3.10/dist-packages (from pandas->layoutparser->unstructured_inference) (2024.1)\n",
            "Requirement already satisfied: pdfminer.six==20231228 in /usr/local/lib/python3.10/dist-packages (from pdfplumber->layoutparser->unstructured_inference) (20231228)\n",
            "Collecting pypdfium2>=4.18.0 (from pdfplumber->layoutparser->unstructured_inference)\n",
            "  Downloading pypdfium2-4.30.0-py3-none-manylinux_2_17_x86_64.manylinux2014_x86_64.whl (2.8 MB)\n",
            "\u001b[2K     \u001b[90m━━━━━━━━━━━━━━━━━━━━━━━━━━━━━━━━━━━━━━━━\u001b[0m \u001b[32m2.8/2.8 MB\u001b[0m \u001b[31m98.7 MB/s\u001b[0m eta \u001b[36m0:00:00\u001b[0m\n",
            "\u001b[?25hRequirement already satisfied: charset-normalizer>=2.0.0 in /usr/local/lib/python3.10/dist-packages (from pdfminer.six==20231228->pdfplumber->layoutparser->unstructured_inference) (3.3.2)\n",
            "Requirement already satisfied: cryptography>=36.0.0 in /usr/local/lib/python3.10/dist-packages (from pdfminer.six==20231228->pdfplumber->layoutparser->unstructured_inference) (42.0.8)\n",
            "Requirement already satisfied: idna<4,>=2.5 in /usr/local/lib/python3.10/dist-packages (from requests->transformers>=4.25.1->unstructured_inference) (3.7)\n",
            "Requirement already satisfied: urllib3<3,>=1.21.1 in /usr/local/lib/python3.10/dist-packages (from requests->transformers>=4.25.1->unstructured_inference) (2.0.7)\n",
            "Requirement already satisfied: certifi>=2017.4.17 in /usr/local/lib/python3.10/dist-packages (from requests->transformers>=4.25.1->unstructured_inference) (2024.6.2)\n",
            "Requirement already satisfied: mpmath<1.4.0,>=1.1.0 in /usr/local/lib/python3.10/dist-packages (from sympy->onnxruntime>=1.17.0->unstructured_inference) (1.3.0)\n",
            "Requirement already satisfied: cffi>=1.12 in /usr/local/lib/python3.10/dist-packages (from cryptography>=36.0.0->pdfminer.six==20231228->pdfplumber->layoutparser->unstructured_inference) (1.16.0)\n",
            "Requirement already satisfied: pycparser in /usr/local/lib/python3.10/dist-packages (from cffi>=1.12->cryptography>=36.0.0->pdfminer.six==20231228->pdfplumber->layoutparser->unstructured_inference) (2.22)\n",
            "Building wheels for collected packages: iopath\n",
            "  Building wheel for iopath (setup.py) ... \u001b[?25l\u001b[?25hdone\n",
            "  Created wheel for iopath: filename=iopath-0.1.10-py3-none-any.whl size=31532 sha256=f305e0af71a741e0e1a11a63ca353735c10f8854e6883b33fadc2bf1a555971b\n",
            "  Stored in directory: /root/.cache/pip/wheels/9a/a3/b6/ac0fcd1b4ed5cfeb3db92e6a0e476cfd48ed0df92b91080c1d\n",
            "Successfully built iopath\n",
            "Installing collected packages: python-multipart, pypdfium2, portalocker, pdf2image, onnx, nvidia-nvtx-cu12, nvidia-nvjitlink-cu12, nvidia-nccl-cu12, nvidia-curand-cu12, nvidia-cufft-cu12, nvidia-cuda-runtime-cu12, nvidia-cuda-nvrtc-cu12, nvidia-cuda-cupti-cu12, nvidia-cublas-cu12, humanfriendly, nvidia-cusparse-cu12, nvidia-cudnn-cu12, iopath, coloredlogs, onnxruntime, nvidia-cusolver-cu12, pdfplumber, layoutparser, timm, unstructured_inference\n",
            "Successfully installed coloredlogs-15.0.1 humanfriendly-10.0 iopath-0.1.10 layoutparser-0.3.4 nvidia-cublas-cu12-12.1.3.1 nvidia-cuda-cupti-cu12-12.1.105 nvidia-cuda-nvrtc-cu12-12.1.105 nvidia-cuda-runtime-cu12-12.1.105 nvidia-cudnn-cu12-8.9.2.26 nvidia-cufft-cu12-11.0.2.54 nvidia-curand-cu12-10.3.2.106 nvidia-cusolver-cu12-11.4.5.107 nvidia-cusparse-cu12-12.1.0.106 nvidia-nccl-cu12-2.20.5 nvidia-nvjitlink-cu12-12.5.82 nvidia-nvtx-cu12-12.1.105 onnx-1.16.1 onnxruntime-1.18.1 pdf2image-1.17.0 pdfplumber-0.11.1 portalocker-2.10.0 pypdfium2-4.30.0 python-multipart-0.0.9 timm-1.0.7 unstructured_inference-0.7.36\n",
            "Requirement already satisfied: unstructured_pytesseract in /usr/local/lib/python3.10/dist-packages (0.3.12)\n",
            "Requirement already satisfied: packaging>=21.3 in /usr/local/lib/python3.10/dist-packages (from unstructured_pytesseract) (24.1)\n",
            "Requirement already satisfied: Pillow>=8.0.0 in /usr/local/lib/python3.10/dist-packages (from unstructured_pytesseract) (10.4.0)\n",
            "Collecting pytesseract\n",
            "  Downloading pytesseract-0.3.10-py3-none-any.whl (14 kB)\n",
            "Requirement already satisfied: packaging>=21.3 in /usr/local/lib/python3.10/dist-packages (from pytesseract) (24.1)\n",
            "Requirement already satisfied: Pillow>=8.0.0 in /usr/local/lib/python3.10/dist-packages (from pytesseract) (10.4.0)\n",
            "Installing collected packages: pytesseract\n",
            "Successfully installed pytesseract-0.3.10\n",
            "Collecting tesseract\n",
            "  Downloading tesseract-0.1.3.tar.gz (45.6 MB)\n",
            "\u001b[2K     \u001b[90m━━━━━━━━━━━━━━━━━━━━━━━━━━━━━━━━━━━━━━━━\u001b[0m \u001b[32m45.6/45.6 MB\u001b[0m \u001b[31m13.7 MB/s\u001b[0m eta \u001b[36m0:00:00\u001b[0m\n",
            "\u001b[?25h  Preparing metadata (setup.py) ... \u001b[?25l\u001b[?25hdone\n",
            "Building wheels for collected packages: tesseract\n",
            "  Building wheel for tesseract (setup.py) ... \u001b[?25l\u001b[?25hdone\n",
            "  Created wheel for tesseract: filename=tesseract-0.1.3-py3-none-any.whl size=45562552 sha256=57d93358947cf6f5321f962fd119b6f47b270fb9b5fda52fd2dfc0f519ce1ff5\n",
            "  Stored in directory: /root/.cache/pip/wheels/71/c9/aa/698c579693e83fdda9ad6d6f0d8f61ed986e27925ef576f109\n",
            "Successfully built tesseract\n",
            "Installing collected packages: tesseract\n",
            "Successfully installed tesseract-0.1.3\n",
            "Reading package lists... Done\n",
            "Building dependency tree... Done\n",
            "Reading state information... Done\n",
            "The following additional packages will be installed:\n",
            "  tesseract-ocr-eng tesseract-ocr-osd\n",
            "The following NEW packages will be installed:\n",
            "  tesseract-ocr tesseract-ocr-eng tesseract-ocr-osd\n",
            "0 upgraded, 3 newly installed, 0 to remove and 45 not upgraded.\n",
            "Need to get 4,816 kB of archives.\n",
            "After this operation, 15.6 MB of additional disk space will be used.\n",
            "Get:1 http://archive.ubuntu.com/ubuntu jammy/universe amd64 tesseract-ocr-eng all 1:4.00~git30-7274cfa-1.1 [1,591 kB]\n",
            "Get:2 http://archive.ubuntu.com/ubuntu jammy/universe amd64 tesseract-ocr-osd all 1:4.00~git30-7274cfa-1.1 [2,990 kB]\n",
            "Get:3 http://archive.ubuntu.com/ubuntu jammy/universe amd64 tesseract-ocr amd64 4.1.1-2.1build1 [236 kB]\n",
            "Fetched 4,816 kB in 0s (30.4 MB/s)\n",
            "debconf: unable to initialize frontend: Dialog\n",
            "debconf: (No usable dialog-like program is installed, so the dialog based frontend cannot be used. at /usr/share/perl5/Debconf/FrontEnd/Dialog.pm line 78, <> line 3.)\n",
            "debconf: falling back to frontend: Readline\n",
            "debconf: unable to initialize frontend: Readline\n",
            "debconf: (This frontend requires a controlling tty.)\n",
            "debconf: falling back to frontend: Teletype\n",
            "dpkg-preconfigure: unable to re-open stdin: \n",
            "Selecting previously unselected package tesseract-ocr-eng.\n",
            "(Reading database ... 121925 files and directories currently installed.)\n",
            "Preparing to unpack .../tesseract-ocr-eng_1%3a4.00~git30-7274cfa-1.1_all.deb ...\n",
            "Unpacking tesseract-ocr-eng (1:4.00~git30-7274cfa-1.1) ...\n",
            "Selecting previously unselected package tesseract-ocr-osd.\n",
            "Preparing to unpack .../tesseract-ocr-osd_1%3a4.00~git30-7274cfa-1.1_all.deb ...\n",
            "Unpacking tesseract-ocr-osd (1:4.00~git30-7274cfa-1.1) ...\n",
            "Selecting previously unselected package tesseract-ocr.\n",
            "Preparing to unpack .../tesseract-ocr_4.1.1-2.1build1_amd64.deb ...\n",
            "Unpacking tesseract-ocr (4.1.1-2.1build1) ...\n",
            "Setting up tesseract-ocr-eng (1:4.00~git30-7274cfa-1.1) ...\n",
            "Setting up tesseract-ocr-osd (1:4.00~git30-7274cfa-1.1) ...\n",
            "Setting up tesseract-ocr (4.1.1-2.1build1) ...\n",
            "Processing triggers for man-db (2.10.2-1) ...\n"
          ]
        }
      ]
    },
    {
      "cell_type": "code",
      "source": [
        "!pip install accelerate"
      ],
      "metadata": {
        "id": "mGi8S3fravfY",
        "colab": {
          "base_uri": "https://localhost:8080/"
        },
        "outputId": "e101bc6f-1b34-414e-fa15-4b4a40e31e22"
      },
      "execution_count": null,
      "outputs": [
        {
          "output_type": "stream",
          "name": "stdout",
          "text": [
            "Collecting accelerate\n",
            "  Downloading accelerate-0.32.1-py3-none-any.whl (314 kB)\n",
            "\u001b[?25l     \u001b[90m━━━━━━━━━━━━━━━━━━━━━━━━━━━━━━━━━━━━━━━━\u001b[0m \u001b[32m0.0/314.1 kB\u001b[0m \u001b[31m?\u001b[0m eta \u001b[36m-:--:--\u001b[0m\r\u001b[2K     \u001b[91m━━━━━━━━━━━━━━━━━━━━━━━━━━━━━━━━\u001b[0m\u001b[91m╸\u001b[0m\u001b[90m━━━━━━━\u001b[0m \u001b[32m256.0/314.1 kB\u001b[0m \u001b[31m7.5 MB/s\u001b[0m eta \u001b[36m0:00:01\u001b[0m\r\u001b[2K     \u001b[90m━━━━━━━━━━━━━━━━━━━━━━━━━━━━━━━━━━━━━━━━\u001b[0m \u001b[32m314.1/314.1 kB\u001b[0m \u001b[31m7.0 MB/s\u001b[0m eta \u001b[36m0:00:00\u001b[0m\n",
            "\u001b[?25hRequirement already satisfied: numpy<2.0.0,>=1.17 in /usr/local/lib/python3.10/dist-packages (from accelerate) (1.25.2)\n",
            "Requirement already satisfied: packaging>=20.0 in /usr/local/lib/python3.10/dist-packages (from accelerate) (24.1)\n",
            "Requirement already satisfied: psutil in /usr/local/lib/python3.10/dist-packages (from accelerate) (5.9.5)\n",
            "Requirement already satisfied: pyyaml in /usr/local/lib/python3.10/dist-packages (from accelerate) (6.0.1)\n",
            "Requirement already satisfied: torch>=1.10.0 in /usr/local/lib/python3.10/dist-packages (from accelerate) (2.3.0+cu121)\n",
            "Requirement already satisfied: huggingface-hub in /usr/local/lib/python3.10/dist-packages (from accelerate) (0.23.4)\n",
            "Requirement already satisfied: safetensors>=0.3.1 in /usr/local/lib/python3.10/dist-packages (from accelerate) (0.4.3)\n",
            "Requirement already satisfied: filelock in /usr/local/lib/python3.10/dist-packages (from torch>=1.10.0->accelerate) (3.15.4)\n",
            "Requirement already satisfied: typing-extensions>=4.8.0 in /usr/local/lib/python3.10/dist-packages (from torch>=1.10.0->accelerate) (4.12.2)\n",
            "Requirement already satisfied: sympy in /usr/local/lib/python3.10/dist-packages (from torch>=1.10.0->accelerate) (1.12.1)\n",
            "Requirement already satisfied: networkx in /usr/local/lib/python3.10/dist-packages (from torch>=1.10.0->accelerate) (3.3)\n",
            "Requirement already satisfied: jinja2 in /usr/local/lib/python3.10/dist-packages (from torch>=1.10.0->accelerate) (3.1.4)\n",
            "Requirement already satisfied: fsspec in /usr/local/lib/python3.10/dist-packages (from torch>=1.10.0->accelerate) (2023.6.0)\n",
            "Requirement already satisfied: nvidia-cuda-nvrtc-cu12==12.1.105 in /usr/local/lib/python3.10/dist-packages (from torch>=1.10.0->accelerate) (12.1.105)\n",
            "Requirement already satisfied: nvidia-cuda-runtime-cu12==12.1.105 in /usr/local/lib/python3.10/dist-packages (from torch>=1.10.0->accelerate) (12.1.105)\n",
            "Requirement already satisfied: nvidia-cuda-cupti-cu12==12.1.105 in /usr/local/lib/python3.10/dist-packages (from torch>=1.10.0->accelerate) (12.1.105)\n",
            "Requirement already satisfied: nvidia-cudnn-cu12==8.9.2.26 in /usr/local/lib/python3.10/dist-packages (from torch>=1.10.0->accelerate) (8.9.2.26)\n",
            "Requirement already satisfied: nvidia-cublas-cu12==12.1.3.1 in /usr/local/lib/python3.10/dist-packages (from torch>=1.10.0->accelerate) (12.1.3.1)\n",
            "Requirement already satisfied: nvidia-cufft-cu12==11.0.2.54 in /usr/local/lib/python3.10/dist-packages (from torch>=1.10.0->accelerate) (11.0.2.54)\n",
            "Requirement already satisfied: nvidia-curand-cu12==10.3.2.106 in /usr/local/lib/python3.10/dist-packages (from torch>=1.10.0->accelerate) (10.3.2.106)\n",
            "Requirement already satisfied: nvidia-cusolver-cu12==11.4.5.107 in /usr/local/lib/python3.10/dist-packages (from torch>=1.10.0->accelerate) (11.4.5.107)\n",
            "Requirement already satisfied: nvidia-cusparse-cu12==12.1.0.106 in /usr/local/lib/python3.10/dist-packages (from torch>=1.10.0->accelerate) (12.1.0.106)\n",
            "Requirement already satisfied: nvidia-nccl-cu12==2.20.5 in /usr/local/lib/python3.10/dist-packages (from torch>=1.10.0->accelerate) (2.20.5)\n",
            "Requirement already satisfied: nvidia-nvtx-cu12==12.1.105 in /usr/local/lib/python3.10/dist-packages (from torch>=1.10.0->accelerate) (12.1.105)\n",
            "Requirement already satisfied: triton==2.3.0 in /usr/local/lib/python3.10/dist-packages (from torch>=1.10.0->accelerate) (2.3.0)\n",
            "Requirement already satisfied: nvidia-nvjitlink-cu12 in /usr/local/lib/python3.10/dist-packages (from nvidia-cusolver-cu12==11.4.5.107->torch>=1.10.0->accelerate) (12.5.82)\n",
            "Requirement already satisfied: requests in /usr/local/lib/python3.10/dist-packages (from huggingface-hub->accelerate) (2.31.0)\n",
            "Requirement already satisfied: tqdm>=4.42.1 in /usr/local/lib/python3.10/dist-packages (from huggingface-hub->accelerate) (4.66.4)\n",
            "Requirement already satisfied: MarkupSafe>=2.0 in /usr/local/lib/python3.10/dist-packages (from jinja2->torch>=1.10.0->accelerate) (2.1.5)\n",
            "Requirement already satisfied: charset-normalizer<4,>=2 in /usr/local/lib/python3.10/dist-packages (from requests->huggingface-hub->accelerate) (3.3.2)\n",
            "Requirement already satisfied: idna<4,>=2.5 in /usr/local/lib/python3.10/dist-packages (from requests->huggingface-hub->accelerate) (3.7)\n",
            "Requirement already satisfied: urllib3<3,>=1.21.1 in /usr/local/lib/python3.10/dist-packages (from requests->huggingface-hub->accelerate) (2.0.7)\n",
            "Requirement already satisfied: certifi>=2017.4.17 in /usr/local/lib/python3.10/dist-packages (from requests->huggingface-hub->accelerate) (2024.6.2)\n",
            "Requirement already satisfied: mpmath<1.4.0,>=1.1.0 in /usr/local/lib/python3.10/dist-packages (from sympy->torch>=1.10.0->accelerate) (1.3.0)\n",
            "Installing collected packages: accelerate\n",
            "Successfully installed accelerate-0.32.1\n"
          ]
        }
      ]
    },
    {
      "cell_type": "code",
      "execution_count": null,
      "metadata": {
        "id": "wVL1Afz5n9qf",
        "colab": {
          "base_uri": "https://localhost:8080/"
        },
        "outputId": "f8c6bc23-565e-426b-f779-38d6c66241f5"
      },
      "outputs": [
        {
          "output_type": "stream",
          "name": "stdout",
          "text": [
            "Requirement already satisfied: pdf2image in /usr/local/lib/python3.10/dist-packages (1.17.0)\n",
            "Requirement already satisfied: pillow in /usr/local/lib/python3.10/dist-packages (from pdf2image) (10.4.0)\n",
            "Reading package lists... Done\n",
            "Building dependency tree... Done\n",
            "Reading state information... Done\n",
            "The following NEW packages will be installed:\n",
            "  poppler-utils\n",
            "0 upgraded, 1 newly installed, 0 to remove and 45 not upgraded.\n",
            "Need to get 186 kB of archives.\n",
            "After this operation, 696 kB of additional disk space will be used.\n",
            "Get:1 http://archive.ubuntu.com/ubuntu jammy-updates/main amd64 poppler-utils amd64 22.02.0-2ubuntu0.4 [186 kB]\n",
            "Fetched 186 kB in 0s (2,041 kB/s)\n",
            "debconf: unable to initialize frontend: Dialog\n",
            "debconf: (No usable dialog-like program is installed, so the dialog based frontend cannot be used. at /usr/share/perl5/Debconf/FrontEnd/Dialog.pm line 78, <> line 1.)\n",
            "debconf: falling back to frontend: Readline\n",
            "debconf: unable to initialize frontend: Readline\n",
            "debconf: (This frontend requires a controlling tty.)\n",
            "debconf: falling back to frontend: Teletype\n",
            "dpkg-preconfigure: unable to re-open stdin: \n",
            "Selecting previously unselected package poppler-utils.\n",
            "(Reading database ... 121972 files and directories currently installed.)\n",
            "Preparing to unpack .../poppler-utils_22.02.0-2ubuntu0.4_amd64.deb ...\n",
            "Unpacking poppler-utils (22.02.0-2ubuntu0.4) ...\n",
            "Setting up poppler-utils (22.02.0-2ubuntu0.4) ...\n",
            "Processing triggers for man-db (2.10.2-1) ...\n"
          ]
        }
      ],
      "source": [
        "!pip install pdf2image\n",
        "!sudo apt-get install poppler-utils"
      ]
    },
    {
      "cell_type": "code",
      "execution_count": null,
      "metadata": {
        "id": "JVa1r7I_oBU2",
        "colab": {
          "base_uri": "https://localhost:8080/"
        },
        "outputId": "c406f604-b8f4-4e51-8ecc-41cecbc7b535"
      },
      "outputs": [
        {
          "output_type": "stream",
          "name": "stdout",
          "text": [
            "PDF pages have been converted and saved in 'output_images1'\n"
          ]
        }
      ],
      "source": [
        "from pdf2image import convert_from_path\n",
        "import os\n",
        "\n",
        "# Define the path to the PDF file and the output directory\n",
        "pdf_path = 'meezan.pdf'\n",
        "output_dir = 'output_images1'\n",
        "\n",
        "# Create the output directory if it doesn't exist\n",
        "if not os.path.exists(output_dir):\n",
        "    os.makedirs(output_dir)\n",
        "\n",
        "# Convert PDF pages to images\n",
        "images = convert_from_path(pdf_path)\n",
        "\n",
        "# Save each image in the output directory\n",
        "for i, image in enumerate(images):\n",
        "    image_path = os.path.join(output_dir, f'page_{i + 1}.png')\n",
        "    image.save(image_path, 'PNG')\n",
        "\n",
        "print(f\"PDF pages have been converted and saved in '{output_dir}'\")\n",
        "\n",
        "image_paths1 = [os.path.join(output_dir, f'page_{i + 1}.png') for i in range(len(images))]"
      ]
    },
    {
      "cell_type": "code",
      "source": [
        "from pdf2image import convert_from_path\n",
        "import os\n",
        "\n",
        "# Define the path to the PDF file and the output directory\n",
        "pdf_path = 'hbl.pdf'\n",
        "output_dir = 'output_images2'\n",
        "\n",
        "\n",
        "# Create the output directory if it doesn't exist\n",
        "if not os.path.exists(output_dir):\n",
        "    os.makedirs(output_dir)\n",
        "\n",
        "# Convert PDF pages to images\n",
        "images = convert_from_path(pdf_path)\n",
        "\n",
        "# Save each image in the output directory\n",
        "for i, image in enumerate(images):\n",
        "    image_path = os.path.join(output_dir, f'page_{i + 1}.png')\n",
        "    image.save(image_path, 'PNG')\n",
        "\n",
        "print(f\"PDF pages have been converted and saved in '{output_dir}'\")\n",
        "\n",
        "\n",
        "image_paths2 = [os.path.join(output_dir, f'page_{i + 1}.png') for i in range(len(images))]"
      ],
      "metadata": {
        "id": "3joQvXvhC9Tm",
        "colab": {
          "base_uri": "https://localhost:8080/"
        },
        "outputId": "fdc7b90c-d1a5-4942-8151-852fcc30cd02"
      },
      "execution_count": null,
      "outputs": [
        {
          "output_type": "stream",
          "name": "stdout",
          "text": [
            "PDF pages have been converted and saved in 'output_images2'\n"
          ]
        }
      ]
    },
    {
      "cell_type": "code",
      "source": [
        "image_paths1.remove(\"output_images1/page_2.png\")\n",
        "image_paths2.remove(\"output_images2/page_3.png\")\n",
        "image_paths2.remove(\"output_images2/page_4.png\")"
      ],
      "metadata": {
        "id": "BVaOXxnlbpyZ"
      },
      "execution_count": null,
      "outputs": []
    },
    {
      "cell_type": "code",
      "source": [
        "image_paths1"
      ],
      "metadata": {
        "colab": {
          "base_uri": "https://localhost:8080/"
        },
        "id": "ZRShxjSmersL",
        "outputId": "78092eaf-60e5-476c-af2d-5a993e8d3004"
      },
      "execution_count": null,
      "outputs": [
        {
          "output_type": "execute_result",
          "data": {
            "text/plain": [
              "['output_images1/page_1.png', 'output_images1/page_2.png']"
            ]
          },
          "metadata": {},
          "execution_count": 8
        }
      ]
    },
    {
      "cell_type": "code",
      "execution_count": null,
      "metadata": {
        "id": "1wf12sa5bcWl"
      },
      "outputs": [],
      "source": [
        "from langchain_community.document_loaders import UnstructuredImageLoader\n",
        "from pathlib import Path\n",
        "\n",
        "# Set the folder path where the images are located\n",
        "folder_path = \"output_images1\"\n",
        "\n",
        "# Create a list to store the text from all the images\n",
        "\n",
        "text1=\" \"\n",
        "\n",
        "# Loop through all the files in the folder\n",
        "for image in image_paths1:\n",
        "    # Check if the file is an image\n",
        "    loader = UnstructuredImageLoader(image)\n",
        "\n",
        "    # Load the image and extract the text\n",
        "    doc1 = loader.load()\n",
        "\n",
        "\n",
        "    text1 = text1+doc1[0].page_content\n",
        "\n",
        "    # Add the text to the list\n",
        "\n",
        "#DOC2\n",
        "\n",
        "folder_path = \"output_images2\"\n",
        "\n",
        "# Create a list to store the text from all the images\n",
        "\n",
        "text2=\" \"\n",
        "\n",
        "# Loop through all the files in the folder\n",
        "for image in image_paths2:\n",
        "    # Check if the file is an image\n",
        "    loader = UnstructuredImageLoader(image)\n",
        "\n",
        "    # Load the image and extract the text\n",
        "    doc2 = loader.load()\n",
        "\n",
        "\n",
        "    text2 = text2+doc2[0].page_content\n",
        "\n",
        "    # Add the text to the list\n",
        "\n"
      ]
    },
    {
      "cell_type": "code",
      "execution_count": null,
      "metadata": {
        "id": "kR2MezL715h_",
        "colab": {
          "base_uri": "https://localhost:8080/"
        },
        "outputId": "7ba0ead5-88a8-4196-d987-444dbecf7739"
      },
      "outputs": [
        {
          "output_type": "stream",
          "name": "stdout",
          "text": [
            "Collecting langchain-chroma\n",
            "  Downloading langchain_chroma-0.1.2-py3-none-any.whl (9.3 kB)\n",
            "Collecting chromadb<0.6.0,>=0.4.0 (from langchain-chroma)\n",
            "  Downloading chromadb-0.5.3-py3-none-any.whl (559 kB)\n",
            "\u001b[2K     \u001b[90m━━━━━━━━━━━━━━━━━━━━━━━━━━━━━━━━━━━━━━━━\u001b[0m \u001b[32m559.5/559.5 kB\u001b[0m \u001b[31m10.6 MB/s\u001b[0m eta \u001b[36m0:00:00\u001b[0m\n",
            "\u001b[?25hCollecting fastapi<1,>=0.95.2 (from langchain-chroma)\n",
            "  Downloading fastapi-0.111.0-py3-none-any.whl (91 kB)\n",
            "\u001b[2K     \u001b[90m━━━━━━━━━━━━━━━━━━━━━━━━━━━━━━━━━━━━━━━━\u001b[0m \u001b[32m92.0/92.0 kB\u001b[0m \u001b[31m8.5 MB/s\u001b[0m eta \u001b[36m0:00:00\u001b[0m\n",
            "\u001b[?25hRequirement already satisfied: langchain-core<0.3,>=0.1.40 in /usr/local/lib/python3.10/dist-packages (from langchain-chroma) (0.2.11)\n",
            "Requirement already satisfied: numpy<2,>=1 in /usr/local/lib/python3.10/dist-packages (from langchain-chroma) (1.25.2)\n",
            "Requirement already satisfied: build>=1.0.3 in /usr/local/lib/python3.10/dist-packages (from chromadb<0.6.0,>=0.4.0->langchain-chroma) (1.2.1)\n",
            "Requirement already satisfied: requests>=2.28 in /usr/local/lib/python3.10/dist-packages (from chromadb<0.6.0,>=0.4.0->langchain-chroma) (2.31.0)\n",
            "Requirement already satisfied: pydantic>=1.9 in /usr/local/lib/python3.10/dist-packages (from chromadb<0.6.0,>=0.4.0->langchain-chroma) (2.8.0)\n",
            "Collecting chroma-hnswlib==0.7.3 (from chromadb<0.6.0,>=0.4.0->langchain-chroma)\n",
            "  Downloading chroma_hnswlib-0.7.3-cp310-cp310-manylinux_2_17_x86_64.manylinux2014_x86_64.whl (2.4 MB)\n",
            "\u001b[2K     \u001b[90m━━━━━━━━━━━━━━━━━━━━━━━━━━━━━━━━━━━━━━━━\u001b[0m \u001b[32m2.4/2.4 MB\u001b[0m \u001b[31m23.5 MB/s\u001b[0m eta \u001b[36m0:00:00\u001b[0m\n",
            "\u001b[?25hCollecting uvicorn[standard]>=0.18.3 (from chromadb<0.6.0,>=0.4.0->langchain-chroma)\n",
            "  Downloading uvicorn-0.30.1-py3-none-any.whl (62 kB)\n",
            "\u001b[2K     \u001b[90m━━━━━━━━━━━━━━━━━━━━━━━━━━━━━━━━━━━━━━━━\u001b[0m \u001b[32m62.4/62.4 kB\u001b[0m \u001b[31m9.5 MB/s\u001b[0m eta \u001b[36m0:00:00\u001b[0m\n",
            "\u001b[?25hCollecting posthog>=2.4.0 (from chromadb<0.6.0,>=0.4.0->langchain-chroma)\n",
            "  Downloading posthog-3.5.0-py2.py3-none-any.whl (41 kB)\n",
            "\u001b[2K     \u001b[90m━━━━━━━━━━━━━━━━━━━━━━━━━━━━━━━━━━━━━━━━\u001b[0m \u001b[32m41.3/41.3 kB\u001b[0m \u001b[31m6.1 MB/s\u001b[0m eta \u001b[36m0:00:00\u001b[0m\n",
            "\u001b[?25hRequirement already satisfied: typing-extensions>=4.5.0 in /usr/local/lib/python3.10/dist-packages (from chromadb<0.6.0,>=0.4.0->langchain-chroma) (4.12.2)\n",
            "Requirement already satisfied: onnxruntime>=1.14.1 in /usr/local/lib/python3.10/dist-packages (from chromadb<0.6.0,>=0.4.0->langchain-chroma) (1.18.1)\n",
            "Collecting opentelemetry-api>=1.2.0 (from chromadb<0.6.0,>=0.4.0->langchain-chroma)\n",
            "  Downloading opentelemetry_api-1.25.0-py3-none-any.whl (59 kB)\n",
            "\u001b[2K     \u001b[90m━━━━━━━━━━━━━━━━━━━━━━━━━━━━━━━━━━━━━━━━\u001b[0m \u001b[32m59.9/59.9 kB\u001b[0m \u001b[31m6.7 MB/s\u001b[0m eta \u001b[36m0:00:00\u001b[0m\n",
            "\u001b[?25hCollecting opentelemetry-exporter-otlp-proto-grpc>=1.2.0 (from chromadb<0.6.0,>=0.4.0->langchain-chroma)\n",
            "  Downloading opentelemetry_exporter_otlp_proto_grpc-1.25.0-py3-none-any.whl (18 kB)\n",
            "Collecting opentelemetry-instrumentation-fastapi>=0.41b0 (from chromadb<0.6.0,>=0.4.0->langchain-chroma)\n",
            "  Downloading opentelemetry_instrumentation_fastapi-0.46b0-py3-none-any.whl (11 kB)\n",
            "Collecting opentelemetry-sdk>=1.2.0 (from chromadb<0.6.0,>=0.4.0->langchain-chroma)\n",
            "  Downloading opentelemetry_sdk-1.25.0-py3-none-any.whl (107 kB)\n",
            "\u001b[2K     \u001b[90m━━━━━━━━━━━━━━━━━━━━━━━━━━━━━━━━━━━━━━━━\u001b[0m \u001b[32m107.0/107.0 kB\u001b[0m \u001b[31m12.1 MB/s\u001b[0m eta \u001b[36m0:00:00\u001b[0m\n",
            "\u001b[?25hRequirement already satisfied: tokenizers>=0.13.2 in /usr/local/lib/python3.10/dist-packages (from chromadb<0.6.0,>=0.4.0->langchain-chroma) (0.19.1)\n",
            "Collecting pypika>=0.48.9 (from chromadb<0.6.0,>=0.4.0->langchain-chroma)\n",
            "  Downloading PyPika-0.48.9.tar.gz (67 kB)\n",
            "\u001b[2K     \u001b[90m━━━━━━━━━━━━━━━━━━━━━━━━━━━━━━━━━━━━━━━━\u001b[0m \u001b[32m67.3/67.3 kB\u001b[0m \u001b[31m10.0 MB/s\u001b[0m eta \u001b[36m0:00:00\u001b[0m\n",
            "\u001b[?25h  Installing build dependencies ... \u001b[?25l\u001b[?25hdone\n",
            "  Getting requirements to build wheel ... \u001b[?25l\u001b[?25hdone\n",
            "  Preparing metadata (pyproject.toml) ... \u001b[?25l\u001b[?25hdone\n",
            "Requirement already satisfied: tqdm>=4.65.0 in /usr/local/lib/python3.10/dist-packages (from chromadb<0.6.0,>=0.4.0->langchain-chroma) (4.66.4)\n",
            "Collecting overrides>=7.3.1 (from chromadb<0.6.0,>=0.4.0->langchain-chroma)\n",
            "  Downloading overrides-7.7.0-py3-none-any.whl (17 kB)\n",
            "Requirement already satisfied: importlib-resources in /usr/local/lib/python3.10/dist-packages (from chromadb<0.6.0,>=0.4.0->langchain-chroma) (6.4.0)\n",
            "Requirement already satisfied: grpcio>=1.58.0 in /usr/local/lib/python3.10/dist-packages (from chromadb<0.6.0,>=0.4.0->langchain-chroma) (1.64.1)\n",
            "Collecting bcrypt>=4.0.1 (from chromadb<0.6.0,>=0.4.0->langchain-chroma)\n",
            "  Downloading bcrypt-4.1.3-cp39-abi3-manylinux_2_28_x86_64.whl (283 kB)\n",
            "\u001b[2K     \u001b[90m━━━━━━━━━━━━━━━━━━━━━━━━━━━━━━━━━━━━━━━━\u001b[0m \u001b[32m283.7/283.7 kB\u001b[0m \u001b[31m23.7 MB/s\u001b[0m eta \u001b[36m0:00:00\u001b[0m\n",
            "\u001b[?25hRequirement already satisfied: typer>=0.9.0 in /usr/local/lib/python3.10/dist-packages (from chromadb<0.6.0,>=0.4.0->langchain-chroma) (0.12.3)\n",
            "Collecting kubernetes>=28.1.0 (from chromadb<0.6.0,>=0.4.0->langchain-chroma)\n",
            "  Downloading kubernetes-30.1.0-py2.py3-none-any.whl (1.7 MB)\n",
            "\u001b[2K     \u001b[90m━━━━━━━━━━━━━━━━━━━━━━━━━━━━━━━━━━━━━━━━\u001b[0m \u001b[32m1.7/1.7 MB\u001b[0m \u001b[31m32.7 MB/s\u001b[0m eta \u001b[36m0:00:00\u001b[0m\n",
            "\u001b[?25hRequirement already satisfied: tenacity>=8.2.3 in /usr/local/lib/python3.10/dist-packages (from chromadb<0.6.0,>=0.4.0->langchain-chroma) (8.4.2)\n",
            "Requirement already satisfied: PyYAML>=6.0.0 in /usr/local/lib/python3.10/dist-packages (from chromadb<0.6.0,>=0.4.0->langchain-chroma) (6.0.1)\n",
            "Collecting mmh3>=4.0.1 (from chromadb<0.6.0,>=0.4.0->langchain-chroma)\n",
            "  Downloading mmh3-4.1.0-cp310-cp310-manylinux_2_5_x86_64.manylinux1_x86_64.manylinux_2_17_x86_64.manylinux2014_x86_64.whl (67 kB)\n",
            "\u001b[2K     \u001b[90m━━━━━━━━━━━━━━━━━━━━━━━━━━━━━━━━━━━━━━━━\u001b[0m \u001b[32m67.6/67.6 kB\u001b[0m \u001b[31m7.9 MB/s\u001b[0m eta \u001b[36m0:00:00\u001b[0m\n",
            "\u001b[?25hRequirement already satisfied: orjson>=3.9.12 in /usr/local/lib/python3.10/dist-packages (from chromadb<0.6.0,>=0.4.0->langchain-chroma) (3.10.6)\n",
            "Requirement already satisfied: httpx>=0.27.0 in /usr/local/lib/python3.10/dist-packages (from chromadb<0.6.0,>=0.4.0->langchain-chroma) (0.27.0)\n",
            "Collecting starlette<0.38.0,>=0.37.2 (from fastapi<1,>=0.95.2->langchain-chroma)\n",
            "  Downloading starlette-0.37.2-py3-none-any.whl (71 kB)\n",
            "\u001b[2K     \u001b[90m━━━━━━━━━━━━━━━━━━━━━━━━━━━━━━━━━━━━━━━━\u001b[0m \u001b[32m71.9/71.9 kB\u001b[0m \u001b[31m9.3 MB/s\u001b[0m eta \u001b[36m0:00:00\u001b[0m\n",
            "\u001b[?25hCollecting fastapi-cli>=0.0.2 (from fastapi<1,>=0.95.2->langchain-chroma)\n",
            "  Downloading fastapi_cli-0.0.4-py3-none-any.whl (9.5 kB)\n",
            "Requirement already satisfied: jinja2>=2.11.2 in /usr/local/lib/python3.10/dist-packages (from fastapi<1,>=0.95.2->langchain-chroma) (3.1.4)\n",
            "Requirement already satisfied: python-multipart>=0.0.7 in /usr/local/lib/python3.10/dist-packages (from fastapi<1,>=0.95.2->langchain-chroma) (0.0.9)\n",
            "Collecting ujson!=4.0.2,!=4.1.0,!=4.2.0,!=4.3.0,!=5.0.0,!=5.1.0,>=4.0.1 (from fastapi<1,>=0.95.2->langchain-chroma)\n",
            "  Downloading ujson-5.10.0-cp310-cp310-manylinux_2_17_x86_64.manylinux2014_x86_64.whl (53 kB)\n",
            "\u001b[2K     \u001b[90m━━━━━━━━━━━━━━━━━━━━━━━━━━━━━━━━━━━━━━━━\u001b[0m \u001b[32m53.6/53.6 kB\u001b[0m \u001b[31m6.8 MB/s\u001b[0m eta \u001b[36m0:00:00\u001b[0m\n",
            "\u001b[?25hCollecting email_validator>=2.0.0 (from fastapi<1,>=0.95.2->langchain-chroma)\n",
            "  Downloading email_validator-2.2.0-py3-none-any.whl (33 kB)\n",
            "Requirement already satisfied: jsonpatch<2.0,>=1.33 in /usr/local/lib/python3.10/dist-packages (from langchain-core<0.3,>=0.1.40->langchain-chroma) (1.33)\n",
            "Requirement already satisfied: langsmith<0.2.0,>=0.1.75 in /usr/local/lib/python3.10/dist-packages (from langchain-core<0.3,>=0.1.40->langchain-chroma) (0.1.83)\n",
            "Requirement already satisfied: packaging<25,>=23.2 in /usr/local/lib/python3.10/dist-packages (from langchain-core<0.3,>=0.1.40->langchain-chroma) (24.1)\n",
            "Requirement already satisfied: pyproject_hooks in /usr/local/lib/python3.10/dist-packages (from build>=1.0.3->chromadb<0.6.0,>=0.4.0->langchain-chroma) (1.1.0)\n",
            "Requirement already satisfied: tomli>=1.1.0 in /usr/local/lib/python3.10/dist-packages (from build>=1.0.3->chromadb<0.6.0,>=0.4.0->langchain-chroma) (2.0.1)\n",
            "Collecting dnspython>=2.0.0 (from email_validator>=2.0.0->fastapi<1,>=0.95.2->langchain-chroma)\n",
            "  Downloading dnspython-2.6.1-py3-none-any.whl (307 kB)\n",
            "\u001b[2K     \u001b[90m━━━━━━━━━━━━━━━━━━━━━━━━━━━━━━━━━━━━━━━━\u001b[0m \u001b[32m307.7/307.7 kB\u001b[0m \u001b[31m30.4 MB/s\u001b[0m eta \u001b[36m0:00:00\u001b[0m\n",
            "\u001b[?25hRequirement already satisfied: idna>=2.0.0 in /usr/local/lib/python3.10/dist-packages (from email_validator>=2.0.0->fastapi<1,>=0.95.2->langchain-chroma) (3.7)\n",
            "Requirement already satisfied: anyio in /usr/local/lib/python3.10/dist-packages (from httpx>=0.27.0->chromadb<0.6.0,>=0.4.0->langchain-chroma) (3.7.1)\n",
            "Requirement already satisfied: certifi in /usr/local/lib/python3.10/dist-packages (from httpx>=0.27.0->chromadb<0.6.0,>=0.4.0->langchain-chroma) (2024.6.2)\n",
            "Requirement already satisfied: httpcore==1.* in /usr/local/lib/python3.10/dist-packages (from httpx>=0.27.0->chromadb<0.6.0,>=0.4.0->langchain-chroma) (1.0.5)\n",
            "Requirement already satisfied: sniffio in /usr/local/lib/python3.10/dist-packages (from httpx>=0.27.0->chromadb<0.6.0,>=0.4.0->langchain-chroma) (1.3.1)\n",
            "Requirement already satisfied: h11<0.15,>=0.13 in /usr/local/lib/python3.10/dist-packages (from httpcore==1.*->httpx>=0.27.0->chromadb<0.6.0,>=0.4.0->langchain-chroma) (0.14.0)\n",
            "Requirement already satisfied: MarkupSafe>=2.0 in /usr/local/lib/python3.10/dist-packages (from jinja2>=2.11.2->fastapi<1,>=0.95.2->langchain-chroma) (2.1.5)\n",
            "Requirement already satisfied: jsonpointer>=1.9 in /usr/local/lib/python3.10/dist-packages (from jsonpatch<2.0,>=1.33->langchain-core<0.3,>=0.1.40->langchain-chroma) (3.0.0)\n",
            "Requirement already satisfied: six>=1.9.0 in /usr/local/lib/python3.10/dist-packages (from kubernetes>=28.1.0->chromadb<0.6.0,>=0.4.0->langchain-chroma) (1.16.0)\n",
            "Requirement already satisfied: python-dateutil>=2.5.3 in /usr/local/lib/python3.10/dist-packages (from kubernetes>=28.1.0->chromadb<0.6.0,>=0.4.0->langchain-chroma) (2.8.2)\n",
            "Requirement already satisfied: google-auth>=1.0.1 in /usr/local/lib/python3.10/dist-packages (from kubernetes>=28.1.0->chromadb<0.6.0,>=0.4.0->langchain-chroma) (2.27.0)\n",
            "Requirement already satisfied: websocket-client!=0.40.0,!=0.41.*,!=0.42.*,>=0.32.0 in /usr/local/lib/python3.10/dist-packages (from kubernetes>=28.1.0->chromadb<0.6.0,>=0.4.0->langchain-chroma) (1.8.0)\n",
            "Requirement already satisfied: requests-oauthlib in /usr/local/lib/python3.10/dist-packages (from kubernetes>=28.1.0->chromadb<0.6.0,>=0.4.0->langchain-chroma) (1.3.1)\n",
            "Requirement already satisfied: oauthlib>=3.2.2 in /usr/local/lib/python3.10/dist-packages (from kubernetes>=28.1.0->chromadb<0.6.0,>=0.4.0->langchain-chroma) (3.2.2)\n",
            "Requirement already satisfied: urllib3>=1.24.2 in /usr/local/lib/python3.10/dist-packages (from kubernetes>=28.1.0->chromadb<0.6.0,>=0.4.0->langchain-chroma) (2.0.7)\n",
            "Requirement already satisfied: coloredlogs in /usr/local/lib/python3.10/dist-packages (from onnxruntime>=1.14.1->chromadb<0.6.0,>=0.4.0->langchain-chroma) (15.0.1)\n",
            "Requirement already satisfied: flatbuffers in /usr/local/lib/python3.10/dist-packages (from onnxruntime>=1.14.1->chromadb<0.6.0,>=0.4.0->langchain-chroma) (24.3.25)\n",
            "Requirement already satisfied: protobuf in /usr/local/lib/python3.10/dist-packages (from onnxruntime>=1.14.1->chromadb<0.6.0,>=0.4.0->langchain-chroma) (3.20.3)\n",
            "Requirement already satisfied: sympy in /usr/local/lib/python3.10/dist-packages (from onnxruntime>=1.14.1->chromadb<0.6.0,>=0.4.0->langchain-chroma) (1.12.1)\n",
            "Collecting deprecated>=1.2.6 (from opentelemetry-api>=1.2.0->chromadb<0.6.0,>=0.4.0->langchain-chroma)\n",
            "  Downloading Deprecated-1.2.14-py2.py3-none-any.whl (9.6 kB)\n",
            "Collecting importlib-metadata<=7.1,>=6.0 (from opentelemetry-api>=1.2.0->chromadb<0.6.0,>=0.4.0->langchain-chroma)\n",
            "  Downloading importlib_metadata-7.1.0-py3-none-any.whl (24 kB)\n",
            "Requirement already satisfied: googleapis-common-protos~=1.52 in /usr/local/lib/python3.10/dist-packages (from opentelemetry-exporter-otlp-proto-grpc>=1.2.0->chromadb<0.6.0,>=0.4.0->langchain-chroma) (1.63.2)\n",
            "Collecting opentelemetry-exporter-otlp-proto-common==1.25.0 (from opentelemetry-exporter-otlp-proto-grpc>=1.2.0->chromadb<0.6.0,>=0.4.0->langchain-chroma)\n",
            "  Downloading opentelemetry_exporter_otlp_proto_common-1.25.0-py3-none-any.whl (17 kB)\n",
            "Collecting opentelemetry-proto==1.25.0 (from opentelemetry-exporter-otlp-proto-grpc>=1.2.0->chromadb<0.6.0,>=0.4.0->langchain-chroma)\n",
            "  Downloading opentelemetry_proto-1.25.0-py3-none-any.whl (52 kB)\n",
            "\u001b[2K     \u001b[90m━━━━━━━━━━━━━━━━━━━━━━━━━━━━━━━━━━━━━━━━\u001b[0m \u001b[32m52.5/52.5 kB\u001b[0m \u001b[31m7.0 MB/s\u001b[0m eta \u001b[36m0:00:00\u001b[0m\n",
            "\u001b[?25hCollecting opentelemetry-instrumentation-asgi==0.46b0 (from opentelemetry-instrumentation-fastapi>=0.41b0->chromadb<0.6.0,>=0.4.0->langchain-chroma)\n",
            "  Downloading opentelemetry_instrumentation_asgi-0.46b0-py3-none-any.whl (14 kB)\n",
            "Collecting opentelemetry-instrumentation==0.46b0 (from opentelemetry-instrumentation-fastapi>=0.41b0->chromadb<0.6.0,>=0.4.0->langchain-chroma)\n",
            "  Downloading opentelemetry_instrumentation-0.46b0-py3-none-any.whl (29 kB)\n",
            "Collecting opentelemetry-semantic-conventions==0.46b0 (from opentelemetry-instrumentation-fastapi>=0.41b0->chromadb<0.6.0,>=0.4.0->langchain-chroma)\n",
            "  Downloading opentelemetry_semantic_conventions-0.46b0-py3-none-any.whl (130 kB)\n",
            "\u001b[2K     \u001b[90m━━━━━━━━━━━━━━━━━━━━━━━━━━━━━━━━━━━━━━━━\u001b[0m \u001b[32m130.5/130.5 kB\u001b[0m \u001b[31m16.5 MB/s\u001b[0m eta \u001b[36m0:00:00\u001b[0m\n",
            "\u001b[?25hCollecting opentelemetry-util-http==0.46b0 (from opentelemetry-instrumentation-fastapi>=0.41b0->chromadb<0.6.0,>=0.4.0->langchain-chroma)\n",
            "  Downloading opentelemetry_util_http-0.46b0-py3-none-any.whl (6.9 kB)\n",
            "Requirement already satisfied: setuptools>=16.0 in /usr/local/lib/python3.10/dist-packages (from opentelemetry-instrumentation==0.46b0->opentelemetry-instrumentation-fastapi>=0.41b0->chromadb<0.6.0,>=0.4.0->langchain-chroma) (67.7.2)\n",
            "Requirement already satisfied: wrapt<2.0.0,>=1.0.0 in /usr/local/lib/python3.10/dist-packages (from opentelemetry-instrumentation==0.46b0->opentelemetry-instrumentation-fastapi>=0.41b0->chromadb<0.6.0,>=0.4.0->langchain-chroma) (1.14.1)\n",
            "Collecting asgiref~=3.0 (from opentelemetry-instrumentation-asgi==0.46b0->opentelemetry-instrumentation-fastapi>=0.41b0->chromadb<0.6.0,>=0.4.0->langchain-chroma)\n",
            "  Downloading asgiref-3.8.1-py3-none-any.whl (23 kB)\n",
            "Collecting monotonic>=1.5 (from posthog>=2.4.0->chromadb<0.6.0,>=0.4.0->langchain-chroma)\n",
            "  Downloading monotonic-1.6-py2.py3-none-any.whl (8.2 kB)\n",
            "Requirement already satisfied: backoff>=1.10.0 in /usr/local/lib/python3.10/dist-packages (from posthog>=2.4.0->chromadb<0.6.0,>=0.4.0->langchain-chroma) (2.2.1)\n",
            "Requirement already satisfied: annotated-types>=0.4.0 in /usr/local/lib/python3.10/dist-packages (from pydantic>=1.9->chromadb<0.6.0,>=0.4.0->langchain-chroma) (0.7.0)\n",
            "Requirement already satisfied: pydantic-core==2.20.0 in /usr/local/lib/python3.10/dist-packages (from pydantic>=1.9->chromadb<0.6.0,>=0.4.0->langchain-chroma) (2.20.0)\n",
            "Requirement already satisfied: charset-normalizer<4,>=2 in /usr/local/lib/python3.10/dist-packages (from requests>=2.28->chromadb<0.6.0,>=0.4.0->langchain-chroma) (3.3.2)\n",
            "Requirement already satisfied: huggingface-hub<1.0,>=0.16.4 in /usr/local/lib/python3.10/dist-packages (from tokenizers>=0.13.2->chromadb<0.6.0,>=0.4.0->langchain-chroma) (0.23.4)\n",
            "Requirement already satisfied: click>=8.0.0 in /usr/local/lib/python3.10/dist-packages (from typer>=0.9.0->chromadb<0.6.0,>=0.4.0->langchain-chroma) (8.1.7)\n",
            "Requirement already satisfied: shellingham>=1.3.0 in /usr/local/lib/python3.10/dist-packages (from typer>=0.9.0->chromadb<0.6.0,>=0.4.0->langchain-chroma) (1.5.4)\n",
            "Requirement already satisfied: rich>=10.11.0 in /usr/local/lib/python3.10/dist-packages (from typer>=0.9.0->chromadb<0.6.0,>=0.4.0->langchain-chroma) (13.7.1)\n",
            "Collecting httptools>=0.5.0 (from uvicorn[standard]>=0.18.3->chromadb<0.6.0,>=0.4.0->langchain-chroma)\n",
            "  Downloading httptools-0.6.1-cp310-cp310-manylinux_2_5_x86_64.manylinux1_x86_64.manylinux_2_17_x86_64.manylinux2014_x86_64.whl (341 kB)\n",
            "\u001b[2K     \u001b[90m━━━━━━━━━━━━━━━━━━━━━━━━━━━━━━━━━━━━━━━━\u001b[0m \u001b[32m341.4/341.4 kB\u001b[0m \u001b[31m34.1 MB/s\u001b[0m eta \u001b[36m0:00:00\u001b[0m\n",
            "\u001b[?25hCollecting python-dotenv>=0.13 (from uvicorn[standard]>=0.18.3->chromadb<0.6.0,>=0.4.0->langchain-chroma)\n",
            "  Downloading python_dotenv-1.0.1-py3-none-any.whl (19 kB)\n",
            "Collecting uvloop!=0.15.0,!=0.15.1,>=0.14.0 (from uvicorn[standard]>=0.18.3->chromadb<0.6.0,>=0.4.0->langchain-chroma)\n",
            "  Downloading uvloop-0.19.0-cp310-cp310-manylinux_2_17_x86_64.manylinux2014_x86_64.whl (3.4 MB)\n",
            "\u001b[2K     \u001b[90m━━━━━━━━━━━━━━━━━━━━━━━━━━━━━━━━━━━━━━━━\u001b[0m \u001b[32m3.4/3.4 MB\u001b[0m \u001b[31m59.8 MB/s\u001b[0m eta \u001b[36m0:00:00\u001b[0m\n",
            "\u001b[?25hCollecting watchfiles>=0.13 (from uvicorn[standard]>=0.18.3->chromadb<0.6.0,>=0.4.0->langchain-chroma)\n",
            "  Downloading watchfiles-0.22.0-cp310-cp310-manylinux_2_17_x86_64.manylinux2014_x86_64.whl (1.2 MB)\n",
            "\u001b[2K     \u001b[90m━━━━━━━━━━━━━━━━━━━━━━━━━━━━━━━━━━━━━━━━\u001b[0m \u001b[32m1.2/1.2 MB\u001b[0m \u001b[31m54.0 MB/s\u001b[0m eta \u001b[36m0:00:00\u001b[0m\n",
            "\u001b[?25hCollecting websockets>=10.4 (from uvicorn[standard]>=0.18.3->chromadb<0.6.0,>=0.4.0->langchain-chroma)\n",
            "  Downloading websockets-12.0-cp310-cp310-manylinux_2_5_x86_64.manylinux1_x86_64.manylinux_2_17_x86_64.manylinux2014_x86_64.whl (130 kB)\n",
            "\u001b[2K     \u001b[90m━━━━━━━━━━━━━━━━━━━━━━━━━━━━━━━━━━━━━━━━\u001b[0m \u001b[32m130.2/130.2 kB\u001b[0m \u001b[31m15.9 MB/s\u001b[0m eta \u001b[36m0:00:00\u001b[0m\n",
            "\u001b[?25hRequirement already satisfied: exceptiongroup in /usr/local/lib/python3.10/dist-packages (from anyio->httpx>=0.27.0->chromadb<0.6.0,>=0.4.0->langchain-chroma) (1.2.1)\n",
            "Requirement already satisfied: cachetools<6.0,>=2.0.0 in /usr/local/lib/python3.10/dist-packages (from google-auth>=1.0.1->kubernetes>=28.1.0->chromadb<0.6.0,>=0.4.0->langchain-chroma) (5.3.3)\n",
            "Requirement already satisfied: pyasn1-modules>=0.2.1 in /usr/local/lib/python3.10/dist-packages (from google-auth>=1.0.1->kubernetes>=28.1.0->chromadb<0.6.0,>=0.4.0->langchain-chroma) (0.4.0)\n",
            "Requirement already satisfied: rsa<5,>=3.1.4 in /usr/local/lib/python3.10/dist-packages (from google-auth>=1.0.1->kubernetes>=28.1.0->chromadb<0.6.0,>=0.4.0->langchain-chroma) (4.9)\n",
            "Requirement already satisfied: filelock in /usr/local/lib/python3.10/dist-packages (from huggingface-hub<1.0,>=0.16.4->tokenizers>=0.13.2->chromadb<0.6.0,>=0.4.0->langchain-chroma) (3.15.4)\n",
            "Requirement already satisfied: fsspec>=2023.5.0 in /usr/local/lib/python3.10/dist-packages (from huggingface-hub<1.0,>=0.16.4->tokenizers>=0.13.2->chromadb<0.6.0,>=0.4.0->langchain-chroma) (2023.6.0)\n",
            "Requirement already satisfied: zipp>=0.5 in /usr/local/lib/python3.10/dist-packages (from importlib-metadata<=7.1,>=6.0->opentelemetry-api>=1.2.0->chromadb<0.6.0,>=0.4.0->langchain-chroma) (3.19.2)\n",
            "Requirement already satisfied: markdown-it-py>=2.2.0 in /usr/local/lib/python3.10/dist-packages (from rich>=10.11.0->typer>=0.9.0->chromadb<0.6.0,>=0.4.0->langchain-chroma) (3.0.0)\n",
            "Requirement already satisfied: pygments<3.0.0,>=2.13.0 in /usr/local/lib/python3.10/dist-packages (from rich>=10.11.0->typer>=0.9.0->chromadb<0.6.0,>=0.4.0->langchain-chroma) (2.16.1)\n",
            "Requirement already satisfied: humanfriendly>=9.1 in /usr/local/lib/python3.10/dist-packages (from coloredlogs->onnxruntime>=1.14.1->chromadb<0.6.0,>=0.4.0->langchain-chroma) (10.0)\n",
            "Requirement already satisfied: mpmath<1.4.0,>=1.1.0 in /usr/local/lib/python3.10/dist-packages (from sympy->onnxruntime>=1.14.1->chromadb<0.6.0,>=0.4.0->langchain-chroma) (1.3.0)\n",
            "Requirement already satisfied: mdurl~=0.1 in /usr/local/lib/python3.10/dist-packages (from markdown-it-py>=2.2.0->rich>=10.11.0->typer>=0.9.0->chromadb<0.6.0,>=0.4.0->langchain-chroma) (0.1.2)\n",
            "Requirement already satisfied: pyasn1<0.7.0,>=0.4.6 in /usr/local/lib/python3.10/dist-packages (from pyasn1-modules>=0.2.1->google-auth>=1.0.1->kubernetes>=28.1.0->chromadb<0.6.0,>=0.4.0->langchain-chroma) (0.6.0)\n",
            "Building wheels for collected packages: pypika\n",
            "  Building wheel for pypika (pyproject.toml) ... \u001b[?25l\u001b[?25hdone\n",
            "  Created wheel for pypika: filename=PyPika-0.48.9-py2.py3-none-any.whl size=53724 sha256=aba0b63717da543a7fb638ef1af4452ec12875c32a09594e1e7c3e39a46fbf15\n",
            "  Stored in directory: /root/.cache/pip/wheels/e1/26/51/d0bffb3d2fd82256676d7ad3003faea3bd6dddc9577af665f4\n",
            "Successfully built pypika\n",
            "Installing collected packages: pypika, monotonic, mmh3, websockets, uvloop, uvicorn, ujson, python-dotenv, overrides, opentelemetry-util-http, opentelemetry-proto, importlib-metadata, httptools, dnspython, deprecated, chroma-hnswlib, bcrypt, asgiref, watchfiles, starlette, posthog, opentelemetry-exporter-otlp-proto-common, opentelemetry-api, email_validator, opentelemetry-semantic-conventions, opentelemetry-instrumentation, kubernetes, opentelemetry-sdk, opentelemetry-instrumentation-asgi, fastapi-cli, opentelemetry-instrumentation-fastapi, opentelemetry-exporter-otlp-proto-grpc, fastapi, chromadb, langchain-chroma\n",
            "  Attempting uninstall: importlib-metadata\n",
            "    Found existing installation: importlib_metadata 8.0.0\n",
            "    Uninstalling importlib_metadata-8.0.0:\n",
            "      Successfully uninstalled importlib_metadata-8.0.0\n",
            "Successfully installed asgiref-3.8.1 bcrypt-4.1.3 chroma-hnswlib-0.7.3 chromadb-0.5.3 deprecated-1.2.14 dnspython-2.6.1 email_validator-2.2.0 fastapi-0.111.0 fastapi-cli-0.0.4 httptools-0.6.1 importlib-metadata-7.1.0 kubernetes-30.1.0 langchain-chroma-0.1.2 mmh3-4.1.0 monotonic-1.6 opentelemetry-api-1.25.0 opentelemetry-exporter-otlp-proto-common-1.25.0 opentelemetry-exporter-otlp-proto-grpc-1.25.0 opentelemetry-instrumentation-0.46b0 opentelemetry-instrumentation-asgi-0.46b0 opentelemetry-instrumentation-fastapi-0.46b0 opentelemetry-proto-1.25.0 opentelemetry-sdk-1.25.0 opentelemetry-semantic-conventions-0.46b0 opentelemetry-util-http-0.46b0 overrides-7.7.0 posthog-3.5.0 pypika-0.48.9 python-dotenv-1.0.1 starlette-0.37.2 ujson-5.10.0 uvicorn-0.30.1 uvloop-0.19.0 watchfiles-0.22.0 websockets-12.0\n"
          ]
        }
      ],
      "source": [
        "!pip install langchain-chroma"
      ]
    },
    {
      "cell_type": "code",
      "source": [
        "text1=\"\"\" Financial Report for XYZ Corporation\n",
        "\n",
        "I. Introduction\n",
        "\n",
        "XYZ Corporation, a leading multinational company in the technology sector, presents its financial report for the fiscal year ending December 31, 2021. This report provides a comprehensive overview of the company's financial performance, including revenues, expenses, and profitability.\n",
        "\n",
        "II. Financial Highlights\n",
        "\n",
        "Revenue\n",
        "The company's total revenue for the fiscal year 2021 was $50 billion, a 15% increase compared to the previous year's revenue of $43.5 billion. This growth was primarily driven by strong sales in our software and services division, which contributed $30 billion, a 20% increase year-over-year.\n",
        "\n",
        "Operating Expenses\n",
        "Operating expenses for the year were $35 billion, an increase of 10% from the previous year. This increase was primarily due to higher research and development expenses, which totaled $15 billion, up from $12 billion in the previous year.\n",
        "\n",
        "Net Income\n",
        "The net income for the fiscal year 2021 was $15 billion, a 25% increase from the previous year's net income of $12 billion. This increase was primarily due to higher revenues and effective cost management.\n",
        "\n",
        "III. Balance Sheet Highlights\n",
        "\n",
        "Total Assets\n",
        "As of December 31, 2021, the company's total assets were $80 billion, an increase of 12% from the previous year. This increase was primarily due to higher cash and cash equivalents, which totaled $20 billion, up from $15 billion in the previous year.\n",
        "\n",
        "Total Liabilities\n",
        "Total liabilities as of December 31, 2021, were $40 billion, an increase of 10% from the previous year. This increase was primarily due to higher long-term debt, which totaled $15 billion, up from $12 billion in the previous year.\n",
        "\n",
        "IV. Cash Flow Statement\n",
        "\n",
        "Operating Activities\n",
        "Cash provided by operating activities was $20 billion for the fiscal year 2021, an increase of 15% from the previous year. This increase was primarily due to higher net income and effective working capital management.\n",
        "\n",
        "Investing Activities\n",
        "Cash used in investing activities was $10 billion for the fiscal year 2021, an increase of 20% from the previous year. This increase was primarily due to higher investments in property, plant, and equipment.\n",
        "\n",
        "Financing Activities\n",
        "Cash provided by financing activities was $5 billion for the fiscal year 2021, a decrease of 10% from the previous year. This decrease was primarily due to lower proceeds from the issuance of long-term debt.\n",
        "\n",
        "V. Conclusion\n",
        "\n",
        "XYZ Corporation had a successful fiscal year 2021, with strong revenue growth and improved profitability. The company remains committed to investing in research and development to drive future growth and maintain its competitive edge in the technology sector.\n",
        "\n",
        "VI. Articles and Clauses\n",
        "\n",
        "Article 1: The company will continue to invest in research and development to drive future growth.\n",
        "\n",
        "Clause 1.1: The company will allocate at least 20% of its total revenue to research and development activities.\n",
        "\n",
        "Article 2: The company will maintain a strong balance sheet to ensure financial flexibility.\n",
        "\n",
        "Clause 2.1: The company will maintain a debt-to-equity ratio of less than 1.0.\n",
        "\n",
        "Article 3: The company will continue to focus on effective cost management to improve profitability.\n",
        "\n",
        "Clause 3.1: The company will aim to reduce operating expenses as a percentage of revenue by at least 1% per year.\"\"\"\n",
        "\n",
        "\n",
        "\n",
        "text2=\"\"\"\n",
        "Updated Financial Report for XYZ Corporation\n",
        "\n",
        "I. Introduction\n",
        "\n",
        "XYZ Corporation, a leading multinational company in the technology sector, presents its updated financial report for the fiscal year ending December 31, 2022. This report provides a comprehensive overview of the company's financial performance, including revenues, expenses, and profitability.\n",
        "\n",
        "II. Financial Highlights\n",
        "\n",
        "Revenue\n",
        "The company's total revenue for the fiscal year 2022 was $60 billion, a 20% increase compared to the previous year's revenue of $50 billion. This growth was primarily driven by strong sales in our software and services division, which contributed $36 billion, a 25% increase year-over-year.\n",
        "\n",
        "Operating Expenses\n",
        "Operating expenses for the year were $38 billion, an increase of 12% from the previous year. This increase was primarily due to higher research and development expenses, which totaled $18 billion, up from $15 billion in the previous year.\n",
        "\n",
        "Net Income\n",
        "The net income for the fiscal year 2022 was $22 billion, a 47% increase from the previous year's net income of $15 billion. This increase was primarily due to higher revenues and effective cost management.\n",
        "\n",
        "III. Balance Sheet Highlights\n",
        "\n",
        "Total Assets\n",
        "As of December 31, 2022, the company's total assets were $95 billion, an increase of 18% from the previous year. This increase was primarily due to higher cash and cash equivalents, which totaled $25 billion, up from $20 billion in the previous year.\n",
        "\n",
        "Total Liabilities\n",
        "Total liabilities as of December 31, 2022, were $45 billion, an increase of 12% from the previous year. This increase was primarily due to higher long-term debt, which totaled $20 billion, up from $15 billion in the previous year.\n",
        "\n",
        "IV. Cash Flow Statement\n",
        "\n",
        "Operating Activities\n",
        "Cash provided by operating activities was $25 billion for the fiscal year 2022, an increase of 25% from the previous year. This increase was primarily due to higher net income and effective working capital management.\n",
        "\n",
        "Investing Activities\n",
        "Cash used in investing activities was $12 billion for the fiscal year 2022, an increase of 20% from the previous year. This increase was primarily due to higher investments in property, plant, and equipment.\n",
        "\n",
        "Financing Activities\n",
        "Cash provided by financing activities was $7 billion for the fiscal year 2022, an increase of 40% from the previous year. This increase was primarily due to higher proceeds from the issuance of long-term debt.\n",
        "\n",
        "V. Conclusion\n",
        "\n",
        "XYZ Corporation had a successful fiscal year 2022, with strong revenue growth and improved profitability. The company remains committed to investing in research and development to drive future growth and maintain its competitive edge in the technology sector.\n",
        "\n",
        "VI. Articles and Clauses\n",
        "\n",
        "Article 1: The company will continue to invest in research and development to drive future growth.\n",
        "\n",
        "Clause 1.1: The company will allocate at least 25% of its total revenue to research and development activities.\n",
        "\n",
        "Article 2: The company will maintain a strong balance sheet to ensure financial flexibility.\n",
        "\n",
        "Clause 2.1: The company will maintain a debt-to-equity ratio of less than 0.9.\n",
        "\n",
        "Article 3: The company will continue to focus on effective cost management to improve profitability.\n",
        "\n",
        "Clause 3.1: The company will aim to reduce operating expenses as a percentage of revenue by at least 1.5% per year.\n",
        "\n",
        "Article 4: The company will explore new markets and opportunities to diversify its revenue streams.\n",
        "\n",
        "Clause 4.1: The company will allocate at least 5% of its total revenue to business development activities.\n",
        "\n",
        "This updated report reflects the company's continued commitment to financial growth and stability. XYZ Corporation looks forward to another successful year in 2023.\n",
        "\"\"\""
      ],
      "metadata": {
        "id": "xHp1fh1w1wR-"
      },
      "execution_count": 1,
      "outputs": []
    },
    {
      "cell_type": "code",
      "execution_count": 6,
      "metadata": {
        "id": "Xx8P5Ot11SXU"
      },
      "outputs": [],
      "source": [
        "#Text Splitter and Embeddings\n",
        "from langchain_chroma import Chroma\n",
        "from langchain_community.document_loaders import TextLoader\n",
        "from langchain_community.embeddings.sentence_transformer import (\n",
        "    SentenceTransformerEmbeddings,\n",
        ")\n",
        "from langchain_community.document_loaders.csv_loader import CSVLoader\n",
        "from langchain_text_splitters import RecursiveCharacterTextSplitter\n",
        "import re\n",
        "import langchain\n",
        "\n",
        "def text_splitter_And_Similarity_Search(documents):\n",
        "\n",
        "\n",
        "\n",
        "    model_name=\"BAAI/bge-large-en-v1.5\"\n",
        "    model_kwargs = {\"device\": \"cuda\",\"trust_remote_code\":True}\n",
        "    encode_kwargs = {\"normalize_embeddings\": True}\n",
        "\n",
        "\n",
        "\n",
        "    # text_splitter = RecursiveCharacterTextSplitter(chunk_size=250,chunk_overlap=50)\n",
        "\n",
        "\n",
        "\n",
        "\n",
        "    embedding_function = SentenceTransformerEmbeddings(\n",
        "    model_name=model_name,\n",
        "    model_kwargs=model_kwargs,\n",
        "    encode_kwargs=encode_kwargs,\n",
        "    )\n",
        "\n",
        "    db = Chroma.from_documents(documents, embedding_function,persist_directory=\"./book1111_embed\" )\n",
        "\n",
        "\n",
        "    # embedding_function = SentenceTransformerEmbeddings(model_name=\"thenlper/gte-base\")\n",
        "    # db = Chroma.from_documents(documents, embedding_function )\n",
        "\n",
        "    return db,\n",
        "\n",
        "\n",
        "\n",
        "\n",
        "\n"
      ]
    },
    {
      "cell_type": "code",
      "execution_count": null,
      "metadata": {
        "id": "pNRSvbRj1VeH",
        "colab": {
          "base_uri": "https://localhost:8080/"
        },
        "outputId": "349bb5c5-c09b-4e0d-ae46-8bb5f3e0e521"
      },
      "outputs": [
        {
          "output_type": "stream",
          "name": "stdout",
          "text": [
            "Mounted at /content/drive\n"
          ]
        }
      ],
      "source": [
        "from google.colab import drive\n",
        "drive.mount('/content/drive')"
      ]
    },
    {
      "cell_type": "code",
      "execution_count": null,
      "metadata": {
        "id": "UUTpnVU61X-g"
      },
      "outputs": [],
      "source": [
        "!pip install sentence-transformers"
      ]
    },
    {
      "cell_type": "code",
      "execution_count": 3,
      "metadata": {
        "id": "TfpXS7S71ZZ6",
        "colab": {
          "base_uri": "https://localhost:8080/"
        },
        "outputId": "3effe155-fcf7-492a-d5c0-eefa1baaec96"
      },
      "outputs": [
        {
          "output_type": "stream",
          "name": "stderr",
          "text": [
            "/usr/local/lib/python3.10/dist-packages/langchain_core/_api/deprecation.py:139: LangChainDeprecationWarning: The class `HuggingFaceEmbeddings` was deprecated in LangChain 0.2.2 and will be removed in 0.3.0. An updated version of the class exists in the langchain-huggingface package and should be used instead. To use it run `pip install -U langchain-huggingface` and import as `from langchain_huggingface import HuggingFaceEmbeddings`.\n",
            "  warn_deprecated(\n",
            "/usr/local/lib/python3.10/dist-packages/sentence_transformers/cross_encoder/CrossEncoder.py:11: TqdmExperimentalWarning: Using `tqdm.autonotebook.tqdm` in notebook mode. Use `tqdm.tqdm` instead to force console mode (e.g. in jupyter console)\n",
            "  from tqdm.autonotebook import tqdm, trange\n",
            "/usr/local/lib/python3.10/dist-packages/huggingface_hub/utils/_token.py:89: UserWarning: \n",
            "The secret `HF_TOKEN` does not exist in your Colab secrets.\n",
            "To authenticate with the Hugging Face Hub, create a token in your settings tab (https://huggingface.co/settings/tokens), set it as secret in your Google Colab and restart your session.\n",
            "You will be able to reuse this secret in all of your notebooks.\n",
            "Please note that authentication is recommended but still optional to access public models or datasets.\n",
            "  warnings.warn(\n",
            "/usr/local/lib/python3.10/dist-packages/huggingface_hub/file_download.py:1132: FutureWarning: `resume_download` is deprecated and will be removed in version 1.0.0. Downloads always resume when possible. If you want to force a new download, use `force_download=True`.\n",
            "  warnings.warn(\n"
          ]
        }
      ],
      "source": [
        "model_name=\"BAAI/bge-large-en-v1.5\"\n",
        "model_kwargs = {\"device\": \"cpu\",\"trust_remote_code\":True}\n",
        "encode_kwargs = {\"normalize_embeddings\": True}\n",
        "\n",
        "\n",
        "\n",
        "    # text_splitter = RecursiveCharacterTextSplitter(chunk_size=250,\n",
        "    #                                                    chunk_overlap=50)\n",
        "\n",
        "\n",
        "\n",
        "\n",
        "embedding_function = SentenceTransformerEmbeddings(\n",
        "model_name=model_name,\n",
        "model_kwargs=model_kwargs,\n",
        "encode_kwargs=encode_kwargs,\n",
        ")"
      ]
    },
    {
      "cell_type": "code",
      "source": [
        "vectordb1"
      ],
      "metadata": {
        "colab": {
          "base_uri": "https://localhost:8080/"
        },
        "id": "0s69KQ057Trj",
        "outputId": "c42e561e-8424-45c6-8090-7f7fd821f10d"
      },
      "execution_count": null,
      "outputs": [
        {
          "output_type": "execute_result",
          "data": {
            "text/plain": [
              "<langchain_chroma.vectorstores.Chroma at 0x78680827b3a0>"
            ]
          },
          "metadata": {},
          "execution_count": 36
        }
      ]
    },
    {
      "cell_type": "code",
      "source": [],
      "metadata": {
        "id": "hrefqr1y7TZ5"
      },
      "execution_count": null,
      "outputs": []
    },
    {
      "cell_type": "code",
      "execution_count": 4,
      "metadata": {
        "id": "A8wnkavx1anI"
      },
      "outputs": [],
      "source": [
        "from langchain.text_splitter import RecursiveCharacterTextSplitter\n",
        "from langchain.docstore.document import Document\n",
        "\n",
        "def getDocs(text):\n",
        "  docs=Document(page_content=text,metadata={\"source\":\"book\"})\n",
        "  doc=[]\n",
        "  doc.append(docs)\n",
        "  text_splitter = RecursiveCharacterTextSplitter(chunk_size=1000,\n",
        "                                                       chunk_overlap=0)\n",
        "  documents = text_splitter.split_documents(doc)\n",
        "  return documents"
      ]
    },
    {
      "cell_type": "code",
      "execution_count": 7,
      "metadata": {
        "id": "IQRuB9RH1cJ7"
      },
      "outputs": [],
      "source": [
        "db1=text_splitter_And_Similarity_Search(getDocs(text1))\n",
        "# db2=text_splitter_And_Similarity_Search(getDocs(text2))"
      ]
    },
    {
      "cell_type": "code",
      "source": [
        "!pip install numba\n",
        "\n",
        "from numba import cuda\n",
        "device = cuda.get_current_device()\n",
        "device.reset()"
      ],
      "metadata": {
        "colab": {
          "base_uri": "https://localhost:8080/"
        },
        "id": "AfT6iuuARPic",
        "outputId": "93a77457-a857-4e02-ee36-9b5844d98564"
      },
      "execution_count": null,
      "outputs": [
        {
          "output_type": "stream",
          "name": "stdout",
          "text": [
            "Requirement already satisfied: numba in /usr/local/lib/python3.10/dist-packages (0.58.1)\n",
            "Requirement already satisfied: llvmlite<0.42,>=0.41.0dev0 in /usr/local/lib/python3.10/dist-packages (from numba) (0.41.1)\n",
            "Requirement already satisfied: numpy<1.27,>=1.22 in /usr/local/lib/python3.10/dist-packages (from numba) (1.25.2)\n"
          ]
        }
      ]
    },
    {
      "cell_type": "code",
      "execution_count": null,
      "metadata": {
        "id": "3ggEz5Ci1d4C"
      },
      "outputs": [],
      "source": [
        "from transformers import AutoTokenizer, AutoModelForCausalLM\n",
        "\n",
        "def check_token_limit(new_documents):\n",
        "  tokenizer = AutoTokenizer.from_pretrained(\"microsoft/Phi-3-mini-4k-instruct\")\n",
        "  tokens=tokenizer(new_documents)\n",
        "  n_tokens=len(tokens.input_ids)\n",
        "  return n_tokens"
      ]
    },
    {
      "cell_type": "code",
      "execution_count": 8,
      "metadata": {
        "id": "dhtkm3s_1fQf"
      },
      "outputs": [],
      "source": [
        "vectordb1 = Chroma(persist_directory=\"./book1111_embed\",embedding_function=embedding_function)\n",
        "vectordb2 = Chroma(persist_directory=\"./book2222_embed\",embedding_function=embedding_function)"
      ]
    },
    {
      "cell_type": "code",
      "source": [],
      "metadata": {
        "id": "uo0eikt2FPgg"
      },
      "execution_count": null,
      "outputs": []
    },
    {
      "cell_type": "code",
      "source": [
        "import torch\n",
        "from transformers import AutoModelForCausalLM, AutoTokenizer, pipeline\n",
        "from accelerate import Accelerator\n",
        "\n",
        "# Initialize Accelerator\n",
        "accelerator = Accelerator()\n",
        "torch.random.manual_seed(0)\n",
        "\n",
        "def start_model():\n",
        "  model_id = \"microsoft/Phi-3-mini-4k-instruct\"\n",
        "\n",
        "  model = AutoModelForCausalLM.from_pretrained(\n",
        "    model_id,\n",
        "    torch_dtype=\"auto\",\n",
        "    device_map=\"cuda\",\n",
        "    trust_remote_code=True,\n",
        "  )\n",
        "  assert torch.cuda.is_available(), \"This model needs a GPU to run ...\"\n",
        "\n",
        "  device = torch.cuda.current_device()\n",
        "\n",
        "  model = model.to(device)\n",
        "\n",
        "  tokenizer = AutoTokenizer.from_pretrained(model_id)\n",
        "\n",
        "\n",
        "\n",
        "  pipe = pipeline(\n",
        "    \"text-generation\",\n",
        "    model=model,\n",
        "    tokenizer=tokenizer,\n",
        "  )\n",
        "  return model,tokenizer ,pipe\n",
        "\n",
        "model,tokenizer,pipe=start_model()\n"
      ],
      "metadata": {
        "colab": {
          "base_uri": "https://localhost:8080/",
          "height": 121,
          "referenced_widgets": [
            "7607419b9f804d919a8ccdf7c64086cd",
            "23b554bbc02f4fa78564bfdc41eba889",
            "bc5d6fe2809c4273a0c1ad520554c9f4",
            "08a7786efbf2420293fc01699fc490b7",
            "0870572131f748019ceb09f45c0e8c1a",
            "371806f230e9485f85e2a4484c1bb19d",
            "d40178c80b0b4b09adf00033e5e0ff72",
            "c7561f258b4d43caa90859d01172fee6",
            "0cdcd1c434934d21af8d784291b40e11",
            "5a47e29c1888483bbf711617a6cd26c4",
            "f5aa8a08d77a4f9b9cb7a67f41b586c6"
          ]
        },
        "id": "owBnbiQUFH0T",
        "outputId": "679a6f96-573d-496e-e9da-ef015c5fbad0"
      },
      "execution_count": 9,
      "outputs": [
        {
          "output_type": "stream",
          "name": "stderr",
          "text": [
            "WARNING:transformers_modules.microsoft.Phi-3-mini-4k-instruct.c1358f8a35e6d2af81890deffbbfa575b978c62f.modeling_phi3:`flash-attention` package not found, consider installing for better performance: No module named 'flash_attn'.\n",
            "WARNING:transformers_modules.microsoft.Phi-3-mini-4k-instruct.c1358f8a35e6d2af81890deffbbfa575b978c62f.modeling_phi3:Current `flash-attention` does not support `window_size`. Either upgrade or use `attn_implementation='eager'`.\n"
          ]
        },
        {
          "output_type": "display_data",
          "data": {
            "text/plain": [
              "Loading checkpoint shards:   0%|          | 0/2 [00:00<?, ?it/s]"
            ],
            "application/vnd.jupyter.widget-view+json": {
              "version_major": 2,
              "version_minor": 0,
              "model_id": "7607419b9f804d919a8ccdf7c64086cd"
            }
          },
          "metadata": {}
        },
        {
          "output_type": "stream",
          "name": "stderr",
          "text": [
            "Special tokens have been added in the vocabulary, make sure the associated word embeddings are fine-tuned or trained.\n"
          ]
        }
      ]
    },
    {
      "cell_type": "code",
      "source": [
        "doc1_chunks=getDocs(text1)"
      ],
      "metadata": {
        "id": "t1AmlQxjF6pL"
      },
      "execution_count": 10,
      "outputs": []
    },
    {
      "cell_type": "code",
      "source": [
        "doc1_chunks[2]"
      ],
      "metadata": {
        "colab": {
          "base_uri": "https://localhost:8080/"
        },
        "id": "hVQjtZpAGrtY",
        "outputId": "58e8ac25-9aea-4c09-f41d-0b1708eef33e"
      },
      "execution_count": 11,
      "outputs": [
        {
          "output_type": "execute_result",
          "data": {
            "text/plain": [
              "Document(metadata={'source': 'book'}, page_content='Operating Activities\\nCash provided by operating activities was $20 billion for the fiscal year 2021, an increase of 15% from the previous year. This increase was primarily due to higher net income and effective working capital management.\\n\\nInvesting Activities\\nCash used in investing activities was $10 billion for the fiscal year 2021, an increase of 20% from the previous year. This increase was primarily due to higher investments in property, plant, and equipment.\\n\\nFinancing Activities\\nCash provided by financing activities was $5 billion for the fiscal year 2021, a decrease of 10% from the previous year. This decrease was primarily due to lower proceeds from the issuance of long-term debt.\\n\\nV. Conclusion\\n\\nXYZ Corporation had a successful fiscal year 2021, with strong revenue growth and improved profitability. The company remains committed to investing in research and development to drive future growth and maintain its competitive edge in the technology sector.')"
            ]
          },
          "metadata": {},
          "execution_count": 11
        }
      ]
    },
    {
      "cell_type": "code",
      "source": [
        "\n",
        "generation_args = {\n",
        " \"max_new_tokens\": 300,\n",
        " \"return_full_text\": False,\n",
        "#  \"repetition_penalty\": 1.3,\n",
        " \"temperature\": 0.0,\n",
        " \"do_sample\": False,\n",
        "  # \"top_p\":0.9,\n",
        "}"
      ],
      "metadata": {
        "id": "EbInmakSL-vn"
      },
      "execution_count": 12,
      "outputs": []
    },
    {
      "cell_type": "code",
      "source": [
        "def generate_questions(retrieved_documents):\n",
        "    document_text = retrieved_documents\n",
        "    messages = [\n",
        "        {\n",
        "            \"role\": \"system\",\n",
        "            \"content\": \"You have been given a chunk of a document. Your job is to generate a complete question that encapsulates all the important insights from that text. The question should be comprehensive and specific, ensuring it can be easily asked to different documents or chunks with similar details. Only provide the question. Do not include any additional information.\"\n",
        "        },\n",
        "        {\n",
        "            \"role\": \"user\",\n",
        "            \"content\": f\"Document: {document_text}\"\n",
        "        }\n",
        "    ]\n",
        "\n",
        "    output = pipe(messages, **generation_args)\n",
        "    print(output)\n",
        "    print(\"working fine generate_question\")\n",
        "\n",
        "    return output[0][\"generated_text\"]\n"
      ],
      "metadata": {
        "id": "bF79qjm6GqC-"
      },
      "execution_count": 19,
      "outputs": []
    },
    {
      "cell_type": "code",
      "source": [
        "def retrieved_documents(document):\n",
        "\n",
        "  questions=generate_questions(document)\n",
        "\n",
        "  doc1_text = vectordb1.similarity_search_with_score(query=questions,k=4)\n",
        "  doc2_text = vectordb2.similarity_search_with_score(query=questions,k=4)\n",
        "  print(\"working fine_retrieved_documents\")\n",
        "  return doc1_text,doc2_text,questions\n"
      ],
      "metadata": {
        "id": "WhOj03n5MHQ3"
      },
      "execution_count": 14,
      "outputs": []
    },
    {
      "cell_type": "code",
      "source": [
        "def generate_answers(document):\n",
        " doc1_text,doc2_text,question=retrieved_documents(document)\n",
        " print(\"doc1\")\n",
        " print(doc1_text)\n",
        " print(\"doc2\")\n",
        " print(doc2_text)\n",
        " answer1 = [{\n",
        "        \"role\": \"user\",\n",
        "        \"content\" : f\"\"\"\n",
        "You have been a document and a question , Your Job is to Answer the question from the given document precisely and acurately.\n",
        "Only provide the Answer , donot give any further information\n",
        "Here is  the document:\n",
        "{doc1_text}\n",
        "\n",
        "Question: {question}\n",
        "\"\"\"\n",
        "\n",
        " }]\n",
        " answer2 = [{\n",
        "        \"role\": \"user\",\n",
        "        \"content\" : f\"\"\"\n",
        "You have been a document and a question , Your Job is to Answer the question from the given document precisely and acurately.\n",
        "Only provide the Answer , donot give any further information\n",
        "\n",
        "Here is  the document:\n",
        "{doc2_text}\n",
        "\n",
        "Question: {question}\n",
        "\"\"\"\n",
        "\n",
        " }]\n",
        " output1 = pipe(answer1, **generation_args)\n",
        " output2 = pipe(answer2, **generation_args)\n",
        "\n",
        "\n",
        "\n",
        "\n",
        "\n",
        "\n",
        "\n",
        "\n",
        " print(\"working fine generate prompt\")\n",
        " return output1[0][\"generated_text\"],output2[0][\"generated_text\"],question\n",
        "\n",
        "\n",
        "\n",
        "\n",
        "\n"
      ],
      "metadata": {
        "id": "bjWN7xb6HV4g"
      },
      "execution_count": 15,
      "outputs": []
    },
    {
      "cell_type": "code",
      "source": [
        "def generate_prompt(document):\n",
        "    answer1, answer2, question = generate_answers(document)\n",
        "\n",
        "    prompt = [{\n",
        "        \"role\": \"user\",\n",
        "        \"content\": f\"You are tasked with comparing answers from two different documents to the same question:\\n\\nQuestion:\\n{question}\\n\\nYour goal is to identify and highlight differences accurately, including numerical details, clauses, and articles. Pay attention to instances where the same information is presented in different ways across both documents, such as a fixed number versus a range of numbers. Only answer based on the given information; do not provide any additional details.\\n\\nNote: Both documents belong to the same company. This context should not be considered a difference.\\n\\nDocument 1 (Main Document):\\n{answer1}\\n\\nDocument 2:\\n{answer2}\\n\\nInstructions:\\n- If a topic or information appears in both documents but is expressed differently (e.g., paraphrased or rephrased), note it as 'Equivalent information presented differently.' Specify the clauses or articles where these topics are mentioned.\\n- If a numerical detail in Document 1 is compared to a range in Document 2, or vice versa, highlight this difference specifically.\\n- If a topic is present in Document 1 but missing in Document 2, state: '[Topic] is missing from Document 2.' Specify the clause or article where this topic is mentioned in Document 1.\\n- If a topic is present in Document 2 but missing in Document 1, state: '[Topic] is missing from Document 1.' Specify the clause or article where this topic is mentioned in Document 2.\\n- Provide a concise comparison for each differing or equivalently presented topic, including the specific clauses or articles where they are discussed.\\n\\nDifferences and Equivalences:\"\n",
        "    }]\n",
        "\n",
        "    return prompt\n"
      ],
      "metadata": {
        "id": "55bttVc5TFwV"
      },
      "execution_count": 16,
      "outputs": []
    },
    {
      "cell_type": "code",
      "source": [
        "def generate_final_answer(document):\n",
        "\n",
        "  messages=generate_prompt(document)\n",
        "  output = pipe(messages, **generation_args)\n",
        "  print(\"working fine generate answer\")\n",
        "  return output[0][\"generated_text\"],messages\n",
        "\n"
      ],
      "metadata": {
        "id": "GFWo26mKPJiC"
      },
      "execution_count": 17,
      "outputs": []
    },
    {
      "cell_type": "code",
      "source": [
        "differences=[]\n",
        "for chunk in doc1_chunks:\n",
        "  current_document=chunk.page_content\n",
        "  result,messages=generate_final_answer(current_document)\n",
        "  print(result)\n",
        "  differences.append(result)"
      ],
      "metadata": {
        "id": "frtzytOhP016",
        "colab": {
          "base_uri": "https://localhost:8080/"
        },
        "outputId": "6e36c774-bfdf-4b20-8333-0d1c36f6a4b3"
      },
      "execution_count": 30,
      "outputs": [
        {
          "output_type": "stream",
          "name": "stderr",
          "text": [
            "/usr/local/lib/python3.10/dist-packages/transformers/generation/configuration_utils.py:515: UserWarning: `do_sample` is set to `False`. However, `temperature` is set to `0.0` -- this flag is only used in sample-based generation modes. You should set `do_sample=True` or unset `temperature`.\n",
            "  warnings.warn(\n"
          ]
        },
        {
          "output_type": "stream",
          "name": "stdout",
          "text": [
            "[{'generated_text': ' What are the objectives of the Finance Project Report titled \"Investment Strategies and Portfolio Management\" by ABC Finance Ltd. for the financial year 2023-2024?'}]\n",
            "working fine generate_question\n",
            "working fine_retrieved_documents\n",
            "doc1\n",
            "[(Document(metadata={'source': 'book'}, page_content='Document 1: Finance Project Report\\nTitle: Investment Strategies and Portfolio Management\\n\\nExecutive Summary\\nThis report evaluates the investment strategies and portfolio management approaches adopted by ABC Finance Ltd. The focus is on risk management, asset allocation, and performance measurement over the financial year 2023-2024.\\n\\n1. Introduction\\n1.1 Background\\n\\nABC Finance Ltd. has been a prominent player in the investment sector for over two decades. The firm manages a diverse portfolio consisting of equities, bonds, commodities, and real estate. Established in 2000, ABC Finance Ltd. has consistently demonstrated robust financial performance and strategic growth.\\n\\n1.2 Objectives\\n\\nThe objectives of this report are as follows:\\n1.2.1 To analyze the performance of the investment strategies implemented in the fiscal year 2023-2024.\\n1.2.2 To assess the effectiveness of the risk management techniques.\\n1.2.3 To provide recommendations for future investment strategies.'), 0.16943041122983263), (Document(metadata={'source': 'book'}, page_content=\"2. Investment Strategies\\n2.1 Asset Allocation\\n\\n2.1.1 Overview\\nAsset allocation is the process of distributing investments among various asset categories such as equities, bonds, commodities, and real estate. The primary goal is to optimize the risk-return profile of the portfolio.\\n\\n2.1.2 Strategy Implemented\\nIn the fiscal year 2023-2024, ABC Finance Ltd. employed a diversified asset allocation strategy:\\n\\nEquities: 50%\\nBonds: 30%\\nCommodities: 10%\\nReal Estate: 10%\\n2.2 Equity Investments\\n\\n2.2.1 Overview\\nEquities are shares of ownership in a corporation, providing investors with a claim on the company's assets and earnings.\\n\\n2.2.2 Performance\\nThe equity investments yielded an average return of 12% over the year. Key stocks in the portfolio included technology and healthcare sectors, which outperformed the market averages.\\n\\n2.3 Fixed-Income Investments\\n\\n2.3.1 Overview\\nFixed-income investments primarily consist of bonds, which are debt instruments issued by corporations and governments.\"), 0.4949233282278143), (Document(metadata={'source': 'book'}, page_content='5.2.1 Regulatory Compliance\\nABC Finance Ltd. adheres to all relevant regulatory requirements set by financial authorities.\\n\\n5.2.2 Ethical Standards\\nThe firm maintains high ethical standards, ensuring transparency and integrity in all investment activities.\\n\\n6. Conclusion and Recommendations\\n6.1 Conclusion\\n\\nThe investment strategies adopted by ABC Finance Ltd. in the fiscal year 2023-2024 were successful in achieving the desired objectives of risk management and return optimization.\\n\\n6.2 Recommendations\\n\\n6.2.1 Future Strategies\\n\\nEnhance diversification by exploring emerging markets.\\nIncrease allocation to technology and healthcare sectors.\\nImplement more advanced hedging techniques to mitigate risks.\\n6.2.2 Policy Enhancements\\n\\nRegularly review and update the Investment Policy Statement.\\nStrengthen compliance mechanisms to adapt to changing regulatory environments.\\nThis completes the first document. Please let me know when you are ready for the second document.'), 0.5046921513591303), (Document(metadata={'source': 'book'}, page_content='Performance measurement is critical to evaluate the success of investment strategies. The following metrics were used:\\n\\n4.1.1 Return on Investment (ROI)\\nThe overall ROI for the portfolio was 8.5%.\\n\\n4.1.2 Sharpe Ratio\\nThe Sharpe Ratio, which measures the risk-adjusted return, was 1.2.\\n\\n4.1.3 Alpha\\nAlpha, representing the excess return of the portfolio relative to the benchmark, was 2.3%.\\n\\n4.2 Comparative Analysis\\n\\nThe portfolio outperformed the benchmark index by 2%, indicating effective management and strategy implementation.\\n\\n5. Policies\\n5.1 Investment Policy Statement (IPS)\\n\\n5.1.1 Purpose\\nThe IPS outlines the investment philosophy and guidelines for ABC Finance Ltd.\\n\\n5.1.2 Key Components\\n\\nInvestment Objectives: Achieving a balanced growth of capital.\\nRisk Tolerance: Moderate, with an emphasis on capital preservation.\\nTime Horizon: Long-term, exceeding five years.\\n5.2 Compliance Policy'), 0.5628020484794193)]\n",
            "doc2\n",
            "[(Document(metadata={'source': 'book'}, page_content='Document 2: Finance Project Report\\nTitle: Investment Approaches and Portfolio Diversification\\n\\nExecutive Summary\\nThis report examines the investment approaches and portfolio diversification strategies employed by XYZ Capital Inc. The focus is on risk mitigation, asset allocation, and performance evaluation over the financial year 2023-2024.\\n\\n1. Introduction\\n1.1 Background\\n\\nXYZ Capital Inc. has established itself as a leading investment firm with over 25 years of experience. The company manages a varied portfolio comprising equities, fixed income, real estate, and alternative investments.\\n\\n1.2 Objectives\\n\\nThe objectives of this report are as follows:\\n1.2.1 To evaluate the effectiveness of the investment approaches implemented in the fiscal year 2023-2024.\\n1.2.2 To analyze the risk mitigation techniques utilized.\\n1.2.3 To provide strategic recommendations for future investment decisions.\\n\\n2. Investment Approaches\\n2.1 Asset Allocation'), 0.52281182670806), (Document(metadata={'source': 'book'}, page_content=\"2.1.1 Overview\\nAsset allocation involves distributing investments across different asset categories to balance risk and reward according to the investor's goals and risk tolerance.\\n\\n2.1.2 Strategy Implemented\\nIn the fiscal year 2023-2024, XYZ Capital Inc. utilized the following asset allocation strategy:\\n\\nEquities: 40%\\nFixed Income: 35%\\nReal Estate: 15%\\nAlternative Investments: 10%\\n2.2 Equity Investments\\n\\n2.2.1 Overview\\nEquity investments represent ownership in companies and provide investors with potential for capital appreciation and dividends.\\n\\n2.2.2 Performance\\nThe equity portfolio achieved an average return of 10% over the year. The portfolio was diversified across various sectors, with a strong emphasis on consumer goods and financial services.\\n\\n2.3 Fixed-Income Investments\\n\\n2.3.1 Overview\\nFixed-income investments include bonds and other debt instruments that provide a steady stream of income through interest payments.\"), 0.704060079238432), (Document(metadata={'source': 'book'}, page_content='2.3.2 Performance\\nThe fixed-income portfolio delivered an average return of 4.5%. The focus was on a mix of corporate bonds, municipal bonds, and treasury securities.\\n\\n3. Risk Mitigation\\n3.1 Overview\\n\\nRisk mitigation involves identifying and managing potential risks to minimize their impact on investment returns.\\n\\n3.2 Techniques Used\\n\\n3.2.1 Diversification\\nXYZ Capital Inc. emphasized diversification by investing in various asset classes and industries to spread risk.\\n\\n3.2.2 Hedging\\nHedging techniques included the use of derivatives such as swaps and options to protect against adverse market movements.\\n\\n3.3 Performance of Risk Mitigation\\n\\nThe risk mitigation strategies were effective, with the portfolio experiencing a maximum drawdown of 7% during market downturns.\\n\\n4. Performance Evaluation\\n4.1 Metrics Used\\n\\nPerformance evaluation is essential for assessing the success of investment strategies. The following metrics were used:'), 0.7974755831839889), (Document(metadata={'source': 'book'}, page_content='5.2.2 Ethical Standards\\nThe firm adheres to high ethical standards, ensuring transparency, honesty, and integrity in all investment activities.\\n\\n6. Conclusion and Recommendations\\n6.1 Conclusion\\n\\nThe investment approaches adopted by XYZ Capital Inc. in the fiscal year 2023-2024 were successful in achieving the desired outcomes of risk mitigation and return optimization.\\n\\n6.2 Recommendations\\n\\n6.2.1 Future Strategies\\n\\nIncrease exposure to international markets for greater diversification.\\nAllocate more resources to alternative investments for higher potential returns.\\nEnhance risk management practices with advanced analytical tools.\\n6.2.2 Policy Enhancements\\n\\nRegularly update the Investment Policy Statement to reflect market changes.\\nStrengthen compliance protocols to adapt to evolving regulatory landscapes.\\nThis completes the second document. You can now compare the two documents based on the differences in numerical data, textual content, policies, clauses, and articles.'), 0.8007585482493834)]\n"
          ]
        },
        {
          "output_type": "stream",
          "name": "stderr",
          "text": [
            "You seem to be using the pipelines sequentially on GPU. In order to maximize efficiency please use a dataset\n"
          ]
        },
        {
          "output_type": "stream",
          "name": "stdout",
          "text": [
            "working fine generate prompt\n",
            "working fine generate answer\n",
            " Differences:\n",
            "- Clause 1.2.1 in Document 1 is equivalent to Clause 1 in Document 2, with the difference being the wording \"analyze the performance\" versus \"evaluate the effectiveness.\"\n",
            "- Clause 1.2.2 in Document 1 is equivalent to Clause 2 in Document 2, with the difference being the wording \"assess the effectiveness of the risk management techniques\" versus \"analyze the risk mitigation techniques utilized.\"\n",
            "- Clause 1.2.3 in Document 1 is equivalent to Clause 3 in Document 2, with the difference being the wording \"provide recommendations for future investment strategies\" versus \"provide strategic recommendations for future investment decisions.\"\n",
            "\n",
            "Equivalences:\n",
            "- The overall objective of analyzing the investment strategies and providing recommendations for future investment strategies is presented equivalently in both documents, albeit with different phrasing.\n",
            "\n",
            "Numerical Details:\n",
            "- There are no numerical details provided in either document that require comparison.\n",
            "\n",
            "Missing Topics:\n",
            "- No topics are missing from either document.\n",
            "[{'generated_text': ' What is the asset allocation strategy employed by ABC Finance Ltd. for the fiscal year 2023-2024, and what are the average returns from equity investments in the same period?'}]\n",
            "working fine generate_question\n",
            "working fine_retrieved_documents\n",
            "doc1\n",
            "[(Document(metadata={'source': 'book'}, page_content='Document 1: Finance Project Report\\nTitle: Investment Strategies and Portfolio Management\\n\\nExecutive Summary\\nThis report evaluates the investment strategies and portfolio management approaches adopted by ABC Finance Ltd. The focus is on risk management, asset allocation, and performance measurement over the financial year 2023-2024.\\n\\n1. Introduction\\n1.1 Background\\n\\nABC Finance Ltd. has been a prominent player in the investment sector for over two decades. The firm manages a diverse portfolio consisting of equities, bonds, commodities, and real estate. Established in 2000, ABC Finance Ltd. has consistently demonstrated robust financial performance and strategic growth.\\n\\n1.2 Objectives\\n\\nThe objectives of this report are as follows:\\n1.2.1 To analyze the performance of the investment strategies implemented in the fiscal year 2023-2024.\\n1.2.2 To assess the effectiveness of the risk management techniques.\\n1.2.3 To provide recommendations for future investment strategies.'), 0.33159258775835915), (Document(metadata={'source': 'book'}, page_content=\"2. Investment Strategies\\n2.1 Asset Allocation\\n\\n2.1.1 Overview\\nAsset allocation is the process of distributing investments among various asset categories such as equities, bonds, commodities, and real estate. The primary goal is to optimize the risk-return profile of the portfolio.\\n\\n2.1.2 Strategy Implemented\\nIn the fiscal year 2023-2024, ABC Finance Ltd. employed a diversified asset allocation strategy:\\n\\nEquities: 50%\\nBonds: 30%\\nCommodities: 10%\\nReal Estate: 10%\\n2.2 Equity Investments\\n\\n2.2.1 Overview\\nEquities are shares of ownership in a corporation, providing investors with a claim on the company's assets and earnings.\\n\\n2.2.2 Performance\\nThe equity investments yielded an average return of 12% over the year. Key stocks in the portfolio included technology and healthcare sectors, which outperformed the market averages.\\n\\n2.3 Fixed-Income Investments\\n\\n2.3.1 Overview\\nFixed-income investments primarily consist of bonds, which are debt instruments issued by corporations and governments.\"), 0.352833073843205), (Document(metadata={'source': 'book'}, page_content='5.2.1 Regulatory Compliance\\nABC Finance Ltd. adheres to all relevant regulatory requirements set by financial authorities.\\n\\n5.2.2 Ethical Standards\\nThe firm maintains high ethical standards, ensuring transparency and integrity in all investment activities.\\n\\n6. Conclusion and Recommendations\\n6.1 Conclusion\\n\\nThe investment strategies adopted by ABC Finance Ltd. in the fiscal year 2023-2024 were successful in achieving the desired objectives of risk management and return optimization.\\n\\n6.2 Recommendations\\n\\n6.2.1 Future Strategies\\n\\nEnhance diversification by exploring emerging markets.\\nIncrease allocation to technology and healthcare sectors.\\nImplement more advanced hedging techniques to mitigate risks.\\n6.2.2 Policy Enhancements\\n\\nRegularly review and update the Investment Policy Statement.\\nStrengthen compliance mechanisms to adapt to changing regulatory environments.\\nThis completes the first document. Please let me know when you are ready for the second document.'), 0.5316141807529188), (Document(metadata={'source': 'book'}, page_content='Performance measurement is critical to evaluate the success of investment strategies. The following metrics were used:\\n\\n4.1.1 Return on Investment (ROI)\\nThe overall ROI for the portfolio was 8.5%.\\n\\n4.1.2 Sharpe Ratio\\nThe Sharpe Ratio, which measures the risk-adjusted return, was 1.2.\\n\\n4.1.3 Alpha\\nAlpha, representing the excess return of the portfolio relative to the benchmark, was 2.3%.\\n\\n4.2 Comparative Analysis\\n\\nThe portfolio outperformed the benchmark index by 2%, indicating effective management and strategy implementation.\\n\\n5. Policies\\n5.1 Investment Policy Statement (IPS)\\n\\n5.1.1 Purpose\\nThe IPS outlines the investment philosophy and guidelines for ABC Finance Ltd.\\n\\n5.1.2 Key Components\\n\\nInvestment Objectives: Achieving a balanced growth of capital.\\nRisk Tolerance: Moderate, with an emphasis on capital preservation.\\nTime Horizon: Long-term, exceeding five years.\\n5.2 Compliance Policy'), 0.5719213303374621)]\n",
            "doc2\n",
            "[(Document(metadata={'source': 'book'}, page_content=\"2.1.1 Overview\\nAsset allocation involves distributing investments across different asset categories to balance risk and reward according to the investor's goals and risk tolerance.\\n\\n2.1.2 Strategy Implemented\\nIn the fiscal year 2023-2024, XYZ Capital Inc. utilized the following asset allocation strategy:\\n\\nEquities: 40%\\nFixed Income: 35%\\nReal Estate: 15%\\nAlternative Investments: 10%\\n2.2 Equity Investments\\n\\n2.2.1 Overview\\nEquity investments represent ownership in companies and provide investors with potential for capital appreciation and dividends.\\n\\n2.2.2 Performance\\nThe equity portfolio achieved an average return of 10% over the year. The portfolio was diversified across various sectors, with a strong emphasis on consumer goods and financial services.\\n\\n2.3 Fixed-Income Investments\\n\\n2.3.1 Overview\\nFixed-income investments include bonds and other debt instruments that provide a steady stream of income through interest payments.\"), 0.5190996936671987), (Document(metadata={'source': 'book'}, page_content='Document 2: Finance Project Report\\nTitle: Investment Approaches and Portfolio Diversification\\n\\nExecutive Summary\\nThis report examines the investment approaches and portfolio diversification strategies employed by XYZ Capital Inc. The focus is on risk mitigation, asset allocation, and performance evaluation over the financial year 2023-2024.\\n\\n1. Introduction\\n1.1 Background\\n\\nXYZ Capital Inc. has established itself as a leading investment firm with over 25 years of experience. The company manages a varied portfolio comprising equities, fixed income, real estate, and alternative investments.\\n\\n1.2 Objectives\\n\\nThe objectives of this report are as follows:\\n1.2.1 To evaluate the effectiveness of the investment approaches implemented in the fiscal year 2023-2024.\\n1.2.2 To analyze the risk mitigation techniques utilized.\\n1.2.3 To provide strategic recommendations for future investment decisions.\\n\\n2. Investment Approaches\\n2.1 Asset Allocation'), 0.6311687907374601), (Document(metadata={'source': 'book'}, page_content=\"4.1.1 Return on Investment (ROI)\\nThe overall ROI for the portfolio was 7.8%.\\n\\n4.1.2 Sharpe Ratio\\nThe Sharpe Ratio, which measures risk-adjusted return, was 1.1.\\n\\n4.1.3 Alpha\\nAlpha, representing the portfolio's excess return relative to the benchmark, was 1.8%.\\n\\n4.2 Comparative Analysis\\n\\nThe portfolio outperformed the benchmark index by 1.5%, demonstrating effective strategy execution and risk management.\\n\\n5. Policies\\n5.1 Investment Policy Statement (IPS)\\n\\n5.1.1 Purpose\\nThe IPS defines the investment objectives and guidelines for XYZ Capital Inc.\\n\\n5.1.2 Key Components\\n\\nInvestment Objectives: Achieving steady capital growth with controlled risk.\\nRisk Tolerance: Moderate, with a focus on preserving capital.\\nTime Horizon: Long-term, with a minimum of five years.\\n5.2 Compliance Policy\\n\\n5.2.1 Regulatory Compliance\\nXYZ Capital Inc. complies with all applicable regulatory requirements to ensure legal and ethical investment practices.\"), 0.7696951063804912), (Document(metadata={'source': 'book'}, page_content='2.3.2 Performance\\nThe fixed-income portfolio delivered an average return of 4.5%. The focus was on a mix of corporate bonds, municipal bonds, and treasury securities.\\n\\n3. Risk Mitigation\\n3.1 Overview\\n\\nRisk mitigation involves identifying and managing potential risks to minimize their impact on investment returns.\\n\\n3.2 Techniques Used\\n\\n3.2.1 Diversification\\nXYZ Capital Inc. emphasized diversification by investing in various asset classes and industries to spread risk.\\n\\n3.2.2 Hedging\\nHedging techniques included the use of derivatives such as swaps and options to protect against adverse market movements.\\n\\n3.3 Performance of Risk Mitigation\\n\\nThe risk mitigation strategies were effective, with the portfolio experiencing a maximum drawdown of 7% during market downturns.\\n\\n4. Performance Evaluation\\n4.1 Metrics Used\\n\\nPerformance evaluation is essential for assessing the success of investment strategies. The following metrics were used:'), 0.7701218972062648)]\n",
            "working fine generate prompt\n",
            "working fine generate answer\n",
            " Differences:\n",
            "\n",
            "1. Equities allocation: Document 1 states \"Equities: 50%\" while Document 2 mentions \"Equities: 40%\".\n",
            "2. Bonds allocation: Document 1 mentions \"Bonds: 30%\" which is not present in Document 2.\n",
            "3. Commodities allocation: Document 1 includes \"Commodities: 10%\" which is not mentioned in Document 2.\n",
            "4. Real Estate allocation: Document 1 has \"Real Estate: 10%\" while Document 2 states \"Real Estate: 15%\".\n",
            "5. Fixed Income allocation: Document 2 mentions \"Fixed Income: 35%\" which is not present in Document 1.\n",
            "6. Alternative Investments allocation: Document 2 includes \"Alternative Investments: 10%\" which is not mentioned in Document 1.\n",
            "7. Average return from equity investments: Document 1 reports \"The average return from equity investments in the fiscal year 2023-2024 was 12%\", while Document 2 states \"The average return from equity investments in the same period is 10%\".\n",
            "\n",
            "Equivalences:\n",
            "\n",
            "1. The topic of asset allocation strategy for the fiscal year 2023-2024 is\n",
            "[{'generated_text': ' What were the performance metrics used by ABC Finance Ltd. to measure the effectiveness of their risk management strategies?'}]\n",
            "working fine generate_question\n",
            "working fine_retrieved_documents\n",
            "doc1\n",
            "[(Document(metadata={'source': 'book'}, page_content='Performance measurement is critical to evaluate the success of investment strategies. The following metrics were used:\\n\\n4.1.1 Return on Investment (ROI)\\nThe overall ROI for the portfolio was 8.5%.\\n\\n4.1.2 Sharpe Ratio\\nThe Sharpe Ratio, which measures the risk-adjusted return, was 1.2.\\n\\n4.1.3 Alpha\\nAlpha, representing the excess return of the portfolio relative to the benchmark, was 2.3%.\\n\\n4.2 Comparative Analysis\\n\\nThe portfolio outperformed the benchmark index by 2%, indicating effective management and strategy implementation.\\n\\n5. Policies\\n5.1 Investment Policy Statement (IPS)\\n\\n5.1.1 Purpose\\nThe IPS outlines the investment philosophy and guidelines for ABC Finance Ltd.\\n\\n5.1.2 Key Components\\n\\nInvestment Objectives: Achieving a balanced growth of capital.\\nRisk Tolerance: Moderate, with an emphasis on capital preservation.\\nTime Horizon: Long-term, exceeding five years.\\n5.2 Compliance Policy'), 0.43912034988459026), (Document(metadata={'source': 'book'}, page_content='Document 1: Finance Project Report\\nTitle: Investment Strategies and Portfolio Management\\n\\nExecutive Summary\\nThis report evaluates the investment strategies and portfolio management approaches adopted by ABC Finance Ltd. The focus is on risk management, asset allocation, and performance measurement over the financial year 2023-2024.\\n\\n1. Introduction\\n1.1 Background\\n\\nABC Finance Ltd. has been a prominent player in the investment sector for over two decades. The firm manages a diverse portfolio consisting of equities, bonds, commodities, and real estate. Established in 2000, ABC Finance Ltd. has consistently demonstrated robust financial performance and strategic growth.\\n\\n1.2 Objectives\\n\\nThe objectives of this report are as follows:\\n1.2.1 To analyze the performance of the investment strategies implemented in the fiscal year 2023-2024.\\n1.2.2 To assess the effectiveness of the risk management techniques.\\n1.2.3 To provide recommendations for future investment strategies.'), 0.44569138981958695), (Document(metadata={'source': 'book'}, page_content='2.3.2 Performance\\nThe fixed-income portfolio achieved an average return of 5%. The portfolio was heavily weighted towards high-grade corporate bonds and government securities.\\n\\n3. Risk Management\\n3.1 Overview\\n\\nRisk management involves identifying, assessing, and prioritizing risks followed by coordinated efforts to minimize, monitor, and control the probability or impact of unfortunate events.\\n\\n3.2 Techniques Used\\n\\n3.2.1 Diversification\\nABC Finance Ltd. practiced diversification by spreading investments across different asset classes and sectors to reduce exposure to any single asset or risk.\\n\\n3.2.2 Hedging\\nHedging strategies included the use of derivative instruments such as options and futures to mitigate potential losses in the portfolio.\\n\\n3.3 Performance of Risk Management\\n\\nThe risk management strategies were effective, with the portfolio experiencing a maximum drawdown of 8% during the most volatile periods of the market.\\n\\n4. Performance Measurement\\n4.1 Metrics Used'), 0.49598901538513945), (Document(metadata={'source': 'book'}, page_content='5.2.1 Regulatory Compliance\\nABC Finance Ltd. adheres to all relevant regulatory requirements set by financial authorities.\\n\\n5.2.2 Ethical Standards\\nThe firm maintains high ethical standards, ensuring transparency and integrity in all investment activities.\\n\\n6. Conclusion and Recommendations\\n6.1 Conclusion\\n\\nThe investment strategies adopted by ABC Finance Ltd. in the fiscal year 2023-2024 were successful in achieving the desired objectives of risk management and return optimization.\\n\\n6.2 Recommendations\\n\\n6.2.1 Future Strategies\\n\\nEnhance diversification by exploring emerging markets.\\nIncrease allocation to technology and healthcare sectors.\\nImplement more advanced hedging techniques to mitigate risks.\\n6.2.2 Policy Enhancements\\n\\nRegularly review and update the Investment Policy Statement.\\nStrengthen compliance mechanisms to adapt to changing regulatory environments.\\nThis completes the first document. Please let me know when you are ready for the second document.'), 0.6221436703816172)]\n",
            "doc2\n",
            "[(Document(metadata={'source': 'book'}, page_content='2.3.2 Performance\\nThe fixed-income portfolio delivered an average return of 4.5%. The focus was on a mix of corporate bonds, municipal bonds, and treasury securities.\\n\\n3. Risk Mitigation\\n3.1 Overview\\n\\nRisk mitigation involves identifying and managing potential risks to minimize their impact on investment returns.\\n\\n3.2 Techniques Used\\n\\n3.2.1 Diversification\\nXYZ Capital Inc. emphasized diversification by investing in various asset classes and industries to spread risk.\\n\\n3.2.2 Hedging\\nHedging techniques included the use of derivatives such as swaps and options to protect against adverse market movements.\\n\\n3.3 Performance of Risk Mitigation\\n\\nThe risk mitigation strategies were effective, with the portfolio experiencing a maximum drawdown of 7% during market downturns.\\n\\n4. Performance Evaluation\\n4.1 Metrics Used\\n\\nPerformance evaluation is essential for assessing the success of investment strategies. The following metrics were used:'), 0.7347129850736994), (Document(metadata={'source': 'book'}, page_content=\"4.1.1 Return on Investment (ROI)\\nThe overall ROI for the portfolio was 7.8%.\\n\\n4.1.2 Sharpe Ratio\\nThe Sharpe Ratio, which measures risk-adjusted return, was 1.1.\\n\\n4.1.3 Alpha\\nAlpha, representing the portfolio's excess return relative to the benchmark, was 1.8%.\\n\\n4.2 Comparative Analysis\\n\\nThe portfolio outperformed the benchmark index by 1.5%, demonstrating effective strategy execution and risk management.\\n\\n5. Policies\\n5.1 Investment Policy Statement (IPS)\\n\\n5.1.1 Purpose\\nThe IPS defines the investment objectives and guidelines for XYZ Capital Inc.\\n\\n5.1.2 Key Components\\n\\nInvestment Objectives: Achieving steady capital growth with controlled risk.\\nRisk Tolerance: Moderate, with a focus on preserving capital.\\nTime Horizon: Long-term, with a minimum of five years.\\n5.2 Compliance Policy\\n\\n5.2.1 Regulatory Compliance\\nXYZ Capital Inc. complies with all applicable regulatory requirements to ensure legal and ethical investment practices.\"), 0.8410029560594092), (Document(metadata={'source': 'book'}, page_content='Document 2: Finance Project Report\\nTitle: Investment Approaches and Portfolio Diversification\\n\\nExecutive Summary\\nThis report examines the investment approaches and portfolio diversification strategies employed by XYZ Capital Inc. The focus is on risk mitigation, asset allocation, and performance evaluation over the financial year 2023-2024.\\n\\n1. Introduction\\n1.1 Background\\n\\nXYZ Capital Inc. has established itself as a leading investment firm with over 25 years of experience. The company manages a varied portfolio comprising equities, fixed income, real estate, and alternative investments.\\n\\n1.2 Objectives\\n\\nThe objectives of this report are as follows:\\n1.2.1 To evaluate the effectiveness of the investment approaches implemented in the fiscal year 2023-2024.\\n1.2.2 To analyze the risk mitigation techniques utilized.\\n1.2.3 To provide strategic recommendations for future investment decisions.\\n\\n2. Investment Approaches\\n2.1 Asset Allocation'), 0.8489128703413457), (Document(metadata={'source': 'book'}, page_content=\"2.1.1 Overview\\nAsset allocation involves distributing investments across different asset categories to balance risk and reward according to the investor's goals and risk tolerance.\\n\\n2.1.2 Strategy Implemented\\nIn the fiscal year 2023-2024, XYZ Capital Inc. utilized the following asset allocation strategy:\\n\\nEquities: 40%\\nFixed Income: 35%\\nReal Estate: 15%\\nAlternative Investments: 10%\\n2.2 Equity Investments\\n\\n2.2.1 Overview\\nEquity investments represent ownership in companies and provide investors with potential for capital appreciation and dividends.\\n\\n2.2.2 Performance\\nThe equity portfolio achieved an average return of 10% over the year. The portfolio was diversified across various sectors, with a strong emphasis on consumer goods and financial services.\\n\\n2.3 Fixed-Income Investments\\n\\n2.3.1 Overview\\nFixed-income investments include bonds and other debt instruments that provide a steady stream of income through interest payments.\"), 0.8842602620113944)]\n",
            "working fine generate prompt\n",
            "working fine generate answer\n",
            " Differences:\n",
            "- Maximum drawdown is mentioned in Document 1 but is missing from Document 2.\n",
            "\n",
            "Equivalences:\n",
            "- Return on Investment (ROI), Sharpe Ratio, and Alpha are equivalent information presented differently.\n",
            "\n",
            "Document 1 Clause:\n",
            "- Performance metrics: \"1. Return on Investment (ROI), 2. Sharpe Ratio, 3. Alpha, 4. Maximum drawdown\"\n",
            "\n",
            "Document 2 Clause:\n",
            "- Performance metrics: \"Return on Investment (ROI), Sharpe Ratio, and Alpha\"\n",
            "[{'generated_text': ' What are the key performance metrics used to evaluate the success of investment strategies for ABC Finance Ltd., and how did the portfolio compare to the benchmark index according to the provided document?'}]\n",
            "working fine generate_question\n",
            "working fine_retrieved_documents\n",
            "doc1\n",
            "[(Document(metadata={'source': 'book'}, page_content='Performance measurement is critical to evaluate the success of investment strategies. The following metrics were used:\\n\\n4.1.1 Return on Investment (ROI)\\nThe overall ROI for the portfolio was 8.5%.\\n\\n4.1.2 Sharpe Ratio\\nThe Sharpe Ratio, which measures the risk-adjusted return, was 1.2.\\n\\n4.1.3 Alpha\\nAlpha, representing the excess return of the portfolio relative to the benchmark, was 2.3%.\\n\\n4.2 Comparative Analysis\\n\\nThe portfolio outperformed the benchmark index by 2%, indicating effective management and strategy implementation.\\n\\n5. Policies\\n5.1 Investment Policy Statement (IPS)\\n\\n5.1.1 Purpose\\nThe IPS outlines the investment philosophy and guidelines for ABC Finance Ltd.\\n\\n5.1.2 Key Components\\n\\nInvestment Objectives: Achieving a balanced growth of capital.\\nRisk Tolerance: Moderate, with an emphasis on capital preservation.\\nTime Horizon: Long-term, exceeding five years.\\n5.2 Compliance Policy'), 0.31017129967626195), (Document(metadata={'source': 'book'}, page_content='Document 1: Finance Project Report\\nTitle: Investment Strategies and Portfolio Management\\n\\nExecutive Summary\\nThis report evaluates the investment strategies and portfolio management approaches adopted by ABC Finance Ltd. The focus is on risk management, asset allocation, and performance measurement over the financial year 2023-2024.\\n\\n1. Introduction\\n1.1 Background\\n\\nABC Finance Ltd. has been a prominent player in the investment sector for over two decades. The firm manages a diverse portfolio consisting of equities, bonds, commodities, and real estate. Established in 2000, ABC Finance Ltd. has consistently demonstrated robust financial performance and strategic growth.\\n\\n1.2 Objectives\\n\\nThe objectives of this report are as follows:\\n1.2.1 To analyze the performance of the investment strategies implemented in the fiscal year 2023-2024.\\n1.2.2 To assess the effectiveness of the risk management techniques.\\n1.2.3 To provide recommendations for future investment strategies.'), 0.38837751011366173), (Document(metadata={'source': 'book'}, page_content='2.3.2 Performance\\nThe fixed-income portfolio achieved an average return of 5%. The portfolio was heavily weighted towards high-grade corporate bonds and government securities.\\n\\n3. Risk Management\\n3.1 Overview\\n\\nRisk management involves identifying, assessing, and prioritizing risks followed by coordinated efforts to minimize, monitor, and control the probability or impact of unfortunate events.\\n\\n3.2 Techniques Used\\n\\n3.2.1 Diversification\\nABC Finance Ltd. practiced diversification by spreading investments across different asset classes and sectors to reduce exposure to any single asset or risk.\\n\\n3.2.2 Hedging\\nHedging strategies included the use of derivative instruments such as options and futures to mitigate potential losses in the portfolio.\\n\\n3.3 Performance of Risk Management\\n\\nThe risk management strategies were effective, with the portfolio experiencing a maximum drawdown of 8% during the most volatile periods of the market.\\n\\n4. Performance Measurement\\n4.1 Metrics Used'), 0.49611354635219446), (Document(metadata={'source': 'book'}, page_content='5.2.1 Regulatory Compliance\\nABC Finance Ltd. adheres to all relevant regulatory requirements set by financial authorities.\\n\\n5.2.2 Ethical Standards\\nThe firm maintains high ethical standards, ensuring transparency and integrity in all investment activities.\\n\\n6. Conclusion and Recommendations\\n6.1 Conclusion\\n\\nThe investment strategies adopted by ABC Finance Ltd. in the fiscal year 2023-2024 were successful in achieving the desired objectives of risk management and return optimization.\\n\\n6.2 Recommendations\\n\\n6.2.1 Future Strategies\\n\\nEnhance diversification by exploring emerging markets.\\nIncrease allocation to technology and healthcare sectors.\\nImplement more advanced hedging techniques to mitigate risks.\\n6.2.2 Policy Enhancements\\n\\nRegularly review and update the Investment Policy Statement.\\nStrengthen compliance mechanisms to adapt to changing regulatory environments.\\nThis completes the first document. Please let me know when you are ready for the second document.'), 0.559003817789415)]\n",
            "doc2\n",
            "[(Document(metadata={'source': 'book'}, page_content='2.3.2 Performance\\nThe fixed-income portfolio delivered an average return of 4.5%. The focus was on a mix of corporate bonds, municipal bonds, and treasury securities.\\n\\n3. Risk Mitigation\\n3.1 Overview\\n\\nRisk mitigation involves identifying and managing potential risks to minimize their impact on investment returns.\\n\\n3.2 Techniques Used\\n\\n3.2.1 Diversification\\nXYZ Capital Inc. emphasized diversification by investing in various asset classes and industries to spread risk.\\n\\n3.2.2 Hedging\\nHedging techniques included the use of derivatives such as swaps and options to protect against adverse market movements.\\n\\n3.3 Performance of Risk Mitigation\\n\\nThe risk mitigation strategies were effective, with the portfolio experiencing a maximum drawdown of 7% during market downturns.\\n\\n4. Performance Evaluation\\n4.1 Metrics Used\\n\\nPerformance evaluation is essential for assessing the success of investment strategies. The following metrics were used:'), 0.5864562948794627), (Document(metadata={'source': 'book'}, page_content='Document 2: Finance Project Report\\nTitle: Investment Approaches and Portfolio Diversification\\n\\nExecutive Summary\\nThis report examines the investment approaches and portfolio diversification strategies employed by XYZ Capital Inc. The focus is on risk mitigation, asset allocation, and performance evaluation over the financial year 2023-2024.\\n\\n1. Introduction\\n1.1 Background\\n\\nXYZ Capital Inc. has established itself as a leading investment firm with over 25 years of experience. The company manages a varied portfolio comprising equities, fixed income, real estate, and alternative investments.\\n\\n1.2 Objectives\\n\\nThe objectives of this report are as follows:\\n1.2.1 To evaluate the effectiveness of the investment approaches implemented in the fiscal year 2023-2024.\\n1.2.2 To analyze the risk mitigation techniques utilized.\\n1.2.3 To provide strategic recommendations for future investment decisions.\\n\\n2. Investment Approaches\\n2.1 Asset Allocation'), 0.667720669935225), (Document(metadata={'source': 'book'}, page_content=\"4.1.1 Return on Investment (ROI)\\nThe overall ROI for the portfolio was 7.8%.\\n\\n4.1.2 Sharpe Ratio\\nThe Sharpe Ratio, which measures risk-adjusted return, was 1.1.\\n\\n4.1.3 Alpha\\nAlpha, representing the portfolio's excess return relative to the benchmark, was 1.8%.\\n\\n4.2 Comparative Analysis\\n\\nThe portfolio outperformed the benchmark index by 1.5%, demonstrating effective strategy execution and risk management.\\n\\n5. Policies\\n5.1 Investment Policy Statement (IPS)\\n\\n5.1.1 Purpose\\nThe IPS defines the investment objectives and guidelines for XYZ Capital Inc.\\n\\n5.1.2 Key Components\\n\\nInvestment Objectives: Achieving steady capital growth with controlled risk.\\nRisk Tolerance: Moderate, with a focus on preserving capital.\\nTime Horizon: Long-term, with a minimum of five years.\\n5.2 Compliance Policy\\n\\n5.2.1 Regulatory Compliance\\nXYZ Capital Inc. complies with all applicable regulatory requirements to ensure legal and ethical investment practices.\"), 0.6706289960890892), (Document(metadata={'source': 'book'}, page_content=\"2.1.1 Overview\\nAsset allocation involves distributing investments across different asset categories to balance risk and reward according to the investor's goals and risk tolerance.\\n\\n2.1.2 Strategy Implemented\\nIn the fiscal year 2023-2024, XYZ Capital Inc. utilized the following asset allocation strategy:\\n\\nEquities: 40%\\nFixed Income: 35%\\nReal Estate: 15%\\nAlternative Investments: 10%\\n2.2 Equity Investments\\n\\n2.2.1 Overview\\nEquity investments represent ownership in companies and provide investors with potential for capital appreciation and dividends.\\n\\n2.2.2 Performance\\nThe equity portfolio achieved an average return of 10% over the year. The portfolio was diversified across various sectors, with a strong emphasis on consumer goods and financial services.\\n\\n2.3 Fixed-Income Investments\\n\\n2.3.1 Overview\\nFixed-income investments include bonds and other debt instruments that provide a steady stream of income through interest payments.\"), 0.7032085498555126)]\n",
            "working fine generate prompt\n",
            "working fine generate answer\n",
            " Differences:\n",
            "- The overall ROI for the portfolio is mentioned as 8.5% in Document 1, while Document 2 does not provide a specific figure for ROI.\n",
            "- The Sharpe Ratio is given as 1.2 in Document 1, whereas Document 2 does not mention the Sharpe Ratio.\n",
            "- The Alpha is specified as 2.3 in Document 1, but Document 2 does not provide a specific figure for Alpha.\n",
            "- The portfolio's outperformance of the benchmark index is quantified as 2% in Document 1, while Document 2 mentions a 1.5% outperformance.\n",
            "\n",
            "Equivalences:\n",
            "- The key performance metrics used to evaluate the success of investment strategies for ABC Finance Ltd. are mentioned in both documents, although the specific metrics are not equivalent in their presentation.\n",
            "- The portfolio outperformed the benchmark index is a common theme in both documents, indicating effective management and strategy implementation.\n",
            "\n",
            "Topics Missing:\n",
            "- [ROI] is missing from Document 2.\n",
            "- [Sharpe Ratio] is missing from Document 2.\n",
            "- [Alpha] is missing from Document 2.\n",
            "- [Outperformance of the benchmark index] is missing from Document 1.\n",
            "[{'generated_text': ' What are the key recommendations for ABC Finance Ltd. to improve its investment strategies and policy enhancements for the fiscal year 2023-2024?'}]\n",
            "working fine generate_question\n",
            "working fine_retrieved_documents\n",
            "doc1\n",
            "[(Document(metadata={'source': 'book'}, page_content='Document 1: Finance Project Report\\nTitle: Investment Strategies and Portfolio Management\\n\\nExecutive Summary\\nThis report evaluates the investment strategies and portfolio management approaches adopted by ABC Finance Ltd. The focus is on risk management, asset allocation, and performance measurement over the financial year 2023-2024.\\n\\n1. Introduction\\n1.1 Background\\n\\nABC Finance Ltd. has been a prominent player in the investment sector for over two decades. The firm manages a diverse portfolio consisting of equities, bonds, commodities, and real estate. Established in 2000, ABC Finance Ltd. has consistently demonstrated robust financial performance and strategic growth.\\n\\n1.2 Objectives\\n\\nThe objectives of this report are as follows:\\n1.2.1 To analyze the performance of the investment strategies implemented in the fiscal year 2023-2024.\\n1.2.2 To assess the effectiveness of the risk management techniques.\\n1.2.3 To provide recommendations for future investment strategies.'), 0.3802764075677653), (Document(metadata={'source': 'book'}, page_content='5.2.1 Regulatory Compliance\\nABC Finance Ltd. adheres to all relevant regulatory requirements set by financial authorities.\\n\\n5.2.2 Ethical Standards\\nThe firm maintains high ethical standards, ensuring transparency and integrity in all investment activities.\\n\\n6. Conclusion and Recommendations\\n6.1 Conclusion\\n\\nThe investment strategies adopted by ABC Finance Ltd. in the fiscal year 2023-2024 were successful in achieving the desired objectives of risk management and return optimization.\\n\\n6.2 Recommendations\\n\\n6.2.1 Future Strategies\\n\\nEnhance diversification by exploring emerging markets.\\nIncrease allocation to technology and healthcare sectors.\\nImplement more advanced hedging techniques to mitigate risks.\\n6.2.2 Policy Enhancements\\n\\nRegularly review and update the Investment Policy Statement.\\nStrengthen compliance mechanisms to adapt to changing regulatory environments.\\nThis completes the first document. Please let me know when you are ready for the second document.'), 0.43372393848728097), (Document(metadata={'source': 'book'}, page_content=\"2. Investment Strategies\\n2.1 Asset Allocation\\n\\n2.1.1 Overview\\nAsset allocation is the process of distributing investments among various asset categories such as equities, bonds, commodities, and real estate. The primary goal is to optimize the risk-return profile of the portfolio.\\n\\n2.1.2 Strategy Implemented\\nIn the fiscal year 2023-2024, ABC Finance Ltd. employed a diversified asset allocation strategy:\\n\\nEquities: 50%\\nBonds: 30%\\nCommodities: 10%\\nReal Estate: 10%\\n2.2 Equity Investments\\n\\n2.2.1 Overview\\nEquities are shares of ownership in a corporation, providing investors with a claim on the company's assets and earnings.\\n\\n2.2.2 Performance\\nThe equity investments yielded an average return of 12% over the year. Key stocks in the portfolio included technology and healthcare sectors, which outperformed the market averages.\\n\\n2.3 Fixed-Income Investments\\n\\n2.3.1 Overview\\nFixed-income investments primarily consist of bonds, which are debt instruments issued by corporations and governments.\"), 0.6028006008069169), (Document(metadata={'source': 'book'}, page_content='Performance measurement is critical to evaluate the success of investment strategies. The following metrics were used:\\n\\n4.1.1 Return on Investment (ROI)\\nThe overall ROI for the portfolio was 8.5%.\\n\\n4.1.2 Sharpe Ratio\\nThe Sharpe Ratio, which measures the risk-adjusted return, was 1.2.\\n\\n4.1.3 Alpha\\nAlpha, representing the excess return of the portfolio relative to the benchmark, was 2.3%.\\n\\n4.2 Comparative Analysis\\n\\nThe portfolio outperformed the benchmark index by 2%, indicating effective management and strategy implementation.\\n\\n5. Policies\\n5.1 Investment Policy Statement (IPS)\\n\\n5.1.1 Purpose\\nThe IPS outlines the investment philosophy and guidelines for ABC Finance Ltd.\\n\\n5.1.2 Key Components\\n\\nInvestment Objectives: Achieving a balanced growth of capital.\\nRisk Tolerance: Moderate, with an emphasis on capital preservation.\\nTime Horizon: Long-term, exceeding five years.\\n5.2 Compliance Policy'), 0.6732040013403144)]\n",
            "doc2\n",
            "[(Document(metadata={'source': 'book'}, page_content='Document 2: Finance Project Report\\nTitle: Investment Approaches and Portfolio Diversification\\n\\nExecutive Summary\\nThis report examines the investment approaches and portfolio diversification strategies employed by XYZ Capital Inc. The focus is on risk mitigation, asset allocation, and performance evaluation over the financial year 2023-2024.\\n\\n1. Introduction\\n1.1 Background\\n\\nXYZ Capital Inc. has established itself as a leading investment firm with over 25 years of experience. The company manages a varied portfolio comprising equities, fixed income, real estate, and alternative investments.\\n\\n1.2 Objectives\\n\\nThe objectives of this report are as follows:\\n1.2.1 To evaluate the effectiveness of the investment approaches implemented in the fiscal year 2023-2024.\\n1.2.2 To analyze the risk mitigation techniques utilized.\\n1.2.3 To provide strategic recommendations for future investment decisions.\\n\\n2. Investment Approaches\\n2.1 Asset Allocation'), 0.7107327206342076), (Document(metadata={'source': 'book'}, page_content='5.2.2 Ethical Standards\\nThe firm adheres to high ethical standards, ensuring transparency, honesty, and integrity in all investment activities.\\n\\n6. Conclusion and Recommendations\\n6.1 Conclusion\\n\\nThe investment approaches adopted by XYZ Capital Inc. in the fiscal year 2023-2024 were successful in achieving the desired outcomes of risk mitigation and return optimization.\\n\\n6.2 Recommendations\\n\\n6.2.1 Future Strategies\\n\\nIncrease exposure to international markets for greater diversification.\\nAllocate more resources to alternative investments for higher potential returns.\\nEnhance risk management practices with advanced analytical tools.\\n6.2.2 Policy Enhancements\\n\\nRegularly update the Investment Policy Statement to reflect market changes.\\nStrengthen compliance protocols to adapt to evolving regulatory landscapes.\\nThis completes the second document. You can now compare the two documents based on the differences in numerical data, textual content, policies, clauses, and articles.'), 0.7619856588302236), (Document(metadata={'source': 'book'}, page_content=\"2.1.1 Overview\\nAsset allocation involves distributing investments across different asset categories to balance risk and reward according to the investor's goals and risk tolerance.\\n\\n2.1.2 Strategy Implemented\\nIn the fiscal year 2023-2024, XYZ Capital Inc. utilized the following asset allocation strategy:\\n\\nEquities: 40%\\nFixed Income: 35%\\nReal Estate: 15%\\nAlternative Investments: 10%\\n2.2 Equity Investments\\n\\n2.2.1 Overview\\nEquity investments represent ownership in companies and provide investors with potential for capital appreciation and dividends.\\n\\n2.2.2 Performance\\nThe equity portfolio achieved an average return of 10% over the year. The portfolio was diversified across various sectors, with a strong emphasis on consumer goods and financial services.\\n\\n2.3 Fixed-Income Investments\\n\\n2.3.1 Overview\\nFixed-income investments include bonds and other debt instruments that provide a steady stream of income through interest payments.\"), 0.8027322129034976), (Document(metadata={'source': 'book'}, page_content='2.3.2 Performance\\nThe fixed-income portfolio delivered an average return of 4.5%. The focus was on a mix of corporate bonds, municipal bonds, and treasury securities.\\n\\n3. Risk Mitigation\\n3.1 Overview\\n\\nRisk mitigation involves identifying and managing potential risks to minimize their impact on investment returns.\\n\\n3.2 Techniques Used\\n\\n3.2.1 Diversification\\nXYZ Capital Inc. emphasized diversification by investing in various asset classes and industries to spread risk.\\n\\n3.2.2 Hedging\\nHedging techniques included the use of derivatives such as swaps and options to protect against adverse market movements.\\n\\n3.3 Performance of Risk Mitigation\\n\\nThe risk mitigation strategies were effective, with the portfolio experiencing a maximum drawdown of 7% during market downturns.\\n\\n4. Performance Evaluation\\n4.1 Metrics Used\\n\\nPerformance evaluation is essential for assessing the success of investment strategies. The following metrics were used:'), 0.8903485925160469)]\n",
            "working fine generate prompt\n",
            "working fine generate answer\n",
            " Differences:\n",
            "- Document 1 suggests enhancing diversification by exploring emerging markets, while Document 2 recommends increasing exposure to international markets for greater diversification.\n",
            "- Document 1 recommends increasing allocation to technology and healthcare sectors, which is not mentioned in Document 2.\n",
            "- Document 1 mentions implementing more advanced hedging techniques, whereas Document 2 talks about enhancing risk management practices with advanced analytical tools.\n",
            "- Document 1 advises regularly reviewing and updating the Investment Policy Statement, while Document 2 suggests regularly updating the Investment Policy Statement to reflect market changes.\n",
            "- Document 1 proposes strengthening compliance mechanisms, while Document 2 recommends strengthening compliance protocols.\n",
            "\n",
            "Equivalences:\n",
            "- Both documents mention the need to regularly review and update the Investment Policy Statement, although the phrasing differs slightly.\n",
            "- Both documents emphasize the importance of strengthening compliance mechanisms/protocols to adapt to changing regulatory environments.\n",
            "\n",
            "Numerical Details:\n",
            "- There are no numerical details provided in either document that can be compared for differences.\n",
            "\n",
            "Articles:\n",
            "- Document 1: 6.2.1 Future Strategies, 6.2.2 Policy Enhancements\n",
            "- Document 2: 1. Increase exposure to international\n"
          ]
        }
      ]
    },
    {
      "cell_type": "code",
      "source": [
        "# current_document=chunk.page_content\n",
        "current_document=\"\"\"Total Assets\n",
        "As of December 31, 2021, the company's total assets were $80 billion, an increase of 12% from the previous year. This increase was primarily due to higher cash and cash equivalents, which totaled $20 billion, up from $15 billion in the previous year.\n",
        "Total Liabilities\n",
        "Total liabilities as of December 31, 2021, were $40 billion, an increase of 10% from the previous year. This increase was primarily due to higher long-term debt, which totaled $15 billion, up from $12 billion in the previous year.\n",
        "-\"\"\"\n",
        "result,messages=generate_final_answer(current_document)\n",
        "print(result)\n"
      ],
      "metadata": {
        "id": "ZiqA2yf-S3zq",
        "colab": {
          "base_uri": "https://localhost:8080/"
        },
        "outputId": "e895ff72-c286-4f96-c01c-ba480cf08312"
      },
      "execution_count": 18,
      "outputs": [
        {
          "output_type": "stream",
          "name": "stderr",
          "text": [
            "/usr/local/lib/python3.10/dist-packages/transformers/generation/configuration_utils.py:515: UserWarning: `do_sample` is set to `False`. However, `temperature` is set to `0.0` -- this flag is only used in sample-based generation modes. You should set `do_sample=True` or unset `temperature`.\n",
            "  warnings.warn(\n",
            "WARNING:transformers_modules.microsoft.Phi-3-mini-4k-instruct.c1358f8a35e6d2af81890deffbbfa575b978c62f.modeling_phi3:You are not running the flash-attention implementation, expect numerical differences.\n"
          ]
        },
        {
          "output_type": "stream",
          "name": "stdout",
          "text": [
            "[{'generated_text': \" What was the percentage increase in the company's total assets from the previous year, and what was the primary reason for this increase?\"}]\n",
            "working fine generate_question\n",
            "working fine_retrieved_documents\n",
            "doc1\n",
            "[(Document(metadata={'source': 'book'}, page_content=\"Net Income\\nThe net income for the fiscal year 2021 was $15 billion, a 25% increase from the previous year's net income of $12 billion. This increase was primarily due to higher revenues and effective cost management.\\n\\nIII. Balance Sheet Highlights\\n\\nTotal Assets\\nAs of December 31, 2021, the company's total assets were $80 billion, an increase of 12% from the previous year. This increase was primarily due to higher cash and cash equivalents, which totaled $20 billion, up from $15 billion in the previous year.\\n\\nTotal Liabilities\\nTotal liabilities as of December 31, 2021, were $40 billion, an increase of 10% from the previous year. This increase was primarily due to higher long-term debt, which totaled $15 billion, up from $12 billion in the previous year.\\n\\nIV. Cash Flow Statement\"), 0.5207331527208787), (Document(metadata={'source': 'book'}, page_content='Operating Activities\\nCash provided by operating activities was $20 billion for the fiscal year 2021, an increase of 15% from the previous year. This increase was primarily due to higher net income and effective working capital management.\\n\\nInvesting Activities\\nCash used in investing activities was $10 billion for the fiscal year 2021, an increase of 20% from the previous year. This increase was primarily due to higher investments in property, plant, and equipment.\\n\\nFinancing Activities\\nCash provided by financing activities was $5 billion for the fiscal year 2021, a decrease of 10% from the previous year. This decrease was primarily due to lower proceeds from the issuance of long-term debt.\\n\\nV. Conclusion\\n\\nXYZ Corporation had a successful fiscal year 2021, with strong revenue growth and improved profitability. The company remains committed to investing in research and development to drive future growth and maintain its competitive edge in the technology sector.'), 0.6797102811260298), (Document(metadata={'source': 'book'}, page_content=\"Financial Report for XYZ Corporation\\n\\nI. Introduction\\n\\nXYZ Corporation, a leading multinational company in the technology sector, presents its financial report for the fiscal year ending December 31, 2021. This report provides a comprehensive overview of the company's financial performance, including revenues, expenses, and profitability.\\n\\nII. Financial Highlights\\n\\nRevenue\\nThe company's total revenue for the fiscal year 2021 was $50 billion, a 15% increase compared to the previous year's revenue of $43.5 billion. This growth was primarily driven by strong sales in our software and services division, which contributed $30 billion, a 20% increase year-over-year.\\n\\nOperating Expenses\\nOperating expenses for the year were $35 billion, an increase of 10% from the previous year. This increase was primarily due to higher research and development expenses, which totaled $15 billion, up from $12 billion in the previous year.\"), 0.7916946307610884), (Document(metadata={'source': 'book'}, page_content='VI. Articles and Clauses\\n\\nArticle 1: The company will continue to invest in research and development to drive future growth.\\n\\nClause 1.1: The company will allocate at least 20% of its total revenue to research and development activities.\\n\\nArticle 2: The company will maintain a strong balance sheet to ensure financial flexibility.\\n\\nClause 2.1: The company will maintain a debt-to-equity ratio of less than 1.0.\\n\\nArticle 3: The company will continue to focus on effective cost management to improve profitability.\\n\\nClause 3.1: The company will aim to reduce operating expenses as a percentage of revenue by at least 1% per year.'), 0.8743239858345986)]\n",
            "doc2\n",
            "[(Document(metadata={'source': 'book'}, page_content=\"Net Income\\nThe net income for the fiscal year 2022 was $22 billion, a 47% increase from the previous year's net income of $15 billion. This increase was primarily due to higher revenues and effective cost management.\\n\\nIII. Balance Sheet Highlights\\n\\nTotal Assets\\nAs of December 31, 2022, the company's total assets were $95 billion, an increase of 18% from the previous year. This increase was primarily due to higher cash and cash equivalents, which totaled $25 billion, up from $20 billion in the previous year.\\n\\nTotal Liabilities\\nTotal liabilities as of December 31, 2022, were $45 billion, an increase of 12% from the previous year. This increase was primarily due to higher long-term debt, which totaled $20 billion, up from $15 billion in the previous year.\\n\\nIV. Cash Flow Statement\"), 0.5283532682269911), (Document(metadata={'source': 'book'}, page_content='Operating Activities\\nCash provided by operating activities was $25 billion for the fiscal year 2022, an increase of 25% from the previous year. This increase was primarily due to higher net income and effective working capital management.\\n\\nInvesting Activities\\nCash used in investing activities was $12 billion for the fiscal year 2022, an increase of 20% from the previous year. This increase was primarily due to higher investments in property, plant, and equipment.\\n\\nFinancing Activities\\nCash provided by financing activities was $7 billion for the fiscal year 2022, an increase of 40% from the previous year. This increase was primarily due to higher proceeds from the issuance of long-term debt.\\n\\nV. Conclusion\\n\\nXYZ Corporation had a successful fiscal year 2022, with strong revenue growth and improved profitability. The company remains committed to investing in research and development to drive future growth and maintain its competitive edge in the technology sector.'), 0.664893922562619), (Document(metadata={'source': 'book'}, page_content=\"Updated Financial Report for XYZ Corporation\\n\\nI. Introduction\\n\\nXYZ Corporation, a leading multinational company in the technology sector, presents its updated financial report for the fiscal year ending December 31, 2022. This report provides a comprehensive overview of the company's financial performance, including revenues, expenses, and profitability.\\n\\nII. Financial Highlights\\n\\nRevenue\\nThe company's total revenue for the fiscal year 2022 was $60 billion, a 20% increase compared to the previous year's revenue of $50 billion. This growth was primarily driven by strong sales in our software and services division, which contributed $36 billion, a 25% increase year-over-year.\\n\\nOperating Expenses\\nOperating expenses for the year were $38 billion, an increase of 12% from the previous year. This increase was primarily due to higher research and development expenses, which totaled $18 billion, up from $15 billion in the previous year.\"), 0.752200074932638), (Document(metadata={'source': 'book'}, page_content=\"This updated report reflects the company's continued commitment to financial growth and stability. XYZ Corporation looks forward to another successful year in 2023.\"), 0.8509524564511971)]\n",
            "working fine generate prompt\n",
            "working fine generate answer\n",
            " Differences:\n",
            "- The percentage increase in the company's total assets from the previous year is reported as 12% in Document 1 and 18% in Document 2.\n",
            "- The primary reason for the increase in total assets is attributed to higher cash and cash equivalents, with Document 1 stating an increase from $15 billion to $20 billion, while Document 2 reports an increase from $20 billion to $25 billion.\n",
            "\n",
            "Equivalences:\n",
            "- The primary reason for the increase in total assets is the same in both documents, which is higher cash and cash equivalents.\n",
            "\n",
            "Topics Missing:\n",
            "- [Topic] is missing from Document 1.\n",
            "- [Topic] is missing from Document 2.\n",
            "\n",
            "(Note: Since the question does not specify any topics that are missing from either document, this part of the instruction is not applicable.)\n"
          ]
        }
      ]
    },
    {
      "cell_type": "code",
      "source": [
        "result"
      ],
      "metadata": {
        "id": "9EyMryVozDNF"
      },
      "execution_count": null,
      "outputs": []
    },
    {
      "cell_type": "code",
      "source": [
        "messages"
      ],
      "metadata": {
        "id": "kXncvm7bkKzq"
      },
      "execution_count": null,
      "outputs": []
    },
    {
      "cell_type": "code",
      "source": [
        "text1"
      ],
      "metadata": {
        "colab": {
          "base_uri": "https://localhost:8080/",
          "height": 105
        },
        "id": "WNF6-oLxpxiP",
        "outputId": "c9402821-8d4e-41ef-99ac-c6fa2648ef96"
      },
      "execution_count": 42,
      "outputs": [
        {
          "output_type": "execute_result",
          "data": {
            "text/plain": [
              "\"Document 1: Finance Project Report\\nTitle: Investment Strategies and Portfolio Management\\n\\nExecutive Summary\\nThis report evaluates the investment strategies and portfolio management approaches adopted by ABC Finance Ltd. The focus is on risk management, asset allocation, and performance measurement over the financial year 2023-2024.\\n\\n1. Introduction\\n1.1 Background\\n\\nABC Finance Ltd. has been a prominent player in the investment sector for over two decades. The firm manages a diverse portfolio consisting of equities, bonds, commodities, and real estate. Established in 2000, ABC Finance Ltd. has consistently demonstrated robust financial performance and strategic growth.\\n\\n1.2 Objectives\\n\\nThe objectives of this report are as follows:\\n1.2.1 To analyze the performance of the investment strategies implemented in the fiscal year 2023-2024.\\n1.2.2 To assess the effectiveness of the risk management techniques.\\n1.2.3 To provide recommendations for future investment strategies.\\n\\n2. Investment Strategies\\n2.1 Asset Allocation\\n\\n2.1.1 Overview\\nAsset allocation is the process of distributing investments among various asset categories such as equities, bonds, commodities, and real estate. The primary goal is to optimize the risk-return profile of the portfolio.\\n\\n2.1.2 Strategy Implemented\\nIn the fiscal year 2023-2024, ABC Finance Ltd. employed a diversified asset allocation strategy:\\n\\nEquities: 50%\\nBonds: 30%\\nCommodities: 10%\\nReal Estate: 10%\\n2.2 Equity Investments\\n\\n2.2.1 Overview\\nEquities are shares of ownership in a corporation, providing investors with a claim on the company's assets and earnings.\\n\\n2.2.2 Performance\\nThe equity investments yielded an average return of 12% over the year. Key stocks in the portfolio included technology and healthcare sectors, which outperformed the market averages.\\n\\n2.3 Fixed-Income Investments\\n\\n2.3.1 Overview\\nFixed-income investments primarily consist of bonds, which are debt instruments issued by corporations and governments.\\n\\n2.3.2 Performance\\nThe fixed-income portfolio achieved an average return of 5%. The portfolio was heavily weighted towards high-grade corporate bonds and government securities.\\n\\n3. Risk Management\\n3.1 Overview\\n\\nRisk management involves identifying, assessing, and prioritizing risks followed by coordinated efforts to minimize, monitor, and control the probability or impact of unfortunate events.\\n\\n3.2 Techniques Used\\n\\n3.2.1 Diversification\\nABC Finance Ltd. practiced diversification by spreading investments across different asset classes and sectors to reduce exposure to any single asset or risk.\\n\\n3.2.2 Hedging\\nHedging strategies included the use of derivative instruments such as options and futures to mitigate potential losses in the portfolio.\\n\\n3.3 Performance of Risk Management\\n\\nThe risk management strategies were effective, with the portfolio experiencing a maximum drawdown of 8% during the most volatile periods of the market.\\n\\n4. Performance Measurement\\n4.1 Metrics Used\\n\\nPerformance measurement is critical to evaluate the success of investment strategies. The following metrics were used:\\n\\n4.1.1 Return on Investment (ROI)\\nThe overall ROI for the portfolio was 8.5%.\\n\\n4.1.2 Sharpe Ratio\\nThe Sharpe Ratio, which measures the risk-adjusted return, was 1.2.\\n\\n4.1.3 Alpha\\nAlpha, representing the excess return of the portfolio relative to the benchmark, was 2.3%.\\n\\n4.2 Comparative Analysis\\n\\nThe portfolio outperformed the benchmark index by 2%, indicating effective management and strategy implementation.\\n\\n5. Policies\\n5.1 Investment Policy Statement (IPS)\\n\\n5.1.1 Purpose\\nThe IPS outlines the investment philosophy and guidelines for ABC Finance Ltd.\\n\\n5.1.2 Key Components\\n\\nInvestment Objectives: Achieving a balanced growth of capital.\\nRisk Tolerance: Moderate, with an emphasis on capital preservation.\\nTime Horizon: Long-term, exceeding five years.\\n5.2 Compliance Policy\\n\\n5.2.1 Regulatory Compliance\\nABC Finance Ltd. adheres to all relevant regulatory requirements set by financial authorities.\\n\\n5.2.2 Ethical Standards\\nThe firm maintains high ethical standards, ensuring transparency and integrity in all investment activities.\\n\\n6. Conclusion and Recommendations\\n6.1 Conclusion\\n\\nThe investment strategies adopted by ABC Finance Ltd. in the fiscal year 2023-2024 were successful in achieving the desired objectives of risk management and return optimization.\\n\\n6.2 Recommendations\\n\\n6.2.1 Future Strategies\\n\\nEnhance diversification by exploring emerging markets.\\nIncrease allocation to technology and healthcare sectors.\\nImplement more advanced hedging techniques to mitigate risks.\\n6.2.2 Policy Enhancements\\n\\nRegularly review and update the Investment Policy Statement.\\nStrengthen compliance mechanisms to adapt to changing regulatory environments.\\nThis completes the first document. Please let me know when you are ready for the second document.\\n\\n\\n\\n\\n\\n\""
            ],
            "application/vnd.google.colaboratory.intrinsic+json": {
              "type": "string"
            }
          },
          "metadata": {},
          "execution_count": 42
        }
      ]
    }
  ],
  "metadata": {
    "accelerator": "GPU",
    "colab": {
      "gpuType": "T4",
      "provenance": []
    },
    "kernelspec": {
      "display_name": "Python 3",
      "name": "python3"
    },
    "language_info": {
      "name": "python"
    },
    "widgets": {
      "application/vnd.jupyter.widget-state+json": {
        "7607419b9f804d919a8ccdf7c64086cd": {
          "model_module": "@jupyter-widgets/controls",
          "model_name": "HBoxModel",
          "model_module_version": "1.5.0",
          "state": {
            "_dom_classes": [],
            "_model_module": "@jupyter-widgets/controls",
            "_model_module_version": "1.5.0",
            "_model_name": "HBoxModel",
            "_view_count": null,
            "_view_module": "@jupyter-widgets/controls",
            "_view_module_version": "1.5.0",
            "_view_name": "HBoxView",
            "box_style": "",
            "children": [
              "IPY_MODEL_23b554bbc02f4fa78564bfdc41eba889",
              "IPY_MODEL_bc5d6fe2809c4273a0c1ad520554c9f4",
              "IPY_MODEL_08a7786efbf2420293fc01699fc490b7"
            ],
            "layout": "IPY_MODEL_0870572131f748019ceb09f45c0e8c1a"
          }
        },
        "23b554bbc02f4fa78564bfdc41eba889": {
          "model_module": "@jupyter-widgets/controls",
          "model_name": "HTMLModel",
          "model_module_version": "1.5.0",
          "state": {
            "_dom_classes": [],
            "_model_module": "@jupyter-widgets/controls",
            "_model_module_version": "1.5.0",
            "_model_name": "HTMLModel",
            "_view_count": null,
            "_view_module": "@jupyter-widgets/controls",
            "_view_module_version": "1.5.0",
            "_view_name": "HTMLView",
            "description": "",
            "description_tooltip": null,
            "layout": "IPY_MODEL_371806f230e9485f85e2a4484c1bb19d",
            "placeholder": "​",
            "style": "IPY_MODEL_d40178c80b0b4b09adf00033e5e0ff72",
            "value": "Loading checkpoint shards: 100%"
          }
        },
        "bc5d6fe2809c4273a0c1ad520554c9f4": {
          "model_module": "@jupyter-widgets/controls",
          "model_name": "FloatProgressModel",
          "model_module_version": "1.5.0",
          "state": {
            "_dom_classes": [],
            "_model_module": "@jupyter-widgets/controls",
            "_model_module_version": "1.5.0",
            "_model_name": "FloatProgressModel",
            "_view_count": null,
            "_view_module": "@jupyter-widgets/controls",
            "_view_module_version": "1.5.0",
            "_view_name": "ProgressView",
            "bar_style": "success",
            "description": "",
            "description_tooltip": null,
            "layout": "IPY_MODEL_c7561f258b4d43caa90859d01172fee6",
            "max": 2,
            "min": 0,
            "orientation": "horizontal",
            "style": "IPY_MODEL_0cdcd1c434934d21af8d784291b40e11",
            "value": 2
          }
        },
        "08a7786efbf2420293fc01699fc490b7": {
          "model_module": "@jupyter-widgets/controls",
          "model_name": "HTMLModel",
          "model_module_version": "1.5.0",
          "state": {
            "_dom_classes": [],
            "_model_module": "@jupyter-widgets/controls",
            "_model_module_version": "1.5.0",
            "_model_name": "HTMLModel",
            "_view_count": null,
            "_view_module": "@jupyter-widgets/controls",
            "_view_module_version": "1.5.0",
            "_view_name": "HTMLView",
            "description": "",
            "description_tooltip": null,
            "layout": "IPY_MODEL_5a47e29c1888483bbf711617a6cd26c4",
            "placeholder": "​",
            "style": "IPY_MODEL_f5aa8a08d77a4f9b9cb7a67f41b586c6",
            "value": " 2/2 [00:42&lt;00:00, 19.83s/it]"
          }
        },
        "0870572131f748019ceb09f45c0e8c1a": {
          "model_module": "@jupyter-widgets/base",
          "model_name": "LayoutModel",
          "model_module_version": "1.2.0",
          "state": {
            "_model_module": "@jupyter-widgets/base",
            "_model_module_version": "1.2.0",
            "_model_name": "LayoutModel",
            "_view_count": null,
            "_view_module": "@jupyter-widgets/base",
            "_view_module_version": "1.2.0",
            "_view_name": "LayoutView",
            "align_content": null,
            "align_items": null,
            "align_self": null,
            "border": null,
            "bottom": null,
            "display": null,
            "flex": null,
            "flex_flow": null,
            "grid_area": null,
            "grid_auto_columns": null,
            "grid_auto_flow": null,
            "grid_auto_rows": null,
            "grid_column": null,
            "grid_gap": null,
            "grid_row": null,
            "grid_template_areas": null,
            "grid_template_columns": null,
            "grid_template_rows": null,
            "height": null,
            "justify_content": null,
            "justify_items": null,
            "left": null,
            "margin": null,
            "max_height": null,
            "max_width": null,
            "min_height": null,
            "min_width": null,
            "object_fit": null,
            "object_position": null,
            "order": null,
            "overflow": null,
            "overflow_x": null,
            "overflow_y": null,
            "padding": null,
            "right": null,
            "top": null,
            "visibility": null,
            "width": null
          }
        },
        "371806f230e9485f85e2a4484c1bb19d": {
          "model_module": "@jupyter-widgets/base",
          "model_name": "LayoutModel",
          "model_module_version": "1.2.0",
          "state": {
            "_model_module": "@jupyter-widgets/base",
            "_model_module_version": "1.2.0",
            "_model_name": "LayoutModel",
            "_view_count": null,
            "_view_module": "@jupyter-widgets/base",
            "_view_module_version": "1.2.0",
            "_view_name": "LayoutView",
            "align_content": null,
            "align_items": null,
            "align_self": null,
            "border": null,
            "bottom": null,
            "display": null,
            "flex": null,
            "flex_flow": null,
            "grid_area": null,
            "grid_auto_columns": null,
            "grid_auto_flow": null,
            "grid_auto_rows": null,
            "grid_column": null,
            "grid_gap": null,
            "grid_row": null,
            "grid_template_areas": null,
            "grid_template_columns": null,
            "grid_template_rows": null,
            "height": null,
            "justify_content": null,
            "justify_items": null,
            "left": null,
            "margin": null,
            "max_height": null,
            "max_width": null,
            "min_height": null,
            "min_width": null,
            "object_fit": null,
            "object_position": null,
            "order": null,
            "overflow": null,
            "overflow_x": null,
            "overflow_y": null,
            "padding": null,
            "right": null,
            "top": null,
            "visibility": null,
            "width": null
          }
        },
        "d40178c80b0b4b09adf00033e5e0ff72": {
          "model_module": "@jupyter-widgets/controls",
          "model_name": "DescriptionStyleModel",
          "model_module_version": "1.5.0",
          "state": {
            "_model_module": "@jupyter-widgets/controls",
            "_model_module_version": "1.5.0",
            "_model_name": "DescriptionStyleModel",
            "_view_count": null,
            "_view_module": "@jupyter-widgets/base",
            "_view_module_version": "1.2.0",
            "_view_name": "StyleView",
            "description_width": ""
          }
        },
        "c7561f258b4d43caa90859d01172fee6": {
          "model_module": "@jupyter-widgets/base",
          "model_name": "LayoutModel",
          "model_module_version": "1.2.0",
          "state": {
            "_model_module": "@jupyter-widgets/base",
            "_model_module_version": "1.2.0",
            "_model_name": "LayoutModel",
            "_view_count": null,
            "_view_module": "@jupyter-widgets/base",
            "_view_module_version": "1.2.0",
            "_view_name": "LayoutView",
            "align_content": null,
            "align_items": null,
            "align_self": null,
            "border": null,
            "bottom": null,
            "display": null,
            "flex": null,
            "flex_flow": null,
            "grid_area": null,
            "grid_auto_columns": null,
            "grid_auto_flow": null,
            "grid_auto_rows": null,
            "grid_column": null,
            "grid_gap": null,
            "grid_row": null,
            "grid_template_areas": null,
            "grid_template_columns": null,
            "grid_template_rows": null,
            "height": null,
            "justify_content": null,
            "justify_items": null,
            "left": null,
            "margin": null,
            "max_height": null,
            "max_width": null,
            "min_height": null,
            "min_width": null,
            "object_fit": null,
            "object_position": null,
            "order": null,
            "overflow": null,
            "overflow_x": null,
            "overflow_y": null,
            "padding": null,
            "right": null,
            "top": null,
            "visibility": null,
            "width": null
          }
        },
        "0cdcd1c434934d21af8d784291b40e11": {
          "model_module": "@jupyter-widgets/controls",
          "model_name": "ProgressStyleModel",
          "model_module_version": "1.5.0",
          "state": {
            "_model_module": "@jupyter-widgets/controls",
            "_model_module_version": "1.5.0",
            "_model_name": "ProgressStyleModel",
            "_view_count": null,
            "_view_module": "@jupyter-widgets/base",
            "_view_module_version": "1.2.0",
            "_view_name": "StyleView",
            "bar_color": null,
            "description_width": ""
          }
        },
        "5a47e29c1888483bbf711617a6cd26c4": {
          "model_module": "@jupyter-widgets/base",
          "model_name": "LayoutModel",
          "model_module_version": "1.2.0",
          "state": {
            "_model_module": "@jupyter-widgets/base",
            "_model_module_version": "1.2.0",
            "_model_name": "LayoutModel",
            "_view_count": null,
            "_view_module": "@jupyter-widgets/base",
            "_view_module_version": "1.2.0",
            "_view_name": "LayoutView",
            "align_content": null,
            "align_items": null,
            "align_self": null,
            "border": null,
            "bottom": null,
            "display": null,
            "flex": null,
            "flex_flow": null,
            "grid_area": null,
            "grid_auto_columns": null,
            "grid_auto_flow": null,
            "grid_auto_rows": null,
            "grid_column": null,
            "grid_gap": null,
            "grid_row": null,
            "grid_template_areas": null,
            "grid_template_columns": null,
            "grid_template_rows": null,
            "height": null,
            "justify_content": null,
            "justify_items": null,
            "left": null,
            "margin": null,
            "max_height": null,
            "max_width": null,
            "min_height": null,
            "min_width": null,
            "object_fit": null,
            "object_position": null,
            "order": null,
            "overflow": null,
            "overflow_x": null,
            "overflow_y": null,
            "padding": null,
            "right": null,
            "top": null,
            "visibility": null,
            "width": null
          }
        },
        "f5aa8a08d77a4f9b9cb7a67f41b586c6": {
          "model_module": "@jupyter-widgets/controls",
          "model_name": "DescriptionStyleModel",
          "model_module_version": "1.5.0",
          "state": {
            "_model_module": "@jupyter-widgets/controls",
            "_model_module_version": "1.5.0",
            "_model_name": "DescriptionStyleModel",
            "_view_count": null,
            "_view_module": "@jupyter-widgets/base",
            "_view_module_version": "1.2.0",
            "_view_name": "StyleView",
            "description_width": ""
          }
        }
      }
    }
  },
  "nbformat": 4,
  "nbformat_minor": 0
}