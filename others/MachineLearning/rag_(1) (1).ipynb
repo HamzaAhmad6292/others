{
  "cells": [
    {
      "cell_type": "code",
      "execution_count": null,
      "metadata": {
        "id": "qwBk9t-KLnv1",
        "scrolled": true
      },
      "outputs": [],
      "source": [
        "!pip install langchain\n",
        "!pip install langchain_chroma\n",
        "!pip install sentence_transformers\n",
        "!pip install aiofiles\n",
        "!pip install accelerate\n",
        "!pip install pyPDF\n",
        "!pip install tiktoken\n",
        "!pip install einops\n"
      ]
    },
    {
      "cell_type": "code",
      "execution_count": null,
      "metadata": {
        "id": "t62HTGxC3_jq"
      },
      "outputs": [],
      "source": [
        "!pip install nltk"
      ]
    },
    {
      "cell_type": "code",
      "execution_count": null,
      "metadata": {
        "id": "dA222Xf6p-uT"
      },
      "outputs": [],
      "source": [
        "from langchain_community.document_loaders import PyPDFLoader as pdf\n",
        "\n",
        "loader = pdf(\"book.pdf\")\n",
        "pages = loader.load()\n",
        "print(pages)\n",
        "\n",
        "text=\" \"\n",
        "for i in range(0,len(pages)):\n",
        "  text=text+pages[i].page_content\n"
      ]
    },
    {
      "cell_type": "code",
      "execution_count": null,
      "metadata": {
        "colab": {
          "base_uri": "https://localhost:8080/"
        },
        "id": "RLh5-El4KlgV",
        "outputId": "e570f9e7-937b-40b6-8bc0-3281cf4d78d8"
      },
      "outputs": [
        {
          "name": "stdout",
          "output_type": "stream",
          "text": [
            " shall remain liable in respect of events arising out of or in connection with their GROSS \\nNEGLIGENCE / WILFUL MISCONDUCT . \\n LIMITATIONS OF LIABILITY  \\n The total liability of either PARTY to the other PARTY arising under or in connection with the \\nAGREEMENT shall be limited to the total liability cap set out in the FORM OF AGREEMENT.   \\n Article  42.10(a)  shall not apply in relation to, or otherwise limit or affect:  \\n(i) either PARTY ’s liability in respect of:  \\n its GROSS NEGLIGENCE / WILFUL MISCONDUCT or fraud;  \\n a breach of Article  37; \\n THIRD PARTIES; or  \\n an indemnity obligation to the other PARTY under Articles  4.3(e) , 20.6, 22.3, \\n41.12 , 41.16(d)  and 42.1 to 42.5 (as applicable);  \\n(ii) the CONTRACTOR ’s liability:  \\n in respect of its warranty of title pursuant to Article  33; or \\n to make payments, to the extent corresponding payments:  \\n(1) are received or receivable by the CONTRACTOR, or adjusted orPARTIES . \\n LIABILITY FOR PROPERTY  \\n The CONTRACTOR shall indemnify and hold harmless the COMPANY INDEMNIFIED \\nPARTIES from and against all losses, liabilities, damages and costs (including legal costs) \\narising out of or in connection with any claim by any PERSON against the COMPANY \\nINDEMNIFIED PARTIES in respect of:  \\n(i) loss of or damage to the PROPERTY of the CONTRACTOR INDEMNIFIED \\nPARTIES, including the loss of use thereof, that arises out of or in connection with the \\nperformance or non -performance of the AGREEMENT by the COMPANY \\nINDEMNIFIED PARTIES and/or the CONTRACTOR INDEMNIFIED PARTIES; \\nand  \\n(ii) loss of or damage to the PROPERTY of the COMPANY INDEMNIFIED PARTIES, \\nincluding the loss of use thereof, that arises out of or in connection with the \\nperformance or non -performance of the AGREEMENT by the CONTRACTOR \\nINDEMNIFIED PARTIES up to a maximum of USD 1,000,000 per occurrence ,ADNOC Classification: Need -To-Know  \\n Where the COMPANY procures insurance hereunder for the benefit of both PARTIES, claims \\nmanagement shall be COMPANY -driven and the CONTRACTOR shall not, and shall take all steps \\nnecessary to ensure that any SUBCONTRACTOR or VENDOR do not, report any claims to the insurer \\nwithout coordinating with the COMPANY. For the avoidance of doubt, the insurer ’s claim investigation \\nprocess shall not be considered as a hindrance to, or be a reason for delay in the execution of the WORKS.  \\n42. LIABILITY AND INDEMNITY  \\n LIABILITY FOR PERSONNEL  \\n The CONTRACTOR shall indemnify and hold harmless the COMPANY INDEMNIFIED \\nPARTIES from and against all losses, liabilities, damages and costs (including legal costs) \\narising out of or in connection with any claim by any PERSON against the COMPANY \\nINDEMNIFIE D PARTIES in respect of death, illness of or injury to the CONTRACTORADNOC -CICV -505A(v 6) 95 insert the reference numbe r \\n ADNOC Classification: Need -To-Know  \\n LIABILITY FOR THIRD PARTIES  \\n Subject to Article  42.4(b) , the CONTRACTOR shall indemnify and hold harmless the \\nCOMPANY INDEMNIFIED PARTIES from and against all losses, liabilities, damages and \\ncosts (including legal costs) arising out of or in connection with any claim by any PERSON \\nagainst the COMPANY INDEMNIF IED PARTIES in respect of any of the following:  \\n(i) death, illness of or injury to any THIRD PARTY; or  \\n(ii) loss of or damage to the PROPERTY of any THIRD PARTY,  \\nwhich, in the case of each event, arises out of or in connection with any negligent act or omission \\nby the CONTRACTOR INDEMNIFIED PARTIES.  \\n Not used.  \\n Subject to Article  42.4(b) , the COMPANY shall indemnify and hold harmless the \\nCONTRACTOR INDEMNIFIED PARTIES from and against all losses, liabilities, damages \\nand costs (including legal costs) arising out of or in connection with any claim by any PERSONArticle  42. The CONTRACTOR shall save, indemnify, defend, release and hold harmless the \\nCOMPANY INDEMNIFIED PARTIES  from and against all losses, liabilities, damages and costs \\n(including legal costs) arising out of or in connection with any claim by any PERSON against the \\nCOMPANY INDEMNIFIED PARTIES in respect of any shortfall in insurance cover it is obliged to \\nobtain under the AGREEMENT or any failure to effect or maintain such insurances specified by the \\nAGREEMENT or out of any act or omission, which invalidates the said insurances or in the event that \\nliability for any loss or damage be de nied by any underwriter, in all or in part, because of breach of said \\ninsurance requirements by the CONTRACTOR, to the extent of the liabilities assumed by the \\nCONTRACTOR under the AGREEMENT.  \\n The CONTRACTOR shall:  \\n as soon as possible inform the COMPANY in writing of any occurrence that may give rise to a \\nclaim under an insurance policy required by the AGREEMENT;(vi) the GROSS NEGLIGENCE / WILFUL MISCONDUCT of any of the COMPANY \\nINDEMNIFIED PARTIES,  \\nthe CONTRACTOR shall notify the COMPANY of the works it proposes for rectifying such \\nloss or damage, together with a method statement for their implementation and its costings for \\nsuch works, which, subject to the requirements and procedures of Article  24, shall be submitted \\nas a CONTRACTOR VARIATION REQUEST in accordance with Article  24.4 as soon as \\nreasonably ascertainable.  The COMPANY shall, within twenty eight (28) DAYS of receipt of \\nsuch CONTRACTOR VARIATION REQUEST, notify the CONTRACTOR if it requires such \\nworks to be carried out, in which event the CONTRACTOR shall make good such l oss or \\ndamage forthwith at the COMPANY ’s expense, in accordance with the price set out in the \\nVARIATION ORDER.  \\n For the avoidance of doubt, where Article  33.2(c)  applies, the CONTRACTOR shall not carry \\nout any works to rectify any such loss or damage until it is so required by the COMPANY.RIGHTS of any THIRD PARTY; and  \\n it has adequate expertise, staffing and other resources necessary to meet its obligations under \\nthe AGREEMENT.  \\n The CONTRACTOR shall provide the COMPANY with such evidence as the COMPANY may require \\nin order to confirm its compliance with the representations and warranties provided in this Article  22. \\n The CONTRACTOR shall hold harmless, defend and indemnify the COMPANY against any and all \\ncosts (including legal costs), expenses liabilities and/or losses, claims, suits and/or proceedings of any \\nkind arising as a result of a failure by the CONTRACTOR to comply with its obligations set out in:  \\n Articles  22.1(a) , 22.1(b) , 22.1(c) , 22.1(d)  and 22.1(e)(i) ; and  \\n in respect of compliance with the LAW only, Article  22.1(f) ,  \\nand shall defend, indemnify and hold the COMPANY harmless from and against any losses, liabilities, \\ndamages and costs (including legal costs) arising out of or in connection with any claim by any PERSONeliminate the insurance obligations or vice versa.   \\n43. ASSIGNMENT  \\n The CONTRACTOR shall not assign, novate or otherwise transfer any of its rights, obligations or \\ninterests under and in connection with the AGREEMENT without the prior written consent of the \\nCOMPANY.  Any purported assignment, novation, or transfer without the prior written consent of the \\nCOMPANY  shall be expressly deemed absolutely null and void against the COMPANY  and shall not \\ntransfer any rights in th e AGREEMENT to the purported assignee and, in such event, the COMPANY  \\nshall have no obligation whatsoever to the purported assignee. Any purported assignment, novation, or \\ntransfer without the prior wri tten consent of the COMPANY shall entitle the  COMPANY  to terminate \\nthe AGREEMENT  with immediate effect in accordance with Article 35.3(a)(i) . \\n The COMPANY may assign, novate or otherwise transfer any of its rights, obligations or interests underThe CONTRACTOR shall give all required notices and shall provide all bonds, securities or \\ndeposits required by any GOVERNMENTAL AUTHORITY in relation to the performance of \\nthe WORKS.  All costs incurred by the CONTRACTOR in compliance with its obligations as \\nset out in this Article  4.3(d)  shall be deemed to be included in, and covered by, the \\nAGREEMENT PRICE.  \\n The CONTRACTOR shall compensate the COMPANY for all losses, damages and costs arising \\nout of or in connection with any failure by the CONTRACTOR to comply with the LAW in its \\nperformance of the WORKS, and shall defend, indemnify and hold the COMPANY harmle ss \\nfrom and against all losses, liabilities, damages and costs (including legal costs) arising out of \\nor in connection with any claim by any PERSON in relation to such failure.  \\n CORRECTION OF DEFECTS  \\n If, during the period from the COMMENCEMENT DATE until the expiry of the applicable \\nWARRANTY PERIOD, the COMPANY discovers or believes there is a DEFECT, thein the case of each event, except to the extent arising out of or in connection with the GROSS \\nNEGLIGENCE / WILFUL MISCONDUCT of the COMPANY INDEMNIFIED PARTIES.  \\n Subject to Article  42.4(b) , the COMPANY shall indemnify and hold harmless the \\nCONTRACTOR INDEMNIFIED PARTIES from and against all losses, liabilities, damages \\nand costs (including legal costs) arising out of or in connection with any claim by any PERSON \\nagainst the CONTRACTOR INDEM NIFIED PARTIES in respect of any loss of (including the \\nloss of use thereof) or damage to the PROPERTY of the COMPANY INDEMNIFIED \\nPARTIES, which (i) is not covered by  Article  42.2(a)(ii) , and (ii) arises out of or in connection \\nwith the performance or non -performance of the AGREEMENT by the COMPANY \\nINDEMNIFIED PARTIES and/or the CONTRACTOR INDEMNIFIED PARTIES , except to \\nthe extent arising out of or in connection with the GROSS NEGLIGENCE / WILFUL \\nMISCONDUCT of the CONTRACTOR INDEMNIFIED PARTIES .PERSONNEL that arises out of or in connection with the performance or non -performance of \\nthe AGREEMENT by the COMPANY INDEMNIFIED PARTIES and/or the CONTRACTOR \\nINDEMNIFIED PARTIES , excep t to the extent arising out of or in connection with the GROSS \\nNEGLIGENCE / WILFUL MISCONDUCT of the COMPANY INDEMNIFIED PARTIES . \\n The COMPANY shall indemnify and hold harmless the CONTRACTOR INDEMNIFIED \\nPARTIES from and against all losses, liabilities, damages and costs (including legal costs) \\narising out of or in connection with any claim by any PERSON against the CONTRACTOR \\nINDEMNI FIED PARTIES in respect of death, illness of or injury to the COMPANY \\nPERSONNEL that arises out of or in connection with the performance  or non -performance  of \\nthe AGREEMENT by the COMPANY INDEMNIFIED PARTIES and/or the CONTRACTOR \\nINDEMNIFIED PARTIES , excep t to the extent arising out of or in connection with the GROSS \\nNEGLIGENCE / WILFUL MISCONDUCT of the CONTRACTOR INDEMNIFIED \\nPARTIES .such insurance or additional insurance as the COMPANY shall consider necessary and recover the cost \\nfrom the CONTRACTOR.  \\n The CONTRACTOR shall either:  \\n require its SUBCONTRACTORS and VENDORS to obtain and maintain the same level of \\ninsurance as the CONTRACTOR is obliged to take out under the AGREEMENT for performing \\nany part of the WORKS, in proportion to the value of the WORKS that are to be performed by \\nsuch SUBCON TRACTORS and VENDORS,  save and except that the CONTRACTOR shall \\nnot require such SUBCONTRACTORS to carry insurance that would duplicate the coverage of \\nthe insurance carried by the CONTRACTOR; or  \\n ensure that such SUBCONTRACTORS and VENDORS are insured under the \\nCONTRACTOR ’s relevant insurance policies.  \\n The CONTRACTOR ’s compliance with the insurance requirements set out in this Article  41 shall not \\nbe construed as limiting the CONTRACTOR ’s liability to the COMPANY and others as set out inWORKS for any reason, including, without limitation, as a result of any act or omission of the \\nCONTRAC TOR or the CONTRACTOR PERSONNEL;  \\n ensure that the CONTRACTOR and the CONTRACTOR PERSONNEL do not corrupt, erase \\nor otherwise alter the COMPANY INFORMATION;  \\n not disclose passwords supplied by the COMPANY to access the COMPANY ’s computers or \\ndata to any PERSON other than the CONTRACTOR PERSONNEL who need such passwords \\nto perform the WORKS; and  \\n in case of a breach or suspected breach, immediately notify the COMPANY of such breach or \\nsuspected breach and take all steps to prevent it from occurring or reoccurring (as the case may \\nbe) and mitigate it.  \\n If any COMPANY INFORMATION is corrupted, lost, degraded or otherwise altered due to an act or \\nomission of the CONTRACTOR or the CONTRACTOR PERSONNEL, or if the CONTRACTOR \\notherwise fails to fulfil its obligations under the AGREEMENT, the COMPANY may, at th e cost and \\nexpense of the CONTRACTOR:declined by insurers, pursuant to the insurance policies required by \\nArticle  41, or  \\n(2) would have been received pursuant to such policies (including via \\nreimbursement from the COMPANY) had the CONTRACTOR \\ncomplied with its obligations under the AGREEMENT to effect and \\nmaintain insurance; or  \\n(iii) the COMPANY ’s liability as a result of the payment of any part of the AGREEMENT \\nPRICE made in consideration of the CONTRACTOR ’s performance of its obligations \\nunder the AGREEMENT.  \\n CONSEQUENTIAL LOSS  \\n Subject to the CONTRACTOR ’s liability to pay DELAY LIQUIDATED DAMAGES  pursuant \\nto Article  18.4, the COMPANY INDEMNIFIED PARTIES shall have no liability to the \\nCONTRACTOR INDEMNIFIED PARTIES and the CONTRACTOR INDEMNIFIED \\nPARTIES shall have no liability to the COMPANY INDEMNIFIED PARTIES, whether in \\ncontract, tort (including negligence), breach of stat utory duty, or otherwise, for any of theADNOC -CICV -505A(v 6) 28 insert the reference numbe r \\n ADNOC Classification: Need -To-Know  \\nCOMPANY may give the CONTRACTOR an instruction:  \\n(i) specifying the DEFECT;  \\n(ii) requiring the CONTRACTOR to correct the DEFECT; and  \\n(iii) specifying the time within which the DEFECT shall be corrected.  \\n The CONTRACTOR shall be responsible for all DEFECTS, except if it establishes that a \\nDEFECT arises from:  \\n(i) a breach of the AGREEMENT or any act of prevention by the COMPANY;  \\n(ii) normal wear and tear following the passing of care, custody and control of the WORKS \\nor the relevant part thereof pursuant to Article  33.2(a) , to the COMPANY; or  \\n(iii) improper operation and maintenance of the FACILITIES by or on behalf of the \\nCOMPANY, carried out other than in accordance with the operation and maintenance \\nmanuals provided by the CONTRACTOR.  \\n If an instruction is given pursuant to Article  4.4(a)  and the CONTRACTOR reasonablythereof.  \\n The CONTRACTOR shall obtain and maintain:  \\n Third Party Liability Insurance with a limit of not less than USD  10,000,000 per occurrence; \\nand \\n Pollution Liability Insurance to cover the risk arising from the performance of WORKS and any \\npollution emanating/originating from the CONTRACTOR CONSTRUCTION EQUIPMENT \\nwith a limit of not less than USD  10,000,000 per occurrence,  \\nnoting that the two insurance coverage requirements named in Articles  41.5(a)  and 41.5(b)  may be \\naddressed in one insurance policy.  \\n The CONTRACTOR shall ensure that all insurance policies provided by the CONTRACTOR shall:  \\n be obtained on an additional insured basis in the names of the PARTIES  with the exception of \\nthe insurances required under Articles  41.1 and 41.2; and  \\n contain a waiver of subrogation against its contractual principals which shall include the \\nCOMPANY INDEMNIFIED PARTIES,   \\nADNOC -CICV -505A(v 6) 91 insert the reference numbe rThe CONTRACTOR shall be solely responsible for all payments to its SUBCONTRACTORS and \\nVENDORS, and the CONTRACTOR shall indemnify and hold harmless the COMPANY from and \\nagainst all losses, liabilities, damages and costs (including legal costs) arising out of or in connection \\nwith any claim by its SUBCONTRACTORS or VENDORS against the COMPANY.  \\n21. HEALTH, SAFETY AND ENVIRONMENT  \\n The CONTRACTOR shall:  \\n perform its obligations under the AGREEMENT (including those in relation to the WORKS) \\nin accordance with:  \\n(i) all LAW regarding HSE; and  \\n(ii) the HSE REQUIREMENTS;   \\nADNOC -CICV -505A(v 6) 56 insert the reference numbe r \\n ADNOC Classification: Need -To-Know  \\n ensure that the CONTRACTOR PERSONNEL, SUBCONTRACTORS and/or VENDORS \\nobserve and comply with all LAW regarding HSE and the HSE REQUIREMENTS, and make \\navailable to them all such LAW and HSE REQUIREMENTS upon request; and  \\n notify the COMPANY of any violations of such LAW or HSE REQUIREMENTS whether byshall be payable in the amounts specified in the FORM OF AGREEMENT as an obligation of \\nthe CONTRACTOR, which is owed in consideration of the various rights that the \\nCONTRACT OR derives under the AGREEMENT.  \\n19. CONTRACTOR PERSONNEL & COMPANY PERSONNEL  \\n CONTRACTOR PERSONNEL – GENERAL  \\n The CONTRACTOR shall provide and employ on the SITE, and in any other workplace in \\nconnection with the performance of the WORKS, such professional, experienced, skilled, \\nsemiskilled and unskilled labour and local employees as are necessary for the proper a nd timely \\nperformance and completion of the WORKS. The CONTRACTOR shall ensure that each \\nSUBCONTRACTOR and VENDOR provides and employs employees and other personnel who \\nmeet the same standards provided for in this Article  19.1(a) . \\n The CONTRACTOR shall be responsible for, and shall arrange for, the mobilisation and \\ndemobilisation of CONTRACTOR PERSONNEL, including by arranging all CONSENTSown cost) to overcome and mitigate the effects of such FORCE MAJEURE EVENT, including \\ncooperating with the other PARTY to develop and implement a plan of remedia l action and reasonable \\nalternative measures to remedy the effects of such FORCE MAJEURE EVENT.  \\n During any period of  the FORCE MAJEURE EVENT, the CONTRACTOR shall use its best efforts to \\nsafeguard and protect the WORKS and utilise the CONTRACTOR PERSONNEL in such a manner as \\nto minimise the costs associated with the FORCE MAJEURE EVENT.  \\n The affected PARTY shall not be entitled to rely on Article  40.1 in respect of the PARTY ’s performance \\nunder the AGREEMENT for any greater scope or longer duration than is required due to the relevant \\nFORCE MAJEURE EVENT.  \\n As soon as the relevant FORCE MAJEURE EVENT has ceased altogether or has lessened in its effect \\nso as to allow the affected PARTY to resume all or any part of the obligations that has been prevented \\nor delayed by the FORCE MAJEURE EVENT:and 42.5. \\n In consideration for the rights that the COMPANY has received under the AGREEMENT, the \\nCONTRACTOR INDEMNIFIED PARTIES shall have no liability whatsoever to the \\nCOMPANY in respect of any of the events listed in Articles  42.1(b) , 42.2(b) , 42.3(c)  and \\n42.4(b) .  For the avoidance of doubt, the COMPANY hereby waives all claims against the \\nCONTRACTOR INDEMNIFIED PARTIES in respect of the events set forth in \\nArticles  42.1(b) , 42.2(b) , 42.3(c)  and 42.4(b) . \\n Notwithstanding Articles  42.9(a)  and 42.9(b)  above, no PARTY shall be deemed to have \\nwaived any claims against the other PARTY or its related INDEMNIFIED PARTIES in respect \\nof events arising out of or in connection with the GROSS NEGLIGENCE / WILFUL  \\nADNOC -CICV -505A(v 6) 98 insert the reference numbe r \\n ADNOC Classification: Need -To-Know  \\nMISCONDUCT of that other PARTY or its related INDEMNIFIED PARTIES . The \\nCOMPANY INDEMNIFIED PARTIES and the CONTRACTOR INDEMNIFIED PARTIES\n",
            "\n"
          ]
        }
      ],
      "source": [
        "# Open the file in read mode\n",
        "with open('new_documents.txt', 'r') as file:\n",
        "    # Read the contents of the file into a string\n",
        "    new_documents = file.read()\n",
        "\n",
        "# Now the variable 'text' contains the contents of the file as a string\n",
        "print(new_documents)\n"
      ]
    },
    {
      "cell_type": "code",
      "execution_count": null,
      "metadata": {
        "colab": {
          "base_uri": "https://localhost:8080/"
        },
        "id": "LdbMheHQLAvz",
        "outputId": "dd76a809-520a-4d7d-bebc-d09b6a1df8c7"
      },
      "outputs": [
        {
          "name": "stdout",
          "output_type": "stream",
          "text": [
            "[' shall remain liable in respect of events arising out of or in connection with their GROSS \\\\nNEGLIGENCE / WILFUL MISCONDUCT . \\\\n LIMITATIONS OF LIABILITY  \\\\n The total liability of either PARTY to the other PARTY arising under or in connection with the \\\\nAGREEMENT shall be limited to the total liability cap set out in the FORM OF AGREEMENT.   \\\\n Article  42.10(a)  shall not apply in relation to, or otherwise limit or affect:  \\\\n(i) either PARTY ’s liability in respect of:  \\\\n its GROSS NEGLIGENCE / WILFUL MISCONDUCT or fraud;  \\\\n a breach of Article  37; \\\\n THIRD PARTIES; or  \\\\n an indemnity obligation to the other PARTY under Articles  4.3(e) , 20.6, 22.3, \\\\n41.12 , 41.16(d)  and 42.1 to 42.5 (as applicable);  \\\\n(ii) the CONTRACTOR ’s liability:  \\\\n in respect of its warranty of title pursuant to Article  33; or \\\\n to make payments, to the extent corresponding payments:  \\\\n(1) are received or receivable by the CONTRACTOR, or adjusted orPARTIES . \\\\n LIABILITY ', 'FOR PROPERTY  \\\\n The CONTRACTOR shall indemnify and hold harmless the COMPANY INDEMNIFIED \\\\nPARTIES from and against all losses, liabilities, damages and costs (including legal costs) \\\\narising out of or in connection with any claim by any PERSON against the COMPANY \\\\nINDEMNIFIED PARTIES in respect of:  \\\\n(i) loss of or damage to the PROPERTY of the CONTRACTOR INDEMNIFIED \\\\nPARTIES, including the loss of use thereof, that arises out of or in connection with the \\\\nperformance or non -performance of the AGREEMENT by the COMPANY \\\\nINDEMNIFIED PARTIES and/or the CONTRACTOR INDEMNIFIED PARTIES; \\\\nand  \\\\n(ii) loss of or damage to the PROPERTY of the COMPANY INDEMNIFIED PARTIES, \\\\nincluding the loss of use thereof, that arises out of or in connection with the \\\\nperformance or non -performance of the AGREEMENT by the CONTRACTOR \\\\nINDEMNIFIED PARTIES up to a maximum of USD 1,000,000 per occurrence ,ADNOC Classification: Need -To-Know  \\\\n Where the COMPANY procures insu', 'rance hereunder for the benefit of both PARTIES, claims \\\\nmanagement shall be COMPANY -driven and the CONTRACTOR shall not, and shall take all steps \\\\nnecessary to ensure that any SUBCONTRACTOR or VENDOR do not, report any claims to the insurer \\\\nwithout coordinating with the COMPANY. For the avoidance of doubt, the insurer ’s claim investigation \\\\nprocess shall not be considered as a hindrance to, or be a reason for delay in the execution of the WORKS.  \\\\n42. LIABILITY AND INDEMNITY  \\\\n LIABILITY FOR PERSONNEL  \\\\n The CONTRACTOR shall indemnify and hold harmless the COMPANY INDEMNIFIED \\\\nPARTIES from and against all losses, liabilities, damages and costs (including legal costs) \\\\narising out of or in connection with any claim by any PERSON against the COMPANY \\\\nINDEMNIFIE D PARTIES in respect of death, illness of or injury to the CONTRACTORADNOC -CICV -505A(v 6) 95 insert the reference numbe r \\\\n ADNOC Classification: Need -To-Know  \\\\n LIABILITY FOR THIRD PAR', 'TIES  \\\\n Subject to Article  42.4(b) , the CONTRACTOR shall indemnify and hold harmless the \\\\nCOMPANY INDEMNIFIED PARTIES from and against all losses, liabilities, damages and \\\\ncosts (including legal costs) arising out of or in connection with any claim by any PERSON \\\\nagainst the COMPANY INDEMNIF IED PARTIES in respect of any of the following:  \\\\n(i) death, illness of or injury to any THIRD PARTY; or  \\\\n(ii) loss of or damage to the PROPERTY of any THIRD PARTY,  \\\\nwhich, in the case of each event, arises out of or in connection with any negligent act or omission \\\\nby the CONTRACTOR INDEMNIFIED PARTIES.  \\\\n Not used.  \\\\n Subject to Article  42.4(b) , the COMPANY shall indemnify and hold harmless the \\\\nCONTRACTOR INDEMNIFIED PARTIES from and against all losses, liabilities, damages \\\\nand costs (including legal costs) arising out of or in connection with any claim by any PERSONArticle  42. The CONTRACTOR shall save, indemnify, defend, release and hold harmless ', 'the \\\\nCOMPANY INDEMNIFIED PARTIES  from and against all losses, liabilities, damages and costs \\\\n(including legal costs) arising out of or in connection with any claim by any PERSON against the \\\\nCOMPANY INDEMNIFIED PARTIES in respect of any shortfall in insurance cover it is obliged to \\\\nobtain under the AGREEMENT or any failure to effect or maintain such insurances specified by the \\\\nAGREEMENT or out of any act or omission, which invalidates the said insurances or in the event that \\\\nliability for any loss or damage be de nied by any underwriter, in all or in part, because of breach of said \\\\ninsurance requirements by the CONTRACTOR, to the extent of the liabilities assumed by the \\\\nCONTRACTOR under the AGREEMENT.  \\\\n The CONTRACTOR shall:  \\\\n as soon as possible inform the COMPANY in writing of any occurrence that may give rise to a \\\\nclaim under an insurance policy required by the AGREEMENT;(vi) the GROSS NEGLIGENCE / WILFUL MISCONDUCT of any of the COMPAN', 'Y \\\\nINDEMNIFIED PARTIES,  \\\\nthe CONTRACTOR shall notify the COMPANY of the works it proposes for rectifying such \\\\nloss or damage, together with a method statement for their implementation and its costings for \\\\nsuch works, which, subject to the requirements and procedures of Article  24, shall be submitted \\\\nas a CONTRACTOR VARIATION REQUEST in accordance with Article  24.4 as soon as \\\\nreasonably ascertainable.  The COMPANY shall, within twenty eight (28) DAYS of receipt of \\\\nsuch CONTRACTOR VARIATION REQUEST, notify the CONTRACTOR if it requires such \\\\nworks to be carried out, in which event the CONTRACTOR shall make good such l oss or \\\\ndamage forthwith at the COMPANY ’s expense, in accordance with the price set out in the \\\\nVARIATION ORDER.  \\\\n For the avoidance of doubt, where Article  33.2(c)  applies, the CONTRACTOR shall not carry \\\\nout any works to rectify any such loss or damage until it is so required by the COMPANY.RIGHTS of any THIRD PARTY; and  ', '\\\\n it has adequate expertise, staffing and other resources necessary to meet its obligations under \\\\nthe AGREEMENT.  \\\\n The CONTRACTOR shall provide the COMPANY with such evidence as the COMPANY may require \\\\nin order to confirm its compliance with the representations and warranties provided in this Article  22. \\\\n The CONTRACTOR shall hold harmless, defend and indemnify the COMPANY against any and all \\\\ncosts (including legal costs), expenses liabilities and/or losses, claims, suits and/or proceedings of any \\\\nkind arising as a result of a failure by the CONTRACTOR to comply with its obligations set out in:  \\\\n Articles  22.1(a) , 22.1(b) , 22.1(c) , 22.1(d)  and 22.1(e)(i) ; and  \\\\n in respect of compliance with the LAW only, Article  22.1(f) ,  \\\\nand shall defend, indemnify and hold the COMPANY harmless from and against any losses, liabilities, \\\\ndamages and costs (including legal costs) arising out of or in connection with any claim by any PERSONeliminate ', 'the insurance obligations or vice versa.   \\\\n43. ASSIGNMENT  \\\\n The CONTRACTOR shall not assign, novate or otherwise transfer any of its rights, obligations or \\\\ninterests under and in connection with the AGREEMENT without the prior written consent of the \\\\nCOMPANY.  Any purported assignment, novation, or transfer without the prior written consent of the \\\\nCOMPANY  shall be expressly deemed absolutely null and void against the COMPANY  and shall not \\\\ntransfer any rights in th e AGREEMENT to the purported assignee and, in such event, the COMPANY  \\\\nshall have no obligation whatsoever to the purported assignee. Any purported assignment, novation, or \\\\ntransfer without the prior wri tten consent of the COMPANY shall entitle the  COMPANY  to terminate \\\\nthe AGREEMENT  with immediate effect in accordance with Article 35.3(a)(i) . \\\\n The COMPANY may assign, novate or otherwise transfer any of its rights, obligations or interests underThe CONTRACTOR shall give all r', 'equired notices and shall provide all bonds, securities or \\\\ndeposits required by any GOVERNMENTAL AUTHORITY in relation to the performance of \\\\nthe WORKS.  All costs incurred by the CONTRACTOR in compliance with its obligations as \\\\nset out in this Article  4.3(d)  shall be deemed to be included in, and covered by, the \\\\nAGREEMENT PRICE.  \\\\n The CONTRACTOR shall compensate the COMPANY for all losses, damages and costs arising \\\\nout of or in connection with any failure by the CONTRACTOR to comply with the LAW in its \\\\nperformance of the WORKS, and shall defend, indemnify and hold the COMPANY harmle ss \\\\nfrom and against all losses, liabilities, damages and costs (including legal costs) arising out of \\\\nor in connection with any claim by any PERSON in relation to such failure.  \\\\n CORRECTION OF DEFECTS  \\\\n If, during the period from the COMMENCEMENT DATE until the expiry of the applicable \\\\nWARRANTY PERIOD, the COMPANY discovers or believes there is a DEFECT, t', 'hein the case of each event, except to the extent arising out of or in connection with the GROSS \\\\nNEGLIGENCE / WILFUL MISCONDUCT of the COMPANY INDEMNIFIED PARTIES.  \\\\n Subject to Article  42.4(b) , the COMPANY shall indemnify and hold harmless the \\\\nCONTRACTOR INDEMNIFIED PARTIES from and against all losses, liabilities, damages \\\\nand costs (including legal costs) arising out of or in connection with any claim by any PERSON \\\\nagainst the CONTRACTOR INDEM NIFIED PARTIES in respect of any loss of (including the \\\\nloss of use thereof) or damage to the PROPERTY of the COMPANY INDEMNIFIED \\\\nPARTIES, which (i) is not covered by  Article  42.2(a)(ii) , and (ii) arises out of or in connection \\\\nwith the performance or non -performance of the AGREEMENT by the COMPANY \\\\nINDEMNIFIED PARTIES and/or the CONTRACTOR INDEMNIFIED PARTIES , except to \\\\nthe extent arising out of or in connection with the GROSS NEGLIGENCE / WILFUL \\\\nMISCONDUCT of the CONTRACTOR INDEMNIFIED PART', 'IES .PERSONNEL that arises out of or in connection with the performance or non -performance of \\\\nthe AGREEMENT by the COMPANY INDEMNIFIED PARTIES and/or the CONTRACTOR \\\\nINDEMNIFIED PARTIES , excep t to the extent arising out of or in connection with the GROSS \\\\nNEGLIGENCE / WILFUL MISCONDUCT of the COMPANY INDEMNIFIED PARTIES . \\\\n The COMPANY shall indemnify and hold harmless the CONTRACTOR INDEMNIFIED \\\\nPARTIES from and against all losses, liabilities, damages and costs (including legal costs) \\\\narising out of or in connection with any claim by any PERSON against the CONTRACTOR \\\\nINDEMNI FIED PARTIES in respect of death, illness of or injury to the COMPANY \\\\nPERSONNEL that arises out of or in connection with the performance  or non -performance  of \\\\nthe AGREEMENT by the COMPANY INDEMNIFIED PARTIES and/or the CONTRACTOR \\\\nINDEMNIFIED PARTIES , excep t to the extent arising out of or in connection with the GROSS \\\\nNEGLIGENCE / WILFUL MISCONDUCT of the CONTRAC', 'TOR INDEMNIFIED \\\\nPARTIES .such insurance or additional insurance as the COMPANY shall consider necessary and recover the cost \\\\nfrom the CONTRACTOR.  \\\\n The CONTRACTOR shall either:  \\\\n require its SUBCONTRACTORS and VENDORS to obtain and maintain the same level of \\\\ninsurance as the CONTRACTOR is obliged to take out under the AGREEMENT for performing \\\\nany part of the WORKS, in proportion to the value of the WORKS that are to be performed by \\\\nsuch SUBCON TRACTORS and VENDORS,  save and except that the CONTRACTOR shall \\\\nnot require such SUBCONTRACTORS to carry insurance that would duplicate the coverage of \\\\nthe insurance carried by the CONTRACTOR; or  \\\\n ensure that such SUBCONTRACTORS and VENDORS are insured under the \\\\nCONTRACTOR ’s relevant insurance policies.  \\\\n The CONTRACTOR ’s compliance with the insurance requirements set out in this Article  41 shall not \\\\nbe construed as limiting the CONTRACTOR ’s liability to the COMPANY and others as set out i', 'nWORKS for any reason, including, without limitation, as a result of any act or omission of the \\\\nCONTRAC TOR or the CONTRACTOR PERSONNEL;  \\\\n ensure that the CONTRACTOR and the CONTRACTOR PERSONNEL do not corrupt, erase \\\\nor otherwise alter the COMPANY INFORMATION;  \\\\n not disclose passwords supplied by the COMPANY to access the COMPANY ’s computers or \\\\ndata to any PERSON other than the CONTRACTOR PERSONNEL who need such passwords \\\\nto perform the WORKS; and  \\\\n in case of a breach or suspected breach, immediately notify the COMPANY of such breach or \\\\nsuspected breach and take all steps to prevent it from occurring or reoccurring (as the case may \\\\nbe) and mitigate it.  \\\\n If any COMPANY INFORMATION is corrupted, lost, degraded or otherwise altered due to an act or \\\\nomission of the CONTRACTOR or the CONTRACTOR PERSONNEL, or if the CONTRACTOR \\\\notherwise fails to fulfil its obligations under the AGREEMENT, the COMPANY may, at th e cost and \\\\nexpense of the ', 'CONTRACTOR:declined by insurers, pursuant to the insurance policies required by \\\\nArticle  41, or  \\\\n(2) would have been received pursuant to such policies (including via \\\\nreimbursement from the COMPANY) had the CONTRACTOR \\\\ncomplied with its obligations under the AGREEMENT to effect and \\\\nmaintain insurance; or  \\\\n(iii) the COMPANY ’s liability as a result of the payment of any part of the AGREEMENT \\\\nPRICE made in consideration of the CONTRACTOR ’s performance of its obligations \\\\nunder the AGREEMENT.  \\\\n CONSEQUENTIAL LOSS  \\\\n Subject to the CONTRACTOR ’s liability to pay DELAY LIQUIDATED DAMAGES  pursuant \\\\nto Article  18.4, the COMPANY INDEMNIFIED PARTIES shall have no liability to the \\\\nCONTRACTOR INDEMNIFIED PARTIES and the CONTRACTOR INDEMNIFIED \\\\nPARTIES shall have no liability to the COMPANY INDEMNIFIED PARTIES, whether in \\\\ncontract, tort (including negligence), breach of stat utory duty, or otherwise, for any of theADNOC -CICV -505A(v 6) 28 insert', ' the reference numbe r \\\\n ADNOC Classification: Need -To-Know  \\\\nCOMPANY may give the CONTRACTOR an instruction:  \\\\n(i) specifying the DEFECT;  \\\\n(ii) requiring the CONTRACTOR to correct the DEFECT; and  \\\\n(iii) specifying the time within which the DEFECT shall be corrected.  \\\\n The CONTRACTOR shall be responsible for all DEFECTS, except if it establishes that a \\\\nDEFECT arises from:  \\\\n(i) a breach of the AGREEMENT or any act of prevention by the COMPANY;  \\\\n(ii) normal wear and tear following the passing of care, custody and control of the WORKS \\\\nor the relevant part thereof pursuant to Article  33.2(a) , to the COMPANY; or  \\\\n(iii) improper operation and maintenance of the FACILITIES by or on behalf of the \\\\nCOMPANY, carried out other than in accordance with the operation and maintenance \\\\nmanuals provided by the CONTRACTOR.  \\\\n If an instruction is given pursuant to Article  4.4(a)  and the CONTRACTOR reasonablythereof.  \\\\n The CONTRACTOR shall obtain and', ' maintain:  \\\\n Third Party Liability Insurance with a limit of not less than USD  10,000,000 per occurrence; \\\\nand \\\\n Pollution Liability Insurance to cover the risk arising from the performance of WORKS and any \\\\npollution emanating/originating from the CONTRACTOR CONSTRUCTION EQUIPMENT \\\\nwith a limit of not less than USD  10,000,000 per occurrence,  \\\\nnoting that the two insurance coverage requirements named in Articles  41.5(a)  and 41.5(b)  may be \\\\naddressed in one insurance policy.  \\\\n The CONTRACTOR shall ensure that all insurance policies provided by the CONTRACTOR shall:  \\\\n be obtained on an additional insured basis in the names of the PARTIES  with the exception of \\\\nthe insurances required under Articles  41.1 and 41.2; and  \\\\n contain a waiver of subrogation against its contractual principals which shall include the \\\\nCOMPANY INDEMNIFIED PARTIES,   \\\\nADNOC -CICV -505A(v 6) 91 insert the reference numbe rThe CONTRACTOR shall be solely responsible f', 'or all payments to its SUBCONTRACTORS and \\\\nVENDORS, and the CONTRACTOR shall indemnify and hold harmless the COMPANY from and \\\\nagainst all losses, liabilities, damages and costs (including legal costs) arising out of or in connection \\\\nwith any claim by its SUBCONTRACTORS or VENDORS against the COMPANY.  \\\\n21. HEALTH, SAFETY AND ENVIRONMENT  \\\\n The CONTRACTOR shall:  \\\\n perform its obligations under the AGREEMENT (including those in relation to the WORKS) \\\\nin accordance with:  \\\\n(i) all LAW regarding HSE; and  \\\\n(ii) the HSE REQUIREMENTS;   \\\\nADNOC -CICV -505A(v 6) 56 insert the reference numbe r \\\\n ADNOC Classification: Need -To-Know  \\\\n ensure that the CONTRACTOR PERSONNEL, SUBCONTRACTORS and/or VENDORS \\\\nobserve and comply with all LAW regarding HSE and the HSE REQUIREMENTS, and make \\\\navailable to them all such LAW and HSE REQUIREMENTS upon request; and  \\\\n notify the COMPANY of any violations of such LAW or HSE REQUIREMENTS whether byshall be payable i', 'n the amounts specified in the FORM OF AGREEMENT as an obligation of \\\\nthe CONTRACTOR, which is owed in consideration of the various rights that the \\\\nCONTRACT OR derives under the AGREEMENT.  \\\\n19. CONTRACTOR PERSONNEL & COMPANY PERSONNEL  \\\\n CONTRACTOR PERSONNEL – GENERAL  \\\\n The CONTRACTOR shall provide and employ on the SITE, and in any other workplace in \\\\nconnection with the performance of the WORKS, such professional, experienced, skilled, \\\\nsemiskilled and unskilled labour and local employees as are necessary for the proper a nd timely \\\\nperformance and completion of the WORKS. The CONTRACTOR shall ensure that each \\\\nSUBCONTRACTOR and VENDOR provides and employs employees and other personnel who \\\\nmeet the same standards provided for in this Article  19.1(a) . \\\\n The CONTRACTOR shall be responsible for, and shall arrange for, the mobilisation and \\\\ndemobilisation of CONTRACTOR PERSONNEL, including by arranging all CONSENTSown cost) to overcome and miti', 'gate the effects of such FORCE MAJEURE EVENT, including \\\\ncooperating with the other PARTY to develop and implement a plan of remedia l action and reasonable \\\\nalternative measures to remedy the effects of such FORCE MAJEURE EVENT.  \\\\n During any period of  the FORCE MAJEURE EVENT, the CONTRACTOR shall use its best efforts to \\\\nsafeguard and protect the WORKS and utilise the CONTRACTOR PERSONNEL in such a manner as \\\\nto minimise the costs associated with the FORCE MAJEURE EVENT.  \\\\n The affected PARTY shall not be entitled to rely on Article  40.1 in respect of the PARTY ’s performance \\\\nunder the AGREEMENT for any greater scope or longer duration than is required due to the relevant \\\\nFORCE MAJEURE EVENT.  \\\\n As soon as the relevant FORCE MAJEURE EVENT has ceased altogether or has lessened in its effect \\\\nso as to allow the affected PARTY to resume all or any part of the obligations that has been prevented \\\\nor delayed by the FORCE MAJEURE EVENT:and 42.5. \\\\n ', 'In consideration for the rights that the COMPANY has received under the AGREEMENT, the \\\\nCONTRACTOR INDEMNIFIED PARTIES shall have no liability whatsoever to the \\\\nCOMPANY in respect of any of the events listed in Articles  42.1(b) , 42.2(b) , 42.3(c)  and \\\\n42.4(b) .  For the avoidance of doubt, the COMPANY hereby waives all claims against the \\\\nCONTRACTOR INDEMNIFIED PARTIES in respect of the events set forth in \\\\nArticles  42.1(b) , 42.2(b) , 42.3(c)  and 42.4(b) . \\\\n Notwithstanding Articles  42.9(a)  and 42.9(b)  above, no PARTY shall be deemed to have \\\\nwaived any claims against the other PARTY or its related INDEMNIFIED PARTIES in respect \\\\nof events arising out of or in connection with the GROSS NEGLIGENCE / WILFUL  \\\\nADNOC -CICV -505A(v 6) 98 insert the reference numbe r \\\\n ADNOC Classification: Need -To-Know  \\\\nMISCONDUCT of that other PARTY or its related INDEMNIFIED PARTIES . The \\\\nCOMPANY INDEMNIFIED PARTIES and the CONTRACTOR INDEMNIFIED PARTIES\\n']\n"
          ]
        }
      ],
      "source": [
        "part_length = len(new_documents) // 20\n",
        "\n",
        "# Initialize an empty list to store the parts\n",
        "chunks = []\n",
        "\n",
        "# Split the string into 20 equal parts and store them in the list\n",
        "for i in range(0, len(new_documents), part_length):\n",
        "    chunks.append(new_documents[i:i+part_length])\n",
        "\n",
        "# Print the parts to verify\n",
        "print(chunks)"
      ]
    },
    {
      "cell_type": "code",
      "execution_count": null,
      "metadata": {
        "id": "y_J1SYDWKESR"
      },
      "outputs": [],
      "source": [
        "import torch\n",
        "from transformers import AutoModelForCausalLM, AutoTokenizer, pipeline\n",
        "from accelerate import Accelerator\n",
        "\n",
        "# Initialize Accelerator\n",
        "accelerator = Accelerator()\n",
        "torch.random.manual_seed(0)\n",
        "\n",
        "def start_model():\n",
        "    model = AutoModelForCausalLM.from_pretrained(\n",
        "    \"microsoft/Phi-3-mini-4k-instruct\",\n",
        "    device_map=\"cuda\",\n",
        "    torch_dtype=\"auto\",\n",
        "    trust_remote_code=True,\n",
        "    )\n",
        "    tokenizer = AutoTokenizer.from_pretrained(\"microsoft/Phi-3-mini-4k-instruct\")\n",
        "\n",
        "    pipe = pipeline(\n",
        "    \"text-generation\",\n",
        "    model=model,\n",
        "    tokenizer=tokenizer,\n",
        "    )\n",
        "    return pipe\n",
        "\n",
        "pipe=start_model()\n"
      ]
    },
    {
      "cell_type": "code",
      "execution_count": null,
      "metadata": {
        "id": "L8mcfOEIf1Ti"
      },
      "outputs": [],
      "source": [
        "# from accelerate.utils import release_memory\n",
        "# release_memory(model)"
      ]
    },
    {
      "cell_type": "code",
      "execution_count": null,
      "metadata": {
        "id": "HrK-NJHGfn8f"
      },
      "outputs": [],
      "source": [
        "# import gc\n",
        "# import torch\n",
        "\n",
        "# def flush():\n",
        "#   gc.collect()\n",
        "#   torch.cuda.empty_cache()\n",
        "#   torch.cuda.reset_peak_memory_stats()"
      ]
    },
    {
      "cell_type": "code",
      "execution_count": null,
      "metadata": {
        "id": "frr495UPfrk4"
      },
      "outputs": [],
      "source": [
        "# flush()"
      ]
    },
    {
      "cell_type": "code",
      "execution_count": null,
      "metadata": {
        "id": "exNOUjXLRyun"
      },
      "outputs": [],
      "source": [
        "# from langchain.text_splitter import RecursiveCharacterTextSplitter\n",
        "# from langchain_community.embeddings.sentence_transformer import (\n",
        "#     SentenceTransformerEmbeddings,\n",
        "# )\n",
        "# from langchain_chroma import Chroma\n",
        "# from sentence_transformers import SentenceTransformer\n",
        "\n",
        "# model_name=\"sentence-transformers/all-mpnet-base-v2\"\n",
        "# model_kwargs = {\"device\": \"cpu\",\"trust_remote_code\":True}\n",
        "# encode_kwargs = {\"normalize_embeddings\": True}\n",
        "\n",
        "# text_splitter = RecursiveCharacterTextSplitter(chunk_size=500,\n",
        "#                                                        chunk_overlap=50)\n",
        "\n",
        "# all_documents = text_splitter.create_documents(\"1\")\n",
        "\n",
        "\n",
        "# embedding_function = SentenceTransformerEmbeddings(\n",
        "# model_name=model_name,\n",
        "# model_kwargs=model_kwargs,\n",
        "# encode_kwargs=encode_kwargs,\n",
        "# )\n",
        "\n",
        "# db = Chroma.from_documents(all_documents, embedding_function )\n",
        "# db.delete_collection()"
      ]
    },
    {
      "cell_type": "code",
      "execution_count": null,
      "metadata": {
        "id": "D1A2r39nKESS",
        "scrolled": true
      },
      "outputs": [],
      "source": [
        "# from transformers import pipeline\n",
        "\n",
        "# device = \"cuda\" if torch.cuda.is_available() else \"cpu\"\n",
        "\n",
        "\n",
        "# def rag(query, retrieved_documents, model, tokenizer):\n",
        "#     # device = next(model.parameters()).device\n",
        "\n",
        "#     messages = f\"\"\"\n",
        "#           You will be shown the user's question, and the relevant information\n",
        "#           Answer the user's question using only  relevant information. Try to build a good answer using this information.\n",
        "\n",
        "#           Give Precise answer according to User's Instruction, like if the user wants explanation then provide explanation.\n",
        "#           Dont repeat the Information or the User Query or the Answer after answering the question\n",
        "#           If the User wants an answer in one or two lines then give an answer accordingly.\n",
        "#           Donot print any internal working and donot answer any extra question , only give the answer of the asked question nothing more or less\n",
        "#           and at a time only one question is asked and that is to be answered\n",
        "\n",
        "#         Information : {retrieved_documents}\n",
        "#         User's Question: {query}.\"\n",
        "#     \"\"\"\n",
        "\n",
        "\n",
        "#     input_ids = tokenizer.encode(messages, return_tensors=\"pt\").to(device)\n",
        "\n",
        "#   # Generate response with beam search\n",
        "#     output = model.generate(\n",
        "#     max_length=4000,\n",
        "#     input_ids=input_ids,\n",
        "#     num_beams=5,  # Adjust num_beams as needed\n",
        "#     no_repeat_ngram_size=2,\n",
        "#     early_stopping=True\n",
        "#     )\n",
        "\n",
        "#   # Decode the generated tokens\n",
        "#     decoded_text = tokenizer.decode(output[0], skip_special_tokens=True)\n",
        "#     return decoded_text\n",
        "\n",
        "\n",
        "\n",
        "\n"
      ]
    },
    {
      "cell_type": "code",
      "execution_count": null,
      "metadata": {
        "id": "zqbEML4rMO6g"
      },
      "outputs": [],
      "source": [
        "#Text Splitter and Embeddings\n",
        "from langchain_chroma import Chroma\n",
        "from langchain_community.document_loaders import TextLoader\n",
        "from langchain_community.embeddings.sentence_transformer import (\n",
        "    SentenceTransformerEmbeddings,\n",
        ")\n",
        "from langchain_community.document_loaders.csv_loader import CSVLoader\n",
        "from langchain_text_splitters import CharacterTextSplitter\n",
        "import re\n",
        "import langchain\n",
        "from langchain.chains import ConversationChain\n",
        "from langchain.chains.conversation.memory import ConversationBufferMemory\n",
        "from langchain_text_splitters import SpacyTextSplitter\n",
        "\n",
        "\n",
        "def text_splitter_And_Similarity_Search(documents):\n",
        "\n",
        "\n",
        "\n",
        "    model_name=\"sentence-transformers/all-mpnet-base-v2\"\n",
        "    model_kwargs = {\"device\": \"cpu\",\"trust_remote_code\":True}\n",
        "    encode_kwargs = {\"normalize_embeddings\": True}\n",
        "\n",
        "    # text_splitter = RecursiveCharacterTextSplitter(chunk_size=500,\n",
        "    #                                                    chunk_overlap=50)\n",
        "\n",
        "\n",
        "\n",
        "\n",
        "    embedding_function = SentenceTransformerEmbeddings(\n",
        "    model_name=model_name,\n",
        "    model_kwargs=model_kwargs,\n",
        "    encode_kwargs=encode_kwargs,\n",
        "    )\n",
        "\n",
        "    db = Chroma.from_documents(documents, embedding_function )\n",
        "\n",
        "\n",
        "    # embedding_function = SentenceTransformerEmbeddings(model_name=\"thenlper/gte-base\")\n",
        "    # db = Chroma.from_documents(documents, embedding_function )\n",
        "\n",
        "    return db\n",
        "\n",
        "\n",
        "\n",
        "\n",
        "\n"
      ]
    },
    {
      "cell_type": "code",
      "execution_count": null,
      "metadata": {
        "id": "Db3cU00UMs3H"
      },
      "outputs": [],
      "source": [
        "from langchain.text_splitter import RecursiveCharacterTextSplitter\n",
        "from langchain.docstore.document import Document\n",
        "\n",
        "docs=Document(page_content=text,metadata={\"source\":\"book\"})\n",
        "doc=[]\n",
        "doc.append(docs)\n",
        "text_splitter = RecursiveCharacterTextSplitter(chunk_size=1000,\n",
        "                                                       chunk_overlap=50)\n",
        "\n",
        "documents = text_splitter.split_documents(doc)"
      ]
    },
    {
      "cell_type": "code",
      "execution_count": null,
      "metadata": {
        "id": "7ajbhf0KQ9OZ"
      },
      "outputs": [],
      "source": [
        "db=text_splitter_And_Similarity_Search(documents)"
      ]
    },
    {
      "cell_type": "code",
      "execution_count": null,
      "metadata": {
        "id": "CCsFK5KiQoHE"
      },
      "outputs": [],
      "source": [
        "k=20\n",
        "def search(prompt):\n",
        "  docs = db.similarity_search_with_score(prompt,k=k)\n",
        "  return docs"
      ]
    },
    {
      "cell_type": "code",
      "execution_count": null,
      "metadata": {
        "id": "7ZL7fcJlOCAY"
      },
      "outputs": [],
      "source": [
        "#Generation\n",
        "prompt=\"What is CONTRACTOR limit of liability?\"\n",
        "docs=search(prompt)\n",
        "new_documents=\" \"\n",
        "for i in range(0,k):\n",
        "    new_documents=new_documents+docs[i][0].page_content\n",
        "\n",
        "\n",
        "\n"
      ]
    },
    {
      "cell_type": "code",
      "execution_count": null,
      "metadata": {
        "colab": {
          "base_uri": "https://localhost:8080/",
          "height": 184
        },
        "id": "_V2mBhxCl0FG",
        "outputId": "32f6df65-8acb-45dd-c011-723ede08b6a7"
      },
      "outputs": [
        {
          "data": {
            "application/vnd.google.colaboratory.intrinsic+json": {
              "type": "string"
            },
            "text/plain": [
              "' shall remain liable in respect of events arising out of or in connection with their GROSS \\\\nNEGLIGENCE / WILFUL MISCONDUCT . \\\\n LIMITATIONS OF LIABILITY  \\\\n The total liability of either PARTY to the other PARTY arising under or in connection with the \\\\nAGREEMENT shall be limited to the total liability cap set out in the FORM OF AGREEMENT.   \\\\n Article  42.10(a)  shall not apply in relation to, or otherwise limit or affect:  \\\\n(i) either PARTY ’s liability in respect of:  \\\\n its GROSS NEGLIGENCE / WILFUL MISCONDUCT or fraud;  \\\\n a breach of Article  37; \\\\n THIRD PARTIES; or  \\\\n an indemnity obligation to the other PARTY under Articles  4.3(e) , 20.6, 22.3, \\\\n41.12 , 41.16(d)  and 42.1 to 42.5 (as applicable);  \\\\n(ii) the CONTRACTOR ’s liability:  \\\\n in respect of its warranty of title pursuant to Article  33; or \\\\n to make payments, to the extent corresponding payments:  \\\\n(1) are received or receivable by the CONTRACTOR, or adjusted orPARTIES . \\\\n LIABILITY FOR PROPERTY  \\\\n The CONTRACTOR shall indemnify and hold harmless the COMPANY INDEMNIFIED \\\\nPARTIES from and against all losses, liabilities, damages and costs (including legal costs) \\\\narising out of or in connection with any claim by any PERSON against the COMPANY \\\\nINDEMNIFIED PARTIES in respect of:  \\\\n(i) loss of or damage to the PROPERTY of the CONTRACTOR INDEMNIFIED \\\\nPARTIES, including the loss of use thereof, that arises out of or in connection with the \\\\nperformance or non -performance of the AGREEMENT by the COMPANY \\\\nINDEMNIFIED PARTIES and/or the CONTRACTOR INDEMNIFIED PARTIES; \\\\nand  \\\\n(ii) loss of or damage to the PROPERTY of the COMPANY INDEMNIFIED PARTIES, \\\\nincluding the loss of use thereof, that arises out of or in connection with the \\\\nperformance or non -performance of the AGREEMENT by the CONTRACTOR \\\\nINDEMNIFIED PARTIES up to a maximum of USD 1,000,000 per occurrence ,ADNOC Classification: Need -To-Know  \\\\n Where the COMPANY procures insurance hereunder for the benefit of both PARTIES, claims \\\\nmanagement shall be COMPANY -driven and the CONTRACTOR shall not, and shall take all steps \\\\nnecessary to ensure that any SUBCONTRACTOR or VENDOR do not, report any claims to the insurer \\\\nwithout coordinating with the COMPANY. For the avoidance of doubt, the insurer ’s claim investigation \\\\nprocess shall not be considered as a hindrance to, or be a reason for delay in the execution of the WORKS.  \\\\n42. LIABILITY AND INDEMNITY  \\\\n LIABILITY FOR PERSONNEL  \\\\n The CONTRACTOR shall indemnify and hold harmless the COMPANY INDEMNIFIED \\\\nPARTIES from and against all losses, liabilities, damages and costs (including legal costs) \\\\narising out of or in connection with any claim by any PERSON against the COMPANY \\\\nINDEMNIFIE D PARTIES in respect of death, illness of or injury to the CONTRACTORADNOC -CICV -505A(v 6) 95 insert the reference numbe r \\\\n ADNOC Classification: Need -To-Know  \\\\n LIABILITY FOR THIRD PARTIES  \\\\n Subject to Article  42.4(b) , the CONTRACTOR shall indemnify and hold harmless the \\\\nCOMPANY INDEMNIFIED PARTIES from and against all losses, liabilities, damages and \\\\ncosts (including legal costs) arising out of or in connection with any claim by any PERSON \\\\nagainst the COMPANY INDEMNIF IED PARTIES in respect of any of the following:  \\\\n(i) death, illness of or injury to any THIRD PARTY; or  \\\\n(ii) loss of or damage to the PROPERTY of any THIRD PARTY,  \\\\nwhich, in the case of each event, arises out of or in connection with any negligent act or omission \\\\nby the CONTRACTOR INDEMNIFIED PARTIES.  \\\\n Not used.  \\\\n Subject to Article  42.4(b) , the COMPANY shall indemnify and hold harmless the \\\\nCONTRACTOR INDEMNIFIED PARTIES from and against all losses, liabilities, damages \\\\nand costs (including legal costs) arising out of or in connection with any claim by any PERSONArticle  42. The CONTRACTOR shall save, indemnify, defend, release and hold harmless the \\\\nCOMPANY INDEMNIFIED PARTIES  from and against all losses, liabilities, damages and costs \\\\n(including legal costs) arising out of or in connection with any claim by any PERSON against the \\\\nCOMPANY INDEMNIFIED PARTIES in respect of any shortfall in insurance cover it is obliged to \\\\nobtain under the AGREEMENT or any failure to effect or maintain such insurances specified by the \\\\nAGREEMENT or out of any act or omission, which invalidates the said insurances or in the event that \\\\nliability for any loss or damage be de nied by any underwriter, in all or in part, because of breach of said \\\\ninsurance requirements by the CONTRACTOR, to the extent of the liabilities assumed by the \\\\nCONTRACTOR under the AGREEMENT.  \\\\n The CONTRACTOR shall:  \\\\n as soon as possible inform the COMPANY in writing of any occurrence that may give rise to a \\\\nclaim under an insurance policy required by the AGREEMENT;(vi) the GROSS NEGLIGENCE / WILFUL MISCONDUCT of any of the COMPANY \\\\nINDEMNIFIED PARTIES,  \\\\nthe CONTRACTOR shall notify the COMPANY of the works it proposes for rectifying such \\\\nloss or damage, together with a method statement for their implementation and its costings for \\\\nsuch works, which, subject to the requirements and procedures of Article  24, shall be submitted \\\\nas a CONTRACTOR VARIATION REQUEST in accordance with Article  24.4 as soon as \\\\nreasonably ascertainable.  The COMPANY shall, within twenty eight (28) DAYS of receipt of \\\\nsuch CONTRACTOR VARIATION REQUEST, notify the CONTRACTOR if it requires such \\\\nworks to be carried out, in which event the CONTRACTOR shall make good such l oss or \\\\ndamage forthwith at the COMPANY ’s expense, in accordance with the price set out in the \\\\nVARIATION ORDER.  \\\\n For the avoidance of doubt, where Article  33.2(c)  applies, the CONTRACTOR shall not carry \\\\nout any works to rectify any such loss or damage until it is so required by the COMPANY.RIGHTS of any THIRD PARTY; and  \\\\n it has adequate expertise, staffing and other resources necessary to meet its obligations under \\\\nthe AGREEMENT.  \\\\n The CONTRACTOR shall provide the COMPANY with such evidence as the COMPANY may require \\\\nin order to confirm its compliance with the representations and warranties provided in this Article  22. \\\\n The CONTRACTOR shall hold harmless, defend and indemnify the COMPANY against any and all \\\\ncosts (including legal costs), expenses liabilities and/or losses, claims, suits and/or proceedings of any \\\\nkind arising as a result of a failure by the CONTRACTOR to comply with its obligations set out in:  \\\\n Articles  22.1(a) , 22.1(b) , 22.1(c) , 22.1(d)  and 22.1(e)(i) ; and  \\\\n in respect of compliance with the LAW only, Article  22.1(f) ,  \\\\nand shall defend, indemnify and hold the COMPANY harmless from and against any losses, liabilities, \\\\ndamages and costs (including legal costs) arising out of or in connection with any claim by any PERSONeliminate the insurance obligations or vice versa.   \\\\n43. ASSIGNMENT  \\\\n The CONTRACTOR shall not assign, novate or otherwise transfer any of its rights, obligations or \\\\ninterests under and in connection with the AGREEMENT without the prior written consent of the \\\\nCOMPANY.  Any purported assignment, novation, or transfer without the prior written consent of the \\\\nCOMPANY  shall be expressly deemed absolutely null and void against the COMPANY  and shall not \\\\ntransfer any rights in th e AGREEMENT to the purported assignee and, in such event, the COMPANY  \\\\nshall have no obligation whatsoever to the purported assignee. Any purported assignment, novation, or \\\\ntransfer without the prior wri tten consent of the COMPANY shall entitle the  COMPANY  to terminate \\\\nthe AGREEMENT  with immediate effect in accordance with Article 35.3(a)(i) . \\\\n The COMPANY may assign, novate or otherwise transfer any of its rights, obligations or interests underThe CONTRACTOR shall give all required notices and shall provide all bonds, securities or \\\\ndeposits required by any GOVERNMENTAL AUTHORITY in relation to the performance of \\\\nthe WORKS.  All costs incurred by the CONTRACTOR in compliance with its obligations as \\\\nset out in this Article  4.3(d)  shall be deemed to be included in, and covered by, the \\\\nAGREEMENT PRICE.  \\\\n The CONTRACTOR shall compensate the COMPANY for all losses, damages and costs arising \\\\nout of or in connection with any failure by the CONTRACTOR to comply with the LAW in its \\\\nperformance of the WORKS, and shall defend, indemnify and hold the COMPANY harmle ss \\\\nfrom and against all losses, liabilities, damages and costs (including legal costs) arising out of \\\\nor in connection with any claim by any PERSON in relation to such failure.  \\\\n CORRECTION OF DEFECTS  \\\\n If, during the period from the COMMENCEMENT DATE until the expiry of the applicable \\\\nWARRANTY PERIOD, the COMPANY discovers or believes there is a DEFECT, thein the case of each event, except to the extent arising out of or in connection with the GROSS \\\\nNEGLIGENCE / WILFUL MISCONDUCT of the COMPANY INDEMNIFIED PARTIES.  \\\\n Subject to Article  42.4(b) , the COMPANY shall indemnify and hold harmless the \\\\nCONTRACTOR INDEMNIFIED PARTIES from and against all losses, liabilities, damages \\\\nand costs (including legal costs) arising out of or in connection with any claim by any PERSON \\\\nagainst the CONTRACTOR INDEM NIFIED PARTIES in respect of any loss of (including the \\\\nloss of use thereof) or damage to the PROPERTY of the COMPANY INDEMNIFIED \\\\nPARTIES, which (i) is not covered by  Article  42.2(a)(ii) , and (ii) arises out of or in connection \\\\nwith the performance or non -performance of the AGREEMENT by the COMPANY \\\\nINDEMNIFIED PARTIES and/or the CONTRACTOR INDEMNIFIED PARTIES , except to \\\\nthe extent arising out of or in connection with the GROSS NEGLIGENCE / WILFUL \\\\nMISCONDUCT of the CONTRACTOR INDEMNIFIED PARTIES .PERSONNEL that arises out of or in connection with the performance or non -performance of \\\\nthe AGREEMENT by the COMPANY INDEMNIFIED PARTIES and/or the CONTRACTOR \\\\nINDEMNIFIED PARTIES , excep t to the extent arising out of or in connection with the GROSS \\\\nNEGLIGENCE / WILFUL MISCONDUCT of the COMPANY INDEMNIFIED PARTIES . \\\\n The COMPANY shall indemnify and hold harmless the CONTRACTOR INDEMNIFIED \\\\nPARTIES from and against all losses, liabilities, damages and costs (including legal costs) \\\\narising out of or in connection with any claim by any PERSON against the CONTRACTOR \\\\nINDEMNI FIED PARTIES in respect of death, illness of or injury to the COMPANY \\\\nPERSONNEL that arises out of or in connection with the performance  or non -performance  of \\\\nthe AGREEMENT by the COMPANY INDEMNIFIED PARTIES and/or the CONTRACTOR \\\\nINDEMNIFIED PARTIES , excep t to the extent arising out of or in connection with the GROSS \\\\nNEGLIGENCE / WILFUL MISCONDUCT of the CONTRACTOR INDEMNIFIED \\\\nPARTIES .such insurance or additional insurance as the COMPANY shall consider necessary and recover the cost \\\\nfrom the CONTRACTOR.  \\\\n The CONTRACTOR shall either:  \\\\n require its SUBCONTRACTORS and VENDORS to obtain and maintain the same level of \\\\ninsurance as the CONTRACTOR is obliged to take out under the AGREEMENT for performing \\\\nany part of the WORKS, in proportion to the value of the WORKS that are to be performed by \\\\nsuch SUBCON TRACTORS and VENDORS,  save and except that the CONTRACTOR shall \\\\nnot require such SUBCONTRACTORS to carry insurance that would duplicate the coverage of \\\\nthe insurance carried by the CONTRACTOR; or  \\\\n ensure that such SUBCONTRACTORS and VENDORS are insured under the \\\\nCONTRACTOR ’s relevant insurance policies.  \\\\n The CONTRACTOR ’s compliance with the insurance requirements set out in this Article  41 shall not \\\\nbe construed as limiting the CONTRACTOR ’s liability to the COMPANY and others as set out inWORKS for any reason, including, without limitation, as a result of any act or omission of the \\\\nCONTRAC TOR or the CONTRACTOR PERSONNEL;  \\\\n ensure that the CONTRACTOR and the CONTRACTOR PERSONNEL do not corrupt, erase \\\\nor otherwise alter the COMPANY INFORMATION;  \\\\n not disclose passwords supplied by the COMPANY to access the COMPANY ’s computers or \\\\ndata to any PERSON other than the CONTRACTOR PERSONNEL who need such passwords \\\\nto perform the WORKS; and  \\\\n in case of a breach or suspected breach, immediately notify the COMPANY of such breach or \\\\nsuspected breach and take all steps to prevent it from occurring or reoccurring (as the case may \\\\nbe) and mitigate it.  \\\\n If any COMPANY INFORMATION is corrupted, lost, degraded or otherwise altered due to an act or \\\\nomission of the CONTRACTOR or the CONTRACTOR PERSONNEL, or if the CONTRACTOR \\\\notherwise fails to fulfil its obligations under the AGREEMENT, the COMPANY may, at th e cost and \\\\nexpense of the CONTRACTOR:declined by insurers, pursuant to the insurance policies required by \\\\nArticle  41, or  \\\\n(2) would have been received pursuant to such policies (including via \\\\nreimbursement from the COMPANY) had the CONTRACTOR \\\\ncomplied with its obligations under the AGREEMENT to effect and \\\\nmaintain insurance; or  \\\\n(iii) the COMPANY ’s liability as a result of the payment of any part of the AGREEMENT \\\\nPRICE made in consideration of the CONTRACTOR ’s performance of its obligations \\\\nunder the AGREEMENT.  \\\\n CONSEQUENTIAL LOSS  \\\\n Subject to the CONTRACTOR ’s liability to pay DELAY LIQUIDATED DAMAGES  pursuant \\\\nto Article  18.4, the COMPANY INDEMNIFIED PARTIES shall have no liability to the \\\\nCONTRACTOR INDEMNIFIED PARTIES and the CONTRACTOR INDEMNIFIED \\\\nPARTIES shall have no liability to the COMPANY INDEMNIFIED PARTIES, whether in \\\\ncontract, tort (including negligence), breach of stat utory duty, or otherwise, for any of theADNOC -CICV -505A(v 6) 28 insert the reference numbe r \\\\n ADNOC Classification: Need -To-Know  \\\\nCOMPANY may give the CONTRACTOR an instruction:  \\\\n(i) specifying the DEFECT;  \\\\n(ii) requiring the CONTRACTOR to correct the DEFECT; and  \\\\n(iii) specifying the time within which the DEFECT shall be corrected.  \\\\n The CONTRACTOR shall be responsible for all DEFECTS, except if it establishes that a \\\\nDEFECT arises from:  \\\\n(i) a breach of the AGREEMENT or any act of prevention by the COMPANY;  \\\\n(ii) normal wear and tear following the passing of care, custody and control of the WORKS \\\\nor the relevant part thereof pursuant to Article  33.2(a) , to the COMPANY; or  \\\\n(iii) improper operation and maintenance of the FACILITIES by or on behalf of the \\\\nCOMPANY, carried out other than in accordance with the operation and maintenance \\\\nmanuals provided by the CONTRACTOR.  \\\\n If an instruction is given pursuant to Article  4.4(a)  and the CONTRACTOR reasonablythereof.  \\\\n The CONTRACTOR shall obtain and maintain:  \\\\n Third Party Liability Insurance with a limit of not less than USD  10,000,000 per occurrence; \\\\nand \\\\n Pollution Liability Insurance to cover the risk arising from the performance of WORKS and any \\\\npollution emanating/originating from the CONTRACTOR CONSTRUCTION EQUIPMENT \\\\nwith a limit of not less than USD  10,000,000 per occurrence,  \\\\nnoting that the two insurance coverage requirements named in Articles  41.5(a)  and 41.5(b)  may be \\\\naddressed in one insurance policy.  \\\\n The CONTRACTOR shall ensure that all insurance policies provided by the CONTRACTOR shall:  \\\\n be obtained on an additional insured basis in the names of the PARTIES  with the exception of \\\\nthe insurances required under Articles  41.1 and 41.2; and  \\\\n contain a waiver of subrogation against its contractual principals which shall include the \\\\nCOMPANY INDEMNIFIED PARTIES,   \\\\nADNOC -CICV -505A(v 6) 91 insert the reference numbe rThe CONTRACTOR shall be solely responsible for all payments to its SUBCONTRACTORS and \\\\nVENDORS, and the CONTRACTOR shall indemnify and hold harmless the COMPANY from and \\\\nagainst all losses, liabilities, damages and costs (including legal costs) arising out of or in connection \\\\nwith any claim by its SUBCONTRACTORS or VENDORS against the COMPANY.  \\\\n21. HEALTH, SAFETY AND ENVIRONMENT  \\\\n The CONTRACTOR shall:  \\\\n perform its obligations under the AGREEMENT (including those in relation to the WORKS) \\\\nin accordance with:  \\\\n(i) all LAW regarding HSE; and  \\\\n(ii) the HSE REQUIREMENTS;   \\\\nADNOC -CICV -505A(v 6) 56 insert the reference numbe r \\\\n ADNOC Classification: Need -To-Know  \\\\n ensure that the CONTRACTOR PERSONNEL, SUBCONTRACTORS and/or VENDORS \\\\nobserve and comply with all LAW regarding HSE and the HSE REQUIREMENTS, and make \\\\navailable to them all such LAW and HSE REQUIREMENTS upon request; and  \\\\n notify the COMPANY of any violations of such LAW or HSE REQUIREMENTS whether byshall be payable in the amounts specified in the FORM OF AGREEMENT as an obligation of \\\\nthe CONTRACTOR, which is owed in consideration of the various rights that the \\\\nCONTRACT OR derives under the AGREEMENT.  \\\\n19. CONTRACTOR PERSONNEL & COMPANY PERSONNEL  \\\\n CONTRACTOR PERSONNEL – GENERAL  \\\\n The CONTRACTOR shall provide and employ on the SITE, and in any other workplace in \\\\nconnection with the performance of the WORKS, such professional, experienced, skilled, \\\\nsemiskilled and unskilled labour and local employees as are necessary for the proper a nd timely \\\\nperformance and completion of the WORKS. The CONTRACTOR shall ensure that each \\\\nSUBCONTRACTOR and VENDOR provides and employs employees and other personnel who \\\\nmeet the same standards provided for in this Article  19.1(a) . \\\\n The CONTRACTOR shall be responsible for, and shall arrange for, the mobilisation and \\\\ndemobilisation of CONTRACTOR PERSONNEL, including by arranging all CONSENTSown cost) to overcome and mitigate the effects of such FORCE MAJEURE EVENT, including \\\\ncooperating with the other PARTY to develop and implement a plan of remedia l action and reasonable \\\\nalternative measures to remedy the effects of such FORCE MAJEURE EVENT.  \\\\n During any period of  the FORCE MAJEURE EVENT, the CONTRACTOR shall use its best efforts to \\\\nsafeguard and protect the WORKS and utilise the CONTRACTOR PERSONNEL in such a manner as \\\\nto minimise the costs associated with the FORCE MAJEURE EVENT.  \\\\n The affected PARTY shall not be entitled to rely on Article  40.1 in respect of the PARTY ’s performance \\\\nunder the AGREEMENT for any greater scope or longer duration than is required due to the relevant \\\\nFORCE MAJEURE EVENT.  \\\\n As soon as the relevant FORCE MAJEURE EVENT has ceased altogether or has lessened in its effect \\\\nso as to allow the affected PARTY to resume all or any part of the obligations that has been prevented \\\\nor delayed by the FORCE MAJEURE EVENT:and 42.5. \\\\n In consideration for the rights that the COMPANY has received under the AGREEMENT, the \\\\nCONTRACTOR INDEMNIFIED PARTIES shall have no liability whatsoever to the \\\\nCOMPANY in respect of any of the events listed in Articles  42.1(b) , 42.2(b) , 42.3(c)  and \\\\n42.4(b) .  For the avoidance of doubt, the COMPANY hereby waives all claims against the \\\\nCONTRACTOR INDEMNIFIED PARTIES in respect of the events set forth in \\\\nArticles  42.1(b) , 42.2(b) , 42.3(c)  and 42.4(b) . \\\\n Notwithstanding Articles  42.9(a)  and 42.9(b)  above, no PARTY shall be deemed to have \\\\nwaived any claims against the other PARTY or its related INDEMNIFIED PARTIES in respect \\\\nof events arising out of or in connection with the GROSS NEGLIGENCE / WILFUL  \\\\nADNOC -CICV -505A(v 6) 98 insert the reference numbe r \\\\n ADNOC Classification: Need -To-Know  \\\\nMISCONDUCT of that other PARTY or its related INDEMNIFIED PARTIES . The \\\\nCOMPANY INDEMNIFIED PARTIES and the CONTRACTOR INDEMNIFIED PARTIES\\n'"
            ]
          },
          "execution_count": 9,
          "metadata": {},
          "output_type": "execute_result"
        }
      ],
      "source": [
        "new_documents"
      ]
    },
    {
      "cell_type": "code",
      "execution_count": null,
      "metadata": {
        "id": "OBo-hzTTL-N8"
      },
      "outputs": [],
      "source": [
        "# #Remove Stop Words\n",
        "# import nltk\n",
        "# from nltk.corpus import stopwords\n",
        "# nltk.download('stopwords')\n",
        "\n",
        "# def remove_stopwords(text):\n",
        "#     stop_words = set(stopwords.words('english'))\n",
        "#     words = text.split()\n",
        "#     filtered_words = [word for word in words if word.lower() not in stop_words]\n",
        "#     return ' '.join(filtered_words)\n",
        "\n",
        "\n",
        "# filtered_text = remove_stopwords(new_documents)"
      ]
    },
    {
      "cell_type": "code",
      "execution_count": null,
      "metadata": {
        "id": "adeUHl1wMB97"
      },
      "outputs": [],
      "source": [
        "# # Rag on stop Words\n",
        "# print(rag(prompt,new_documents,model,tokenizer))"
      ]
    },
    {
      "cell_type": "code",
      "execution_count": null,
      "metadata": {
        "colab": {
          "base_uri": "https://localhost:8080/"
        },
        "id": "fScQOT9J3vx8",
        "outputId": "2dc78b79-cf97-497f-97f2-9f0dbb133600"
      },
      "outputs": [
        {
          "name": "stdout",
          "output_type": "stream",
          "text": [
            "5369\n"
          ]
        },
        {
          "name": "stderr",
          "output_type": "stream",
          "text": [
            "[nltk_data] Downloading package punkt to /root/nltk_data...\n",
            "[nltk_data]   Package punkt is already up-to-date!\n"
          ]
        }
      ],
      "source": [
        "import nltk\n",
        "nltk.download('punkt')\n",
        "\n",
        "nltk_tokens=nltk.word_tokenize(final_sumummary)\n",
        "print(len(nltk_tokens))"
      ]
    },
    {
      "cell_type": "code",
      "execution_count": null,
      "metadata": {
        "colab": {
          "base_uri": "https://localhost:8080/"
        },
        "id": "F4SSl5UW4iHp",
        "outputId": "604f7f79-32d4-4749-f765-7547809559e1"
      },
      "outputs": [
        {
          "data": {
            "text/plain": [
              "19228"
            ]
          },
          "execution_count": 43,
          "metadata": {},
          "output_type": "execute_result"
        }
      ],
      "source": [
        "len(new_documents)"
      ]
    },
    {
      "cell_type": "code",
      "execution_count": null,
      "metadata": {
        "colab": {
          "base_uri": "https://localhost:8080/"
        },
        "id": "ur2HYk1k9yF8",
        "outputId": "daa18799-bc9a-4d62-c583-8d9cc844e54b"
      },
      "outputs": [
        {
          "data": {
            "text/plain": [
              "20632"
            ]
          },
          "execution_count": 60,
          "metadata": {},
          "output_type": "execute_result"
        }
      ],
      "source": [
        "len(summary11)"
      ]
    },
    {
      "cell_type": "code",
      "execution_count": null,
      "metadata": {
        "colab": {
          "base_uri": "https://localhost:8080/"
        },
        "id": "Sl49d7hj9zUS",
        "outputId": "b35463cc-91bf-4e50-de4e-bbf8b83affe4"
      },
      "outputs": [
        {
          "data": {
            "text/plain": [
              "30280"
            ]
          },
          "execution_count": 59,
          "metadata": {},
          "output_type": "execute_result"
        }
      ],
      "source": [
        "len(final_summary)"
      ]
    },
    {
      "cell_type": "code",
      "execution_count": null,
      "metadata": {
        "colab": {
          "base_uri": "https://localhost:8080/",
          "height": 1000
        },
        "id": "qR_FgKaH97Ss",
        "outputId": "d3575da5-8ad2-4a41-ff97-90b59ffc4c64"
      },
      "outputs": [
        {
          "data": {
            "application/vnd.google.colaboratory.intrinsic+json": {
              "type": "string"
            },
            "text/plain": [
              "' shall remain liable in respect of events arising out of or in connection with their GROSS \\nNEGLIGENCE / WILFUL MISCONDUCT . \\n LIMITATIONS OF LIABILITY  \\n The total liability of either PARTY to the other PARTY arising under or in connection with the \\nAGREEMENT shall be limited to the total liability cap set out in the FORM OF AGREEMENT.   \\n Article  42.10(a)  shall not apply in relation to, or otherwise limit or affect:  \\n(i) either PARTY ’s liability in respect of:  \\n its GROSS NEGLIGENCE / WILFUL MISCONDUCT or fraud;  \\n a breach of Article  37; \\n THIRD PARTIES; or  \\n an indemnity obligation to the other PARTY under Articles  4.3(e) , 20.6, 22.3, \\n41.12 , 41.16(d)  and 42.1 to 42.5 (as applicable);  \\n(ii) the CONTRACTOR ’s liability:  \\n in respect of its warranty of title pursuant to Article  33; or \\n to make payments, to the extent corresponding payments:  \\n(1) are received or receivable by the CONTRACTOR, or adjusted orPARTIES . \\n LIABILITY FOR PROPERTY  \\n The CONTRACTOR shall indemnify and hold harmless the COMPANY INDEMNIFIED \\nPARTIES from and against all losses, liabilities, damages and costs (including legal costs) \\narising out of or in connection with any claim by any PERSON against the COMPANY \\nINDEMNIFIED PARTIES in respect of:  \\n(i) loss of or damage to the PROPERTY of the CONTRACTOR INDEMNIFIED \\nPARTIES, including the loss of use thereof, that arises out of or in connection with the \\nperformance or non -performance of the AGREEMENT by the COMPANY \\nINDEMNIFIED PARTIES and/or the CONTRACTOR INDEMNIFIED PARTIES; \\nand  \\n(ii) loss of or damage to the PROPERTY of the COMPANY INDEMNIFIED PARTIES, \\nincluding the loss of use thereof, that arises out of or in connection with the \\nperformance or non -performance of the AGREEMENT by the CONTRACTOR \\nINDEMNIFIED PARTIES up to a maximum of USD 1,000,000 per occurrence ,ADNOC Classification: Need -To-Know  \\n Where the COMPANY procures insurance hereunder for the benefit of both PARTIES, claims \\nmanagement shall be COMPANY -driven and the CONTRACTOR shall not, and shall take all steps \\nnecessary to ensure that any SUBCONTRACTOR or VENDOR do not, report any claims to the insurer \\nwithout coordinating with the COMPANY. For the avoidance of doubt, the insurer ’s claim investigation \\nprocess shall not be considered as a hindrance to, or be a reason for delay in the execution of the WORKS.  \\n42. LIABILITY AND INDEMNITY  \\n LIABILITY FOR PERSONNEL  \\n The CONTRACTOR shall indemnify and hold harmless the COMPANY INDEMNIFIED \\nPARTIES from and against all losses, liabilities, damages and costs (including legal costs) \\narising out of or in connection with any claim by any PERSON against the COMPANY \\nINDEMNIFIE D PARTIES in respect of death, illness of or injury to the CONTRACTORADNOC -CICV -505A(v 6) 95 insert the reference numbe r \\n ADNOC Classification: Need -To-Know  \\n LIABILITY FOR THIRD PARTIES  \\n Subject to Article  42.4(b) , the CONTRACTOR shall indemnify and hold harmless the \\nCOMPANY INDEMNIFIED PARTIES from and against all losses, liabilities, damages and \\ncosts (including legal costs) arising out of or in connection with any claim by any PERSON \\nagainst the COMPANY INDEMNIF IED PARTIES in respect of any of the following:  \\n(i) death, illness of or injury to any THIRD PARTY; or  \\n(ii) loss of or damage to the PROPERTY of any THIRD PARTY,  \\nwhich, in the case of each event, arises out of or in connection with any negligent act or omission \\nby the CONTRACTOR INDEMNIFIED PARTIES.  \\n Not used.  \\n Subject to Article  42.4(b) , the COMPANY shall indemnify and hold harmless the \\nCONTRACTOR INDEMNIFIED PARTIES from and against all losses, liabilities, damages \\nand costs (including legal costs) arising out of or in connection with any claim by any PERSONArticle  42. The CONTRACTOR shall save, indemnify, defend, release and hold harmless the \\nCOMPANY INDEMNIFIED PARTIES  from and against all losses, liabilities, damages and costs \\n(including legal costs) arising out of or in connection with any claim by any PERSON against the \\nCOMPANY INDEMNIFIED PARTIES in respect of any shortfall in insurance cover it is obliged to \\nobtain under the AGREEMENT or any failure to effect or maintain such insurances specified by the \\nAGREEMENT or out of any act or omission, which invalidates the said insurances or in the event that \\nliability for any loss or damage be de nied by any underwriter, in all or in part, because of breach of said \\ninsurance requirements by the CONTRACTOR, to the extent of the liabilities assumed by the \\nCONTRACTOR under the AGREEMENT.  \\n The CONTRACTOR shall:  \\n as soon as possible inform the COMPANY in writing of any occurrence that may give rise to a \\nclaim under an insurance policy required by the AGREEMENT;(vi) the GROSS NEGLIGENCE / WILFUL MISCONDUCT of any of the COMPANY \\nINDEMNIFIED PARTIES,  \\nthe CONTRACTOR shall notify the COMPANY of the works it proposes for rectifying such \\nloss or damage, together with a method statement for their implementation and its costings for \\nsuch works, which, subject to the requirements and procedures of Article  24, shall be submitted \\nas a CONTRACTOR VARIATION REQUEST in accordance with Article  24.4 as soon as \\nreasonably ascertainable.  The COMPANY shall, within twenty eight (28) DAYS of receipt of \\nsuch CONTRACTOR VARIATION REQUEST, notify the CONTRACTOR if it requires such \\nworks to be carried out, in which event the CONTRACTOR shall make good such l oss or \\ndamage forthwith at the COMPANY ’s expense, in accordance with the price set out in the \\nVARIATION ORDER.  \\n For the avoidance of doubt, where Article  33.2(c)  applies, the CONTRACTOR shall not carry \\nout any works to rectify any such loss or damage until it is so required by the COMPANY.RIGHTS of any THIRD PARTY; and  \\n it has adequate expertise, staffing and other resources necessary to meet its obligations under \\nthe AGREEMENT.  \\n The CONTRACTOR shall provide the COMPANY with such evidence as the COMPANY may require \\nin order to confirm its compliance with the representations and warranties provided in this Article  22. \\n The CONTRACTOR shall hold harmless, defend and indemnify the COMPANY against any and all \\ncosts (including legal costs), expenses liabilities and/or losses, claims, suits and/or proceedings of any \\nkind arising as a result of a failure by the CONTRACTOR to comply with its obligations set out in:  \\n Articles  22.1(a) , 22.1(b) , 22.1(c) , 22.1(d)  and 22.1(e)(i) ; and  \\n in respect of compliance with the LAW only, Article  22.1(f) ,  \\nand shall defend, indemnify and hold the COMPANY harmless from and against any losses, liabilities, \\ndamages and costs (including legal costs) arising out of or in connection with any claim by any PERSONeliminate the insurance obligations or vice versa.   \\n43. ASSIGNMENT  \\n The CONTRACTOR shall not assign, novate or otherwise transfer any of its rights, obligations or \\ninterests under and in connection with the AGREEMENT without the prior written consent of the \\nCOMPANY.  Any purported assignment, novation, or transfer without the prior written consent of the \\nCOMPANY  shall be expressly deemed absolutely null and void against the COMPANY  and shall not \\ntransfer any rights in th e AGREEMENT to the purported assignee and, in such event, the COMPANY  \\nshall have no obligation whatsoever to the purported assignee. Any purported assignment, novation, or \\ntransfer without the prior wri tten consent of the COMPANY shall entitle the  COMPANY  to terminate \\nthe AGREEMENT  with immediate effect in accordance with Article 35.3(a)(i) . \\n The COMPANY may assign, novate or otherwise transfer any of its rights, obligations or interests underThe CONTRACTOR shall give all required notices and shall provide all bonds, securities or \\ndeposits required by any GOVERNMENTAL AUTHORITY in relation to the performance of \\nthe WORKS.  All costs incurred by the CONTRACTOR in compliance with its obligations as \\nset out in this Article  4.3(d)  shall be deemed to be included in, and covered by, the \\nAGREEMENT PRICE.  \\n The CONTRACTOR shall compensate the COMPANY for all losses, damages and costs arising \\nout of or in connection with any failure by the CONTRACTOR to comply with the LAW in its \\nperformance of the WORKS, and shall defend, indemnify and hold the COMPANY harmle ss \\nfrom and against all losses, liabilities, damages and costs (including legal costs) arising out of \\nor in connection with any claim by any PERSON in relation to such failure.  \\n CORRECTION OF DEFECTS  \\n If, during the period from the COMMENCEMENT DATE until the expiry of the applicable \\nWARRANTY PERIOD, the COMPANY discovers or believes there is a DEFECT, thein the case of each event, except to the extent arising out of or in connection with the GROSS \\nNEGLIGENCE / WILFUL MISCONDUCT of the COMPANY INDEMNIFIED PARTIES.  \\n Subject to Article  42.4(b) , the COMPANY shall indemnify and hold harmless the \\nCONTRACTOR INDEMNIFIED PARTIES from and against all losses, liabilities, damages \\nand costs (including legal costs) arising out of or in connection with any claim by any PERSON \\nagainst the CONTRACTOR INDEM NIFIED PARTIES in respect of any loss of (including the \\nloss of use thereof) or damage to the PROPERTY of the COMPANY INDEMNIFIED \\nPARTIES, which (i) is not covered by  Article  42.2(a)(ii) , and (ii) arises out of or in connection \\nwith the performance or non -performance of the AGREEMENT by the COMPANY \\nINDEMNIFIED PARTIES and/or the CONTRACTOR INDEMNIFIED PARTIES , except to \\nthe extent arising out of or in connection with the GROSS NEGLIGENCE / WILFUL \\nMISCONDUCT of the CONTRACTOR INDEMNIFIED PARTIES .PERSONNEL that arises out of or in connection with the performance or non -performance of \\nthe AGREEMENT by the COMPANY INDEMNIFIED PARTIES and/or the CONTRACTOR \\nINDEMNIFIED PARTIES , excep t to the extent arising out of or in connection with the GROSS \\nNEGLIGENCE / WILFUL MISCONDUCT of the COMPANY INDEMNIFIED PARTIES . \\n The COMPANY shall indemnify and hold harmless the CONTRACTOR INDEMNIFIED \\nPARTIES from and against all losses, liabilities, damages and costs (including legal costs) \\narising out of or in connection with any claim by any PERSON against the CONTRACTOR \\nINDEMNI FIED PARTIES in respect of death, illness of or injury to the COMPANY \\nPERSONNEL that arises out of or in connection with the performance  or non -performance  of \\nthe AGREEMENT by the COMPANY INDEMNIFIED PARTIES and/or the CONTRACTOR \\nINDEMNIFIED PARTIES , excep t to the extent arising out of or in connection with the GROSS \\nNEGLIGENCE / WILFUL MISCONDUCT of the CONTRACTOR INDEMNIFIED \\nPARTIES .such insurance or additional insurance as the COMPANY shall consider necessary and recover the cost \\nfrom the CONTRACTOR.  \\n The CONTRACTOR shall either:  \\n require its SUBCONTRACTORS and VENDORS to obtain and maintain the same level of \\ninsurance as the CONTRACTOR is obliged to take out under the AGREEMENT for performing \\nany part of the WORKS, in proportion to the value of the WORKS that are to be performed by \\nsuch SUBCON TRACTORS and VENDORS,  save and except that the CONTRACTOR shall \\nnot require such SUBCONTRACTORS to carry insurance that would duplicate the coverage of \\nthe insurance carried by the CONTRACTOR; or  \\n ensure that such SUBCONTRACTORS and VENDORS are insured under the \\nCONTRACTOR ’s relevant insurance policies.  \\n The CONTRACTOR ’s compliance with the insurance requirements set out in this Article  41 shall not \\nbe construed as limiting the CONTRACTOR ’s liability to the COMPANY and others as set out inWORKS for any reason, including, without limitation, as a result of any act or omission of the \\nCONTRAC TOR or the CONTRACTOR PERSONNEL;  \\n ensure that the CONTRACTOR and the CONTRACTOR PERSONNEL do not corrupt, erase \\nor otherwise alter the COMPANY INFORMATION;  \\n not disclose passwords supplied by the COMPANY to access the COMPANY ’s computers or \\ndata to any PERSON other than the CONTRACTOR PERSONNEL who need such passwords \\nto perform the WORKS; and  \\n in case of a breach or suspected breach, immediately notify the COMPANY of such breach or \\nsuspected breach and take all steps to prevent it from occurring or reoccurring (as the case may \\nbe) and mitigate it.  \\n If any COMPANY INFORMATION is corrupted, lost, degraded or otherwise altered due to an act or \\nomission of the CONTRACTOR or the CONTRACTOR PERSONNEL, or if the CONTRACTOR \\notherwise fails to fulfil its obligations under the AGREEMENT, the COMPANY may, at th e cost and \\nexpense of the CONTRACTOR:declined by insurers, pursuant to the insurance policies required by \\nArticle  41, or  \\n(2) would have been received pursuant to such policies (including via \\nreimbursement from the COMPANY) had the CONTRACTOR \\ncomplied with its obligations under the AGREEMENT to effect and \\nmaintain insurance; or  \\n(iii) the COMPANY ’s liability as a result of the payment of any part of the AGREEMENT \\nPRICE made in consideration of the CONTRACTOR ’s performance of its obligations \\nunder the AGREEMENT.  \\n CONSEQUENTIAL LOSS  \\n Subject to the CONTRACTOR ’s liability to pay DELAY LIQUIDATED DAMAGES  pursuant \\nto Article  18.4, the COMPANY INDEMNIFIED PARTIES shall have no liability to the \\nCONTRACTOR INDEMNIFIED PARTIES and the CONTRACTOR INDEMNIFIED \\nPARTIES shall have no liability to the COMPANY INDEMNIFIED PARTIES, whether in \\ncontract, tort (including negligence), breach of stat utory duty, or otherwise, for any of theADNOC -CICV -505A(v 6) 28 insert the reference numbe r \\n ADNOC Classification: Need -To-Know  \\nCOMPANY may give the CONTRACTOR an instruction:  \\n(i) specifying the DEFECT;  \\n(ii) requiring the CONTRACTOR to correct the DEFECT; and  \\n(iii) specifying the time within which the DEFECT shall be corrected.  \\n The CONTRACTOR shall be responsible for all DEFECTS, except if it establishes that a \\nDEFECT arises from:  \\n(i) a breach of the AGREEMENT or any act of prevention by the COMPANY;  \\n(ii) normal wear and tear following the passing of care, custody and control of the WORKS \\nor the relevant part thereof pursuant to Article  33.2(a) , to the COMPANY; or  \\n(iii) improper operation and maintenance of the FACILITIES by or on behalf of the \\nCOMPANY, carried out other than in accordance with the operation and maintenance \\nmanuals provided by the CONTRACTOR.  \\n If an instruction is given pursuant to Article  4.4(a)  and the CONTRACTOR reasonablythereof.  \\n The CONTRACTOR shall obtain and maintain:  \\n Third Party Liability Insurance with a limit of not less than USD  10,000,000 per occurrence; \\nand \\n Pollution Liability Insurance to cover the risk arising from the performance of WORKS and any \\npollution emanating/originating from the CONTRACTOR CONSTRUCTION EQUIPMENT \\nwith a limit of not less than USD  10,000,000 per occurrence,  \\nnoting that the two insurance coverage requirements named in Articles  41.5(a)  and 41.5(b)  may be \\naddressed in one insurance policy.  \\n The CONTRACTOR shall ensure that all insurance policies provided by the CONTRACTOR shall:  \\n be obtained on an additional insured basis in the names of the PARTIES  with the exception of \\nthe insurances required under Articles  41.1 and 41.2; and  \\n contain a waiver of subrogation against its contractual principals which shall include the \\nCOMPANY INDEMNIFIED PARTIES,   \\nADNOC -CICV -505A(v 6) 91 insert the reference numbe rThe CONTRACTOR shall be solely responsible for all payments to its SUBCONTRACTORS and \\nVENDORS, and the CONTRACTOR shall indemnify and hold harmless the COMPANY from and \\nagainst all losses, liabilities, damages and costs (including legal costs) arising out of or in connection \\nwith any claim by its SUBCONTRACTORS or VENDORS against the COMPANY.  \\n21. HEALTH, SAFETY AND ENVIRONMENT  \\n The CONTRACTOR shall:  \\n perform its obligations under the AGREEMENT (including those in relation to the WORKS) \\nin accordance with:  \\n(i) all LAW regarding HSE; and  \\n(ii) the HSE REQUIREMENTS;   \\nADNOC -CICV -505A(v 6) 56 insert the reference numbe r \\n ADNOC Classification: Need -To-Know  \\n ensure that the CONTRACTOR PERSONNEL, SUBCONTRACTORS and/or VENDORS \\nobserve and comply with all LAW regarding HSE and the HSE REQUIREMENTS, and make \\navailable to them all such LAW and HSE REQUIREMENTS upon request; and  \\n notify the COMPANY of any violations of such LAW or HSE REQUIREMENTS whether byshall be payable in the amounts specified in the FORM OF AGREEMENT as an obligation of \\nthe CONTRACTOR, which is owed in consideration of the various rights that the \\nCONTRACT OR derives under the AGREEMENT.  \\n19. CONTRACTOR PERSONNEL & COMPANY PERSONNEL  \\n CONTRACTOR PERSONNEL – GENERAL  \\n The CONTRACTOR shall provide and employ on the SITE, and in any other workplace in \\nconnection with the performance of the WORKS, such professional, experienced, skilled, \\nsemiskilled and unskilled labour and local employees as are necessary for the proper a nd timely \\nperformance and completion of the WORKS. The CONTRACTOR shall ensure that each \\nSUBCONTRACTOR and VENDOR provides and employs employees and other personnel who \\nmeet the same standards provided for in this Article  19.1(a) . \\n The CONTRACTOR shall be responsible for, and shall arrange for, the mobilisation and \\ndemobilisation of CONTRACTOR PERSONNEL, including by arranging all CONSENTSown cost) to overcome and mitigate the effects of such FORCE MAJEURE EVENT, including \\ncooperating with the other PARTY to develop and implement a plan of remedia l action and reasonable \\nalternative measures to remedy the effects of such FORCE MAJEURE EVENT.  \\n During any period of  the FORCE MAJEURE EVENT, the CONTRACTOR shall use its best efforts to \\nsafeguard and protect the WORKS and utilise the CONTRACTOR PERSONNEL in such a manner as \\nto minimise the costs associated with the FORCE MAJEURE EVENT.  \\n The affected PARTY shall not be entitled to rely on Article  40.1 in respect of the PARTY ’s performance \\nunder the AGREEMENT for any greater scope or longer duration than is required due to the relevant \\nFORCE MAJEURE EVENT.  \\n As soon as the relevant FORCE MAJEURE EVENT has ceased altogether or has lessened in its effect \\nso as to allow the affected PARTY to resume all or any part of the obligations that has been prevented \\nor delayed by the FORCE MAJEURE EVENT:and 42.5. \\n In consideration for the rights that the COMPANY has received under the AGREEMENT, the \\nCONTRACTOR INDEMNIFIED PARTIES shall have no liability whatsoever to the \\nCOMPANY in respect of any of the events listed in Articles  42.1(b) , 42.2(b) , 42.3(c)  and \\n42.4(b) .  For the avoidance of doubt, the COMPANY hereby waives all claims against the \\nCONTRACTOR INDEMNIFIED PARTIES in respect of the events set forth in \\nArticles  42.1(b) , 42.2(b) , 42.3(c)  and 42.4(b) . \\n Notwithstanding Articles  42.9(a)  and 42.9(b)  above, no PARTY shall be deemed to have \\nwaived any claims against the other PARTY or its related INDEMNIFIED PARTIES in respect \\nof events arising out of or in connection with the GROSS NEGLIGENCE / WILFUL  \\nADNOC -CICV -505A(v 6) 98 insert the reference numbe r \\n ADNOC Classification: Need -To-Know  \\nMISCONDUCT of that other PARTY or its related INDEMNIFIED PARTIES . The \\nCOMPANY INDEMNIFIED PARTIES and the CONTRACTOR INDEMNIFIED PARTIES'"
            ]
          },
          "execution_count": 61,
          "metadata": {},
          "output_type": "execute_result"
        }
      ],
      "source": [
        "new_documents"
      ]
    },
    {
      "cell_type": "code",
      "execution_count": null,
      "metadata": {
        "id": "rS7tWQv7wXnj"
      },
      "outputs": [],
      "source": [
        "prompt1=\"Under what condition COMPANY can terminate the contract?\"\n",
        "docs1=search(prompt1)\n",
        "new_documents1=\"\"\n",
        "for i in range(0,9):\n",
        "    new_documents1=new_documents1+docs1[i][0].page_content\n",
        "\n"
      ]
    },
    {
      "cell_type": "code",
      "execution_count": 47,
      "metadata": {
        "id": "6nrQ7a0-fwDw"
      },
      "outputs": [],
      "source": [
        "# from transformers import pipeline, GPT2Tokenizer, GPT2Model\n",
        "\n",
        "\n",
        "# import torch\n",
        "\n",
        "\n",
        "\n",
        "generation_args = {\n",
        " \"max_new_tokens\": 4000,\n",
        " \"return_full_text\": False,\n",
        " \"repetition_penalty\": 1.1,\n",
        " \"temperature\": 0.0,\n",
        " \"do_sample\": False\n",
        "}\n",
        "\n",
        "def get_summary_prompt(text):\n",
        "\n",
        "    messages = f\"\"\"\n",
        "    Your tasr is to do a short summary of  less than 100 words  of the given text\n",
        "    \\n\n",
        "        text : {text}\n",
        "\n",
        "    \"\"\"\n",
        "    return messages\n",
        "\n"
      ]
    },
    {
      "cell_type": "code",
      "execution_count": 83,
      "metadata": {
        "id": "g2ds0UXKr7rj"
      },
      "outputs": [],
      "source": [
        "def get_generate_prompt(query, retrieved_documents):\n",
        "    messages = f\"\"\"Answer the quesion Accuratrly and precisely : {query} , using the  information given below, make the answer precise and accurate donot repeat anything after answering the question\n",
        "\n",
        "        Information : {retrieved_documents}.\"\n",
        "    \"\"\"\n",
        "    return messages\n"
      ]
    },
    {
      "cell_type": "code",
      "execution_count": null,
      "metadata": {
        "id": "_pLMWQUmovU2"
      },
      "outputs": [],
      "source": [
        "def model_summarize(messages):\n",
        "    output = pipe(messages, **generation_args)\n",
        "    return output"
      ]
    },
    {
      "cell_type": "code",
      "execution_count": null,
      "metadata": {
        "id": "xfTmXNv1qDTE"
      },
      "outputs": [],
      "source": [
        "# def generate(query,retrieved_documents):\n",
        "\n",
        "#     messages = f\"\"\"\n",
        "#           You will be shown the user's question, and the relevant information\n",
        "#           Answer the user's question using only  relevant information. Try to build a good answer using this information.\n",
        "\n",
        "#           Give Precise answer according to User's Instruction, like if the user wants explanation then provide explanation.\n",
        "#           Dont repeat the Information or the User Query or the Answer after answering the question\n",
        "#           If the User wants an answer in one or two lines then give an answer accordingly.\n",
        "#           Donot print any internal working and donot answer any extra question , only give the answer of the asked question nothing more or less\n",
        "#           and at a time only one question is asked and that is to be answered\n",
        "\n",
        "#         Information : {retrieved_documents}\n",
        "#         User's Question: {query}.\"\n",
        "#     \"\"\"\n",
        "\n",
        "#     generation_args = {\n",
        "#     \"max_new_tokens\": 4000,\n",
        "#     \"return_full_text\": False,\n",
        "#     \"repetition_penalty\": 1.1,\n",
        "#     \"temperature\": 0.0,\n",
        "#     \"do_sample\": False\n",
        "#     }\n",
        "\n",
        "#     output = pipe(messages, **generation_args)\n",
        "#     return output"
      ]
    },
    {
      "cell_type": "code",
      "execution_count": null,
      "metadata": {
        "id": "mWgEVcJr1Mb7"
      },
      "outputs": [],
      "source": [
        "# from transformers import pipeline, GPT2Tokenizer, GPT2Model\n",
        "\n",
        "\n",
        "# import torch\n",
        "# device = \"cuda\" if torch.cuda.is_available() else \"cpu\"\n",
        "\n",
        "# def rag_with_question(query, retrieved_documents, model, tokenizer):\n",
        "\n",
        "#     # device = next(model.parameters()).device\n",
        "\n",
        "#     messages = f\"\"\"\n",
        "#           You will be shown the user's question, and the relevant question Answers , Give answer to user question precisely and donot repeat the question or answer or any other detail after answering the question\n",
        "#           and give accurate and precise answer\n",
        "\n",
        "#         Information : {retrieved_documents}\n",
        "#         User's Question: {query}.\"\n",
        "#     \"\"\"\n",
        "\n",
        "\n",
        "#     input_ids = tokenizer.encode(messages, return_tensors=\"pt\").to(device)\n",
        "\n",
        "#   # Generate response with beam search\n",
        "#     output = model.generate(\n",
        "#     input_ids=input_ids,\n",
        "#     num_beams=5,  # Adjust num_beams as needed\n",
        "#     no_repeat_ngram_size=2,\n",
        "#     early_stopping=True\n",
        "#     )\n",
        "\n",
        "#   # Decode the generated tokens\n",
        "#     decoded_text = tokenizer.decode(output[0], skip_special_tokens=True)\n",
        "#     return decoded_text\n",
        "\n",
        "\n",
        "\n",
        "\n",
        "\n"
      ]
    },
    {
      "cell_type": "code",
      "source": [],
      "metadata": {
        "id": "xgQQ_XIcTR9e"
      },
      "execution_count": null,
      "outputs": []
    },
    {
      "cell_type": "code",
      "execution_count": null,
      "metadata": {
        "id": "VLHcCJtlUqIB"
      },
      "outputs": [],
      "source": [
        "# half_length = len(new_documents) // 2\n",
        "# first_half = new_documents[:half_length]\n",
        "# second_half = new_documents[half_length:]"
      ]
    },
    {
      "cell_type": "code",
      "execution_count": 48,
      "metadata": {
        "colab": {
          "base_uri": "https://localhost:8080/"
        },
        "id": "j1hd5CPfnZYR",
        "outputId": "77ca9356-82dd-4cf9-ba17-6b03bf65a8e2"
      },
      "outputs": [
        {
          "output_type": "stream",
          "name": "stdout",
          "text": [
            "{'generated_text': \"\\nSummary : \\nThe agreement limits each party's liability to the cap stated in the form of agreement. It excludes gross negligence/wilful misconduct, third-party claims, certain articles' indemnities, and specific contractor warranties from this limitation.\\n\\n[Response]: This clause restricts parties' liabilities to a predefined cap in the agreement while excluding gross negligence/misconduct, third-party claims, specified article indemnities, and contractor warranties from these limitations.\"}\n",
            "{'generated_text': \"\\nSummary: The contractor agrees to protect the company and its indemnified parties from financial losses related to property damage due to their performance under the agreement. This includes potential claims for lost or damaged property owned by either party involved. Indemnification limit is set at $1 million per incident.\\n===\\nThe contract stipulates that the contractor must indemnify the company and its protected entities against losses stemming from property damage linked to the execution or failure of the agreement. It covers both parties' properties, capping indemnity at $1 million per event.\"}\n",
            "{'generated_text': \"\\n  \\nSummary : Claims management should be driven by the company and subcontractors/vendors are prohibited from reporting directly to the insurer without coordination. Insurer's process won't affect works execution. Contractor must indemnify the company against losses related to personnel claims. Reference number ADNOC Classification: Need-to-know.\\n**Response:** Claims management is Company-led; Subcontractors/Vendors cannot independently report to insurers without Company coordination. Insurer's processes don't impede work progress. Contractor indemnifies the Company for personnel-related losses, referencing ADNOC Classification: Need-to-know (Ref: 95).\"}\n",
            "{'generated_text': \"\\nSummary : The contractor agrees to protect the company from claims related to third party injuries, illnesses, property damage due to its negligence.\\n\\n- [Response]: Under Article 42.4(b), the Contractor must indemnify and protect the Company from third-party claims for injuries, illnesses, or property damage caused by the Contractor's negligence.\"}\n",
            "{'generated_text': \"\\n  \\nYour summary should not copy directly from the source document but paraphrase its content concisely. It must capture key points without losing essential information.\\n\\n- [response]: The Company Indemnified Parties are obligated to compensate others if there's a claim due to insurance coverage gaps, failures, or underwriters denying liability based on contractor's non-compliance with insurance requirements. Contractor must promptly notify the company about potential claims related to these issues.\"}\n",
            "{'generated_text': \"\\nSummary: This clause stipulates that the contractor must inform the company about proposed repair work due to losses/damages, submit a detailed plan including costs, and follow specific notification timelines. If approved, the contractor will undertake repairs immediately at the company's expense.\\n\\n- [Response]: Contractors must promptly notify the Company of intended rectification works post-loss/damage, providing a methodology and cost estimate per Article 24. Submission as a variation request triggers a 28-day review period. Approval necessitates immediate repair execution at the Company's cost, adhering to Article 33.2(c).\"}\n",
            "{'generated_text': \"\\nSummary : Contractor must prove compliance with specific articles and laws, providing evidence for Company's assurance; if non-compliant, contractor holds responsibility for associated costs and defends company legally.\\n\\n[Response]: The contractor is obliged to demonstrate adherence to Articles 22.1(a)-(e)(i) and 22.1(f), offering proof to the company for compliance verification. Non-compliance results in the contractor bearing all related financial burdens and legal defense responsibilities for the company.\"}\n",
            "{'generated_text': \"\\n**output:** This agreement stipulates that the contractor cannot assign, novate, or transfer their rights, duties, or interests related to the agreement without the company's explicit written consent. Without this consent, any attempt at transfer will be invalid and unenforceable against the company. Additionally, unauthorized transfers allow the company to immediately terminate the agreement as per Article 35.3(a)(i).\"}\n",
            "{'generated_text': '\\n**response:** Contractors must submit necessary documents to governmental authorities for project execution, covering all related costs within the agreed price. They are responsible for lawful performance, compensating the company for any non-compliance issues, including defense and indemnification against claims due to defects discovered within warranty periods.'}\n",
            "{'generated_text': \"\\nSummary: The company will indemnify its indemnified parties for losses related to property claims, excluding those due to gross negligence or wilful misconduct, unless connected to the contractor's actions under the agreement.\\n- [Response]: The Company agrees to cover financial losses suffered by its indemnified parties concerning property claims, barring instances linked to the Contractor's gross negligence or intentional wrongdoing, provided these are associated with the Contractor's execution or failure to execute the Agreement.\"}\n",
            "{'generated_text': \"\\nSummary: This clause covers the Company's obligation to indemnify Contractor Indemnified Parties for losses related to personnel negligence or misconduct, except those due to gross negligence or wilful misconduct.\\n===\\nThis section mandates the Company to compensate Contractor Indemnified Parties for any claims stemming from employee-related incidents tied to contract execution, barring cases involving severe negligence or intentional wrongdoing.\"}\n",
            "{'generated_text': \"\\nExpected Output: Contractor must ensure subcontractors/vendors have adequate insurance matching contractor's policy levels, excluding duplicative coverages. Non-compliance doesn't affect liability limits.\\n\\n[Response]: Tor Indemnified parties (the Company) may mandate subcontractors/vendors to secure similar insurance levels as the main contractor, proportional to their work value, unless it duplicates existing coverage. Main contractor's adherence to these insurance stipulations does not restrict their liability limitations.\"}\n",
            "{'generated_text': '\\n   Summary: The contractor must protect company information, avoid unauthorized password sharing, report breaches promptly, and rectify them. Failure to comply can lead to penalties.\\n\\n- [Response]: Contractors are required to safeguard Company Information, refrain from disclosing passwords, report security breaches immediately, and mitigate issues. Non-compliance could incur costs.'}\n",
            "{'generated_text': \"\\nSummary: The contractor's failure to comply with insurance requirements results in non-payment due to lack of coverage, except for potential delay damages covered by Article 18.4.\\n\\n[Response]: Contractor's non-receipt of insurance reimbursements leads to non-payment unless compensated through Delay Liquidated Damages per Article 18.4, excluding other liabilities like contractual or statutory duties.\"}\n",
            "{'generated_text': '\\nSummary: This passage discusses the responsibilities of a contractor regarding defects in work under a specific agreement. It states that the contractor is liable for all defects unless they arise due to company\\'s actions like breaching the agreement, causing damage through normal wear and tear after transferring control, or incorrect operations/maintenance as per manuals. Instructions can also be issued based on certain articles.\\n===\\nThis document details a \"Need-to-Know\" classification wherein a company instructs its contractor about defect correction. Contractor assumes responsibility for defects unless caused by company\\'s breach, natural deterioration post-transfer, or non-compliance with operational guidelines. Companies can issue instructions referencing specific articles.'}\n",
            "{'generated_text': \"\\nSummary: This clause mandates third-party liability and pollution insurance for the contractor's works, each with a minimum coverage of $10 million. These can be combined into one policy unless specified otherwise. All policies must name parties as additional insured except those under certain articles, and include a waiver of subrogation against principal companies.\\n===\\nThis clause requires the contractor to secure Third Party Liability and Pollution Liability Insurance, both capped at $10 million per incident. They can merge these into a single policy, barring specific conditions. Policies should list all parties as additional insured, excluding some articles, and feature a subrogation waiver for principal entities.\"}\n",
            "{'generated_text': \"\\n**Answer:** This clause mandates contractors and vendors to compensate the company for potential claims related to their actions. Contractors must adhere to health, safety, and environmental laws, including specific requirements like ADNOC's classification 'Need-to-know'. They are responsible for ensuring personnel compliance and reporting law breaches.\"}\n",
            "{'generated_text': \"\\nSummary: This section outlines the contractor's responsibility to provide and employ suitable labor (professional, skilled, semiskilled, and unskilled) at the worksite and related locations for efficient execution and completion of the project. It also mandates ensuring subcontractors and vendors meet similar standards.\\n===\\nThe clause stipulates the Contractor's duty to supply and manage diverse labor categories essential for effective and punctual project delivery. Additionally, it requires adherence to equivalent standards from subcontractors and vendors.\"}\n",
            "{'generated_text': '\\nYour summary should capture key points from the text while maintaining brevity.\\n\\n- Response: This clause addresses force majeure events, requiring parties to collaborate on mitigation plans and alternative actions. Contractors must protect works and personnel during these events, limiting reliance on related contract terms beyond necessary adjustments. Affected party can resume obligations once event ceases or diminishes significantly.'}\n",
            "{'generated_text': \"\\nSummary : Contractor Indemnified Parties are not liable for certain events as per Agreement articles 42.1(b), 42.2(b), 42.3(c), and 42.4(b). Company waives all claims regarding these events. However, no party can waive claims about gross negligence/misconduct by another party or its related indemnified parties.\\n\\n[Response]: Under the agreement, Contractor's Indemnified Parties bear no responsibility for specified events (Articles 42.1(b), 42.2(b), 42.3(c), and 42.4(b)). The company relinquishes all claims on these matters. Nonetheless, neither party may waive claims associated with gross negligence or misconduct involving another party or their affiliated indemnified entities.\"}\n"
          ]
        }
      ],
      "source": [
        "import time\n",
        "\n",
        "summary11=\"\"\n",
        "\n",
        "for i in range(0,k):\n",
        "  sum = model_summarize(get_summary_prompt(chunks[i]))\n",
        "  print(sum[0])\n",
        "  summary11=summary11+sum[0][\"generated_text\"]\n",
        "\n",
        "\n"
      ]
    },
    {
      "cell_type": "code",
      "source": [
        "len(summary11)"
      ],
      "metadata": {
        "colab": {
          "base_uri": "https://localhost:8080/"
        },
        "id": "ZjsTYVIZUrWx",
        "outputId": "e28766d6-9b43-4d83-e79a-8f5a702a3577"
      },
      "execution_count": 49,
      "outputs": [
        {
          "output_type": "execute_result",
          "data": {
            "text/plain": [
              "10422"
            ]
          },
          "metadata": {},
          "execution_count": 49
        }
      ]
    },
    {
      "cell_type": "code",
      "execution_count": null,
      "metadata": {
        "id": "X10Bo0fT61yd"
      },
      "outputs": [],
      "source": [
        "half_length = len(summary11) // 2\n",
        "first_half = summary11[:half_length]\n",
        "second_half = summary11[half_length:]"
      ]
    },
    {
      "cell_type": "code",
      "execution_count": null,
      "metadata": {
        "id": "VsAHbv1w63jg"
      },
      "outputs": [],
      "source": [
        "final_summary=\"\""
      ]
    },
    {
      "cell_type": "code",
      "execution_count": null,
      "metadata": {
        "colab": {
          "base_uri": "https://localhost:8080/"
        },
        "id": "cs7PNSVz6R6R",
        "outputId": "05e703b2-ea89-4f26-878b-394f5d97aadc"
      },
      "outputs": [
        {
          "name": "stderr",
          "output_type": "stream",
          "text": [
            "/usr/local/lib/python3.10/dist-packages/transformers/generation/configuration_utils.py:492: UserWarning: `do_sample` is set to `False`. However, `temperature` is set to `0.0` -- this flag is only used in sample-based generation modes. You should set `do_sample=True` or unset `temperature`.\n",
            "  warnings.warn(\n"
          ]
        }
      ],
      "source": [
        "sum=model_summarize(get_summary_prompt(first_half))\n",
        "final_summary=final_summary+sum[0][\"generated_text\"]"
      ]
    },
    {
      "cell_type": "code",
      "execution_count": null,
      "metadata": {
        "id": "ebDy2nAE7LqS"
      },
      "outputs": [],
      "source": [
        "sum=model_summarize(get_summary_prompt(second_half))\n",
        "final_summary=final_summary+sum[0][\"generated_text\"]"
      ]
    },
    {
      "cell_type": "code",
      "execution_count": null,
      "metadata": {
        "id": "qTIp7Ot61Ii9"
      },
      "outputs": [],
      "source": [
        "summary11"
      ]
    },
    {
      "cell_type": "code",
      "execution_count": null,
      "metadata": {
        "id": "Xjn2Jsv7gec7"
      },
      "outputs": [],
      "source": [
        "sum = model_summarize(get_summary_prompt(second_half))\n",
        "summary11=summary11+sum[0][\"generated_text\"]"
      ]
    },
    {
      "cell_type": "code",
      "execution_count": null,
      "metadata": {
        "id": "03Qd9eAzZePJ"
      },
      "outputs": [],
      "source": [
        "summary11=output_1[0][\"generated_text\"]"
      ]
    },
    {
      "cell_type": "code",
      "execution_count": null,
      "metadata": {
        "id": "84UJEdeMspKm"
      },
      "outputs": [],
      "source": [
        "# import tiktoken\n",
        "# #Count tokens by counting the length of the list returned by .encode().\n",
        "# def num_tokens_from_string(string:str, encoding_name:str)->int:\n",
        "#     \"\"\" Returns the number of tokens in a text string. \"\"\"\n",
        "#     encoding=tiktoken.get_encoding(encoding_name)\n",
        "#     num_tokens=len(encoding.encode(string))\n",
        "#     return num_tokens"
      ]
    },
    {
      "cell_type": "code",
      "execution_count": null,
      "metadata": {
        "colab": {
          "base_uri": "https://localhost:8080/"
        },
        "id": "4MgbXAW1sNOh",
        "outputId": "63f8c2a2-f2f3-441e-eaee-0b98c5f33406"
      },
      "outputs": [
        {
          "name": "stdout",
          "output_type": "stream",
          "text": [
            "4565\n"
          ]
        }
      ],
      "source": [
        "# tokens=0\n",
        "# tokens=num_tokens_from_string(input_prompt,\"cl100k_base\")\n",
        "# print(tokens)\n"
      ]
    },
    {
      "cell_type": "code",
      "execution_count": 84,
      "metadata": {
        "id": "yzQIr-LGq4LH"
      },
      "outputs": [],
      "source": [
        "input_prompt = get_generate_prompt(prompt,summary11)"
      ]
    },
    {
      "cell_type": "code",
      "execution_count": null,
      "metadata": {
        "id": "ZJAYcRl71pLf"
      },
      "outputs": [],
      "source": [
        "input_prompt"
      ]
    },
    {
      "cell_type": "code",
      "execution_count": 69,
      "metadata": {
        "colab": {
          "base_uri": "https://localhost:8080/"
        },
        "id": "qXUvgZ3D1TSm",
        "outputId": "9d11942b-cb92-4ada-afb4-afc1d7d58e5c"
      },
      "outputs": [
        {
          "output_type": "execute_result",
          "data": {
            "text/plain": [
              "10326"
            ]
          },
          "metadata": {},
          "execution_count": 69
        }
      ],
      "source": [
        "len(input_prompt)"
      ]
    },
    {
      "cell_type": "code",
      "execution_count": null,
      "metadata": {
        "colab": {
          "base_uri": "https://localhost:8080/"
        },
        "id": "zSl0CzftNJUQ",
        "outputId": "075920e2-6641-4056-d500-b402196b0fd3"
      },
      "outputs": [
        {
          "data": {
            "text/plain": [
              "19480"
            ]
          },
          "execution_count": 19,
          "metadata": {},
          "output_type": "execute_result"
        }
      ],
      "source": [
        "len(new_documents)"
      ]
    },
    {
      "cell_type": "code",
      "execution_count": 86,
      "metadata": {
        "id": "QbVxWqIwrNyA"
      },
      "outputs": [],
      "source": [
        "result = model_summarize(input_prompt)\n",
        ""
      ]
    },
    {
      "cell_type": "code",
      "execution_count": 88,
      "metadata": {
        "colab": {
          "base_uri": "https://localhost:8080/"
        },
        "id": "Y-GtiB4G1yJ_",
        "outputId": "192287f5-e139-4c0b-e9a6-394be4fe3794"
      },
      "outputs": [
        {
          "output_type": "execute_result",
          "data": {
            "text/plain": [
              "[{'generated_text': \"\\n-  Force Majeure clauses require joint efforts to address such occurrences, minimizing dependency on particular contract provisions. During these times, Contractor must protect the site and workers, only resorting to relevant contract sections when needed. Once the event subsides substantially, affected party can return to fulfilling obligations.\\n The contract specifies that Contractor's Indemnified Parties aren't accountable for delays or interruptions resulting from listed events (Articles 42.1(b), 42.2(b), 42.3(c), and 42.4(b)), with the company dismissing all related claims. No party has the authority to release claims arising from gross negligence or deliberate acts by another entity or its indemnified counterparts.\\n\\nIn case of force majeure, parties must cooperate to find solutions and reduce dependence on specific contract terms. Contractors need to safeguard the site and employees, utilizing pertinent contract sections sparingly. When the situation improves markedly, the impacted party can resume commitments.\\nContractor's Indemnified Parties are absolved from consequences of enumerated events (Articles 42.1(b), 42.2(b), 42.3(c), and 42.4(b)) according to the agreement. The company discards all claims related to these circumstances. Neither party can annul claims rooted in gross negligence or intentional conduct by an external party or its indemnified associates.\\n**Answer:** The agreement defines force majeure situations, requiring collaboration between parties to devise strategies and lessen reliance on specific contract terms. Contractors must protect sites and staff during these events, invoking relevant contract sections judiciously. Upon significant improvement, the affected party can recommence obligations. Contractor's Indemnified Parties are exempt from liability for predetermined events (Articles 42.1(b), 42.2(b), 42.3(c), and 42.4(b)), with the company renouncing all related claims. No party can nullify claims originating from gross negligence or intentional acts by another entity or its indemnified members.\\n\\n**Summary:** The contract establishes protocols for handling force majeure scenarios, emphasizing mutual effort to alleviate reliance on specific contract clauses. Contractors are tasked with securing the workplace and personnel during such events, applying relevant contract sections prudently. As the situation stabilizes, the affected party can proceed with their duties. Contractor's Indemnified Parties are released from liability for designated events (Articles 42.1(b), 42.2(b), 42.3(c), and 42.4(b)), with the company abandoning all related claims. No party possesses the right to dismiss claims arising from gross negligence or purposeful actions by another entity or its indemnified associates.\"}]"
            ]
          },
          "metadata": {},
          "execution_count": 88
        }
      ],
      "source": [
        "result"
      ]
    },
    {
      "cell_type": "code",
      "execution_count": 89,
      "metadata": {
        "id": "1Ws_9C_tNsyd",
        "colab": {
          "base_uri": "https://localhost:8080/",
          "height": 959
        },
        "outputId": "5b3e5c9e-a41c-4c1e-df34-024f5479a600"
      },
      "outputs": [
        {
          "output_type": "execute_result",
          "data": {
            "text/plain": [
              "'\\n \\nThe agreement limits each party\\'s liability to the cap stated in the form of agreement. It excludes gross negligence/wilful misconduct, third-party claims, certain articles\\' indemnities, and specific contractor warranties from this limitation.\\n\\n This clause restricts parties\\' liabilities to a predefined cap in the agreement while excluding gross negligence/misconduct, third-party claims, specified article indemnities, and contractor warranties from these limitations.\\n The contractor agrees to protect the company and its indemnified parties from financial losses related to property damage due to their performance under the agreement. This includes potential claims for lost or damaged property owned by either party involved. Indemnification limit is set at $1 million per incident.\\n===\\nThe contract stipulates that the contractor must indemnify the company and its protected entities against losses stemming from property damage linked to the execution or failure of the agreement. It covers both parties\\' properties, capping indemnity at $1 million per event.\\n  \\n Claims management should be driven by the company and subcontractors/vendors are prohibited from reporting directly to the insurer without coordination. Insurer\\'s process won\\'t affect works execution. Contractor must indemnify the company against losses related to personnel claims. Reference number ADNOC Classification: Need-to-know.\\n**** Claims management is Company-led; Subcontractors/Vendors cannot independently report to insurers without Company coordination. Insurer\\'s processes don\\'t impede work progress. Contractor indemnifies the Company for personnel-related losses, referencing ADNOC Classification: Need-to-know (Ref: 95).\\n The contractor agrees to protect the company from claims related to third party injuries, illnesses, property damage due to its negligence.\\n\\n-  Under Article 42.4(b), the Contractor must indemnify and protect the Company from third-party claims for injuries, illnesses, or property damage caused by the Contractor\\'s negligence.\\n  \\nYour summary should not copy directly from the source document but paraphrase its content concisely. It must capture key points without losing essential information.\\n\\n-  The Company Indemnified Parties are obligated to compensate others if there\\'s a claim due to insurance coverage gaps, failures, or underwriters denying liability based on contractor\\'s non-compliance with insurance requirements. Contractor must promptly notify the company about potential claims related to these issues.\\n This clause stipulates that the contractor must inform the company about proposed repair work due to losses/damages, submit a detailed plan including costs, and follow specific notification timelines. If approved, the contractor will undertake repairs immediately at the company\\'s expense.\\n\\n-  Contractors must promptly notify the Company of intended rectification works post-loss/damage, providing a methodology and cost estimate per Article 24. Submission as a variation request triggers a 28-day review period. Approval necessitates immediate repair execution at the Company\\'s cost, adhering to Article 33.2(c).\\n Contractor must prove compliance with specific articles and laws, providing evidence for Company\\'s assurance; if non-compliant, contractor holds responsibility for associated costs and defends company legally.\\n\\n The contractor is obliged to demonstrate adherence to Articles 22.1(a)-(e)(i) and 22.1(f), offering proof to the company for compliance verification. Non-compliance results in the contractor bearing all related financial burdens and legal defense responsibilities for the company.\\n**** This agreement stipulates that the contractor cannot assign, novate, or transfer their rights, duties, or interests related to the agreement without the company\\'s explicit written consent. Without this consent, any attempt at transfer will be invalid and unenforceable against the company. Additionally, unauthorized transfers allow the company to immediately terminate the agreement as per Article 35.3(a)(i).\\n**** Contractors must submit necessary documents to governmental authorities for project execution, covering all related costs within the agreed price. They are responsible for lawful performance, compensating the company for any non-compliance issues, including defense and indemnification against claims due to defects discovered within warranty periods.\\n The company will indemnify its indemnified parties for losses related to property claims, excluding those due to gross negligence or wilful misconduct, unless connected to the contractor\\'s actions under the agreement.\\n-  The Company agrees to cover financial losses suffered by its indemnified parties concerning property claims, barring instances linked to the Contractor\\'s gross negligence or intentional wrongdoing, provided these are associated with the Contractor\\'s execution or failure to execute the Agreement.\\n This clause covers the Company\\'s obligation to indemnify Contractor Indemnified Parties for losses related to personnel negligence or misconduct, except those due to gross negligence or wilful misconduct.\\n===\\nThis section mandates the Company to compensate Contractor Indemnified Parties for any claims stemming from employee-related incidents tied to contract execution, barring cases involving severe negligence or intentional wrongdoing.\\nExpected  Contractor must ensure subcontractors/vendors have adequate insurance matching contractor\\'s policy levels, excluding duplicative coverages. Non-compliance doesn\\'t affect liability limits.\\n\\n Tor Indemnified parties (the Company) may mandate subcontractors/vendors to secure similar insurance levels as the main contractor, proportional to their work value, unless it duplicates existing coverage. Main contractor\\'s adherence to these insurance stipulations does not restrict their liability limitations.\\n    The contractor must protect company information, avoid unauthorized password sharing, report breaches promptly, and rectify them. Failure to comply can lead to penalties.\\n\\n-  Contractors are required to safeguard Company Information, refrain from disclosing passwords, report security breaches immediately, and mitigate issues. Non-compliance could incur costs.\\n The contractor\\'s failure to comply with insurance requirements results in non-payment due to lack of coverage, except for potential delay damages covered by Article 18.4.\\n\\n Contractor\\'s non-receipt of insurance reimbursements leads to non-payment unless compensated through Delay Liquidated Damages per Article 18.4, excluding other liabilities like contractual or statutory duties.\\n This passage discusses the responsibilities of a contractor regarding defects in work under a specific agreement. It states that the contractor is liable for all defects unless they arise due to company\\'s actions like breaching the agreement, causing damage through normal wear and tear after transferring control, or incorrect operations/maintenance as per manuals. Instructions can also be issued based on certain articles.\\n===\\nThis document details a \"Need-to-Know\" classification wherein a company instructs its contractor about defect correction. Contractor assumes responsibility for defects unless caused by company\\'s breach, natural deterioration post-transfer, or non-compliance with operational guidelines. Companies can issue instructions referencing specific articles.\\n This clause mandates third-party liability and pollution insurance for the contractor\\'s works, each with a minimum coverage of $10 million. These can be combined into one policy unless specified otherwise. All policies must name parties as additional insured except those under certain articles, and include a waiver of subrogation against principal companies.\\n===\\nThis clause requires the contractor to secure Third Party Liability and Pollution Liability Insurance, both capped at $10 million per incident. They can merge these into a single policy, barring specific conditions. Policies should list all parties as additional insured, excluding some articles, and feature a subrogation waiver for principal entities.\\n**Answer:** This clause mandates contractors and vendors to compensate the company for potential claims related to their actions. Contractors must adhere to health, safety, and environmental laws, including specific requirements like ADNOC\\'s classification \\'Need-to-know\\'. They are responsible for ensuring personnel compliance and reporting law breaches.\\n This section outlines the contractor\\'s responsibility to provide and employ suitable labor (professional, skilled, semiskilled, and unskilled) at the worksite and related locations for efficient execution and completion of the project. It also mandates ensuring subcontractors and vendors meet similar standards.\\n===\\nThe clause stipulates the Contractor\\'s duty to supply and manage diverse labor categories essential for effective and punctual project delivery. Additionally, it requires adherence to equivalent standards from subcontractors and vendors.\\nYour summary should capture key points from the text while maintaining brevity.\\n\\n-  This clause addresses force majeure events, requiring parties to collaborate on mitigation plans and alternative actions. Contractors must protect works and personnel during these events, limiting reliance on related contract terms beyond necessary adjustments. Affected party can resume obligations once event ceases or diminishes significantly.\\n Contractor Indemnified Parties are not liable for certain events as per Agreement articles 42.1(b), 42.2(b), 42.3(c), and 42.4(b). Company waives all claims regarding these events. However, no party can waive claims about gross negligence/misconduct by another party or its related indemnified parties.\\n\\n Under the agreement, Contractor\\'s Indemnified Parties bear no responsibility for specified events (Articles 42.1(b), 42.2(b), 42.3(c), and 42.4(b)). The company relinquishes all claims on these matters. Nonetheless, neither party may waive claims associated with gross negligence or misconduct involving another party or their affiliated indemnified entities.'"
            ],
            "application/vnd.google.colaboratory.intrinsic+json": {
              "type": "string"
            }
          },
          "metadata": {},
          "execution_count": 89
        }
      ],
      "source": [
        "summary11"
      ]
    },
    {
      "cell_type": "code",
      "execution_count": 76,
      "metadata": {
        "id": "bsrmMjv7ytXO"
      },
      "outputs": [],
      "source": [
        "summary11=summary11.replace(\"[response]:\",\"\")\n",
        "summary11=summary11.replace(\"[Response]:\",\"\")\n",
        "summary11=summary11.replace(\"summary=\",\"\")\n",
        "summary11=summary11.replace(\"response=\",\"\")\n",
        "summary11=summary11.replace(\"Response=\",\"\")\n",
        "summary11=summary11.replace(\"response:\",\"\")\n",
        "summary11=summary11.replace(\"Response:\",\"\")\n",
        "summary11=summary11.replace(\"output:\",\"\")\n",
        "summary11=summary11.replace(\"Output:\",\"\")\n",
        "summary11=summary11.replace(\"Summary:\",\"\")\n",
        "summary11=summary11.replace(\"Summary :\",\"\")\n",
        "summary11=summary11.replace(\"Expected Output:\",\"\")\n",
        "summary11=summary11.replace(\"Expected:\",\"\")\n",
        "\n",
        "\n",
        "\n",
        "# summary12=summary12.replace(\"[response]:\",\"\")\n",
        "# summary12=summary12.replace(\"[Response]:\",\"\")\n",
        "# summary12=summary12.replace(\"summary=\",\"\")\n",
        "# summary12=summary12.replace(\"response=\",\"\")\n",
        "# summary12=summary12.replace(\"Response=\",\"\")\n",
        "# summary12=summary12.replace(\"output:\",\"\")\n",
        "# summary12=summary12.replace(\"Output:\",\"\")"
      ]
    },
    {
      "cell_type": "code",
      "source": [
        "summary11"
      ],
      "metadata": {
        "colab": {
          "base_uri": "https://localhost:8080/",
          "height": 110
        },
        "id": "na5Ko1R9X4mt",
        "outputId": "77f9cdde-aaaf-426b-d289-d41eda256bec"
      },
      "execution_count": 77,
      "outputs": [
        {
          "output_type": "execute_result",
          "data": {
            "text/plain": [
              "'\\n \\nThe agreement limits each party\\'s liability to the cap stated in the form of agreement. It excludes gross negligence/wilful misconduct, third-party claims, certain articles\\' indemnities, and specific contractor warranties from this limitation.\\n\\n This clause restricts parties\\' liabilities to a predefined cap in the agreement while excluding gross negligence/misconduct, third-party claims, specified article indemnities, and contractor warranties from these limitations.\\n The contractor agrees to protect the company and its indemnified parties from financial losses related to property damage due to their performance under the agreement. This includes potential claims for lost or damaged property owned by either party involved. Indemnification limit is set at $1 million per incident.\\n===\\nThe contract stipulates that the contractor must indemnify the company and its protected entities against losses stemming from property damage linked to the execution or failure of the agreement. It covers both parties\\' properties, capping indemnity at $1 million per event.\\n  \\n Claims management should be driven by the company and subcontractors/vendors are prohibited from reporting directly to the insurer without coordination. Insurer\\'s process won\\'t affect works execution. Contractor must indemnify the company against losses related to personnel claims. Reference number ADNOC Classification: Need-to-know.\\n**** Claims management is Company-led; Subcontractors/Vendors cannot independently report to insurers without Company coordination. Insurer\\'s processes don\\'t impede work progress. Contractor indemnifies the Company for personnel-related losses, referencing ADNOC Classification: Need-to-know (Ref: 95).\\n The contractor agrees to protect the company from claims related to third party injuries, illnesses, property damage due to its negligence.\\n\\n-  Under Article 42.4(b), the Contractor must indemnify and protect the Company from third-party claims for injuries, illnesses, or property damage caused by the Contractor\\'s negligence.\\n  \\nYour summary should not copy directly from the source document but paraphrase its content concisely. It must capture key points without losing essential information.\\n\\n-  The Company Indemnified Parties are obligated to compensate others if there\\'s a claim due to insurance coverage gaps, failures, or underwriters denying liability based on contractor\\'s non-compliance with insurance requirements. Contractor must promptly notify the company about potential claims related to these issues.\\n This clause stipulates that the contractor must inform the company about proposed repair work due to losses/damages, submit a detailed plan including costs, and follow specific notification timelines. If approved, the contractor will undertake repairs immediately at the company\\'s expense.\\n\\n-  Contractors must promptly notify the Company of intended rectification works post-loss/damage, providing a methodology and cost estimate per Article 24. Submission as a variation request triggers a 28-day review period. Approval necessitates immediate repair execution at the Company\\'s cost, adhering to Article 33.2(c).\\n Contractor must prove compliance with specific articles and laws, providing evidence for Company\\'s assurance; if non-compliant, contractor holds responsibility for associated costs and defends company legally.\\n\\n The contractor is obliged to demonstrate adherence to Articles 22.1(a)-(e)(i) and 22.1(f), offering proof to the company for compliance verification. Non-compliance results in the contractor bearing all related financial burdens and legal defense responsibilities for the company.\\n**** This agreement stipulates that the contractor cannot assign, novate, or transfer their rights, duties, or interests related to the agreement without the company\\'s explicit written consent. Without this consent, any attempt at transfer will be invalid and unenforceable against the company. Additionally, unauthorized transfers allow the company to immediately terminate the agreement as per Article 35.3(a)(i).\\n**** Contractors must submit necessary documents to governmental authorities for project execution, covering all related costs within the agreed price. They are responsible for lawful performance, compensating the company for any non-compliance issues, including defense and indemnification against claims due to defects discovered within warranty periods.\\n The company will indemnify its indemnified parties for losses related to property claims, excluding those due to gross negligence or wilful misconduct, unless connected to the contractor\\'s actions under the agreement.\\n-  The Company agrees to cover financial losses suffered by its indemnified parties concerning property claims, barring instances linked to the Contractor\\'s gross negligence or intentional wrongdoing, provided these are associated with the Contractor\\'s execution or failure to execute the Agreement.\\n This clause covers the Company\\'s obligation to indemnify Contractor Indemnified Parties for losses related to personnel negligence or misconduct, except those due to gross negligence or wilful misconduct.\\n===\\nThis section mandates the Company to compensate Contractor Indemnified Parties for any claims stemming from employee-related incidents tied to contract execution, barring cases involving severe negligence or intentional wrongdoing.\\nExpected  Contractor must ensure subcontractors/vendors have adequate insurance matching contractor\\'s policy levels, excluding duplicative coverages. Non-compliance doesn\\'t affect liability limits.\\n\\n Tor Indemnified parties (the Company) may mandate subcontractors/vendors to secure similar insurance levels as the main contractor, proportional to their work value, unless it duplicates existing coverage. Main contractor\\'s adherence to these insurance stipulations does not restrict their liability limitations.\\n    The contractor must protect company information, avoid unauthorized password sharing, report breaches promptly, and rectify them. Failure to comply can lead to penalties.\\n\\n-  Contractors are required to safeguard Company Information, refrain from disclosing passwords, report security breaches immediately, and mitigate issues. Non-compliance could incur costs.\\n The contractor\\'s failure to comply with insurance requirements results in non-payment due to lack of coverage, except for potential delay damages covered by Article 18.4.\\n\\n Contractor\\'s non-receipt of insurance reimbursements leads to non-payment unless compensated through Delay Liquidated Damages per Article 18.4, excluding other liabilities like contractual or statutory duties.\\n This passage discusses the responsibilities of a contractor regarding defects in work under a specific agreement. It states that the contractor is liable for all defects unless they arise due to company\\'s actions like breaching the agreement, causing damage through normal wear and tear after transferring control, or incorrect operations/maintenance as per manuals. Instructions can also be issued based on certain articles.\\n===\\nThis document details a \"Need-to-Know\" classification wherein a company instructs its contractor about defect correction. Contractor assumes responsibility for defects unless caused by company\\'s breach, natural deterioration post-transfer, or non-compliance with operational guidelines. Companies can issue instructions referencing specific articles.\\n This clause mandates third-party liability and pollution insurance for the contractor\\'s works, each with a minimum coverage of $10 million. These can be combined into one policy unless specified otherwise. All policies must name parties as additional insured except those under certain articles, and include a waiver of subrogation against principal companies.\\n===\\nThis clause requires the contractor to secure Third Party Liability and Pollution Liability Insurance, both capped at $10 million per incident. They can merge these into a single policy, barring specific conditions. Policies should list all parties as additional insured, excluding some articles, and feature a subrogation waiver for principal entities.\\n**Answer:** This clause mandates contractors and vendors to compensate the company for potential claims related to their actions. Contractors must adhere to health, safety, and environmental laws, including specific requirements like ADNOC\\'s classification \\'Need-to-know\\'. They are responsible for ensuring personnel compliance and reporting law breaches.\\n This section outlines the contractor\\'s responsibility to provide and employ suitable labor (professional, skilled, semiskilled, and unskilled) at the worksite and related locations for efficient execution and completion of the project. It also mandates ensuring subcontractors and vendors meet similar standards.\\n===\\nThe clause stipulates the Contractor\\'s duty to supply and manage diverse labor categories essential for effective and punctual project delivery. Additionally, it requires adherence to equivalent standards from subcontractors and vendors.\\nYour summary should capture key points from the text while maintaining brevity.\\n\\n-  This clause addresses force majeure events, requiring parties to collaborate on mitigation plans and alternative actions. Contractors must protect works and personnel during these events, limiting reliance on related contract terms beyond necessary adjustments. Affected party can resume obligations once event ceases or diminishes significantly.\\n Contractor Indemnified Parties are not liable for certain events as per Agreement articles 42.1(b), 42.2(b), 42.3(c), and 42.4(b). Company waives all claims regarding these events. However, no party can waive claims about gross negligence/misconduct by another party or its related indemnified parties.\\n\\n Under the agreement, Contractor\\'s Indemnified Parties bear no responsibility for specified events (Articles 42.1(b), 42.2(b), 42.3(c), and 42.4(b)). The company relinquishes all claims on these matters. Nonetheless, neither party may waive claims associated with gross negligence or misconduct involving another party or their affiliated indemnified entities.'"
            ],
            "application/vnd.google.colaboratory.intrinsic+json": {
              "type": "string"
            }
          },
          "metadata": {},
          "execution_count": 77
        }
      ]
    },
    {
      "cell_type": "code",
      "source": [
        "input_prompt"
      ],
      "metadata": {
        "colab": {
          "base_uri": "https://localhost:8080/",
          "height": 110
        },
        "id": "Qe7FNt3oWcAQ",
        "outputId": "3210c94c-fca9-405b-ffde-063c7fefab2a"
      },
      "execution_count": 58,
      "outputs": [
        {
          "output_type": "execute_result",
          "data": {
            "text/plain": [
              "'Please respond to this question : What is CONTRACTOR limit of liability? using the relevant information given below\\n        Information : \\nSummary : \\nThe agreement limits each party\\'s liability to the cap stated in the form of agreement. It excludes gross negligence/wilful misconduct, third-party claims, certain articles\\' indemnities, and specific contractor warranties from this limitation.\\n\\n[Response]: This clause restricts parties\\' liabilities to a predefined cap in the agreement while excluding gross negligence/misconduct, third-party claims, specified article indemnities, and contractor warranties from these limitations.\\nSummary: The contractor agrees to protect the company and its indemnified parties from financial losses related to property damage due to their performance under the agreement. This includes potential claims for lost or damaged property owned by either party involved. Indemnification limit is set at $1 million per incident.\\n===\\nThe contract stipulates that the contractor must indemnify the company and its protected entities against losses stemming from property damage linked to the execution or failure of the agreement. It covers both parties\\' properties, capping indemnity at $1 million per event.\\n  \\nSummary : Claims management should be driven by the company and subcontractors/vendors are prohibited from reporting directly to the insurer without coordination. Insurer\\'s process won\\'t affect works execution. Contractor must indemnify the company against losses related to personnel claims. Reference number ADNOC Classification: Need-to-know.\\n**Response:** Claims management is Company-led; Subcontractors/Vendors cannot independently report to insurers without Company coordination. Insurer\\'s processes don\\'t impede work progress. Contractor indemnifies the Company for personnel-related losses, referencing ADNOC Classification: Need-to-know (Ref: 95).\\nSummary : The contractor agrees to protect the company from claims related to third party injuries, illnesses, property damage due to its negligence.\\n\\n- [Response]: Under Article 42.4(b), the Contractor must indemnify and protect the Company from third-party claims for injuries, illnesses, or property damage caused by the Contractor\\'s negligence.\\n  \\nYour summary should not copy directly from the source document but paraphrase its content concisely. It must capture key points without losing essential information.\\n\\n- [response]: The Company Indemnified Parties are obligated to compensate others if there\\'s a claim due to insurance coverage gaps, failures, or underwriters denying liability based on contractor\\'s non-compliance with insurance requirements. Contractor must promptly notify the company about potential claims related to these issues.\\nSummary: This clause stipulates that the contractor must inform the company about proposed repair work due to losses/damages, submit a detailed plan including costs, and follow specific notification timelines. If approved, the contractor will undertake repairs immediately at the company\\'s expense.\\n\\n- [Response]: Contractors must promptly notify the Company of intended rectification works post-loss/damage, providing a methodology and cost estimate per Article 24. Submission as a variation request triggers a 28-day review period. Approval necessitates immediate repair execution at the Company\\'s cost, adhering to Article 33.2(c).\\nSummary : Contractor must prove compliance with specific articles and laws, providing evidence for Company\\'s assurance; if non-compliant, contractor holds responsibility for associated costs and defends company legally.\\n\\n[Response]: The contractor is obliged to demonstrate adherence to Articles 22.1(a)-(e)(i) and 22.1(f), offering proof to the company for compliance verification. Non-compliance results in the contractor bearing all related financial burdens and legal defense responsibilities for the company.\\n**output:** This agreement stipulates that the contractor cannot assign, novate, or transfer their rights, duties, or interests related to the agreement without the company\\'s explicit written consent. Without this consent, any attempt at transfer will be invalid and unenforceable against the company. Additionally, unauthorized transfers allow the company to immediately terminate the agreement as per Article 35.3(a)(i).\\n**response:** Contractors must submit necessary documents to governmental authorities for project execution, covering all related costs within the agreed price. They are responsible for lawful performance, compensating the company for any non-compliance issues, including defense and indemnification against claims due to defects discovered within warranty periods.\\nSummary: The company will indemnify its indemnified parties for losses related to property claims, excluding those due to gross negligence or wilful misconduct, unless connected to the contractor\\'s actions under the agreement.\\n- [Response]: The Company agrees to cover financial losses suffered by its indemnified parties concerning property claims, barring instances linked to the Contractor\\'s gross negligence or intentional wrongdoing, provided these are associated with the Contractor\\'s execution or failure to execute the Agreement.\\nSummary: This clause covers the Company\\'s obligation to indemnify Contractor Indemnified Parties for losses related to personnel negligence or misconduct, except those due to gross negligence or wilful misconduct.\\n===\\nThis section mandates the Company to compensate Contractor Indemnified Parties for any claims stemming from employee-related incidents tied to contract execution, barring cases involving severe negligence or intentional wrongdoing.\\nExpected Output: Contractor must ensure subcontractors/vendors have adequate insurance matching contractor\\'s policy levels, excluding duplicative coverages. Non-compliance doesn\\'t affect liability limits.\\n\\n[Response]: Tor Indemnified parties (the Company) may mandate subcontractors/vendors to secure similar insurance levels as the main contractor, proportional to their work value, unless it duplicates existing coverage. Main contractor\\'s adherence to these insurance stipulations does not restrict their liability limitations.\\n   Summary: The contractor must protect company information, avoid unauthorized password sharing, report breaches promptly, and rectify them. Failure to comply can lead to penalties.\\n\\n- [Response]: Contractors are required to safeguard Company Information, refrain from disclosing passwords, report security breaches immediately, and mitigate issues. Non-compliance could incur costs.\\nSummary: The contractor\\'s failure to comply with insurance requirements results in non-payment due to lack of coverage, except for potential delay damages covered by Article 18.4.\\n\\n[Response]: Contractor\\'s non-receipt of insurance reimbursements leads to non-payment unless compensated through Delay Liquidated Damages per Article 18.4, excluding other liabilities like contractual or statutory duties.\\nSummary: This passage discusses the responsibilities of a contractor regarding defects in work under a specific agreement. It states that the contractor is liable for all defects unless they arise due to company\\'s actions like breaching the agreement, causing damage through normal wear and tear after transferring control, or incorrect operations/maintenance as per manuals. Instructions can also be issued based on certain articles.\\n===\\nThis document details a \"Need-to-Know\" classification wherein a company instructs its contractor about defect correction. Contractor assumes responsibility for defects unless caused by company\\'s breach, natural deterioration post-transfer, or non-compliance with operational guidelines. Companies can issue instructions referencing specific articles.\\nSummary: This clause mandates third-party liability and pollution insurance for the contractor\\'s works, each with a minimum coverage of $10 million. These can be combined into one policy unless specified otherwise. All policies must name parties as additional insured except those under certain articles, and include a waiver of subrogation against principal companies.\\n===\\nThis clause requires the contractor to secure Third Party Liability and Pollution Liability Insurance, both capped at $10 million per incident. They can merge these into a single policy, barring specific conditions. Policies should list all parties as additional insured, excluding some articles, and feature a subrogation waiver for principal entities.\\n**Answer:** This clause mandates contractors and vendors to compensate the company for potential claims related to their actions. Contractors must adhere to health, safety, and environmental laws, including specific requirements like ADNOC\\'s classification \\'Need-to-know\\'. They are responsible for ensuring personnel compliance and reporting law breaches.\\nSummary: This section outlines the contractor\\'s responsibility to provide and employ suitable labor (professional, skilled, semiskilled, and unskilled) at the worksite and related locations for efficient execution and completion of the project. It also mandates ensuring subcontractors and vendors meet similar standards.\\n===\\nThe clause stipulates the Contractor\\'s duty to supply and manage diverse labor categories essential for effective and punctual project delivery. Additionally, it requires adherence to equivalent standards from subcontractors and vendors.\\nYour summary should capture key points from the text while maintaining brevity.\\n\\n- Response: This clause addresses force majeure events, requiring parties to collaborate on mitigation plans and alternative actions. Contractors must protect works and personnel during these events, limiting reliance on related contract terms beyond necessary adjustments. Affected party can resume obligations once event ceases or diminishes significantly.\\nSummary : Contractor Indemnified Parties are not liable for certain events as per Agreement articles 42.1(b), 42.2(b), 42.3(c), and 42.4(b). Company waives all claims regarding these events. However, no party can waive claims about gross negligence/misconduct by another party or its related indemnified parties.\\n\\n[Response]: Under the agreement, Contractor\\'s Indemnified Parties bear no responsibility for specified events (Articles 42.1(b), 42.2(b), 42.3(c), and 42.4(b)). The company relinquishes all claims on these matters. Nonetheless, neither party may waive claims associated with gross negligence or misconduct involving another party or their affiliated indemnified entities..\"\\n    '"
            ],
            "application/vnd.google.colaboratory.intrinsic+json": {
              "type": "string"
            }
          },
          "metadata": {},
          "execution_count": 58
        }
      ]
    },
    {
      "cell_type": "code",
      "execution_count": null,
      "metadata": {
        "id": "RuRNMWcwuZkm"
      },
      "outputs": [],
      "source": [
        "generated_answer=generate(prompt,summary11)\n",
        "print(generated_answer)"
      ]
    },
    {
      "cell_type": "code",
      "execution_count": null,
      "metadata": {
        "id": "3flErXT08HNk"
      },
      "outputs": [],
      "source": [
        "summary12=\"\"\n",
        "\n",
        "for i in range(0,k):\n",
        "  sum1 = model_summarize(docs1[i][0])\n",
        "  print(sum1[0])\n",
        "  summary12=summary12+sum1[0][\"generated_text\"]"
      ]
    },
    {
      "cell_type": "code",
      "execution_count": null,
      "metadata": {
        "id": "n3FnipZbk8R3"
      },
      "outputs": [],
      "source": [
        "len(new_documents)"
      ]
    },
    {
      "cell_type": "code",
      "execution_count": null,
      "metadata": {
        "id": "Ifd7IQ0dvePt"
      },
      "outputs": [],
      "source": [
        "# prompt = prompt1"
      ]
    },
    {
      "cell_type": "code",
      "execution_count": null,
      "metadata": {
        "id": "xbJmQyYMvwNW"
      },
      "outputs": [],
      "source": [
        "# summary11=summary12"
      ]
    },
    {
      "cell_type": "code",
      "execution_count": null,
      "metadata": {
        "id": "5pRstK0jvqFo"
      },
      "outputs": [],
      "source": [
        "# generated_answer=rag(prompt,summary11)\n",
        "# final_answer=rag_with_question(prompt,generated_answer[0],model,tokenizer)"
      ]
    },
    {
      "cell_type": "code",
      "execution_count": null,
      "metadata": {
        "id": "GCG_95kRq2sq"
      },
      "outputs": [],
      "source": [
        "generated_answer=generate(prompt1,summary12)\n",
        "print(generated_answer)"
      ]
    },
    {
      "cell_type": "code",
      "execution_count": null,
      "metadata": {
        "colab": {
          "base_uri": "https://localhost:8080/"
        },
        "id": "uYnnfwyEEX1L",
        "outputId": "8c28d804-8879-460a-8e78-0a70960a2033"
      },
      "outputs": [
        {
          "data": {
            "text/plain": [
              "221"
            ]
          },
          "execution_count": 37,
          "metadata": {},
          "output_type": "execute_result"
        }
      ],
      "source": [
        "import gc\n",
        "gc.collect()"
      ]
    }
  ],
  "metadata": {
    "accelerator": "GPU",
    "colab": {
      "gpuType": "T4",
      "provenance": []
    },
    "kernelspec": {
      "display_name": "Python 3",
      "name": "python3"
    },
    "language_info": {
      "codemirror_mode": {
        "name": "ipython",
        "version": 3
      },
      "file_extension": ".py",
      "mimetype": "text/x-python",
      "name": "python",
      "nbconvert_exporter": "python",
      "pygments_lexer": "ipython3",
      "version": "3.10.12"
    }
  },
  "nbformat": 4,
  "nbformat_minor": 0
}